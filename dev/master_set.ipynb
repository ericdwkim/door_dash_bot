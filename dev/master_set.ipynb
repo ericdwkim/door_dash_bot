{
 "cells": [
  {
   "cell_type": "code",
   "execution_count": 157,
   "outputs": [],
   "source": [
    "import pandas as pd\n",
    "import time\n",
    "import json\n",
    "import csv"
   ],
   "metadata": {
    "collapsed": false,
    "ExecuteTime": {
     "end_time": "2023-10-02T17:15:42.710444Z",
     "start_time": "2023-10-02T17:15:42.697067Z"
    }
   },
   "id": "226b9f22e3864648"
  },
  {
   "cell_type": "code",
   "execution_count": 183,
   "id": "initial_id",
   "metadata": {
    "collapsed": true,
    "ExecuteTime": {
     "end_time": "2023-10-02T17:50:03.319348Z",
     "start_time": "2023-10-02T17:50:03.295477Z"
    }
   },
   "outputs": [],
   "source": [
    "file_path = '/Users/ekim/workspace/personal/dd-bot/dev/store_list.xlsx'\n",
    "# # print(file_path)\n",
    "\n",
    "store_info_masterset_df = pd.read_excel(file_path, index_col=0)\n",
    "\n"
   ]
  },
  {
   "cell_type": "code",
   "execution_count": 184,
   "outputs": [
    {
     "data": {
      "text/plain": "         Site # Site Description                               Address  \\\nStore #                                                                  \n1             1     Kwik Chek #1                     2226 North Center   \n3             3     Kwik Chek #3                            971 FM 273   \n5             5     Kwik Chek #5                                   NaN   \n6             6     Kwik Chek #6                      816 North Center   \n7             7     Kwik Chek #7                            101 Hwy 69   \n8             8     Kwik Chek #8                            308 Hwy 69   \n10           10    Kwik Chek #10                    1741 North Hwy 121   \n12           12    Kwik Chek #12                          102 S Hwy 78   \n13           13    Kwik Chek #13                         102 West Main   \n14           14    Kwik Chek #14                         201 South 9th   \n16           16    Kwik Chek #16                        2320 West Main   \n17           17    Kwik Chek #17                 13503 S State Hwy 121   \n19           19    Kwik Chek #19                      617 South Hwy 78   \n20           20    Kwik Chek #20                    5004 Wesley Street   \n24           24    Kwik Chek #24                           3812 Hwy 70   \n26           26    Kwik Chek #26                              503 SW C   \n27           27    Kwik Chek #27                        1005 East Main   \n32           32           TXB 32              1001 Van Alstyne Parkway   \n34           34    Kwik Chek #34              2965 South Church Street   \n37           37    Kwik Chek #37                    103 South Santa Fe   \n38           38    Kwik Chek #38                    505 South Garfield   \n50           50    Kwik Chek #50                     3002 Thorton Lane   \n52           52    Kwik Chek #52                    1003 Hwy 1431 West   \n53           53    Kwik Chek #53                    1301 Hwy 281 North   \n54           54    Kwik Chek #54                 201 Hwy 281 & Hwy 290   \n55           55    Kwik Chek #55                   14417-A Hwy 71 West   \n57           57    Kwik Chek #57                   14620 Ranch Road 12   \n59           59    Kwik Chek #59                      440 Bandera Road   \n60           60    Kwik Chek #60                    13006 Bandera Road   \n61           61    Kwik Chek #61                     1001 Hwy 16 South   \n62           62    Kwik Chek #62                        21024 Hwy 71 W   \n63           63           TXB 63                         15701 W SH 71   \n64           64    Kwik Chek #64             2103 Ranch Road 620 South   \n65           65    Kwik Chek #65                   1402 Williams Drive   \n66           66    Kwik Chek #66               15411 East State Hwy 29   \n67           67           TXB 67                     3702 West FM 2147   \n68           68    Kwik Chek #68                       145 Lehman Road   \n69           69           TXB 69                          8103 RR 2243   \n70           70    Kwik Chek #70                        800 IH 20 West   \n71           71           TXB 71                       2503 Rankin Hwy   \n72           72           TXB 72  2104 East William Joel Bryan Parkway   \n73           73           TXB 73            3071 University Drive East   \n79           79    Kwik Chek #79                  500 W Thorton Street   \n80           80    Kwik Chek #80                    801 West Lafayette   \n81           81    Kwik Chek #81                      7045 North IH 35   \n82           82    Kwik Chek #82                     780 Carter Street   \n83           83    Kwik Chek #83                      401 N 1st Street   \n84           84    Kwik Chek #84                     1000 N 9th Street   \n85           85    Kwik Chek #85                      1901 N US Hwy 83   \n86           86    Kwik Chek #86                      1900 N US Hwy 83   \n87           87    Kwik Chek #87                       481 W US Hwy 57   \n88           88    Kwik Chek #88                  2757 N Veterans Blvd   \n89           89    Kwik Chek #89                     2196 El Indio Hwy   \n\n                      City      County State    Zip         Notes  \nStore #                                                            \n1                   Bonham      Fannin    TX  75418           NaN  \n3                   Bonham      Fannin    TX  75418           NaN  \n5                   Bonham      Fannin    TX  75418  Not Open Yet  \n6                   Bonham      Fannin    TX  75418           NaN  \n7                  Celeste        Hunt    TX  75423           NaN  \n8                  Leonard      Fannin    TX  75452           NaN  \n10                  Bonham      Fannin    TX  75418           NaN  \n12                 Achille       Bryan    OK  74720           NaN  \n13                  Calera       Bryan    OK  74730           NaN  \n14                  Durant       Bryan    OK  74701           NaN  \n16                  Durant       Bryan    OK  74701           NaN  \n17                 Trenton      Fannin    TX  75490           NaN  \n19                   Wylie      Collin    TX  75098           NaN  \n20              Greenville        Hunt    TX  75402           NaN  \n24                    Hugo     Choctaw    OK  74743           NaN  \n26                 Antlers  Pushmataha    OK  74523           NaN  \n27             Honey Grove      Fannin    TX  75446           NaN  \n32             Van Alstyne     Grayson    TX  75495           NaN  \n34                   Paris       Lamar    TX  75460           NaN  \n37              Wolfe City        Hunt    TX  75496           NaN  \n38                   Kiowa   Pittsburg    OK  74553           NaN  \n50                  Temple        Bell    TX  76502           NaN  \n52            Marble Falls      Burnet    TX  78654           NaN  \n53            Marble Falls      Burnet    TX  78654           NaN  \n54            Johnson City      Blanco    TX  78636           NaN  \n55                  Austin      Travis    TX  78738           NaN  \n57               Wimberley        Hays    TX  78676           NaN  \n59                  Boerne     Kendall    TX  78006           NaN  \n60                 Helotes       Bexar    TX  78023           NaN  \n61          Fredericksburg   Gillespie    TX  78624           NaN  \n62               Spicewood      Travis    TX  78669           NaN  \n63                Bee Cave      Travis    TX  78738           NaN  \n64                 Lakeway      Travis    TX  78734           NaN  \n65              Georgetown  Williamson    TX  78628           NaN  \n66            Buchanan Dam       Llano    TX  78609           NaN  \n67       Cottonwood Shores       Llano    TX  78657           NaN  \n68                    Kyle        Hays    TX  78640  Not Open Yet  \n69                 Leander  Williamson    TX  78641           NaN  \n70              Big Spring      Howard    TX  79720           NaN  \n71                 Midland     Midland    TX  79706           NaN  \n72                   Bryan      Brazos    TX  77802  Not Open Yet  \n73                   Bryan      Brazos    TX  77840  Not Open Yet  \n79            Three Rivers    Live Oak    TX  78071           NaN  \n80                  Laredo        Webb    TX  78041           NaN  \n81                  Laredo        Webb    TX  78041           NaN  \n82                Asherton      Dimmit    TX  78827           NaN  \n83         Carrizo Springs      Dimmit    TX  78834           NaN  \n84         Carrizo Springs      Dimmit    TX  78834           NaN  \n85            Crystal City      Zavala    TX  78839           NaN  \n86            Crystal City      Zavala    TX  78839           NaN  \n87                La Pryor      Zavala    TX  78872           NaN  \n88              Eagle Pass    Maverick    TX  78852           NaN  \n89              Eagle Pass    Maverick    TX  78852           NaN  ",
      "text/html": "<div>\n<style scoped>\n    .dataframe tbody tr th:only-of-type {\n        vertical-align: middle;\n    }\n\n    .dataframe tbody tr th {\n        vertical-align: top;\n    }\n\n    .dataframe thead th {\n        text-align: right;\n    }\n</style>\n<table border=\"1\" class=\"dataframe\">\n  <thead>\n    <tr style=\"text-align: right;\">\n      <th></th>\n      <th>Site #</th>\n      <th>Site Description</th>\n      <th>Address</th>\n      <th>City</th>\n      <th>County</th>\n      <th>State</th>\n      <th>Zip</th>\n      <th>Notes</th>\n    </tr>\n    <tr>\n      <th>Store #</th>\n      <th></th>\n      <th></th>\n      <th></th>\n      <th></th>\n      <th></th>\n      <th></th>\n      <th></th>\n      <th></th>\n    </tr>\n  </thead>\n  <tbody>\n    <tr>\n      <th>1</th>\n      <td>1</td>\n      <td>Kwik Chek #1</td>\n      <td>2226 North Center</td>\n      <td>Bonham</td>\n      <td>Fannin</td>\n      <td>TX</td>\n      <td>75418</td>\n      <td>NaN</td>\n    </tr>\n    <tr>\n      <th>3</th>\n      <td>3</td>\n      <td>Kwik Chek #3</td>\n      <td>971 FM 273</td>\n      <td>Bonham</td>\n      <td>Fannin</td>\n      <td>TX</td>\n      <td>75418</td>\n      <td>NaN</td>\n    </tr>\n    <tr>\n      <th>5</th>\n      <td>5</td>\n      <td>Kwik Chek #5</td>\n      <td>NaN</td>\n      <td>Bonham</td>\n      <td>Fannin</td>\n      <td>TX</td>\n      <td>75418</td>\n      <td>Not Open Yet</td>\n    </tr>\n    <tr>\n      <th>6</th>\n      <td>6</td>\n      <td>Kwik Chek #6</td>\n      <td>816 North Center</td>\n      <td>Bonham</td>\n      <td>Fannin</td>\n      <td>TX</td>\n      <td>75418</td>\n      <td>NaN</td>\n    </tr>\n    <tr>\n      <th>7</th>\n      <td>7</td>\n      <td>Kwik Chek #7</td>\n      <td>101 Hwy 69</td>\n      <td>Celeste</td>\n      <td>Hunt</td>\n      <td>TX</td>\n      <td>75423</td>\n      <td>NaN</td>\n    </tr>\n    <tr>\n      <th>8</th>\n      <td>8</td>\n      <td>Kwik Chek #8</td>\n      <td>308 Hwy 69</td>\n      <td>Leonard</td>\n      <td>Fannin</td>\n      <td>TX</td>\n      <td>75452</td>\n      <td>NaN</td>\n    </tr>\n    <tr>\n      <th>10</th>\n      <td>10</td>\n      <td>Kwik Chek #10</td>\n      <td>1741 North Hwy 121</td>\n      <td>Bonham</td>\n      <td>Fannin</td>\n      <td>TX</td>\n      <td>75418</td>\n      <td>NaN</td>\n    </tr>\n    <tr>\n      <th>12</th>\n      <td>12</td>\n      <td>Kwik Chek #12</td>\n      <td>102 S Hwy 78</td>\n      <td>Achille</td>\n      <td>Bryan</td>\n      <td>OK</td>\n      <td>74720</td>\n      <td>NaN</td>\n    </tr>\n    <tr>\n      <th>13</th>\n      <td>13</td>\n      <td>Kwik Chek #13</td>\n      <td>102 West Main</td>\n      <td>Calera</td>\n      <td>Bryan</td>\n      <td>OK</td>\n      <td>74730</td>\n      <td>NaN</td>\n    </tr>\n    <tr>\n      <th>14</th>\n      <td>14</td>\n      <td>Kwik Chek #14</td>\n      <td>201 South 9th</td>\n      <td>Durant</td>\n      <td>Bryan</td>\n      <td>OK</td>\n      <td>74701</td>\n      <td>NaN</td>\n    </tr>\n    <tr>\n      <th>16</th>\n      <td>16</td>\n      <td>Kwik Chek #16</td>\n      <td>2320 West Main</td>\n      <td>Durant</td>\n      <td>Bryan</td>\n      <td>OK</td>\n      <td>74701</td>\n      <td>NaN</td>\n    </tr>\n    <tr>\n      <th>17</th>\n      <td>17</td>\n      <td>Kwik Chek #17</td>\n      <td>13503 S State Hwy 121</td>\n      <td>Trenton</td>\n      <td>Fannin</td>\n      <td>TX</td>\n      <td>75490</td>\n      <td>NaN</td>\n    </tr>\n    <tr>\n      <th>19</th>\n      <td>19</td>\n      <td>Kwik Chek #19</td>\n      <td>617 South Hwy 78</td>\n      <td>Wylie</td>\n      <td>Collin</td>\n      <td>TX</td>\n      <td>75098</td>\n      <td>NaN</td>\n    </tr>\n    <tr>\n      <th>20</th>\n      <td>20</td>\n      <td>Kwik Chek #20</td>\n      <td>5004 Wesley Street</td>\n      <td>Greenville</td>\n      <td>Hunt</td>\n      <td>TX</td>\n      <td>75402</td>\n      <td>NaN</td>\n    </tr>\n    <tr>\n      <th>24</th>\n      <td>24</td>\n      <td>Kwik Chek #24</td>\n      <td>3812 Hwy 70</td>\n      <td>Hugo</td>\n      <td>Choctaw</td>\n      <td>OK</td>\n      <td>74743</td>\n      <td>NaN</td>\n    </tr>\n    <tr>\n      <th>26</th>\n      <td>26</td>\n      <td>Kwik Chek #26</td>\n      <td>503 SW C</td>\n      <td>Antlers</td>\n      <td>Pushmataha</td>\n      <td>OK</td>\n      <td>74523</td>\n      <td>NaN</td>\n    </tr>\n    <tr>\n      <th>27</th>\n      <td>27</td>\n      <td>Kwik Chek #27</td>\n      <td>1005 East Main</td>\n      <td>Honey Grove</td>\n      <td>Fannin</td>\n      <td>TX</td>\n      <td>75446</td>\n      <td>NaN</td>\n    </tr>\n    <tr>\n      <th>32</th>\n      <td>32</td>\n      <td>TXB 32</td>\n      <td>1001 Van Alstyne Parkway</td>\n      <td>Van Alstyne</td>\n      <td>Grayson</td>\n      <td>TX</td>\n      <td>75495</td>\n      <td>NaN</td>\n    </tr>\n    <tr>\n      <th>34</th>\n      <td>34</td>\n      <td>Kwik Chek #34</td>\n      <td>2965 South Church Street</td>\n      <td>Paris</td>\n      <td>Lamar</td>\n      <td>TX</td>\n      <td>75460</td>\n      <td>NaN</td>\n    </tr>\n    <tr>\n      <th>37</th>\n      <td>37</td>\n      <td>Kwik Chek #37</td>\n      <td>103 South Santa Fe</td>\n      <td>Wolfe City</td>\n      <td>Hunt</td>\n      <td>TX</td>\n      <td>75496</td>\n      <td>NaN</td>\n    </tr>\n    <tr>\n      <th>38</th>\n      <td>38</td>\n      <td>Kwik Chek #38</td>\n      <td>505 South Garfield</td>\n      <td>Kiowa</td>\n      <td>Pittsburg</td>\n      <td>OK</td>\n      <td>74553</td>\n      <td>NaN</td>\n    </tr>\n    <tr>\n      <th>50</th>\n      <td>50</td>\n      <td>Kwik Chek #50</td>\n      <td>3002 Thorton Lane</td>\n      <td>Temple</td>\n      <td>Bell</td>\n      <td>TX</td>\n      <td>76502</td>\n      <td>NaN</td>\n    </tr>\n    <tr>\n      <th>52</th>\n      <td>52</td>\n      <td>Kwik Chek #52</td>\n      <td>1003 Hwy 1431 West</td>\n      <td>Marble Falls</td>\n      <td>Burnet</td>\n      <td>TX</td>\n      <td>78654</td>\n      <td>NaN</td>\n    </tr>\n    <tr>\n      <th>53</th>\n      <td>53</td>\n      <td>Kwik Chek #53</td>\n      <td>1301 Hwy 281 North</td>\n      <td>Marble Falls</td>\n      <td>Burnet</td>\n      <td>TX</td>\n      <td>78654</td>\n      <td>NaN</td>\n    </tr>\n    <tr>\n      <th>54</th>\n      <td>54</td>\n      <td>Kwik Chek #54</td>\n      <td>201 Hwy 281 &amp; Hwy 290</td>\n      <td>Johnson City</td>\n      <td>Blanco</td>\n      <td>TX</td>\n      <td>78636</td>\n      <td>NaN</td>\n    </tr>\n    <tr>\n      <th>55</th>\n      <td>55</td>\n      <td>Kwik Chek #55</td>\n      <td>14417-A Hwy 71 West</td>\n      <td>Austin</td>\n      <td>Travis</td>\n      <td>TX</td>\n      <td>78738</td>\n      <td>NaN</td>\n    </tr>\n    <tr>\n      <th>57</th>\n      <td>57</td>\n      <td>Kwik Chek #57</td>\n      <td>14620 Ranch Road 12</td>\n      <td>Wimberley</td>\n      <td>Hays</td>\n      <td>TX</td>\n      <td>78676</td>\n      <td>NaN</td>\n    </tr>\n    <tr>\n      <th>59</th>\n      <td>59</td>\n      <td>Kwik Chek #59</td>\n      <td>440 Bandera Road</td>\n      <td>Boerne</td>\n      <td>Kendall</td>\n      <td>TX</td>\n      <td>78006</td>\n      <td>NaN</td>\n    </tr>\n    <tr>\n      <th>60</th>\n      <td>60</td>\n      <td>Kwik Chek #60</td>\n      <td>13006 Bandera Road</td>\n      <td>Helotes</td>\n      <td>Bexar</td>\n      <td>TX</td>\n      <td>78023</td>\n      <td>NaN</td>\n    </tr>\n    <tr>\n      <th>61</th>\n      <td>61</td>\n      <td>Kwik Chek #61</td>\n      <td>1001 Hwy 16 South</td>\n      <td>Fredericksburg</td>\n      <td>Gillespie</td>\n      <td>TX</td>\n      <td>78624</td>\n      <td>NaN</td>\n    </tr>\n    <tr>\n      <th>62</th>\n      <td>62</td>\n      <td>Kwik Chek #62</td>\n      <td>21024 Hwy 71 W</td>\n      <td>Spicewood</td>\n      <td>Travis</td>\n      <td>TX</td>\n      <td>78669</td>\n      <td>NaN</td>\n    </tr>\n    <tr>\n      <th>63</th>\n      <td>63</td>\n      <td>TXB 63</td>\n      <td>15701 W SH 71</td>\n      <td>Bee Cave</td>\n      <td>Travis</td>\n      <td>TX</td>\n      <td>78738</td>\n      <td>NaN</td>\n    </tr>\n    <tr>\n      <th>64</th>\n      <td>64</td>\n      <td>Kwik Chek #64</td>\n      <td>2103 Ranch Road 620 South</td>\n      <td>Lakeway</td>\n      <td>Travis</td>\n      <td>TX</td>\n      <td>78734</td>\n      <td>NaN</td>\n    </tr>\n    <tr>\n      <th>65</th>\n      <td>65</td>\n      <td>Kwik Chek #65</td>\n      <td>1402 Williams Drive</td>\n      <td>Georgetown</td>\n      <td>Williamson</td>\n      <td>TX</td>\n      <td>78628</td>\n      <td>NaN</td>\n    </tr>\n    <tr>\n      <th>66</th>\n      <td>66</td>\n      <td>Kwik Chek #66</td>\n      <td>15411 East State Hwy 29</td>\n      <td>Buchanan Dam</td>\n      <td>Llano</td>\n      <td>TX</td>\n      <td>78609</td>\n      <td>NaN</td>\n    </tr>\n    <tr>\n      <th>67</th>\n      <td>67</td>\n      <td>TXB 67</td>\n      <td>3702 West FM 2147</td>\n      <td>Cottonwood Shores</td>\n      <td>Llano</td>\n      <td>TX</td>\n      <td>78657</td>\n      <td>NaN</td>\n    </tr>\n    <tr>\n      <th>68</th>\n      <td>68</td>\n      <td>Kwik Chek #68</td>\n      <td>145 Lehman Road</td>\n      <td>Kyle</td>\n      <td>Hays</td>\n      <td>TX</td>\n      <td>78640</td>\n      <td>Not Open Yet</td>\n    </tr>\n    <tr>\n      <th>69</th>\n      <td>69</td>\n      <td>TXB 69</td>\n      <td>8103 RR 2243</td>\n      <td>Leander</td>\n      <td>Williamson</td>\n      <td>TX</td>\n      <td>78641</td>\n      <td>NaN</td>\n    </tr>\n    <tr>\n      <th>70</th>\n      <td>70</td>\n      <td>Kwik Chek #70</td>\n      <td>800 IH 20 West</td>\n      <td>Big Spring</td>\n      <td>Howard</td>\n      <td>TX</td>\n      <td>79720</td>\n      <td>NaN</td>\n    </tr>\n    <tr>\n      <th>71</th>\n      <td>71</td>\n      <td>TXB 71</td>\n      <td>2503 Rankin Hwy</td>\n      <td>Midland</td>\n      <td>Midland</td>\n      <td>TX</td>\n      <td>79706</td>\n      <td>NaN</td>\n    </tr>\n    <tr>\n      <th>72</th>\n      <td>72</td>\n      <td>TXB 72</td>\n      <td>2104 East William Joel Bryan Parkway</td>\n      <td>Bryan</td>\n      <td>Brazos</td>\n      <td>TX</td>\n      <td>77802</td>\n      <td>Not Open Yet</td>\n    </tr>\n    <tr>\n      <th>73</th>\n      <td>73</td>\n      <td>TXB 73</td>\n      <td>3071 University Drive East</td>\n      <td>Bryan</td>\n      <td>Brazos</td>\n      <td>TX</td>\n      <td>77840</td>\n      <td>Not Open Yet</td>\n    </tr>\n    <tr>\n      <th>79</th>\n      <td>79</td>\n      <td>Kwik Chek #79</td>\n      <td>500 W Thorton Street</td>\n      <td>Three Rivers</td>\n      <td>Live Oak</td>\n      <td>TX</td>\n      <td>78071</td>\n      <td>NaN</td>\n    </tr>\n    <tr>\n      <th>80</th>\n      <td>80</td>\n      <td>Kwik Chek #80</td>\n      <td>801 West Lafayette</td>\n      <td>Laredo</td>\n      <td>Webb</td>\n      <td>TX</td>\n      <td>78041</td>\n      <td>NaN</td>\n    </tr>\n    <tr>\n      <th>81</th>\n      <td>81</td>\n      <td>Kwik Chek #81</td>\n      <td>7045 North IH 35</td>\n      <td>Laredo</td>\n      <td>Webb</td>\n      <td>TX</td>\n      <td>78041</td>\n      <td>NaN</td>\n    </tr>\n    <tr>\n      <th>82</th>\n      <td>82</td>\n      <td>Kwik Chek #82</td>\n      <td>780 Carter Street</td>\n      <td>Asherton</td>\n      <td>Dimmit</td>\n      <td>TX</td>\n      <td>78827</td>\n      <td>NaN</td>\n    </tr>\n    <tr>\n      <th>83</th>\n      <td>83</td>\n      <td>Kwik Chek #83</td>\n      <td>401 N 1st Street</td>\n      <td>Carrizo Springs</td>\n      <td>Dimmit</td>\n      <td>TX</td>\n      <td>78834</td>\n      <td>NaN</td>\n    </tr>\n    <tr>\n      <th>84</th>\n      <td>84</td>\n      <td>Kwik Chek #84</td>\n      <td>1000 N 9th Street</td>\n      <td>Carrizo Springs</td>\n      <td>Dimmit</td>\n      <td>TX</td>\n      <td>78834</td>\n      <td>NaN</td>\n    </tr>\n    <tr>\n      <th>85</th>\n      <td>85</td>\n      <td>Kwik Chek #85</td>\n      <td>1901 N US Hwy 83</td>\n      <td>Crystal City</td>\n      <td>Zavala</td>\n      <td>TX</td>\n      <td>78839</td>\n      <td>NaN</td>\n    </tr>\n    <tr>\n      <th>86</th>\n      <td>86</td>\n      <td>Kwik Chek #86</td>\n      <td>1900 N US Hwy 83</td>\n      <td>Crystal City</td>\n      <td>Zavala</td>\n      <td>TX</td>\n      <td>78839</td>\n      <td>NaN</td>\n    </tr>\n    <tr>\n      <th>87</th>\n      <td>87</td>\n      <td>Kwik Chek #87</td>\n      <td>481 W US Hwy 57</td>\n      <td>La Pryor</td>\n      <td>Zavala</td>\n      <td>TX</td>\n      <td>78872</td>\n      <td>NaN</td>\n    </tr>\n    <tr>\n      <th>88</th>\n      <td>88</td>\n      <td>Kwik Chek #88</td>\n      <td>2757 N Veterans Blvd</td>\n      <td>Eagle Pass</td>\n      <td>Maverick</td>\n      <td>TX</td>\n      <td>78852</td>\n      <td>NaN</td>\n    </tr>\n    <tr>\n      <th>89</th>\n      <td>89</td>\n      <td>Kwik Chek #89</td>\n      <td>2196 El Indio Hwy</td>\n      <td>Eagle Pass</td>\n      <td>Maverick</td>\n      <td>TX</td>\n      <td>78852</td>\n      <td>NaN</td>\n    </tr>\n  </tbody>\n</table>\n</div>"
     },
     "execution_count": 184,
     "metadata": {},
     "output_type": "execute_result"
    }
   ],
   "source": [
    "store_info_masterset_df"
   ],
   "metadata": {
    "collapsed": false,
    "ExecuteTime": {
     "end_time": "2023-10-02T17:50:03.557730Z",
     "start_time": "2023-10-02T17:50:03.525981Z"
    }
   },
   "id": "a2a8a504bec5e6c0"
  },
  {
   "cell_type": "code",
   "execution_count": 188,
   "outputs": [
    {
     "data": {
      "text/plain": "                                      Address               City      County  \\\nStore #                                                                        \n1                           2226 North Center             Bonham      Fannin   \n3                                  971 FM 273             Bonham      Fannin   \n5                                         NaN             Bonham      Fannin   \n6                            816 North Center             Bonham      Fannin   \n7                                  101 Hwy 69            Celeste        Hunt   \n8                                  308 Hwy 69            Leonard      Fannin   \n10                         1741 North Hwy 121             Bonham      Fannin   \n12                               102 S Hwy 78            Achille       Bryan   \n13                              102 West Main             Calera       Bryan   \n14                              201 South 9th             Durant       Bryan   \n16                             2320 West Main             Durant       Bryan   \n17                      13503 S State Hwy 121            Trenton      Fannin   \n19                           617 South Hwy 78              Wylie      Collin   \n20                         5004 Wesley Street         Greenville        Hunt   \n24                                3812 Hwy 70               Hugo     Choctaw   \n26                                   503 SW C            Antlers  Pushmataha   \n27                             1005 East Main        Honey Grove      Fannin   \n32                   1001 Van Alstyne Parkway        Van Alstyne     Grayson   \n34                   2965 South Church Street              Paris       Lamar   \n37                         103 South Santa Fe         Wolfe City        Hunt   \n38                         505 South Garfield              Kiowa   Pittsburg   \n50                          3002 Thorton Lane             Temple        Bell   \n52                         1003 Hwy 1431 West       Marble Falls      Burnet   \n53                         1301 Hwy 281 North       Marble Falls      Burnet   \n54                      201 Hwy 281 & Hwy 290       Johnson City      Blanco   \n55                        14417-A Hwy 71 West             Austin      Travis   \n57                        14620 Ranch Road 12          Wimberley        Hays   \n59                           440 Bandera Road             Boerne     Kendall   \n60                         13006 Bandera Road            Helotes       Bexar   \n61                          1001 Hwy 16 South     Fredericksburg   Gillespie   \n62                             21024 Hwy 71 W          Spicewood      Travis   \n63                              15701 W SH 71           Bee Cave      Travis   \n64                  2103 Ranch Road 620 South            Lakeway      Travis   \n65                        1402 Williams Drive         Georgetown  Williamson   \n66                    15411 East State Hwy 29       Buchanan Dam       Llano   \n67                          3702 West FM 2147  Cottonwood Shores       Llano   \n68                            145 Lehman Road               Kyle        Hays   \n69                               8103 RR 2243            Leander  Williamson   \n70                             800 IH 20 West         Big Spring      Howard   \n71                            2503 Rankin Hwy            Midland     Midland   \n72       2104 East William Joel Bryan Parkway              Bryan      Brazos   \n73                 3071 University Drive East              Bryan      Brazos   \n79                       500 W Thorton Street       Three Rivers    Live Oak   \n80                         801 West Lafayette             Laredo        Webb   \n81                           7045 North IH 35             Laredo        Webb   \n82                          780 Carter Street           Asherton      Dimmit   \n83                           401 N 1st Street    Carrizo Springs      Dimmit   \n84                          1000 N 9th Street    Carrizo Springs      Dimmit   \n85                           1901 N US Hwy 83       Crystal City      Zavala   \n86                           1900 N US Hwy 83       Crystal City      Zavala   \n87                            481 W US Hwy 57           La Pryor      Zavala   \n88                       2757 N Veterans Blvd         Eagle Pass    Maverick   \n89                          2196 El Indio Hwy         Eagle Pass    Maverick   \n\n        State    Zip street_num  \nStore #                          \n1          TX  75418       2226  \n3          TX  75418        971  \n5          TX  75418        NaN  \n6          TX  75418        816  \n7          TX  75423        101  \n8          TX  75452        308  \n10         TX  75418       1741  \n12         OK  74720        102  \n13         OK  74730        102  \n14         OK  74701        201  \n16         OK  74701       2320  \n17         TX  75490      13503  \n19         TX  75098        617  \n20         TX  75402       5004  \n24         OK  74743       3812  \n26         OK  74523        503  \n27         TX  75446       1005  \n32         TX  75495       1001  \n34         TX  75460       2965  \n37         TX  75496        103  \n38         OK  74553        505  \n50         TX  76502       3002  \n52         TX  78654       1003  \n53         TX  78654       1301  \n54         TX  78636        201  \n55         TX  78738      14417  \n57         TX  78676      14620  \n59         TX  78006        440  \n60         TX  78023      13006  \n61         TX  78624       1001  \n62         TX  78669      21024  \n63         TX  78738      15701  \n64         TX  78734       2103  \n65         TX  78628       1402  \n66         TX  78609      15411  \n67         TX  78657       3702  \n68         TX  78640        145  \n69         TX  78641       8103  \n70         TX  79720        800  \n71         TX  79706       2503  \n72         TX  77802       2104  \n73         TX  77840       3071  \n79         TX  78071        500  \n80         TX  78041        801  \n81         TX  78041       7045  \n82         TX  78827        780  \n83         TX  78834        401  \n84         TX  78834       1000  \n85         TX  78839       1901  \n86         TX  78839       1900  \n87         TX  78872        481  \n88         TX  78852       2757  \n89         TX  78852       2196  ",
      "text/html": "<div>\n<style scoped>\n    .dataframe tbody tr th:only-of-type {\n        vertical-align: middle;\n    }\n\n    .dataframe tbody tr th {\n        vertical-align: top;\n    }\n\n    .dataframe thead th {\n        text-align: right;\n    }\n</style>\n<table border=\"1\" class=\"dataframe\">\n  <thead>\n    <tr style=\"text-align: right;\">\n      <th></th>\n      <th>Address</th>\n      <th>City</th>\n      <th>County</th>\n      <th>State</th>\n      <th>Zip</th>\n      <th>street_num</th>\n    </tr>\n    <tr>\n      <th>Store #</th>\n      <th></th>\n      <th></th>\n      <th></th>\n      <th></th>\n      <th></th>\n      <th></th>\n    </tr>\n  </thead>\n  <tbody>\n    <tr>\n      <th>1</th>\n      <td>2226 North Center</td>\n      <td>Bonham</td>\n      <td>Fannin</td>\n      <td>TX</td>\n      <td>75418</td>\n      <td>2226</td>\n    </tr>\n    <tr>\n      <th>3</th>\n      <td>971 FM 273</td>\n      <td>Bonham</td>\n      <td>Fannin</td>\n      <td>TX</td>\n      <td>75418</td>\n      <td>971</td>\n    </tr>\n    <tr>\n      <th>5</th>\n      <td>NaN</td>\n      <td>Bonham</td>\n      <td>Fannin</td>\n      <td>TX</td>\n      <td>75418</td>\n      <td>NaN</td>\n    </tr>\n    <tr>\n      <th>6</th>\n      <td>816 North Center</td>\n      <td>Bonham</td>\n      <td>Fannin</td>\n      <td>TX</td>\n      <td>75418</td>\n      <td>816</td>\n    </tr>\n    <tr>\n      <th>7</th>\n      <td>101 Hwy 69</td>\n      <td>Celeste</td>\n      <td>Hunt</td>\n      <td>TX</td>\n      <td>75423</td>\n      <td>101</td>\n    </tr>\n    <tr>\n      <th>8</th>\n      <td>308 Hwy 69</td>\n      <td>Leonard</td>\n      <td>Fannin</td>\n      <td>TX</td>\n      <td>75452</td>\n      <td>308</td>\n    </tr>\n    <tr>\n      <th>10</th>\n      <td>1741 North Hwy 121</td>\n      <td>Bonham</td>\n      <td>Fannin</td>\n      <td>TX</td>\n      <td>75418</td>\n      <td>1741</td>\n    </tr>\n    <tr>\n      <th>12</th>\n      <td>102 S Hwy 78</td>\n      <td>Achille</td>\n      <td>Bryan</td>\n      <td>OK</td>\n      <td>74720</td>\n      <td>102</td>\n    </tr>\n    <tr>\n      <th>13</th>\n      <td>102 West Main</td>\n      <td>Calera</td>\n      <td>Bryan</td>\n      <td>OK</td>\n      <td>74730</td>\n      <td>102</td>\n    </tr>\n    <tr>\n      <th>14</th>\n      <td>201 South 9th</td>\n      <td>Durant</td>\n      <td>Bryan</td>\n      <td>OK</td>\n      <td>74701</td>\n      <td>201</td>\n    </tr>\n    <tr>\n      <th>16</th>\n      <td>2320 West Main</td>\n      <td>Durant</td>\n      <td>Bryan</td>\n      <td>OK</td>\n      <td>74701</td>\n      <td>2320</td>\n    </tr>\n    <tr>\n      <th>17</th>\n      <td>13503 S State Hwy 121</td>\n      <td>Trenton</td>\n      <td>Fannin</td>\n      <td>TX</td>\n      <td>75490</td>\n      <td>13503</td>\n    </tr>\n    <tr>\n      <th>19</th>\n      <td>617 South Hwy 78</td>\n      <td>Wylie</td>\n      <td>Collin</td>\n      <td>TX</td>\n      <td>75098</td>\n      <td>617</td>\n    </tr>\n    <tr>\n      <th>20</th>\n      <td>5004 Wesley Street</td>\n      <td>Greenville</td>\n      <td>Hunt</td>\n      <td>TX</td>\n      <td>75402</td>\n      <td>5004</td>\n    </tr>\n    <tr>\n      <th>24</th>\n      <td>3812 Hwy 70</td>\n      <td>Hugo</td>\n      <td>Choctaw</td>\n      <td>OK</td>\n      <td>74743</td>\n      <td>3812</td>\n    </tr>\n    <tr>\n      <th>26</th>\n      <td>503 SW C</td>\n      <td>Antlers</td>\n      <td>Pushmataha</td>\n      <td>OK</td>\n      <td>74523</td>\n      <td>503</td>\n    </tr>\n    <tr>\n      <th>27</th>\n      <td>1005 East Main</td>\n      <td>Honey Grove</td>\n      <td>Fannin</td>\n      <td>TX</td>\n      <td>75446</td>\n      <td>1005</td>\n    </tr>\n    <tr>\n      <th>32</th>\n      <td>1001 Van Alstyne Parkway</td>\n      <td>Van Alstyne</td>\n      <td>Grayson</td>\n      <td>TX</td>\n      <td>75495</td>\n      <td>1001</td>\n    </tr>\n    <tr>\n      <th>34</th>\n      <td>2965 South Church Street</td>\n      <td>Paris</td>\n      <td>Lamar</td>\n      <td>TX</td>\n      <td>75460</td>\n      <td>2965</td>\n    </tr>\n    <tr>\n      <th>37</th>\n      <td>103 South Santa Fe</td>\n      <td>Wolfe City</td>\n      <td>Hunt</td>\n      <td>TX</td>\n      <td>75496</td>\n      <td>103</td>\n    </tr>\n    <tr>\n      <th>38</th>\n      <td>505 South Garfield</td>\n      <td>Kiowa</td>\n      <td>Pittsburg</td>\n      <td>OK</td>\n      <td>74553</td>\n      <td>505</td>\n    </tr>\n    <tr>\n      <th>50</th>\n      <td>3002 Thorton Lane</td>\n      <td>Temple</td>\n      <td>Bell</td>\n      <td>TX</td>\n      <td>76502</td>\n      <td>3002</td>\n    </tr>\n    <tr>\n      <th>52</th>\n      <td>1003 Hwy 1431 West</td>\n      <td>Marble Falls</td>\n      <td>Burnet</td>\n      <td>TX</td>\n      <td>78654</td>\n      <td>1003</td>\n    </tr>\n    <tr>\n      <th>53</th>\n      <td>1301 Hwy 281 North</td>\n      <td>Marble Falls</td>\n      <td>Burnet</td>\n      <td>TX</td>\n      <td>78654</td>\n      <td>1301</td>\n    </tr>\n    <tr>\n      <th>54</th>\n      <td>201 Hwy 281 &amp; Hwy 290</td>\n      <td>Johnson City</td>\n      <td>Blanco</td>\n      <td>TX</td>\n      <td>78636</td>\n      <td>201</td>\n    </tr>\n    <tr>\n      <th>55</th>\n      <td>14417-A Hwy 71 West</td>\n      <td>Austin</td>\n      <td>Travis</td>\n      <td>TX</td>\n      <td>78738</td>\n      <td>14417</td>\n    </tr>\n    <tr>\n      <th>57</th>\n      <td>14620 Ranch Road 12</td>\n      <td>Wimberley</td>\n      <td>Hays</td>\n      <td>TX</td>\n      <td>78676</td>\n      <td>14620</td>\n    </tr>\n    <tr>\n      <th>59</th>\n      <td>440 Bandera Road</td>\n      <td>Boerne</td>\n      <td>Kendall</td>\n      <td>TX</td>\n      <td>78006</td>\n      <td>440</td>\n    </tr>\n    <tr>\n      <th>60</th>\n      <td>13006 Bandera Road</td>\n      <td>Helotes</td>\n      <td>Bexar</td>\n      <td>TX</td>\n      <td>78023</td>\n      <td>13006</td>\n    </tr>\n    <tr>\n      <th>61</th>\n      <td>1001 Hwy 16 South</td>\n      <td>Fredericksburg</td>\n      <td>Gillespie</td>\n      <td>TX</td>\n      <td>78624</td>\n      <td>1001</td>\n    </tr>\n    <tr>\n      <th>62</th>\n      <td>21024 Hwy 71 W</td>\n      <td>Spicewood</td>\n      <td>Travis</td>\n      <td>TX</td>\n      <td>78669</td>\n      <td>21024</td>\n    </tr>\n    <tr>\n      <th>63</th>\n      <td>15701 W SH 71</td>\n      <td>Bee Cave</td>\n      <td>Travis</td>\n      <td>TX</td>\n      <td>78738</td>\n      <td>15701</td>\n    </tr>\n    <tr>\n      <th>64</th>\n      <td>2103 Ranch Road 620 South</td>\n      <td>Lakeway</td>\n      <td>Travis</td>\n      <td>TX</td>\n      <td>78734</td>\n      <td>2103</td>\n    </tr>\n    <tr>\n      <th>65</th>\n      <td>1402 Williams Drive</td>\n      <td>Georgetown</td>\n      <td>Williamson</td>\n      <td>TX</td>\n      <td>78628</td>\n      <td>1402</td>\n    </tr>\n    <tr>\n      <th>66</th>\n      <td>15411 East State Hwy 29</td>\n      <td>Buchanan Dam</td>\n      <td>Llano</td>\n      <td>TX</td>\n      <td>78609</td>\n      <td>15411</td>\n    </tr>\n    <tr>\n      <th>67</th>\n      <td>3702 West FM 2147</td>\n      <td>Cottonwood Shores</td>\n      <td>Llano</td>\n      <td>TX</td>\n      <td>78657</td>\n      <td>3702</td>\n    </tr>\n    <tr>\n      <th>68</th>\n      <td>145 Lehman Road</td>\n      <td>Kyle</td>\n      <td>Hays</td>\n      <td>TX</td>\n      <td>78640</td>\n      <td>145</td>\n    </tr>\n    <tr>\n      <th>69</th>\n      <td>8103 RR 2243</td>\n      <td>Leander</td>\n      <td>Williamson</td>\n      <td>TX</td>\n      <td>78641</td>\n      <td>8103</td>\n    </tr>\n    <tr>\n      <th>70</th>\n      <td>800 IH 20 West</td>\n      <td>Big Spring</td>\n      <td>Howard</td>\n      <td>TX</td>\n      <td>79720</td>\n      <td>800</td>\n    </tr>\n    <tr>\n      <th>71</th>\n      <td>2503 Rankin Hwy</td>\n      <td>Midland</td>\n      <td>Midland</td>\n      <td>TX</td>\n      <td>79706</td>\n      <td>2503</td>\n    </tr>\n    <tr>\n      <th>72</th>\n      <td>2104 East William Joel Bryan Parkway</td>\n      <td>Bryan</td>\n      <td>Brazos</td>\n      <td>TX</td>\n      <td>77802</td>\n      <td>2104</td>\n    </tr>\n    <tr>\n      <th>73</th>\n      <td>3071 University Drive East</td>\n      <td>Bryan</td>\n      <td>Brazos</td>\n      <td>TX</td>\n      <td>77840</td>\n      <td>3071</td>\n    </tr>\n    <tr>\n      <th>79</th>\n      <td>500 W Thorton Street</td>\n      <td>Three Rivers</td>\n      <td>Live Oak</td>\n      <td>TX</td>\n      <td>78071</td>\n      <td>500</td>\n    </tr>\n    <tr>\n      <th>80</th>\n      <td>801 West Lafayette</td>\n      <td>Laredo</td>\n      <td>Webb</td>\n      <td>TX</td>\n      <td>78041</td>\n      <td>801</td>\n    </tr>\n    <tr>\n      <th>81</th>\n      <td>7045 North IH 35</td>\n      <td>Laredo</td>\n      <td>Webb</td>\n      <td>TX</td>\n      <td>78041</td>\n      <td>7045</td>\n    </tr>\n    <tr>\n      <th>82</th>\n      <td>780 Carter Street</td>\n      <td>Asherton</td>\n      <td>Dimmit</td>\n      <td>TX</td>\n      <td>78827</td>\n      <td>780</td>\n    </tr>\n    <tr>\n      <th>83</th>\n      <td>401 N 1st Street</td>\n      <td>Carrizo Springs</td>\n      <td>Dimmit</td>\n      <td>TX</td>\n      <td>78834</td>\n      <td>401</td>\n    </tr>\n    <tr>\n      <th>84</th>\n      <td>1000 N 9th Street</td>\n      <td>Carrizo Springs</td>\n      <td>Dimmit</td>\n      <td>TX</td>\n      <td>78834</td>\n      <td>1000</td>\n    </tr>\n    <tr>\n      <th>85</th>\n      <td>1901 N US Hwy 83</td>\n      <td>Crystal City</td>\n      <td>Zavala</td>\n      <td>TX</td>\n      <td>78839</td>\n      <td>1901</td>\n    </tr>\n    <tr>\n      <th>86</th>\n      <td>1900 N US Hwy 83</td>\n      <td>Crystal City</td>\n      <td>Zavala</td>\n      <td>TX</td>\n      <td>78839</td>\n      <td>1900</td>\n    </tr>\n    <tr>\n      <th>87</th>\n      <td>481 W US Hwy 57</td>\n      <td>La Pryor</td>\n      <td>Zavala</td>\n      <td>TX</td>\n      <td>78872</td>\n      <td>481</td>\n    </tr>\n    <tr>\n      <th>88</th>\n      <td>2757 N Veterans Blvd</td>\n      <td>Eagle Pass</td>\n      <td>Maverick</td>\n      <td>TX</td>\n      <td>78852</td>\n      <td>2757</td>\n    </tr>\n    <tr>\n      <th>89</th>\n      <td>2196 El Indio Hwy</td>\n      <td>Eagle Pass</td>\n      <td>Maverick</td>\n      <td>TX</td>\n      <td>78852</td>\n      <td>2196</td>\n    </tr>\n  </tbody>\n</table>\n</div>"
     },
     "execution_count": 188,
     "metadata": {},
     "output_type": "execute_result"
    }
   ],
   "source": [
    "street_num_pattern = r'(?P<street_num>\\b\\d{3,5}\\b)'\n",
    "street_num_df = store_info_masterset_df['Address'].str.extract(street_num_pattern)\n",
    "\n",
    "store_info_masterset_df = pd.concat([store_info_masterset_df, street_num_df], axis=1)\n",
    "store_info_masterset_df"
   ],
   "metadata": {
    "collapsed": false,
    "ExecuteTime": {
     "end_time": "2023-10-02T18:55:25.758653Z",
     "start_time": "2023-10-02T18:55:25.748349Z"
    }
   },
   "id": "631e147284a53ed7"
  },
  {
   "cell_type": "code",
   "execution_count": 185,
   "outputs": [],
   "source": [
    "store_info_masterset_df.drop(['Site #', 'Site Description', 'Notes'], axis=1, inplace=True)\n"
   ],
   "metadata": {
    "collapsed": false,
    "ExecuteTime": {
     "end_time": "2023-10-02T17:50:04.668464Z",
     "start_time": "2023-10-02T17:50:04.652492Z"
    }
   },
   "id": "b3699a8a615f799d"
  },
  {
   "cell_type": "code",
   "execution_count": 187,
   "outputs": [
    {
     "data": {
      "text/plain": "                                      Address               City      County  \\\nStore #                                                                        \n1                           2226 North Center             Bonham      Fannin   \n3                                  971 FM 273             Bonham      Fannin   \n5                                         NaN             Bonham      Fannin   \n6                            816 North Center             Bonham      Fannin   \n7                                  101 Hwy 69            Celeste        Hunt   \n8                                  308 Hwy 69            Leonard      Fannin   \n10                         1741 North Hwy 121             Bonham      Fannin   \n12                               102 S Hwy 78            Achille       Bryan   \n13                              102 West Main             Calera       Bryan   \n14                              201 South 9th             Durant       Bryan   \n16                             2320 West Main             Durant       Bryan   \n17                      13503 S State Hwy 121            Trenton      Fannin   \n19                           617 South Hwy 78              Wylie      Collin   \n20                         5004 Wesley Street         Greenville        Hunt   \n24                                3812 Hwy 70               Hugo     Choctaw   \n26                                   503 SW C            Antlers  Pushmataha   \n27                             1005 East Main        Honey Grove      Fannin   \n32                   1001 Van Alstyne Parkway        Van Alstyne     Grayson   \n34                   2965 South Church Street              Paris       Lamar   \n37                         103 South Santa Fe         Wolfe City        Hunt   \n38                         505 South Garfield              Kiowa   Pittsburg   \n50                          3002 Thorton Lane             Temple        Bell   \n52                         1003 Hwy 1431 West       Marble Falls      Burnet   \n53                         1301 Hwy 281 North       Marble Falls      Burnet   \n54                      201 Hwy 281 & Hwy 290       Johnson City      Blanco   \n55                        14417-A Hwy 71 West             Austin      Travis   \n57                        14620 Ranch Road 12          Wimberley        Hays   \n59                           440 Bandera Road             Boerne     Kendall   \n60                         13006 Bandera Road            Helotes       Bexar   \n61                          1001 Hwy 16 South     Fredericksburg   Gillespie   \n62                             21024 Hwy 71 W          Spicewood      Travis   \n63                              15701 W SH 71           Bee Cave      Travis   \n64                  2103 Ranch Road 620 South            Lakeway      Travis   \n65                        1402 Williams Drive         Georgetown  Williamson   \n66                    15411 East State Hwy 29       Buchanan Dam       Llano   \n67                          3702 West FM 2147  Cottonwood Shores       Llano   \n68                            145 Lehman Road               Kyle        Hays   \n69                               8103 RR 2243            Leander  Williamson   \n70                             800 IH 20 West         Big Spring      Howard   \n71                            2503 Rankin Hwy            Midland     Midland   \n72       2104 East William Joel Bryan Parkway              Bryan      Brazos   \n73                 3071 University Drive East              Bryan      Brazos   \n79                       500 W Thorton Street       Three Rivers    Live Oak   \n80                         801 West Lafayette             Laredo        Webb   \n81                           7045 North IH 35             Laredo        Webb   \n82                          780 Carter Street           Asherton      Dimmit   \n83                           401 N 1st Street    Carrizo Springs      Dimmit   \n84                          1000 N 9th Street    Carrizo Springs      Dimmit   \n85                           1901 N US Hwy 83       Crystal City      Zavala   \n86                           1900 N US Hwy 83       Crystal City      Zavala   \n87                            481 W US Hwy 57           La Pryor      Zavala   \n88                       2757 N Veterans Blvd         Eagle Pass    Maverick   \n89                          2196 El Indio Hwy         Eagle Pass    Maverick   \n\n        State    Zip  \nStore #               \n1          TX  75418  \n3          TX  75418  \n5          TX  75418  \n6          TX  75418  \n7          TX  75423  \n8          TX  75452  \n10         TX  75418  \n12         OK  74720  \n13         OK  74730  \n14         OK  74701  \n16         OK  74701  \n17         TX  75490  \n19         TX  75098  \n20         TX  75402  \n24         OK  74743  \n26         OK  74523  \n27         TX  75446  \n32         TX  75495  \n34         TX  75460  \n37         TX  75496  \n38         OK  74553  \n50         TX  76502  \n52         TX  78654  \n53         TX  78654  \n54         TX  78636  \n55         TX  78738  \n57         TX  78676  \n59         TX  78006  \n60         TX  78023  \n61         TX  78624  \n62         TX  78669  \n63         TX  78738  \n64         TX  78734  \n65         TX  78628  \n66         TX  78609  \n67         TX  78657  \n68         TX  78640  \n69         TX  78641  \n70         TX  79720  \n71         TX  79706  \n72         TX  77802  \n73         TX  77840  \n79         TX  78071  \n80         TX  78041  \n81         TX  78041  \n82         TX  78827  \n83         TX  78834  \n84         TX  78834  \n85         TX  78839  \n86         TX  78839  \n87         TX  78872  \n88         TX  78852  \n89         TX  78852  ",
      "text/html": "<div>\n<style scoped>\n    .dataframe tbody tr th:only-of-type {\n        vertical-align: middle;\n    }\n\n    .dataframe tbody tr th {\n        vertical-align: top;\n    }\n\n    .dataframe thead th {\n        text-align: right;\n    }\n</style>\n<table border=\"1\" class=\"dataframe\">\n  <thead>\n    <tr style=\"text-align: right;\">\n      <th></th>\n      <th>Address</th>\n      <th>City</th>\n      <th>County</th>\n      <th>State</th>\n      <th>Zip</th>\n    </tr>\n    <tr>\n      <th>Store #</th>\n      <th></th>\n      <th></th>\n      <th></th>\n      <th></th>\n      <th></th>\n    </tr>\n  </thead>\n  <tbody>\n    <tr>\n      <th>1</th>\n      <td>2226 North Center</td>\n      <td>Bonham</td>\n      <td>Fannin</td>\n      <td>TX</td>\n      <td>75418</td>\n    </tr>\n    <tr>\n      <th>3</th>\n      <td>971 FM 273</td>\n      <td>Bonham</td>\n      <td>Fannin</td>\n      <td>TX</td>\n      <td>75418</td>\n    </tr>\n    <tr>\n      <th>5</th>\n      <td>NaN</td>\n      <td>Bonham</td>\n      <td>Fannin</td>\n      <td>TX</td>\n      <td>75418</td>\n    </tr>\n    <tr>\n      <th>6</th>\n      <td>816 North Center</td>\n      <td>Bonham</td>\n      <td>Fannin</td>\n      <td>TX</td>\n      <td>75418</td>\n    </tr>\n    <tr>\n      <th>7</th>\n      <td>101 Hwy 69</td>\n      <td>Celeste</td>\n      <td>Hunt</td>\n      <td>TX</td>\n      <td>75423</td>\n    </tr>\n    <tr>\n      <th>8</th>\n      <td>308 Hwy 69</td>\n      <td>Leonard</td>\n      <td>Fannin</td>\n      <td>TX</td>\n      <td>75452</td>\n    </tr>\n    <tr>\n      <th>10</th>\n      <td>1741 North Hwy 121</td>\n      <td>Bonham</td>\n      <td>Fannin</td>\n      <td>TX</td>\n      <td>75418</td>\n    </tr>\n    <tr>\n      <th>12</th>\n      <td>102 S Hwy 78</td>\n      <td>Achille</td>\n      <td>Bryan</td>\n      <td>OK</td>\n      <td>74720</td>\n    </tr>\n    <tr>\n      <th>13</th>\n      <td>102 West Main</td>\n      <td>Calera</td>\n      <td>Bryan</td>\n      <td>OK</td>\n      <td>74730</td>\n    </tr>\n    <tr>\n      <th>14</th>\n      <td>201 South 9th</td>\n      <td>Durant</td>\n      <td>Bryan</td>\n      <td>OK</td>\n      <td>74701</td>\n    </tr>\n    <tr>\n      <th>16</th>\n      <td>2320 West Main</td>\n      <td>Durant</td>\n      <td>Bryan</td>\n      <td>OK</td>\n      <td>74701</td>\n    </tr>\n    <tr>\n      <th>17</th>\n      <td>13503 S State Hwy 121</td>\n      <td>Trenton</td>\n      <td>Fannin</td>\n      <td>TX</td>\n      <td>75490</td>\n    </tr>\n    <tr>\n      <th>19</th>\n      <td>617 South Hwy 78</td>\n      <td>Wylie</td>\n      <td>Collin</td>\n      <td>TX</td>\n      <td>75098</td>\n    </tr>\n    <tr>\n      <th>20</th>\n      <td>5004 Wesley Street</td>\n      <td>Greenville</td>\n      <td>Hunt</td>\n      <td>TX</td>\n      <td>75402</td>\n    </tr>\n    <tr>\n      <th>24</th>\n      <td>3812 Hwy 70</td>\n      <td>Hugo</td>\n      <td>Choctaw</td>\n      <td>OK</td>\n      <td>74743</td>\n    </tr>\n    <tr>\n      <th>26</th>\n      <td>503 SW C</td>\n      <td>Antlers</td>\n      <td>Pushmataha</td>\n      <td>OK</td>\n      <td>74523</td>\n    </tr>\n    <tr>\n      <th>27</th>\n      <td>1005 East Main</td>\n      <td>Honey Grove</td>\n      <td>Fannin</td>\n      <td>TX</td>\n      <td>75446</td>\n    </tr>\n    <tr>\n      <th>32</th>\n      <td>1001 Van Alstyne Parkway</td>\n      <td>Van Alstyne</td>\n      <td>Grayson</td>\n      <td>TX</td>\n      <td>75495</td>\n    </tr>\n    <tr>\n      <th>34</th>\n      <td>2965 South Church Street</td>\n      <td>Paris</td>\n      <td>Lamar</td>\n      <td>TX</td>\n      <td>75460</td>\n    </tr>\n    <tr>\n      <th>37</th>\n      <td>103 South Santa Fe</td>\n      <td>Wolfe City</td>\n      <td>Hunt</td>\n      <td>TX</td>\n      <td>75496</td>\n    </tr>\n    <tr>\n      <th>38</th>\n      <td>505 South Garfield</td>\n      <td>Kiowa</td>\n      <td>Pittsburg</td>\n      <td>OK</td>\n      <td>74553</td>\n    </tr>\n    <tr>\n      <th>50</th>\n      <td>3002 Thorton Lane</td>\n      <td>Temple</td>\n      <td>Bell</td>\n      <td>TX</td>\n      <td>76502</td>\n    </tr>\n    <tr>\n      <th>52</th>\n      <td>1003 Hwy 1431 West</td>\n      <td>Marble Falls</td>\n      <td>Burnet</td>\n      <td>TX</td>\n      <td>78654</td>\n    </tr>\n    <tr>\n      <th>53</th>\n      <td>1301 Hwy 281 North</td>\n      <td>Marble Falls</td>\n      <td>Burnet</td>\n      <td>TX</td>\n      <td>78654</td>\n    </tr>\n    <tr>\n      <th>54</th>\n      <td>201 Hwy 281 &amp; Hwy 290</td>\n      <td>Johnson City</td>\n      <td>Blanco</td>\n      <td>TX</td>\n      <td>78636</td>\n    </tr>\n    <tr>\n      <th>55</th>\n      <td>14417-A Hwy 71 West</td>\n      <td>Austin</td>\n      <td>Travis</td>\n      <td>TX</td>\n      <td>78738</td>\n    </tr>\n    <tr>\n      <th>57</th>\n      <td>14620 Ranch Road 12</td>\n      <td>Wimberley</td>\n      <td>Hays</td>\n      <td>TX</td>\n      <td>78676</td>\n    </tr>\n    <tr>\n      <th>59</th>\n      <td>440 Bandera Road</td>\n      <td>Boerne</td>\n      <td>Kendall</td>\n      <td>TX</td>\n      <td>78006</td>\n    </tr>\n    <tr>\n      <th>60</th>\n      <td>13006 Bandera Road</td>\n      <td>Helotes</td>\n      <td>Bexar</td>\n      <td>TX</td>\n      <td>78023</td>\n    </tr>\n    <tr>\n      <th>61</th>\n      <td>1001 Hwy 16 South</td>\n      <td>Fredericksburg</td>\n      <td>Gillespie</td>\n      <td>TX</td>\n      <td>78624</td>\n    </tr>\n    <tr>\n      <th>62</th>\n      <td>21024 Hwy 71 W</td>\n      <td>Spicewood</td>\n      <td>Travis</td>\n      <td>TX</td>\n      <td>78669</td>\n    </tr>\n    <tr>\n      <th>63</th>\n      <td>15701 W SH 71</td>\n      <td>Bee Cave</td>\n      <td>Travis</td>\n      <td>TX</td>\n      <td>78738</td>\n    </tr>\n    <tr>\n      <th>64</th>\n      <td>2103 Ranch Road 620 South</td>\n      <td>Lakeway</td>\n      <td>Travis</td>\n      <td>TX</td>\n      <td>78734</td>\n    </tr>\n    <tr>\n      <th>65</th>\n      <td>1402 Williams Drive</td>\n      <td>Georgetown</td>\n      <td>Williamson</td>\n      <td>TX</td>\n      <td>78628</td>\n    </tr>\n    <tr>\n      <th>66</th>\n      <td>15411 East State Hwy 29</td>\n      <td>Buchanan Dam</td>\n      <td>Llano</td>\n      <td>TX</td>\n      <td>78609</td>\n    </tr>\n    <tr>\n      <th>67</th>\n      <td>3702 West FM 2147</td>\n      <td>Cottonwood Shores</td>\n      <td>Llano</td>\n      <td>TX</td>\n      <td>78657</td>\n    </tr>\n    <tr>\n      <th>68</th>\n      <td>145 Lehman Road</td>\n      <td>Kyle</td>\n      <td>Hays</td>\n      <td>TX</td>\n      <td>78640</td>\n    </tr>\n    <tr>\n      <th>69</th>\n      <td>8103 RR 2243</td>\n      <td>Leander</td>\n      <td>Williamson</td>\n      <td>TX</td>\n      <td>78641</td>\n    </tr>\n    <tr>\n      <th>70</th>\n      <td>800 IH 20 West</td>\n      <td>Big Spring</td>\n      <td>Howard</td>\n      <td>TX</td>\n      <td>79720</td>\n    </tr>\n    <tr>\n      <th>71</th>\n      <td>2503 Rankin Hwy</td>\n      <td>Midland</td>\n      <td>Midland</td>\n      <td>TX</td>\n      <td>79706</td>\n    </tr>\n    <tr>\n      <th>72</th>\n      <td>2104 East William Joel Bryan Parkway</td>\n      <td>Bryan</td>\n      <td>Brazos</td>\n      <td>TX</td>\n      <td>77802</td>\n    </tr>\n    <tr>\n      <th>73</th>\n      <td>3071 University Drive East</td>\n      <td>Bryan</td>\n      <td>Brazos</td>\n      <td>TX</td>\n      <td>77840</td>\n    </tr>\n    <tr>\n      <th>79</th>\n      <td>500 W Thorton Street</td>\n      <td>Three Rivers</td>\n      <td>Live Oak</td>\n      <td>TX</td>\n      <td>78071</td>\n    </tr>\n    <tr>\n      <th>80</th>\n      <td>801 West Lafayette</td>\n      <td>Laredo</td>\n      <td>Webb</td>\n      <td>TX</td>\n      <td>78041</td>\n    </tr>\n    <tr>\n      <th>81</th>\n      <td>7045 North IH 35</td>\n      <td>Laredo</td>\n      <td>Webb</td>\n      <td>TX</td>\n      <td>78041</td>\n    </tr>\n    <tr>\n      <th>82</th>\n      <td>780 Carter Street</td>\n      <td>Asherton</td>\n      <td>Dimmit</td>\n      <td>TX</td>\n      <td>78827</td>\n    </tr>\n    <tr>\n      <th>83</th>\n      <td>401 N 1st Street</td>\n      <td>Carrizo Springs</td>\n      <td>Dimmit</td>\n      <td>TX</td>\n      <td>78834</td>\n    </tr>\n    <tr>\n      <th>84</th>\n      <td>1000 N 9th Street</td>\n      <td>Carrizo Springs</td>\n      <td>Dimmit</td>\n      <td>TX</td>\n      <td>78834</td>\n    </tr>\n    <tr>\n      <th>85</th>\n      <td>1901 N US Hwy 83</td>\n      <td>Crystal City</td>\n      <td>Zavala</td>\n      <td>TX</td>\n      <td>78839</td>\n    </tr>\n    <tr>\n      <th>86</th>\n      <td>1900 N US Hwy 83</td>\n      <td>Crystal City</td>\n      <td>Zavala</td>\n      <td>TX</td>\n      <td>78839</td>\n    </tr>\n    <tr>\n      <th>87</th>\n      <td>481 W US Hwy 57</td>\n      <td>La Pryor</td>\n      <td>Zavala</td>\n      <td>TX</td>\n      <td>78872</td>\n    </tr>\n    <tr>\n      <th>88</th>\n      <td>2757 N Veterans Blvd</td>\n      <td>Eagle Pass</td>\n      <td>Maverick</td>\n      <td>TX</td>\n      <td>78852</td>\n    </tr>\n    <tr>\n      <th>89</th>\n      <td>2196 El Indio Hwy</td>\n      <td>Eagle Pass</td>\n      <td>Maverick</td>\n      <td>TX</td>\n      <td>78852</td>\n    </tr>\n  </tbody>\n</table>\n</div>"
     },
     "execution_count": 187,
     "metadata": {},
     "output_type": "execute_result"
    }
   ],
   "source": [
    "store_info_masterset_df"
   ],
   "metadata": {
    "collapsed": false,
    "ExecuteTime": {
     "end_time": "2023-10-02T18:32:24.498074Z",
     "start_time": "2023-10-02T18:32:24.494030Z"
    }
   },
   "id": "49e18259883263b"
  },
  {
   "cell_type": "code",
   "execution_count": 145,
   "outputs": [],
   "source": [
    "store_info_masterset_df['store_address'] = store_info_masterset_df.iloc[:, 1].astype(str) + ' ' + store_info_masterset_df.iloc[:, 2].astype(str) + ' ' + store_info_masterset_df.iloc[:, 3].astype(str) + ' ' + store_info_masterset_df.iloc[:, 4].astype(str) + ' ' + store_info_masterset_df.iloc[:, 5].astype(str)\n"
   ],
   "metadata": {
    "collapsed": false,
    "ExecuteTime": {
     "end_time": "2023-10-02T16:58:52.758520Z",
     "start_time": "2023-10-02T16:58:52.730750Z"
    }
   },
   "id": "92457de6e18fb644"
  },
  {
   "cell_type": "code",
   "execution_count": 149,
   "outputs": [
    {
     "data": {
      "text/plain": "    Store #                                      store_address\n0         1           2226 North Center Bonham Fannin TX 75418\n1         3                  971 FM 273 Bonham Fannin TX 75418\n2         5                         nan Bonham Fannin TX 75418\n3         6            816 North Center Bonham Fannin TX 75418\n4         7                   101 Hwy 69 Celeste Hunt TX 75423\n5         8                 308 Hwy 69 Leonard Fannin TX 75452\n6        10          1741 North Hwy 121 Bonham Fannin TX 75418\n7        12                102 S Hwy 78 Achille Bryan OK 74720\n8        13                102 West Main Calera Bryan OK 74730\n9        14                201 South 9th Durant Bryan OK 74701\n10       16               2320 West Main Durant Bryan OK 74701\n11       17      13503 S State Hwy 121 Trenton Fannin TX 75490\n12       19             617 South Hwy 78 Wylie Collin TX 75098\n13       20        5004 Wesley Street Greenville Hunt TX 75402\n14       24                  3812 Hwy 70 Hugo Choctaw OK 74743\n15       26               503 SW C Antlers Pushmataha OK 74523\n16       27         1005 East Main Honey Grove Fannin TX 75446\n17       32  1001 Van Alstyne Parkway Van Alstyne Grayson T...\n18       34      2965 South Church Street Paris Lamar TX 75460\n19       37        103 South Santa Fe Wolfe City Hunt TX 75496\n20       38        505 South Garfield Kiowa Pittsburg OK 74553\n21       50             3002 Thorton Lane Temple Bell TX 76502\n22       52    1003 Hwy 1431 West Marble Falls Burnet TX 78654\n23       53    1301 Hwy 281 North Marble Falls Burnet TX 78654\n24       54  201 Hwy 281 & Hwy 290 Johnson City Blanco TX 7...\n25       55         14417-A Hwy 71 West Austin Travis TX 78738\n26       57        14620 Ranch Road 12 Wimberley Hays TX 78676\n27       59           440 Bandera Road Boerne Kendall TX 78006\n28       60          13006 Bandera Road Helotes Bexar TX 78023\n29       61  1001 Hwy 16 South Fredericksburg Gillespie TX ...\n30       62           21024 Hwy 71 W Spicewood Travis TX 78669\n31       63             15701 W SH 71 Bee Cave Travis TX 78738\n32       64  2103 Ranch Road 620 South Lakeway Travis TX 78734\n33       65  1402 Williams Drive Georgetown Williamson TX 7...\n34       66  15411 East State Hwy 29 Buchanan Dam Llano TX ...\n35       67  3702 West FM 2147 Cottonwood Shores Llano TX 7...\n36       68                 145 Lehman Road Kyle Hays TX 78640\n37       69           8103 RR 2243 Leander Williamson TX 78641\n38       70          800 IH 20 West Big Spring Howard TX 79720\n39       71           2503 Rankin Hwy Midland Midland TX 79706\n40       72  2104 East William Joel Bryan Parkway Bryan Bra...\n41       73   3071 University Drive East Bryan Brazos TX 77840\n42       79  500 W Thorton Street Three Rivers Live Oak TX ...\n43       80            801 West Lafayette Laredo Webb TX 78041\n44       81              7045 North IH 35 Laredo Webb TX 78041\n45       82         780 Carter Street Asherton Dimmit TX 78827\n46       83   401 N 1st Street Carrizo Springs Dimmit TX 78834\n47       84  1000 N 9th Street Carrizo Springs Dimmit TX 78834\n48       85      1901 N US Hwy 83 Crystal City Zavala TX 78839\n49       86      1900 N US Hwy 83 Crystal City Zavala TX 78839\n50       87           481 W US Hwy 57 La Pryor Zavala TX 78872\n51       88  2757 N Veterans Blvd Eagle Pass Maverick TX 78852\n52       89     2196 El Indio Hwy Eagle Pass Maverick TX 78852",
      "text/html": "<div>\n<style scoped>\n    .dataframe tbody tr th:only-of-type {\n        vertical-align: middle;\n    }\n\n    .dataframe tbody tr th {\n        vertical-align: top;\n    }\n\n    .dataframe thead th {\n        text-align: right;\n    }\n</style>\n<table border=\"1\" class=\"dataframe\">\n  <thead>\n    <tr style=\"text-align: right;\">\n      <th></th>\n      <th>Store #</th>\n      <th>store_address</th>\n    </tr>\n  </thead>\n  <tbody>\n    <tr>\n      <th>0</th>\n      <td>1</td>\n      <td>2226 North Center Bonham Fannin TX 75418</td>\n    </tr>\n    <tr>\n      <th>1</th>\n      <td>3</td>\n      <td>971 FM 273 Bonham Fannin TX 75418</td>\n    </tr>\n    <tr>\n      <th>2</th>\n      <td>5</td>\n      <td>nan Bonham Fannin TX 75418</td>\n    </tr>\n    <tr>\n      <th>3</th>\n      <td>6</td>\n      <td>816 North Center Bonham Fannin TX 75418</td>\n    </tr>\n    <tr>\n      <th>4</th>\n      <td>7</td>\n      <td>101 Hwy 69 Celeste Hunt TX 75423</td>\n    </tr>\n    <tr>\n      <th>5</th>\n      <td>8</td>\n      <td>308 Hwy 69 Leonard Fannin TX 75452</td>\n    </tr>\n    <tr>\n      <th>6</th>\n      <td>10</td>\n      <td>1741 North Hwy 121 Bonham Fannin TX 75418</td>\n    </tr>\n    <tr>\n      <th>7</th>\n      <td>12</td>\n      <td>102 S Hwy 78 Achille Bryan OK 74720</td>\n    </tr>\n    <tr>\n      <th>8</th>\n      <td>13</td>\n      <td>102 West Main Calera Bryan OK 74730</td>\n    </tr>\n    <tr>\n      <th>9</th>\n      <td>14</td>\n      <td>201 South 9th Durant Bryan OK 74701</td>\n    </tr>\n    <tr>\n      <th>10</th>\n      <td>16</td>\n      <td>2320 West Main Durant Bryan OK 74701</td>\n    </tr>\n    <tr>\n      <th>11</th>\n      <td>17</td>\n      <td>13503 S State Hwy 121 Trenton Fannin TX 75490</td>\n    </tr>\n    <tr>\n      <th>12</th>\n      <td>19</td>\n      <td>617 South Hwy 78 Wylie Collin TX 75098</td>\n    </tr>\n    <tr>\n      <th>13</th>\n      <td>20</td>\n      <td>5004 Wesley Street Greenville Hunt TX 75402</td>\n    </tr>\n    <tr>\n      <th>14</th>\n      <td>24</td>\n      <td>3812 Hwy 70 Hugo Choctaw OK 74743</td>\n    </tr>\n    <tr>\n      <th>15</th>\n      <td>26</td>\n      <td>503 SW C Antlers Pushmataha OK 74523</td>\n    </tr>\n    <tr>\n      <th>16</th>\n      <td>27</td>\n      <td>1005 East Main Honey Grove Fannin TX 75446</td>\n    </tr>\n    <tr>\n      <th>17</th>\n      <td>32</td>\n      <td>1001 Van Alstyne Parkway Van Alstyne Grayson T...</td>\n    </tr>\n    <tr>\n      <th>18</th>\n      <td>34</td>\n      <td>2965 South Church Street Paris Lamar TX 75460</td>\n    </tr>\n    <tr>\n      <th>19</th>\n      <td>37</td>\n      <td>103 South Santa Fe Wolfe City Hunt TX 75496</td>\n    </tr>\n    <tr>\n      <th>20</th>\n      <td>38</td>\n      <td>505 South Garfield Kiowa Pittsburg OK 74553</td>\n    </tr>\n    <tr>\n      <th>21</th>\n      <td>50</td>\n      <td>3002 Thorton Lane Temple Bell TX 76502</td>\n    </tr>\n    <tr>\n      <th>22</th>\n      <td>52</td>\n      <td>1003 Hwy 1431 West Marble Falls Burnet TX 78654</td>\n    </tr>\n    <tr>\n      <th>23</th>\n      <td>53</td>\n      <td>1301 Hwy 281 North Marble Falls Burnet TX 78654</td>\n    </tr>\n    <tr>\n      <th>24</th>\n      <td>54</td>\n      <td>201 Hwy 281 &amp; Hwy 290 Johnson City Blanco TX 7...</td>\n    </tr>\n    <tr>\n      <th>25</th>\n      <td>55</td>\n      <td>14417-A Hwy 71 West Austin Travis TX 78738</td>\n    </tr>\n    <tr>\n      <th>26</th>\n      <td>57</td>\n      <td>14620 Ranch Road 12 Wimberley Hays TX 78676</td>\n    </tr>\n    <tr>\n      <th>27</th>\n      <td>59</td>\n      <td>440 Bandera Road Boerne Kendall TX 78006</td>\n    </tr>\n    <tr>\n      <th>28</th>\n      <td>60</td>\n      <td>13006 Bandera Road Helotes Bexar TX 78023</td>\n    </tr>\n    <tr>\n      <th>29</th>\n      <td>61</td>\n      <td>1001 Hwy 16 South Fredericksburg Gillespie TX ...</td>\n    </tr>\n    <tr>\n      <th>30</th>\n      <td>62</td>\n      <td>21024 Hwy 71 W Spicewood Travis TX 78669</td>\n    </tr>\n    <tr>\n      <th>31</th>\n      <td>63</td>\n      <td>15701 W SH 71 Bee Cave Travis TX 78738</td>\n    </tr>\n    <tr>\n      <th>32</th>\n      <td>64</td>\n      <td>2103 Ranch Road 620 South Lakeway Travis TX 78734</td>\n    </tr>\n    <tr>\n      <th>33</th>\n      <td>65</td>\n      <td>1402 Williams Drive Georgetown Williamson TX 7...</td>\n    </tr>\n    <tr>\n      <th>34</th>\n      <td>66</td>\n      <td>15411 East State Hwy 29 Buchanan Dam Llano TX ...</td>\n    </tr>\n    <tr>\n      <th>35</th>\n      <td>67</td>\n      <td>3702 West FM 2147 Cottonwood Shores Llano TX 7...</td>\n    </tr>\n    <tr>\n      <th>36</th>\n      <td>68</td>\n      <td>145 Lehman Road Kyle Hays TX 78640</td>\n    </tr>\n    <tr>\n      <th>37</th>\n      <td>69</td>\n      <td>8103 RR 2243 Leander Williamson TX 78641</td>\n    </tr>\n    <tr>\n      <th>38</th>\n      <td>70</td>\n      <td>800 IH 20 West Big Spring Howard TX 79720</td>\n    </tr>\n    <tr>\n      <th>39</th>\n      <td>71</td>\n      <td>2503 Rankin Hwy Midland Midland TX 79706</td>\n    </tr>\n    <tr>\n      <th>40</th>\n      <td>72</td>\n      <td>2104 East William Joel Bryan Parkway Bryan Bra...</td>\n    </tr>\n    <tr>\n      <th>41</th>\n      <td>73</td>\n      <td>3071 University Drive East Bryan Brazos TX 77840</td>\n    </tr>\n    <tr>\n      <th>42</th>\n      <td>79</td>\n      <td>500 W Thorton Street Three Rivers Live Oak TX ...</td>\n    </tr>\n    <tr>\n      <th>43</th>\n      <td>80</td>\n      <td>801 West Lafayette Laredo Webb TX 78041</td>\n    </tr>\n    <tr>\n      <th>44</th>\n      <td>81</td>\n      <td>7045 North IH 35 Laredo Webb TX 78041</td>\n    </tr>\n    <tr>\n      <th>45</th>\n      <td>82</td>\n      <td>780 Carter Street Asherton Dimmit TX 78827</td>\n    </tr>\n    <tr>\n      <th>46</th>\n      <td>83</td>\n      <td>401 N 1st Street Carrizo Springs Dimmit TX 78834</td>\n    </tr>\n    <tr>\n      <th>47</th>\n      <td>84</td>\n      <td>1000 N 9th Street Carrizo Springs Dimmit TX 78834</td>\n    </tr>\n    <tr>\n      <th>48</th>\n      <td>85</td>\n      <td>1901 N US Hwy 83 Crystal City Zavala TX 78839</td>\n    </tr>\n    <tr>\n      <th>49</th>\n      <td>86</td>\n      <td>1900 N US Hwy 83 Crystal City Zavala TX 78839</td>\n    </tr>\n    <tr>\n      <th>50</th>\n      <td>87</td>\n      <td>481 W US Hwy 57 La Pryor Zavala TX 78872</td>\n    </tr>\n    <tr>\n      <th>51</th>\n      <td>88</td>\n      <td>2757 N Veterans Blvd Eagle Pass Maverick TX 78852</td>\n    </tr>\n    <tr>\n      <th>52</th>\n      <td>89</td>\n      <td>2196 El Indio Hwy Eagle Pass Maverick TX 78852</td>\n    </tr>\n  </tbody>\n</table>\n</div>"
     },
     "execution_count": 149,
     "metadata": {},
     "output_type": "execute_result"
    }
   ],
   "source": [
    "store_info_masterset_df.drop(['Address', 'City', 'County', 'State', 'Zip'], axis=1, inplace=True)\n",
    "store_info_masterset_df"
   ],
   "metadata": {
    "collapsed": false,
    "ExecuteTime": {
     "end_time": "2023-10-02T17:00:15.555862Z",
     "start_time": "2023-10-02T17:00:15.544348Z"
    }
   },
   "id": "60ed6fcd0fd3dd46"
  },
  {
   "cell_type": "code",
   "execution_count": 153,
   "outputs": [
    {
     "data": {
      "text/plain": "{1: '2226 North Center Bonham Fannin TX 75418',\n 3: '971 FM 273 Bonham Fannin TX 75418',\n 5: 'nan Bonham Fannin TX 75418',\n 6: '816 North Center Bonham Fannin TX 75418',\n 7: '101 Hwy 69 Celeste Hunt TX 75423',\n 8: '308 Hwy 69 Leonard Fannin TX 75452',\n 10: '1741 North Hwy 121 Bonham Fannin TX 75418',\n 12: '102 S Hwy 78 Achille Bryan OK 74720',\n 13: '102 West Main Calera Bryan OK 74730',\n 14: '201 South 9th Durant Bryan OK 74701',\n 16: '2320 West Main Durant Bryan OK 74701',\n 17: '13503 S State Hwy 121 Trenton Fannin TX 75490',\n 19: '617 South Hwy 78 Wylie Collin TX 75098',\n 20: '5004 Wesley Street Greenville Hunt TX 75402',\n 24: '3812 Hwy 70 Hugo Choctaw OK 74743',\n 26: '503 SW C Antlers Pushmataha OK 74523',\n 27: '1005 East Main Honey Grove Fannin TX 75446',\n 32: '1001 Van Alstyne Parkway Van Alstyne Grayson TX 75495',\n 34: '2965 South Church Street Paris Lamar TX 75460',\n 37: '103 South Santa Fe Wolfe City Hunt TX 75496',\n 38: '505 South Garfield Kiowa Pittsburg OK 74553',\n 50: '3002 Thorton Lane Temple Bell TX 76502',\n 52: '1003 Hwy 1431 West Marble Falls Burnet TX 78654',\n 53: '1301 Hwy 281 North Marble Falls Burnet TX 78654',\n 54: '201 Hwy 281 & Hwy 290 Johnson City Blanco TX 78636',\n 55: '14417-A Hwy 71 West Austin Travis TX 78738',\n 57: '14620 Ranch Road 12 Wimberley Hays TX 78676',\n 59: '440 Bandera Road Boerne Kendall TX 78006',\n 60: '13006 Bandera Road Helotes Bexar TX 78023',\n 61: '1001 Hwy 16 South Fredericksburg Gillespie TX 78624',\n 62: '21024 Hwy 71 W Spicewood Travis TX 78669',\n 63: '15701 W SH 71 Bee Cave Travis TX 78738',\n 64: '2103 Ranch Road 620 South Lakeway Travis TX 78734',\n 65: '1402 Williams Drive Georgetown Williamson TX 78628',\n 66: '15411 East State Hwy 29 Buchanan Dam Llano TX 78609',\n 67: '3702 West FM 2147 Cottonwood Shores Llano TX 78657',\n 68: '145 Lehman Road Kyle Hays TX 78640',\n 69: '8103 RR 2243 Leander Williamson TX 78641',\n 70: '800 IH 20 West Big Spring Howard TX 79720',\n 71: '2503 Rankin Hwy Midland Midland TX 79706',\n 72: '2104 East William Joel Bryan Parkway Bryan Brazos TX 77802',\n 73: '3071 University Drive East Bryan Brazos TX 77840',\n 79: '500 W Thorton Street Three Rivers Live Oak TX 78071',\n 80: '801 West Lafayette Laredo Webb TX 78041',\n 81: '7045 North IH 35 Laredo Webb TX 78041',\n 82: '780 Carter Street Asherton Dimmit TX 78827',\n 83: '401 N 1st Street Carrizo Springs Dimmit TX 78834',\n 84: '1000 N 9th Street Carrizo Springs Dimmit TX 78834',\n 85: '1901 N US Hwy 83 Crystal City Zavala TX 78839',\n 86: '1900 N US Hwy 83 Crystal City Zavala TX 78839',\n 87: '481 W US Hwy 57 La Pryor Zavala TX 78872',\n 88: '2757 N Veterans Blvd Eagle Pass Maverick TX 78852',\n 89: '2196 El Indio Hwy Eagle Pass Maverick TX 78852'}"
     },
     "execution_count": 153,
     "metadata": {},
     "output_type": "execute_result"
    }
   ],
   "source": [
    "def get_store_num_to_store_addrs(df):\n",
    "    num_to_addrs = {}\n",
    "    for idx, row in df.iterrows():\n",
    "        store_num = row['Store #']\n",
    "        store_addrs = row['store_address']\n",
    "        num_to_addrs[store_num] = store_addrs\n",
    "    \n",
    "    return num_to_addrs\n",
    "        \n",
    "        \n",
    "num_to_addrs = get_store_num_to_store_addrs(store_info_masterset_df)\n",
    "num_to_addrs"
   ],
   "metadata": {
    "collapsed": false,
    "ExecuteTime": {
     "end_time": "2023-10-02T17:09:47.615082Z",
     "start_time": "2023-10-02T17:09:47.608340Z"
    }
   },
   "id": "4d77c39c6eba93c4"
  },
  {
   "cell_type": "code",
   "execution_count": 158,
   "outputs": [],
   "source": [
    "json_output_filepath = '/Users/ekim/workspace/personal/dd-bot/dev/json.csv'"
   ],
   "metadata": {
    "collapsed": false,
    "ExecuteTime": {
     "end_time": "2023-10-02T17:15:45.305399Z",
     "start_time": "2023-10-02T17:15:45.296957Z"
    }
   },
   "id": "83030db0d978aefa"
  },
  {
   "cell_type": "code",
   "execution_count": 159,
   "outputs": [],
   "source": [
    "def get_lst_of_mapped_orders():\n",
    "    with open(json_output_filepath, 'r') as f:\n",
    "        data = json.load(f)\n",
    "        \n",
    "    return data\n",
    "    \n",
    "    \n",
    "data = get_lst_of_mapped_orders()\n",
    "# data"
   ],
   "metadata": {
    "collapsed": false,
    "ExecuteTime": {
     "end_time": "2023-10-02T17:15:45.498227Z",
     "start_time": "2023-10-02T17:15:45.492665Z"
    }
   },
   "id": "eec354ac8eb9b8ae"
  },
  {
   "cell_type": "code",
   "execution_count": 162,
   "outputs": [
    {
     "data": {
      "text/plain": "{'A348DFB6': '801 Lafayette St, Laredo, TX 78041, USA',\n 'EC218FA4': '800 W Interstate 20, Big Spring, TX 79720, USA',\n '7D285B12': '800 W Interstate 20, Big Spring, TX 79720, USA',\n 'F9F46AEF': '1001 W Van Alstyne Pkwy, Van Alstyne, TX 75495, USA',\n '7D8C6B67': '3702 FM2147, Horseshoe Bay, TX 78657, USA',\n '702662D6': '201 S 9th St, Durant, OK 74701, USA',\n '00BEC8AB': '816 N Center St, Bonham, TX 75418, USA',\n 'F20F6AE7': '801 Lafayette St, Laredo, TX 78041, USA',\n 'CA9E35CB': '801 Lafayette St, Laredo, TX 78041, USA',\n 'D5782A52': '2503 TX-349, Midland, TX 79706, USA',\n '5CDF188C': '3702 FM2147, Horseshoe Bay, TX 78657, USA',\n '0BC3FC5E': '2320 W Main St, Durant, OK 74701, USA'}"
     },
     "execution_count": 162,
     "metadata": {},
     "output_type": "execute_result"
    }
   ],
   "source": [
    "def map_order_to_location(orders):\n",
    "    order_id_to_pickup_location  = {}\n",
    "    for order in orders:\n",
    "        order_id = order['Order']\n",
    "        pickup_location = order['Pick Up Location']\n",
    "        order_id_to_pickup_location[order_id] = pickup_location\n",
    "    return order_id_to_pickup_location\n",
    "\n",
    "order_to_location = map_order_to_location(data)\n",
    "order_to_location"
   ],
   "metadata": {
    "collapsed": false,
    "ExecuteTime": {
     "end_time": "2023-10-02T17:33:53.085018Z",
     "start_time": "2023-10-02T17:33:53.078324Z"
    }
   },
   "id": "e91ccebdaa52c965"
  },
  {
   "cell_type": "code",
   "execution_count": 175,
   "outputs": [
    {
     "name": "stdout",
     "output_type": "stream",
     "text": [
      "2226 North Center Bonham Fannin TX 75418\n",
      "971 FM 273 Bonham Fannin TX 75418\n",
      "nan Bonham Fannin TX 75418\n",
      "816 North Center Bonham Fannin TX 75418\n",
      "101 Hwy 69 Celeste Hunt TX 75423\n",
      "308 Hwy 69 Leonard Fannin TX 75452\n",
      "1741 North Hwy 121 Bonham Fannin TX 75418\n",
      "102 S Hwy 78 Achille Bryan OK 74720\n",
      "102 West Main Calera Bryan OK 74730\n",
      "201 South 9th Durant Bryan OK 74701\n",
      "2320 West Main Durant Bryan OK 74701\n",
      "13503 S State Hwy 121 Trenton Fannin TX 75490\n",
      "617 South Hwy 78 Wylie Collin TX 75098\n",
      "5004 Wesley Street Greenville Hunt TX 75402\n",
      "3812 Hwy 70 Hugo Choctaw OK 74743\n",
      "503 SW C Antlers Pushmataha OK 74523\n",
      "1005 East Main Honey Grove Fannin TX 75446\n",
      "1001 Van Alstyne Parkway Van Alstyne Grayson TX 75495\n",
      "2965 South Church Street Paris Lamar TX 75460\n",
      "103 South Santa Fe Wolfe City Hunt TX 75496\n",
      "505 South Garfield Kiowa Pittsburg OK 74553\n",
      "3002 Thorton Lane Temple Bell TX 76502\n",
      "1003 Hwy 1431 West Marble Falls Burnet TX 78654\n",
      "1301 Hwy 281 North Marble Falls Burnet TX 78654\n",
      "201 Hwy 281 & Hwy 290 Johnson City Blanco TX 78636\n",
      "14417-A Hwy 71 West Austin Travis TX 78738\n",
      "14620 Ranch Road 12 Wimberley Hays TX 78676\n",
      "440 Bandera Road Boerne Kendall TX 78006\n",
      "13006 Bandera Road Helotes Bexar TX 78023\n",
      "1001 Hwy 16 South Fredericksburg Gillespie TX 78624\n",
      "21024 Hwy 71 W Spicewood Travis TX 78669\n",
      "15701 W SH 71 Bee Cave Travis TX 78738\n",
      "2103 Ranch Road 620 South Lakeway Travis TX 78734\n",
      "1402 Williams Drive Georgetown Williamson TX 78628\n",
      "15411 East State Hwy 29 Buchanan Dam Llano TX 78609\n",
      "3702 West FM 2147 Cottonwood Shores Llano TX 78657\n",
      "145 Lehman Road Kyle Hays TX 78640\n",
      "8103 RR 2243 Leander Williamson TX 78641\n",
      "800 IH 20 West Big Spring Howard TX 79720\n",
      "2503 Rankin Hwy Midland Midland TX 79706\n",
      "2104 East William Joel Bryan Parkway Bryan Brazos TX 77802\n",
      "3071 University Drive East Bryan Brazos TX 77840\n",
      "500 W Thorton Street Three Rivers Live Oak TX 78071\n",
      "801 West Lafayette Laredo Webb TX 78041\n",
      "7045 North IH 35 Laredo Webb TX 78041\n",
      "780 Carter Street Asherton Dimmit TX 78827\n",
      "401 N 1st Street Carrizo Springs Dimmit TX 78834\n",
      "1000 N 9th Street Carrizo Springs Dimmit TX 78834\n",
      "1901 N US Hwy 83 Crystal City Zavala TX 78839\n",
      "1900 N US Hwy 83 Crystal City Zavala TX 78839\n",
      "481 W US Hwy 57 La Pryor Zavala TX 78872\n",
      "2757 N Veterans Blvd Eagle Pass Maverick TX 78852\n",
      "2196 El Indio Hwy Eagle Pass Maverick TX 78852\n"
     ]
    }
   ],
   "source": [
    "for store_num, store_addrs in num_to_addrs.items():\n",
    "    print(store_addrs)"
   ],
   "metadata": {
    "collapsed": false,
    "ExecuteTime": {
     "end_time": "2023-10-02T17:40:56.413615Z",
     "start_time": "2023-10-02T17:40:56.405798Z"
    }
   },
   "id": "fc5e3548b9e2117"
  },
  {
   "cell_type": "code",
   "execution_count": 170,
   "outputs": [
    {
     "name": "stdout",
     "output_type": "stream",
     "text": [
      "801 Lafayette St, Laredo, TX 78041, USA\n",
      "800 W Interstate 20, Big Spring, TX 79720, USA\n",
      "800 W Interstate 20, Big Spring, TX 79720, USA\n",
      "1001 W Van Alstyne Pkwy, Van Alstyne, TX 75495, USA\n",
      "3702 FM2147, Horseshoe Bay, TX 78657, USA\n",
      "201 S 9th St, Durant, OK 74701, USA\n",
      "816 N Center St, Bonham, TX 75418, USA\n",
      "801 Lafayette St, Laredo, TX 78041, USA\n",
      "801 Lafayette St, Laredo, TX 78041, USA\n",
      "2503 TX-349, Midland, TX 79706, USA\n",
      "3702 FM2147, Horseshoe Bay, TX 78657, USA\n",
      "2320 W Main St, Durant, OK 74701, USA\n"
     ]
    }
   ],
   "source": [
    "def map_order_to_store_num(order_to_location, store_num_to_addrs):\n",
    "    order_to_store_num = {}\n",
    "    \n",
    "    for order_id, pickup_location in order_to_location.items():\n",
    "        for store_num, store_addrs in store_num_to_addrs.items():\n",
    "            if pickup_location in store_addrs:\n",
    "                order_to_store_num[order_id] = store_num\n",
    "                break\n",
    "        return order_to_store_num\n",
    "\n",
    "order_to_store_num_matches = map_order_to_store_num(order_to_location, num_to_addrs)\n",
    "order_to_store_num_matches"
   ],
   "metadata": {
    "collapsed": false,
    "ExecuteTime": {
     "end_time": "2023-10-02T17:38:48.185090Z",
     "start_time": "2023-10-02T17:38:48.176819Z"
    }
   },
   "id": "8f2a306bce10fa9e"
  },
  {
   "cell_type": "code",
   "execution_count": null,
   "outputs": [],
   "source": [],
   "metadata": {
    "collapsed": false
   },
   "id": "2bdc5afe4ceb0ce6"
  }
 ],
 "metadata": {
  "kernelspec": {
   "display_name": "Python 3",
   "language": "python",
   "name": "python3"
  },
  "language_info": {
   "codemirror_mode": {
    "name": "ipython",
    "version": 2
   },
   "file_extension": ".py",
   "mimetype": "text/x-python",
   "name": "python",
   "nbconvert_exporter": "python",
   "pygments_lexer": "ipython2",
   "version": "2.7.6"
  }
 },
 "nbformat": 4,
 "nbformat_minor": 5
}
