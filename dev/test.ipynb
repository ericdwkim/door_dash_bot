{
 "cells": [
  {
   "cell_type": "code",
   "execution_count": 88,
   "id": "initial_id",
   "metadata": {
    "collapsed": true,
    "ExecuteTime": {
     "end_time": "2023-09-28T16:10:36.182830Z",
     "start_time": "2023-09-28T16:10:36.156478Z"
    }
   },
   "outputs": [],
   "source": [
    "from selenium import webdriver\n",
    "from selenium.webdriver.chrome.service import Service\n",
    "from selenium.webdriver.common.by import By\n",
    "from selenium.webdriver.support.ui import WebDriverWait\n",
    "from selenium.webdriver.support import expected_conditions as EC\n",
    "from selenium.common.exceptions import NoSuchElementException, TimeoutException\n",
    "import logging\n",
    "import pandas as pd\n",
    "import re\n",
    "import time\n",
    "import json"
   ]
  },
  {
   "cell_type": "code",
   "execution_count": 89,
   "outputs": [],
   "source": [
    "options = webdriver.ChromeOptions()\n",
    "options.add_experimental_option(\"debuggerAddress\", \"127.0.0.1:9222\")"
   ],
   "metadata": {
    "collapsed": false,
    "ExecuteTime": {
     "end_time": "2023-09-28T16:10:36.889838Z",
     "start_time": "2023-09-28T16:10:36.882522Z"
    }
   },
   "id": "25291fd8b2be6cae"
  },
  {
   "cell_type": "code",
   "execution_count": 90,
   "outputs": [
    {
     "data": {
      "text/plain": "<selenium.webdriver.chrome.webdriver.WebDriver (session=\"4301bfa279d448ad58f4bc8a34f4cb7c\")>"
     },
     "execution_count": 90,
     "metadata": {},
     "output_type": "execute_result"
    }
   ],
   "source": [
    "driver = webdriver.Chrome(service=Service(executable_path=\"/opt/homebrew/bin/chromedriver\"), options=options)\n",
    "\n",
    "driver"
   ],
   "metadata": {
    "collapsed": false,
    "ExecuteTime": {
     "end_time": "2023-09-28T16:10:38.617333Z",
     "start_time": "2023-09-28T16:10:38.055272Z"
    }
   },
   "id": "7f90dad091063b2a"
  },
  {
   "cell_type": "code",
   "execution_count": 91,
   "outputs": [
    {
     "data": {
      "text/plain": "16"
     },
     "execution_count": 91,
     "metadata": {},
     "output_type": "execute_result"
    }
   ],
   "source": [
    "table_rows = driver.find_elements(By.TAG_NAME, 'tr')\n",
    "type(table_rows)\n",
    "len(table_rows)\n",
    "# table_rows\n"
   ],
   "metadata": {
    "collapsed": false,
    "ExecuteTime": {
     "end_time": "2023-09-28T16:10:40.031265Z",
     "start_time": "2023-09-28T16:10:39.996539Z"
    }
   },
   "id": "ad745f08a04dc3eb"
  },
  {
   "cell_type": "code",
   "execution_count": 93,
   "outputs": [
    {
     "data": {
      "text/plain": "15"
     },
     "execution_count": 93,
     "metadata": {},
     "output_type": "execute_result"
    }
   ],
   "source": [
    "def get_all_table_rows_except_header_row():\n",
    "    table_rows = driver.find_elements(By.TAG_NAME, 'tr')\n",
    "    \n",
    "    return table_rows[1:]\n",
    "\n",
    "table_rows = get_all_table_rows_except_header_row()\n",
    "len(table_rows)"
   ],
   "metadata": {
    "collapsed": false,
    "ExecuteTime": {
     "end_time": "2023-09-28T16:10:44.404768Z",
     "start_time": "2023-09-28T16:10:44.354802Z"
    }
   },
   "id": "c48afb1dbcf8a070"
  },
  {
   "cell_type": "code",
   "execution_count": 94,
   "outputs": [],
   "source": [
    "def wait_for_element(locator, locator_type, timeout):\n",
    "    try:\n",
    "        WebDriverWait(driver, timeout).until(\n",
    "            EC.visibility_of_element_located((locator_type, locator)))\n",
    "        return True\n",
    "    except Exception as e:\n",
    "        logging.exception(f'An unexpected error occurred: {e}')\n",
    "        return False"
   ],
   "metadata": {
    "collapsed": false,
    "ExecuteTime": {
     "end_time": "2023-09-28T16:10:46.456043Z",
     "start_time": "2023-09-28T16:10:46.449186Z"
    }
   },
   "id": "78c44f650ac5afc7"
  },
  {
   "cell_type": "code",
   "execution_count": 95,
   "outputs": [],
   "source": [
    "def wait_for_and_find_element(locator, locator_type, timeout):\n",
    "    try:\n",
    "        wait = wait_for_element(locator, locator_type, timeout)\n",
    "        if not wait:\n",
    "            logging.error(f'Tried to wait to locate element via locator \"{locator}\", but timed out')\n",
    "            return False, None\n",
    "        element = driver.find_element(locator_type, locator)\n",
    "        if not element:\n",
    "            logging.error(f'Could not find element via locator \"{locator}\"')\n",
    "            return True, None\n",
    "        if wait and element:\n",
    "            logging.info(f'Found and located element via locator \"{locator}\"')\n",
    "            return True, element\n",
    "\n",
    "    except Exception as NoSuchElementException:\n",
    "        logging.exception(f'An unexpected error occurred: {NoSuchElementException}')\n"
   ],
   "metadata": {
    "collapsed": false,
    "ExecuteTime": {
     "end_time": "2023-09-28T16:10:46.814236Z",
     "start_time": "2023-09-28T16:10:46.808296Z"
    }
   },
   "id": "2877418d5a43e6d0"
  },
  {
   "cell_type": "code",
   "execution_count": 96,
   "outputs": [],
   "source": [
    "def find_element_and_click(locator ,locator_type=By.CSS_SELECTOR):\n",
    "    \"\"\"\n",
    "    Finds element and clicks it using `WebElement.click()`\n",
    "    :param locator:\n",
    "    :param locator_type:\n",
    "    :return: Tuple(bool, WebElement)\n",
    "    \"\"\"\n",
    "    try:\n",
    "        element = driver.find_element(locator_type, locator)\n",
    "        if not element:\n",
    "            logging.error(f'Could not locate element via locator \"{locator}\".')\n",
    "        element.click()\n",
    "        return True, element\n",
    "    except NoSuchElementException:\n",
    "        logging.exception(f'Element {locator} was not found.')\n",
    "        return False, None\n",
    "    except Exception as e:\n",
    "        logging.exception(f'Error occurred when trying to find and click element with locator: \"{locator}\" resulting in error message: {str(e)}')\n",
    "        return False, None\n"
   ],
   "metadata": {
    "collapsed": false,
    "ExecuteTime": {
     "end_time": "2023-09-28T16:10:48.054150Z",
     "start_time": "2023-09-28T16:10:48.041001Z"
    }
   },
   "id": "997514471fa6bfcd"
  },
  {
   "cell_type": "code",
   "execution_count": 97,
   "outputs": [],
   "source": [
    "def find_and_click_exit_button():\n",
    "    exit_btn_clicked, _ = find_element_and_click(\n",
    "        locator='//*[@id=\"MerchantApp\"]/div/div/div[3]/div[2]/div[2]/div/div/div[1]/nav/div[1]/div[1]/div/button',\n",
    "        locator_type=By.XPATH)\n",
    "    return exit_btn_clicked\n"
   ],
   "metadata": {
    "collapsed": false,
    "ExecuteTime": {
     "end_time": "2023-09-28T16:10:49.360109Z",
     "start_time": "2023-09-28T16:10:49.351707Z"
    }
   },
   "id": "ae9ab10db9f30885"
  },
  {
   "cell_type": "code",
   "execution_count": 98,
   "outputs": [],
   "source": [
    "def process_row(table_row, orders):\n",
    "    table_row.click()\n",
    "    time.sleep(5)  # wait for ssb to load on dom\n",
    "    \n",
    "    found, elem = wait_for_and_find_element(locator=\"//*[@class='styles__SidesheetContent-sc-czzuxh-2 hKVVOI']\", locator_type=By.XPATH, timeout=10)\n",
    "\n",
    "\n",
    "    if found:\n",
    "        start_length = len(orders)\n",
    "        orders.append(elem.text)\n",
    "        end_length = len(orders)\n",
    "\n",
    "        if end_length > start_length:\n",
    "            exit_btn_clicked = find_and_click_exit_button()\n",
    "\n",
    "            if exit_btn_clicked:\n",
    "                logging.info(f'Exiting sidesheetbody.')\n",
    "                return True\n",
    "    return False\n"
   ],
   "metadata": {
    "collapsed": false,
    "ExecuteTime": {
     "end_time": "2023-09-28T16:10:49.936415Z",
     "start_time": "2023-09-28T16:10:49.925043Z"
    }
   },
   "id": "ff07a0c43242a6c4"
  },
  {
   "cell_type": "code",
   "execution_count": 99,
   "outputs": [],
   "source": [
    "def iterate_table_rows(table_rows, orders):\n",
    "    idx = 0 \n",
    "    while idx < len(table_rows):\n",
    "        table_row = table_rows[idx]\n",
    "\n",
    "        if process_row(table_row, orders):\n",
    "            idx += 1\n",
    "        else:\n",
    "            logging.error(f\"Failed to process Order #: {idx + 1}\")\n",
    "\n"
   ],
   "metadata": {
    "collapsed": false,
    "ExecuteTime": {
     "end_time": "2023-09-28T16:10:50.922386Z",
     "start_time": "2023-09-28T16:10:50.915081Z"
    }
   },
   "id": "5a61f2d0c2543c6c"
  },
  {
   "cell_type": "code",
   "execution_count": 100,
   "outputs": [],
   "source": [
    "def orders_scraper():\n",
    "    orders = []\n",
    "    table_rows = get_all_table_rows_except_header_row()\n",
    "    \n",
    "    iterate_table_rows(table_rows, orders)\n",
    "    \n",
    "    return orders\n",
    "    "
   ],
   "metadata": {
    "collapsed": false,
    "ExecuteTime": {
     "end_time": "2023-09-28T16:10:52.271275Z",
     "start_time": "2023-09-28T16:10:52.262800Z"
    }
   },
   "id": "b2031cfaf715f0a4"
  },
  {
   "cell_type": "code",
   "execution_count": 101,
   "outputs": [],
   "source": [
    "# def orders_scraper():\n",
    "#     orders = []\n",
    "#     \n",
    "#     for idx, table_row in enumerate(table_rows):\n",
    "#         if idx >= 1:\n",
    "#             table_row.click()\n",
    "#             \n",
    "#             time.sleep(5)  # wait for ssb to load on dom\n",
    "#             \n",
    "#             found, elem = wait_for_and_find_element(locator=\"//*[@class='styles__SidesheetContent-sc-czzuxh-2 hKVVOI']\", locator_type=By.XPATH, timeout=10)\n",
    "#             \n",
    "#             \n",
    "#             start_length = len(orders)\n",
    "#             orders.append(elem.text)\n",
    "#             end_length = len(orders)\n",
    "#             \n",
    "#             if end_length > start_length:\n",
    "#                 exit_btn_clicked = find_element_and_click(locator='//*[@id=\"MerchantApp\"]/div/div/div[3]/div[2]/div[2]/div/div/div[1]/nav/div[1]/div[1]/div/button', locator_type=By.XPATH)\n",
    "# \n",
    "#                 if exit_btn_clicked:\n",
    "#                     logging.info(f'Exiting sidesheetbody for Order #: {idx}')\n",
    "# \n",
    "#     return orders\n"
   ],
   "metadata": {
    "collapsed": false,
    "ExecuteTime": {
     "end_time": "2023-09-28T16:11:01.613706Z",
     "start_time": "2023-09-28T16:11:01.599176Z"
    }
   },
   "id": "7f40e728c4ba3e02"
  },
  {
   "cell_type": "code",
   "execution_count": 102,
   "outputs": [],
   "source": [
    "# orders = orders_scraper()\n",
    "# orders"
   ],
   "metadata": {
    "collapsed": false,
    "ExecuteTime": {
     "end_time": "2023-09-28T16:11:01.984343Z",
     "start_time": "2023-09-28T16:11:01.931573Z"
    }
   },
   "id": "9ba45328d137fe21"
  },
  {
   "cell_type": "code",
   "execution_count": 103,
   "outputs": [],
   "source": [
    "def clean_order_text(order):\n",
    "    # Define the patterns in a list\n",
    "    patterns = [\n",
    "        re.compile(r'(Rate Dasher|Learn More|Get help).*?(?=Pick Up Location)', re.DOTALL),\n",
    "        re.compile(r'Channel.*?(?=Order Details)', re.DOTALL),\n",
    "        re.compile(r'Associated Transactions \\(\\d+\\).*?(?=Transaction #\\d+ - Delivery)', re.DOTALL),\n",
    "        re.compile(r'Associated Transactions \\(\\d+\\).*?(?=Transaction #\\d+ - Pickup)', re.DOTALL)\n",
    "\n",
    "    ]\n",
    "\n",
    "    # Apply each pattern\n",
    "    for pattern in patterns:\n",
    "        order = re.sub(pattern, '', order).strip()\n",
    "\n",
    "    # Replace newline characters with spaces\n",
    "    order = order.replace('\\n', ' ')\n",
    "\n",
    "    return order\n"
   ],
   "metadata": {
    "collapsed": false,
    "ExecuteTime": {
     "end_time": "2023-09-28T16:11:03.546155Z",
     "start_time": "2023-09-28T16:11:03.539693Z"
    }
   },
   "id": "1a29849fa066b91f"
  },
  {
   "cell_type": "code",
   "execution_count": 104,
   "outputs": [],
   "source": [
    "def parse_menu_items(price_as_value):\n",
    "    # Initialize a dictionary for the nested order details\n",
    "    item_name_to_item_price = {}\n",
    "\n",
    "    # Regular expression pattern to match an item and its corresponding price\n",
    "    pattern = re.compile(r'(.+?) (\\$\\d+\\.\\d+)')\n",
    "\n",
    "    # Find all matches in the string\n",
    "    matches = pattern.findall(price_as_value)\n",
    "\n",
    "    # Loop through all the matches and populate the dictionary\n",
    "    for item_name, item_price in matches:\n",
    "        item_name_to_item_price[item_name] = item_price\n",
    "\n",
    "    return item_name_to_item_price\n"
   ],
   "metadata": {
    "collapsed": false,
    "ExecuteTime": {
     "end_time": "2023-09-28T16:11:04.165802Z",
     "start_time": "2023-09-28T16:11:04.139861Z"
    }
   },
   "id": "48f8a5ee211cd0c"
  },
  {
   "cell_type": "code",
   "execution_count": 105,
   "outputs": [],
   "source": [
    "def parse_order(order):\n",
    "    # Define the known keys with their regex patterns\n",
    "    known_keys = [r'\\bOrder: \\b', r'\\bDelivered\\b', r'\\bCustomer\\sPicked\\sUp\\b', r'\\bCancelled\\s-\\sNot\\sPaid\\b', r'\\bCancelled\\s-\\sPaid\\b', r'\\bPick Up Location\\b', r'\\bOrder Details\\b',\n",
    "                  r'\\bSubtotal\\b(?=\\s[^a-zA-Z])', r'\\bSubtotal\\sTax\\b', r'Commission \\(\\d+%\\)',\n",
    "                  r'\\bTotal Customer Refund\\b', r'\\bEstimated Payout\\b', r'\\bAssociated Transactions \\(\\d+%\\)',\n",
    "                  r'Transaction #\\d+ - Delivery']\n",
    "\n",
    "    # Initialize the dictionary to store our parsed values\n",
    "    order_dict = {}\n",
    "\n",
    "    # Find positions of known keys\n",
    "    positions = []\n",
    "    for key in known_keys:\n",
    "        for m in re.finditer(key, order):\n",
    "            positions.append((m.start(), m.end(), m.group()))\n",
    "\n",
    "    # Sort positions by their start index\n",
    "    positions.sort(key=lambda x: x[0])\n",
    "    # print(positions)\n",
    "\n",
    "    # Create segments based on positions\n",
    "    segments = []\n",
    "\n",
    "    for i in range(len(positions)):\n",
    "        start = positions[i][1]\n",
    "        end = positions[i + 1][0] if i + 1 < len(positions) else len(order)\n",
    "        key = positions[i][2]\n",
    "        value = order[start:end].strip().split(' ')[0] if 'Estimated Payout' in key else order[start:end].strip()\n",
    "        segments.append((key, value))\n",
    "\n",
    "    # Parse segments into dictionary\n",
    "    for key, value in segments:\n",
    "        if key == \"Order Details\":\n",
    "            value = parse_menu_items(value)\n",
    "        order_dict[key.replace(':', '').strip()] = value\n",
    "\n",
    "    return order_dict\n"
   ],
   "metadata": {
    "collapsed": false,
    "ExecuteTime": {
     "end_time": "2023-09-28T16:11:05.192023Z",
     "start_time": "2023-09-28T16:11:05.187893Z"
    }
   },
   "id": "908a80250670f0ee"
  },
  {
   "cell_type": "code",
   "execution_count": 108,
   "outputs": [],
   "source": [
    "def main_looper_func(orders):\n",
    "\n",
    "    results = []\n",
    "\n",
    "    for order in orders:\n",
    "        # 1. Get order strings squeaky clean!\n",
    "        order_cleaned = clean_order_text(order)\n",
    "\n",
    "        # 2. Parse each cleaned order string into formatted key/value pairs\n",
    "        parsed_order = parse_order(order_cleaned)\n",
    "\n",
    "        results.append(parsed_order)\n",
    "\n",
    "    return results\n"
   ],
   "metadata": {
    "collapsed": false,
    "ExecuteTime": {
     "end_time": "2023-09-28T16:25:43.936483Z",
     "start_time": "2023-09-28T16:25:43.908149Z"
    }
   },
   "id": "2248d864d3a3b9a6"
  },
  {
   "cell_type": "code",
   "execution_count": 109,
   "outputs": [],
   "source": [
    "orders = orders_scraper()"
   ],
   "metadata": {
    "collapsed": false,
    "ExecuteTime": {
     "end_time": "2023-09-28T16:27:28.221301Z",
     "start_time": "2023-09-28T16:25:44.680507Z"
    }
   },
   "id": "e13f63df8f80cb94"
  },
  {
   "cell_type": "code",
   "execution_count": 38,
   "outputs": [],
   "source": [
    "results = main_looper_func(orders)"
   ],
   "metadata": {
    "collapsed": false,
    "ExecuteTime": {
     "end_time": "2023-09-28T14:41:03.053547Z",
     "start_time": "2023-09-28T14:41:03.049966Z"
    }
   },
   "id": "c5030719f048513b"
  },
  {
   "cell_type": "code",
   "execution_count": 41,
   "outputs": [
    {
     "name": "stdout",
     "output_type": "stream",
     "text": [
      "[\n",
      "    {\n",
      "        \"Order\": \"E4D52343\",\n",
      "        \"Delivered\": \"The order was delivered at 11:20 PM on September 27, 2023.\",\n",
      "        \"Pick Up Location\": \"5004 Wesley St, Greenville, TX 75402, USA\",\n",
      "        \"Order Details\": {\n",
      "            \"1 \\u00d7 Hostess Chocolate Ding Dong 2pk (2.55oz) (Pastry TX)\": \"$3.79\",\n",
      "            \" 1 \\u00d7 Coke Cherry Bottle (20oz) (Soda TX)\": \"$3.79\",\n",
      "            \" 1 \\u00d7 Coke Classic Bottle (20oz) (Soda TX)\": \"$3.19\"\n",
      "        },\n",
      "        \"Subtotal\": \"$10.77\",\n",
      "        \"Subtotal Tax\": \"$0.89\",\n",
      "        \"Commission (16%)\": \"-$1.72\",\n",
      "        \"Total Customer Refund\": \"-$0.00\",\n",
      "        \"Estimated Payout\": \"$9.94\",\n",
      "        \"Transaction #8079836740 - Delivery\": \"$9.94\"\n",
      "    },\n",
      "    {\n",
      "        \"Order\": \"28F4404A\",\n",
      "        \"Delivered\": \"The order was delivered at 10:46 PM on September 27, 2023.\",\n",
      "        \"Pick Up Location\": \"800 W Interstate 20, Big Spring, TX 79720, USA\",\n",
      "        \"Order Details\": {\n",
      "            \"1 \\u00d7 Funyuns Flavored Onion Rings (2.125 oz) (Chips & Popcorn TX)\": \"$2.89\",\n",
      "            \" 1 \\u00d7 Ben & Jerry's Americone Dream Ice Cream (16 oz) (Ice Cream TX)\": \"$12.49\"\n",
      "        },\n",
      "        \"Subtotal\": \"$15.38\",\n",
      "        \"Subtotal Tax\": \"$0.00\",\n",
      "        \"Commission (23%)\": \"-$3.54\",\n",
      "        \"Total Customer Refund\": \"-$0.00\",\n",
      "        \"Estimated Payout\": \"$11.84\",\n",
      "        \"Transaction #8079668211 - Delivery\": \"$11.84\"\n",
      "    },\n",
      "    {\n",
      "        \"Order\": \"0615F152\",\n",
      "        \"Delivered\": \"The order was delivered at 10:12 PM on September 27, 2023.\",\n",
      "        \"Pick Up Location\": \"5004 Wesley St, Greenville, TX 75402, USA\",\n",
      "        \"Order Details\": {\n",
      "            \"3 \\u00d7 Hurricane Hi-Gravity, 25oz can domestic (8% ABV) (Flavored Malt Beverages NT)\": \"$13.17\"\n",
      "        },\n",
      "        \"Subtotal\": \"$13.17\",\n",
      "        \"Subtotal Tax\": \"$1.09\",\n",
      "        \"Commission (16%)\": \"-$2.11\",\n",
      "        \"Total Customer Refund\": \"-$0.00\",\n",
      "        \"Estimated Payout\": \"$12.15\",\n",
      "        \"Transaction #8079394857 - Delivery\": \"$12.15\"\n",
      "    },\n",
      "    {\n",
      "        \"Order\": \"17801D9C\",\n",
      "        \"Delivered\": \"The order was delivered at 9:56 PM on September 27, 2023.\",\n",
      "        \"Pick Up Location\": \"5004 Wesley St, Greenville, TX 75402, USA\",\n",
      "        \"Order Details\": {\n",
      "            \"2 \\u00d7 Strawberry Milk (16 oz) (Milk TX)\": \"$7.58\"\n",
      "        },\n",
      "        \"Subtotal\": \"$7.58\",\n",
      "        \"Subtotal Tax\": \"$0.63\",\n",
      "        \"Commission (16%)\": \"-$1.21\",\n",
      "        \"Total Customer Refund\": \"-$0.00\",\n",
      "        \"Estimated Payout\": \"$7.00\",\n",
      "        \"Transaction #8079340144 - Delivery\": \"$7.00\"\n",
      "    },\n",
      "    {\n",
      "        \"Order\": \"954AAE38\",\n",
      "        \"Delivered\": \"The order was delivered at 9:35 PM on September 27, 2023.\",\n",
      "        \"Pick Up Location\": \"7045 W Del Mar Blvd, Laredo, TX 78041, USA\",\n",
      "        \"Order Details\": {\n",
      "            \"1 \\u00d7 TXB Green Tea Bottle (16oz) (Tea TX)\": \"$2.59\",\n",
      "            \" 1 \\u00d7 TXB Sweet Tea Bottle (16oz) (Tea TX)\": \"$3.29\",\n",
      "            \" 2 \\u00d7 TXB Rehydration Mango Bottle (16oz) (Sports Drinks TX)\": \"$7.58\",\n",
      "            \" 2 \\u00d7 Fiji Natural Artesian Water Bottle (1 lt) (Water TX)\": \"$9.98\",\n",
      "            \" 5 \\u00d7 Hurricane Hi-Gravity, 25oz can domestic (8% ABV) (Flavored Malt Beverages Laredo)\": \"$21.95\"\n",
      "        },\n",
      "        \"Subtotal\": \"$45.39\",\n",
      "        \"Subtotal Tax\": \"$2.65\",\n",
      "        \"Commission (23%)\": \"-$10.44\",\n",
      "        \"Total Customer Refund\": \"-$0.00\",\n",
      "        \"Estimated Payout\": \"$37.60\",\n",
      "        \"Transaction #8079125609 - Delivery\": \"$37.60\"\n",
      "    },\n",
      "    {\n",
      "        \"Order\": \"5C7D334F\",\n",
      "        \"Delivered\": \"The order was delivered at 9:09 PM on September 27, 2023.\",\n",
      "        \"Pick Up Location\": \"2196 El Indio Hwy, Eagle Pass, TX 78852, USA\",\n",
      "        \"Order Details\": {\n",
      "            \"1 \\u00d7 Michelob Ultra Light Beer Can (12 oz x 6 ct) (Domestic Beer ST)\": \"$16.29\"\n",
      "        },\n",
      "        \"Subtotal\": \"$16.29\",\n",
      "        \"Subtotal Tax\": \"$1.34\",\n",
      "        \"Commission (25%)\": \"-$4.07\",\n",
      "        \"Total Customer Refund\": \"-$0.00\",\n",
      "        \"Estimated Payout\": \"$13.56\",\n",
      "        \"Transaction #8078904704 - Delivery\": \"$13.56\"\n",
      "    },\n",
      "    {\n",
      "        \"Order\": \"BECAB99B\",\n",
      "        \"Delivered\": \"The order was delivered at 9:01 PM on September 27, 2023.\",\n",
      "        \"Pick Up Location\": \"7045 W Del Mar Blvd, Laredo, TX 78041, USA\",\n",
      "        \"Order Details\": {\n",
      "            \"1 \\u00d7 Twisted Tea Hard Ice Cocktail Original Can (12 oz x 12 ct) (Flavored Malt Beverages Laredo)\": \"$23.79\"\n",
      "        },\n",
      "        \"Subtotal\": \"$23.79\",\n",
      "        \"Subtotal Tax\": \"$1.96\",\n",
      "        \"Commission (16%)\": \"-$3.81\",\n",
      "        \"Total Customer Refund\": \"-$0.00\",\n",
      "        \"Estimated Payout\": \"$21.94\",\n",
      "        \"Transaction #8078930991 - Delivery\": \"$21.94\"\n",
      "    },\n",
      "    {\n",
      "        \"Order\": \"B5781BD7\",\n",
      "        \"Delivered\": \"The order was delivered at 7:28 PM on September 27, 2023.\",\n",
      "        \"Pick Up Location\": \"7045 W Del Mar Blvd, Laredo, TX 78041, USA\",\n",
      "        \"Order Details\": {\n",
      "            \"1 \\u00d7 Twisted Tea Hard Ice Cocktail Original Can (12 oz x 12 ct) (Flavored Malt Beverages Laredo)\": \"$23.79\"\n",
      "        },\n",
      "        \"Subtotal\": \"$23.79\",\n",
      "        \"Subtotal Tax\": \"$1.96\",\n",
      "        \"Commission (23%)\": \"-$5.47\",\n",
      "        \"Total Customer Refund\": \"-$0.00\",\n",
      "        \"Estimated Payout\": \"$20.28\",\n",
      "        \"Transaction #8078008769 - Delivery\": \"$20.28\"\n",
      "    },\n",
      "    {\n",
      "        \"Order\": \"FEAAAC93\",\n",
      "        \"Delivered\": \"The order was delivered at 6:56 PM on September 27, 2023.\",\n",
      "        \"Pick Up Location\": \"440 W Bandera Rd, Boerne, TX 78006, USA\",\n",
      "        \"Order Details\": {\n",
      "            \"1 \\u00d7 A&W Caffeine-Free Root Beer Bottle (20 oz) (Soda TX)\": \"$3.79\",\n",
      "            \" 1 \\u00d7 Dr Pepper Can (12 pk-12 oz) (Soda TX)\": \"$11.29\",\n",
      "            \" 1 \\u00d7 Fountain Drink (Fountain, Frozen, & Tea) Drink Selection: TXB Root Beer\": \"$0.00\"\n",
      "        },\n",
      "        \"Subtotal\": \"$15.08\",\n",
      "        \"Subtotal Tax\": \"$1.24\",\n",
      "        \"Commission (25%)\": \"-$3.77\",\n",
      "        \"Total Customer Refund\": \"-$0.00\",\n",
      "        \"Estimated Payout\": \"$12.55\",\n",
      "        \"Transaction #8077561887 - Delivery\": \"$12.55\"\n",
      "    },\n",
      "    {\n",
      "        \"Order\": \"1FEC2A67\",\n",
      "        \"Delivered\": \"The order was delivered at 1:03 PM on September 27, 2023.\",\n",
      "        \"Pick Up Location\": \"14620 Ranch Rd 12, Wimberley, TX 78676, USA\",\n",
      "        \"Order Details\": {\n",
      "            \"3 \\u00d7 Cayman Jack Margarita Can (19 oz) (Flavored Malt Beverages CT)\": \"$17.07\",\n",
      "            \" 1 \\u00d7 Chicken Tender Meal Kit (Meal Kits TXB#57)\": \"$9.19\"\n",
      "        },\n",
      "        \"Subtotal\": \"$26.26\",\n",
      "        \"Subtotal Tax\": \"$2.17\",\n",
      "        \"Commission (23%)\": \"-$6.04\",\n",
      "        \"Total Customer Refund\": \"-$0.00\",\n",
      "        \"Estimated Payout\": \"$22.39\",\n",
      "        \"Transaction #8074780361 - Delivery\": \"$22.39\"\n",
      "    },\n",
      "    {\n",
      "        \"Order\": \"3A74DC14\",\n",
      "        \"Delivered\": \"The order was delivered at 10:20 AM on September 27, 2023.\",\n",
      "        \"Pick Up Location\": \"2320 W Main St, Durant, OK 74701, USA\",\n",
      "        \"Order Details\": {\n",
      "            \"1 \\u00d7 Tropicana Apple Juice (12oz) (Juice OK)\": \"$3.89\",\n",
      "            \" 1 \\u00d7 Starbucks Double Shot Espresso Shot Coffee Can (6.5 oz) (Coffee OK)\": \"$4.79\",\n",
      "            \" 1 \\u00d7 TXB Coffee or Cappuccino (20 oz) (Brewed Coffee) Flavor: TXB Southern Pecan Coffee\": \"$0.00\",\n",
      "            \" 2 \\u00d7 Red Bull Energy Drink Can (12 oz) (Energy Drinks OK)\": \"$11.58\"\n",
      "        },\n",
      "        \"Subtotal\": \"$20.26 Promo Paid by DoorDash -$20.00 (DashPass Appreciation) Subtotal for Tax Calculations $0.26\",\n",
      "        \"Subtotal Tax\": \"$0.02\",\n",
      "        \"Commission (23%)\": \"-$4.66\",\n",
      "        \"Total Customer Refund\": \"-$0.00\",\n",
      "        \"Estimated Payout\": \"$15.60\",\n",
      "        \"Transaction #8073758089 - Delivery\": \"$15.60\"\n",
      "    },\n",
      "    {\n",
      "        \"Order\": \"DC085D8D\",\n",
      "        \"Cancelled - Paid\": \"The order was cancelled on September 27, 2023 at 4:03 AM. You\\u2019re paid for cancelled orders when you\\u2019ve successfully confirmed an order, it was prepared, and you did not initiate or are not at fault for the cancellation.\",\n",
      "        \"Pick Up Location\": \"2503 TX-349, Midland, TX 79706, USA\",\n",
      "        \"Order Details\": {\n",
      "            \"1 \\u00d7 Big Red Bottle (20oz) (Soda TX)\": \"$3.79\",\n",
      "            \" 1 \\u00d7 Funyuns Flavored Onion Rings (2.125 oz) (Chips & Popcorn TX)\": \"$2.89\"\n",
      "        },\n",
      "        \"Subtotal\": \"$6.68\",\n",
      "        \"Subtotal Tax\": \"$0.47\",\n",
      "        \"Commission (16%)\": \"-$1.07\",\n",
      "        \"Total Customer Refund\": \"-$0.00\",\n",
      "        \"Estimated Payout\": \"$6.08\",\n",
      "        \"Transaction #8073062041 - Delivery\": \"$6.08\"\n",
      "    },\n",
      "    {\n",
      "        \"Order\": \"47EA8AA8\",\n",
      "        \"Delivered\": \"The order was delivered at 1:56 AM on September 27, 2023.\",\n",
      "        \"Pick Up Location\": \"5004 Wesley St, Greenville, TX 75402, USA\",\n",
      "        \"Order Details\": {\n",
      "            \"1 \\u00d7 Gardettos Original Recipe Snax Mix (5.5 oz) (Crackers & Pretzels TX)\": \"$5.49\",\n",
      "            \" 1 \\u00d7 Hostess Zingers Raspberrry 3pk (4.02oz) (Pastry TX)\": \"$3.79\",\n",
      "            \" 1 \\u00d7 Cheetos Crunchy Jalapeno (8.5 oz) (Chips & Popcorn TX)\": \"$3.19\",\n",
      "            \" 2 \\u00d7 Strawberry Milk (16 oz) (Milk TX)\": \"$7.58\",\n",
      "            \" 1 \\u00d7 Lay's Ranch Dip (15 oz) (Dips & Salsa TX)\": \"$5.69\",\n",
      "            \" 1 \\u00d7 Fritos Scoops Corn Chips (9.25 oz) (Chips & Popcorn TX)\": \"$6.49\"\n",
      "        },\n",
      "        \"Subtotal\": \"$32.23\",\n",
      "        \"Subtotal Tax\": \"$1.45\",\n",
      "        \"Commission (23%)\": \"-$7.41\",\n",
      "        \"Total Customer Refund\": \"-$0.00\",\n",
      "        \"Estimated Payout\": \"$26.27\",\n",
      "        \"Transaction #8072936637 - Delivery\": \"$26.27\"\n",
      "    },\n",
      "    {\n",
      "        \"Order\": \"AB9E7456\",\n",
      "        \"Delivered\": \"The order was delivered at 1:28 AM on September 27, 2023.\",\n",
      "        \"Pick Up Location\": \"145 Lehman Rd, Kyle, TX 78640, USA\",\n",
      "        \"Order Details\": {\n",
      "            \"1 \\u00d7 Peanut Butter Chunk Cookie (Pastries & Desserts)\": \"$2.49\",\n",
      "            \" 1 \\u00d7 Chocolate Pudding Cup with Chocolate Chip Cookie (Pastries & Desserts)\": \"$4.99\"\n",
      "        },\n",
      "        \"Subtotal\": \"$7.48\",\n",
      "        \"Subtotal Tax\": \"$0.95\",\n",
      "        \"Commission (16%)\": \"-$1.20\",\n",
      "        \"Total Customer Refund\": \"-$0.00\",\n",
      "        \"Estimated Payout\": \"$7.23\",\n",
      "        \"Transaction #8072875953 - Delivery\": \"$7.23\"\n",
      "    },\n",
      "    {\n",
      "        \"Order\": \"0D7FFFFF\",\n",
      "        \"Cancelled - Not Paid\": \"The order was cancelled on September 27, 2023 at 12:01 AM. You were not paid because you were unable to fulfill the order.\",\n",
      "        \"Pick Up Location\": \"7045 W Del Mar Blvd, Laredo, TX 78041, USA\",\n",
      "        \"Order Details\": {\n",
      "            \"2 \\u00d7 Coors Original Beer Bottle (12oz x 6ct) (Domestic Beer Laredo)\": \"$22.58\"\n",
      "        },\n",
      "        \"Subtotal\": \"$22.58\",\n",
      "        \"Subtotal Tax\": \"$2.88\",\n",
      "        \"Commission (23%)\": \"-$5.19\",\n",
      "        \"Total Customer Refund\": \"-$0.00\",\n",
      "        \"Estimated Payout\": \"$0.00\"\n",
      "    }\n",
      "]\n"
     ]
    }
   ],
   "source": [
    "def prettify_list_of_dicts(list_of_dicts):\n",
    "    return json.dumps(list_of_dicts, indent=4)\n",
    "\n",
    "\n",
    "print(prettify_list_of_dicts(results))\n",
    "\n"
   ],
   "metadata": {
    "collapsed": false,
    "ExecuteTime": {
     "end_time": "2023-09-28T14:41:23.425714Z",
     "start_time": "2023-09-28T14:41:23.407588Z"
    }
   },
   "id": "1c8f195d766aae07"
  },
  {
   "cell_type": "code",
   "execution_count": 17,
   "outputs": [],
   "source": [
    "def get_order_id(order_text):\n",
    "    # Extract the order_id\n",
    "    order_id_start = order_text.find(\"Order:\") + len(\"Order:\")\n",
    "    order_id_end = order_text.find(\"\\n\", order_id_start)\n",
    "    order_id = order_text[order_id_start:order_id_end]\n",
    "    return order_id"
   ],
   "metadata": {
    "collapsed": false,
    "ExecuteTime": {
     "end_time": "2023-09-26T15:39:08.710782Z",
     "start_time": "2023-09-26T15:39:08.703426Z"
    }
   },
   "id": "d5b9e7c703f040e9"
  },
  {
   "cell_type": "code",
   "execution_count": 92,
   "outputs": [
    {
     "ename": "AttributeError",
     "evalue": "'XlsxWriter' object has no attribute 'save'",
     "output_type": "error",
     "traceback": [
      "\u001B[0;31m---------------------------------------------------------------------------\u001B[0m",
      "\u001B[0;31mAttributeError\u001B[0m                            Traceback (most recent call last)",
      "Cell \u001B[0;32mIn[92], line 25\u001B[0m\n\u001B[1;32m     21\u001B[0m     \u001B[38;5;66;03m# Close the Pandas Excel writer and save the file\u001B[39;00m\n\u001B[1;32m     22\u001B[0m     writer\u001B[38;5;241m.\u001B[39msave()\n\u001B[0;32m---> 25\u001B[0m \u001B[43morders_spreadsheet_creator\u001B[49m\u001B[43m(\u001B[49m\u001B[43morders_content\u001B[49m\u001B[43m)\u001B[49m\n",
      "Cell \u001B[0;32mIn[92], line 22\u001B[0m, in \u001B[0;36morders_spreadsheet_creator\u001B[0;34m(orders)\u001B[0m\n\u001B[1;32m     19\u001B[0m         df\u001B[38;5;241m.\u001B[39mto_excel(writer, sheet_name\u001B[38;5;241m=\u001B[39m\u001B[38;5;124mf\u001B[39m\u001B[38;5;124m\"\u001B[39m\u001B[38;5;124mstore_num\u001B[39m\u001B[38;5;124m\"\u001B[39m, index\u001B[38;5;241m=\u001B[39m\u001B[38;5;28;01mFalse\u001B[39;00m)\n\u001B[1;32m     21\u001B[0m \u001B[38;5;66;03m# Close the Pandas Excel writer and save the file\u001B[39;00m\n\u001B[0;32m---> 22\u001B[0m \u001B[43mwriter\u001B[49m\u001B[38;5;241;43m.\u001B[39;49m\u001B[43msave\u001B[49m()\n",
      "\u001B[0;31mAttributeError\u001B[0m: 'XlsxWriter' object has no attribute 'save'"
     ]
    }
   ],
   "source": [
    "def orders_spreadsheet_creator(orders):\n",
    "    \n",
    "    # Create a Pandas Excel writer using XlsxWriter as the engine.\n",
    "    with pd.ExcelWriter('output.xlsx', engine='xlsxwriter') as writer:\n",
    "        \n",
    "        # Loop through order_contents and create a sheet for each order\n",
    "        for idx, order_text in enumerate(orders, start=1):\n",
    "            \n",
    "            # get order id\n",
    "            order_id = get_order_id(order_text)\n",
    "            \n",
    "            # Convert the order text to a DataFrame\n",
    "            df = pd.DataFrame(orders, columns=[f'{order_id}'])\n",
    "            \n",
    "            # Write the DataFrame to the Excel sheet with the order ID as the sheet name\n",
    "            # TODO: store num getter func \n",
    "            df.to_excel(writer, sheet_name=f\"store_num\", index=False)\n",
    "            \n",
    "    # Close the Pandas Excel writer and save the file\n",
    "    writer.save() #todo: AttributeError: 'XlsxWriter' object has no attribute 'save'\n",
    "\n",
    "\n",
    "orders_spreadsheet_creator(orders_content)"
   ],
   "metadata": {
    "collapsed": false,
    "ExecuteTime": {
     "end_time": "2023-09-26T00:54:36.597160Z",
     "start_time": "2023-09-26T00:54:36.550867Z"
    }
   },
   "id": "13de8f5c17975259"
  },
  {
   "cell_type": "code",
   "execution_count": 98,
   "outputs": [],
   "source": [
    "def create_excel_from_orders(order_strings):\n",
    "    # Create a Pandas Excel writer using XlsxWriter as the engine.\n",
    "    with pd.ExcelWriter('output.xlsx', engine='xlsxwriter') as writer:\n",
    "        for idx, order_string in enumerate(order_strings, start=1):\n",
    "            # Create a DataFrame with the order string\n",
    "            df = pd.DataFrame({'Order Content': [order_string]})\n",
    "            df.to_clipboard()\n",
    "            \n",
    "            \n",
    "            \n",
    "            # Write the DataFrame to the Excel sheet with a sheet name based on the index\n",
    "            # df.to_excel(writer, sheet_name=f\"Order_{idx}\", index=False)\n",
    "    \n",
    "    # Save the Excel file\n",
    "\n",
    "# Example usage with a list of order strings\n",
    "order_strings_with_delimiter = [\n",
    "    'Order: DF8E5AB6 Delivered The order was delivered at 10:56 PM on September 24, 2023.  Rate Dasher Get help...',\n",
    "    'Order: 1D4B1698 Delivered The order was delivered at 7:18 PM on September 24, 2023.  Rate Dasher Get help...'\n",
    "]\n",
    "\n",
    "create_excel_from_orders(order_strings_with_delimiter)\n"
   ],
   "metadata": {
    "collapsed": false,
    "ExecuteTime": {
     "end_time": "2023-09-26T01:37:45.699966Z",
     "start_time": "2023-09-26T01:37:45.590713Z"
    }
   },
   "id": "c2aaeb76596f178d"
  }
 ],
 "metadata": {
  "kernelspec": {
   "display_name": "Python 3",
   "language": "python",
   "name": "python3"
  },
  "language_info": {
   "codemirror_mode": {
    "name": "ipython",
    "version": 2
   },
   "file_extension": ".py",
   "mimetype": "text/x-python",
   "name": "python",
   "nbconvert_exporter": "python",
   "pygments_lexer": "ipython2",
   "version": "2.7.6"
  }
 },
 "nbformat": 4,
 "nbformat_minor": 5
}
