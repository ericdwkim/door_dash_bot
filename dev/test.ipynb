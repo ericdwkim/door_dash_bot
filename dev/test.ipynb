{
 "cells": [
  {
   "cell_type": "code",
   "execution_count": 1,
   "id": "initial_id",
   "metadata": {
    "collapsed": true,
    "ExecuteTime": {
     "end_time": "2023-09-26T15:37:04.615500Z",
     "start_time": "2023-09-26T15:37:02.991270Z"
    }
   },
   "outputs": [
    {
     "name": "stdout",
     "output_type": "stream",
     "text": [
      "Intel MKL WARNING: Support of Intel(R) Streaming SIMD Extensions 4.2 (Intel(R) SSE4.2) enabled only processors has been deprecated. Intel oneAPI Math Kernel Library 2025.0 will require Intel(R) Advanced Vector Extensions (Intel(R) AVX) instructions.\n",
      "Intel MKL WARNING: Support of Intel(R) Streaming SIMD Extensions 4.2 (Intel(R) SSE4.2) enabled only processors has been deprecated. Intel oneAPI Math Kernel Library 2025.0 will require Intel(R) Advanced Vector Extensions (Intel(R) AVX) instructions.\n"
     ]
    }
   ],
   "source": [
    "from selenium import webdriver\n",
    "from selenium.webdriver.chrome.service import Service\n",
    "from selenium.webdriver.common.by import By\n",
    "from selenium.webdriver.support.ui import WebDriverWait\n",
    "from selenium.webdriver.support import expected_conditions as EC\n",
    "from selenium.common.exceptions import NoSuchElementException, TimeoutException\n",
    "import logging\n",
    "import pandas as pd"
   ]
  },
  {
   "cell_type": "code",
   "execution_count": 2,
   "outputs": [],
   "source": [
    "options = webdriver.ChromeOptions()\n",
    "options.add_experimental_option(\"debuggerAddress\", \"127.0.0.1:9222\")"
   ],
   "metadata": {
    "collapsed": false,
    "ExecuteTime": {
     "end_time": "2023-09-26T15:37:04.647855Z",
     "start_time": "2023-09-26T15:37:04.617135Z"
    }
   },
   "id": "25291fd8b2be6cae"
  },
  {
   "cell_type": "code",
   "execution_count": 3,
   "outputs": [
    {
     "data": {
      "text/plain": "<selenium.webdriver.chrome.webdriver.WebDriver (session=\"109462571935a0c51f1dc11be3b1d0a1\")>"
     },
     "execution_count": 3,
     "metadata": {},
     "output_type": "execute_result"
    }
   ],
   "source": [
    "driver = webdriver.Chrome(service=Service(executable_path=\"/opt/homebrew/bin/chromedriver\"), options=options)\n",
    "\n",
    "driver"
   ],
   "metadata": {
    "collapsed": false,
    "ExecuteTime": {
     "end_time": "2023-09-26T15:37:31.692204Z",
     "start_time": "2023-09-26T15:37:04.620336Z"
    }
   },
   "id": "7f90dad091063b2a"
  },
  {
   "cell_type": "code",
   "execution_count": 8,
   "outputs": [
    {
     "data": {
      "text/plain": "21"
     },
     "execution_count": 8,
     "metadata": {},
     "output_type": "execute_result"
    }
   ],
   "source": [
    "table_rows = driver.find_elements(By.TAG_NAME, 'tr')\n",
    "type(table_rows)\n",
    "len(table_rows)\n",
    "# table_rows\n"
   ],
   "metadata": {
    "collapsed": false,
    "ExecuteTime": {
     "end_time": "2023-09-26T15:37:57.318624Z",
     "start_time": "2023-09-26T15:37:57.294189Z"
    }
   },
   "id": "ad745f08a04dc3eb"
  },
  {
   "cell_type": "code",
   "execution_count": 9,
   "outputs": [],
   "source": [
    "def wait_for_element(locator, locator_type, timeout):\n",
    "    try:\n",
    "        WebDriverWait(driver, timeout).until(\n",
    "            EC.visibility_of_element_located((locator_type, locator)))\n",
    "        return True\n",
    "    except TimeoutException:\n",
    "        return False"
   ],
   "metadata": {
    "collapsed": false,
    "ExecuteTime": {
     "end_time": "2023-09-26T15:38:00.887724Z",
     "start_time": "2023-09-26T15:38:00.882762Z"
    }
   },
   "id": "78c44f650ac5afc7"
  },
  {
   "cell_type": "code",
   "execution_count": 10,
   "outputs": [],
   "source": [
    "def wait_for_and_find_element(locator, locator_type, timeout):\n",
    "    try:\n",
    "        wait = wait_for_element(locator, locator_type, timeout)\n",
    "        if not wait:\n",
    "            logging.error(f'Tried to wait to locate element via locator \"{locator}\", but timed out')\n",
    "            return False, None\n",
    "        element = driver.find_element(locator_type, locator)\n",
    "        if not element:\n",
    "            logging.error(f'Could not find element via locator \"{locator}\"')\n",
    "            return True, None\n",
    "        if wait and element:\n",
    "            logging.info(f'Found and located element via locator \"{locator}\"')\n",
    "            return True, element\n",
    "\n",
    "    except Exception as NoSuchElementException:\n",
    "        logging.exception(f'An unexpected error occurred: {NoSuchElementException}')\n"
   ],
   "metadata": {
    "collapsed": false,
    "ExecuteTime": {
     "end_time": "2023-09-26T15:38:01.153579Z",
     "start_time": "2023-09-26T15:38:01.150034Z"
    }
   },
   "id": "2877418d5a43e6d0"
  },
  {
   "cell_type": "code",
   "execution_count": 11,
   "outputs": [],
   "source": [
    "def find_element_and_click(locator ,locator_type=By.CSS_SELECTOR):\n",
    "    \"\"\"\n",
    "    Finds element and clicks it using `WebElement.click()`\n",
    "    :param locator:\n",
    "    :param locator_type:\n",
    "    :return: Tuple(bool, WebElement)\n",
    "    \"\"\"\n",
    "    try:\n",
    "        element = driver.find_element(locator_type, locator)\n",
    "        if not element:\n",
    "            logging.error(f'Could not locate element via locator \"{locator}\".')\n",
    "        element.click()\n",
    "        return True, element\n",
    "    except NoSuchElementException:\n",
    "        logging.exception(f'Element {locator} was not found.')\n",
    "        return False, None\n",
    "    except Exception as e:\n",
    "        logging.exception(f'Error occurred when trying to find and click element with locator: \"{locator}\" resulting in error message: {str(e)}')\n",
    "        return False, None\n"
   ],
   "metadata": {
    "collapsed": false,
    "ExecuteTime": {
     "end_time": "2023-09-26T15:38:01.500319Z",
     "start_time": "2023-09-26T15:38:01.492504Z"
    }
   },
   "id": "997514471fa6bfcd"
  },
  {
   "cell_type": "code",
   "execution_count": 12,
   "outputs": [],
   "source": [
    "def scrape_wrapper():\n",
    "    results = []\n",
    "    for idx, table_row in enumerate(table_rows):\n",
    "        if idx >= 1:\n",
    "            table_row.click()\n",
    "            found, elem = wait_for_and_find_element(locator=\"//*[@class='styles__SidesheetContent-sc-czzuxh-2 hKVVOI']\", locator_type=By.XPATH, timeout=10)\n",
    "            \n",
    "            results.append(elem.text)\n",
    "            \n",
    "            exit_btn_clicked = find_element_and_click(locator='//*[@id=\"MerchantApp\"]/div/div/div[3]/div[2]/div[2]/div/div/div[1]/nav/div[1]/div[1]/div/button', locator_type=By.XPATH)\n",
    "            \n",
    "            if exit_btn_clicked:\n",
    "                logging.info(f'Exiting sidesheetbody for Order #: {idx}')\n",
    "            \n",
    "    return results\n"
   ],
   "metadata": {
    "collapsed": false,
    "ExecuteTime": {
     "end_time": "2023-09-26T15:38:02.943536Z",
     "start_time": "2023-09-26T15:38:02.940401Z"
    }
   },
   "id": "d0f286fe0f636d66"
  },
  {
   "cell_type": "code",
   "execution_count": 13,
   "outputs": [],
   "source": [
    "orders_content = scrape_wrapper()"
   ],
   "metadata": {
    "collapsed": false,
    "ExecuteTime": {
     "end_time": "2023-09-26T15:38:31.514429Z",
     "start_time": "2023-09-26T15:38:04.170169Z"
    }
   },
   "id": "9ba45328d137fe21"
  },
  {
   "cell_type": "code",
   "execution_count": 68,
   "outputs": [
    {
     "data": {
      "text/plain": "['Order: DF8E5AB6\\nDelivered\\nThe order was delivered at 10:56 PM on September 24, 2023. \\nRate Dasher\\nGet help\\nDelivery Details\\nCustomer\\nNikolas W\\nDasher\\nTommy\\nPicked Up\\n10:35 PM\\n(Quoted: 10:12 PM)\\nSeptember 24, 2023\\nDropped Off\\n10:56 PM\\n(Quoted: 10:35 PM)\\nSeptember 24, 2023\\nPick Up Location\\n800 W Interstate 20, Big Spring, TX 79720, USA\\nChannel\\nDoorDash\\nFulfillment\\nDoorDash Delivery\\nOrder Details\\n1\\n×\\nTXB Water Bottle (16.9 oz) (Water TX)\\n$1.99\\n5\\n×\\nFountain Drink (Fountain, Frozen, & Tea)\\nDrink Selection:\\nDr Pepper\\n$0.00\\nSubtotal\\n$1.99\\nSubtotal Tax\\n$0.00\\nCommission (16%)\\n-$0.32\\nTotal Customer Refund\\n-$0.00\\nEstimated Payout\\n$1.67\\nAssociated Transactions (1)\\nTransaction #8058359503 - Delivery\\n$1.67',\n 'Order: 1D4B1698\\nDelivered\\nThe order was delivered at 7:18 PM on September 24, 2023. \\nRate Dasher\\nGet help\\nDelivery Details\\nCustomer\\nLisa C\\nDasher\\nEric\\nPicked Up\\n7:11 PM\\n(Quoted: 6:57 PM)\\nSeptember 24, 2023\\nDropped Off\\n7:18 PM\\n(Quoted: 7:11 PM)\\nSeptember 24, 2023\\nPick Up Location\\n1741 TX-121, Bonham, TX 75418, USA\\nChannel\\nDoorDash\\nFulfillment\\nDoorDash Delivery\\nOrder Details\\n1\\n×\\nMichelob Ultra Light Beer Can (12 oz x 18 ct) (Domestic Beer NT)\\n$34.99\\nSubtotal\\n$34.99\\nSubtotal Tax\\n$5.77\\nCommission (20%)\\n-$7.00\\nTotal Customer Refund\\n-$0.00\\nEstimated Payout\\n$33.76\\nAssociated Transactions (1)\\nTransaction #8056647546 - Delivery\\n$33.76',\n 'Order: 1D4B1698',\n 'Order: 6157E62F\\nCustomer Picked Up\\nThe customer picked up the order at 2:47 PM on September 24, 2023. \\nGet help\\nDelivery Details\\nCustomer\\nXavier H\\nPicked Up\\n2:47 PM\\n(Quoted: 1:24 PM)\\nSeptember 24, 2023\\nPick Up Location\\n7045 W Del Mar Blvd, Laredo, TX 78041, USA\\nChannel\\nDoorDash\\nFulfillment\\nConsumer Pickup\\nOrder Details\\n1\\n×\\nSmirnoff Ice Original Malt Beverage Bottle (11.2 oz x 6 ct) (Flavored Malt Beverages Laredo)\\n$10.99\\nSubtotal\\n$10.99\\nSubtotal Tax\\n$1.81\\nCommission (9%)\\n-$0.99\\nTotal Customer Refund\\n-$0.00\\nEstimated Payout\\n$11.81\\nAssociated Transactions (1)\\nTransaction #8054103039 - Pickup\\n$11.81',\n 'Order: 09E8F2E3\\nCustomer Picked Up\\nThe customer picked up the order at 2:44 PM on September 24, 2023. \\nGet help\\nDelivery Details\\nCustomer\\nXavier H\\nPicked Up\\n2:44 PM\\n(Quoted: 1:22 PM)\\nSeptember 24, 2023\\nPick Up Location\\n7045 W Del Mar Blvd, Laredo, TX 78041, USA\\nChannel\\nDoorDash\\nFulfillment\\nConsumer Pickup\\nOrder Details\\n1\\n×\\nTwisted Tea Hard Ice Cocktail Original Can (12 oz x 12 ct) (Flavored Malt Beverages Laredo)\\n$17.99\\nSubtotal\\n$17.99\\nSubtotal Tax\\n$2.97\\nCommission (9%)\\n-$1.62\\nTotal Customer Refund\\n-$0.00\\nEstimated Payout\\n$19.34\\nAssociated Transactions (1)\\nTransaction #8054081314 - Pickup\\n$19.34',\n 'Order: 3EB6B081\\nDelivered\\nThe order was delivered at 1:59 PM on September 24, 2023. \\nRate Dasher\\nGet help\\nDelivery Details\\nCustomer\\nChris W\\nDasher\\nAmeillia\\nPicked Up\\n1:46 PM\\n(Quoted: 1:52 PM)\\nSeptember 24, 2023\\nDropped Off\\n1:59 PM\\n(Quoted: 2:18 PM)\\nSeptember 24, 2023\\nPick Up Location\\n102 W Main St, Calera, OK 74730, USA\\nChannel\\nDoorDash\\nFulfillment\\nDoorDash Delivery\\nOrder Details\\n1\\n×\\nCrush Orange Bottle (20oz) (Soda OK)\\n$3.79\\n1\\n×\\nCrush Grape Bottle (20oz) (Soda OK)\\n$3.79\\nSubtotal\\n$7.58\\nSubtotal Tax\\n$0.68\\nCommission (16%)\\n-$1.21\\nTotal Customer Refund\\n-$0.00\\nEstimated Payout\\n$6.37\\nAssociated Transactions (1)\\nTransaction #8053604238 - Delivery\\n$6.37',\n 'Order: 85B65740\\nDelivered\\nThe order was delivered at 1:51 PM on September 24, 2023. \\nRate Dasher\\nGet help\\nDelivery Details\\nCustomer\\nLisa J\\nDasher\\nJuana\\nPicked Up\\n1:40 PM\\n(Quoted: 1:47 PM)\\nSeptember 24, 2023\\nDropped Off\\n1:51 PM\\n(Quoted: 2:03 PM)\\nSeptember 24, 2023\\nPick Up Location\\n3071 University Dr E, Bryan, TX 77802, USA\\nChannel\\nDoorDash\\nFulfillment\\nDoorDash Delivery\\nOrder Details\\n2\\n×\\nPeanut Butter Chunk Cookie (Pastries & Desserts)\\n$4.98\\n1\\n×\\nChicken Tender Plate (3 pcs) (Chicken TXB#73)\\nDipping Sauce:\\nHoney Mustard Dipping Sauce\\nChoice of Sides:\\nMac & Cheese\\nChoice of Sides:\\nMashed Potatoes & Gravy\\nOriginal or Spicy:\\nOriginal\\n$12.49\\n1\\n×\\nChicken Fajita Taco (Lunch & Dinner Tacos TXB#73)\\n$5.59\\nSubtotal\\n$23.06\\nSubtotal Tax\\n$3.80\\nCommission (16%)\\n-$3.69\\nTotal Customer Refund\\n-$0.00\\nEstimated Payout\\n$23.17\\nAssociated Transactions (1)\\nTransaction #8053555079 - Delivery\\n$23.17',\n 'Order: FDE1B3F3\\nDelivered\\nThe order was delivered at 1:44 PM on September 24, 2023. \\nRate Dasher\\nDelivery Details\\nCustomer\\nHeather V\\nPicked Up\\n1:32 PM\\n(Quoted: 1:33 PM)\\nSeptember 24, 2023\\nPick Up Location\\n800 W Interstate 20, Big Spring, TX 79720, USA\\nChannel\\nDoorDash\\nOrder Details\\n1\\n×\\nMichelob Ultra Light Beer Bottle (12 oz x 12 ct) (Domestic Beer ST)\\nSubtotal\\nSubtotal Tax\\nCommission (23%)\\nTotal Customer Refund\\n-$0.00\\nEstimated Payout\\n$23.36\\nAssociated Transactions (1)\\nTransaction #8053483610 - Delivery\\n$23.36',\n 'Order: D39E0304\\nDelivered\\nThe order was delivered at 1:35 PM on September 24, 2023. \\nRate Dasher\\nGet help\\nDelivery Details\\nCustomer\\nkevin c\\nDasher\\nRay\\nPicked Up\\n1:22 PM\\n(Quoted: 1:28 PM)\\nSeptember 24, 2023\\nDropped Off\\n1:35 PM\\n(Quoted: 1:49 PM)\\nSeptember 24, 2023\\nPick Up Location\\n3702 FM2147, Horseshoe Bay, TX 78657, USA\\nChannel\\nDoorDash\\nFulfillment\\nDoorDash Delivery\\nOrder Details\\n1\\n×\\nTopo Chico Mineral Water Lime Glass Bottle (4 pk) (11.5 oz) (Water TX)\\n$9.99\\nSubtotal\\n$9.99\\nSubtotal Tax\\n$1.65\\nCommission (20%)\\n-$2.00\\nTotal Customer Refund\\n-$0.00\\nEstimated Payout\\n$9.64\\nAssociated Transactions (1)\\nTransaction #8053405287 - Delivery\\n$9.64',\n 'Order: 4692AAAD\\nDelivered\\nThe order was delivered at 10:21 AM on September 24, 2023. \\nRate Dasher\\nGet help\\nDelivery Details\\nCustomer\\nKristi M\\nDasher\\nFarshad\\nPicked Up\\n10:06 AM\\n(Quoted: 8:54 AM)\\nSeptember 24, 2023\\nDropped Off\\n10:21 AM\\n(Quoted: 9:29 AM)\\nSeptember 24, 2023\\nPick Up Location\\n3702 FM2147, Horseshoe Bay, TX 78657, USA\\nChannel\\nDoorDash\\nFulfillment\\nDoorDash Delivery\\nOrder Details\\n1\\n×\\nTXB Unsweet Tea Bottle (16oz) (Tea TX)\\n$3.29\\n1\\n×\\nSausage Egg Cheese Taco (Breakfast Tacos & Quesadillas)\\nSalsa:\\nSalsa Verde\\n$3.79\\n2\\n×\\nPotato Egg Cheese Taco (Breakfast Tacos & Quesadillas)\\nSalsa:\\nSalsa Verde\\n$9.38\\nSubtotal\\n$16.46\\nSubtotal Tax\\n$2.17\\nCommission (25%)\\n-$4.12\\nTotal Customer Refund\\n-$0.00\\nEstimated Payout\\n$14.51\\nAssociated Transactions (1)\\nTransaction #8052105212 - Delivery\\n$14.51',\n 'Order: 01139062\\nDelivered\\nThe order was delivered at 9:25 AM on September 24, 2023. \\nRate Dasher\\nGet help\\nDelivery Details\\nCustomer\\nBrianna S\\nDasher\\nEduardo\\nPicked Up\\n9:17 AM\\n(Quoted: 9:13 AM)\\nSeptember 24, 2023\\nDropped Off\\n9:25 AM\\n(Quoted: 9:38 AM)\\nSeptember 24, 2023\\nPick Up Location\\n2757 N Veterans Blvd, Eagle Pass, TX 78852, USA\\nChannel\\nDoorDash\\nFulfillment\\nDoorDash Delivery\\nOrder Details\\n1\\n×\\nChips Ahoy Cookies (1.55oz) (Cookies TX)\\n$2.49\\n1\\n×\\nRed Bull Energy Drink Can (12 oz) (Energy Drinks TX)\\n$5.79\\n1\\n×\\nRed Bull Sugar Free Energy Drink Can (12 oz) (Energy Drinks TX)\\n$5.79\\nSubtotal\\n$14.07\\nSubtotal Tax\\n$2.32\\nCommission (16%)\\n-$2.25\\nTotal Customer Refund\\n-$0.00\\nEstimated Payout\\n$14.14\\nAssociated Transactions (1)\\nTransaction #8051914631 - Delivery\\n$14.14',\n 'Order: 0BA15BE2\\nDelivered\\nThe order was delivered at 2:16 AM on September 24, 2023. \\nRate Dasher\\nGet help\\nDelivery Details\\nCustomer\\nLizz W\\nDasher\\nChloe\\nPicked Up\\n2:00 AM\\n(Quoted: 1:47 AM)\\nSeptember 24, 2023\\nDropped Off\\n2:16 AM\\n(Quoted: 2:13 AM)\\nSeptember 24, 2023\\nPick Up Location\\n2503 TX-349, Midland, TX 79706, USA\\nChannel\\nDoorDash\\nFulfillment\\nDoorDash Delivery\\nOrder Details\\n1\\n×\\nIce Large (Fountain, Frozen, & Tea)\\n$7.49\\nSubtotal\\n$7.49\\nSubtotal Tax\\n$1.20\\nCommission (16%)\\n-$1.20\\nTotal Customer Refund\\n-$0.00\\nEstimated Payout\\n$7.49\\nAssociated Transactions (1)\\nTransaction #8051131331 - Delivery\\n$7.49',\n 'Order: 88E79CDD\\nDelivered\\nThe order was delivered at 1:37 AM on September 24, 2023. \\nRate Dasher\\nGet help\\nDelivery Details\\nCustomer\\nHunter G\\nDasher\\nAbraham\\nPicked Up\\n1:27 AM\\n(Quoted: 1:25 AM)\\nSeptember 24, 2023\\nDropped Off\\n1:37 AM\\nSeptember 24, 2023\\nPick Up Location\\n1402 Williams Dr, Georgetown, TX 78628, USA\\nChannel\\nDoorDash\\nFulfillment\\nDoorDash Delivery\\nOrder Details\\n1\\n×\\nSprite Bottle (20 oz) (Soda TX)\\n1\\n×\\nLifesaver Bag Gummy Collisions (4.2oz) (Fruity TX)\\n1\\n×\\nHostess Powdered Donettes Bag (10.5oz) (Donuts TX)\\n1\\n×\\nTostitos Salsa Con Queso Dip (15 oz) (Dips & Salsa TX)\\n1\\n×\\nCheez-It Original (3 oz) (Crackers & Pretzels TX)\\n$3.39\\n1\\n×\\nFlipz Pretzel White Chocolate Fudge (5oz) (Crackers & Pretzels TX)\\n$7.19\\n1\\n×\\nCombos Pretzel Pizzeria (6.3oz) (Chips & Popcorn TX)\\n$4.79\\n1\\n×\\nTostitos Original Restaurant Style Tortilla Chips (13 oz) (Chips & Popcorn TX)\\n$5.39\\n1\\n×\\nBarcel Takis Fuego Hot Chili Pepper & Lime Corn Snacks (4 oz) (Chips & Popcorn TX)\\n$4.19\\nSubtotal\\n$47.11\\nSubtotal Tax\\n$4.20\\nCommission (23%)\\n-$10.84\\nTotal Customer Refund\\n-$0.00\\nEstimated Payout\\n$40.47\\nAssociated Transactions (1)\\nTransaction #8051049934 - Delivery\\n$40.47',\n 'Order: 4EC0995B\\nCancelled - Not Paid\\nThe order was cancelled on September 24, 2023 at 12:59 AM. You were not paid because you did not confirm the order before the order was cancelled. Learn More\\nGet help\\nDelivery Details\\nCustomer\\nMartin M\\nDasher\\nTo be assigned\\nEstimated Pick Up\\n1:32 AM\\nSeptember 24, 2023\\nEstimated Drop Off\\n1:50 AM\\nSeptember 24, 2023\\nPick Up Location\\n801 Lafayette St, Laredo, TX 78041, USA\\nChannel\\nDoorDash\\nFulfillment\\nDoorDash Delivery\\nOrder Details\\n2\\n×\\nBud Light Beer Bottle (12oz x 12ct) (Domestic Beer Laredo)\\n$42.58\\nSubtotal\\n$42.58\\nSubtotal Tax\\n$7.03\\nCommission (23%)\\n-$9.79\\nTotal Customer Refund\\n-$0.00\\nEstimated Payout\\n$0.00']"
     },
     "execution_count": 68,
     "metadata": {},
     "output_type": "execute_result"
    }
   ],
   "source": [
    "orders_content"
   ],
   "metadata": {
    "collapsed": false,
    "ExecuteTime": {
     "end_time": "2023-09-25T22:41:58.107280Z",
     "start_time": "2023-09-25T22:41:58.099582Z"
    }
   },
   "id": "6bfac784138b40b5"
  },
  {
   "cell_type": "code",
   "execution_count": 15,
   "outputs": [
    {
     "data": {
      "text/plain": "['Order: 7587448E\\nDelivered\\nThe order was delivered at 11:15 PM on September 25, 2023. \\nRate Dasher\\nGet help\\nDelivery Details\\nCustomer\\nmary r\\nDasher\\nMaurice\\nPicked Up\\n11:00 PM\\n(Quoted: 10:55 PM)\\nSeptember 25, 2023\\nDropped Off\\n11:15 PM\\n(Quoted: 11:22 PM)\\nSeptember 25, 2023\\nPick Up Location\\n800 W Interstate 20, Big Spring, TX 79720, USA\\nChannel\\nDoorDash\\nFulfillment\\nDoorDash Delivery\\nOrder Details\\n2\\n×\\nTXB Water Bottle (1gal) (Water TX)\\n$6.58\\nSubtotal\\n$6.58\\nSubtotal Tax\\n$0.00\\nCommission (16%)\\n-$1.05\\nTotal Customer Refund\\n-$0.00\\nEstimated Payout\\n$5.53\\nAssociated Transactions (1)\\nTransaction #8065464878 - Delivery\\n$5.53',\n \"Order: 51371086\\nDelivered\\nThe order was delivered at 11:07 PM on September 25, 2023. \\nRate Dasher\\nGet help\\nDelivery Details\\nCustomer\\nChris W\\nDasher\\nLawrence\\nPicked Up\\n10:57 PM\\n(Quoted: 10:37 PM)\\nSeptember 25, 2023\\nDropped Off\\n11:07 PM\\n(Quoted: 11:00 PM)\\nSeptember 25, 2023\\nPick Up Location\\n102 W Main St, Calera, OK 74730, USA\\nChannel\\nDoorDash\\nFulfillment\\nDoorDash Delivery\\nOrder Details\\n1\\n×\\nCoke Cherry Bottle (20oz) (Soda OK)\\n$3.79\\n1\\n×\\nBen & Jerry's Chubby Hubby Ice Cream (16 oz) (Ice Cream OK)\\n$12.49\\nSubtotal\\n$16.28\\nSubtotal Tax\\n$1.47\\nCommission (23%)\\n-$3.74\\nTotal Customer Refund\\n-$0.00\\nEstimated Payout\\n$12.54\\nAssociated Transactions (1)\\nTransaction #8065451843 - Delivery\\n$12.54\",\n \"Order: 85BA5F93\\nDelivered\\nThe order was delivered at 10:42 PM on September 25, 2023. \\nRate Dasher\\nGet help\\nDelivery Details\\nCustomer\\nCornelius S\\nDasher\\nLawrence\\nPicked Up\\n10:24 PM\\n(Quoted: 10:03 PM)\\nSeptember 25, 2023\\nDropped Off\\n10:42 PM\\n(Quoted: 10:38 PM)\\nSeptember 25, 2023\\nPick Up Location\\n102 W Main St, Calera, OK 74730, USA\\nChannel\\nDoorDash\\nFulfillment\\nDoorDash Delivery\\nOrder Details\\n1\\n×\\nM&M's Peanut King Size (3.27 oz) (Chocolate OK)\\n$3.79\\n1\\n×\\nHershey's Almond King Size (2.6 oz) (Chocolate OK)\\n$3.79\\n2\\n×\\nDr Pepper Bottle (20 oz) (Soda OK)\\n$7.58\\n2\\n×\\nPepsi Bottle (20 oz) (Soda OK)\\n$7.58\\nSubtotal\\n$22.74\\nSubtotal Tax\\n$2.05\\nCommission (16%)\\n-$3.64\\nTotal Customer Refund\\n-$0.00\\nEstimated Payout\\n$19.10\\nAssociated Transactions (1)\\nTransaction #8065275398 - Delivery\\n$19.10\",\n 'Order: 85BA5F93',\n 'Order: 7C78538C\\nCustomer Picked Up\\nThe customer picked up the order at 10:02 PM on September 25, 2023. \\nGet help\\nDelivery Details\\nCustomer\\nKes M\\nPicked Up\\n10:02 PM\\n(Quoted: 10:13 PM)\\nSeptember 25, 2023\\nPick Up Location\\n2503 TX-349, Midland, TX 79706, USA\\nChannel\\nDoorDash\\nFulfillment\\nConsumer Pickup\\nOrder Details\\n2\\n×\\nCheetos Crunchy (3.25 oz) (Chips & Popcorn TX)\\n$4.58\\n1\\n×\\nTwix Ice Cream Bar (3 oz) (Ice Cream TX)\\n$3.99\\n1\\n×\\nTXB Green Tea Bottle (16oz) (Tea TX)\\n$2.59\\nSubtotal\\n$11.16\\nSubtotal Tax\\n$0.82\\nCommission (9%)\\n-$1.00\\nTotal Customer Refund\\n-$0.00\\nEstimated Payout\\n$10.98\\nAssociated Transactions (1)\\nTransaction #8065155860 - Pickup\\n$10.98',\n 'Order: 792BC6EF\\nDelivered\\nThe order was delivered at 9:50 PM on September 25, 2023. \\nRate Dasher\\nGet help\\nDelivery Details\\nCustomer\\nAaron E\\nDasher\\nArmando\\nPicked Up\\n9:29 PM\\n(Quoted: 9:21 PM)\\nSeptember 25, 2023\\nDropped Off\\n9:50 PM\\n(Quoted: 9:48 PM)\\nSeptember 25, 2023\\nPick Up Location\\n2196 El Indio Hwy, Eagle Pass, TX 78852, USA\\nChannel\\nDoorDash\\nFulfillment\\nDoorDash Delivery\\nOrder Details\\n1\\n×\\nMiller Lite Beer Can (12 oz x 18 ct) (Domestic Beer ST)\\n$27.49\\nSubtotal\\n$27.49\\nSubtotal Tax\\n$3.50\\nCommission (20%)\\n-$5.50\\nTotal Customer Refund\\n-$0.00\\nEstimated Payout\\n$25.49\\nAssociated Transactions (1)\\nTransaction #8064944545 - Delivery\\n$25.49',\n 'Order: B0DFD67A\\nDelivered\\nThe order was delivered at 9:30 PM on September 25, 2023. \\nRate Dasher\\nGet help\\nDelivery Details\\nCustomer\\nHillary R\\nDasher\\nGloria\\nPicked Up\\n9:23 PM\\n(Quoted: 9:18 PM)\\nSeptember 25, 2023\\nDropped Off\\n9:30 PM\\n(Quoted: 9:39 PM)\\nSeptember 25, 2023\\nPick Up Location\\n2320 W Main St, Durant, OK 74701, USA\\nChannel\\nDoorDash\\nFulfillment\\nDoorDash Delivery\\nOrder Details\\n1\\n×\\nAir Heads Bites (2oz) (Fruity OK)\\n$4.99\\n2\\n×\\nSkittles Original King Size (4 oz) (Fruity OK)\\n$6.78\\n1\\n×\\nFountain Drink (Fountain, Frozen, & Tea)\\nDrink Selection:\\nDr Pepper\\n$0.00\\n1\\n×\\nFountain Drink (Fountain, Frozen, & Tea)\\nDrink Selection:\\nTXB Cherry Limeade\\n$0.00\\n2\\n×\\nFountain Drink (Fountain, Frozen, & Tea)\\nDrink Selection:\\nTXB Fresh Brewed Sweet Tea\\n$0.00\\n1\\n×\\nTwix Caramel King Size (3 oz) (Chocolate OK)\\n$3.79\\n2\\n×\\nDr Pepper Bottle (20 oz) (Soda OK)\\n$7.58\\n1\\n×\\nBarcel Takis Blue Heat (9.9oz) (Chips & Popcorn OK)\\n$7.49\\nSubtotal\\n$30.63\\nPromo Paid by DoorDash\\n-$6.00\\n(DashPass Welcome Offer )\\nSubtotal for Tax Calculations\\n$24.63\\nSubtotal Tax\\n$2.31\\nCommission (23%)\\n-$7.04\\nTotal Customer Refund\\n-$0.00\\nEstimated Payout\\n$23.59\\nAssociated Transactions (1)\\nTransaction #8064911188 - Delivery\\n$23.59',\n 'Order: E308F16E\\nDelivered\\nThe order was delivered at 8:18 PM on September 25, 2023. \\nRate Dasher\\nGet help\\nDelivery Details\\nCustomer\\nRachel D\\nDasher\\nPolo\\nPicked Up\\n8:05 PM\\n(Quoted: 8:06 PM)\\nSeptember 25, 2023\\nDropped Off\\n8:18 PM\\n(Quoted: 8:22 PM)\\nSeptember 25, 2023\\nPick Up Location\\n800 W Interstate 20, Big Spring, TX 79720, USA\\nChannel\\nDoorDash\\nFulfillment\\nDoorDash Delivery\\nOrder Details\\n1\\n×\\nFountain Drink (Fountain, Frozen, & Tea)\\nDrink Selection:\\nDr Pepper\\n$0.00\\n1\\n×\\nIce Large (Fountain, Frozen, & Tea)\\n$7.49\\nSubtotal\\n$7.49\\nSubtotal Tax\\n$0.95\\nCommission (16%)\\n-$1.20\\nTotal Customer Refund\\n-$0.00\\nEstimated Payout\\n$7.24\\nAssociated Transactions (1)\\nTransaction #8064275507 - Delivery\\n$7.24',\n 'Order: 6BFA2F11\\nDelivered\\nThe order was delivered at 7:13 PM on September 25, 2023. \\nRate Dasher\\nGet help\\nDelivery Details\\nCustomer\\nKristy G\\nDasher\\nJLS\\nPicked Up\\n7:03 PM\\n(Quoted: 7:09 PM)\\nSeptember 25, 2023\\nDropped Off\\n7:13 PM\\n(Quoted: 7:27 PM)\\nSeptember 25, 2023\\nPick Up Location\\n801 Lafayette St, Laredo, TX 78041, USA\\nChannel\\nDoorDash\\nFulfillment\\nDoorDash Delivery\\nOrder Details\\n1\\n×\\nWhole Milk Vitamin D (1 gal) (Milk TX)\\n$7.49\\nSubtotal\\n$7.49\\nSubtotal Tax\\n$0.00\\nCommission (16%)\\n-$1.20\\nTotal Customer Refund\\n-$0.00\\nEstimated Payout\\n$6.29\\nAssociated Transactions (1)\\nTransaction #8063675206 - Delivery\\n$6.29',\n 'Order: 6BFA2F11',\n 'Order: A308E7B3\\nDelivered\\nThe order was delivered at 5:25 PM on September 25, 2023. \\nRate Dasher\\nGet help\\nDelivery Details\\nCustomer\\nDollymae J\\nDasher\\nAndrew\\nPicked Up\\n5:06 PM\\n(Quoted: 5:03 PM)\\nSeptember 25, 2023\\nDropped Off\\n5:25 PM\\n(Quoted: 6:06 PM)\\nSeptember 25, 2023\\nPick Up Location\\n14620 Ranch Rd 12, Wimberley, TX 78676, USA\\nChannel\\nDoorDash\\nFulfillment\\nDoorDash Delivery\\nOrder Details\\n3\\n×\\nCayman Jack Margarita Can (19 oz) (Flavored Malt Beverages CT)\\n$17.07\\nSubtotal\\n$17.07\\nSubtotal Tax\\n$2.18\\nCommission (23%)\\n-$3.93\\nTotal Customer Refund\\n-$0.00\\nEstimated Payout\\n$15.32\\nAssociated Transactions (1)\\nTransaction #8062580206 - Delivery\\n$15.32',\n 'Order: 9A76A89B\\nDelivered\\nThe order was delivered at 3:44 PM on September 25, 2023. \\nRate Dasher\\nGet help\\nDelivery Details\\nCustomer\\nDebi G\\nDasher\\nEric\\nPicked Up\\n3:39 PM\\n(Quoted: 3:39 PM)\\nSeptember 25, 2023\\nDropped Off\\n3:44 PM\\n(Quoted: 3:55 PM)\\nSeptember 25, 2023\\nPick Up Location\\n1741 TX-121, Bonham, TX 75418, USA\\nChannel\\nDoorDash\\nFulfillment\\nDoorDash Delivery\\nOrder Details\\n1\\n×\\nFountain Drink (Fountain, Frozen, & Tea)\\nDrink Selection:\\nMountain Dew\\n$0.00\\n2\\n×\\nSkirt Steak Fajita Quesadilla (Quesadillas TXB#10)\\n$14.98\\nSubtotal\\n$14.98\\nSubtotal Tax\\n$1.91\\nCommission (20%)\\n-$3.00\\nTotal Customer Refund\\n-$0.00\\nEstimated Payout\\n$13.89\\nAssociated Transactions (1)\\nTransaction #8061960485 - Delivery\\n$13.89',\n 'Order: 9A76A89B',\n 'Order: 8908C4FE',\n 'Order: 6ABEF86F\\nDelivered\\nThe order was delivered at 2:23 PM on September 25, 2023. \\nRate Dasher\\nGet help\\nDelivery Details\\nCustomer\\nJessie V\\nDasher\\nDanay\\nPicked Up\\n2:07 PM\\n(Quoted: 1:57 PM)\\nSeptember 25, 2023\\nDropped Off\\n2:23 PM\\n(Quoted: 2:29 PM)\\nSeptember 25, 2023\\nPick Up Location\\n2503 TX-349, Midland, TX 79706, USA\\nChannel\\nDoorDash\\nFulfillment\\nDoorDash Delivery\\nOrder Details\\n2\\n×\\nRed Bull Red Edition Watermelon Can (12 oz) (Energy Drinks TX)\\n$11.58\\n1\\n×\\nSnickers King Size (3.29oz) (Chocolate TX)\\n$3.79\\nSubtotal\\n$15.37\\nSubtotal Tax\\n$1.92\\nCommission (16%)\\n-$2.46\\nTotal Customer Refund\\n-$0.00\\nEstimated Payout\\n$14.83\\nAssociated Transactions (1)\\nTransaction #8061354366 - Delivery\\n$14.83',\n 'Order: 96F7D0D1\\nDelivered\\nThe order was delivered at 1:25 PM on September 25, 2023. \\nRate Dasher\\nGet help\\nDelivery Details\\nCustomer\\nJustin M\\nDasher\\nClarisa\\nPicked Up\\n1:21 PM\\n(Quoted: 1:20 PM)\\nSeptember 25, 2023\\nDropped Off\\n1:25 PM\\n(Quoted: 1:31 PM)\\nSeptember 25, 2023\\nPick Up Location\\n401 N 1st St, Carrizo Springs, TX 78834, USA\\nChannel\\nDoorDash\\nFulfillment\\nDoorDash Delivery\\nOrder Details\\n1\\n×\\nBig Red Bottle (20oz) (Soda TX)\\n$3.79\\n1\\n×\\nGatorade Fruit Punch (28 oz) (Sports Drinks TX)\\n$4.79\\nSubtotal\\n$8.58\\nSubtotal Tax\\n$1.09\\nCommission (16%)\\n-$1.37\\nTotal Customer Refund\\n-$0.00\\nEstimated Payout\\n$8.30\\nAssociated Transactions (1)\\nTransaction #8061018362 - Delivery\\n$8.30',\n 'Order: D6930CBB\\nDelivered\\nThe order was delivered at 1:05 PM on September 25, 2023. \\nRate Dasher\\nGet help\\nDelivery Details\\nCustomer\\nPreston K\\nDasher\\nTelleia\\nPicked Up\\n12:54 PM\\n(Quoted: 12:50 PM)\\nSeptember 25, 2023\\nDropped Off\\n1:05 PM\\n(Quoted: 1:32 PM)\\nSeptember 25, 2023\\nPick Up Location\\n21024 W, 21024 State Hwy 71, Spicewood, TX 78669, USA\\nChannel\\nDoorDash\\nFulfillment\\nDoorDash Delivery\\nOrder Details\\n1\\n×\\nChicken Fajita Taco (Lunch & Dinner Tacos TXB#62)\\nSalsa:\\nSalsa Roja\\n$5.69\\n1\\n×\\nMacaroni Cheese Medium (Sides TXB#62)\\n$3.49\\n1\\n×\\nChicken Tender Meal Kit (Meal Kits TXB#62)\\n$9.19\\n1\\n×\\nMash Potato & Gravy Large (Sides TXB#62)\\n$5.99\\nSubtotal\\n$24.36\\nSubtotal Tax\\n$3.11\\nCommission (16%)\\n-$3.90\\nTotal Customer Refund\\n-$0.00\\nEstimated Payout\\n$23.57\\nAssociated Transactions (1)\\nTransaction #8060830586 - Delivery\\n$23.57',\n 'Order: AB050AA9\\nDelivered\\nThe order was delivered at 12:36 PM on September 25, 2023. \\nRate Dasher\\nGet help\\nDelivery Details\\nCustomer\\nHunter H\\nDasher\\nDavid\\nPicked Up\\n12:20 PM\\n(Quoted: 12:15 PM)\\nSeptember 25, 2023\\nDropped Off\\n12:36 PM\\n(Quoted: 12:43 PM)\\nSeptember 25, 2023\\nPick Up Location\\n3702 FM2147, Horseshoe Bay, TX 78657, USA\\nChannel\\nDoorDash\\nFulfillment\\nDoorDash Delivery\\nOrder Details\\n1\\n×\\nArizona Green Tea Bottle (34oz) (Tea TX)\\n$4.39\\nSubtotal\\n$4.39\\nSubtotal Tax\\n$0.00\\nCommission (20%)\\n-$0.88\\nTotal Customer Refund\\n-$0.00\\nEstimated Payout\\n$3.51\\nAssociated Transactions (1)\\nTransaction #8060591450 - Delivery\\n$3.51',\n 'Order: 7A060210\\nDelivered\\nThe order was delivered at 12:20 PM on September 25, 2023. \\nRate Dasher\\nGet help\\nDelivery Details\\nCustomer\\nNeyssa P\\nDasher\\nAndrew\\nPicked Up\\n12:15 PM\\n(Quoted: 12:17 PM)\\nSeptember 25, 2023\\nDropped Off\\n12:20 PM\\n(Quoted: 1:07 PM)\\nSeptember 25, 2023\\nPick Up Location\\n14620 Ranch Rd 12, Wimberley, TX 78676, USA\\nChannel\\nDoorDash\\nFulfillment\\nDoorDash Delivery\\nOrder Details\\n1\\n×\\nMash Potato & Gravy Medium (Sides TXB#57)\\n$3.49\\n2\\n×\\nHand-Breaded Chicken Roll Sandwich (Hot Sandwiches TXB#57)\\nDipping Sauce:\\nRanch Dipping Sauce\\nOriginal or Spicy:\\nSpicy\\n$8.38\\nSubtotal\\n$11.87\\nSubtotal Tax\\n$1.51\\nCommission (16%)\\n-$1.90\\nTotal Customer Refund\\n-$0.00\\nEstimated Payout\\n$11.48\\nAssociated Transactions (1)\\nTransaction #8060557422 - Delivery\\n$11.48',\n 'Order: 5F87EA62\\nDelivered\\nThe order was delivered at 10:14 AM on September 25, 2023. \\nRate Dasher\\nDelivery Details\\nCustomer\\nTrace M\\nPicked Up\\n10:08 AM\\n(Quoted: 10:11 AM)\\nSeptember 25, 2023\\nPick Up Location\\n1301 N U.S. Hwy 281, Marble Falls, TX 78654, USA\\nChannel\\nDoorDash\\nOrder Details\\n1\\n×\\nChorizo Egg Cheese Quesadilla (Breakfast Tacos & Quesadillas)\\nSalsa:\\n1\\n×\\nDouble Bacon Egg Cheese Taco (Breakfast Tacos & Quesadillas)\\nSalsa:\\n1\\n×\\nC4 Frozen Bombscicle Can (16oz) (Energy Drinks TX)\\n$4.79\\n1\\n×\\nC4 Skittles Can (16oz) (Energy Drinks TX)\\n$4.79\\n1\\n×\\nC4 Starburst Cherry Can (16oz) (Energy Drinks TX)\\n$4.79\\n1\\n×\\nBreakfast Quesadilla (Breakfast Tacos & Quesadillas)\\n$7.49\\nSubtotal\\n$35.24\\nSubtotal Tax\\n$5.81\\nCommission (25%)\\n-$8.81\\nTotal Customer Refund\\n-$0.00\\nEstimated Payout\\n$32.24\\nAssociated Transactions (1)\\nTransaction #8059795042 - Delivery\\n$32.24']"
     },
     "execution_count": 15,
     "metadata": {},
     "output_type": "execute_result"
    }
   ],
   "source": [
    "orders_content"
   ],
   "metadata": {
    "collapsed": false,
    "ExecuteTime": {
     "end_time": "2023-09-26T15:38:40.838822Z",
     "start_time": "2023-09-26T15:38:40.835448Z"
    }
   },
   "id": "46c6dd7e43ce0407"
  },
  {
   "cell_type": "code",
   "execution_count": 19,
   "outputs": [],
   "source": [
    "orders_content = ['Order: 7587448E\\nDelivered\\nThe order was delivered at 11:15 PM on September 25, 2023. \\nRate Dasher\\nGet help\\nDelivery Details\\nCustomer\\nmary r\\nDasher\\nMaurice\\nPicked Up\\n11:00 PM\\n(Quoted: 10:55 PM)\\nSeptember 25, 2023\\nDropped Off\\n11:15 PM\\n(Quoted: 11:22 PM)\\nSeptember 25, 2023\\nPick Up Location\\n800 W Interstate 20, Big Spring, TX 79720, USA\\nChannel\\nDoorDash\\nFulfillment\\nDoorDash Delivery\\nOrder Details\\n2\\n×\\nTXB Water Bottle (1gal) (Water TX)\\n$6.58\\nSubtotal\\n$6.58\\nSubtotal Tax\\n$0.00\\nCommission (16%)\\n-$1.05\\nTotal Customer Refund\\n-$0.00\\nEstimated Payout\\n$5.53\\nAssociated Transactions (1)\\nTransaction #8065464878 - Delivery\\n$5.53',\n",
    " \"Order: 51371086\\nDelivered\\nThe order was delivered at 11:07 PM on September 25, 2023. \\nRate Dasher\\nGet help\\nDelivery Details\\nCustomer\\nChris W\\nDasher\\nLawrence\\nPicked Up\\n10:57 PM\\n(Quoted: 10:37 PM)\\nSeptember 25, 2023\\nDropped Off\\n11:07 PM\\n(Quoted: 11:00 PM)\\nSeptember 25, 2023\\nPick Up Location\\n102 W Main St, Calera, OK 74730, USA\\nChannel\\nDoorDash\\nFulfillment\\nDoorDash Delivery\\nOrder Details\\n1\\n×\\nCoke Cherry Bottle (20oz) (Soda OK)\\n$3.79\\n1\\n×\\nBen & Jerry's Chubby Hubby Ice Cream (16 oz) (Ice Cream OK)\\n$12.49\\nSubtotal\\n$16.28\\nSubtotal Tax\\n$1.47\\nCommission (23%)\\n-$3.74\\nTotal Customer Refund\\n-$0.00\\nEstimated Payout\\n$12.54\\nAssociated Transactions (1)\\nTransaction #8065451843 - Delivery\\n$12.54\",\n",
    " \"Order: 85BA5F93\\nDelivered\\nThe order was delivered at 10:42 PM on September 25, 2023. \\nRate Dasher\\nGet help\\nDelivery Details\\nCustomer\\nCornelius S\\nDasher\\nLawrence\\nPicked Up\\n10:24 PM\\n(Quoted: 10:03 PM)\\nSeptember 25, 2023\\nDropped Off\\n10:42 PM\\n(Quoted: 10:38 PM)\\nSeptember 25, 2023\\nPick Up Location\\n102 W Main St, Calera, OK 74730, USA\\nChannel\\nDoorDash\\nFulfillment\\nDoorDash Delivery\\nOrder Details\\n1\\n×\\nM&M's Peanut King Size (3.27 oz) (Chocolate OK)\\n$3.79\\n1\\n×\\nHershey's Almond King Size (2.6 oz) (Chocolate OK)\\n$3.79\\n2\\n×\\nDr Pepper Bottle (20 oz) (Soda OK)\\n$7.58\\n2\\n×\\nPepsi Bottle (20 oz) (Soda OK)\\n$7.58\\nSubtotal\\n$22.74\\nSubtotal Tax\\n$2.05\\nCommission (16%)\\n-$3.64\\nTotal Customer Refund\\n-$0.00\\nEstimated Payout\\n$19.10\\nAssociated Transactions (1)\\nTransaction #8065275398 - Delivery\\n$19.10\",\n",
    " 'Order: 85BA5F93',\n",
    " 'Order: 7C78538C\\nCustomer Picked Up\\nThe customer picked up the order at 10:02 PM on September 25, 2023. \\nGet help\\nDelivery Details\\nCustomer\\nKes M\\nPicked Up\\n10:02 PM\\n(Quoted: 10:13 PM)\\nSeptember 25, 2023\\nPick Up Location\\n2503 TX-349, Midland, TX 79706, USA\\nChannel\\nDoorDash\\nFulfillment\\nConsumer Pickup\\nOrder Details\\n2\\n×\\nCheetos Crunchy (3.25 oz) (Chips & Popcorn TX)\\n$4.58\\n1\\n×\\nTwix Ice Cream Bar (3 oz) (Ice Cream TX)\\n$3.99\\n1\\n×\\nTXB Green Tea Bottle (16oz) (Tea TX)\\n$2.59\\nSubtotal\\n$11.16\\nSubtotal Tax\\n$0.82\\nCommission (9%)\\n-$1.00\\nTotal Customer Refund\\n-$0.00\\nEstimated Payout\\n$10.98\\nAssociated Transactions (1)\\nTransaction #8065155860 - Pickup\\n$10.98',\n",
    " 'Order: 792BC6EF\\nDelivered\\nThe order was delivered at 9:50 PM on September 25, 2023. \\nRate Dasher\\nGet help\\nDelivery Details\\nCustomer\\nAaron E\\nDasher\\nArmando\\nPicked Up\\n9:29 PM\\n(Quoted: 9:21 PM)\\nSeptember 25, 2023\\nDropped Off\\n9:50 PM\\n(Quoted: 9:48 PM)\\nSeptember 25, 2023\\nPick Up Location\\n2196 El Indio Hwy, Eagle Pass, TX 78852, USA\\nChannel\\nDoorDash\\nFulfillment\\nDoorDash Delivery\\nOrder Details\\n1\\n×\\nMiller Lite Beer Can (12 oz x 18 ct) (Domestic Beer ST)\\n$27.49\\nSubtotal\\n$27.49\\nSubtotal Tax\\n$3.50\\nCommission (20%)\\n-$5.50\\nTotal Customer Refund\\n-$0.00\\nEstimated Payout\\n$25.49\\nAssociated Transactions (1)\\nTransaction #8064944545 - Delivery\\n$25.49',\n",
    " 'Order: B0DFD67A\\nDelivered\\nThe order was delivered at 9:30 PM on September 25, 2023. \\nRate Dasher\\nGet help\\nDelivery Details\\nCustomer\\nHillary R\\nDasher\\nGloria\\nPicked Up\\n9:23 PM\\n(Quoted: 9:18 PM)\\nSeptember 25, 2023\\nDropped Off\\n9:30 PM\\n(Quoted: 9:39 PM)\\nSeptember 25, 2023\\nPick Up Location\\n2320 W Main St, Durant, OK 74701, USA\\nChannel\\nDoorDash\\nFulfillment\\nDoorDash Delivery\\nOrder Details\\n1\\n×\\nAir Heads Bites (2oz) (Fruity OK)\\n$4.99\\n2\\n×\\nSkittles Original King Size (4 oz) (Fruity OK)\\n$6.78\\n1\\n×\\nFountain Drink (Fountain, Frozen, & Tea)\\nDrink Selection:\\nDr Pepper\\n$0.00\\n1\\n×\\nFountain Drink (Fountain, Frozen, & Tea)\\nDrink Selection:\\nTXB Cherry Limeade\\n$0.00\\n2\\n×\\nFountain Drink (Fountain, Frozen, & Tea)\\nDrink Selection:\\nTXB Fresh Brewed Sweet Tea\\n$0.00\\n1\\n×\\nTwix Caramel King Size (3 oz) (Chocolate OK)\\n$3.79\\n2\\n×\\nDr Pepper Bottle (20 oz) (Soda OK)\\n$7.58\\n1\\n×\\nBarcel Takis Blue Heat (9.9oz) (Chips & Popcorn OK)\\n$7.49\\nSubtotal\\n$30.63\\nPromo Paid by DoorDash\\n-$6.00\\n(DashPass Welcome Offer )\\nSubtotal for Tax Calculations\\n$24.63\\nSubtotal Tax\\n$2.31\\nCommission (23%)\\n-$7.04\\nTotal Customer Refund\\n-$0.00\\nEstimated Payout\\n$23.59\\nAssociated Transactions (1)\\nTransaction #8064911188 - Delivery\\n$23.59',\n",
    " 'Order: E308F16E\\nDelivered\\nThe order was delivered at 8:18 PM on September 25, 2023. \\nRate Dasher\\nGet help\\nDelivery Details\\nCustomer\\nRachel D\\nDasher\\nPolo\\nPicked Up\\n8:05 PM\\n(Quoted: 8:06 PM)\\nSeptember 25, 2023\\nDropped Off\\n8:18 PM\\n(Quoted: 8:22 PM)\\nSeptember 25, 2023\\nPick Up Location\\n800 W Interstate 20, Big Spring, TX 79720, USA\\nChannel\\nDoorDash\\nFulfillment\\nDoorDash Delivery\\nOrder Details\\n1\\n×\\nFountain Drink (Fountain, Frozen, & Tea)\\nDrink Selection:\\nDr Pepper\\n$0.00\\n1\\n×\\nIce Large (Fountain, Frozen, & Tea)\\n$7.49\\nSubtotal\\n$7.49\\nSubtotal Tax\\n$0.95\\nCommission (16%)\\n-$1.20\\nTotal Customer Refund\\n-$0.00\\nEstimated Payout\\n$7.24\\nAssociated Transactions (1)\\nTransaction #8064275507 - Delivery\\n$7.24',\n",
    " 'Order: 6BFA2F11\\nDelivered\\nThe order was delivered at 7:13 PM on September 25, 2023. \\nRate Dasher\\nGet help\\nDelivery Details\\nCustomer\\nKristy G\\nDasher\\nJLS\\nPicked Up\\n7:03 PM\\n(Quoted: 7:09 PM)\\nSeptember 25, 2023\\nDropped Off\\n7:13 PM\\n(Quoted: 7:27 PM)\\nSeptember 25, 2023\\nPick Up Location\\n801 Lafayette St, Laredo, TX 78041, USA\\nChannel\\nDoorDash\\nFulfillment\\nDoorDash Delivery\\nOrder Details\\n1\\n×\\nWhole Milk Vitamin D (1 gal) (Milk TX)\\n$7.49\\nSubtotal\\n$7.49\\nSubtotal Tax\\n$0.00\\nCommission (16%)\\n-$1.20\\nTotal Customer Refund\\n-$0.00\\nEstimated Payout\\n$6.29\\nAssociated Transactions (1)\\nTransaction #8063675206 - Delivery\\n$6.29',\n",
    " 'Order: 6BFA2F11',\n",
    " 'Order: A308E7B3\\nDelivered\\nThe order was delivered at 5:25 PM on September 25, 2023. \\nRate Dasher\\nGet help\\nDelivery Details\\nCustomer\\nDollymae J\\nDasher\\nAndrew\\nPicked Up\\n5:06 PM\\n(Quoted: 5:03 PM)\\nSeptember 25, 2023\\nDropped Off\\n5:25 PM\\n(Quoted: 6:06 PM)\\nSeptember 25, 2023\\nPick Up Location\\n14620 Ranch Rd 12, Wimberley, TX 78676, USA\\nChannel\\nDoorDash\\nFulfillment\\nDoorDash Delivery\\nOrder Details\\n3\\n×\\nCayman Jack Margarita Can (19 oz) (Flavored Malt Beverages CT)\\n$17.07\\nSubtotal\\n$17.07\\nSubtotal Tax\\n$2.18\\nCommission (23%)\\n-$3.93\\nTotal Customer Refund\\n-$0.00\\nEstimated Payout\\n$15.32\\nAssociated Transactions (1)\\nTransaction #8062580206 - Delivery\\n$15.32',\n",
    " 'Order: 9A76A89B\\nDelivered\\nThe order was delivered at 3:44 PM on September 25, 2023. \\nRate Dasher\\nGet help\\nDelivery Details\\nCustomer\\nDebi G\\nDasher\\nEric\\nPicked Up\\n3:39 PM\\n(Quoted: 3:39 PM)\\nSeptember 25, 2023\\nDropped Off\\n3:44 PM\\n(Quoted: 3:55 PM)\\nSeptember 25, 2023\\nPick Up Location\\n1741 TX-121, Bonham, TX 75418, USA\\nChannel\\nDoorDash\\nFulfillment\\nDoorDash Delivery\\nOrder Details\\n1\\n×\\nFountain Drink (Fountain, Frozen, & Tea)\\nDrink Selection:\\nMountain Dew\\n$0.00\\n2\\n×\\nSkirt Steak Fajita Quesadilla (Quesadillas TXB#10)\\n$14.98\\nSubtotal\\n$14.98\\nSubtotal Tax\\n$1.91\\nCommission (20%)\\n-$3.00\\nTotal Customer Refund\\n-$0.00\\nEstimated Payout\\n$13.89\\nAssociated Transactions (1)\\nTransaction #8061960485 - Delivery\\n$13.89',\n",
    " 'Order: 9A76A89B',\n",
    " 'Order: 8908C4FE',\n",
    " 'Order: 6ABEF86F\\nDelivered\\nThe order was delivered at 2:23 PM on September 25, 2023. \\nRate Dasher\\nGet help\\nDelivery Details\\nCustomer\\nJessie V\\nDasher\\nDanay\\nPicked Up\\n2:07 PM\\n(Quoted: 1:57 PM)\\nSeptember 25, 2023\\nDropped Off\\n2:23 PM\\n(Quoted: 2:29 PM)\\nSeptember 25, 2023\\nPick Up Location\\n2503 TX-349, Midland, TX 79706, USA\\nChannel\\nDoorDash\\nFulfillment\\nDoorDash Delivery\\nOrder Details\\n2\\n×\\nRed Bull Red Edition Watermelon Can (12 oz) (Energy Drinks TX)\\n$11.58\\n1\\n×\\nSnickers King Size (3.29oz) (Chocolate TX)\\n$3.79\\nSubtotal\\n$15.37\\nSubtotal Tax\\n$1.92\\nCommission (16%)\\n-$2.46\\nTotal Customer Refund\\n-$0.00\\nEstimated Payout\\n$14.83\\nAssociated Transactions (1)\\nTransaction #8061354366 - Delivery\\n$14.83',\n",
    " 'Order: 96F7D0D1\\nDelivered\\nThe order was delivered at 1:25 PM on September 25, 2023. \\nRate Dasher\\nGet help\\nDelivery Details\\nCustomer\\nJustin M\\nDasher\\nClarisa\\nPicked Up\\n1:21 PM\\n(Quoted: 1:20 PM)\\nSeptember 25, 2023\\nDropped Off\\n1:25 PM\\n(Quoted: 1:31 PM)\\nSeptember 25, 2023\\nPick Up Location\\n401 N 1st St, Carrizo Springs, TX 78834, USA\\nChannel\\nDoorDash\\nFulfillment\\nDoorDash Delivery\\nOrder Details\\n1\\n×\\nBig Red Bottle (20oz) (Soda TX)\\n$3.79\\n1\\n×\\nGatorade Fruit Punch (28 oz) (Sports Drinks TX)\\n$4.79\\nSubtotal\\n$8.58\\nSubtotal Tax\\n$1.09\\nCommission (16%)\\n-$1.37\\nTotal Customer Refund\\n-$0.00\\nEstimated Payout\\n$8.30\\nAssociated Transactions (1)\\nTransaction #8061018362 - Delivery\\n$8.30',\n",
    " 'Order: D6930CBB\\nDelivered\\nThe order was delivered at 1:05 PM on September 25, 2023. \\nRate Dasher\\nGet help\\nDelivery Details\\nCustomer\\nPreston K\\nDasher\\nTelleia\\nPicked Up\\n12:54 PM\\n(Quoted: 12:50 PM)\\nSeptember 25, 2023\\nDropped Off\\n1:05 PM\\n(Quoted: 1:32 PM)\\nSeptember 25, 2023\\nPick Up Location\\n21024 W, 21024 State Hwy 71, Spicewood, TX 78669, USA\\nChannel\\nDoorDash\\nFulfillment\\nDoorDash Delivery\\nOrder Details\\n1\\n×\\nChicken Fajita Taco (Lunch & Dinner Tacos TXB#62)\\nSalsa:\\nSalsa Roja\\n$5.69\\n1\\n×\\nMacaroni Cheese Medium (Sides TXB#62)\\n$3.49\\n1\\n×\\nChicken Tender Meal Kit (Meal Kits TXB#62)\\n$9.19\\n1\\n×\\nMash Potato & Gravy Large (Sides TXB#62)\\n$5.99\\nSubtotal\\n$24.36\\nSubtotal Tax\\n$3.11\\nCommission (16%)\\n-$3.90\\nTotal Customer Refund\\n-$0.00\\nEstimated Payout\\n$23.57\\nAssociated Transactions (1)\\nTransaction #8060830586 - Delivery\\n$23.57',\n",
    " 'Order: AB050AA9\\nDelivered\\nThe order was delivered at 12:36 PM on September 25, 2023. \\nRate Dasher\\nGet help\\nDelivery Details\\nCustomer\\nHunter H\\nDasher\\nDavid\\nPicked Up\\n12:20 PM\\n(Quoted: 12:15 PM)\\nSeptember 25, 2023\\nDropped Off\\n12:36 PM\\n(Quoted: 12:43 PM)\\nSeptember 25, 2023\\nPick Up Location\\n3702 FM2147, Horseshoe Bay, TX 78657, USA\\nChannel\\nDoorDash\\nFulfillment\\nDoorDash Delivery\\nOrder Details\\n1\\n×\\nArizona Green Tea Bottle (34oz) (Tea TX)\\n$4.39\\nSubtotal\\n$4.39\\nSubtotal Tax\\n$0.00\\nCommission (20%)\\n-$0.88\\nTotal Customer Refund\\n-$0.00\\nEstimated Payout\\n$3.51\\nAssociated Transactions (1)\\nTransaction #8060591450 - Delivery\\n$3.51',\n",
    " 'Order: 7A060210\\nDelivered\\nThe order was delivered at 12:20 PM on September 25, 2023. \\nRate Dasher\\nGet help\\nDelivery Details\\nCustomer\\nNeyssa P\\nDasher\\nAndrew\\nPicked Up\\n12:15 PM\\n(Quoted: 12:17 PM)\\nSeptember 25, 2023\\nDropped Off\\n12:20 PM\\n(Quoted: 1:07 PM)\\nSeptember 25, 2023\\nPick Up Location\\n14620 Ranch Rd 12, Wimberley, TX 78676, USA\\nChannel\\nDoorDash\\nFulfillment\\nDoorDash Delivery\\nOrder Details\\n1\\n×\\nMash Potato & Gravy Medium (Sides TXB#57)\\n$3.49\\n2\\n×\\nHand-Breaded Chicken Roll Sandwich (Hot Sandwiches TXB#57)\\nDipping Sauce:\\nRanch Dipping Sauce\\nOriginal or Spicy:\\nSpicy\\n$8.38\\nSubtotal\\n$11.87\\nSubtotal Tax\\n$1.51\\nCommission (16%)\\n-$1.90\\nTotal Customer Refund\\n-$0.00\\nEstimated Payout\\n$11.48\\nAssociated Transactions (1)\\nTransaction #8060557422 - Delivery\\n$11.48',\n",
    " 'Order: 5F87EA62\\nDelivered\\nThe order was delivered at 10:14 AM on September 25, 2023. \\nRate Dasher\\nDelivery Details\\nCustomer\\nTrace M\\nPicked Up\\n10:08 AM\\n(Quoted: 10:11 AM)\\nSeptember 25, 2023\\nPick Up Location\\n1301 N U.S. Hwy 281, Marble Falls, TX 78654, USA\\nChannel\\nDoorDash\\nOrder Details\\n1\\n×\\nChorizo Egg Cheese Quesadilla (Breakfast Tacos & Quesadillas)\\nSalsa:\\n1\\n×\\nDouble Bacon Egg Cheese Taco (Breakfast Tacos & Quesadillas)\\nSalsa:\\n1\\n×\\nC4 Frozen Bombscicle Can (16oz) (Energy Drinks TX)\\n$4.79\\n1\\n×\\nC4 Skittles Can (16oz) (Energy Drinks TX)\\n$4.79\\n1\\n×\\nC4 Starburst Cherry Can (16oz) (Energy Drinks TX)\\n$4.79\\n1\\n×\\nBreakfast Quesadilla (Breakfast Tacos & Quesadillas)\\n$7.49\\nSubtotal\\n$35.24\\nSubtotal Tax\\n$5.81\\nCommission (25%)\\n-$8.81\\nTotal Customer Refund\\n-$0.00\\nEstimated Payout\\n$32.24\\nAssociated Transactions (1)\\nTransaction #8059795042 - Delivery\\n$32.24']"
   ],
   "metadata": {
    "collapsed": false,
    "ExecuteTime": {
     "end_time": "2023-09-26T15:45:43.499554Z",
     "start_time": "2023-09-26T15:45:43.496226Z"
    }
   },
   "id": "dc3453a6473f70b6"
  },
  {
   "cell_type": "code",
   "execution_count": 21,
   "outputs": [],
   "source": [
    "orders_content_cleaned = [order.replace('\\n', '') for order in orders_content]"
   ],
   "metadata": {
    "collapsed": false,
    "ExecuteTime": {
     "end_time": "2023-09-26T15:45:54.931822Z",
     "start_time": "2023-09-26T15:45:54.914741Z"
    }
   },
   "id": "f33c2c2b768ae961"
  },
  {
   "cell_type": "code",
   "execution_count": 22,
   "outputs": [
    {
     "data": {
      "text/plain": "['Order: 7587448EDeliveredThe order was delivered at 11:15 PM on September 25, 2023. Rate DasherGet helpDelivery DetailsCustomermary rDasherMauricePicked Up11:00 PM(Quoted: 10:55 PM)September 25, 2023Dropped Off11:15 PM(Quoted: 11:22 PM)September 25, 2023Pick Up Location800 W Interstate 20, Big Spring, TX 79720, USAChannelDoorDashFulfillmentDoorDash DeliveryOrder Details2×TXB Water Bottle (1gal) (Water TX)$6.58Subtotal$6.58Subtotal Tax$0.00Commission (16%)-$1.05Total Customer Refund-$0.00Estimated Payout$5.53Associated Transactions (1)Transaction #8065464878 - Delivery$5.53',\n \"Order: 51371086DeliveredThe order was delivered at 11:07 PM on September 25, 2023. Rate DasherGet helpDelivery DetailsCustomerChris WDasherLawrencePicked Up10:57 PM(Quoted: 10:37 PM)September 25, 2023Dropped Off11:07 PM(Quoted: 11:00 PM)September 25, 2023Pick Up Location102 W Main St, Calera, OK 74730, USAChannelDoorDashFulfillmentDoorDash DeliveryOrder Details1×Coke Cherry Bottle (20oz) (Soda OK)$3.791×Ben & Jerry's Chubby Hubby Ice Cream (16 oz) (Ice Cream OK)$12.49Subtotal$16.28Subtotal Tax$1.47Commission (23%)-$3.74Total Customer Refund-$0.00Estimated Payout$12.54Associated Transactions (1)Transaction #8065451843 - Delivery$12.54\",\n \"Order: 85BA5F93DeliveredThe order was delivered at 10:42 PM on September 25, 2023. Rate DasherGet helpDelivery DetailsCustomerCornelius SDasherLawrencePicked Up10:24 PM(Quoted: 10:03 PM)September 25, 2023Dropped Off10:42 PM(Quoted: 10:38 PM)September 25, 2023Pick Up Location102 W Main St, Calera, OK 74730, USAChannelDoorDashFulfillmentDoorDash DeliveryOrder Details1×M&M's Peanut King Size (3.27 oz) (Chocolate OK)$3.791×Hershey's Almond King Size (2.6 oz) (Chocolate OK)$3.792×Dr Pepper Bottle (20 oz) (Soda OK)$7.582×Pepsi Bottle (20 oz) (Soda OK)$7.58Subtotal$22.74Subtotal Tax$2.05Commission (16%)-$3.64Total Customer Refund-$0.00Estimated Payout$19.10Associated Transactions (1)Transaction #8065275398 - Delivery$19.10\",\n 'Order: 85BA5F93',\n 'Order: 7C78538CCustomer Picked UpThe customer picked up the order at 10:02 PM on September 25, 2023. Get helpDelivery DetailsCustomerKes MPicked Up10:02 PM(Quoted: 10:13 PM)September 25, 2023Pick Up Location2503 TX-349, Midland, TX 79706, USAChannelDoorDashFulfillmentConsumer PickupOrder Details2×Cheetos Crunchy (3.25 oz) (Chips & Popcorn TX)$4.581×Twix Ice Cream Bar (3 oz) (Ice Cream TX)$3.991×TXB Green Tea Bottle (16oz) (Tea TX)$2.59Subtotal$11.16Subtotal Tax$0.82Commission (9%)-$1.00Total Customer Refund-$0.00Estimated Payout$10.98Associated Transactions (1)Transaction #8065155860 - Pickup$10.98',\n 'Order: 792BC6EFDeliveredThe order was delivered at 9:50 PM on September 25, 2023. Rate DasherGet helpDelivery DetailsCustomerAaron EDasherArmandoPicked Up9:29 PM(Quoted: 9:21 PM)September 25, 2023Dropped Off9:50 PM(Quoted: 9:48 PM)September 25, 2023Pick Up Location2196 El Indio Hwy, Eagle Pass, TX 78852, USAChannelDoorDashFulfillmentDoorDash DeliveryOrder Details1×Miller Lite Beer Can (12 oz x 18 ct) (Domestic Beer ST)$27.49Subtotal$27.49Subtotal Tax$3.50Commission (20%)-$5.50Total Customer Refund-$0.00Estimated Payout$25.49Associated Transactions (1)Transaction #8064944545 - Delivery$25.49',\n 'Order: B0DFD67ADeliveredThe order was delivered at 9:30 PM on September 25, 2023. Rate DasherGet helpDelivery DetailsCustomerHillary RDasherGloriaPicked Up9:23 PM(Quoted: 9:18 PM)September 25, 2023Dropped Off9:30 PM(Quoted: 9:39 PM)September 25, 2023Pick Up Location2320 W Main St, Durant, OK 74701, USAChannelDoorDashFulfillmentDoorDash DeliveryOrder Details1×Air Heads Bites (2oz) (Fruity OK)$4.992×Skittles Original King Size (4 oz) (Fruity OK)$6.781×Fountain Drink (Fountain, Frozen, & Tea)Drink Selection:Dr Pepper$0.001×Fountain Drink (Fountain, Frozen, & Tea)Drink Selection:TXB Cherry Limeade$0.002×Fountain Drink (Fountain, Frozen, & Tea)Drink Selection:TXB Fresh Brewed Sweet Tea$0.001×Twix Caramel King Size (3 oz) (Chocolate OK)$3.792×Dr Pepper Bottle (20 oz) (Soda OK)$7.581×Barcel Takis Blue Heat (9.9oz) (Chips & Popcorn OK)$7.49Subtotal$30.63Promo Paid by DoorDash-$6.00(DashPass Welcome Offer )Subtotal for Tax Calculations$24.63Subtotal Tax$2.31Commission (23%)-$7.04Total Customer Refund-$0.00Estimated Payout$23.59Associated Transactions (1)Transaction #8064911188 - Delivery$23.59',\n 'Order: E308F16EDeliveredThe order was delivered at 8:18 PM on September 25, 2023. Rate DasherGet helpDelivery DetailsCustomerRachel DDasherPoloPicked Up8:05 PM(Quoted: 8:06 PM)September 25, 2023Dropped Off8:18 PM(Quoted: 8:22 PM)September 25, 2023Pick Up Location800 W Interstate 20, Big Spring, TX 79720, USAChannelDoorDashFulfillmentDoorDash DeliveryOrder Details1×Fountain Drink (Fountain, Frozen, & Tea)Drink Selection:Dr Pepper$0.001×Ice Large (Fountain, Frozen, & Tea)$7.49Subtotal$7.49Subtotal Tax$0.95Commission (16%)-$1.20Total Customer Refund-$0.00Estimated Payout$7.24Associated Transactions (1)Transaction #8064275507 - Delivery$7.24',\n 'Order: 6BFA2F11DeliveredThe order was delivered at 7:13 PM on September 25, 2023. Rate DasherGet helpDelivery DetailsCustomerKristy GDasherJLSPicked Up7:03 PM(Quoted: 7:09 PM)September 25, 2023Dropped Off7:13 PM(Quoted: 7:27 PM)September 25, 2023Pick Up Location801 Lafayette St, Laredo, TX 78041, USAChannelDoorDashFulfillmentDoorDash DeliveryOrder Details1×Whole Milk Vitamin D (1 gal) (Milk TX)$7.49Subtotal$7.49Subtotal Tax$0.00Commission (16%)-$1.20Total Customer Refund-$0.00Estimated Payout$6.29Associated Transactions (1)Transaction #8063675206 - Delivery$6.29',\n 'Order: 6BFA2F11',\n 'Order: A308E7B3DeliveredThe order was delivered at 5:25 PM on September 25, 2023. Rate DasherGet helpDelivery DetailsCustomerDollymae JDasherAndrewPicked Up5:06 PM(Quoted: 5:03 PM)September 25, 2023Dropped Off5:25 PM(Quoted: 6:06 PM)September 25, 2023Pick Up Location14620 Ranch Rd 12, Wimberley, TX 78676, USAChannelDoorDashFulfillmentDoorDash DeliveryOrder Details3×Cayman Jack Margarita Can (19 oz) (Flavored Malt Beverages CT)$17.07Subtotal$17.07Subtotal Tax$2.18Commission (23%)-$3.93Total Customer Refund-$0.00Estimated Payout$15.32Associated Transactions (1)Transaction #8062580206 - Delivery$15.32',\n 'Order: 9A76A89BDeliveredThe order was delivered at 3:44 PM on September 25, 2023. Rate DasherGet helpDelivery DetailsCustomerDebi GDasherEricPicked Up3:39 PM(Quoted: 3:39 PM)September 25, 2023Dropped Off3:44 PM(Quoted: 3:55 PM)September 25, 2023Pick Up Location1741 TX-121, Bonham, TX 75418, USAChannelDoorDashFulfillmentDoorDash DeliveryOrder Details1×Fountain Drink (Fountain, Frozen, & Tea)Drink Selection:Mountain Dew$0.002×Skirt Steak Fajita Quesadilla (Quesadillas TXB#10)$14.98Subtotal$14.98Subtotal Tax$1.91Commission (20%)-$3.00Total Customer Refund-$0.00Estimated Payout$13.89Associated Transactions (1)Transaction #8061960485 - Delivery$13.89',\n 'Order: 9A76A89B',\n 'Order: 8908C4FE',\n 'Order: 6ABEF86FDeliveredThe order was delivered at 2:23 PM on September 25, 2023. Rate DasherGet helpDelivery DetailsCustomerJessie VDasherDanayPicked Up2:07 PM(Quoted: 1:57 PM)September 25, 2023Dropped Off2:23 PM(Quoted: 2:29 PM)September 25, 2023Pick Up Location2503 TX-349, Midland, TX 79706, USAChannelDoorDashFulfillmentDoorDash DeliveryOrder Details2×Red Bull Red Edition Watermelon Can (12 oz) (Energy Drinks TX)$11.581×Snickers King Size (3.29oz) (Chocolate TX)$3.79Subtotal$15.37Subtotal Tax$1.92Commission (16%)-$2.46Total Customer Refund-$0.00Estimated Payout$14.83Associated Transactions (1)Transaction #8061354366 - Delivery$14.83',\n 'Order: 96F7D0D1DeliveredThe order was delivered at 1:25 PM on September 25, 2023. Rate DasherGet helpDelivery DetailsCustomerJustin MDasherClarisaPicked Up1:21 PM(Quoted: 1:20 PM)September 25, 2023Dropped Off1:25 PM(Quoted: 1:31 PM)September 25, 2023Pick Up Location401 N 1st St, Carrizo Springs, TX 78834, USAChannelDoorDashFulfillmentDoorDash DeliveryOrder Details1×Big Red Bottle (20oz) (Soda TX)$3.791×Gatorade Fruit Punch (28 oz) (Sports Drinks TX)$4.79Subtotal$8.58Subtotal Tax$1.09Commission (16%)-$1.37Total Customer Refund-$0.00Estimated Payout$8.30Associated Transactions (1)Transaction #8061018362 - Delivery$8.30',\n 'Order: D6930CBBDeliveredThe order was delivered at 1:05 PM on September 25, 2023. Rate DasherGet helpDelivery DetailsCustomerPreston KDasherTelleiaPicked Up12:54 PM(Quoted: 12:50 PM)September 25, 2023Dropped Off1:05 PM(Quoted: 1:32 PM)September 25, 2023Pick Up Location21024 W, 21024 State Hwy 71, Spicewood, TX 78669, USAChannelDoorDashFulfillmentDoorDash DeliveryOrder Details1×Chicken Fajita Taco (Lunch & Dinner Tacos TXB#62)Salsa:Salsa Roja$5.691×Macaroni Cheese Medium (Sides TXB#62)$3.491×Chicken Tender Meal Kit (Meal Kits TXB#62)$9.191×Mash Potato & Gravy Large (Sides TXB#62)$5.99Subtotal$24.36Subtotal Tax$3.11Commission (16%)-$3.90Total Customer Refund-$0.00Estimated Payout$23.57Associated Transactions (1)Transaction #8060830586 - Delivery$23.57',\n 'Order: AB050AA9DeliveredThe order was delivered at 12:36 PM on September 25, 2023. Rate DasherGet helpDelivery DetailsCustomerHunter HDasherDavidPicked Up12:20 PM(Quoted: 12:15 PM)September 25, 2023Dropped Off12:36 PM(Quoted: 12:43 PM)September 25, 2023Pick Up Location3702 FM2147, Horseshoe Bay, TX 78657, USAChannelDoorDashFulfillmentDoorDash DeliveryOrder Details1×Arizona Green Tea Bottle (34oz) (Tea TX)$4.39Subtotal$4.39Subtotal Tax$0.00Commission (20%)-$0.88Total Customer Refund-$0.00Estimated Payout$3.51Associated Transactions (1)Transaction #8060591450 - Delivery$3.51',\n 'Order: 7A060210DeliveredThe order was delivered at 12:20 PM on September 25, 2023. Rate DasherGet helpDelivery DetailsCustomerNeyssa PDasherAndrewPicked Up12:15 PM(Quoted: 12:17 PM)September 25, 2023Dropped Off12:20 PM(Quoted: 1:07 PM)September 25, 2023Pick Up Location14620 Ranch Rd 12, Wimberley, TX 78676, USAChannelDoorDashFulfillmentDoorDash DeliveryOrder Details1×Mash Potato & Gravy Medium (Sides TXB#57)$3.492×Hand-Breaded Chicken Roll Sandwich (Hot Sandwiches TXB#57)Dipping Sauce:Ranch Dipping SauceOriginal or Spicy:Spicy$8.38Subtotal$11.87Subtotal Tax$1.51Commission (16%)-$1.90Total Customer Refund-$0.00Estimated Payout$11.48Associated Transactions (1)Transaction #8060557422 - Delivery$11.48',\n 'Order: 5F87EA62DeliveredThe order was delivered at 10:14 AM on September 25, 2023. Rate DasherDelivery DetailsCustomerTrace MPicked Up10:08 AM(Quoted: 10:11 AM)September 25, 2023Pick Up Location1301 N U.S. Hwy 281, Marble Falls, TX 78654, USAChannelDoorDashOrder Details1×Chorizo Egg Cheese Quesadilla (Breakfast Tacos & Quesadillas)Salsa:1×Double Bacon Egg Cheese Taco (Breakfast Tacos & Quesadillas)Salsa:1×C4 Frozen Bombscicle Can (16oz) (Energy Drinks TX)$4.791×C4 Skittles Can (16oz) (Energy Drinks TX)$4.791×C4 Starburst Cherry Can (16oz) (Energy Drinks TX)$4.791×Breakfast Quesadilla (Breakfast Tacos & Quesadillas)$7.49Subtotal$35.24Subtotal Tax$5.81Commission (25%)-$8.81Total Customer Refund-$0.00Estimated Payout$32.24Associated Transactions (1)Transaction #8059795042 - Delivery$32.24']"
     },
     "execution_count": 22,
     "metadata": {},
     "output_type": "execute_result"
    }
   ],
   "source": [
    "orders_content_cleaned"
   ],
   "metadata": {
    "collapsed": false,
    "ExecuteTime": {
     "end_time": "2023-09-26T15:45:59.314306Z",
     "start_time": "2023-09-26T15:45:59.288840Z"
    }
   },
   "id": "b10c695fa25729ba"
  },
  {
   "cell_type": "code",
   "execution_count": 17,
   "outputs": [],
   "source": [
    "def get_order_id(order_text):\n",
    "    # Extract the order_id\n",
    "    order_id_start = order_text.find(\"Order:\") + len(\"Order:\")\n",
    "    order_id_end = order_text.find(\"\\n\", order_id_start)\n",
    "    order_id = order_text[order_id_start:order_id_end]\n",
    "    return order_id"
   ],
   "metadata": {
    "collapsed": false,
    "ExecuteTime": {
     "end_time": "2023-09-26T15:39:08.710782Z",
     "start_time": "2023-09-26T15:39:08.703426Z"
    }
   },
   "id": "d5b9e7c703f040e9"
  },
  {
   "cell_type": "code",
   "execution_count": 92,
   "outputs": [
    {
     "ename": "AttributeError",
     "evalue": "'XlsxWriter' object has no attribute 'save'",
     "output_type": "error",
     "traceback": [
      "\u001B[0;31m---------------------------------------------------------------------------\u001B[0m",
      "\u001B[0;31mAttributeError\u001B[0m                            Traceback (most recent call last)",
      "Cell \u001B[0;32mIn[92], line 25\u001B[0m\n\u001B[1;32m     21\u001B[0m     \u001B[38;5;66;03m# Close the Pandas Excel writer and save the file\u001B[39;00m\n\u001B[1;32m     22\u001B[0m     writer\u001B[38;5;241m.\u001B[39msave()\n\u001B[0;32m---> 25\u001B[0m \u001B[43morders_spreadsheet_creator\u001B[49m\u001B[43m(\u001B[49m\u001B[43morders_content\u001B[49m\u001B[43m)\u001B[49m\n",
      "Cell \u001B[0;32mIn[92], line 22\u001B[0m, in \u001B[0;36morders_spreadsheet_creator\u001B[0;34m(orders)\u001B[0m\n\u001B[1;32m     19\u001B[0m         df\u001B[38;5;241m.\u001B[39mto_excel(writer, sheet_name\u001B[38;5;241m=\u001B[39m\u001B[38;5;124mf\u001B[39m\u001B[38;5;124m\"\u001B[39m\u001B[38;5;124mstore_num\u001B[39m\u001B[38;5;124m\"\u001B[39m, index\u001B[38;5;241m=\u001B[39m\u001B[38;5;28;01mFalse\u001B[39;00m)\n\u001B[1;32m     21\u001B[0m \u001B[38;5;66;03m# Close the Pandas Excel writer and save the file\u001B[39;00m\n\u001B[0;32m---> 22\u001B[0m \u001B[43mwriter\u001B[49m\u001B[38;5;241;43m.\u001B[39;49m\u001B[43msave\u001B[49m()\n",
      "\u001B[0;31mAttributeError\u001B[0m: 'XlsxWriter' object has no attribute 'save'"
     ]
    }
   ],
   "source": [
    "def orders_spreadsheet_creator(orders):\n",
    "    \n",
    "    # Create a Pandas Excel writer using XlsxWriter as the engine.\n",
    "    with pd.ExcelWriter('output.xlsx', engine='xlsxwriter') as writer:\n",
    "        \n",
    "        # Loop through order_contents and create a sheet for each order\n",
    "        for idx, order_text in enumerate(orders, start=1):\n",
    "            \n",
    "            # get order id\n",
    "            order_id = get_order_id(order_text)\n",
    "            \n",
    "            # Convert the order text to a DataFrame\n",
    "            df = pd.DataFrame(orders, columns=[f'{order_id}'])\n",
    "            \n",
    "            # Write the DataFrame to the Excel sheet with the order ID as the sheet name\n",
    "            # TODO: store num getter func \n",
    "            df.to_excel(writer, sheet_name=f\"store_num\", index=False)\n",
    "            \n",
    "    # Close the Pandas Excel writer and save the file\n",
    "    writer.save() #todo: AttributeError: 'XlsxWriter' object has no attribute 'save'\n",
    "\n",
    "\n",
    "orders_spreadsheet_creator(orders_content)"
   ],
   "metadata": {
    "collapsed": false,
    "ExecuteTime": {
     "end_time": "2023-09-26T00:54:36.597160Z",
     "start_time": "2023-09-26T00:54:36.550867Z"
    }
   },
   "id": "13de8f5c17975259"
  },
  {
   "cell_type": "code",
   "execution_count": 98,
   "outputs": [],
   "source": [
    "def create_excel_from_orders(order_strings):\n",
    "    # Create a Pandas Excel writer using XlsxWriter as the engine.\n",
    "    with pd.ExcelWriter('output.xlsx', engine='xlsxwriter') as writer:\n",
    "        for idx, order_string in enumerate(order_strings, start=1):\n",
    "            # Create a DataFrame with the order string\n",
    "            df = pd.DataFrame({'Order Content': [order_string]})\n",
    "            df.to_clipboard()\n",
    "            \n",
    "            \n",
    "            \n",
    "            # Write the DataFrame to the Excel sheet with a sheet name based on the index\n",
    "            # df.to_excel(writer, sheet_name=f\"Order_{idx}\", index=False)\n",
    "    \n",
    "    # Save the Excel file\n",
    "\n",
    "# Example usage with a list of order strings\n",
    "order_strings_with_delimiter = [\n",
    "    'Order: DF8E5AB6 Delivered The order was delivered at 10:56 PM on September 24, 2023.  Rate Dasher Get help...',\n",
    "    'Order: 1D4B1698 Delivered The order was delivered at 7:18 PM on September 24, 2023.  Rate Dasher Get help...'\n",
    "]\n",
    "\n",
    "create_excel_from_orders(order_strings_with_delimiter)\n"
   ],
   "metadata": {
    "collapsed": false,
    "ExecuteTime": {
     "end_time": "2023-09-26T01:37:45.699966Z",
     "start_time": "2023-09-26T01:37:45.590713Z"
    }
   },
   "id": "c2aaeb76596f178d"
  },
  {
   "cell_type": "code",
   "execution_count": null,
   "outputs": [],
   "source": [
    "import pyperclip\n",
    "html = df.style.to_html()\n",
    "pyperclip.copy(html)"
   ],
   "metadata": {
    "collapsed": false
   },
   "id": "2089308a2b701e1"
  }
 ],
 "metadata": {
  "kernelspec": {
   "display_name": "Python 3",
   "language": "python",
   "name": "python3"
  },
  "language_info": {
   "codemirror_mode": {
    "name": "ipython",
    "version": 2
   },
   "file_extension": ".py",
   "mimetype": "text/x-python",
   "name": "python",
   "nbconvert_exporter": "python",
   "pygments_lexer": "ipython2",
   "version": "2.7.6"
  }
 },
 "nbformat": 4,
 "nbformat_minor": 5
}
