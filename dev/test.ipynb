{
 "cells": [
  {
   "cell_type": "code",
   "execution_count": 31,
   "id": "initial_id",
   "metadata": {
    "collapsed": true,
    "ExecuteTime": {
     "end_time": "2023-09-28T14:27:22.664877Z",
     "start_time": "2023-09-28T14:27:22.644356Z"
    }
   },
   "outputs": [],
   "source": [
    "from selenium import webdriver\n",
    "from selenium.webdriver.chrome.service import Service\n",
    "from selenium.webdriver.common.by import By\n",
    "from selenium.webdriver.support.ui import WebDriverWait\n",
    "from selenium.webdriver.support import expected_conditions as EC\n",
    "from selenium.common.exceptions import NoSuchElementException, TimeoutException\n",
    "import logging\n",
    "import pandas as pd\n",
    "import re\n",
    "import time"
   ]
  },
  {
   "cell_type": "code",
   "execution_count": 9,
   "outputs": [],
   "source": [
    "options = webdriver.ChromeOptions()\n",
    "options.add_experimental_option(\"debuggerAddress\", \"127.0.0.1:9222\")"
   ],
   "metadata": {
    "collapsed": false,
    "ExecuteTime": {
     "end_time": "2023-09-28T14:12:48.263862Z",
     "start_time": "2023-09-28T14:12:48.257407Z"
    }
   },
   "id": "25291fd8b2be6cae"
  },
  {
   "cell_type": "code",
   "execution_count": 10,
   "outputs": [
    {
     "data": {
      "text/plain": "<selenium.webdriver.chrome.webdriver.WebDriver (session=\"3c871a472a34b53b0d5fb3fb6d123083\")>"
     },
     "execution_count": 10,
     "metadata": {},
     "output_type": "execute_result"
    }
   ],
   "source": [
    "driver = webdriver.Chrome(service=Service(executable_path=\"/opt/homebrew/bin/chromedriver\"), options=options)\n",
    "\n",
    "driver"
   ],
   "metadata": {
    "collapsed": false,
    "ExecuteTime": {
     "end_time": "2023-09-28T14:12:49.231617Z",
     "start_time": "2023-09-28T14:12:48.671037Z"
    }
   },
   "id": "7f90dad091063b2a"
  },
  {
   "cell_type": "code",
   "execution_count": 11,
   "outputs": [
    {
     "data": {
      "text/plain": "16"
     },
     "execution_count": 11,
     "metadata": {},
     "output_type": "execute_result"
    }
   ],
   "source": [
    "table_rows = driver.find_elements(By.TAG_NAME, 'tr')\n",
    "type(table_rows)\n",
    "len(table_rows)\n",
    "# table_rows\n"
   ],
   "metadata": {
    "collapsed": false,
    "ExecuteTime": {
     "end_time": "2023-09-28T14:12:49.275280Z",
     "start_time": "2023-09-28T14:12:49.230012Z"
    }
   },
   "id": "ad745f08a04dc3eb"
  },
  {
   "cell_type": "code",
   "execution_count": 12,
   "outputs": [],
   "source": [
    "def wait_for_element(locator, locator_type, timeout):\n",
    "    try:\n",
    "        WebDriverWait(driver, timeout).until(\n",
    "            EC.visibility_of_element_located((locator_type, locator)))\n",
    "        return True\n",
    "    except TimeoutException:\n",
    "        return False"
   ],
   "metadata": {
    "collapsed": false,
    "ExecuteTime": {
     "end_time": "2023-09-28T14:12:49.779118Z",
     "start_time": "2023-09-28T14:12:49.769056Z"
    }
   },
   "id": "78c44f650ac5afc7"
  },
  {
   "cell_type": "code",
   "execution_count": 13,
   "outputs": [],
   "source": [
    "def wait_for_and_find_element(locator, locator_type, timeout):\n",
    "    try:\n",
    "        wait = wait_for_element(locator, locator_type, timeout)\n",
    "        if not wait:\n",
    "            logging.error(f'Tried to wait to locate element via locator \"{locator}\", but timed out')\n",
    "            return False, None\n",
    "        element = driver.find_element(locator_type, locator)\n",
    "        if not element:\n",
    "            logging.error(f'Could not find element via locator \"{locator}\"')\n",
    "            return True, None\n",
    "        if wait and element:\n",
    "            logging.info(f'Found and located element via locator \"{locator}\"')\n",
    "            return True, element\n",
    "\n",
    "    except Exception as NoSuchElementException:\n",
    "        logging.exception(f'An unexpected error occurred: {NoSuchElementException}')\n"
   ],
   "metadata": {
    "collapsed": false,
    "ExecuteTime": {
     "end_time": "2023-09-28T14:12:51.073823Z",
     "start_time": "2023-09-28T14:12:51.069605Z"
    }
   },
   "id": "2877418d5a43e6d0"
  },
  {
   "cell_type": "code",
   "execution_count": 14,
   "outputs": [],
   "source": [
    "def find_element_and_click(locator ,locator_type=By.CSS_SELECTOR):\n",
    "    \"\"\"\n",
    "    Finds element and clicks it using `WebElement.click()`\n",
    "    :param locator:\n",
    "    :param locator_type:\n",
    "    :return: Tuple(bool, WebElement)\n",
    "    \"\"\"\n",
    "    try:\n",
    "        element = driver.find_element(locator_type, locator)\n",
    "        if not element:\n",
    "            logging.error(f'Could not locate element via locator \"{locator}\".')\n",
    "        element.click()\n",
    "        return True, element\n",
    "    except NoSuchElementException:\n",
    "        logging.exception(f'Element {locator} was not found.')\n",
    "        return False, None\n",
    "    except Exception as e:\n",
    "        logging.exception(f'Error occurred when trying to find and click element with locator: \"{locator}\" resulting in error message: {str(e)}')\n",
    "        return False, None\n"
   ],
   "metadata": {
    "collapsed": false,
    "ExecuteTime": {
     "end_time": "2023-09-28T14:12:51.464195Z",
     "start_time": "2023-09-28T14:12:51.461733Z"
    }
   },
   "id": "997514471fa6bfcd"
  },
  {
   "cell_type": "code",
   "execution_count": 32,
   "outputs": [],
   "source": [
    "def orders_scraper():\n",
    "    orders = []\n",
    "\n",
    "    for idx, table_row in enumerate(table_rows):\n",
    "        if idx >= 1:\n",
    "            table_row.click()\n",
    "            \n",
    "            time.sleep(5)  # wait for ssb to load on dom\n",
    "            \n",
    "            found, elem = wait_for_and_find_element(locator=\"//*[@class='styles__SidesheetContent-sc-czzuxh-2 hKVVOI']\", locator_type=By.XPATH, timeout=10)\n",
    "            \n",
    "            orders.append(elem.text)\n",
    "\n",
    "            exit_btn_clicked = find_element_and_click(locator='//*[@id=\"MerchantApp\"]/div/div/div[3]/div[2]/div[2]/div/div/div[1]/nav/div[1]/div[1]/div/button', locator_type=By.XPATH)\n",
    "\n",
    "            if exit_btn_clicked:\n",
    "                logging.info(f'Exiting sidesheetbody for Order #: {idx}')\n",
    "\n",
    "    return orders\n"
   ],
   "metadata": {
    "collapsed": false,
    "ExecuteTime": {
     "end_time": "2023-09-28T14:27:31.973270Z",
     "start_time": "2023-09-28T14:27:31.958759Z"
    }
   },
   "id": "7f40e728c4ba3e02"
  },
  {
   "cell_type": "code",
   "execution_count": 33,
   "outputs": [
    {
     "data": {
      "text/plain": "['Order: E4D52343\\nDelivered\\nThe order was delivered at 11:20 PM on September 27, 2023. \\nRate Dasher\\nGet help\\nDelivery Details\\nCustomer\\nAmber W\\nDasher\\nLissette\\nPicked Up\\n11:15 PM\\n(Quoted: 11:17 PM)\\nSeptember 27, 2023\\nDropped Off\\n11:20 PM\\n(Quoted: 11:29 PM)\\nSeptember 27, 2023\\nPick Up Location\\n5004 Wesley St, Greenville, TX 75402, USA\\nChannel\\nDoorDash\\nFulfillment\\nDoorDash Delivery\\nOrder Details\\n1\\n×\\nHostess Chocolate Ding Dong 2pk (2.55oz) (Pastry TX)\\n$3.79\\n1\\n×\\nCoke Cherry Bottle (20oz) (Soda TX)\\n$3.79\\n1\\n×\\nCoke Classic Bottle (20oz) (Soda TX)\\n$3.19\\nSubtotal\\n$10.77\\nSubtotal Tax\\n$0.89\\nCommission (16%)\\n-$1.72\\nTotal Customer Refund\\n-$0.00\\nEstimated Payout\\n$9.94\\nAssociated Transactions (1)\\nTransaction #8079836740 - Delivery\\n$9.94',\n \"Order: 28F4404A\\nDelivered\\nThe order was delivered at 10:46 PM on September 27, 2023. \\nRate Dasher\\nGet help\\nDelivery Details\\nCustomer\\nEric-Reed A\\nDasher\\nAndrea\\nPicked Up\\n10:40 PM\\n(Quoted: 10:28 PM)\\nSeptember 27, 2023\\nDropped Off\\n10:46 PM\\n(Quoted: 10:46 PM)\\nSeptember 27, 2023\\nPick Up Location\\n800 W Interstate 20, Big Spring, TX 79720, USA\\nChannel\\nDoorDash\\nFulfillment\\nDoorDash Delivery\\nOrder Details\\n1\\n×\\nFunyuns Flavored Onion Rings (2.125 oz) (Chips & Popcorn TX)\\n$2.89\\n1\\n×\\nBen & Jerry's Americone Dream Ice Cream (16 oz) (Ice Cream TX)\\n$12.49\\nSubtotal\\n$15.38\\nSubtotal Tax\\n$0.00\\nCommission (23%)\\n-$3.54\\nTotal Customer Refund\\n-$0.00\\nEstimated Payout\\n$11.84\\nAssociated Transactions (1)\\nTransaction #8079668211 - Delivery\\n$11.84\",\n 'Order: 0615F152\\nDelivered\\nThe order was delivered at 10:12 PM on September 27, 2023. \\nRate Dasher\\nGet help\\nDelivery Details\\nCustomer\\nTyler P\\nDasher\\nShakeytria\\nPicked Up\\n9:55 PM\\n(Quoted: 9:56 PM)\\nSeptember 27, 2023\\nDropped Off\\n10:12 PM\\n(Quoted: 10:20 PM)\\nSeptember 27, 2023\\nPick Up Location\\n5004 Wesley St, Greenville, TX 75402, USA\\nChannel\\nDoorDash\\nFulfillment\\nDoorDash Delivery\\nOrder Details\\n3\\n×\\nHurricane Hi-Gravity, 25oz can domestic (8% ABV) (Flavored Malt Beverages NT)\\n$13.17\\nSubtotal\\n$13.17\\nSubtotal Tax\\n$1.09\\nCommission (16%)\\n-$2.11\\nTotal Customer Refund\\n-$0.00\\nEstimated Payout\\n$12.15\\nAssociated Transactions (1)\\nTransaction #8079394857 - Delivery\\n$12.15',\n 'Order: 17801D9C\\nDelivered\\nThe order was delivered at 9:56 PM on September 27, 2023. \\nRate Dasher\\nGet help\\nDelivery Details\\nCustomer\\nCheyenne H\\nDasher\\nAngelina\\nPicked Up\\n9:46 PM\\n(Quoted: 9:56 PM)\\nSeptember 27, 2023\\nDropped Off\\n9:56 PM\\n(Quoted: 10:01 PM)\\nSeptember 27, 2023\\nPick Up Location\\n5004 Wesley St, Greenville, TX 75402, USA\\nChannel\\nDoorDash\\nFulfillment\\nDoorDash Delivery\\nOrder Details\\n2\\n×\\nStrawberry Milk (16 oz) (Milk TX)\\n$7.58\\nSubtotal\\n$7.58\\nSubtotal Tax\\n$0.63\\nCommission (16%)\\n-$1.21\\nTotal Customer Refund\\n-$0.00\\nEstimated Payout\\n$7.00\\nAssociated Transactions (1)\\nTransaction #8079340144 - Delivery\\n$7.00',\n 'Order: 954AAE38\\nDelivered\\nThe order was delivered at 9:35 PM on September 27, 2023. \\nRate Dasher\\nGet help\\nDelivery Details\\nCustomer\\nWaldemar S\\nDasher\\nJerry\\nPicked Up\\n9:17 PM\\n(Quoted: 9:17 PM)\\nSeptember 27, 2023\\nDropped Off\\n9:35 PM\\n(Quoted: 9:36 PM)\\nSeptember 27, 2023\\nPick Up Location\\n7045 W Del Mar Blvd, Laredo, TX 78041, USA\\nChannel\\nDoorDash\\nFulfillment\\nDoorDash Delivery\\nOrder Details\\n1\\n×\\nTXB Green Tea Bottle (16oz) (Tea TX)\\n$2.59\\n1\\n×\\nTXB Sweet Tea Bottle (16oz) (Tea TX)\\n$3.29\\n2\\n×\\nTXB Rehydration Mango Bottle (16oz) (Sports Drinks TX)\\n$7.58\\n2\\n×\\nFiji Natural Artesian Water Bottle (1 lt) (Water TX)\\n$9.98\\n5\\n×\\nHurricane Hi-Gravity, 25oz can domestic (8% ABV) (Flavored Malt Beverages Laredo)\\n$21.95\\nSubtotal\\n$45.39\\nSubtotal Tax\\n$2.65\\nCommission (23%)\\n-$10.44\\nTotal Customer Refund\\n-$0.00\\nEstimated Payout\\n$37.60\\nAssociated Transactions (1)\\nTransaction #8079125609 - Delivery\\n$37.60',\n 'Order: 5C7D334F\\nDelivered\\nThe order was delivered at 9:09 PM on September 27, 2023. \\nRate Dasher\\nGet help\\nDelivery Details\\nCustomer\\nNico C\\nDasher\\nSaul\\nPicked Up\\n8:51 PM\\n(Quoted: 8:50 PM)\\nSeptember 27, 2023\\nDropped Off\\n9:09 PM\\n(Quoted: 9:08 PM)\\nSeptember 27, 2023\\nPick Up Location\\n2196 El Indio Hwy, Eagle Pass, TX 78852, USA\\nChannel\\nDoorDash\\nFulfillment\\nDoorDash Delivery\\nOrder Details\\n1\\n×\\nMichelob Ultra Light Beer Can (12 oz x 6 ct) (Domestic Beer ST)\\n$16.29\\nSubtotal\\n$16.29\\nSubtotal Tax\\n$1.34\\nCommission (25%)\\n-$4.07\\nTotal Customer Refund\\n-$0.00\\nEstimated Payout\\n$13.56\\nAssociated Transactions (1)\\nTransaction #8078904704 - Delivery\\n$13.56',\n 'Order: BECAB99B\\nDelivered\\nThe order was delivered at 9:01 PM on September 27, 2023. \\nRate Dasher\\nGet help\\nDelivery Details\\nCustomer\\nAndrew D\\nDasher\\nEddie\\nPicked Up\\n8:54 PM\\n(Quoted: 8:54 PM)\\nSeptember 27, 2023\\nDropped Off\\n9:01 PM\\n(Quoted: 9:07 PM)\\nSeptember 27, 2023\\nPick Up Location\\n7045 W Del Mar Blvd, Laredo, TX 78041, USA\\nChannel\\nDoorDash\\nFulfillment\\nDoorDash Delivery\\nOrder Details\\n1\\n×\\nTwisted Tea Hard Ice Cocktail Original Can (12 oz x 12 ct) (Flavored Malt Beverages Laredo)\\n$23.79\\nSubtotal\\n$23.79\\nSubtotal Tax\\n$1.96\\nCommission (16%)\\n-$3.81\\nTotal Customer Refund\\n-$0.00\\nEstimated Payout\\n$21.94\\nAssociated Transactions (1)\\nTransaction #8078930991 - Delivery\\n$21.94',\n 'Order: B5781BD7\\nDelivered\\nThe order was delivered at 7:28 PM on September 27, 2023. \\nRate Dasher\\nGet help\\nDelivery Details\\nCustomer\\nKelsey C\\nDasher\\nGotham\\nPicked Up\\n7:21 PM\\n(Quoted: 7:23 PM)\\nSeptember 27, 2023\\nDropped Off\\n7:28 PM\\n(Quoted: 7:39 PM)\\nSeptember 27, 2023\\nPick Up Location\\n7045 W Del Mar Blvd, Laredo, TX 78041, USA\\nChannel\\nDoorDash\\nFulfillment\\nDoorDash Delivery\\nOrder Details\\n1\\n×\\nTwisted Tea Hard Ice Cocktail Original Can (12 oz x 12 ct) (Flavored Malt Beverages Laredo)\\n$23.79\\nSubtotal\\n$23.79\\nSubtotal Tax\\n$1.96\\nCommission (23%)\\n-$5.47\\nTotal Customer Refund\\n-$0.00\\nEstimated Payout\\n$20.28\\nAssociated Transactions (1)\\nTransaction #8078008769 - Delivery\\n$20.28',\n 'Order: FEAAAC93\\nDelivered\\nThe order was delivered at 6:56 PM on September 27, 2023. \\nRate Dasher\\nGet help\\nDelivery Details\\nCustomer\\nSeth J\\nDasher\\nDaniel\\nPicked Up\\n6:40 PM\\n(Quoted: 6:38 PM)\\nSeptember 27, 2023\\nDropped Off\\n6:56 PM\\n(Quoted: 6:59 PM)\\nSeptember 27, 2023\\nPick Up Location\\n440 W Bandera Rd, Boerne, TX 78006, USA\\nChannel\\nDoorDash\\nFulfillment\\nDoorDash Delivery\\nOrder Details\\n1\\n×\\nA&W Caffeine-Free Root Beer Bottle (20 oz) (Soda TX)\\n$3.79\\n1\\n×\\nDr Pepper Can (12 pk-12 oz) (Soda TX)\\n$11.29\\n1\\n×\\nFountain Drink (Fountain, Frozen, & Tea)\\nDrink Selection:\\nTXB Root Beer\\n$0.00\\nSubtotal\\n$15.08\\nSubtotal Tax\\n$1.24\\nCommission (25%)\\n-$3.77\\nTotal Customer Refund\\n-$0.00\\nEstimated Payout\\n$12.55\\nAssociated Transactions (1)\\nTransaction #8077561887 - Delivery\\n$12.55',\n 'Order: 1FEC2A67\\nDelivered\\nThe order was delivered at 1:03 PM on September 27, 2023. \\nRate Dasher\\nGet help\\nDelivery Details\\nCustomer\\nDollymae J\\nDasher\\nAndrew\\nPicked Up\\n12:47 PM\\n(Quoted: 12:51 PM)\\nSeptember 27, 2023\\nDropped Off\\n1:03 PM\\n(Quoted: 1:39 PM)\\nSeptember 27, 2023\\nPick Up Location\\n14620 Ranch Rd 12, Wimberley, TX 78676, USA\\nChannel\\nDoorDash\\nFulfillment\\nDoorDash Delivery\\nOrder Details\\n3\\n×\\nCayman Jack Margarita Can (19 oz) (Flavored Malt Beverages CT)\\n$17.07\\n1\\n×\\nChicken Tender Meal Kit (Meal Kits TXB#57)\\n$9.19\\nSubtotal\\n$26.26\\nSubtotal Tax\\n$2.17\\nCommission (23%)\\n-$6.04\\nTotal Customer Refund\\n-$0.00\\nEstimated Payout\\n$22.39\\nAssociated Transactions (1)\\nTransaction #8074780361 - Delivery\\n$22.39',\n 'Order: 3A74DC14\\nDelivered\\nThe order was delivered at 10:20 AM on September 27, 2023. \\nRate Dasher\\nGet help\\nDelivery Details\\nCustomer\\nHillary R\\nDasher\\nAnthony\\nPicked Up\\n10:15 AM\\n(Quoted: 10:22 AM)\\nSeptember 27, 2023\\nDropped Off\\n10:20 AM\\n(Quoted: 10:31 AM)\\nSeptember 27, 2023\\nPick Up Location\\n2320 W Main St, Durant, OK 74701, USA\\nChannel\\nDoorDash\\nFulfillment\\nDoorDash Delivery\\nOrder Details\\n1\\n×\\nTropicana Apple Juice (12oz) (Juice OK)\\n$3.89\\n1\\n×\\nStarbucks Double Shot Espresso Shot Coffee Can (6.5 oz) (Coffee OK)\\n$4.79\\n1\\n×\\nTXB Coffee or Cappuccino (20 oz) (Brewed Coffee)\\nFlavor:\\nTXB Southern Pecan Coffee\\n$0.00\\n2\\n×\\nRed Bull Energy Drink Can (12 oz) (Energy Drinks OK)\\n$11.58\\nSubtotal\\n$20.26\\nPromo Paid by DoorDash\\n-$20.00\\n(DashPass Appreciation)\\nSubtotal for Tax Calculations\\n$0.26\\nSubtotal Tax\\n$0.02\\nCommission (23%)\\n-$4.66\\nTotal Customer Refund\\n-$0.00\\nEstimated Payout\\n$15.60\\nAssociated Transactions (1)\\nTransaction #8073758089 - Delivery\\n$15.60',\n 'Order: DC085D8D\\nCancelled - Paid\\nThe order was cancelled on September 27, 2023 at 4:03 AM. You’re paid for cancelled orders when you’ve successfully confirmed an order, it was prepared, and you did not initiate or are not at fault for the cancellation. Learn More\\nGet help\\nDelivery Details\\nCustomer\\nBaylie M\\nDasher\\nTo be assigned\\nEstimated Pick Up\\n2:16 AM\\nSeptember 27, 2023\\nEstimated Drop Off\\n2:44 AM\\nSeptember 27, 2023\\nPick Up Location\\n2503 TX-349, Midland, TX 79706, USA\\nChannel\\nDoorDash\\nFulfillment\\nDoorDash Delivery\\nOrder Details\\n1\\n×\\nBig Red Bottle (20oz) (Soda TX)\\n$3.79\\n1\\n×\\nFunyuns Flavored Onion Rings (2.125 oz) (Chips & Popcorn TX)\\n$2.89\\nSubtotal\\n$6.68\\nSubtotal Tax\\n$0.47\\nCommission (16%)\\n-$1.07\\nTotal Customer Refund\\n-$0.00\\nEstimated Payout\\n$6.08\\nAssociated Transactions (1)\\nTransaction #8073062041 - Delivery\\n$6.08',\n \"Order: 47EA8AA8\\nDelivered\\nThe order was delivered at 1:56 AM on September 27, 2023. \\nRate Dasher\\nGet help\\nDelivery Details\\nCustomer\\nJosh A\\nDasher\\nNia\\nPicked Up\\n1:52 AM\\n(Quoted: 1:04 AM)\\nSeptember 27, 2023\\nDropped Off\\n1:56 AM\\n(Quoted: 1:29 AM)\\nSeptember 27, 2023\\nPick Up Location\\n5004 Wesley St, Greenville, TX 75402, USA\\nChannel\\nDoorDash\\nFulfillment\\nDoorDash Delivery\\nOrder Details\\n1\\n×\\nGardettos Original Recipe Snax Mix (5.5 oz) (Crackers & Pretzels TX)\\n$5.49\\n1\\n×\\nHostess Zingers Raspberrry 3pk (4.02oz) (Pastry TX)\\n$3.79\\n1\\n×\\nCheetos Crunchy Jalapeno (8.5 oz) (Chips & Popcorn TX)\\n$3.19\\n2\\n×\\nStrawberry Milk (16 oz) (Milk TX)\\n$7.58\\n1\\n×\\nLay's Ranch Dip (15 oz) (Dips & Salsa TX)\\n$5.69\\n1\\n×\\nFritos Scoops Corn Chips (9.25 oz) (Chips & Popcorn TX)\\n$6.49\\nSubtotal\\n$32.23\\nSubtotal Tax\\n$1.45\\nCommission (23%)\\n-$7.41\\nTotal Customer Refund\\n-$0.00\\nEstimated Payout\\n$26.27\\nAssociated Transactions (1)\\nTransaction #8072936637 - Delivery\\n$26.27\",\n 'Order: AB9E7456\\nDelivered\\nThe order was delivered at 1:28 AM on September 27, 2023. \\nRate Dasher\\nGet help\\nDelivery Details\\nCustomer\\nJames M\\nDasher\\nYoussef\\nPicked Up\\n1:12 AM\\n(Quoted: 1:08 AM)\\nSeptember 27, 2023\\nDropped Off\\n1:28 AM\\n(Quoted: 1:41 AM)\\nSeptember 27, 2023\\nPick Up Location\\n145 Lehman Rd, Kyle, TX 78640, USA\\nChannel\\nDoorDash\\nFulfillment\\nDoorDash Delivery\\nOrder Details\\n1\\n×\\nPeanut Butter Chunk Cookie (Pastries & Desserts)\\n$2.49\\n1\\n×\\nChocolate Pudding Cup with Chocolate Chip Cookie (Pastries & Desserts)\\n$4.99\\nSubtotal\\n$7.48\\nSubtotal Tax\\n$0.95\\nCommission (16%)\\n-$1.20\\nTotal Customer Refund\\n-$0.00\\nEstimated Payout\\n$7.23\\nAssociated Transactions (1)\\nTransaction #8072875953 - Delivery\\n$7.23',\n 'Order: 0D7FFFFF\\nCancelled - Not Paid\\nThe order was cancelled on September 27, 2023 at 12:01 AM. You were not paid because you were unable to fulfill the order. Learn More\\nGet help\\nDelivery Details\\nCustomer\\nKoltan M\\nDasher\\nTo be assigned\\nEstimated Pick Up\\n12:18 AM\\nSeptember 27, 2023\\nEstimated Drop Off\\n12:30 AM\\nSeptember 27, 2023\\nPick Up Location\\n7045 W Del Mar Blvd, Laredo, TX 78041, USA\\nChannel\\nDoorDash\\nFulfillment\\nDoorDash Delivery\\nOrder Details\\n2\\n×\\nCoors Original Beer Bottle (12oz x 6ct) (Domestic Beer Laredo)\\n$22.58\\nSubtotal\\n$22.58\\nSubtotal Tax\\n$2.88\\nCommission (23%)\\n-$5.19\\nTotal Customer Refund\\n-$0.00\\nEstimated Payout\\n$0.00']"
     },
     "execution_count": 33,
     "metadata": {},
     "output_type": "execute_result"
    }
   ],
   "source": [
    "orders = orders_scraper()\n",
    "orders"
   ],
   "metadata": {
    "collapsed": false,
    "ExecuteTime": {
     "end_time": "2023-09-28T14:30:42.305942Z",
     "start_time": "2023-09-28T14:27:39.727725Z"
    }
   },
   "id": "9ba45328d137fe21"
  },
  {
   "cell_type": "code",
   "execution_count": 1,
   "outputs": [],
   "source": [
    "def clean_order_text(order):\n",
    "    # Define the patterns in a list\n",
    "    patterns = [\n",
    "        re.compile(r'(Rate Dasher|Learn More|Get help).*?(?=Pick Up Location)', re.DOTALL),\n",
    "        re.compile(r'Channel.*?(?=Order Details)', re.DOTALL),\n",
    "        re.compile(r'Associated Transactions \\(\\d+\\).*?(?=Transaction #\\d+ - Delivery)', re.DOTALL),\n",
    "        re.compile(r'Associated Transactions \\(\\d+\\).*?(?=Transaction #\\d+ - Pickup)', re.DOTALL)\n",
    "\n",
    "    ]\n",
    "\n",
    "    # Apply each pattern\n",
    "    for pattern in patterns:\n",
    "        order = re.sub(pattern, '', order).strip()\n",
    "\n",
    "    # Replace newline characters with spaces\n",
    "    order = order.replace('\\n', ' ')\n",
    "\n",
    "    return order\n"
   ],
   "metadata": {
    "collapsed": false,
    "ExecuteTime": {
     "end_time": "2023-09-28T14:11:51.305466Z",
     "start_time": "2023-09-28T14:11:51.277889Z"
    }
   },
   "id": "1a29849fa066b91f"
  },
  {
   "cell_type": "code",
   "execution_count": 2,
   "outputs": [],
   "source": [
    "def parse_menu_items(price_as_value):\n",
    "    # Initialize a dictionary for the nested order details\n",
    "    item_name_to_item_price = {}\n",
    "\n",
    "    # Regular expression pattern to match an item and its corresponding price\n",
    "    pattern = re.compile(r'(.+?) (\\$\\d+\\.\\d+)')\n",
    "\n",
    "    # Find all matches in the string\n",
    "    matches = pattern.findall(price_as_value)\n",
    "\n",
    "    # Loop through all the matches and populate the dictionary\n",
    "    for item_name, item_price in matches:\n",
    "        item_name_to_item_price[item_name] = item_price\n",
    "\n",
    "    return item_name_to_item_price\n"
   ],
   "metadata": {
    "collapsed": false,
    "ExecuteTime": {
     "end_time": "2023-09-28T14:11:51.305922Z",
     "start_time": "2023-09-28T14:11:51.283617Z"
    }
   },
   "id": "48f8a5ee211cd0c"
  },
  {
   "cell_type": "code",
   "execution_count": 24,
   "outputs": [],
   "source": [
    "def parse_order(order):\n",
    "    # Define the known keys with their regex patterns\n",
    "    known_keys = [r'\\bOrder: \\b', r'\\bDelivered\\b', r'\\bCustomer\\sPicked\\sUp\\b', r'\\bCancelled\\s-\\sNot\\sPaid\\b', r'\\bCancelled\\s-\\sPaid\\b', r'\\bPick Up Location\\b', r'\\bOrder Details\\b',\n",
    "                  r'\\bSubtotal\\b(?=\\s[^a-zA-Z])', r'\\bSubtotal\\sTax\\b', r'Commission \\(\\d+%\\)',\n",
    "                  r'\\bTotal Customer Refund\\b', r'\\bEstimated Payout\\b', r'\\bAssociated Transactions \\(\\d+%\\)',\n",
    "                  r'Transaction #\\d+ - Delivery']\n",
    "\n",
    "    # Initialize the dictionary to store our parsed values\n",
    "    order_dict = {}\n",
    "\n",
    "    # Find positions of known keys\n",
    "    positions = []\n",
    "    for key in known_keys:\n",
    "        for m in re.finditer(key, order):\n",
    "            positions.append((m.start(), m.end(), m.group()))\n",
    "\n",
    "    # Sort positions by their start index\n",
    "    positions.sort(key=lambda x: x[0])\n",
    "    # print(positions)\n",
    "\n",
    "    # Create segments based on positions\n",
    "    segments = []\n",
    "\n",
    "    for i in range(len(positions)):\n",
    "        start = positions[i][1]\n",
    "        end = positions[i + 1][0] if i + 1 < len(positions) else len(order)\n",
    "        key = positions[i][2]\n",
    "        value = order[start:end].strip().split(' ')[0] if 'Estimated Payout' in key else order[start:end].strip()\n",
    "        segments.append((key, value))\n",
    "\n",
    "    # Parse segments into dictionary\n",
    "    for key, value in segments:\n",
    "        if key == \"Order Details\":\n",
    "            value = parse_menu_items(value)\n",
    "        order_dict[key.replace(':', '').strip()] = value\n",
    "\n",
    "    return order_dict\n"
   ],
   "metadata": {
    "collapsed": false,
    "ExecuteTime": {
     "end_time": "2023-09-28T14:14:39.325965Z",
     "start_time": "2023-09-28T14:14:39.303757Z"
    }
   },
   "id": "908a80250670f0ee"
  },
  {
   "cell_type": "code",
   "execution_count": null,
   "outputs": [],
   "source": [
    "def main_looper_func(orders):\n",
    "\n",
    "    results = []\n",
    "\n",
    "    for order in orders:\n",
    "        # 1. Get order strings squeaky clean!\n",
    "        order_cleaned = clean_order_text(order)\n",
    "\n",
    "        # 2. Parse each cleaned order string into formatted key/value pairs\n",
    "        parsed_order = parse_order(order_cleaned)\n",
    "\n",
    "        results.append(parsed_order)\n",
    "\n",
    "    return results\n"
   ],
   "metadata": {
    "collapsed": false
   },
   "id": "2248d864d3a3b9a6"
  },
  {
   "cell_type": "code",
   "execution_count": null,
   "outputs": [],
   "source": [
    "results = main_looper_func(orders)"
   ],
   "metadata": {
    "collapsed": false
   },
   "id": "c5030719f048513b"
  },
  {
   "cell_type": "code",
   "execution_count": 17,
   "outputs": [],
   "source": [
    "def get_order_id(order_text):\n",
    "    # Extract the order_id\n",
    "    order_id_start = order_text.find(\"Order:\") + len(\"Order:\")\n",
    "    order_id_end = order_text.find(\"\\n\", order_id_start)\n",
    "    order_id = order_text[order_id_start:order_id_end]\n",
    "    return order_id"
   ],
   "metadata": {
    "collapsed": false,
    "ExecuteTime": {
     "end_time": "2023-09-26T15:39:08.710782Z",
     "start_time": "2023-09-26T15:39:08.703426Z"
    }
   },
   "id": "d5b9e7c703f040e9"
  },
  {
   "cell_type": "code",
   "execution_count": 92,
   "outputs": [
    {
     "ename": "AttributeError",
     "evalue": "'XlsxWriter' object has no attribute 'save'",
     "output_type": "error",
     "traceback": [
      "\u001B[0;31m---------------------------------------------------------------------------\u001B[0m",
      "\u001B[0;31mAttributeError\u001B[0m                            Traceback (most recent call last)",
      "Cell \u001B[0;32mIn[92], line 25\u001B[0m\n\u001B[1;32m     21\u001B[0m     \u001B[38;5;66;03m# Close the Pandas Excel writer and save the file\u001B[39;00m\n\u001B[1;32m     22\u001B[0m     writer\u001B[38;5;241m.\u001B[39msave()\n\u001B[0;32m---> 25\u001B[0m \u001B[43morders_spreadsheet_creator\u001B[49m\u001B[43m(\u001B[49m\u001B[43morders_content\u001B[49m\u001B[43m)\u001B[49m\n",
      "Cell \u001B[0;32mIn[92], line 22\u001B[0m, in \u001B[0;36morders_spreadsheet_creator\u001B[0;34m(orders)\u001B[0m\n\u001B[1;32m     19\u001B[0m         df\u001B[38;5;241m.\u001B[39mto_excel(writer, sheet_name\u001B[38;5;241m=\u001B[39m\u001B[38;5;124mf\u001B[39m\u001B[38;5;124m\"\u001B[39m\u001B[38;5;124mstore_num\u001B[39m\u001B[38;5;124m\"\u001B[39m, index\u001B[38;5;241m=\u001B[39m\u001B[38;5;28;01mFalse\u001B[39;00m)\n\u001B[1;32m     21\u001B[0m \u001B[38;5;66;03m# Close the Pandas Excel writer and save the file\u001B[39;00m\n\u001B[0;32m---> 22\u001B[0m \u001B[43mwriter\u001B[49m\u001B[38;5;241;43m.\u001B[39;49m\u001B[43msave\u001B[49m()\n",
      "\u001B[0;31mAttributeError\u001B[0m: 'XlsxWriter' object has no attribute 'save'"
     ]
    }
   ],
   "source": [
    "def orders_spreadsheet_creator(orders):\n",
    "    \n",
    "    # Create a Pandas Excel writer using XlsxWriter as the engine.\n",
    "    with pd.ExcelWriter('output.xlsx', engine='xlsxwriter') as writer:\n",
    "        \n",
    "        # Loop through order_contents and create a sheet for each order\n",
    "        for idx, order_text in enumerate(orders, start=1):\n",
    "            \n",
    "            # get order id\n",
    "            order_id = get_order_id(order_text)\n",
    "            \n",
    "            # Convert the order text to a DataFrame\n",
    "            df = pd.DataFrame(orders, columns=[f'{order_id}'])\n",
    "            \n",
    "            # Write the DataFrame to the Excel sheet with the order ID as the sheet name\n",
    "            # TODO: store num getter func \n",
    "            df.to_excel(writer, sheet_name=f\"store_num\", index=False)\n",
    "            \n",
    "    # Close the Pandas Excel writer and save the file\n",
    "    writer.save() #todo: AttributeError: 'XlsxWriter' object has no attribute 'save'\n",
    "\n",
    "\n",
    "orders_spreadsheet_creator(orders_content)"
   ],
   "metadata": {
    "collapsed": false,
    "ExecuteTime": {
     "end_time": "2023-09-26T00:54:36.597160Z",
     "start_time": "2023-09-26T00:54:36.550867Z"
    }
   },
   "id": "13de8f5c17975259"
  },
  {
   "cell_type": "code",
   "execution_count": 98,
   "outputs": [],
   "source": [
    "def create_excel_from_orders(order_strings):\n",
    "    # Create a Pandas Excel writer using XlsxWriter as the engine.\n",
    "    with pd.ExcelWriter('output.xlsx', engine='xlsxwriter') as writer:\n",
    "        for idx, order_string in enumerate(order_strings, start=1):\n",
    "            # Create a DataFrame with the order string\n",
    "            df = pd.DataFrame({'Order Content': [order_string]})\n",
    "            df.to_clipboard()\n",
    "            \n",
    "            \n",
    "            \n",
    "            # Write the DataFrame to the Excel sheet with a sheet name based on the index\n",
    "            # df.to_excel(writer, sheet_name=f\"Order_{idx}\", index=False)\n",
    "    \n",
    "    # Save the Excel file\n",
    "\n",
    "# Example usage with a list of order strings\n",
    "order_strings_with_delimiter = [\n",
    "    'Order: DF8E5AB6 Delivered The order was delivered at 10:56 PM on September 24, 2023.  Rate Dasher Get help...',\n",
    "    'Order: 1D4B1698 Delivered The order was delivered at 7:18 PM on September 24, 2023.  Rate Dasher Get help...'\n",
    "]\n",
    "\n",
    "create_excel_from_orders(order_strings_with_delimiter)\n"
   ],
   "metadata": {
    "collapsed": false,
    "ExecuteTime": {
     "end_time": "2023-09-26T01:37:45.699966Z",
     "start_time": "2023-09-26T01:37:45.590713Z"
    }
   },
   "id": "c2aaeb76596f178d"
  }
 ],
 "metadata": {
  "kernelspec": {
   "display_name": "Python 3",
   "language": "python",
   "name": "python3"
  },
  "language_info": {
   "codemirror_mode": {
    "name": "ipython",
    "version": 2
   },
   "file_extension": ".py",
   "mimetype": "text/x-python",
   "name": "python",
   "nbconvert_exporter": "python",
   "pygments_lexer": "ipython2",
   "version": "2.7.6"
  }
 },
 "nbformat": 4,
 "nbformat_minor": 5
}
