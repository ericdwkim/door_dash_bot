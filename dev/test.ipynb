{
 "cells": [
  {
   "cell_type": "code",
   "execution_count": 59,
   "id": "initial_id",
   "metadata": {
    "collapsed": true,
    "ExecuteTime": {
     "end_time": "2023-09-25T22:41:26.787255Z",
     "start_time": "2023-09-25T22:41:26.774981Z"
    }
   },
   "outputs": [],
   "source": [
    "from selenium import webdriver\n",
    "from selenium.webdriver.chrome.service import Service\n",
    "from selenium.webdriver.common.by import By\n",
    "from selenium.webdriver.support.ui import WebDriverWait\n",
    "from selenium.webdriver.support import expected_conditions as EC\n",
    "from selenium.common.exceptions import NoSuchElementException, TimeoutException\n",
    "import logging\n",
    "import pandas as pd"
   ]
  },
  {
   "cell_type": "code",
   "execution_count": 60,
   "outputs": [],
   "source": [
    "options = webdriver.ChromeOptions()\n",
    "options.add_experimental_option(\"debuggerAddress\", \"127.0.0.1:9222\")"
   ],
   "metadata": {
    "collapsed": false,
    "ExecuteTime": {
     "end_time": "2023-09-25T22:41:27.212432Z",
     "start_time": "2023-09-25T22:41:27.209103Z"
    }
   },
   "id": "25291fd8b2be6cae"
  },
  {
   "cell_type": "code",
   "execution_count": 61,
   "outputs": [
    {
     "data": {
      "text/plain": "<selenium.webdriver.chrome.webdriver.WebDriver (session=\"2567152ce3a5d0fa14faa77417980851\")>"
     },
     "execution_count": 61,
     "metadata": {},
     "output_type": "execute_result"
    }
   ],
   "source": [
    "driver = webdriver.Chrome(service=Service(executable_path=\"/opt/homebrew/bin/chromedriver\"), options=options)\n",
    "\n",
    "driver"
   ],
   "metadata": {
    "collapsed": false,
    "ExecuteTime": {
     "end_time": "2023-09-25T22:41:28.142659Z",
     "start_time": "2023-09-25T22:41:27.530983Z"
    }
   },
   "id": "7f90dad091063b2a"
  },
  {
   "cell_type": "code",
   "execution_count": 62,
   "outputs": [
    {
     "data": {
      "text/plain": "15"
     },
     "execution_count": 62,
     "metadata": {},
     "output_type": "execute_result"
    }
   ],
   "source": [
    "table_rows = driver.find_elements(By.TAG_NAME, 'tr')\n",
    "type(table_rows)\n",
    "len(table_rows)\n",
    "# table_rows\n"
   ],
   "metadata": {
    "collapsed": false,
    "ExecuteTime": {
     "end_time": "2023-09-25T22:41:28.142955Z",
     "start_time": "2023-09-25T22:41:28.113950Z"
    }
   },
   "id": "ad745f08a04dc3eb"
  },
  {
   "cell_type": "code",
   "execution_count": 63,
   "outputs": [],
   "source": [
    "def wait_for_element(locator, locator_type, timeout):\n",
    "    try:\n",
    "        WebDriverWait(driver, timeout).until(\n",
    "            EC.visibility_of_element_located((locator_type, locator)))\n",
    "        return True\n",
    "    except TimeoutException:\n",
    "        return False"
   ],
   "metadata": {
    "collapsed": false,
    "ExecuteTime": {
     "end_time": "2023-09-25T22:41:28.493578Z",
     "start_time": "2023-09-25T22:41:28.478534Z"
    }
   },
   "id": "78c44f650ac5afc7"
  },
  {
   "cell_type": "code",
   "execution_count": 64,
   "outputs": [],
   "source": [
    "def wait_for_and_find_element(locator, locator_type, timeout):\n",
    "    try:\n",
    "        wait = wait_for_element(locator, locator_type, timeout)\n",
    "        if not wait:\n",
    "            logging.error(f'Tried to wait to locate element via locator \"{locator}\", but timed out')\n",
    "            return False, None\n",
    "        element = driver.find_element(locator_type, locator)\n",
    "        if not element:\n",
    "            logging.error(f'Could not find element via locator \"{locator}\"')\n",
    "            return True, None\n",
    "        if wait and element:\n",
    "            logging.info(f'Found and located element via locator \"{locator}\"')\n",
    "            return True, element\n",
    "\n",
    "    except Exception as NoSuchElementException:\n",
    "        logging.exception(f'An unexpected error occurred: {NoSuchElementException}')\n"
   ],
   "metadata": {
    "collapsed": false,
    "ExecuteTime": {
     "end_time": "2023-09-25T22:41:29.008781Z",
     "start_time": "2023-09-25T22:41:29.003284Z"
    }
   },
   "id": "2877418d5a43e6d0"
  },
  {
   "cell_type": "code",
   "execution_count": 65,
   "outputs": [],
   "source": [
    "def find_element_and_click(locator ,locator_type=By.CSS_SELECTOR):\n",
    "    \"\"\"\n",
    "    Finds element and clicks it using `WebElement.click()`\n",
    "    :param locator:\n",
    "    :param locator_type:\n",
    "    :return: Tuple(bool, WebElement)\n",
    "    \"\"\"\n",
    "    try:\n",
    "        element = driver.find_element(locator_type, locator)\n",
    "        if not element:\n",
    "            logging.error(f'Could not locate element via locator \"{locator}\".')\n",
    "        element.click()\n",
    "        return True, element\n",
    "    except NoSuchElementException:\n",
    "        logging.exception(f'Element {locator} was not found.')\n",
    "        return False, None\n",
    "    except Exception as e:\n",
    "        logging.exception(f'Error occurred when trying to find and click element with locator: \"{locator}\" resulting in error message: {str(e)}')\n",
    "        return False, None\n"
   ],
   "metadata": {
    "collapsed": false,
    "ExecuteTime": {
     "end_time": "2023-09-25T22:41:29.916021Z",
     "start_time": "2023-09-25T22:41:29.912542Z"
    }
   },
   "id": "997514471fa6bfcd"
  },
  {
   "cell_type": "code",
   "execution_count": 66,
   "outputs": [],
   "source": [
    "def scrape_wrapper():\n",
    "    results = []\n",
    "    for idx, table_row in enumerate(table_rows):\n",
    "        if idx >= 1:\n",
    "            table_row.click()\n",
    "            found, elem = wait_for_and_find_element(locator=\"//*[@class='styles__SidesheetContent-sc-czzuxh-2 hKVVOI']\", locator_type=By.XPATH, timeout=10)\n",
    "            \n",
    "            results.append(elem.text)\n",
    "            \n",
    "            exit_btn_clicked = find_element_and_click(locator='//*[@id=\"MerchantApp\"]/div/div/div[3]/div[2]/div[2]/div/div/div[1]/nav/div[1]/div[1]/div/button', locator_type=By.XPATH)\n",
    "            \n",
    "            if exit_btn_clicked:\n",
    "                logging.info(f'Exiting sidesheetbody for Order #: {idx}')\n",
    "            \n",
    "    return results\n"
   ],
   "metadata": {
    "collapsed": false,
    "ExecuteTime": {
     "end_time": "2023-09-25T22:41:30.302876Z",
     "start_time": "2023-09-25T22:41:30.283131Z"
    }
   },
   "id": "d0f286fe0f636d66"
  },
  {
   "cell_type": "code",
   "execution_count": 67,
   "outputs": [],
   "source": [
    "orders_content = scrape_wrapper()"
   ],
   "metadata": {
    "collapsed": false,
    "ExecuteTime": {
     "end_time": "2023-09-25T22:41:54.476080Z",
     "start_time": "2023-09-25T22:41:31.731629Z"
    }
   },
   "id": "9ba45328d137fe21"
  },
  {
   "cell_type": "code",
   "execution_count": 68,
   "outputs": [
    {
     "data": {
      "text/plain": "['Order: DF8E5AB6\\nDelivered\\nThe order was delivered at 10:56 PM on September 24, 2023. \\nRate Dasher\\nGet help\\nDelivery Details\\nCustomer\\nNikolas W\\nDasher\\nTommy\\nPicked Up\\n10:35 PM\\n(Quoted: 10:12 PM)\\nSeptember 24, 2023\\nDropped Off\\n10:56 PM\\n(Quoted: 10:35 PM)\\nSeptember 24, 2023\\nPick Up Location\\n800 W Interstate 20, Big Spring, TX 79720, USA\\nChannel\\nDoorDash\\nFulfillment\\nDoorDash Delivery\\nOrder Details\\n1\\n×\\nTXB Water Bottle (16.9 oz) (Water TX)\\n$1.99\\n5\\n×\\nFountain Drink (Fountain, Frozen, & Tea)\\nDrink Selection:\\nDr Pepper\\n$0.00\\nSubtotal\\n$1.99\\nSubtotal Tax\\n$0.00\\nCommission (16%)\\n-$0.32\\nTotal Customer Refund\\n-$0.00\\nEstimated Payout\\n$1.67\\nAssociated Transactions (1)\\nTransaction #8058359503 - Delivery\\n$1.67',\n 'Order: 1D4B1698\\nDelivered\\nThe order was delivered at 7:18 PM on September 24, 2023. \\nRate Dasher\\nGet help\\nDelivery Details\\nCustomer\\nLisa C\\nDasher\\nEric\\nPicked Up\\n7:11 PM\\n(Quoted: 6:57 PM)\\nSeptember 24, 2023\\nDropped Off\\n7:18 PM\\n(Quoted: 7:11 PM)\\nSeptember 24, 2023\\nPick Up Location\\n1741 TX-121, Bonham, TX 75418, USA\\nChannel\\nDoorDash\\nFulfillment\\nDoorDash Delivery\\nOrder Details\\n1\\n×\\nMichelob Ultra Light Beer Can (12 oz x 18 ct) (Domestic Beer NT)\\n$34.99\\nSubtotal\\n$34.99\\nSubtotal Tax\\n$5.77\\nCommission (20%)\\n-$7.00\\nTotal Customer Refund\\n-$0.00\\nEstimated Payout\\n$33.76\\nAssociated Transactions (1)\\nTransaction #8056647546 - Delivery\\n$33.76',\n 'Order: 1D4B1698',\n 'Order: 6157E62F\\nCustomer Picked Up\\nThe customer picked up the order at 2:47 PM on September 24, 2023. \\nGet help\\nDelivery Details\\nCustomer\\nXavier H\\nPicked Up\\n2:47 PM\\n(Quoted: 1:24 PM)\\nSeptember 24, 2023\\nPick Up Location\\n7045 W Del Mar Blvd, Laredo, TX 78041, USA\\nChannel\\nDoorDash\\nFulfillment\\nConsumer Pickup\\nOrder Details\\n1\\n×\\nSmirnoff Ice Original Malt Beverage Bottle (11.2 oz x 6 ct) (Flavored Malt Beverages Laredo)\\n$10.99\\nSubtotal\\n$10.99\\nSubtotal Tax\\n$1.81\\nCommission (9%)\\n-$0.99\\nTotal Customer Refund\\n-$0.00\\nEstimated Payout\\n$11.81\\nAssociated Transactions (1)\\nTransaction #8054103039 - Pickup\\n$11.81',\n 'Order: 09E8F2E3\\nCustomer Picked Up\\nThe customer picked up the order at 2:44 PM on September 24, 2023. \\nGet help\\nDelivery Details\\nCustomer\\nXavier H\\nPicked Up\\n2:44 PM\\n(Quoted: 1:22 PM)\\nSeptember 24, 2023\\nPick Up Location\\n7045 W Del Mar Blvd, Laredo, TX 78041, USA\\nChannel\\nDoorDash\\nFulfillment\\nConsumer Pickup\\nOrder Details\\n1\\n×\\nTwisted Tea Hard Ice Cocktail Original Can (12 oz x 12 ct) (Flavored Malt Beverages Laredo)\\n$17.99\\nSubtotal\\n$17.99\\nSubtotal Tax\\n$2.97\\nCommission (9%)\\n-$1.62\\nTotal Customer Refund\\n-$0.00\\nEstimated Payout\\n$19.34\\nAssociated Transactions (1)\\nTransaction #8054081314 - Pickup\\n$19.34',\n 'Order: 3EB6B081\\nDelivered\\nThe order was delivered at 1:59 PM on September 24, 2023. \\nRate Dasher\\nGet help\\nDelivery Details\\nCustomer\\nChris W\\nDasher\\nAmeillia\\nPicked Up\\n1:46 PM\\n(Quoted: 1:52 PM)\\nSeptember 24, 2023\\nDropped Off\\n1:59 PM\\n(Quoted: 2:18 PM)\\nSeptember 24, 2023\\nPick Up Location\\n102 W Main St, Calera, OK 74730, USA\\nChannel\\nDoorDash\\nFulfillment\\nDoorDash Delivery\\nOrder Details\\n1\\n×\\nCrush Orange Bottle (20oz) (Soda OK)\\n$3.79\\n1\\n×\\nCrush Grape Bottle (20oz) (Soda OK)\\n$3.79\\nSubtotal\\n$7.58\\nSubtotal Tax\\n$0.68\\nCommission (16%)\\n-$1.21\\nTotal Customer Refund\\n-$0.00\\nEstimated Payout\\n$6.37\\nAssociated Transactions (1)\\nTransaction #8053604238 - Delivery\\n$6.37',\n 'Order: 85B65740\\nDelivered\\nThe order was delivered at 1:51 PM on September 24, 2023. \\nRate Dasher\\nGet help\\nDelivery Details\\nCustomer\\nLisa J\\nDasher\\nJuana\\nPicked Up\\n1:40 PM\\n(Quoted: 1:47 PM)\\nSeptember 24, 2023\\nDropped Off\\n1:51 PM\\n(Quoted: 2:03 PM)\\nSeptember 24, 2023\\nPick Up Location\\n3071 University Dr E, Bryan, TX 77802, USA\\nChannel\\nDoorDash\\nFulfillment\\nDoorDash Delivery\\nOrder Details\\n2\\n×\\nPeanut Butter Chunk Cookie (Pastries & Desserts)\\n$4.98\\n1\\n×\\nChicken Tender Plate (3 pcs) (Chicken TXB#73)\\nDipping Sauce:\\nHoney Mustard Dipping Sauce\\nChoice of Sides:\\nMac & Cheese\\nChoice of Sides:\\nMashed Potatoes & Gravy\\nOriginal or Spicy:\\nOriginal\\n$12.49\\n1\\n×\\nChicken Fajita Taco (Lunch & Dinner Tacos TXB#73)\\n$5.59\\nSubtotal\\n$23.06\\nSubtotal Tax\\n$3.80\\nCommission (16%)\\n-$3.69\\nTotal Customer Refund\\n-$0.00\\nEstimated Payout\\n$23.17\\nAssociated Transactions (1)\\nTransaction #8053555079 - Delivery\\n$23.17',\n 'Order: FDE1B3F3\\nDelivered\\nThe order was delivered at 1:44 PM on September 24, 2023. \\nRate Dasher\\nDelivery Details\\nCustomer\\nHeather V\\nPicked Up\\n1:32 PM\\n(Quoted: 1:33 PM)\\nSeptember 24, 2023\\nPick Up Location\\n800 W Interstate 20, Big Spring, TX 79720, USA\\nChannel\\nDoorDash\\nOrder Details\\n1\\n×\\nMichelob Ultra Light Beer Bottle (12 oz x 12 ct) (Domestic Beer ST)\\nSubtotal\\nSubtotal Tax\\nCommission (23%)\\nTotal Customer Refund\\n-$0.00\\nEstimated Payout\\n$23.36\\nAssociated Transactions (1)\\nTransaction #8053483610 - Delivery\\n$23.36',\n 'Order: D39E0304\\nDelivered\\nThe order was delivered at 1:35 PM on September 24, 2023. \\nRate Dasher\\nGet help\\nDelivery Details\\nCustomer\\nkevin c\\nDasher\\nRay\\nPicked Up\\n1:22 PM\\n(Quoted: 1:28 PM)\\nSeptember 24, 2023\\nDropped Off\\n1:35 PM\\n(Quoted: 1:49 PM)\\nSeptember 24, 2023\\nPick Up Location\\n3702 FM2147, Horseshoe Bay, TX 78657, USA\\nChannel\\nDoorDash\\nFulfillment\\nDoorDash Delivery\\nOrder Details\\n1\\n×\\nTopo Chico Mineral Water Lime Glass Bottle (4 pk) (11.5 oz) (Water TX)\\n$9.99\\nSubtotal\\n$9.99\\nSubtotal Tax\\n$1.65\\nCommission (20%)\\n-$2.00\\nTotal Customer Refund\\n-$0.00\\nEstimated Payout\\n$9.64\\nAssociated Transactions (1)\\nTransaction #8053405287 - Delivery\\n$9.64',\n 'Order: 4692AAAD\\nDelivered\\nThe order was delivered at 10:21 AM on September 24, 2023. \\nRate Dasher\\nGet help\\nDelivery Details\\nCustomer\\nKristi M\\nDasher\\nFarshad\\nPicked Up\\n10:06 AM\\n(Quoted: 8:54 AM)\\nSeptember 24, 2023\\nDropped Off\\n10:21 AM\\n(Quoted: 9:29 AM)\\nSeptember 24, 2023\\nPick Up Location\\n3702 FM2147, Horseshoe Bay, TX 78657, USA\\nChannel\\nDoorDash\\nFulfillment\\nDoorDash Delivery\\nOrder Details\\n1\\n×\\nTXB Unsweet Tea Bottle (16oz) (Tea TX)\\n$3.29\\n1\\n×\\nSausage Egg Cheese Taco (Breakfast Tacos & Quesadillas)\\nSalsa:\\nSalsa Verde\\n$3.79\\n2\\n×\\nPotato Egg Cheese Taco (Breakfast Tacos & Quesadillas)\\nSalsa:\\nSalsa Verde\\n$9.38\\nSubtotal\\n$16.46\\nSubtotal Tax\\n$2.17\\nCommission (25%)\\n-$4.12\\nTotal Customer Refund\\n-$0.00\\nEstimated Payout\\n$14.51\\nAssociated Transactions (1)\\nTransaction #8052105212 - Delivery\\n$14.51',\n 'Order: 01139062\\nDelivered\\nThe order was delivered at 9:25 AM on September 24, 2023. \\nRate Dasher\\nGet help\\nDelivery Details\\nCustomer\\nBrianna S\\nDasher\\nEduardo\\nPicked Up\\n9:17 AM\\n(Quoted: 9:13 AM)\\nSeptember 24, 2023\\nDropped Off\\n9:25 AM\\n(Quoted: 9:38 AM)\\nSeptember 24, 2023\\nPick Up Location\\n2757 N Veterans Blvd, Eagle Pass, TX 78852, USA\\nChannel\\nDoorDash\\nFulfillment\\nDoorDash Delivery\\nOrder Details\\n1\\n×\\nChips Ahoy Cookies (1.55oz) (Cookies TX)\\n$2.49\\n1\\n×\\nRed Bull Energy Drink Can (12 oz) (Energy Drinks TX)\\n$5.79\\n1\\n×\\nRed Bull Sugar Free Energy Drink Can (12 oz) (Energy Drinks TX)\\n$5.79\\nSubtotal\\n$14.07\\nSubtotal Tax\\n$2.32\\nCommission (16%)\\n-$2.25\\nTotal Customer Refund\\n-$0.00\\nEstimated Payout\\n$14.14\\nAssociated Transactions (1)\\nTransaction #8051914631 - Delivery\\n$14.14',\n 'Order: 0BA15BE2\\nDelivered\\nThe order was delivered at 2:16 AM on September 24, 2023. \\nRate Dasher\\nGet help\\nDelivery Details\\nCustomer\\nLizz W\\nDasher\\nChloe\\nPicked Up\\n2:00 AM\\n(Quoted: 1:47 AM)\\nSeptember 24, 2023\\nDropped Off\\n2:16 AM\\n(Quoted: 2:13 AM)\\nSeptember 24, 2023\\nPick Up Location\\n2503 TX-349, Midland, TX 79706, USA\\nChannel\\nDoorDash\\nFulfillment\\nDoorDash Delivery\\nOrder Details\\n1\\n×\\nIce Large (Fountain, Frozen, & Tea)\\n$7.49\\nSubtotal\\n$7.49\\nSubtotal Tax\\n$1.20\\nCommission (16%)\\n-$1.20\\nTotal Customer Refund\\n-$0.00\\nEstimated Payout\\n$7.49\\nAssociated Transactions (1)\\nTransaction #8051131331 - Delivery\\n$7.49',\n 'Order: 88E79CDD\\nDelivered\\nThe order was delivered at 1:37 AM on September 24, 2023. \\nRate Dasher\\nGet help\\nDelivery Details\\nCustomer\\nHunter G\\nDasher\\nAbraham\\nPicked Up\\n1:27 AM\\n(Quoted: 1:25 AM)\\nSeptember 24, 2023\\nDropped Off\\n1:37 AM\\nSeptember 24, 2023\\nPick Up Location\\n1402 Williams Dr, Georgetown, TX 78628, USA\\nChannel\\nDoorDash\\nFulfillment\\nDoorDash Delivery\\nOrder Details\\n1\\n×\\nSprite Bottle (20 oz) (Soda TX)\\n1\\n×\\nLifesaver Bag Gummy Collisions (4.2oz) (Fruity TX)\\n1\\n×\\nHostess Powdered Donettes Bag (10.5oz) (Donuts TX)\\n1\\n×\\nTostitos Salsa Con Queso Dip (15 oz) (Dips & Salsa TX)\\n1\\n×\\nCheez-It Original (3 oz) (Crackers & Pretzels TX)\\n$3.39\\n1\\n×\\nFlipz Pretzel White Chocolate Fudge (5oz) (Crackers & Pretzels TX)\\n$7.19\\n1\\n×\\nCombos Pretzel Pizzeria (6.3oz) (Chips & Popcorn TX)\\n$4.79\\n1\\n×\\nTostitos Original Restaurant Style Tortilla Chips (13 oz) (Chips & Popcorn TX)\\n$5.39\\n1\\n×\\nBarcel Takis Fuego Hot Chili Pepper & Lime Corn Snacks (4 oz) (Chips & Popcorn TX)\\n$4.19\\nSubtotal\\n$47.11\\nSubtotal Tax\\n$4.20\\nCommission (23%)\\n-$10.84\\nTotal Customer Refund\\n-$0.00\\nEstimated Payout\\n$40.47\\nAssociated Transactions (1)\\nTransaction #8051049934 - Delivery\\n$40.47',\n 'Order: 4EC0995B\\nCancelled - Not Paid\\nThe order was cancelled on September 24, 2023 at 12:59 AM. You were not paid because you did not confirm the order before the order was cancelled. Learn More\\nGet help\\nDelivery Details\\nCustomer\\nMartin M\\nDasher\\nTo be assigned\\nEstimated Pick Up\\n1:32 AM\\nSeptember 24, 2023\\nEstimated Drop Off\\n1:50 AM\\nSeptember 24, 2023\\nPick Up Location\\n801 Lafayette St, Laredo, TX 78041, USA\\nChannel\\nDoorDash\\nFulfillment\\nDoorDash Delivery\\nOrder Details\\n2\\n×\\nBud Light Beer Bottle (12oz x 12ct) (Domestic Beer Laredo)\\n$42.58\\nSubtotal\\n$42.58\\nSubtotal Tax\\n$7.03\\nCommission (23%)\\n-$9.79\\nTotal Customer Refund\\n-$0.00\\nEstimated Payout\\n$0.00']"
     },
     "execution_count": 68,
     "metadata": {},
     "output_type": "execute_result"
    }
   ],
   "source": [
    "orders_content"
   ],
   "metadata": {
    "collapsed": false,
    "ExecuteTime": {
     "end_time": "2023-09-25T22:41:58.107280Z",
     "start_time": "2023-09-25T22:41:58.099582Z"
    }
   },
   "id": "6bfac784138b40b5"
  },
  {
   "cell_type": "code",
   "execution_count": 69,
   "outputs": [
    {
     "data": {
      "text/plain": "'Order: DF8E5AB6\\nDelivered\\nThe order was delivered at 10:56 PM on September 24, 2023. \\nRate Dasher\\nGet help\\nDelivery Details\\nCustomer\\nNikolas W\\nDasher\\nTommy\\nPicked Up\\n10:35 PM\\n(Quoted: 10:12 PM)\\nSeptember 24, 2023\\nDropped Off\\n10:56 PM\\n(Quoted: 10:35 PM)\\nSeptember 24, 2023\\nPick Up Location\\n800 W Interstate 20, Big Spring, TX 79720, USA\\nChannel\\nDoorDash\\nFulfillment\\nDoorDash Delivery\\nOrder Details\\n1\\n×\\nTXB Water Bottle (16.9 oz) (Water TX)\\n$1.99\\n5\\n×\\nFountain Drink (Fountain, Frozen, & Tea)\\nDrink Selection:\\nDr Pepper\\n$0.00\\nSubtotal\\n$1.99\\nSubtotal Tax\\n$0.00\\nCommission (16%)\\n-$0.32\\nTotal Customer Refund\\n-$0.00\\nEstimated Payout\\n$1.67\\nAssociated Transactions (1)\\nTransaction #8058359503 - Delivery\\n$1.67'"
     },
     "execution_count": 69,
     "metadata": {},
     "output_type": "execute_result"
    }
   ],
   "source": [
    "orders_content[0]"
   ],
   "metadata": {
    "collapsed": false,
    "ExecuteTime": {
     "end_time": "2023-09-25T22:42:11.533413Z",
     "start_time": "2023-09-25T22:42:11.527184Z"
    }
   },
   "id": "46c6dd7e43ce0407"
  },
  {
   "cell_type": "code",
   "execution_count": 76,
   "outputs": [
    {
     "data": {
      "text/plain": "' DF8E5AB6'"
     },
     "execution_count": 76,
     "metadata": {},
     "output_type": "execute_result"
    }
   ],
   "source": [
    "def get_order_ids():\n",
    "    \n",
    "    for idx, order_text in enumerate(orders_content):\n",
    "        \n",
    "        # Extract the order_id\n",
    "        order_id_start = orders_content[idx].find(\"Order:\") + len(\"Order:\")\n",
    "        order_id_end = orders_content[idx].find(\"\\n\", order_id_start)\n",
    "        order_id = orders_content[idx][order_id_start:order_id_end]\n",
    "        \n",
    "        return order_id\n",
    "\n",
    "order_ids = get_order_ids()"
   ],
   "metadata": {
    "collapsed": false,
    "ExecuteTime": {
     "end_time": "2023-09-25T22:51:32.255670Z",
     "start_time": "2023-09-25T22:51:32.245106Z"
    }
   },
   "id": "d5b9e7c703f040e9"
  },
  {
   "cell_type": "code",
   "execution_count": null,
   "outputs": [],
   "source": [
    "def create_per_order_sheet(orders):\n",
    "    writer = pd.ExcelWriter('output.xlsx', engine='xlsxwriter')\n",
    "    \n",
    "    for i, orders_text in enumerate(orders):\n",
    "        df = pd.DataFrame([orders_text.split('')])"
   ],
   "metadata": {
    "collapsed": false
   },
   "id": "3eae6896f599c65c"
  },
  {
   "cell_type": "code",
   "execution_count": 78,
   "outputs": [
    {
     "ename": "ValueError",
     "evalue": "1 columns passed, passed data had 48 columns",
     "output_type": "error",
     "traceback": [
      "\u001B[0;31m---------------------------------------------------------------------------\u001B[0m",
      "\u001B[0;31mAssertionError\u001B[0m                            Traceback (most recent call last)",
      "File \u001B[0;32m~/opt/anaconda3/envs/bots/lib/python3.10/site-packages/pandas/core/internals/construction.py:934\u001B[0m, in \u001B[0;36m_finalize_columns_and_data\u001B[0;34m(content, columns, dtype)\u001B[0m\n\u001B[1;32m    933\u001B[0m \u001B[38;5;28;01mtry\u001B[39;00m:\n\u001B[0;32m--> 934\u001B[0m     columns \u001B[38;5;241m=\u001B[39m \u001B[43m_validate_or_indexify_columns\u001B[49m\u001B[43m(\u001B[49m\u001B[43mcontents\u001B[49m\u001B[43m,\u001B[49m\u001B[43m \u001B[49m\u001B[43mcolumns\u001B[49m\u001B[43m)\u001B[49m\n\u001B[1;32m    935\u001B[0m \u001B[38;5;28;01mexcept\u001B[39;00m \u001B[38;5;167;01mAssertionError\u001B[39;00m \u001B[38;5;28;01mas\u001B[39;00m err:\n\u001B[1;32m    936\u001B[0m     \u001B[38;5;66;03m# GH#26429 do not raise user-facing AssertionError\u001B[39;00m\n",
      "File \u001B[0;32m~/opt/anaconda3/envs/bots/lib/python3.10/site-packages/pandas/core/internals/construction.py:981\u001B[0m, in \u001B[0;36m_validate_or_indexify_columns\u001B[0;34m(content, columns)\u001B[0m\n\u001B[1;32m    979\u001B[0m \u001B[38;5;28;01mif\u001B[39;00m \u001B[38;5;129;01mnot\u001B[39;00m is_mi_list \u001B[38;5;129;01mand\u001B[39;00m \u001B[38;5;28mlen\u001B[39m(columns) \u001B[38;5;241m!=\u001B[39m \u001B[38;5;28mlen\u001B[39m(content):  \u001B[38;5;66;03m# pragma: no cover\u001B[39;00m\n\u001B[1;32m    980\u001B[0m     \u001B[38;5;66;03m# caller's responsibility to check for this...\u001B[39;00m\n\u001B[0;32m--> 981\u001B[0m     \u001B[38;5;28;01mraise\u001B[39;00m \u001B[38;5;167;01mAssertionError\u001B[39;00m(\n\u001B[1;32m    982\u001B[0m         \u001B[38;5;124mf\u001B[39m\u001B[38;5;124m\"\u001B[39m\u001B[38;5;132;01m{\u001B[39;00m\u001B[38;5;28mlen\u001B[39m(columns)\u001B[38;5;132;01m}\u001B[39;00m\u001B[38;5;124m columns passed, passed data had \u001B[39m\u001B[38;5;124m\"\u001B[39m\n\u001B[1;32m    983\u001B[0m         \u001B[38;5;124mf\u001B[39m\u001B[38;5;124m\"\u001B[39m\u001B[38;5;132;01m{\u001B[39;00m\u001B[38;5;28mlen\u001B[39m(content)\u001B[38;5;132;01m}\u001B[39;00m\u001B[38;5;124m columns\u001B[39m\u001B[38;5;124m\"\u001B[39m\n\u001B[1;32m    984\u001B[0m     )\n\u001B[1;32m    985\u001B[0m \u001B[38;5;28;01mif\u001B[39;00m is_mi_list:\n\u001B[1;32m    986\u001B[0m     \u001B[38;5;66;03m# check if nested list column, length of each sub-list should be equal\u001B[39;00m\n",
      "\u001B[0;31mAssertionError\u001B[0m: 1 columns passed, passed data had 48 columns",
      "\nThe above exception was the direct cause of the following exception:\n",
      "\u001B[0;31mValueError\u001B[0m                                Traceback (most recent call last)",
      "Cell \u001B[0;32mIn[78], line 17\u001B[0m\n\u001B[1;32m      9\u001B[0m         \u001B[38;5;28mprint\u001B[39m(df)\n\u001B[1;32m     10\u001B[0m         \u001B[38;5;66;03m# Write the DataFrame to the Excel sheet\u001B[39;00m\n\u001B[1;32m     11\u001B[0m         \u001B[38;5;66;03m# df.to_excel(writer, sheet_name=f\"Order_{i + 1}\", index=False)\u001B[39;00m\n\u001B[1;32m     12\u001B[0m     \n\u001B[1;32m     13\u001B[0m     \u001B[38;5;66;03m# Close the Pandas Excel writer and save the file\u001B[39;00m\n\u001B[1;32m     14\u001B[0m     \u001B[38;5;66;03m# writer.save()\u001B[39;00m\n\u001B[0;32m---> 17\u001B[0m \u001B[43morders_spreadsheet_creator\u001B[49m\u001B[43m(\u001B[49m\u001B[43morders_content\u001B[49m\u001B[43m)\u001B[49m\n",
      "Cell \u001B[0;32mIn[78], line 8\u001B[0m, in \u001B[0;36morders_spreadsheet_creator\u001B[0;34m(lst_of_orders)\u001B[0m\n\u001B[1;32m      5\u001B[0m \u001B[38;5;66;03m# Loop through order_contents and create a sheet for each order\u001B[39;00m\n\u001B[1;32m      6\u001B[0m \u001B[38;5;28;01mfor\u001B[39;00m i, lst_of_orders \u001B[38;5;129;01min\u001B[39;00m \u001B[38;5;28menumerate\u001B[39m(lst_of_orders):\n\u001B[1;32m      7\u001B[0m     \u001B[38;5;66;03m# Convert the order content to a DataFrame\u001B[39;00m\n\u001B[0;32m----> 8\u001B[0m     df \u001B[38;5;241m=\u001B[39m \u001B[43mpd\u001B[49m\u001B[38;5;241;43m.\u001B[39;49m\u001B[43mDataFrame\u001B[49m\u001B[43m(\u001B[49m\u001B[43m[\u001B[49m\u001B[43mlst_of_orders\u001B[49m\u001B[38;5;241;43m.\u001B[39;49m\u001B[43msplit\u001B[49m\u001B[43m(\u001B[49m\u001B[38;5;124;43m'\u001B[39;49m\u001B[38;5;130;43;01m\\n\u001B[39;49;00m\u001B[38;5;124;43m'\u001B[39;49m\u001B[43m)\u001B[49m\u001B[43m]\u001B[49m\u001B[43m,\u001B[49m\u001B[43m \u001B[49m\u001B[43mcolumns\u001B[49m\u001B[38;5;241;43m=\u001B[39;49m\u001B[43m[\u001B[49m\u001B[38;5;124;43m\"\u001B[39;49m\u001B[38;5;124;43mOrder Content\u001B[39;49m\u001B[38;5;124;43m\"\u001B[39;49m\u001B[43m]\u001B[49m\u001B[43m)\u001B[49m\n\u001B[1;32m      9\u001B[0m     \u001B[38;5;28mprint\u001B[39m(df)\n",
      "File \u001B[0;32m~/opt/anaconda3/envs/bots/lib/python3.10/site-packages/pandas/core/frame.py:782\u001B[0m, in \u001B[0;36mDataFrame.__init__\u001B[0;34m(self, data, index, columns, dtype, copy)\u001B[0m\n\u001B[1;32m    780\u001B[0m     \u001B[38;5;28;01mif\u001B[39;00m columns \u001B[38;5;129;01mis\u001B[39;00m \u001B[38;5;129;01mnot\u001B[39;00m \u001B[38;5;28;01mNone\u001B[39;00m:\n\u001B[1;32m    781\u001B[0m         columns \u001B[38;5;241m=\u001B[39m ensure_index(columns)\n\u001B[0;32m--> 782\u001B[0m     arrays, columns, index \u001B[38;5;241m=\u001B[39m \u001B[43mnested_data_to_arrays\u001B[49m\u001B[43m(\u001B[49m\n\u001B[1;32m    783\u001B[0m \u001B[43m        \u001B[49m\u001B[38;5;66;43;03m# error: Argument 3 to \"nested_data_to_arrays\" has incompatible\u001B[39;49;00m\n\u001B[1;32m    784\u001B[0m \u001B[43m        \u001B[49m\u001B[38;5;66;43;03m# type \"Optional[Collection[Any]]\"; expected \"Optional[Index]\"\u001B[39;49;00m\n\u001B[1;32m    785\u001B[0m \u001B[43m        \u001B[49m\u001B[43mdata\u001B[49m\u001B[43m,\u001B[49m\n\u001B[1;32m    786\u001B[0m \u001B[43m        \u001B[49m\u001B[43mcolumns\u001B[49m\u001B[43m,\u001B[49m\n\u001B[1;32m    787\u001B[0m \u001B[43m        \u001B[49m\u001B[43mindex\u001B[49m\u001B[43m,\u001B[49m\u001B[43m  \u001B[49m\u001B[38;5;66;43;03m# type: ignore[arg-type]\u001B[39;49;00m\n\u001B[1;32m    788\u001B[0m \u001B[43m        \u001B[49m\u001B[43mdtype\u001B[49m\u001B[43m,\u001B[49m\n\u001B[1;32m    789\u001B[0m \u001B[43m    \u001B[49m\u001B[43m)\u001B[49m\n\u001B[1;32m    790\u001B[0m     mgr \u001B[38;5;241m=\u001B[39m arrays_to_mgr(\n\u001B[1;32m    791\u001B[0m         arrays,\n\u001B[1;32m    792\u001B[0m         columns,\n\u001B[0;32m   (...)\u001B[0m\n\u001B[1;32m    795\u001B[0m         typ\u001B[38;5;241m=\u001B[39mmanager,\n\u001B[1;32m    796\u001B[0m     )\n\u001B[1;32m    797\u001B[0m \u001B[38;5;28;01melse\u001B[39;00m:\n",
      "File \u001B[0;32m~/opt/anaconda3/envs/bots/lib/python3.10/site-packages/pandas/core/internals/construction.py:498\u001B[0m, in \u001B[0;36mnested_data_to_arrays\u001B[0;34m(data, columns, index, dtype)\u001B[0m\n\u001B[1;32m    495\u001B[0m \u001B[38;5;28;01mif\u001B[39;00m is_named_tuple(data[\u001B[38;5;241m0\u001B[39m]) \u001B[38;5;129;01mand\u001B[39;00m columns \u001B[38;5;129;01mis\u001B[39;00m \u001B[38;5;28;01mNone\u001B[39;00m:\n\u001B[1;32m    496\u001B[0m     columns \u001B[38;5;241m=\u001B[39m ensure_index(data[\u001B[38;5;241m0\u001B[39m]\u001B[38;5;241m.\u001B[39m_fields)\n\u001B[0;32m--> 498\u001B[0m arrays, columns \u001B[38;5;241m=\u001B[39m \u001B[43mto_arrays\u001B[49m\u001B[43m(\u001B[49m\u001B[43mdata\u001B[49m\u001B[43m,\u001B[49m\u001B[43m \u001B[49m\u001B[43mcolumns\u001B[49m\u001B[43m,\u001B[49m\u001B[43m \u001B[49m\u001B[43mdtype\u001B[49m\u001B[38;5;241;43m=\u001B[39;49m\u001B[43mdtype\u001B[49m\u001B[43m)\u001B[49m\n\u001B[1;32m    499\u001B[0m columns \u001B[38;5;241m=\u001B[39m ensure_index(columns)\n\u001B[1;32m    501\u001B[0m \u001B[38;5;28;01mif\u001B[39;00m index \u001B[38;5;129;01mis\u001B[39;00m \u001B[38;5;28;01mNone\u001B[39;00m:\n",
      "File \u001B[0;32m~/opt/anaconda3/envs/bots/lib/python3.10/site-packages/pandas/core/internals/construction.py:840\u001B[0m, in \u001B[0;36mto_arrays\u001B[0;34m(data, columns, dtype)\u001B[0m\n\u001B[1;32m    837\u001B[0m     data \u001B[38;5;241m=\u001B[39m [\u001B[38;5;28mtuple\u001B[39m(x) \u001B[38;5;28;01mfor\u001B[39;00m x \u001B[38;5;129;01min\u001B[39;00m data]\n\u001B[1;32m    838\u001B[0m     arr \u001B[38;5;241m=\u001B[39m _list_to_arrays(data)\n\u001B[0;32m--> 840\u001B[0m content, columns \u001B[38;5;241m=\u001B[39m \u001B[43m_finalize_columns_and_data\u001B[49m\u001B[43m(\u001B[49m\u001B[43marr\u001B[49m\u001B[43m,\u001B[49m\u001B[43m \u001B[49m\u001B[43mcolumns\u001B[49m\u001B[43m,\u001B[49m\u001B[43m \u001B[49m\u001B[43mdtype\u001B[49m\u001B[43m)\u001B[49m\n\u001B[1;32m    841\u001B[0m \u001B[38;5;28;01mreturn\u001B[39;00m content, columns\n",
      "File \u001B[0;32m~/opt/anaconda3/envs/bots/lib/python3.10/site-packages/pandas/core/internals/construction.py:937\u001B[0m, in \u001B[0;36m_finalize_columns_and_data\u001B[0;34m(content, columns, dtype)\u001B[0m\n\u001B[1;32m    934\u001B[0m     columns \u001B[38;5;241m=\u001B[39m _validate_or_indexify_columns(contents, columns)\n\u001B[1;32m    935\u001B[0m \u001B[38;5;28;01mexcept\u001B[39;00m \u001B[38;5;167;01mAssertionError\u001B[39;00m \u001B[38;5;28;01mas\u001B[39;00m err:\n\u001B[1;32m    936\u001B[0m     \u001B[38;5;66;03m# GH#26429 do not raise user-facing AssertionError\u001B[39;00m\n\u001B[0;32m--> 937\u001B[0m     \u001B[38;5;28;01mraise\u001B[39;00m \u001B[38;5;167;01mValueError\u001B[39;00m(err) \u001B[38;5;28;01mfrom\u001B[39;00m \u001B[38;5;21;01merr\u001B[39;00m\n\u001B[1;32m    939\u001B[0m \u001B[38;5;28;01mif\u001B[39;00m \u001B[38;5;28mlen\u001B[39m(contents) \u001B[38;5;129;01mand\u001B[39;00m contents[\u001B[38;5;241m0\u001B[39m]\u001B[38;5;241m.\u001B[39mdtype \u001B[38;5;241m==\u001B[39m np\u001B[38;5;241m.\u001B[39mobject_:\n\u001B[1;32m    940\u001B[0m     contents \u001B[38;5;241m=\u001B[39m convert_object_array(contents, dtype\u001B[38;5;241m=\u001B[39mdtype)\n",
      "\u001B[0;31mValueError\u001B[0m: 1 columns passed, passed data had 48 columns"
     ]
    }
   ],
   "source": [
    "def orders_spreadsheet_creator(lst_of_orders):\n",
    "    # Create a Pandas Excel writer using XlsxWriter as the engine.\n",
    "    writer = pd.ExcelWriter('output.xlsx', engine='xlsxwriter')\n",
    "    \n",
    "    # Loop through order_contents and create a sheet for each order\n",
    "    for i, lst_of_orders in enumerate(lst_of_orders):\n",
    "        # Convert the order content to a DataFrame\n",
    "        df = pd.DataFrame([lst_of_orders.split('\\n')], columns=[\"Order Content\"])\n",
    "        print(df)\n",
    "        # Write the DataFrame to the Excel sheet\n",
    "        # df.to_excel(writer, sheet_name=f\"Order_{i + 1}\", index=False)\n",
    "    \n",
    "    # Close the Pandas Excel writer and save the file\n",
    "    # writer.save()\n",
    "\n",
    "\n",
    "orders_spreadsheet_creator(orders_content)"
   ],
   "metadata": {
    "collapsed": false,
    "ExecuteTime": {
     "end_time": "2023-09-25T22:57:26.918289Z",
     "start_time": "2023-09-25T22:57:26.447696Z"
    }
   },
   "id": "13de8f5c17975259"
  },
  {
   "cell_type": "code",
   "execution_count": null,
   "outputs": [],
   "source": [],
   "metadata": {
    "collapsed": false
   },
   "id": "2089308a2b701e1"
  }
 ],
 "metadata": {
  "kernelspec": {
   "display_name": "Python 3",
   "language": "python",
   "name": "python3"
  },
  "language_info": {
   "codemirror_mode": {
    "name": "ipython",
    "version": 2
   },
   "file_extension": ".py",
   "mimetype": "text/x-python",
   "name": "python",
   "nbconvert_exporter": "python",
   "pygments_lexer": "ipython2",
   "version": "2.7.6"
  }
 },
 "nbformat": 4,
 "nbformat_minor": 5
}
