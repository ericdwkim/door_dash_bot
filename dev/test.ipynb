{
 "cells": [
  {
   "cell_type": "code",
   "execution_count": 31,
   "id": "initial_id",
   "metadata": {
    "collapsed": true,
    "ExecuteTime": {
     "end_time": "2023-09-30T00:32:16.705941Z",
     "start_time": "2023-09-30T00:32:16.654867Z"
    }
   },
   "outputs": [],
   "source": [
    "from selenium import webdriver\n",
    "from selenium.webdriver.chrome.service import Service\n",
    "from selenium.webdriver.common.by import By\n",
    "from selenium.webdriver.support.ui import WebDriverWait\n",
    "from selenium.webdriver.support import expected_conditions as EC\n",
    "from selenium.common.exceptions import NoSuchElementException, TimeoutException\n",
    "import logging\n",
    "import pandas as pd\n",
    "import re\n",
    "import time\n",
    "import json"
   ]
  },
  {
   "cell_type": "code",
   "execution_count": 120,
   "outputs": [],
   "source": [
    "options = webdriver.ChromeOptions()\n",
    "options.add_experimental_option(\"debuggerAddress\", \"127.0.0.1:9222\")"
   ],
   "metadata": {
    "collapsed": false,
    "ExecuteTime": {
     "end_time": "2023-09-29T19:14:35.083453Z",
     "start_time": "2023-09-29T19:14:35.048544Z"
    }
   },
   "id": "25291fd8b2be6cae"
  },
  {
   "cell_type": "code",
   "execution_count": 121,
   "outputs": [
    {
     "data": {
      "text/plain": "<selenium.webdriver.chrome.webdriver.WebDriver (session=\"6b82a0979fac8c9dcc3350794067bb51\")>"
     },
     "execution_count": 121,
     "metadata": {},
     "output_type": "execute_result"
    }
   ],
   "source": [
    "driver = webdriver.Chrome(service=Service(executable_path=\"/opt/homebrew/bin/chromedriver\"), options=options)\n",
    "\n",
    "driver"
   ],
   "metadata": {
    "collapsed": false,
    "ExecuteTime": {
     "end_time": "2023-09-29T19:14:36.116504Z",
     "start_time": "2023-09-29T19:14:35.541553Z"
    }
   },
   "id": "7f90dad091063b2a"
  },
  {
   "cell_type": "code",
   "execution_count": 122,
   "outputs": [
    {
     "data": {
      "text/plain": "13"
     },
     "execution_count": 122,
     "metadata": {},
     "output_type": "execute_result"
    }
   ],
   "source": [
    "table_rows = driver.find_elements(By.TAG_NAME, 'tr')\n",
    "type(table_rows)\n",
    "len(table_rows)\n",
    "\n",
    "# table_rows\n",
    "\n",
    "\n",
    "# table_rows[0].text\n",
    "# table_rows[0]\n",
    "# header = '<selenium.webdriver.remote.webelement.WebElement (session=\"9ce3ac1101a0c1a1e89cdad93bec4408\", element=\"04DBA8B80C068AF17A38D8C62CF98ED1_element_93\")>'\n",
    "# \n",
    "# \n",
    "# table_rows_minus_header = table_rows[1:]\n",
    "# \n",
    "# if header in table_rows_minus_header:\n",
    "#     print('true')\n",
    "# else:\n",
    "#     print('false')\n"
   ],
   "metadata": {
    "collapsed": false,
    "ExecuteTime": {
     "end_time": "2023-09-29T19:14:36.165818Z",
     "start_time": "2023-09-29T19:14:36.102040Z"
    }
   },
   "id": "ad745f08a04dc3eb"
  },
  {
   "cell_type": "code",
   "execution_count": 123,
   "outputs": [
    {
     "data": {
      "text/plain": "12"
     },
     "execution_count": 123,
     "metadata": {},
     "output_type": "execute_result"
    }
   ],
   "source": [
    "def get_all_table_rows_except_header_row():\n",
    "    try:\n",
    "        table_rows = driver.find_elements(By.TAG_NAME, 'tr')\n",
    "\n",
    "        if not table_rows:\n",
    "            logging.error(f'Could not locate the table rows for all Orders on DOM. table_Rows: {table_rows}')\n",
    "            return None, False\n",
    "\n",
    "        else:\n",
    "            logging.info(f'Table rows elements found:\\n {table_rows}\\nTotal number of orders: {len(table_rows)}\\n')\n",
    "            # Exclude header row elem; inclusive from 1st idx\n",
    "\n",
    "            logging.info(f\"First element before slicing: {table_rows[0].text}\")\n",
    "            table_rows_ = table_rows[1:]\n",
    "            logging.info(f\"First element after slicing: {table_rows[0].text}\")\n",
    "\n",
    "\n",
    "            # logging.info(f'***************** table_rows: {len(table_rows)}')\n",
    "            return table_rows_, True # this returns table_rows with length of 16\n",
    "        \n",
    "    except Exception as e:\n",
    "        print(e)\n",
    "        \n",
    "table_rows, table_founds_found = get_all_table_rows_except_header_row()\n",
    "\n",
    "len(table_rows)"
   ],
   "metadata": {
    "collapsed": false,
    "ExecuteTime": {
     "end_time": "2023-09-29T19:14:36.980717Z",
     "start_time": "2023-09-29T19:14:36.919582Z"
    }
   },
   "id": "b742eddbeb5ebc00"
  },
  {
   "cell_type": "code",
   "execution_count": 124,
   "outputs": [
    {
     "data": {
      "text/plain": "[<selenium.webdriver.remote.webelement.WebElement (session=\"6b82a0979fac8c9dcc3350794067bb51\", element=\"9320BCAD1198FFA49C18106268ECBFC5_element_92\")>,\n <selenium.webdriver.remote.webelement.WebElement (session=\"6b82a0979fac8c9dcc3350794067bb51\", element=\"9320BCAD1198FFA49C18106268ECBFC5_element_93\")>,\n <selenium.webdriver.remote.webelement.WebElement (session=\"6b82a0979fac8c9dcc3350794067bb51\", element=\"9320BCAD1198FFA49C18106268ECBFC5_element_94\")>,\n <selenium.webdriver.remote.webelement.WebElement (session=\"6b82a0979fac8c9dcc3350794067bb51\", element=\"9320BCAD1198FFA49C18106268ECBFC5_element_95\")>,\n <selenium.webdriver.remote.webelement.WebElement (session=\"6b82a0979fac8c9dcc3350794067bb51\", element=\"9320BCAD1198FFA49C18106268ECBFC5_element_96\")>,\n <selenium.webdriver.remote.webelement.WebElement (session=\"6b82a0979fac8c9dcc3350794067bb51\", element=\"9320BCAD1198FFA49C18106268ECBFC5_element_97\")>,\n <selenium.webdriver.remote.webelement.WebElement (session=\"6b82a0979fac8c9dcc3350794067bb51\", element=\"9320BCAD1198FFA49C18106268ECBFC5_element_98\")>,\n <selenium.webdriver.remote.webelement.WebElement (session=\"6b82a0979fac8c9dcc3350794067bb51\", element=\"9320BCAD1198FFA49C18106268ECBFC5_element_99\")>,\n <selenium.webdriver.remote.webelement.WebElement (session=\"6b82a0979fac8c9dcc3350794067bb51\", element=\"9320BCAD1198FFA49C18106268ECBFC5_element_100\")>,\n <selenium.webdriver.remote.webelement.WebElement (session=\"6b82a0979fac8c9dcc3350794067bb51\", element=\"9320BCAD1198FFA49C18106268ECBFC5_element_101\")>,\n <selenium.webdriver.remote.webelement.WebElement (session=\"6b82a0979fac8c9dcc3350794067bb51\", element=\"9320BCAD1198FFA49C18106268ECBFC5_element_102\")>,\n <selenium.webdriver.remote.webelement.WebElement (session=\"6b82a0979fac8c9dcc3350794067bb51\", element=\"9320BCAD1198FFA49C18106268ECBFC5_element_103\")>]"
     },
     "execution_count": 124,
     "metadata": {},
     "output_type": "execute_result"
    }
   ],
   "source": [
    "table_rows"
   ],
   "metadata": {
    "collapsed": false,
    "ExecuteTime": {
     "end_time": "2023-09-29T19:14:37.480527Z",
     "start_time": "2023-09-29T19:14:37.475681Z"
    }
   },
   "id": "b3d8b6f75cfeb3e"
  },
  {
   "cell_type": "code",
   "execution_count": 125,
   "outputs": [],
   "source": [
    "# def get_all_table_rows_except_header_row():\n",
    "#     table_rows = driver.find_elements(By.TAG_NAME, 'tr')\n",
    "#     \n",
    "#     return table_rows[1:]\n",
    "# \n",
    "# table_rows = get_all_table_rows_except_header_row()\n",
    "# len(table_rows)"
   ],
   "metadata": {
    "collapsed": false,
    "ExecuteTime": {
     "end_time": "2023-09-29T19:14:38.529388Z",
     "start_time": "2023-09-29T19:14:38.508972Z"
    }
   },
   "id": "c48afb1dbcf8a070"
  },
  {
   "cell_type": "code",
   "execution_count": 126,
   "outputs": [],
   "source": [
    "def wait_for_element(locator, locator_type, timeout):\n",
    "    try:\n",
    "        WebDriverWait(driver, timeout).until(\n",
    "            EC.visibility_of_element_located((locator_type, locator)))\n",
    "        return True\n",
    "    except Exception as e:\n",
    "        logging.exception(f'An unexpected error occurred: {e}')\n",
    "        return False"
   ],
   "metadata": {
    "collapsed": false,
    "ExecuteTime": {
     "end_time": "2023-09-29T19:14:39.280216Z",
     "start_time": "2023-09-29T19:14:39.275730Z"
    }
   },
   "id": "78c44f650ac5afc7"
  },
  {
   "cell_type": "code",
   "execution_count": 127,
   "outputs": [],
   "source": [
    "def wait_for_and_find_element(locator, locator_type, timeout):\n",
    "    try:\n",
    "        wait = wait_for_element(locator, locator_type, timeout)\n",
    "        if not wait:\n",
    "            logging.error(f'Tried to wait to locate element via locator \"{locator}\", but timed out')\n",
    "            return False, None\n",
    "        element = driver.find_element(locator_type, locator)\n",
    "        if not element:\n",
    "            logging.error(f'Could not find element via locator \"{locator}\"')\n",
    "            return True, None\n",
    "        if wait and element:\n",
    "            logging.info(f'Found and located element via locator \"{locator}\"')\n",
    "            return True, element\n",
    "\n",
    "    except Exception as NoSuchElementException:\n",
    "        logging.exception(f'An unexpected error occurred: {NoSuchElementException}')\n"
   ],
   "metadata": {
    "collapsed": false,
    "ExecuteTime": {
     "end_time": "2023-09-29T19:14:42.170112Z",
     "start_time": "2023-09-29T19:14:42.144048Z"
    }
   },
   "id": "2877418d5a43e6d0"
  },
  {
   "cell_type": "code",
   "execution_count": 128,
   "outputs": [],
   "source": [
    "def find_element_and_click(locator ,locator_type=By.CSS_SELECTOR):\n",
    "    \"\"\"\n",
    "    Finds element and clicks it using `WebElement.click()`\n",
    "    :param locator:\n",
    "    :param locator_type:\n",
    "    :return: Tuple(bool, WebElement)\n",
    "    \"\"\"\n",
    "    try:\n",
    "        element = driver.find_element(locator_type, locator)\n",
    "        if not element:\n",
    "            logging.error(f'Could not locate element via locator \"{locator}\".')\n",
    "        element.click()\n",
    "        return True, element\n",
    "    except NoSuchElementException:\n",
    "        logging.exception(f'Element {locator} was not found.')\n",
    "        return False, None\n",
    "    except Exception as e:\n",
    "        logging.exception(f'Error occurred when trying to find and click element with locator: \"{locator}\" resulting in error message: {str(e)}')\n",
    "        return False, None\n"
   ],
   "metadata": {
    "collapsed": false,
    "ExecuteTime": {
     "end_time": "2023-09-29T19:14:42.646965Z",
     "start_time": "2023-09-29T19:14:42.643362Z"
    }
   },
   "id": "997514471fa6bfcd"
  },
  {
   "cell_type": "code",
   "execution_count": 129,
   "outputs": [],
   "source": [
    "def find_and_click_exit_button():\n",
    "    exit_btn_clicked, _ = find_element_and_click(\n",
    "        locator='//*[@id=\"MerchantApp\"]/div/div/div[3]/div[2]/div[2]/div/div/div[1]/nav/div[1]/div[1]/div/button',\n",
    "        locator_type=By.XPATH)\n",
    "    return exit_btn_clicked\n"
   ],
   "metadata": {
    "collapsed": false,
    "ExecuteTime": {
     "end_time": "2023-09-29T19:14:42.958578Z",
     "start_time": "2023-09-29T19:14:42.953496Z"
    }
   },
   "id": "ae9ab10db9f30885"
  },
  {
   "cell_type": "code",
   "execution_count": 129,
   "outputs": [],
   "source": [],
   "metadata": {
    "collapsed": false,
    "ExecuteTime": {
     "end_time": "2023-09-29T19:14:43.460962Z",
     "start_time": "2023-09-29T19:14:43.455664Z"
    }
   },
   "id": "b32b8ae5898358a1"
  },
  {
   "cell_type": "code",
   "execution_count": 130,
   "outputs": [],
   "source": [
    "def process_row(table_row, order_counter):\n",
    "    table_row.click()\n",
    "    time.sleep(5)  # wait for ssb to load on dom\n",
    "    \n",
    "    found, elem = wait_for_and_find_element(locator=\"//*[@class='styles__SidesheetContent-sc-czzuxh-2 hKVVOI']\", locator_type=By.XPATH, timeout=10)\n",
    "    \n",
    "    if not found or not elem:\n",
    "        logging.error(f'Could not extract order data in process_row for Order #: {order_counter}')\n",
    "        return None, order_counter\n",
    "    \n",
    "    current_order = elem.text\n",
    "    if not current_order:\n",
    "        logging.error(f'Could not get extract data from current order via element.text')\n",
    "        return None, order_counter\n",
    "\n",
    "    logging.info(f'Extracted order data for Order #: {order_counter}')\n",
    "\n",
    "    exit_btn_clicked = find_and_click_exit_button()\n",
    "\n",
    "    if exit_btn_clicked:\n",
    "        logging.info(f'Exiting sidesheet body for Order #: {order_counter}')\n",
    "        return current_order, order_counter + 1\n",
    "    else:\n",
    "        logging.error(f'Could not click the exit button for Order #: {order_counter}')\n",
    "        return None, order_counter\n"
   ],
   "metadata": {
    "collapsed": false,
    "ExecuteTime": {
     "end_time": "2023-09-29T19:14:43.889171Z",
     "start_time": "2023-09-29T19:14:43.881795Z"
    }
   },
   "id": "ff07a0c43242a6c4"
  },
  {
   "cell_type": "code",
   "execution_count": 130,
   "outputs": [],
   "source": [],
   "metadata": {
    "collapsed": false,
    "ExecuteTime": {
     "end_time": "2023-09-29T19:14:44.291330Z",
     "start_time": "2023-09-29T19:14:44.279769Z"
    }
   },
   "id": "738a302f6041844"
  },
  {
   "cell_type": "code",
   "execution_count": 131,
   "outputs": [],
   "source": [
    "# logging.info(f'table_rows\\n: {table_rows}\\n')\n",
    "# print(table_rows)\n",
    "# len(table_rows)"
   ],
   "metadata": {
    "collapsed": false,
    "ExecuteTime": {
     "end_time": "2023-09-29T19:14:44.770910Z",
     "start_time": "2023-09-29T19:14:44.741197Z"
    }
   },
   "id": "665f6ac5d7bac86c"
  },
  {
   "cell_type": "code",
   "execution_count": 132,
   "outputs": [],
   "source": [
    "# def iterate_table_rows(table_rows):\n",
    "#     orders = []\n",
    "#     idx = 0\n",
    "#     while idx < len(table_rows):\n",
    "#         table_row = table_rows[idx]\n",
    "# \n",
    "#         new_order = process_row(table_row)\n",
    "#         if new_order is not None:\n",
    "#             orders.append(new_order)\n",
    "#             idx += 1\n",
    "#         else:\n",
    "#             logging.error(f\"Failed to process Order #: {idx + 1}\")\n",
    "#     return orders\n"
   ],
   "metadata": {
    "collapsed": false,
    "ExecuteTime": {
     "end_time": "2023-09-29T19:14:45.043062Z",
     "start_time": "2023-09-29T19:14:45.038525Z"
    }
   },
   "id": "5a61f2d0c2543c6c"
  },
  {
   "cell_type": "code",
   "execution_count": 133,
   "outputs": [],
   "source": [
    "def iterate_table_rows(table_rows):\n",
    "    orders = []\n",
    "    order_counter = 1\n",
    "    for table_row in table_rows:\n",
    "        current_order, new_order_counter = process_row(table_row, order_counter)\n",
    "        if current_order:\n",
    "            orders.append(current_order)\n",
    "        order_counter = new_order_counter\n",
    "    return orders\n"
   ],
   "metadata": {
    "collapsed": false,
    "ExecuteTime": {
     "end_time": "2023-09-29T19:14:45.640247Z",
     "start_time": "2023-09-29T19:14:45.635285Z"
    }
   },
   "id": "a9acb84e6c633bf9"
  },
  {
   "cell_type": "code",
   "execution_count": 134,
   "outputs": [],
   "source": [
    "orders = iterate_table_rows(table_rows)"
   ],
   "metadata": {
    "collapsed": false,
    "ExecuteTime": {
     "end_time": "2023-09-29T19:15:55.658215Z",
     "start_time": "2023-09-29T19:14:46.820196Z"
    }
   },
   "id": "da7b0490c52f0056"
  },
  {
   "cell_type": "code",
   "execution_count": 136,
   "outputs": [
    {
     "data": {
      "text/plain": "['Order: A348DFB6\\nDelivered\\nThe order was delivered at 11:47 PM on September 28, 2023. \\nRate Dasher\\nGet help\\nDelivery Details\\nCustomer\\nMelissa C\\nDasher\\nIrving\\nPicked Up\\n11:30 PM\\n(Quoted: 11:14 PM)\\nSeptember 28, 2023\\nDropped Off\\n11:47 PM\\n(Quoted: 11:34 PM)\\nSeptember 28, 2023\\nPick Up Location\\n801 Lafayette St, Laredo, TX 78041, USA\\nChannel\\nDoorDash\\nFulfillment\\nDoorDash Delivery\\nOrder Details\\n1\\n×\\nIce Small (Fountain, Frozen, & Tea)\\n$4.99\\n2\\n×\\nTXB Water Bottle (24 pk) (16.9 oz) (Water TX)\\n$14.98\\nSubtotal\\n$19.97\\nSubtotal Tax\\n$0.41\\nCommission (23%)\\n-$4.59\\nTotal Customer Refund\\n-$0.00\\nEstimated Payout\\n$15.79\\nAssociated Transactions (1)\\nTransaction #8087670804 - Delivery\\n$15.79',\n 'Order: EC218FA4\\nDelivered\\nThe order was delivered at 11:22 PM on September 28, 2023. \\nRate Dasher\\nGet help\\nDelivery Details\\nCustomer\\nPolo M\\nDasher\\nLeticia\\nPicked Up\\n11:16 PM\\n(Quoted: 11:10 PM)\\nSeptember 28, 2023\\nDropped Off\\n11:22 PM\\n(Quoted: 11:24 PM)\\nSeptember 28, 2023\\nPick Up Location\\n800 W Interstate 20, Big Spring, TX 79720, USA\\nChannel\\nDoorDash\\nFulfillment\\nDoorDash Delivery\\nOrder Details\\n1\\n×\\nIce Small (Fountain, Frozen, & Tea)\\n$4.99\\nSubtotal\\n$4.99\\nSubtotal Tax\\n$0.41\\nCommission (16%)\\n-$0.80\\nTotal Customer Refund\\n-$0.00\\nEstimated Payout\\n$4.60\\nAssociated Transactions (1)\\nTransaction #8087614462 - Delivery\\n$4.60',\n 'Order: 7D285B12\\nDelivered\\nThe order was delivered at 10:23 PM on September 28, 2023. \\nRate Dasher\\nGet help\\nDelivery Details\\nCustomer\\nAngelina N\\nDasher\\nTerrah\\nPicked Up\\n10:09 PM\\n(Quoted: 10:12 PM)\\nSeptember 28, 2023\\nDropped Off\\n10:23 PM\\n(Quoted: 10:31 PM)\\nSeptember 28, 2023\\nPick Up Location\\n800 W Interstate 20, Big Spring, TX 79720, USA\\nChannel\\nDoorDash\\nFulfillment\\nDoorDash Delivery\\nOrder Details\\n1\\n×\\nBig Red Bottle (20oz) (Soda TX)\\n$3.79\\n1\\n×\\nFountain Drink (Fountain, Frozen, & Tea)\\nDrink Selection:\\nDr Pepper\\n$0.00\\n1\\n×\\nCrush Orange Bottle (20oz) (Soda TX)\\n$3.79\\n1\\n×\\nBig Blue Bottle (20oz) (Soda TX)\\n$3.79\\nSubtotal\\n$11.37\\nSubtotal Tax\\n$0.94\\nCommission (23%)\\n-$2.62\\nTotal Customer Refund\\n-$0.00\\nEstimated Payout\\n$9.69\\nAssociated Transactions (1)\\nTransaction #8087246804 - Delivery\\n$9.69',\n \"Order: F9F46AEF\\nDelivered\\nThe order was delivered at 7:47 PM on September 28, 2023. \\nRate Dasher\\nGet help\\nDelivery Details\\nCustomer\\nMiranda S\\nDasher\\nPedro\\nPicked Up\\n7:34 PM\\n(Quoted: 7:36 PM)\\nSeptember 28, 2023\\nDropped Off\\n7:47 PM\\n(Quoted: 8:06 PM)\\nSeptember 28, 2023\\nPick Up Location\\n1001 W Van Alstyne Pkwy, Van Alstyne, TX 75495, USA\\nChannel\\nDoorDash\\nFulfillment\\nDoorDash Delivery\\nOrder Details\\n1\\n×\\nCheetos Crunchy Flamin' Hot (3.25 oz) (Chips & Popcorn TX)\\n$3.19\\n1\\n×\\nSquirt Bottle (20 oz) (Soda TX)\\n$3.19\\n2\\n×\\nDr Pepper Bottle (20 oz) (Soda TX)\\n$7.58\\n1\\n×\\nDoritos Nacho Cheese (9.25 oz) (Chips & Popcorn TX)\\n$6.99\\nSubtotal\\n$20.95\\nSubtotal Tax\\n$0.89\\nCommission (23%)\\n-$4.82\\nTotal Customer Refund\\n-$0.00\\nEstimated Payout\\n$17.02\\nAssociated Transactions (1)\\nTransaction #8085798910 - Delivery\\n$17.02\",\n 'Order: 7D8C6B67\\nDelivered\\nThe order was delivered at 6:07 PM on September 28, 2023. \\nRate Dasher\\nGet help\\nDelivery Details\\nCustomer\\nElena R\\nDasher\\nSophia\\nPicked Up\\n5:54 PM\\n(Quoted: 5:58 PM)\\nSeptember 28, 2023\\nDropped Off\\n6:07 PM\\n(Quoted: 6:32 PM)\\nSeptember 28, 2023\\nPick Up Location\\n3702 FM2147, Horseshoe Bay, TX 78657, USA\\nChannel\\nDoorDash\\nFulfillment\\nDoorDash Delivery\\nOrder Details\\n1\\n×\\nSprite Bottle (20 oz) (Soda TX)\\n$3.19\\n2\\n×\\nDr Pepper Bottle (20 oz) (Soda TX)\\n$7.58\\nSubtotal\\n$10.77\\nSubtotal Tax\\n$0.89\\nCommission (20%)\\n-$2.15\\nTotal Customer Refund\\n-$0.00\\nEstimated Payout\\n$9.51\\nAssociated Transactions (1)\\nTransaction #8084663509 - Delivery\\n$9.51',\n 'Order: 702662D6\\nDelivered\\nThe order was delivered at 4:16 PM on September 28, 2023. \\nRate Dasher\\nGet help\\nDelivery Details\\nCustomer\\nDavid L\\nDasher\\nLisa\\nPicked Up\\n3:59 PM\\n(Quoted: 4:06 PM)\\nSeptember 28, 2023\\nDropped Off\\n4:16 PM\\n(Quoted: 4:25 PM)\\nSeptember 28, 2023\\nPick Up Location\\n201 S 9th St, Durant, OK 74701, USA\\nChannel\\nDoorDash\\nFulfillment\\nDoorDash Delivery\\nOrder Details\\n1\\n×\\nKeystone Light Beer Can (12 oz x 15 ct) (Domestic Beer OK)\\n$16.29\\nSubtotal\\n$16.29\\nSubtotal Tax\\n$1.53\\nAlcohol Fee\\n-$1.00\\nTotal Customer Refund\\n-$0.00\\nEstimated Payout\\n$15.29\\nAssociated Transactions (1)\\nTransaction #8083626907 - Delivery\\n$15.29',\n 'Order: 00BEC8AB\\nDelivered\\nThe order was delivered at 11:48 AM on September 28, 2023. \\nRate Dasher\\nGet help\\nDelivery Details\\nCustomer\\nWesley W\\nDasher\\nAndres\\n1 previous Dasher\\nPicked Up\\n11:45 AM\\n(Quoted: 11:38 AM)\\nSeptember 28, 2023\\nDropped Off\\n11:48 AM\\n(Quoted: 11:48 AM)\\nSeptember 28, 2023\\nPick Up Location\\n816 N Center St, Bonham, TX 75418, USA\\nChannel\\nDoorDash\\nFulfillment\\nDoorDash Delivery\\nOrder Details\\n1\\n×\\nHand-Breaded Chicken Roll Sandwich (Hot Sandwiches TXB#6)\\nDipping Sauce:\\nHoney Mustard Dipping Sauce\\nOriginal or Spicy:\\nOriginal\\n$4.19\\n1\\n×\\nFountain Drink (Fountain, Frozen, & Tea)\\nDrink Selection:\\nDiet Dr Pepper\\n$0.00\\nSubtotal\\n$4.19\\nSubtotal Tax\\n$0.35\\nCommission (16%)\\n-$0.67\\nTotal Customer Refund\\n-$0.00\\nEstimated Payout\\n$3.87\\nAssociated Transactions (1)\\nTransaction #8081758649 - Delivery\\n$3.87',\n \"Order: F20F6AE7\\nDelivered\\nThe order was delivered at 2:55 AM on September 28, 2023. \\nRate Dasher\\nGet help\\nDelivery Details\\nCustomer\\nMisty D\\nDasher\\nMartin\\nPicked Up\\n2:42 AM\\n(Quoted: 2:32 AM)\\nSeptember 28, 2023\\nDropped Off\\n2:55 AM\\n(Quoted: 2:53 AM)\\nSeptember 28, 2023\\nPick Up Location\\n801 Lafayette St, Laredo, TX 78041, USA\\nChannel\\nDoorDash\\nFulfillment\\nDoorDash Delivery\\nOrder Details\\n1\\n×\\nCheetos Crunchy Flamin' Hot (3.25 oz) (Chips & Popcorn TX)\\n$3.19\\n1\\n×\\nBig Red Can (12 pk-12 oz) (Soda TX)\\n$11.29\\n1\\n×\\nIce Small (Fountain, Frozen, & Tea)\\n$4.99\\nSubtotal\\n$19.47\\nSubtotal Tax\\n$1.34\\nCommission (16%)\\n-$3.12\\nTotal Customer Refund\\n-$0.00\\nEstimated Payout\\n$17.69\\nAssociated Transactions (1)\\nTransaction #8080315650 - Delivery\\n$17.69\",\n \"Order: CA9E35CB\\nDelivered\\nThe order was delivered at 2:28 AM on September 28, 2023. \\nRate Dasher\\nGet help\\nDelivery Details\\nCustomer\\nAntonio G\\nDasher\\nRogelio\\nPicked Up\\n2:02 AM\\n(Quoted: 1:59 AM)\\nSeptember 28, 2023\\nDropped Off\\n2:28 AM\\n(Quoted: 2:33 AM)\\nSeptember 28, 2023\\nPick Up Location\\n801 Lafayette St, Laredo, TX 78041, USA\\nChannel\\nDoorDash\\nFulfillment\\nDoorDash Delivery\\nOrder Details\\n1\\n×\\nKettle Chips Jalapeno (5oz) (Chips & Popcorn TX)\\n$6.29\\n1\\n×\\nA&W Caffeine-Free Root Beer Bottle (20 oz) (Soda TX)\\n$3.79\\n1\\n×\\nCheetos Crunchy Flamin' Hot Limon (8.5 oz) (Chips & Popcorn TX)\\n$6.49\\nSubtotal\\n$16.57\\nSubtotal Tax\\n$0.31\\nCommission (16%)\\n-$2.65\\nTotal Customer Refund\\n-$0.00\\nEstimated Payout\\n$14.23\\nAssociated Transactions (1)\\nTransaction #8080266865 - Delivery\\n$14.23\",\n \"Order: D5782A52\\nCancelled - Paid\\nThe order was cancelled on September 28, 2023 at 1:00 AM. You’re paid for cancelled orders when you’ve successfully confirmed an order, it was prepared, and you did not initiate or are not at fault for the cancellation. Learn More\\nRate Dasher\\nGet help\\nDelivery Details\\nCustomer\\njenna s\\nDasher\\nTo be assigned\\n1 previous Dasher\\nEstimated Pick Up\\n12:44 AM\\nSeptember 28, 2023\\nEstimated Drop Off\\n1:11 AM\\nSeptember 28, 2023\\nPick Up Location\\n2503 TX-349, Midland, TX 79706, USA\\nChannel\\nDoorDash\\nFulfillment\\nDoorDash Delivery\\nOrder Details\\n1\\n×\\nHershey's Plain King Size (2.6 oz) (Chocolate TX)\\n$3.79\\n1\\n×\\nKraft Philadelphia Cream Cheese, 8oz (Cheese TX)\\n$8.39\\nSubtotal\\n$12.18\\nSubtotal Tax\\n$0.30\\nCommission (23%)\\n-$2.80\\nTotal Customer Refund\\n-$0.00\\nEstimated Payout\\n$9.68\\nAssociated Transactions (1)\\nTransaction #8080161083 - Delivery\\n$9.68\",\n 'Order: 5CDF188C\\nCancelled - Paid\\nThe order was cancelled on September 28, 2023 at 12:45 AM. You’re paid for cancelled orders when you’ve successfully confirmed an order, it was prepared, and you did not initiate or are not at fault for the cancellation. Learn More\\nGet help\\nDelivery Details\\nCustomer\\nErin B\\nDasher\\nTo be assigned\\nEstimated Pick Up\\n12:02 AM\\nSeptember 28, 2023\\nEstimated Drop Off\\n12:31 AM\\nSeptember 28, 2023\\nPick Up Location\\n3702 FM2147, Horseshoe Bay, TX 78657, USA\\nChannel\\nDoorDash\\nFulfillment\\nDoorDash Delivery\\nOrder Details\\n4\\n×\\nCorona Extra Beer Can (24 oz) (Import Beer 53/66/67)\\n$22.76\\nSubtotal\\n$22.76\\nSubtotal Tax\\n$1.88\\nCommission (25%)\\n-$5.69\\nTotal Customer Refund\\n-$0.00\\nEstimated Payout\\n$18.95\\nAssociated Transactions (1)\\nTransaction #8080129920 - Delivery\\n$18.95',\n \"Order: 0BC3FC5E\\nDelivered\\nThe order was delivered at 12:36 AM on September 28, 2023. \\nRate Dasher\\nGet help\\nDelivery Details\\nCustomer\\nReice W\\nDasher\\nCynthia\\nPicked Up\\n12:25 AM\\n(Quoted: 12:13 AM)\\nSeptember 28, 2023\\nDropped Off\\n12:36 AM\\n(Quoted: 12:37 AM)\\nSeptember 28, 2023\\nPick Up Location\\n2320 W Main St, Durant, OK 74701, USA\\nChannel\\nDoorDash\\nFulfillment\\nDoorDash Delivery\\nOrder Details\\n1\\n×\\nLay's Classic Potato Chips (7.75 oz) (Chips & Popcorn OK)\\n$5.79\\n1\\n×\\nReese's Peanut Butter Cups King Size (2.84 oz) (Chocolate OK)\\n$3.39\\n1\\n×\\nAir Heads Bites (2oz) (Fruity OK)\\n$4.99\\n1\\n×\\nCrush Orange Can (12pk 12oz) (Soda OK)\\n$11.29\\nSubtotal\\n$25.46\\nPromo Paid by DoorDash\\n-$15.00\\n(60% off, up to $15)\\nSubtotal for Tax Calculations\\n$10.46\\nSubtotal Tax\\n$0.98\\nCommission (23%)\\n-$5.86\\nTotal Customer Refund\\n-$0.00\\nEstimated Payout\\n$19.60\\nAssociated Transactions (1)\\nTransaction #8080078554 - Delivery\\n$19.60\"]"
     },
     "execution_count": 136,
     "metadata": {},
     "output_type": "execute_result"
    }
   ],
   "source": [
    "orders"
   ],
   "metadata": {
    "collapsed": false,
    "ExecuteTime": {
     "end_time": "2023-09-29T19:16:04.255677Z",
     "start_time": "2023-09-29T19:16:04.244886Z"
    }
   },
   "id": "baf60f556008ad38"
  },
  {
   "cell_type": "code",
   "execution_count": 137,
   "outputs": [
    {
     "data": {
      "text/plain": "12"
     },
     "execution_count": 137,
     "metadata": {},
     "output_type": "execute_result"
    }
   ],
   "source": [
    "len(orders)"
   ],
   "metadata": {
    "collapsed": false,
    "ExecuteTime": {
     "end_time": "2023-09-29T19:16:04.811380Z",
     "start_time": "2023-09-29T19:16:04.807271Z"
    }
   },
   "id": "9a1ed5416f217b4f"
  },
  {
   "cell_type": "code",
   "execution_count": 145,
   "outputs": [],
   "source": [
    "def orders_scraper():\n",
    "    table_rows, table_rows_present = get_all_table_rows_except_header_row()\n",
    "\n",
    "    if not table_rows and not table_rows_present:\n",
    "        logging.error(f'Could not find table_rows: {table_rows}| table_rows_present: {table_rows_present}')\n",
    "\n",
    "    orders = iterate_table_rows(table_rows)\n",
    "\n",
    "    if not orders:\n",
    "        logging.error(f'Could get orders')\n",
    "\n",
    "    if table_rows and table_rows_present and orders:\n",
    "        logging.info(f'Successfully scraped all orders in the table. ')\n",
    "\n",
    "    logging.info(f'\\n***********************************\\n {orders} \\n********************************\\n')\n",
    "\n",
    "    return orders\n"
   ],
   "metadata": {
    "collapsed": false,
    "ExecuteTime": {
     "end_time": "2023-09-29T19:22:14.285449Z",
     "start_time": "2023-09-29T19:22:14.210598Z"
    }
   },
   "id": "b2031cfaf715f0a4"
  },
  {
   "cell_type": "code",
   "execution_count": 146,
   "outputs": [],
   "source": [
    "def scrape_orders_data():\n",
    "    try:\n",
    "        scraped_orders_data = orders_scraper()\n",
    "        if not scraped_orders_data:\n",
    "            logging.error('Could not orders_page.scrape_orders_table_data')\n",
    "            return None\n",
    "        else:\n",
    "            logging.info('Successfully orders_page.scrape_orders_data')\n",
    "            return scraped_orders_data\n",
    "    except Exception as e:\n",
    "        logging.exception(f'An error occurred trying to orders_page.scrape_orders_table_data: {e}')\n",
    "        return None\n",
    "\n"
   ],
   "metadata": {
    "collapsed": false,
    "ExecuteTime": {
     "end_time": "2023-09-29T19:22:14.937040Z",
     "start_time": "2023-09-29T19:22:14.934136Z"
    }
   },
   "id": "61e6efaeb27c6578"
  },
  {
   "cell_type": "code",
   "execution_count": 147,
   "outputs": [
    {
     "data": {
      "text/plain": "['Order: A348DFB6\\nDelivered\\nThe order was delivered at 11:47 PM on September 28, 2023. \\nRate Dasher\\nGet help\\nDelivery Details\\nCustomer\\nMelissa C\\nDasher\\nIrving\\nPicked Up\\n11:30 PM\\n(Quoted: 11:14 PM)\\nSeptember 28, 2023\\nDropped Off\\n11:47 PM\\n(Quoted: 11:34 PM)\\nSeptember 28, 2023\\nPick Up Location\\n801 Lafayette St, Laredo, TX 78041, USA\\nChannel\\nDoorDash\\nFulfillment\\nDoorDash Delivery\\nOrder Details\\n1\\n×\\nIce Small (Fountain, Frozen, & Tea)\\n$4.99\\n2\\n×\\nTXB Water Bottle (24 pk) (16.9 oz) (Water TX)\\n$14.98\\nSubtotal\\n$19.97\\nSubtotal Tax\\n$0.41\\nCommission (23%)\\n-$4.59\\nTotal Customer Refund\\n-$0.00\\nEstimated Payout\\n$15.79\\nAssociated Transactions (1)\\nTransaction #8087670804 - Delivery\\n$15.79',\n 'Order: EC218FA4\\nDelivered\\nThe order was delivered at 11:22 PM on September 28, 2023. \\nRate Dasher\\nGet help\\nDelivery Details\\nCustomer\\nPolo M\\nDasher\\nLeticia\\nPicked Up\\n11:16 PM\\n(Quoted: 11:10 PM)\\nSeptember 28, 2023\\nDropped Off\\n11:22 PM\\n(Quoted: 11:24 PM)\\nSeptember 28, 2023\\nPick Up Location\\n800 W Interstate 20, Big Spring, TX 79720, USA\\nChannel\\nDoorDash\\nFulfillment\\nDoorDash Delivery\\nOrder Details\\n1\\n×\\nIce Small (Fountain, Frozen, & Tea)\\n$4.99\\nSubtotal\\n$4.99\\nSubtotal Tax\\n$0.41\\nCommission (16%)\\n-$0.80\\nTotal Customer Refund\\n-$0.00\\nEstimated Payout\\n$4.60\\nAssociated Transactions (1)\\nTransaction #8087614462 - Delivery\\n$4.60',\n 'Order: 7D285B12\\nDelivered\\nThe order was delivered at 10:23 PM on September 28, 2023. \\nRate Dasher\\nGet help\\nDelivery Details\\nCustomer\\nAngelina N\\nDasher\\nTerrah\\nPicked Up\\n10:09 PM\\n(Quoted: 10:12 PM)\\nSeptember 28, 2023\\nDropped Off\\n10:23 PM\\n(Quoted: 10:31 PM)\\nSeptember 28, 2023\\nPick Up Location\\n800 W Interstate 20, Big Spring, TX 79720, USA\\nChannel\\nDoorDash\\nFulfillment\\nDoorDash Delivery\\nOrder Details\\n1\\n×\\nBig Red Bottle (20oz) (Soda TX)\\n$3.79\\n1\\n×\\nFountain Drink (Fountain, Frozen, & Tea)\\nDrink Selection:\\nDr Pepper\\n$0.00\\n1\\n×\\nCrush Orange Bottle (20oz) (Soda TX)\\n$3.79\\n1\\n×\\nBig Blue Bottle (20oz) (Soda TX)\\n$3.79\\nSubtotal\\n$11.37\\nSubtotal Tax\\n$0.94\\nCommission (23%)\\n-$2.62\\nTotal Customer Refund\\n-$0.00\\nEstimated Payout\\n$9.69\\nAssociated Transactions (1)\\nTransaction #8087246804 - Delivery\\n$9.69',\n \"Order: F9F46AEF\\nDelivered\\nThe order was delivered at 7:47 PM on September 28, 2023. \\nRate Dasher\\nGet help\\nDelivery Details\\nCustomer\\nMiranda S\\nDasher\\nPedro\\nPicked Up\\n7:34 PM\\n(Quoted: 7:36 PM)\\nSeptember 28, 2023\\nDropped Off\\n7:47 PM\\n(Quoted: 8:06 PM)\\nSeptember 28, 2023\\nPick Up Location\\n1001 W Van Alstyne Pkwy, Van Alstyne, TX 75495, USA\\nChannel\\nDoorDash\\nFulfillment\\nDoorDash Delivery\\nOrder Details\\n1\\n×\\nCheetos Crunchy Flamin' Hot (3.25 oz) (Chips & Popcorn TX)\\n$3.19\\n1\\n×\\nSquirt Bottle (20 oz) (Soda TX)\\n$3.19\\n2\\n×\\nDr Pepper Bottle (20 oz) (Soda TX)\\n$7.58\\n1\\n×\\nDoritos Nacho Cheese (9.25 oz) (Chips & Popcorn TX)\\n$6.99\\nSubtotal\\n$20.95\\nSubtotal Tax\\n$0.89\\nCommission (23%)\\n-$4.82\\nTotal Customer Refund\\n-$0.00\\nEstimated Payout\\n$17.02\\nAssociated Transactions (1)\\nTransaction #8085798910 - Delivery\\n$17.02\",\n 'Order: 7D8C6B67\\nDelivered\\nThe order was delivered at 6:07 PM on September 28, 2023. \\nRate Dasher\\nGet help\\nDelivery Details\\nCustomer\\nElena R\\nDasher\\nSophia\\nPicked Up\\n5:54 PM\\n(Quoted: 5:58 PM)\\nSeptember 28, 2023\\nDropped Off\\n6:07 PM\\n(Quoted: 6:32 PM)\\nSeptember 28, 2023\\nPick Up Location\\n3702 FM2147, Horseshoe Bay, TX 78657, USA\\nChannel\\nDoorDash\\nFulfillment\\nDoorDash Delivery\\nOrder Details\\n1\\n×\\nSprite Bottle (20 oz) (Soda TX)\\n$3.19\\n2\\n×\\nDr Pepper Bottle (20 oz) (Soda TX)\\n$7.58\\nSubtotal\\n$10.77\\nSubtotal Tax\\n$0.89\\nCommission (20%)\\n-$2.15\\nTotal Customer Refund\\n-$0.00\\nEstimated Payout\\n$9.51\\nAssociated Transactions (1)\\nTransaction #8084663509 - Delivery\\n$9.51',\n 'Order: 702662D6\\nDelivered\\nThe order was delivered at 4:16 PM on September 28, 2023. \\nRate Dasher\\nGet help\\nDelivery Details\\nCustomer\\nDavid L\\nDasher\\nLisa\\nPicked Up\\n3:59 PM\\n(Quoted: 4:06 PM)\\nSeptember 28, 2023\\nDropped Off\\n4:16 PM\\n(Quoted: 4:25 PM)\\nSeptember 28, 2023\\nPick Up Location\\n201 S 9th St, Durant, OK 74701, USA\\nChannel\\nDoorDash\\nFulfillment\\nDoorDash Delivery\\nOrder Details\\n1\\n×\\nKeystone Light Beer Can (12 oz x 15 ct) (Domestic Beer OK)\\n$16.29\\nSubtotal\\n$16.29\\nSubtotal Tax\\n$1.53\\nAlcohol Fee\\n-$1.00\\nTotal Customer Refund\\n-$0.00\\nEstimated Payout\\n$15.29\\nAssociated Transactions (1)\\nTransaction #8083626907 - Delivery\\n$15.29',\n 'Order: 00BEC8AB\\nDelivered\\nThe order was delivered at 11:48 AM on September 28, 2023. \\nRate Dasher\\nGet help\\nDelivery Details\\nCustomer\\nWesley W\\nDasher\\nAndres\\n1 previous Dasher\\nPicked Up\\n11:45 AM\\n(Quoted: 11:38 AM)\\nSeptember 28, 2023\\nDropped Off\\n11:48 AM\\n(Quoted: 11:48 AM)\\nSeptember 28, 2023\\nPick Up Location\\n816 N Center St, Bonham, TX 75418, USA\\nChannel\\nDoorDash\\nFulfillment\\nDoorDash Delivery\\nOrder Details\\n1\\n×\\nHand-Breaded Chicken Roll Sandwich (Hot Sandwiches TXB#6)\\nDipping Sauce:\\nHoney Mustard Dipping Sauce\\nOriginal or Spicy:\\nOriginal\\n$4.19\\n1\\n×\\nFountain Drink (Fountain, Frozen, & Tea)\\nDrink Selection:\\nDiet Dr Pepper\\n$0.00\\nSubtotal\\n$4.19\\nSubtotal Tax\\n$0.35\\nCommission (16%)\\n-$0.67\\nTotal Customer Refund\\n-$0.00\\nEstimated Payout\\n$3.87\\nAssociated Transactions (1)\\nTransaction #8081758649 - Delivery\\n$3.87',\n \"Order: F20F6AE7\\nDelivered\\nThe order was delivered at 2:55 AM on September 28, 2023. \\nRate Dasher\\nGet help\\nDelivery Details\\nCustomer\\nMisty D\\nDasher\\nMartin\\nPicked Up\\n2:42 AM\\n(Quoted: 2:32 AM)\\nSeptember 28, 2023\\nDropped Off\\n2:55 AM\\n(Quoted: 2:53 AM)\\nSeptember 28, 2023\\nPick Up Location\\n801 Lafayette St, Laredo, TX 78041, USA\\nChannel\\nDoorDash\\nFulfillment\\nDoorDash Delivery\\nOrder Details\\n1\\n×\\nCheetos Crunchy Flamin' Hot (3.25 oz) (Chips & Popcorn TX)\\n$3.19\\n1\\n×\\nBig Red Can (12 pk-12 oz) (Soda TX)\\n$11.29\\n1\\n×\\nIce Small (Fountain, Frozen, & Tea)\\n$4.99\\nSubtotal\\n$19.47\\nSubtotal Tax\\n$1.34\\nCommission (16%)\\n-$3.12\\nTotal Customer Refund\\n-$0.00\\nEstimated Payout\\n$17.69\\nAssociated Transactions (1)\\nTransaction #8080315650 - Delivery\\n$17.69\",\n \"Order: CA9E35CB\\nDelivered\\nThe order was delivered at 2:28 AM on September 28, 2023. \\nRate Dasher\\nGet help\\nDelivery Details\\nCustomer\\nAntonio G\\nDasher\\nRogelio\\nPicked Up\\n2:02 AM\\n(Quoted: 1:59 AM)\\nSeptember 28, 2023\\nDropped Off\\n2:28 AM\\n(Quoted: 2:33 AM)\\nSeptember 28, 2023\\nPick Up Location\\n801 Lafayette St, Laredo, TX 78041, USA\\nChannel\\nDoorDash\\nFulfillment\\nDoorDash Delivery\\nOrder Details\\n1\\n×\\nKettle Chips Jalapeno (5oz) (Chips & Popcorn TX)\\n$6.29\\n1\\n×\\nA&W Caffeine-Free Root Beer Bottle (20 oz) (Soda TX)\\n$3.79\\n1\\n×\\nCheetos Crunchy Flamin' Hot Limon (8.5 oz) (Chips & Popcorn TX)\\n$6.49\\nSubtotal\\n$16.57\\nSubtotal Tax\\n$0.31\\nCommission (16%)\\n-$2.65\\nTotal Customer Refund\\n-$0.00\\nEstimated Payout\\n$14.23\\nAssociated Transactions (1)\\nTransaction #8080266865 - Delivery\\n$14.23\",\n \"Order: D5782A52\\nCancelled - Paid\\nThe order was cancelled on September 28, 2023 at 1:00 AM. You’re paid for cancelled orders when you’ve successfully confirmed an order, it was prepared, and you did not initiate or are not at fault for the cancellation. Learn More\\nRate Dasher\\nGet help\\nDelivery Details\\nCustomer\\njenna s\\nDasher\\nTo be assigned\\n1 previous Dasher\\nEstimated Pick Up\\n12:44 AM\\nSeptember 28, 2023\\nEstimated Drop Off\\n1:11 AM\\nSeptember 28, 2023\\nPick Up Location\\n2503 TX-349, Midland, TX 79706, USA\\nChannel\\nDoorDash\\nFulfillment\\nDoorDash Delivery\\nOrder Details\\n1\\n×\\nHershey's Plain King Size (2.6 oz) (Chocolate TX)\\n$3.79\\n1\\n×\\nKraft Philadelphia Cream Cheese, 8oz (Cheese TX)\\n$8.39\\nSubtotal\\n$12.18\\nSubtotal Tax\\n$0.30\\nCommission (23%)\\n-$2.80\\nTotal Customer Refund\\n-$0.00\\nEstimated Payout\\n$9.68\\nAssociated Transactions (1)\\nTransaction #8080161083 - Delivery\\n$9.68\",\n 'Order: 5CDF188C\\nCancelled - Paid\\nThe order was cancelled on September 28, 2023 at 12:45 AM. You’re paid for cancelled orders when you’ve successfully confirmed an order, it was prepared, and you did not initiate or are not at fault for the cancellation. Learn More\\nGet help\\nDelivery Details\\nCustomer\\nErin B\\nDasher\\nTo be assigned\\nEstimated Pick Up\\n12:02 AM\\nSeptember 28, 2023\\nEstimated Drop Off\\n12:31 AM\\nSeptember 28, 2023\\nPick Up Location\\n3702 FM2147, Horseshoe Bay, TX 78657, USA\\nChannel\\nDoorDash\\nFulfillment\\nDoorDash Delivery\\nOrder Details\\n4\\n×\\nCorona Extra Beer Can (24 oz) (Import Beer 53/66/67)\\n$22.76\\nSubtotal\\n$22.76\\nSubtotal Tax\\n$1.88\\nCommission (25%)\\n-$5.69\\nTotal Customer Refund\\n-$0.00\\nEstimated Payout\\n$18.95\\nAssociated Transactions (1)\\nTransaction #8080129920 - Delivery\\n$18.95',\n \"Order: 0BC3FC5E\\nDelivered\\nThe order was delivered at 12:36 AM on September 28, 2023. \\nRate Dasher\\nGet help\\nDelivery Details\\nCustomer\\nReice W\\nDasher\\nCynthia\\nPicked Up\\n12:25 AM\\n(Quoted: 12:13 AM)\\nSeptember 28, 2023\\nDropped Off\\n12:36 AM\\n(Quoted: 12:37 AM)\\nSeptember 28, 2023\\nPick Up Location\\n2320 W Main St, Durant, OK 74701, USA\\nChannel\\nDoorDash\\nFulfillment\\nDoorDash Delivery\\nOrder Details\\n1\\n×\\nLay's Classic Potato Chips (7.75 oz) (Chips & Popcorn OK)\\n$5.79\\n1\\n×\\nReese's Peanut Butter Cups King Size (2.84 oz) (Chocolate OK)\\n$3.39\\n1\\n×\\nAir Heads Bites (2oz) (Fruity OK)\\n$4.99\\n1\\n×\\nCrush Orange Can (12pk 12oz) (Soda OK)\\n$11.29\\nSubtotal\\n$25.46\\nPromo Paid by DoorDash\\n-$15.00\\n(60% off, up to $15)\\nSubtotal for Tax Calculations\\n$10.46\\nSubtotal Tax\\n$0.98\\nCommission (23%)\\n-$5.86\\nTotal Customer Refund\\n-$0.00\\nEstimated Payout\\n$19.60\\nAssociated Transactions (1)\\nTransaction #8080078554 - Delivery\\n$19.60\"]"
     },
     "execution_count": 147,
     "metadata": {},
     "output_type": "execute_result"
    }
   ],
   "source": [
    "data = scrape_orders_data()\n",
    "data"
   ],
   "metadata": {
    "collapsed": false,
    "ExecuteTime": {
     "end_time": "2023-09-29T19:23:29.065067Z",
     "start_time": "2023-09-29T19:22:16.017546Z"
    }
   },
   "id": "9d814418e15c4a82"
  },
  {
   "cell_type": "code",
   "execution_count": 101,
   "outputs": [],
   "source": [
    "# def orders_scraper():\n",
    "#     orders = []\n",
    "# \n",
    "#     for idx, table_row in enumerate(table_rows):\n",
    "#         if idx >= 1:\n",
    "#             table_row.click()\n",
    "# \n",
    "#             time.sleep(5)  # wait for ssb to load on dom\n",
    "# \n",
    "#             found, elem = wait_for_and_find_element(locator=\"//*[@class='styles__SidesheetContent-sc-czzuxh-2 hKVVOI']\", locator_type=By.XPATH, timeout=10)\n",
    "# \n",
    "# \n",
    "#             start_length = len(orders)\n",
    "#             orders.append(elem.text)\n",
    "#             end_length = len(orders)\n",
    "# \n",
    "#             if end_length > start_length:\n",
    "#                 exit_btn_clicked = find_element_and_click(locator='//*[@id=\"MerchantApp\"]/div/div/div[3]/div[2]/div[2]/div/div/div[1]/nav/div[1]/div[1]/div/button', locator_type=By.XPATH)\n",
    "# \n",
    "#                 if exit_btn_clicked:\n",
    "#                     logging.info(f'Exiting sidesheetbody for Order #: {idx}')\n",
    "# \n",
    "#     return orders\n"
   ],
   "metadata": {
    "collapsed": false,
    "ExecuteTime": {
     "end_time": "2023-09-28T16:11:01.613706Z",
     "start_time": "2023-09-28T16:11:01.599176Z"
    }
   },
   "id": "7f40e728c4ba3e02"
  },
  {
   "cell_type": "code",
   "execution_count": 102,
   "outputs": [],
   "source": [
    "# orders = orders_scraper()\n",
    "# orders"
   ],
   "metadata": {
    "collapsed": false,
    "ExecuteTime": {
     "end_time": "2023-09-28T16:11:01.984343Z",
     "start_time": "2023-09-28T16:11:01.931573Z"
    }
   },
   "id": "9ba45328d137fe21"
  },
  {
   "cell_type": "code",
   "execution_count": 43,
   "outputs": [],
   "source": [
    "orders = ['Order: A348DFB6\\nDelivered\\nThe order was delivered at 11:47 PM on September 28, 2023. \\nRate Dasher\\nGet help\\nDelivery Details\\nCustomer\\nMelissa C\\nDasher\\nIrving\\nPicked Up\\n11:30 PM\\n(Quoted: 11:14 PM)\\nSeptember 28, 2023\\nDropped Off\\n11:47 PM\\n(Quoted: 11:34 PM)\\nSeptember 28, 2023\\nPick Up Location\\n801 Lafayette St, Laredo, TX 78041, USA\\nChannel\\nDoorDash\\nFulfillment\\nDoorDash Delivery\\nOrder Details\\n1\\n×\\nIce Small (Fountain, Frozen, & Tea)\\n$4.99\\n2\\n×\\nTXB Water Bottle (24 pk) (16.9 oz) (Water TX)\\n$14.98\\nSubtotal\\n$19.97\\nSubtotal Tax\\n$0.41\\nCommission (23%)\\n-$4.59\\nTotal Customer Refund\\n-$0.00\\nEstimated Payout\\n$15.79\\nAssociated Transactions (1)\\nTransaction #8087670804 - Delivery\\n$15.79',\n",
    " 'Order: EC218FA4\\nDelivered\\nThe order was delivered at 11:22 PM on September 28, 2023. \\nRate Dasher\\nGet help\\nDelivery Details\\nCustomer\\nPolo M\\nDasher\\nLeticia\\nPicked Up\\n11:16 PM\\n(Quoted: 11:10 PM)\\nSeptember 28, 2023\\nDropped Off\\n11:22 PM\\n(Quoted: 11:24 PM)\\nSeptember 28, 2023\\nPick Up Location\\n800 W Interstate 20, Big Spring, TX 79720, USA\\nChannel\\nDoorDash\\nFulfillment\\nDoorDash Delivery\\nOrder Details\\n1\\n×\\nIce Small (Fountain, Frozen, & Tea)\\n$4.99\\nSubtotal\\n$4.99\\nSubtotal Tax\\n$0.41\\nCommission (16%)\\n-$0.80\\nTotal Customer Refund\\n-$0.00\\nEstimated Payout\\n$4.60\\nAssociated Transactions (1)\\nTransaction #8087614462 - Delivery\\n$4.60',\n",
    " 'Order: 7D285B12\\nDelivered\\nThe order was delivered at 10:23 PM on September 28, 2023. \\nRate Dasher\\nGet help\\nDelivery Details\\nCustomer\\nAngelina N\\nDasher\\nTerrah\\nPicked Up\\n10:09 PM\\n(Quoted: 10:12 PM)\\nSeptember 28, 2023\\nDropped Off\\n10:23 PM\\n(Quoted: 10:31 PM)\\nSeptember 28, 2023\\nPick Up Location\\n800 W Interstate 20, Big Spring, TX 79720, USA\\nChannel\\nDoorDash\\nFulfillment\\nDoorDash Delivery\\nOrder Details\\n1\\n×\\nBig Red Bottle (20oz) (Soda TX)\\n$3.79\\n1\\n×\\nFountain Drink (Fountain, Frozen, & Tea)\\nDrink Selection:\\nDr Pepper\\n$0.00\\n1\\n×\\nCrush Orange Bottle (20oz) (Soda TX)\\n$3.79\\n1\\n×\\nBig Blue Bottle (20oz) (Soda TX)\\n$3.79\\nSubtotal\\n$11.37\\nSubtotal Tax\\n$0.94\\nCommission (23%)\\n-$2.62\\nTotal Customer Refund\\n-$0.00\\nEstimated Payout\\n$9.69\\nAssociated Transactions (1)\\nTransaction #8087246804 - Delivery\\n$9.69',\n",
    " \"Order: F9F46AEF\\nDelivered\\nThe order was delivered at 7:47 PM on September 28, 2023. \\nRate Dasher\\nGet help\\nDelivery Details\\nCustomer\\nMiranda S\\nDasher\\nPedro\\nPicked Up\\n7:34 PM\\n(Quoted: 7:36 PM)\\nSeptember 28, 2023\\nDropped Off\\n7:47 PM\\n(Quoted: 8:06 PM)\\nSeptember 28, 2023\\nPick Up Location\\n1001 W Van Alstyne Pkwy, Van Alstyne, TX 75495, USA\\nChannel\\nDoorDash\\nFulfillment\\nDoorDash Delivery\\nOrder Details\\n1\\n×\\nCheetos Crunchy Flamin' Hot (3.25 oz) (Chips & Popcorn TX)\\n$3.19\\n1\\n×\\nSquirt Bottle (20 oz) (Soda TX)\\n$3.19\\n2\\n×\\nDr Pepper Bottle (20 oz) (Soda TX)\\n$7.58\\n1\\n×\\nDoritos Nacho Cheese (9.25 oz) (Chips & Popcorn TX)\\n$6.99\\nSubtotal\\n$20.95\\nSubtotal Tax\\n$0.89\\nCommission (23%)\\n-$4.82\\nTotal Customer Refund\\n-$0.00\\nEstimated Payout\\n$17.02\\nAssociated Transactions (1)\\nTransaction #8085798910 - Delivery\\n$17.02\",\n",
    " 'Order: 7D8C6B67\\nDelivered\\nThe order was delivered at 6:07 PM on September 28, 2023. \\nRate Dasher\\nGet help\\nDelivery Details\\nCustomer\\nElena R\\nDasher\\nSophia\\nPicked Up\\n5:54 PM\\n(Quoted: 5:58 PM)\\nSeptember 28, 2023\\nDropped Off\\n6:07 PM\\n(Quoted: 6:32 PM)\\nSeptember 28, 2023\\nPick Up Location\\n3702 FM2147, Horseshoe Bay, TX 78657, USA\\nChannel\\nDoorDash\\nFulfillment\\nDoorDash Delivery\\nOrder Details\\n1\\n×\\nSprite Bottle (20 oz) (Soda TX)\\n$3.19\\n2\\n×\\nDr Pepper Bottle (20 oz) (Soda TX)\\n$7.58\\nSubtotal\\n$10.77\\nSubtotal Tax\\n$0.89\\nCommission (20%)\\n-$2.15\\nTotal Customer Refund\\n-$0.00\\nEstimated Payout\\n$9.51\\nAssociated Transactions (1)\\nTransaction #8084663509 - Delivery\\n$9.51',\n",
    " 'Order: 702662D6\\nDelivered\\nThe order was delivered at 4:16 PM on September 28, 2023. \\nRate Dasher\\nGet help\\nDelivery Details\\nCustomer\\nDavid L\\nDasher\\nLisa\\nPicked Up\\n3:59 PM\\n(Quoted: 4:06 PM)\\nSeptember 28, 2023\\nDropped Off\\n4:16 PM\\n(Quoted: 4:25 PM)\\nSeptember 28, 2023\\nPick Up Location\\n201 S 9th St, Durant, OK 74701, USA\\nChannel\\nDoorDash\\nFulfillment\\nDoorDash Delivery\\nOrder Details\\n1\\n×\\nKeystone Light Beer Can (12 oz x 15 ct) (Domestic Beer OK)\\n$16.29\\nSubtotal\\n$16.29\\nSubtotal Tax\\n$1.53\\nAlcohol Fee\\n-$1.00\\nTotal Customer Refund\\n-$0.00\\nEstimated Payout\\n$15.29\\nAssociated Transactions (1)\\nTransaction #8083626907 - Delivery\\n$15.29',\n",
    " 'Order: 00BEC8AB\\nDelivered\\nThe order was delivered at 11:48 AM on September 28, 2023. \\nRate Dasher\\nGet help\\nDelivery Details\\nCustomer\\nWesley W\\nDasher\\nAndres\\n1 previous Dasher\\nPicked Up\\n11:45 AM\\n(Quoted: 11:38 AM)\\nSeptember 28, 2023\\nDropped Off\\n11:48 AM\\n(Quoted: 11:48 AM)\\nSeptember 28, 2023\\nPick Up Location\\n816 N Center St, Bonham, TX 75418, USA\\nChannel\\nDoorDash\\nFulfillment\\nDoorDash Delivery\\nOrder Details\\n1\\n×\\nHand-Breaded Chicken Roll Sandwich (Hot Sandwiches TXB#6)\\nDipping Sauce:\\nHoney Mustard Dipping Sauce\\nOriginal or Spicy:\\nOriginal\\n$4.19\\n1\\n×\\nFountain Drink (Fountain, Frozen, & Tea)\\nDrink Selection:\\nDiet Dr Pepper\\n$0.00\\nSubtotal\\n$4.19\\nSubtotal Tax\\n$0.35\\nCommission (16%)\\n-$0.67\\nTotal Customer Refund\\n-$0.00\\nEstimated Payout\\n$3.87\\nAssociated Transactions (1)\\nTransaction #8081758649 - Delivery\\n$3.87',\n",
    " \"Order: F20F6AE7\\nDelivered\\nThe order was delivered at 2:55 AM on September 28, 2023. \\nRate Dasher\\nGet help\\nDelivery Details\\nCustomer\\nMisty D\\nDasher\\nMartin\\nPicked Up\\n2:42 AM\\n(Quoted: 2:32 AM)\\nSeptember 28, 2023\\nDropped Off\\n2:55 AM\\n(Quoted: 2:53 AM)\\nSeptember 28, 2023\\nPick Up Location\\n801 Lafayette St, Laredo, TX 78041, USA\\nChannel\\nDoorDash\\nFulfillment\\nDoorDash Delivery\\nOrder Details\\n1\\n×\\nCheetos Crunchy Flamin' Hot (3.25 oz) (Chips & Popcorn TX)\\n$3.19\\n1\\n×\\nBig Red Can (12 pk-12 oz) (Soda TX)\\n$11.29\\n1\\n×\\nIce Small (Fountain, Frozen, & Tea)\\n$4.99\\nSubtotal\\n$19.47\\nSubtotal Tax\\n$1.34\\nCommission (16%)\\n-$3.12\\nTotal Customer Refund\\n-$0.00\\nEstimated Payout\\n$17.69\\nAssociated Transactions (1)\\nTransaction #8080315650 - Delivery\\n$17.69\",\n",
    " \"Order: CA9E35CB\\nDelivered\\nThe order was delivered at 2:28 AM on September 28, 2023. \\nRate Dasher\\nGet help\\nDelivery Details\\nCustomer\\nAntonio G\\nDasher\\nRogelio\\nPicked Up\\n2:02 AM\\n(Quoted: 1:59 AM)\\nSeptember 28, 2023\\nDropped Off\\n2:28 AM\\n(Quoted: 2:33 AM)\\nSeptember 28, 2023\\nPick Up Location\\n801 Lafayette St, Laredo, TX 78041, USA\\nChannel\\nDoorDash\\nFulfillment\\nDoorDash Delivery\\nOrder Details\\n1\\n×\\nKettle Chips Jalapeno (5oz) (Chips & Popcorn TX)\\n$6.29\\n1\\n×\\nA&W Caffeine-Free Root Beer Bottle (20 oz) (Soda TX)\\n$3.79\\n1\\n×\\nCheetos Crunchy Flamin' Hot Limon (8.5 oz) (Chips & Popcorn TX)\\n$6.49\\nSubtotal\\n$16.57\\nSubtotal Tax\\n$0.31\\nCommission (16%)\\n-$2.65\\nTotal Customer Refund\\n-$0.00\\nEstimated Payout\\n$14.23\\nAssociated Transactions (1)\\nTransaction #8080266865 - Delivery\\n$14.23\",\n",
    " \"Order: D5782A52\\nCancelled - Paid\\nThe order was cancelled on September 28, 2023 at 1:00 AM. You’re paid for cancelled orders when you’ve successfully confirmed an order, it was prepared, and you did not initiate or are not at fault for the cancellation. Learn More\\nRate Dasher\\nGet help\\nDelivery Details\\nCustomer\\njenna s\\nDasher\\nTo be assigned\\n1 previous Dasher\\nEstimated Pick Up\\n12:44 AM\\nSeptember 28, 2023\\nEstimated Drop Off\\n1:11 AM\\nSeptember 28, 2023\\nPick Up Location\\n2503 TX-349, Midland, TX 79706, USA\\nChannel\\nDoorDash\\nFulfillment\\nDoorDash Delivery\\nOrder Details\\n1\\n×\\nHershey's Plain King Size (2.6 oz) (Chocolate TX)\\n$3.79\\n1\\n×\\nKraft Philadelphia Cream Cheese, 8oz (Cheese TX)\\n$8.39\\nSubtotal\\n$12.18\\nSubtotal Tax\\n$0.30\\nCommission (23%)\\n-$2.80\\nTotal Customer Refund\\n-$0.00\\nEstimated Payout\\n$9.68\\nAssociated Transactions (1)\\nTransaction #8080161083 - Delivery\\n$9.68\",\n",
    " 'Order: 5CDF188C\\nCancelled - Paid\\nThe order was cancelled on September 28, 2023 at 12:45 AM. You’re paid for cancelled orders when you’ve successfully confirmed an order, it was prepared, and you did not initiate or are not at fault for the cancellation. Learn More\\nGet help\\nDelivery Details\\nCustomer\\nErin B\\nDasher\\nTo be assigned\\nEstimated Pick Up\\n12:02 AM\\nSeptember 28, 2023\\nEstimated Drop Off\\n12:31 AM\\nSeptember 28, 2023\\nPick Up Location\\n3702 FM2147, Horseshoe Bay, TX 78657, USA\\nChannel\\nDoorDash\\nFulfillment\\nDoorDash Delivery\\nOrder Details\\n4\\n×\\nCorona Extra Beer Can (24 oz) (Import Beer 53/66/67)\\n$22.76\\nSubtotal\\n$22.76\\nSubtotal Tax\\n$1.88\\nCommission (25%)\\n-$5.69\\nTotal Customer Refund\\n-$0.00\\nEstimated Payout\\n$18.95\\nAssociated Transactions (1)\\nTransaction #8080129920 - Delivery\\n$18.95',\n",
    " \"Order: 0BC3FC5E\\nDelivered\\nThe order was delivered at 12:36 AM on September 28, 2023. \\nRate Dasher\\nGet help\\nDelivery Details\\nCustomer\\nReice W\\nDasher\\nCynthia\\nPicked Up\\n12:25 AM\\n(Quoted: 12:13 AM)\\nSeptember 28, 2023\\nDropped Off\\n12:36 AM\\n(Quoted: 12:37 AM)\\nSeptember 28, 2023\\nPick Up Location\\n2320 W Main St, Durant, OK 74701, USA\\nChannel\\nDoorDash\\nFulfillment\\nDoorDash Delivery\\nOrder Details\\n1\\n×\\nLay's Classic Potato Chips (7.75 oz) (Chips & Popcorn OK)\\n$5.79\\n1\\n×\\nReese's Peanut Butter Cups King Size (2.84 oz) (Chocolate OK)\\n$3.39\\n1\\n×\\nAir Heads Bites (2oz) (Fruity OK)\\n$4.99\\n1\\n×\\nCrush Orange Can (12pk 12oz) (Soda OK)\\n$11.29\\nSubtotal\\n$25.46\\nPromo Paid by DoorDash\\n-$15.00\\n(60% off, up to $15)\\nSubtotal for Tax Calculations\\n$10.46\\nSubtotal Tax\\n$0.98\\nCommission (23%)\\n-$5.86\\nTotal Customer Refund\\n-$0.00\\nEstimated Payout\\n$19.60\\nAssociated Transactions (1)\\nTransaction #8080078554 - Delivery\\n$19.60\"]"
   ],
   "metadata": {
    "collapsed": false
   },
   "id": "ee1cc9f8715b1da7"
  },
  {
   "cell_type": "code",
   "execution_count": 46,
   "outputs": [],
   "source": [
    "def clean_order_text(order):\n",
    "    # Define the patterns in a list\n",
    "    patterns = [\n",
    "        re.compile(r'(Rate Dasher|Learn More|Get help).*?(?=Pick Up Location)', re.DOTALL),\n",
    "        re.compile(r'Channel.*?(?=Order Details)', re.DOTALL),\n",
    "        re.compile(r'Associated Transactions \\(\\d+\\).*?(?=Transaction #\\d+ - Delivery)', re.DOTALL),\n",
    "        re.compile(r'Associated Transactions \\(\\d+\\).*?(?=Transaction #\\d+ - Pickup)', re.DOTALL)\n",
    "\n",
    "    ]\n",
    "\n",
    "    # Apply each pattern\n",
    "    for pattern in patterns:\n",
    "        order = re.sub(pattern, '', order).strip()\n",
    "\n",
    "    # Replace newline characters with spaces\n",
    "    order = order.replace('\\n', ' ')\n",
    "    print(f'order **************: {order}')\n",
    "\n",
    "    return order\n"
   ],
   "metadata": {
    "collapsed": false,
    "ExecuteTime": {
     "end_time": "2023-09-29T23:21:31.573662Z",
     "start_time": "2023-09-29T23:21:31.534452Z"
    }
   },
   "id": "1a29849fa066b91f"
  },
  {
   "cell_type": "code",
   "execution_count": 47,
   "outputs": [],
   "source": [
    "def parse_menu_items(price_as_value):\n",
    "    # Initialize a dictionary for the nested order details\n",
    "    item_name_to_item_price = {}\n",
    "\n",
    "    # Regular expression pattern to match an item and its corresponding price\n",
    "    pattern = re.compile(r'(.+?) (\\$\\d+\\.\\d+)')\n",
    "\n",
    "    # Find all matches in the string\n",
    "    matches = pattern.findall(price_as_value)\n",
    "\n",
    "    # Loop through all the matches and populate the dictionary\n",
    "    for item_name, item_price in matches:\n",
    "        item_name_to_item_price[item_name] = item_price\n",
    "\n",
    "    return item_name_to_item_price\n"
   ],
   "metadata": {
    "collapsed": false,
    "ExecuteTime": {
     "end_time": "2023-09-29T23:21:32.617217Z",
     "start_time": "2023-09-29T23:21:32.606801Z"
    }
   },
   "id": "48f8a5ee211cd0c"
  },
  {
   "cell_type": "code",
   "execution_count": 48,
   "outputs": [],
   "source": [
    "def parse_order(order):\n",
    "    # Define the known keys with their regex patterns\n",
    "    known_keys = [r'\\bOrder: \\b', r'\\bDelivered\\b', r'\\bCustomer\\sPicked\\sUp\\b', r'\\bCancelled\\s-\\sNot\\sPaid\\b', r'\\bCancelled\\s-\\sPaid\\b', r'\\bPick Up Location\\b', r'\\bOrder Details\\b',\n",
    "                  r'\\bSubtotal\\b(?=\\s[^a-zA-Z])', r'\\bSubtotal\\sTax\\b', r'Commission \\(\\d+%\\)',\n",
    "                  r'\\bTotal Customer Refund\\b', r'\\bEstimated Payout\\b', r'\\bAssociated Transactions \\(\\d+%\\)',\n",
    "                  r'Transaction #\\d+ - Delivery']\n",
    "\n",
    "    # Initialize the dictionary to store our parsed values\n",
    "    order_dict = {}\n",
    "\n",
    "    # Find positions of known keys\n",
    "    positions = []\n",
    "    for key in known_keys:\n",
    "        for m in re.finditer(key, order):\n",
    "            positions.append((m.start(), m.end(), m.group()))\n",
    "\n",
    "    # Sort positions by their start index\n",
    "    positions.sort(key=lambda x: x[0])\n",
    "    # print(positions)\n",
    "\n",
    "    # Create segments based on positions\n",
    "    segments = []\n",
    "\n",
    "    for i in range(len(positions)):\n",
    "        start = positions[i][1]\n",
    "        end = positions[i + 1][0] if i + 1 < len(positions) else len(order)\n",
    "        key = positions[i][2]\n",
    "        value = order[start:end].strip().split(' ')[0] if 'Estimated Payout' in key else order[start:end].strip()\n",
    "        segments.append((key, value))\n",
    "\n",
    "    # Parse segments into dictionary\n",
    "    for key, value in segments:\n",
    "        if key == \"Order Details\":\n",
    "            value = parse_menu_items(value)\n",
    "        order_dict[key.replace(':', '').strip()] = value\n",
    "\n",
    "    return order_dict\n"
   ],
   "metadata": {
    "collapsed": false,
    "ExecuteTime": {
     "end_time": "2023-09-29T23:21:33.186730Z",
     "start_time": "2023-09-29T23:21:33.181279Z"
    }
   },
   "id": "908a80250670f0ee"
  },
  {
   "cell_type": "code",
   "execution_count": 49,
   "outputs": [],
   "source": [
    "def main_looper_func(orders):\n",
    "\n",
    "    results = []\n",
    "\n",
    "    for order in orders:\n",
    "        # 1. Get order strings squeaky clean!\n",
    "        order_cleaned = clean_order_text(order)\n",
    "\n",
    "        # 2. Parse each cleaned order string into formatted key/value pairs\n",
    "        parsed_order = parse_order(order_cleaned)\n",
    "\n",
    "        results.append(parsed_order)\n",
    "\n",
    "    return results\n"
   ],
   "metadata": {
    "collapsed": false,
    "ExecuteTime": {
     "end_time": "2023-09-29T23:21:33.903123Z",
     "start_time": "2023-09-29T23:21:33.899222Z"
    }
   },
   "id": "2248d864d3a3b9a6"
  },
  {
   "cell_type": "code",
   "execution_count": 50,
   "outputs": [],
   "source": [
    "import re\n",
    "import json"
   ],
   "metadata": {
    "collapsed": false,
    "ExecuteTime": {
     "end_time": "2023-09-29T23:21:34.368341Z",
     "start_time": "2023-09-29T23:21:34.363993Z"
    }
   },
   "id": "e13f63df8f80cb94"
  },
  {
   "cell_type": "code",
   "execution_count": 51,
   "outputs": [
    {
     "name": "stdout",
     "output_type": "stream",
     "text": [
      "order **************: Order: A348DFB6 Delivered The order was delivered at 11:47 PM on September 28, 2023.  Pick Up Location 801 Lafayette St, Laredo, TX 78041, USA Order Details 1 × Ice Small (Fountain, Frozen, & Tea) $4.99 2 × TXB Water Bottle (24 pk) (16.9 oz) (Water TX) $14.98 Subtotal $19.97 Subtotal Tax $0.41 Commission (23%) -$4.59 Total Customer Refund -$0.00 Estimated Payout $15.79 Transaction #8087670804 - Delivery $15.79\n",
      "order **************: Order: EC218FA4 Delivered The order was delivered at 11:22 PM on September 28, 2023.  Pick Up Location 800 W Interstate 20, Big Spring, TX 79720, USA Order Details 1 × Ice Small (Fountain, Frozen, & Tea) $4.99 Subtotal $4.99 Subtotal Tax $0.41 Commission (16%) -$0.80 Total Customer Refund -$0.00 Estimated Payout $4.60 Transaction #8087614462 - Delivery $4.60\n",
      "order **************: Order: 7D285B12 Delivered The order was delivered at 10:23 PM on September 28, 2023.  Pick Up Location 800 W Interstate 20, Big Spring, TX 79720, USA Order Details 1 × Big Red Bottle (20oz) (Soda TX) $3.79 1 × Fountain Drink (Fountain, Frozen, & Tea) Drink Selection: Dr Pepper $0.00 1 × Crush Orange Bottle (20oz) (Soda TX) $3.79 1 × Big Blue Bottle (20oz) (Soda TX) $3.79 Subtotal $11.37 Subtotal Tax $0.94 Commission (23%) -$2.62 Total Customer Refund -$0.00 Estimated Payout $9.69 Transaction #8087246804 - Delivery $9.69\n",
      "order **************: Order: F9F46AEF Delivered The order was delivered at 7:47 PM on September 28, 2023.  Pick Up Location 1001 W Van Alstyne Pkwy, Van Alstyne, TX 75495, USA Order Details 1 × Cheetos Crunchy Flamin' Hot (3.25 oz) (Chips & Popcorn TX) $3.19 1 × Squirt Bottle (20 oz) (Soda TX) $3.19 2 × Dr Pepper Bottle (20 oz) (Soda TX) $7.58 1 × Doritos Nacho Cheese (9.25 oz) (Chips & Popcorn TX) $6.99 Subtotal $20.95 Subtotal Tax $0.89 Commission (23%) -$4.82 Total Customer Refund -$0.00 Estimated Payout $17.02 Transaction #8085798910 - Delivery $17.02\n",
      "order **************: Order: 7D8C6B67 Delivered The order was delivered at 6:07 PM on September 28, 2023.  Pick Up Location 3702 FM2147, Horseshoe Bay, TX 78657, USA Order Details 1 × Sprite Bottle (20 oz) (Soda TX) $3.19 2 × Dr Pepper Bottle (20 oz) (Soda TX) $7.58 Subtotal $10.77 Subtotal Tax $0.89 Commission (20%) -$2.15 Total Customer Refund -$0.00 Estimated Payout $9.51 Transaction #8084663509 - Delivery $9.51\n",
      "order **************: Order: 702662D6 Delivered The order was delivered at 4:16 PM on September 28, 2023.  Pick Up Location 201 S 9th St, Durant, OK 74701, USA Order Details 1 × Keystone Light Beer Can (12 oz x 15 ct) (Domestic Beer OK) $16.29 Subtotal $16.29 Subtotal Tax $1.53 Alcohol Fee -$1.00 Total Customer Refund -$0.00 Estimated Payout $15.29 Transaction #8083626907 - Delivery $15.29\n",
      "order **************: Order: 00BEC8AB Delivered The order was delivered at 11:48 AM on September 28, 2023.  Pick Up Location 816 N Center St, Bonham, TX 75418, USA Order Details 1 × Hand-Breaded Chicken Roll Sandwich (Hot Sandwiches TXB#6) Dipping Sauce: Honey Mustard Dipping Sauce Original or Spicy: Original $4.19 1 × Fountain Drink (Fountain, Frozen, & Tea) Drink Selection: Diet Dr Pepper $0.00 Subtotal $4.19 Subtotal Tax $0.35 Commission (16%) -$0.67 Total Customer Refund -$0.00 Estimated Payout $3.87 Transaction #8081758649 - Delivery $3.87\n",
      "order **************: Order: F20F6AE7 Delivered The order was delivered at 2:55 AM on September 28, 2023.  Pick Up Location 801 Lafayette St, Laredo, TX 78041, USA Order Details 1 × Cheetos Crunchy Flamin' Hot (3.25 oz) (Chips & Popcorn TX) $3.19 1 × Big Red Can (12 pk-12 oz) (Soda TX) $11.29 1 × Ice Small (Fountain, Frozen, & Tea) $4.99 Subtotal $19.47 Subtotal Tax $1.34 Commission (16%) -$3.12 Total Customer Refund -$0.00 Estimated Payout $17.69 Transaction #8080315650 - Delivery $17.69\n",
      "order **************: Order: CA9E35CB Delivered The order was delivered at 2:28 AM on September 28, 2023.  Pick Up Location 801 Lafayette St, Laredo, TX 78041, USA Order Details 1 × Kettle Chips Jalapeno (5oz) (Chips & Popcorn TX) $6.29 1 × A&W Caffeine-Free Root Beer Bottle (20 oz) (Soda TX) $3.79 1 × Cheetos Crunchy Flamin' Hot Limon (8.5 oz) (Chips & Popcorn TX) $6.49 Subtotal $16.57 Subtotal Tax $0.31 Commission (16%) -$2.65 Total Customer Refund -$0.00 Estimated Payout $14.23 Transaction #8080266865 - Delivery $14.23\n",
      "order **************: Order: D5782A52 Cancelled - Paid The order was cancelled on September 28, 2023 at 1:00 AM. You’re paid for cancelled orders when you’ve successfully confirmed an order, it was prepared, and you did not initiate or are not at fault for the cancellation. Pick Up Location 2503 TX-349, Midland, TX 79706, USA Order Details 1 × Hershey's Plain King Size (2.6 oz) (Chocolate TX) $3.79 1 × Kraft Philadelphia Cream Cheese, 8oz (Cheese TX) $8.39 Subtotal $12.18 Subtotal Tax $0.30 Commission (23%) -$2.80 Total Customer Refund -$0.00 Estimated Payout $9.68 Transaction #8080161083 - Delivery $9.68\n",
      "order **************: Order: 5CDF188C Cancelled - Paid The order was cancelled on September 28, 2023 at 12:45 AM. You’re paid for cancelled orders when you’ve successfully confirmed an order, it was prepared, and you did not initiate or are not at fault for the cancellation. Pick Up Location 3702 FM2147, Horseshoe Bay, TX 78657, USA Order Details 4 × Corona Extra Beer Can (24 oz) (Import Beer 53/66/67) $22.76 Subtotal $22.76 Subtotal Tax $1.88 Commission (25%) -$5.69 Total Customer Refund -$0.00 Estimated Payout $18.95 Transaction #8080129920 - Delivery $18.95\n",
      "order **************: Order: 0BC3FC5E Delivered The order was delivered at 12:36 AM on September 28, 2023.  Pick Up Location 2320 W Main St, Durant, OK 74701, USA Order Details 1 × Lay's Classic Potato Chips (7.75 oz) (Chips & Popcorn OK) $5.79 1 × Reese's Peanut Butter Cups King Size (2.84 oz) (Chocolate OK) $3.39 1 × Air Heads Bites (2oz) (Fruity OK) $4.99 1 × Crush Orange Can (12pk 12oz) (Soda OK) $11.29 Subtotal $25.46 Promo Paid by DoorDash -$15.00 (60% off, up to $15) Subtotal for Tax Calculations $10.46 Subtotal Tax $0.98 Commission (23%) -$5.86 Total Customer Refund -$0.00 Estimated Payout $19.60 Transaction #8080078554 - Delivery $19.60\n"
     ]
    }
   ],
   "source": [
    "results = main_looper_func(orders)"
   ],
   "metadata": {
    "collapsed": false,
    "ExecuteTime": {
     "end_time": "2023-09-29T23:21:35.405418Z",
     "start_time": "2023-09-29T23:21:35.392943Z"
    }
   },
   "id": "c5030719f048513b"
  },
  {
   "cell_type": "code",
   "execution_count": 40,
   "outputs": [
    {
     "name": "stdout",
     "output_type": "stream",
     "text": [
      "[\n",
      "    {\n",
      "        \"Order\": \"A348DFB6\",\n",
      "        \"Delivered\": \"The order was delivered at 11:47 PM on September 28, 2023.\",\n",
      "        \"Pick Up Location\": \"801 Lafayette St, Laredo, TX 78041, USA\",\n",
      "        \"Order Details\": {\n",
      "            \"1 \\u00d7 Ice Small (Fountain, Frozen, & Tea)\": \"$4.99\",\n",
      "            \" 2 \\u00d7 TXB Water Bottle (24 pk) (16.9 oz) (Water TX)\": \"$14.98\"\n",
      "        },\n",
      "        \"Subtotal\": \"$19.97\",\n",
      "        \"Subtotal Tax\": \"$0.41\",\n",
      "        \"Commission (23%)\": \"-$4.59\",\n",
      "        \"Total Customer Refund\": \"-$0.00\",\n",
      "        \"Estimated Payout\": \"$15.79\",\n",
      "        \"Transaction #8087670804 - Delivery\": \"$15.79\"\n",
      "    },\n",
      "    {\n",
      "        \"Order\": \"EC218FA4\",\n",
      "        \"Delivered\": \"The order was delivered at 11:22 PM on September 28, 2023.\",\n",
      "        \"Pick Up Location\": \"800 W Interstate 20, Big Spring, TX 79720, USA\",\n",
      "        \"Order Details\": {\n",
      "            \"1 \\u00d7 Ice Small (Fountain, Frozen, & Tea)\": \"$4.99\"\n",
      "        },\n",
      "        \"Subtotal\": \"$4.99\",\n",
      "        \"Subtotal Tax\": \"$0.41\",\n",
      "        \"Commission (16%)\": \"-$0.80\",\n",
      "        \"Total Customer Refund\": \"-$0.00\",\n",
      "        \"Estimated Payout\": \"$4.60\",\n",
      "        \"Transaction #8087614462 - Delivery\": \"$4.60\"\n",
      "    },\n",
      "    {\n",
      "        \"Order\": \"7D285B12\",\n",
      "        \"Delivered\": \"The order was delivered at 10:23 PM on September 28, 2023.\",\n",
      "        \"Pick Up Location\": \"800 W Interstate 20, Big Spring, TX 79720, USA\",\n",
      "        \"Order Details\": {\n",
      "            \"1 \\u00d7 Big Red Bottle (20oz) (Soda TX)\": \"$3.79\",\n",
      "            \" 1 \\u00d7 Fountain Drink (Fountain, Frozen, & Tea) Drink Selection: Dr Pepper\": \"$0.00\",\n",
      "            \" 1 \\u00d7 Crush Orange Bottle (20oz) (Soda TX)\": \"$3.79\",\n",
      "            \" 1 \\u00d7 Big Blue Bottle (20oz) (Soda TX)\": \"$3.79\"\n",
      "        },\n",
      "        \"Subtotal\": \"$11.37\",\n",
      "        \"Subtotal Tax\": \"$0.94\",\n",
      "        \"Commission (23%)\": \"-$2.62\",\n",
      "        \"Total Customer Refund\": \"-$0.00\",\n",
      "        \"Estimated Payout\": \"$9.69\",\n",
      "        \"Transaction #8087246804 - Delivery\": \"$9.69\"\n",
      "    },\n",
      "    {\n",
      "        \"Order\": \"F9F46AEF\",\n",
      "        \"Delivered\": \"The order was delivered at 7:47 PM on September 28, 2023.\",\n",
      "        \"Pick Up Location\": \"1001 W Van Alstyne Pkwy, Van Alstyne, TX 75495, USA\",\n",
      "        \"Order Details\": {\n",
      "            \"1 \\u00d7 Cheetos Crunchy Flamin' Hot (3.25 oz) (Chips & Popcorn TX)\": \"$3.19\",\n",
      "            \" 1 \\u00d7 Squirt Bottle (20 oz) (Soda TX)\": \"$3.19\",\n",
      "            \" 2 \\u00d7 Dr Pepper Bottle (20 oz) (Soda TX)\": \"$7.58\",\n",
      "            \" 1 \\u00d7 Doritos Nacho Cheese (9.25 oz) (Chips & Popcorn TX)\": \"$6.99\"\n",
      "        },\n",
      "        \"Subtotal\": \"$20.95\",\n",
      "        \"Subtotal Tax\": \"$0.89\",\n",
      "        \"Commission (23%)\": \"-$4.82\",\n",
      "        \"Total Customer Refund\": \"-$0.00\",\n",
      "        \"Estimated Payout\": \"$17.02\",\n",
      "        \"Transaction #8085798910 - Delivery\": \"$17.02\"\n",
      "    },\n",
      "    {\n",
      "        \"Order\": \"7D8C6B67\",\n",
      "        \"Delivered\": \"The order was delivered at 6:07 PM on September 28, 2023.\",\n",
      "        \"Pick Up Location\": \"3702 FM2147, Horseshoe Bay, TX 78657, USA\",\n",
      "        \"Order Details\": {\n",
      "            \"1 \\u00d7 Sprite Bottle (20 oz) (Soda TX)\": \"$3.19\",\n",
      "            \" 2 \\u00d7 Dr Pepper Bottle (20 oz) (Soda TX)\": \"$7.58\"\n",
      "        },\n",
      "        \"Subtotal\": \"$10.77\",\n",
      "        \"Subtotal Tax\": \"$0.89\",\n",
      "        \"Commission (20%)\": \"-$2.15\",\n",
      "        \"Total Customer Refund\": \"-$0.00\",\n",
      "        \"Estimated Payout\": \"$9.51\",\n",
      "        \"Transaction #8084663509 - Delivery\": \"$9.51\"\n",
      "    },\n",
      "    {\n",
      "        \"Order\": \"702662D6\",\n",
      "        \"Delivered\": \"The order was delivered at 4:16 PM on September 28, 2023.\",\n",
      "        \"Pick Up Location\": \"201 S 9th St, Durant, OK 74701, USA\",\n",
      "        \"Order Details\": {\n",
      "            \"1 \\u00d7 Keystone Light Beer Can (12 oz x 15 ct) (Domestic Beer OK)\": \"$16.29\"\n",
      "        },\n",
      "        \"Subtotal\": \"$16.29\",\n",
      "        \"Subtotal Tax\": \"$1.53 Alcohol Fee -$1.00\",\n",
      "        \"Total Customer Refund\": \"-$0.00\",\n",
      "        \"Estimated Payout\": \"$15.29\",\n",
      "        \"Transaction #8083626907 - Delivery\": \"$15.29\"\n",
      "    },\n",
      "    {\n",
      "        \"Order\": \"00BEC8AB\",\n",
      "        \"Delivered\": \"The order was delivered at 11:48 AM on September 28, 2023.\",\n",
      "        \"Pick Up Location\": \"816 N Center St, Bonham, TX 75418, USA\",\n",
      "        \"Order Details\": {\n",
      "            \"1 \\u00d7 Hand-Breaded Chicken Roll Sandwich (Hot Sandwiches TXB#6) Dipping Sauce: Honey Mustard Dipping Sauce Original or Spicy: Original\": \"$4.19\",\n",
      "            \" 1 \\u00d7 Fountain Drink (Fountain, Frozen, & Tea) Drink Selection: Diet Dr Pepper\": \"$0.00\"\n",
      "        },\n",
      "        \"Subtotal\": \"$4.19\",\n",
      "        \"Subtotal Tax\": \"$0.35\",\n",
      "        \"Commission (16%)\": \"-$0.67\",\n",
      "        \"Total Customer Refund\": \"-$0.00\",\n",
      "        \"Estimated Payout\": \"$3.87\",\n",
      "        \"Transaction #8081758649 - Delivery\": \"$3.87\"\n",
      "    },\n",
      "    {\n",
      "        \"Order\": \"F20F6AE7\",\n",
      "        \"Delivered\": \"The order was delivered at 2:55 AM on September 28, 2023.\",\n",
      "        \"Pick Up Location\": \"801 Lafayette St, Laredo, TX 78041, USA\",\n",
      "        \"Order Details\": {\n",
      "            \"1 \\u00d7 Cheetos Crunchy Flamin' Hot (3.25 oz) (Chips & Popcorn TX)\": \"$3.19\",\n",
      "            \" 1 \\u00d7 Big Red Can (12 pk-12 oz) (Soda TX)\": \"$11.29\",\n",
      "            \" 1 \\u00d7 Ice Small (Fountain, Frozen, & Tea)\": \"$4.99\"\n",
      "        },\n",
      "        \"Subtotal\": \"$19.47\",\n",
      "        \"Subtotal Tax\": \"$1.34\",\n",
      "        \"Commission (16%)\": \"-$3.12\",\n",
      "        \"Total Customer Refund\": \"-$0.00\",\n",
      "        \"Estimated Payout\": \"$17.69\",\n",
      "        \"Transaction #8080315650 - Delivery\": \"$17.69\"\n",
      "    },\n",
      "    {\n",
      "        \"Order\": \"CA9E35CB\",\n",
      "        \"Delivered\": \"The order was delivered at 2:28 AM on September 28, 2023.\",\n",
      "        \"Pick Up Location\": \"801 Lafayette St, Laredo, TX 78041, USA\",\n",
      "        \"Order Details\": {\n",
      "            \"1 \\u00d7 Kettle Chips Jalapeno (5oz) (Chips & Popcorn TX)\": \"$6.29\",\n",
      "            \" 1 \\u00d7 A&W Caffeine-Free Root Beer Bottle (20 oz) (Soda TX)\": \"$3.79\",\n",
      "            \" 1 \\u00d7 Cheetos Crunchy Flamin' Hot Limon (8.5 oz) (Chips & Popcorn TX)\": \"$6.49\"\n",
      "        },\n",
      "        \"Subtotal\": \"$16.57\",\n",
      "        \"Subtotal Tax\": \"$0.31\",\n",
      "        \"Commission (16%)\": \"-$2.65\",\n",
      "        \"Total Customer Refund\": \"-$0.00\",\n",
      "        \"Estimated Payout\": \"$14.23\",\n",
      "        \"Transaction #8080266865 - Delivery\": \"$14.23\"\n",
      "    },\n",
      "    {\n",
      "        \"Order\": \"D5782A52\",\n",
      "        \"Cancelled - Paid\": \"The order was cancelled on September 28, 2023 at 1:00 AM. You\\u2019re paid for cancelled orders when you\\u2019ve successfully confirmed an order, it was prepared, and you did not initiate or are not at fault for the cancellation.\",\n",
      "        \"Pick Up Location\": \"2503 TX-349, Midland, TX 79706, USA\",\n",
      "        \"Order Details\": {\n",
      "            \"1 \\u00d7 Hershey's Plain King Size (2.6 oz) (Chocolate TX)\": \"$3.79\",\n",
      "            \" 1 \\u00d7 Kraft Philadelphia Cream Cheese, 8oz (Cheese TX)\": \"$8.39\"\n",
      "        },\n",
      "        \"Subtotal\": \"$12.18\",\n",
      "        \"Subtotal Tax\": \"$0.30\",\n",
      "        \"Commission (23%)\": \"-$2.80\",\n",
      "        \"Total Customer Refund\": \"-$0.00\",\n",
      "        \"Estimated Payout\": \"$9.68\",\n",
      "        \"Transaction #8080161083 - Delivery\": \"$9.68\"\n",
      "    },\n",
      "    {\n",
      "        \"Order\": \"5CDF188C\",\n",
      "        \"Cancelled - Paid\": \"The order was cancelled on September 28, 2023 at 12:45 AM. You\\u2019re paid for cancelled orders when you\\u2019ve successfully confirmed an order, it was prepared, and you did not initiate or are not at fault for the cancellation.\",\n",
      "        \"Pick Up Location\": \"3702 FM2147, Horseshoe Bay, TX 78657, USA\",\n",
      "        \"Order Details\": {\n",
      "            \"4 \\u00d7 Corona Extra Beer Can (24 oz) (Import Beer 53/66/67)\": \"$22.76\"\n",
      "        },\n",
      "        \"Subtotal\": \"$22.76\",\n",
      "        \"Subtotal Tax\": \"$1.88\",\n",
      "        \"Commission (25%)\": \"-$5.69\",\n",
      "        \"Total Customer Refund\": \"-$0.00\",\n",
      "        \"Estimated Payout\": \"$18.95\",\n",
      "        \"Transaction #8080129920 - Delivery\": \"$18.95\"\n",
      "    },\n",
      "    {\n",
      "        \"Order\": \"0BC3FC5E\",\n",
      "        \"Delivered\": \"The order was delivered at 12:36 AM on September 28, 2023.\",\n",
      "        \"Pick Up Location\": \"2320 W Main St, Durant, OK 74701, USA\",\n",
      "        \"Order Details\": {\n",
      "            \"1 \\u00d7 Lay's Classic Potato Chips (7.75 oz) (Chips & Popcorn OK)\": \"$5.79\",\n",
      "            \" 1 \\u00d7 Reese's Peanut Butter Cups King Size (2.84 oz) (Chocolate OK)\": \"$3.39\",\n",
      "            \" 1 \\u00d7 Air Heads Bites (2oz) (Fruity OK)\": \"$4.99\",\n",
      "            \" 1 \\u00d7 Crush Orange Can (12pk 12oz) (Soda OK)\": \"$11.29\"\n",
      "        },\n",
      "        \"Subtotal\": \"$25.46 Promo Paid by DoorDash -$15.00 (60% off, up to $15) Subtotal for Tax Calculations $10.46\",\n",
      "        \"Subtotal Tax\": \"$0.98\",\n",
      "        \"Commission (23%)\": \"-$5.86\",\n",
      "        \"Total Customer Refund\": \"-$0.00\",\n",
      "        \"Estimated Payout\": \"$19.60\",\n",
      "        \"Transaction #8080078554 - Delivery\": \"$19.60\"\n",
      "    }\n",
      "]\n"
     ]
    }
   ],
   "source": [
    "def prettify_list_of_dicts(list_of_dicts):\n",
    "    return json.dumps(list_of_dicts, indent=4)\n",
    "\n",
    "\n",
    "print(prettify_list_of_dicts(results))\n",
    "\n"
   ],
   "metadata": {
    "collapsed": false,
    "ExecuteTime": {
     "end_time": "2023-09-29T23:20:41.761457Z",
     "start_time": "2023-09-29T23:20:41.757290Z"
    }
   },
   "id": "1c8f195d766aae07"
  },
  {
   "cell_type": "code",
   "execution_count": 18,
   "outputs": [],
   "source": [
    "list_of_mapped_orders = [\n",
    "    {\n",
    "        \"Order\": \"A348DFB6\",\n",
    "        \"Delivered\": \"The order was delivered at 11:47 PM on September 28, 2023.\",\n",
    "        \"Pick Up Location\": \"801 Lafayette St, Laredo, TX 78041, USA\",\n",
    "        \"Order Details\": {\n",
    "            \"1 \\u00d7 Ice Small (Fountain, Frozen, & Tea)\": \"$4.99\",\n",
    "            \" 2 \\u00d7 TXB Water Bottle (24 pk) (16.9 oz) (Water TX)\": \"$14.98\"\n",
    "        },\n",
    "        \"Subtotal\": \"$19.97\",\n",
    "        \"Subtotal Tax\": \"$0.41\",\n",
    "        \"Commission (23%)\": \"-$4.59\",\n",
    "        \"Total Customer Refund\": \"-$0.00\",\n",
    "        \"Estimated Payout\": \"$15.79\",\n",
    "        \"Transaction #8087670804 - Delivery\": \"$15.79\"\n",
    "    },\n",
    "    {\n",
    "        \"Order\": \"EC218FA4\",\n",
    "        \"Delivered\": \"The order was delivered at 11:22 PM on September 28, 2023.\",\n",
    "        \"Pick Up Location\": \"800 W Interstate 20, Big Spring, TX 79720, USA\",\n",
    "        \"Order Details\": {\n",
    "            \"1 \\u00d7 Ice Small (Fountain, Frozen, & Tea)\": \"$4.99\"\n",
    "        },\n",
    "        \"Subtotal\": \"$4.99\",\n",
    "        \"Subtotal Tax\": \"$0.41\",\n",
    "        \"Commission (16%)\": \"-$0.80\",\n",
    "        \"Total Customer Refund\": \"-$0.00\",\n",
    "        \"Estimated Payout\": \"$4.60\",\n",
    "        \"Transaction #8087614462 - Delivery\": \"$4.60\"\n",
    "    },\n",
    "    {\n",
    "        \"Order\": \"7D285B12\",\n",
    "        \"Delivered\": \"The order was delivered at 10:23 PM on September 28, 2023.\",\n",
    "        \"Pick Up Location\": \"800 W Interstate 20, Big Spring, TX 79720, USA\",\n",
    "        \"Order Details\": {\n",
    "            \"1 \\u00d7 Big Red Bottle (20oz) (Soda TX)\": \"$3.79\",\n",
    "            \" 1 \\u00d7 Fountain Drink (Fountain, Frozen, & Tea) Drink Selection: Dr Pepper\": \"$0.00\",\n",
    "            \" 1 \\u00d7 Crush Orange Bottle (20oz) (Soda TX)\": \"$3.79\",\n",
    "            \" 1 \\u00d7 Big Blue Bottle (20oz) (Soda TX)\": \"$3.79\"\n",
    "        },\n",
    "        \"Subtotal\": \"$11.37\",\n",
    "        \"Subtotal Tax\": \"$0.94\",\n",
    "        \"Commission (23%)\": \"-$2.62\",\n",
    "        \"Total Customer Refund\": \"-$0.00\",\n",
    "        \"Estimated Payout\": \"$9.69\",\n",
    "        \"Transaction #8087246804 - Delivery\": \"$9.69\"\n",
    "    },\n",
    "    {\n",
    "        \"Order\": \"F9F46AEF\",\n",
    "        \"Delivered\": \"The order was delivered at 7:47 PM on September 28, 2023.\",\n",
    "        \"Pick Up Location\": \"1001 W Van Alstyne Pkwy, Van Alstyne, TX 75495, USA\",\n",
    "        \"Order Details\": {\n",
    "            \"1 \\u00d7 Cheetos Crunchy Flamin' Hot (3.25 oz) (Chips & Popcorn TX)\": \"$3.19\",\n",
    "            \" 1 \\u00d7 Squirt Bottle (20 oz) (Soda TX)\": \"$3.19\",\n",
    "            \" 2 \\u00d7 Dr Pepper Bottle (20 oz) (Soda TX)\": \"$7.58\",\n",
    "            \" 1 \\u00d7 Doritos Nacho Cheese (9.25 oz) (Chips & Popcorn TX)\": \"$6.99\"\n",
    "        },\n",
    "        \"Subtotal\": \"$20.95\",\n",
    "        \"Subtotal Tax\": \"$0.89\",\n",
    "        \"Commission (23%)\": \"-$4.82\",\n",
    "        \"Total Customer Refund\": \"-$0.00\",\n",
    "        \"Estimated Payout\": \"$17.02\",\n",
    "        \"Transaction #8085798910 - Delivery\": \"$17.02\"\n",
    "    },\n",
    "    {\n",
    "        \"Order\": \"7D8C6B67\",\n",
    "        \"Delivered\": \"The order was delivered at 6:07 PM on September 28, 2023.\",\n",
    "        \"Pick Up Location\": \"3702 FM2147, Horseshoe Bay, TX 78657, USA\",\n",
    "        \"Order Details\": {\n",
    "            \"1 \\u00d7 Sprite Bottle (20 oz) (Soda TX)\": \"$3.19\",\n",
    "            \" 2 \\u00d7 Dr Pepper Bottle (20 oz) (Soda TX)\": \"$7.58\"\n",
    "        },\n",
    "        \"Subtotal\": \"$10.77\",\n",
    "        \"Subtotal Tax\": \"$0.89\",\n",
    "        \"Commission (20%)\": \"-$2.15\",\n",
    "        \"Total Customer Refund\": \"-$0.00\",\n",
    "        \"Estimated Payout\": \"$9.51\",\n",
    "        \"Transaction #8084663509 - Delivery\": \"$9.51\"\n",
    "    },\n",
    "    {\n",
    "        \"Order\": \"702662D6\",\n",
    "        \"Delivered\": \"The order was delivered at 4:16 PM on September 28, 2023.\",\n",
    "        \"Pick Up Location\": \"201 S 9th St, Durant, OK 74701, USA\",\n",
    "        \"Order Details\": {\n",
    "            \"1 \\u00d7 Keystone Light Beer Can (12 oz x 15 ct) (Domestic Beer OK)\": \"$16.29\"\n",
    "        },\n",
    "        \"Subtotal\": \"$16.29\",\n",
    "        \"Subtotal Tax\": \"$1.53 Alcohol Fee -$1.00\",\n",
    "        \"Total Customer Refund\": \"-$0.00\",\n",
    "        \"Estimated Payout\": \"$15.29\",\n",
    "        \"Transaction #8083626907 - Delivery\": \"$15.29\"\n",
    "    },\n",
    "    {\n",
    "        \"Order\": \"00BEC8AB\",\n",
    "        \"Delivered\": \"The order was delivered at 11:48 AM on September 28, 2023.\",\n",
    "        \"Pick Up Location\": \"816 N Center St, Bonham, TX 75418, USA\",\n",
    "        \"Order Details\": {\n",
    "            \"1 \\u00d7 Hand-Breaded Chicken Roll Sandwich (Hot Sandwiches TXB#6) Dipping Sauce: Honey Mustard Dipping Sauce Original or Spicy: Original\": \"$4.19\",\n",
    "            \" 1 \\u00d7 Fountain Drink (Fountain, Frozen, & Tea) Drink Selection: Diet Dr Pepper\": \"$0.00\"\n",
    "        },\n",
    "        \"Subtotal\": \"$4.19\",\n",
    "        \"Subtotal Tax\": \"$0.35\",\n",
    "        \"Commission (16%)\": \"-$0.67\",\n",
    "        \"Total Customer Refund\": \"-$0.00\",\n",
    "        \"Estimated Payout\": \"$3.87\",\n",
    "        \"Transaction #8081758649 - Delivery\": \"$3.87\"\n",
    "    },\n",
    "    {\n",
    "        \"Order\": \"F20F6AE7\",\n",
    "        \"Delivered\": \"The order was delivered at 2:55 AM on September 28, 2023.\",\n",
    "        \"Pick Up Location\": \"801 Lafayette St, Laredo, TX 78041, USA\",\n",
    "        \"Order Details\": {\n",
    "            \"1 \\u00d7 Cheetos Crunchy Flamin' Hot (3.25 oz) (Chips & Popcorn TX)\": \"$3.19\",\n",
    "            \" 1 \\u00d7 Big Red Can (12 pk-12 oz) (Soda TX)\": \"$11.29\",\n",
    "            \" 1 \\u00d7 Ice Small (Fountain, Frozen, & Tea)\": \"$4.99\"\n",
    "        },\n",
    "        \"Subtotal\": \"$19.47\",\n",
    "        \"Subtotal Tax\": \"$1.34\",\n",
    "        \"Commission (16%)\": \"-$3.12\",\n",
    "        \"Total Customer Refund\": \"-$0.00\",\n",
    "        \"Estimated Payout\": \"$17.69\",\n",
    "        \"Transaction #8080315650 - Delivery\": \"$17.69\"\n",
    "    },\n",
    "    {\n",
    "        \"Order\": \"CA9E35CB\",\n",
    "        \"Delivered\": \"The order was delivered at 2:28 AM on September 28, 2023.\",\n",
    "        \"Pick Up Location\": \"801 Lafayette St, Laredo, TX 78041, USA\",\n",
    "        \"Order Details\": {\n",
    "            \"1 \\u00d7 Kettle Chips Jalapeno (5oz) (Chips & Popcorn TX)\": \"$6.29\",\n",
    "            \" 1 \\u00d7 A&W Caffeine-Free Root Beer Bottle (20 oz) (Soda TX)\": \"$3.79\",\n",
    "            \" 1 \\u00d7 Cheetos Crunchy Flamin' Hot Limon (8.5 oz) (Chips & Popcorn TX)\": \"$6.49\"\n",
    "        },\n",
    "        \"Subtotal\": \"$16.57\",\n",
    "        \"Subtotal Tax\": \"$0.31\",\n",
    "        \"Commission (16%)\": \"-$2.65\",\n",
    "        \"Total Customer Refund\": \"-$0.00\",\n",
    "        \"Estimated Payout\": \"$14.23\",\n",
    "        \"Transaction #8080266865 - Delivery\": \"$14.23\"\n",
    "    },\n",
    "    {\n",
    "        \"Order\": \"D5782A52\",\n",
    "        \"Cancelled - Paid\": \"The order was cancelled on September 28, 2023 at 1:00 AM. You\\u2019re paid for cancelled orders when you\\u2019ve successfully confirmed an order, it was prepared, and you did not initiate or are not at fault for the cancellation.\",\n",
    "        \"Pick Up Location\": \"2503 TX-349, Midland, TX 79706, USA\",\n",
    "        \"Order Details\": {\n",
    "            \"1 \\u00d7 Hershey's Plain King Size (2.6 oz) (Chocolate TX)\": \"$3.79\",\n",
    "            \" 1 \\u00d7 Kraft Philadelphia Cream Cheese, 8oz (Cheese TX)\": \"$8.39\"\n",
    "        },\n",
    "        \"Subtotal\": \"$12.18\",\n",
    "        \"Subtotal Tax\": \"$0.30\",\n",
    "        \"Commission (23%)\": \"-$2.80\",\n",
    "        \"Total Customer Refund\": \"-$0.00\",\n",
    "        \"Estimated Payout\": \"$9.68\",\n",
    "        \"Transaction #8080161083 - Delivery\": \"$9.68\"\n",
    "    },\n",
    "    {\n",
    "        \"Order\": \"5CDF188C\",\n",
    "        \"Cancelled - Paid\": \"The order was cancelled on September 28, 2023 at 12:45 AM. You\\u2019re paid for cancelled orders when you\\u2019ve successfully confirmed an order, it was prepared, and you did not initiate or are not at fault for the cancellation.\",\n",
    "        \"Pick Up Location\": \"3702 FM2147, Horseshoe Bay, TX 78657, USA\",\n",
    "        \"Order Details\": {\n",
    "            \"4 \\u00d7 Corona Extra Beer Can (24 oz) (Import Beer 53/66/67)\": \"$22.76\"\n",
    "        },\n",
    "        \"Subtotal\": \"$22.76\",\n",
    "        \"Subtotal Tax\": \"$1.88\",\n",
    "        \"Commission (25%)\": \"-$5.69\",\n",
    "        \"Total Customer Refund\": \"-$0.00\",\n",
    "        \"Estimated Payout\": \"$18.95\",\n",
    "        \"Transaction #8080129920 - Delivery\": \"$18.95\"\n",
    "    },\n",
    "    {\n",
    "        \"Order\": \"0BC3FC5E\",\n",
    "        \"Delivered\": \"The order was delivered at 12:36 AM on September 28, 2023.\",\n",
    "        \"Pick Up Location\": \"2320 W Main St, Durant, OK 74701, USA\",\n",
    "        \"Order Details\": {\n",
    "            \"1 \\u00d7 Lay's Classic Potato Chips (7.75 oz) (Chips & Popcorn OK)\": \"$5.79\",\n",
    "            \" 1 \\u00d7 Reese's Peanut Butter Cups King Size (2.84 oz) (Chocolate OK)\": \"$3.39\",\n",
    "            \" 1 \\u00d7 Air Heads Bites (2oz) (Fruity OK)\": \"$4.99\",\n",
    "            \" 1 \\u00d7 Crush Orange Can (12pk 12oz) (Soda OK)\": \"$11.29\"\n",
    "        },\n",
    "        \"Subtotal\": \"$25.46 Promo Paid by DoorDash -$15.00 (60% off, up to $15) Subtotal for Tax Calculations $10.46\",\n",
    "        \"Subtotal Tax\": \"$0.98\",\n",
    "        \"Commission (23%)\": \"-$5.86\",\n",
    "        \"Total Customer Refund\": \"-$0.00\",\n",
    "        \"Estimated Payout\": \"$19.60\",\n",
    "        \"Transaction #8080078554 - Delivery\": \"$19.60\"\n",
    "    }\n",
    "]\n"
   ],
   "metadata": {
    "collapsed": false,
    "ExecuteTime": {
     "end_time": "2023-09-29T23:47:11.331470Z",
     "start_time": "2023-09-29T23:47:11.305141Z"
    }
   },
   "id": "d5defd6160bfb728"
  },
  {
   "cell_type": "code",
   "execution_count": 24,
   "outputs": [],
   "source": [
    "def get_flatten_order(d, parent_key='', sep='.'):\n",
    "    order = {}\n",
    "    for k, v in d.items():\n",
    "        new_key = f'{parent_key}{sep}{k}' if parent_key else k\n",
    "        if isinstance(v, dict):\n",
    "            order.update(get_flatten_order(v, new_key, sep=sep))\n",
    "        else:\n",
    "            order[new_key] = v\n",
    "    return order"
   ],
   "metadata": {
    "collapsed": false,
    "ExecuteTime": {
     "end_time": "2023-09-30T00:07:48.413300Z",
     "start_time": "2023-09-30T00:07:48.401216Z"
    }
   },
   "id": "7874b54b5bf146c9"
  },
  {
   "cell_type": "code",
   "execution_count": 25,
   "outputs": [],
   "source": [
    "def get_flattened_orders(orders):\n",
    "    flattened_orders = []\n",
    "    for order in orders:\n",
    "        flattened_order = get_flatten_order(order)\n",
    "        flattened_orders.append(flattened_order)\n",
    "    return flattened_orders"
   ],
   "metadata": {
    "collapsed": false,
    "ExecuteTime": {
     "end_time": "2023-09-30T00:08:32.815982Z",
     "start_time": "2023-09-30T00:08:32.809254Z"
    }
   },
   "id": "9f2cb90f4a0308bd"
  },
  {
   "cell_type": "code",
   "execution_count": 54,
   "outputs": [
    {
     "data": {
      "text/plain": "[{'Order': 'A348DFB6',\n  'Delivered': 'The order was delivered at 11:47 PM on September 28, 2023.',\n  'Pick Up Location': '801 Lafayette St, Laredo, TX 78041, USA',\n  'Order Details.1 × Ice Small (Fountain, Frozen, & Tea)': '$4.99',\n  'Order Details. 2 × TXB Water Bottle (24 pk) (16.9 oz) (Water TX)': '$14.98',\n  'Subtotal': '$19.97',\n  'Subtotal Tax': '$0.41',\n  'Commission (23%)': '-$4.59',\n  'Total Customer Refund': '-$0.00',\n  'Estimated Payout': '$15.79',\n  'Transaction #8087670804 - Delivery': '$15.79'},\n {'Order': 'EC218FA4',\n  'Delivered': 'The order was delivered at 11:22 PM on September 28, 2023.',\n  'Pick Up Location': '800 W Interstate 20, Big Spring, TX 79720, USA',\n  'Order Details.1 × Ice Small (Fountain, Frozen, & Tea)': '$4.99',\n  'Subtotal': '$4.99',\n  'Subtotal Tax': '$0.41',\n  'Commission (16%)': '-$0.80',\n  'Total Customer Refund': '-$0.00',\n  'Estimated Payout': '$4.60',\n  'Transaction #8087614462 - Delivery': '$4.60'},\n {'Order': '7D285B12',\n  'Delivered': 'The order was delivered at 10:23 PM on September 28, 2023.',\n  'Pick Up Location': '800 W Interstate 20, Big Spring, TX 79720, USA',\n  'Order Details.1 × Big Red Bottle (20oz) (Soda TX)': '$3.79',\n  'Order Details. 1 × Fountain Drink (Fountain, Frozen, & Tea) Drink Selection: Dr Pepper': '$0.00',\n  'Order Details. 1 × Crush Orange Bottle (20oz) (Soda TX)': '$3.79',\n  'Order Details. 1 × Big Blue Bottle (20oz) (Soda TX)': '$3.79',\n  'Subtotal': '$11.37',\n  'Subtotal Tax': '$0.94',\n  'Commission (23%)': '-$2.62',\n  'Total Customer Refund': '-$0.00',\n  'Estimated Payout': '$9.69',\n  'Transaction #8087246804 - Delivery': '$9.69'},\n {'Order': 'F9F46AEF',\n  'Delivered': 'The order was delivered at 7:47 PM on September 28, 2023.',\n  'Pick Up Location': '1001 W Van Alstyne Pkwy, Van Alstyne, TX 75495, USA',\n  \"Order Details.1 × Cheetos Crunchy Flamin' Hot (3.25 oz) (Chips & Popcorn TX)\": '$3.19',\n  'Order Details. 1 × Squirt Bottle (20 oz) (Soda TX)': '$3.19',\n  'Order Details. 2 × Dr Pepper Bottle (20 oz) (Soda TX)': '$7.58',\n  'Order Details. 1 × Doritos Nacho Cheese (9.25 oz) (Chips & Popcorn TX)': '$6.99',\n  'Subtotal': '$20.95',\n  'Subtotal Tax': '$0.89',\n  'Commission (23%)': '-$4.82',\n  'Total Customer Refund': '-$0.00',\n  'Estimated Payout': '$17.02',\n  'Transaction #8085798910 - Delivery': '$17.02'},\n {'Order': '7D8C6B67',\n  'Delivered': 'The order was delivered at 6:07 PM on September 28, 2023.',\n  'Pick Up Location': '3702 FM2147, Horseshoe Bay, TX 78657, USA',\n  'Order Details.1 × Sprite Bottle (20 oz) (Soda TX)': '$3.19',\n  'Order Details. 2 × Dr Pepper Bottle (20 oz) (Soda TX)': '$7.58',\n  'Subtotal': '$10.77',\n  'Subtotal Tax': '$0.89',\n  'Commission (20%)': '-$2.15',\n  'Total Customer Refund': '-$0.00',\n  'Estimated Payout': '$9.51',\n  'Transaction #8084663509 - Delivery': '$9.51'},\n {'Order': '702662D6',\n  'Delivered': 'The order was delivered at 4:16 PM on September 28, 2023.',\n  'Pick Up Location': '201 S 9th St, Durant, OK 74701, USA',\n  'Order Details.1 × Keystone Light Beer Can (12 oz x 15 ct) (Domestic Beer OK)': '$16.29',\n  'Subtotal': '$16.29',\n  'Subtotal Tax': '$1.53 Alcohol Fee -$1.00',\n  'Total Customer Refund': '-$0.00',\n  'Estimated Payout': '$15.29',\n  'Transaction #8083626907 - Delivery': '$15.29'},\n {'Order': '00BEC8AB',\n  'Delivered': 'The order was delivered at 11:48 AM on September 28, 2023.',\n  'Pick Up Location': '816 N Center St, Bonham, TX 75418, USA',\n  'Order Details.1 × Hand-Breaded Chicken Roll Sandwich (Hot Sandwiches TXB#6) Dipping Sauce: Honey Mustard Dipping Sauce Original or Spicy: Original': '$4.19',\n  'Order Details. 1 × Fountain Drink (Fountain, Frozen, & Tea) Drink Selection: Diet Dr Pepper': '$0.00',\n  'Subtotal': '$4.19',\n  'Subtotal Tax': '$0.35',\n  'Commission (16%)': '-$0.67',\n  'Total Customer Refund': '-$0.00',\n  'Estimated Payout': '$3.87',\n  'Transaction #8081758649 - Delivery': '$3.87'},\n {'Order': 'F20F6AE7',\n  'Delivered': 'The order was delivered at 2:55 AM on September 28, 2023.',\n  'Pick Up Location': '801 Lafayette St, Laredo, TX 78041, USA',\n  \"Order Details.1 × Cheetos Crunchy Flamin' Hot (3.25 oz) (Chips & Popcorn TX)\": '$3.19',\n  'Order Details. 1 × Big Red Can (12 pk-12 oz) (Soda TX)': '$11.29',\n  'Order Details. 1 × Ice Small (Fountain, Frozen, & Tea)': '$4.99',\n  'Subtotal': '$19.47',\n  'Subtotal Tax': '$1.34',\n  'Commission (16%)': '-$3.12',\n  'Total Customer Refund': '-$0.00',\n  'Estimated Payout': '$17.69',\n  'Transaction #8080315650 - Delivery': '$17.69'},\n {'Order': 'CA9E35CB',\n  'Delivered': 'The order was delivered at 2:28 AM on September 28, 2023.',\n  'Pick Up Location': '801 Lafayette St, Laredo, TX 78041, USA',\n  'Order Details.1 × Kettle Chips Jalapeno (5oz) (Chips & Popcorn TX)': '$6.29',\n  'Order Details. 1 × A&W Caffeine-Free Root Beer Bottle (20 oz) (Soda TX)': '$3.79',\n  \"Order Details. 1 × Cheetos Crunchy Flamin' Hot Limon (8.5 oz) (Chips & Popcorn TX)\": '$6.49',\n  'Subtotal': '$16.57',\n  'Subtotal Tax': '$0.31',\n  'Commission (16%)': '-$2.65',\n  'Total Customer Refund': '-$0.00',\n  'Estimated Payout': '$14.23',\n  'Transaction #8080266865 - Delivery': '$14.23'},\n {'Order': 'D5782A52',\n  'Cancelled - Paid': 'The order was cancelled on September 28, 2023 at 1:00 AM. You’re paid for cancelled orders when you’ve successfully confirmed an order, it was prepared, and you did not initiate or are not at fault for the cancellation.',\n  'Pick Up Location': '2503 TX-349, Midland, TX 79706, USA',\n  \"Order Details.1 × Hershey's Plain King Size (2.6 oz) (Chocolate TX)\": '$3.79',\n  'Order Details. 1 × Kraft Philadelphia Cream Cheese, 8oz (Cheese TX)': '$8.39',\n  'Subtotal': '$12.18',\n  'Subtotal Tax': '$0.30',\n  'Commission (23%)': '-$2.80',\n  'Total Customer Refund': '-$0.00',\n  'Estimated Payout': '$9.68',\n  'Transaction #8080161083 - Delivery': '$9.68'},\n {'Order': '5CDF188C',\n  'Cancelled - Paid': 'The order was cancelled on September 28, 2023 at 12:45 AM. You’re paid for cancelled orders when you’ve successfully confirmed an order, it was prepared, and you did not initiate or are not at fault for the cancellation.',\n  'Pick Up Location': '3702 FM2147, Horseshoe Bay, TX 78657, USA',\n  'Order Details.4 × Corona Extra Beer Can (24 oz) (Import Beer 53/66/67)': '$22.76',\n  'Subtotal': '$22.76',\n  'Subtotal Tax': '$1.88',\n  'Commission (25%)': '-$5.69',\n  'Total Customer Refund': '-$0.00',\n  'Estimated Payout': '$18.95',\n  'Transaction #8080129920 - Delivery': '$18.95'},\n {'Order': '0BC3FC5E',\n  'Delivered': 'The order was delivered at 12:36 AM on September 28, 2023.',\n  'Pick Up Location': '2320 W Main St, Durant, OK 74701, USA',\n  \"Order Details.1 × Lay's Classic Potato Chips (7.75 oz) (Chips & Popcorn OK)\": '$5.79',\n  \"Order Details. 1 × Reese's Peanut Butter Cups King Size (2.84 oz) (Chocolate OK)\": '$3.39',\n  'Order Details. 1 × Air Heads Bites (2oz) (Fruity OK)': '$4.99',\n  'Order Details. 1 × Crush Orange Can (12pk 12oz) (Soda OK)': '$11.29',\n  'Subtotal': '$25.46 Promo Paid by DoorDash -$15.00 (60% off, up to $15) Subtotal for Tax Calculations $10.46',\n  'Subtotal Tax': '$0.98',\n  'Commission (23%)': '-$5.86',\n  'Total Customer Refund': '-$0.00',\n  'Estimated Payout': '$19.60',\n  'Transaction #8080078554 - Delivery': '$19.60'}]"
     },
     "execution_count": 54,
     "metadata": {},
     "output_type": "execute_result"
    }
   ],
   "source": [
    "flattened_orders = get_flattened_orders(list_of_mapped_orders)\n",
    "flattened_orders"
   ],
   "metadata": {
    "collapsed": false,
    "ExecuteTime": {
     "end_time": "2023-09-30T01:05:49.729542Z",
     "start_time": "2023-09-30T01:05:49.710966Z"
    }
   },
   "id": "70604690b5e3d45f"
  },
  {
   "cell_type": "code",
   "execution_count": 55,
   "outputs": [],
   "source": [
    "# # sanity chck - converting single dict to Series -> dataframe\n",
    "# order = flattened_orders[9]\n",
    "# s = pd.Series(order)\n",
    "# df = pd.DataFrame(s).transpose()\n",
    "# df"
   ],
   "metadata": {
    "collapsed": false,
    "ExecuteTime": {
     "end_time": "2023-09-30T01:05:51.466912Z",
     "start_time": "2023-09-30T01:05:51.452865Z"
    }
   },
   "id": "4f60b902b418c816"
  },
  {
   "cell_type": "code",
   "execution_count": 55,
   "outputs": [],
   "source": [],
   "metadata": {
    "collapsed": false,
    "ExecuteTime": {
     "end_time": "2023-09-30T01:05:52.896437Z",
     "start_time": "2023-09-30T01:05:52.890322Z"
    }
   },
   "id": "1d5c1c80993f1d30"
  },
  {
   "cell_type": "code",
   "execution_count": 58,
   "outputs": [],
   "source": [
    "def convert_orders_to_dataframes(orders):\n",
    "    dfs = []\n",
    "    for order in orders:\n",
    "        s = pd.Series(order)\n",
    "        df = pd.DataFrame(s)\n",
    "        dfs.append(df)\n",
    "        \n",
    "    \n",
    "    return dfs\n",
    "    \n"
   ],
   "metadata": {
    "collapsed": false,
    "ExecuteTime": {
     "end_time": "2023-09-30T01:07:43.285376Z",
     "start_time": "2023-09-30T01:07:43.280526Z"
    }
   },
   "id": "aeb4daa67c12fe7c"
  },
  {
   "cell_type": "code",
   "execution_count": 60,
   "outputs": [
    {
     "data": {
      "text/plain": "                                                                                                    0\nOrder                                                                                        A348DFB6\nDelivered                                           The order was delivered at 11:47 PM on Septemb...\nPick Up Location                                              801 Lafayette St, Laredo, TX 78041, USA\nOrder Details.1 × Ice Small (Fountain, Frozen, ...                                              $4.99\nOrder Details. 2 × TXB Water Bottle (24 pk) (16...                                             $14.98\nSubtotal                                                                                       $19.97\nSubtotal Tax                                                                                    $0.41\nCommission (23%)                                                                               -$4.59\nTotal Customer Refund                                                                          -$0.00\nEstimated Payout                                                                               $15.79\nTransaction #8087670804 - Delivery                                                             $15.79",
      "text/html": "<div>\n<style scoped>\n    .dataframe tbody tr th:only-of-type {\n        vertical-align: middle;\n    }\n\n    .dataframe tbody tr th {\n        vertical-align: top;\n    }\n\n    .dataframe thead th {\n        text-align: right;\n    }\n</style>\n<table border=\"1\" class=\"dataframe\">\n  <thead>\n    <tr style=\"text-align: right;\">\n      <th></th>\n      <th>0</th>\n    </tr>\n  </thead>\n  <tbody>\n    <tr>\n      <th>Order</th>\n      <td>A348DFB6</td>\n    </tr>\n    <tr>\n      <th>Delivered</th>\n      <td>The order was delivered at 11:47 PM on Septemb...</td>\n    </tr>\n    <tr>\n      <th>Pick Up Location</th>\n      <td>801 Lafayette St, Laredo, TX 78041, USA</td>\n    </tr>\n    <tr>\n      <th>Order Details.1 × Ice Small (Fountain, Frozen, &amp; Tea)</th>\n      <td>$4.99</td>\n    </tr>\n    <tr>\n      <th>Order Details. 2 × TXB Water Bottle (24 pk) (16.9 oz) (Water TX)</th>\n      <td>$14.98</td>\n    </tr>\n    <tr>\n      <th>Subtotal</th>\n      <td>$19.97</td>\n    </tr>\n    <tr>\n      <th>Subtotal Tax</th>\n      <td>$0.41</td>\n    </tr>\n    <tr>\n      <th>Commission (23%)</th>\n      <td>-$4.59</td>\n    </tr>\n    <tr>\n      <th>Total Customer Refund</th>\n      <td>-$0.00</td>\n    </tr>\n    <tr>\n      <th>Estimated Payout</th>\n      <td>$15.79</td>\n    </tr>\n    <tr>\n      <th>Transaction #8087670804 - Delivery</th>\n      <td>$15.79</td>\n    </tr>\n  </tbody>\n</table>\n</div>"
     },
     "execution_count": 60,
     "metadata": {},
     "output_type": "execute_result"
    }
   ],
   "source": [
    "dfs = convert_orders_to_dataframes(flattened_orders)\n",
    "dfs[0]"
   ],
   "metadata": {
    "collapsed": false,
    "ExecuteTime": {
     "end_time": "2023-09-30T01:08:09.976878Z",
     "start_time": "2023-09-30T01:08:09.965435Z"
    }
   },
   "id": "fedfa282d9c2a38f"
  },
  {
   "cell_type": "code",
   "execution_count": 8,
   "outputs": [],
   "source": [
    "# def get_order_id(order_text):\n",
    "#     # Extract the order_id\n",
    "#     order_id_start = order_text.find(\"Order:\") + len(\"Order:\")\n",
    "#     order_id_end = order_text.find(\"\\n\", order_id_start)\n",
    "#     order_id = order_text[order_id_start:order_id_end]\n",
    "#     return order_id"
   ],
   "metadata": {
    "collapsed": false,
    "ExecuteTime": {
     "end_time": "2023-09-29T23:39:28.476427Z",
     "start_time": "2023-09-29T23:39:28.466362Z"
    }
   },
   "id": "d5b9e7c703f040e9"
  },
  {
   "cell_type": "code",
   "execution_count": 92,
   "outputs": [
    {
     "ename": "AttributeError",
     "evalue": "'XlsxWriter' object has no attribute 'save'",
     "output_type": "error",
     "traceback": [
      "\u001B[0;31m---------------------------------------------------------------------------\u001B[0m",
      "\u001B[0;31mAttributeError\u001B[0m                            Traceback (most recent call last)",
      "Cell \u001B[0;32mIn[92], line 25\u001B[0m\n\u001B[1;32m     21\u001B[0m     \u001B[38;5;66;03m# Close the Pandas Excel writer and save the file\u001B[39;00m\n\u001B[1;32m     22\u001B[0m     writer\u001B[38;5;241m.\u001B[39msave()\n\u001B[0;32m---> 25\u001B[0m \u001B[43morders_spreadsheet_creator\u001B[49m\u001B[43m(\u001B[49m\u001B[43morders_content\u001B[49m\u001B[43m)\u001B[49m\n",
      "Cell \u001B[0;32mIn[92], line 22\u001B[0m, in \u001B[0;36morders_spreadsheet_creator\u001B[0;34m(orders)\u001B[0m\n\u001B[1;32m     19\u001B[0m         df\u001B[38;5;241m.\u001B[39mto_excel(writer, sheet_name\u001B[38;5;241m=\u001B[39m\u001B[38;5;124mf\u001B[39m\u001B[38;5;124m\"\u001B[39m\u001B[38;5;124mstore_num\u001B[39m\u001B[38;5;124m\"\u001B[39m, index\u001B[38;5;241m=\u001B[39m\u001B[38;5;28;01mFalse\u001B[39;00m)\n\u001B[1;32m     21\u001B[0m \u001B[38;5;66;03m# Close the Pandas Excel writer and save the file\u001B[39;00m\n\u001B[0;32m---> 22\u001B[0m \u001B[43mwriter\u001B[49m\u001B[38;5;241;43m.\u001B[39;49m\u001B[43msave\u001B[49m()\n",
      "\u001B[0;31mAttributeError\u001B[0m: 'XlsxWriter' object has no attribute 'save'"
     ]
    }
   ],
   "source": [
    "# def orders_spreadsheet_creator(orders):\n",
    "#     \n",
    "#     # Create a Pandas Excel writer using XlsxWriter as the engine.\n",
    "#     with pd.ExcelWriter('output.xlsx', engine='xlsxwriter') as writer:\n",
    "#         \n",
    "#         # Loop through order_contents and create a sheet for each order\n",
    "#         for idx, order_text in enumerate(orders, start=1):\n",
    "#             \n",
    "#             # get order id\n",
    "#             order_id = get_order_id(order_text)\n",
    "#             \n",
    "#             # Convert the order text to a DataFrame\n",
    "#             df = pd.DataFrame(orders, columns=[f'{order_id}'])\n",
    "#             \n",
    "#             # Write the DataFrame to the Excel sheet with the order ID as the sheet name\n",
    "#             # TODO: store num getter func \n",
    "#             df.to_excel(writer, sheet_name=f\"store_num\", index=False)\n",
    "#             \n",
    "#     # Close the Pandas Excel writer and save the file\n",
    "#     writer.save() #todo: AttributeError: 'XlsxWriter' object has no attribute 'save'\n",
    "# \n",
    "# \n",
    "# orders_spreadsheet_creator(orders_content)"
   ],
   "metadata": {
    "collapsed": false,
    "ExecuteTime": {
     "end_time": "2023-09-26T00:54:36.597160Z",
     "start_time": "2023-09-26T00:54:36.550867Z"
    }
   },
   "id": "13de8f5c17975259"
  },
  {
   "cell_type": "code",
   "execution_count": 98,
   "outputs": [],
   "source": [
    "# def create_excel_from_orders(order_strings):\n",
    "#     # Create a Pandas Excel writer using XlsxWriter as the engine.\n",
    "#     with pd.ExcelWriter('output.xlsx', engine='xlsxwriter') as writer:\n",
    "#         for idx, order_string in enumerate(order_strings, start=1):\n",
    "#             # Create a DataFrame with the order string\n",
    "#             df = pd.DataFrame({'Order Content': [order_string]})\n",
    "#             df.to_clipboard()\n",
    "#             \n",
    "#             \n",
    "#             \n",
    "#             # Write the DataFrame to the Excel sheet with a sheet name based on the index\n",
    "#             # df.to_excel(writer, sheet_name=f\"Order_{idx}\", index=False)\n",
    "#     \n",
    "#     # Save the Excel file\n",
    "# \n",
    "# # Example usage with a list of order strings\n",
    "# order_strings_with_delimiter = [\n",
    "#     'Order: DF8E5AB6 Delivered The order was delivered at 10:56 PM on September 24, 2023.  Rate Dasher Get help...',\n",
    "#     'Order: 1D4B1698 Delivered The order was delivered at 7:18 PM on September 24, 2023.  Rate Dasher Get help...'\n",
    "# ]\n",
    "# \n",
    "# create_excel_from_orders(order_strings_with_delimiter)\n"
   ],
   "metadata": {
    "collapsed": false,
    "ExecuteTime": {
     "end_time": "2023-09-26T01:37:45.699966Z",
     "start_time": "2023-09-26T01:37:45.590713Z"
    }
   },
   "id": "c2aaeb76596f178d"
  },
  {
   "cell_type": "markdown",
   "source": [],
   "metadata": {
    "collapsed": false
   },
   "id": "ab663739b242700e"
  }
 ],
 "metadata": {
  "kernelspec": {
   "display_name": "Python 3",
   "language": "python",
   "name": "python3"
  },
  "language_info": {
   "codemirror_mode": {
    "name": "ipython",
    "version": 2
   },
   "file_extension": ".py",
   "mimetype": "text/x-python",
   "name": "python",
   "nbconvert_exporter": "python",
   "pygments_lexer": "ipython2",
   "version": "2.7.6"
  }
 },
 "nbformat": 4,
 "nbformat_minor": 5
}
