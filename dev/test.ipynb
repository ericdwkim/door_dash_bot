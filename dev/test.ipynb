{
 "cells": [
  {
   "cell_type": "code",
   "execution_count": 17,
   "id": "initial_id",
   "metadata": {
    "collapsed": true,
    "ExecuteTime": {
     "end_time": "2023-09-25T21:45:26.982063Z",
     "start_time": "2023-09-25T21:45:26.976560Z"
    }
   },
   "outputs": [],
   "source": [
    "from selenium import webdriver\n",
    "# import the Keys class\n",
    "# from selenium.webdriver.common import keys\n",
    "from selenium.webdriver.chrome.service import Service\n",
    "from selenium.webdriver.common.by import By\n",
    "from selenium.webdriver.support.ui import WebDriverWait\n",
    "from selenium.webdriver.support import expected_conditions as EC\n",
    "from selenium.common.exceptions import NoSuchElementException, TimeoutException\n",
    "import logging\n"
   ]
  },
  {
   "cell_type": "code",
   "execution_count": 2,
   "outputs": [],
   "source": [
    "options = webdriver.ChromeOptions()\n",
    "options.add_experimental_option(\"debuggerAddress\", \"127.0.0.1:9222\")"
   ],
   "metadata": {
    "collapsed": false,
    "ExecuteTime": {
     "end_time": "2023-09-25T21:42:35.174015Z",
     "start_time": "2023-09-25T21:42:35.170194Z"
    }
   },
   "id": "25291fd8b2be6cae"
  },
  {
   "cell_type": "code",
   "execution_count": 3,
   "outputs": [
    {
     "data": {
      "text/plain": "<selenium.webdriver.chrome.webdriver.WebDriver (session=\"b076a61d476a34bcbb4389525d7ca7ad\")>"
     },
     "execution_count": 3,
     "metadata": {},
     "output_type": "execute_result"
    }
   ],
   "source": [
    "driver = webdriver.Chrome(service=Service(executable_path=\"/opt/homebrew/bin/chromedriver\"), options=options)\n",
    "\n",
    "driver"
   ],
   "metadata": {
    "collapsed": false,
    "ExecuteTime": {
     "end_time": "2023-09-25T21:42:37.518185Z",
     "start_time": "2023-09-25T21:42:36.950705Z"
    }
   },
   "id": "7f90dad091063b2a"
  },
  {
   "cell_type": "code",
   "execution_count": 59,
   "outputs": [],
   "source": [
    "driver.get(\"https://www.doordash.com/merchant/orders?business_id\\=11495418\")"
   ],
   "metadata": {
    "collapsed": false,
    "ExecuteTime": {
     "end_time": "2023-09-25T19:15:24.211960Z",
     "start_time": "2023-09-25T19:15:22.176254Z"
    }
   },
   "id": "d8956fd89651f25"
  },
  {
   "cell_type": "code",
   "execution_count": 10,
   "outputs": [],
   "source": [
    "table_rows = driver.find_elements(By.TAG_NAME, 'tr')"
   ],
   "metadata": {
    "collapsed": false,
    "ExecuteTime": {
     "end_time": "2023-09-25T21:43:13.665211Z",
     "start_time": "2023-09-25T21:43:13.654095Z"
    }
   },
   "id": "d1d5def804eb398a"
  },
  {
   "cell_type": "code",
   "execution_count": 11,
   "outputs": [
    {
     "data": {
      "text/plain": "15"
     },
     "execution_count": 11,
     "metadata": {},
     "output_type": "execute_result"
    }
   ],
   "source": [
    "type(table_rows)\n",
    "len(table_rows)\n",
    "# table_rows\n"
   ],
   "metadata": {
    "collapsed": false,
    "ExecuteTime": {
     "end_time": "2023-09-25T21:43:14.022729Z",
     "start_time": "2023-09-25T21:43:14.017801Z"
    }
   },
   "id": "ad745f08a04dc3eb"
  },
  {
   "cell_type": "code",
   "execution_count": 12,
   "outputs": [],
   "source": [
    "def wait_for_element(locator, locator_type, timeout):\n",
    "    try:\n",
    "        WebDriverWait(driver, timeout).until(\n",
    "            EC.visibility_of_element_located((locator_type, locator)))\n",
    "        return True\n",
    "    except TimeoutException:\n",
    "        return False"
   ],
   "metadata": {
    "collapsed": false,
    "ExecuteTime": {
     "end_time": "2023-09-25T21:44:08.747057Z",
     "start_time": "2023-09-25T21:44:08.739569Z"
    }
   },
   "id": "78c44f650ac5afc7"
  },
  {
   "cell_type": "code",
   "execution_count": 84,
   "outputs": [],
   "source": [
    "# def find_element_and_click(locator ,locator_type=By.CSS_SELECTOR):\n",
    "#     \"\"\"\n",
    "#     Finds element and clicks it using `WebElement.click()`\n",
    "#     :param locator:\n",
    "#     :param locator_type:\n",
    "#     :return: Tuple(bool, WebElement)\n",
    "#     \"\"\"\n",
    "#     try:\n",
    "#         element = driver.find_element(locator_type, locator)\n",
    "#         # element.click()\n",
    "#         return True, element\n",
    "#     except NoSuchElementException:\n",
    "#         print(f'Element {locator} was not found.')\n",
    "#         return False, None\n",
    "#     except Exception as e:\n",
    "#         print(f'Error occurred when trying to find and click element with locator: \"{locator}\" resulting in error message: {str(e)}')\n",
    "#         return False, None"
   ],
   "metadata": {
    "collapsed": false,
    "ExecuteTime": {
     "end_time": "2023-09-25T19:23:38.447035Z",
     "start_time": "2023-09-25T19:23:38.443906Z"
    }
   },
   "id": "5ff0eddae2f311cc"
  },
  {
   "cell_type": "code",
   "execution_count": null,
   "outputs": [],
   "source": [],
   "metadata": {
    "collapsed": false
   },
   "id": "2877418d5a43e6d0"
  },
  {
   "cell_type": "code",
   "execution_count": 13,
   "outputs": [],
   "source": [
    "def wait_for_and_find_element(locator, locator_type, timeout):\n",
    "    try:\n",
    "        wait = wait_for_element(locator, locator_type, timeout)\n",
    "        if not wait:\n",
    "            logging.error(f'Tried to wait to locate element via locator \"{locator}\", but timed out')\n",
    "            return False, None\n",
    "        element = driver.find_element(locator_type, locator)\n",
    "        if not element:\n",
    "            logging.error(f'Could not find element via locator \"{locator}\"')\n",
    "            return True, None\n",
    "        if wait and element:\n",
    "            logging.info(f'Found and located element via locator \"{locator}\"')\n",
    "            return True, element\n",
    "\n",
    "    except Exception as NoSuchElementException:\n",
    "        logging.exception(f'An unexpected error occurred: {NoSuchElementException}')\n"
   ],
   "metadata": {
    "collapsed": false,
    "ExecuteTime": {
     "end_time": "2023-09-25T21:44:40.354655Z",
     "start_time": "2023-09-25T21:44:40.346689Z"
    }
   },
   "id": "997514471fa6bfcd"
  },
  {
   "cell_type": "code",
   "execution_count": 89,
   "outputs": [],
   "source": [
    "# table_rows = driver.find_elements(By.TAG_NAME, 'tr')"
   ],
   "metadata": {
    "collapsed": false,
    "ExecuteTime": {
     "end_time": "2023-09-25T19:28:52.298778Z",
     "start_time": "2023-09-25T19:28:52.273738Z"
    }
   },
   "id": "8591fe075ef46d4e"
  },
  {
   "cell_type": "code",
   "execution_count": 99,
   "outputs": [],
   "source": [
    "exit_btn = driver.find_element(By.XPATH, '//*[@id=\"MerchantApp\"]/div/div/div[3]/div[2]/div[2]/div/div/div[1]/nav/div[1]/div[1]/div/button')\n",
    "exit_btn.click()"
   ],
   "metadata": {
    "collapsed": false,
    "ExecuteTime": {
     "end_time": "2023-09-25T19:33:24.522268Z",
     "start_time": "2023-09-25T19:33:24.368361Z"
    }
   },
   "id": "c8fb1004ba35c1e8"
  },
  {
   "cell_type": "code",
   "execution_count": 18,
   "outputs": [
    {
     "ename": "KeyboardInterrupt",
     "evalue": "",
     "output_type": "error",
     "traceback": [
      "\u001B[0;31m---------------------------------------------------------------------------\u001B[0m",
      "\u001B[0;31mKeyboardInterrupt\u001B[0m                         Traceback (most recent call last)",
      "Cell \u001B[0;32mIn[18], line 13\u001B[0m\n\u001B[1;32m      8\u001B[0m found, elem \u001B[38;5;241m=\u001B[39m wait_for_and_find_element(locator\u001B[38;5;241m=\u001B[39m\u001B[38;5;124m\"\u001B[39m\u001B[38;5;124m//*[@class=\u001B[39m\u001B[38;5;124m'\u001B[39m\u001B[38;5;124mstyles__SidesheetContent-sc-czzuxh-2 hKVVOI\u001B[39m\u001B[38;5;124m'\u001B[39m\u001B[38;5;124m]\u001B[39m\u001B[38;5;124m\"\u001B[39m, locator_type\u001B[38;5;241m=\u001B[39mBy\u001B[38;5;241m.\u001B[39mXPATH, timeout\u001B[38;5;241m=\u001B[39m\u001B[38;5;241m10\u001B[39m)\n\u001B[1;32m     10\u001B[0m \u001B[38;5;66;03m# print(elem)\u001B[39;00m\n\u001B[1;32m     11\u001B[0m \u001B[38;5;66;03m# print(type(elem))\u001B[39;00m\n\u001B[1;32m     12\u001B[0m \u001B[38;5;66;03m# print(elem.text)\u001B[39;00m\n\u001B[0;32m---> 13\u001B[0m results\u001B[38;5;241m.\u001B[39mappend(\u001B[43melem\u001B[49m\u001B[38;5;241;43m.\u001B[39;49m\u001B[43mtext\u001B[49m)\n\u001B[1;32m     15\u001B[0m exit_btn \u001B[38;5;241m=\u001B[39m driver\u001B[38;5;241m.\u001B[39mfind_element(By\u001B[38;5;241m.\u001B[39mXPATH, \u001B[38;5;124m'\u001B[39m\u001B[38;5;124m//*[@id=\u001B[39m\u001B[38;5;124m\"\u001B[39m\u001B[38;5;124mMerchantApp\u001B[39m\u001B[38;5;124m\"\u001B[39m\u001B[38;5;124m]/div/div/div[3]/div[2]/div[2]/div/div/div[1]/nav/div[1]/div[1]/div/button\u001B[39m\u001B[38;5;124m'\u001B[39m)\n\u001B[1;32m     19\u001B[0m exit_btn\u001B[38;5;241m.\u001B[39mclick()\n",
      "File \u001B[0;32m~/opt/anaconda3/envs/bots/lib/python3.10/site-packages/selenium/webdriver/remote/webelement.py:90\u001B[0m, in \u001B[0;36mWebElement.text\u001B[0;34m(self)\u001B[0m\n\u001B[1;32m     87\u001B[0m \u001B[38;5;129m@property\u001B[39m\n\u001B[1;32m     88\u001B[0m \u001B[38;5;28;01mdef\u001B[39;00m \u001B[38;5;21mtext\u001B[39m(\u001B[38;5;28mself\u001B[39m) \u001B[38;5;241m-\u001B[39m\u001B[38;5;241m>\u001B[39m \u001B[38;5;28mstr\u001B[39m:\n\u001B[1;32m     89\u001B[0m \u001B[38;5;250m    \u001B[39m\u001B[38;5;124;03m\"\"\"The text of the element.\"\"\"\u001B[39;00m\n\u001B[0;32m---> 90\u001B[0m     \u001B[38;5;28;01mreturn\u001B[39;00m \u001B[38;5;28;43mself\u001B[39;49m\u001B[38;5;241;43m.\u001B[39;49m\u001B[43m_execute\u001B[49m\u001B[43m(\u001B[49m\u001B[43mCommand\u001B[49m\u001B[38;5;241;43m.\u001B[39;49m\u001B[43mGET_ELEMENT_TEXT\u001B[49m\u001B[43m)\u001B[49m[\u001B[38;5;124m\"\u001B[39m\u001B[38;5;124mvalue\u001B[39m\u001B[38;5;124m\"\u001B[39m]\n",
      "File \u001B[0;32m~/opt/anaconda3/envs/bots/lib/python3.10/site-packages/selenium/webdriver/remote/webelement.py:395\u001B[0m, in \u001B[0;36mWebElement._execute\u001B[0;34m(self, command, params)\u001B[0m\n\u001B[1;32m    393\u001B[0m     params \u001B[38;5;241m=\u001B[39m {}\n\u001B[1;32m    394\u001B[0m params[\u001B[38;5;124m\"\u001B[39m\u001B[38;5;124mid\u001B[39m\u001B[38;5;124m\"\u001B[39m] \u001B[38;5;241m=\u001B[39m \u001B[38;5;28mself\u001B[39m\u001B[38;5;241m.\u001B[39m_id\n\u001B[0;32m--> 395\u001B[0m \u001B[38;5;28;01mreturn\u001B[39;00m \u001B[38;5;28;43mself\u001B[39;49m\u001B[38;5;241;43m.\u001B[39;49m\u001B[43m_parent\u001B[49m\u001B[38;5;241;43m.\u001B[39;49m\u001B[43mexecute\u001B[49m\u001B[43m(\u001B[49m\u001B[43mcommand\u001B[49m\u001B[43m,\u001B[49m\u001B[43m \u001B[49m\u001B[43mparams\u001B[49m\u001B[43m)\u001B[49m\n",
      "File \u001B[0;32m~/opt/anaconda3/envs/bots/lib/python3.10/site-packages/selenium/webdriver/remote/webdriver.py:343\u001B[0m, in \u001B[0;36mWebDriver.execute\u001B[0;34m(self, driver_command, params)\u001B[0m\n\u001B[1;32m    340\u001B[0m     \u001B[38;5;28;01melif\u001B[39;00m \u001B[38;5;124m\"\u001B[39m\u001B[38;5;124msessionId\u001B[39m\u001B[38;5;124m\"\u001B[39m \u001B[38;5;129;01mnot\u001B[39;00m \u001B[38;5;129;01min\u001B[39;00m params:\n\u001B[1;32m    341\u001B[0m         params[\u001B[38;5;124m\"\u001B[39m\u001B[38;5;124msessionId\u001B[39m\u001B[38;5;124m\"\u001B[39m] \u001B[38;5;241m=\u001B[39m \u001B[38;5;28mself\u001B[39m\u001B[38;5;241m.\u001B[39msession_id\n\u001B[0;32m--> 343\u001B[0m response \u001B[38;5;241m=\u001B[39m \u001B[38;5;28;43mself\u001B[39;49m\u001B[38;5;241;43m.\u001B[39;49m\u001B[43mcommand_executor\u001B[49m\u001B[38;5;241;43m.\u001B[39;49m\u001B[43mexecute\u001B[49m\u001B[43m(\u001B[49m\u001B[43mdriver_command\u001B[49m\u001B[43m,\u001B[49m\u001B[43m \u001B[49m\u001B[43mparams\u001B[49m\u001B[43m)\u001B[49m\n\u001B[1;32m    344\u001B[0m \u001B[38;5;28;01mif\u001B[39;00m response:\n\u001B[1;32m    345\u001B[0m     \u001B[38;5;28mself\u001B[39m\u001B[38;5;241m.\u001B[39merror_handler\u001B[38;5;241m.\u001B[39mcheck_response(response)\n",
      "File \u001B[0;32m~/opt/anaconda3/envs/bots/lib/python3.10/site-packages/selenium/webdriver/remote/remote_connection.py:291\u001B[0m, in \u001B[0;36mRemoteConnection.execute\u001B[0;34m(self, command, params)\u001B[0m\n\u001B[1;32m    289\u001B[0m data \u001B[38;5;241m=\u001B[39m utils\u001B[38;5;241m.\u001B[39mdump_json(params)\n\u001B[1;32m    290\u001B[0m url \u001B[38;5;241m=\u001B[39m \u001B[38;5;124mf\u001B[39m\u001B[38;5;124m\"\u001B[39m\u001B[38;5;132;01m{\u001B[39;00m\u001B[38;5;28mself\u001B[39m\u001B[38;5;241m.\u001B[39m_url\u001B[38;5;132;01m}\u001B[39;00m\u001B[38;5;132;01m{\u001B[39;00mpath\u001B[38;5;132;01m}\u001B[39;00m\u001B[38;5;124m\"\u001B[39m\n\u001B[0;32m--> 291\u001B[0m \u001B[38;5;28;01mreturn\u001B[39;00m \u001B[38;5;28;43mself\u001B[39;49m\u001B[38;5;241;43m.\u001B[39;49m\u001B[43m_request\u001B[49m\u001B[43m(\u001B[49m\u001B[43mcommand_info\u001B[49m\u001B[43m[\u001B[49m\u001B[38;5;241;43m0\u001B[39;49m\u001B[43m]\u001B[49m\u001B[43m,\u001B[49m\u001B[43m \u001B[49m\u001B[43murl\u001B[49m\u001B[43m,\u001B[49m\u001B[43m \u001B[49m\u001B[43mbody\u001B[49m\u001B[38;5;241;43m=\u001B[39;49m\u001B[43mdata\u001B[49m\u001B[43m)\u001B[49m\n",
      "File \u001B[0;32m~/opt/anaconda3/envs/bots/lib/python3.10/site-packages/selenium/webdriver/remote/remote_connection.py:312\u001B[0m, in \u001B[0;36mRemoteConnection._request\u001B[0;34m(self, method, url, body)\u001B[0m\n\u001B[1;32m    309\u001B[0m     body \u001B[38;5;241m=\u001B[39m \u001B[38;5;28;01mNone\u001B[39;00m\n\u001B[1;32m    311\u001B[0m \u001B[38;5;28;01mif\u001B[39;00m \u001B[38;5;28mself\u001B[39m\u001B[38;5;241m.\u001B[39mkeep_alive:\n\u001B[0;32m--> 312\u001B[0m     response \u001B[38;5;241m=\u001B[39m \u001B[38;5;28;43mself\u001B[39;49m\u001B[38;5;241;43m.\u001B[39;49m\u001B[43m_conn\u001B[49m\u001B[38;5;241;43m.\u001B[39;49m\u001B[43mrequest\u001B[49m\u001B[43m(\u001B[49m\u001B[43mmethod\u001B[49m\u001B[43m,\u001B[49m\u001B[43m \u001B[49m\u001B[43murl\u001B[49m\u001B[43m,\u001B[49m\u001B[43m \u001B[49m\u001B[43mbody\u001B[49m\u001B[38;5;241;43m=\u001B[39;49m\u001B[43mbody\u001B[49m\u001B[43m,\u001B[49m\u001B[43m \u001B[49m\u001B[43mheaders\u001B[49m\u001B[38;5;241;43m=\u001B[39;49m\u001B[43mheaders\u001B[49m\u001B[43m)\u001B[49m\n\u001B[1;32m    313\u001B[0m     statuscode \u001B[38;5;241m=\u001B[39m response\u001B[38;5;241m.\u001B[39mstatus\n\u001B[1;32m    314\u001B[0m \u001B[38;5;28;01melse\u001B[39;00m:\n",
      "File \u001B[0;32m~/opt/anaconda3/envs/bots/lib/python3.10/site-packages/urllib3/_request_methods.py:110\u001B[0m, in \u001B[0;36mRequestMethods.request\u001B[0;34m(self, method, url, body, fields, headers, json, **urlopen_kw)\u001B[0m\n\u001B[1;32m    107\u001B[0m     urlopen_kw[\u001B[38;5;124m\"\u001B[39m\u001B[38;5;124mbody\u001B[39m\u001B[38;5;124m\"\u001B[39m] \u001B[38;5;241m=\u001B[39m body\n\u001B[1;32m    109\u001B[0m \u001B[38;5;28;01mif\u001B[39;00m method \u001B[38;5;129;01min\u001B[39;00m \u001B[38;5;28mself\u001B[39m\u001B[38;5;241m.\u001B[39m_encode_url_methods:\n\u001B[0;32m--> 110\u001B[0m     \u001B[38;5;28;01mreturn\u001B[39;00m \u001B[38;5;28;43mself\u001B[39;49m\u001B[38;5;241;43m.\u001B[39;49m\u001B[43mrequest_encode_url\u001B[49m\u001B[43m(\u001B[49m\n\u001B[1;32m    111\u001B[0m \u001B[43m        \u001B[49m\u001B[43mmethod\u001B[49m\u001B[43m,\u001B[49m\n\u001B[1;32m    112\u001B[0m \u001B[43m        \u001B[49m\u001B[43murl\u001B[49m\u001B[43m,\u001B[49m\n\u001B[1;32m    113\u001B[0m \u001B[43m        \u001B[49m\u001B[43mfields\u001B[49m\u001B[38;5;241;43m=\u001B[39;49m\u001B[43mfields\u001B[49m\u001B[43m,\u001B[49m\u001B[43m  \u001B[49m\u001B[38;5;66;43;03m# type: ignore[arg-type]\u001B[39;49;00m\n\u001B[1;32m    114\u001B[0m \u001B[43m        \u001B[49m\u001B[43mheaders\u001B[49m\u001B[38;5;241;43m=\u001B[39;49m\u001B[43mheaders\u001B[49m\u001B[43m,\u001B[49m\n\u001B[1;32m    115\u001B[0m \u001B[43m        \u001B[49m\u001B[38;5;241;43m*\u001B[39;49m\u001B[38;5;241;43m*\u001B[39;49m\u001B[43murlopen_kw\u001B[49m\u001B[43m,\u001B[49m\n\u001B[1;32m    116\u001B[0m \u001B[43m    \u001B[49m\u001B[43m)\u001B[49m\n\u001B[1;32m    117\u001B[0m \u001B[38;5;28;01melse\u001B[39;00m:\n\u001B[1;32m    118\u001B[0m     \u001B[38;5;28;01mreturn\u001B[39;00m \u001B[38;5;28mself\u001B[39m\u001B[38;5;241m.\u001B[39mrequest_encode_body(\n\u001B[1;32m    119\u001B[0m         method, url, fields\u001B[38;5;241m=\u001B[39mfields, headers\u001B[38;5;241m=\u001B[39mheaders, \u001B[38;5;241m*\u001B[39m\u001B[38;5;241m*\u001B[39murlopen_kw\n\u001B[1;32m    120\u001B[0m     )\n",
      "File \u001B[0;32m~/opt/anaconda3/envs/bots/lib/python3.10/site-packages/urllib3/_request_methods.py:143\u001B[0m, in \u001B[0;36mRequestMethods.request_encode_url\u001B[0;34m(self, method, url, fields, headers, **urlopen_kw)\u001B[0m\n\u001B[1;32m    140\u001B[0m \u001B[38;5;28;01mif\u001B[39;00m fields:\n\u001B[1;32m    141\u001B[0m     url \u001B[38;5;241m+\u001B[39m\u001B[38;5;241m=\u001B[39m \u001B[38;5;124m\"\u001B[39m\u001B[38;5;124m?\u001B[39m\u001B[38;5;124m\"\u001B[39m \u001B[38;5;241m+\u001B[39m urlencode(fields)\n\u001B[0;32m--> 143\u001B[0m \u001B[38;5;28;01mreturn\u001B[39;00m \u001B[38;5;28;43mself\u001B[39;49m\u001B[38;5;241;43m.\u001B[39;49m\u001B[43murlopen\u001B[49m\u001B[43m(\u001B[49m\u001B[43mmethod\u001B[49m\u001B[43m,\u001B[49m\u001B[43m \u001B[49m\u001B[43murl\u001B[49m\u001B[43m,\u001B[49m\u001B[43m \u001B[49m\u001B[38;5;241;43m*\u001B[39;49m\u001B[38;5;241;43m*\u001B[39;49m\u001B[43mextra_kw\u001B[49m\u001B[43m)\u001B[49m\n",
      "File \u001B[0;32m~/opt/anaconda3/envs/bots/lib/python3.10/site-packages/urllib3/poolmanager.py:443\u001B[0m, in \u001B[0;36mPoolManager.urlopen\u001B[0;34m(self, method, url, redirect, **kw)\u001B[0m\n\u001B[1;32m    441\u001B[0m     response \u001B[38;5;241m=\u001B[39m conn\u001B[38;5;241m.\u001B[39murlopen(method, url, \u001B[38;5;241m*\u001B[39m\u001B[38;5;241m*\u001B[39mkw)\n\u001B[1;32m    442\u001B[0m \u001B[38;5;28;01melse\u001B[39;00m:\n\u001B[0;32m--> 443\u001B[0m     response \u001B[38;5;241m=\u001B[39m \u001B[43mconn\u001B[49m\u001B[38;5;241;43m.\u001B[39;49m\u001B[43murlopen\u001B[49m\u001B[43m(\u001B[49m\u001B[43mmethod\u001B[49m\u001B[43m,\u001B[49m\u001B[43m \u001B[49m\u001B[43mu\u001B[49m\u001B[38;5;241;43m.\u001B[39;49m\u001B[43mrequest_uri\u001B[49m\u001B[43m,\u001B[49m\u001B[43m \u001B[49m\u001B[38;5;241;43m*\u001B[39;49m\u001B[38;5;241;43m*\u001B[39;49m\u001B[43mkw\u001B[49m\u001B[43m)\u001B[49m\n\u001B[1;32m    445\u001B[0m redirect_location \u001B[38;5;241m=\u001B[39m redirect \u001B[38;5;129;01mand\u001B[39;00m response\u001B[38;5;241m.\u001B[39mget_redirect_location()\n\u001B[1;32m    446\u001B[0m \u001B[38;5;28;01mif\u001B[39;00m \u001B[38;5;129;01mnot\u001B[39;00m redirect_location:\n",
      "File \u001B[0;32m~/opt/anaconda3/envs/bots/lib/python3.10/site-packages/urllib3/connectionpool.py:790\u001B[0m, in \u001B[0;36mHTTPConnectionPool.urlopen\u001B[0;34m(self, method, url, body, headers, retries, redirect, assert_same_host, timeout, pool_timeout, release_conn, chunked, body_pos, preload_content, decode_content, **response_kw)\u001B[0m\n\u001B[1;32m    787\u001B[0m response_conn \u001B[38;5;241m=\u001B[39m conn \u001B[38;5;28;01mif\u001B[39;00m \u001B[38;5;129;01mnot\u001B[39;00m release_conn \u001B[38;5;28;01melse\u001B[39;00m \u001B[38;5;28;01mNone\u001B[39;00m\n\u001B[1;32m    789\u001B[0m \u001B[38;5;66;03m# Make the request on the HTTPConnection object\u001B[39;00m\n\u001B[0;32m--> 790\u001B[0m response \u001B[38;5;241m=\u001B[39m \u001B[38;5;28;43mself\u001B[39;49m\u001B[38;5;241;43m.\u001B[39;49m\u001B[43m_make_request\u001B[49m\u001B[43m(\u001B[49m\n\u001B[1;32m    791\u001B[0m \u001B[43m    \u001B[49m\u001B[43mconn\u001B[49m\u001B[43m,\u001B[49m\n\u001B[1;32m    792\u001B[0m \u001B[43m    \u001B[49m\u001B[43mmethod\u001B[49m\u001B[43m,\u001B[49m\n\u001B[1;32m    793\u001B[0m \u001B[43m    \u001B[49m\u001B[43murl\u001B[49m\u001B[43m,\u001B[49m\n\u001B[1;32m    794\u001B[0m \u001B[43m    \u001B[49m\u001B[43mtimeout\u001B[49m\u001B[38;5;241;43m=\u001B[39;49m\u001B[43mtimeout_obj\u001B[49m\u001B[43m,\u001B[49m\n\u001B[1;32m    795\u001B[0m \u001B[43m    \u001B[49m\u001B[43mbody\u001B[49m\u001B[38;5;241;43m=\u001B[39;49m\u001B[43mbody\u001B[49m\u001B[43m,\u001B[49m\n\u001B[1;32m    796\u001B[0m \u001B[43m    \u001B[49m\u001B[43mheaders\u001B[49m\u001B[38;5;241;43m=\u001B[39;49m\u001B[43mheaders\u001B[49m\u001B[43m,\u001B[49m\n\u001B[1;32m    797\u001B[0m \u001B[43m    \u001B[49m\u001B[43mchunked\u001B[49m\u001B[38;5;241;43m=\u001B[39;49m\u001B[43mchunked\u001B[49m\u001B[43m,\u001B[49m\n\u001B[1;32m    798\u001B[0m \u001B[43m    \u001B[49m\u001B[43mretries\u001B[49m\u001B[38;5;241;43m=\u001B[39;49m\u001B[43mretries\u001B[49m\u001B[43m,\u001B[49m\n\u001B[1;32m    799\u001B[0m \u001B[43m    \u001B[49m\u001B[43mresponse_conn\u001B[49m\u001B[38;5;241;43m=\u001B[39;49m\u001B[43mresponse_conn\u001B[49m\u001B[43m,\u001B[49m\n\u001B[1;32m    800\u001B[0m \u001B[43m    \u001B[49m\u001B[43mpreload_content\u001B[49m\u001B[38;5;241;43m=\u001B[39;49m\u001B[43mpreload_content\u001B[49m\u001B[43m,\u001B[49m\n\u001B[1;32m    801\u001B[0m \u001B[43m    \u001B[49m\u001B[43mdecode_content\u001B[49m\u001B[38;5;241;43m=\u001B[39;49m\u001B[43mdecode_content\u001B[49m\u001B[43m,\u001B[49m\n\u001B[1;32m    802\u001B[0m \u001B[43m    \u001B[49m\u001B[38;5;241;43m*\u001B[39;49m\u001B[38;5;241;43m*\u001B[39;49m\u001B[43mresponse_kw\u001B[49m\u001B[43m,\u001B[49m\n\u001B[1;32m    803\u001B[0m \u001B[43m\u001B[49m\u001B[43m)\u001B[49m\n\u001B[1;32m    805\u001B[0m \u001B[38;5;66;03m# Everything went great!\u001B[39;00m\n\u001B[1;32m    806\u001B[0m clean_exit \u001B[38;5;241m=\u001B[39m \u001B[38;5;28;01mTrue\u001B[39;00m\n",
      "File \u001B[0;32m~/opt/anaconda3/envs/bots/lib/python3.10/site-packages/urllib3/connectionpool.py:536\u001B[0m, in \u001B[0;36mHTTPConnectionPool._make_request\u001B[0;34m(self, conn, method, url, body, headers, retries, timeout, chunked, response_conn, preload_content, decode_content, enforce_content_length)\u001B[0m\n\u001B[1;32m    534\u001B[0m \u001B[38;5;66;03m# Receive the response from the server\u001B[39;00m\n\u001B[1;32m    535\u001B[0m \u001B[38;5;28;01mtry\u001B[39;00m:\n\u001B[0;32m--> 536\u001B[0m     response \u001B[38;5;241m=\u001B[39m \u001B[43mconn\u001B[49m\u001B[38;5;241;43m.\u001B[39;49m\u001B[43mgetresponse\u001B[49m\u001B[43m(\u001B[49m\u001B[43m)\u001B[49m\n\u001B[1;32m    537\u001B[0m \u001B[38;5;28;01mexcept\u001B[39;00m (BaseSSLError, \u001B[38;5;167;01mOSError\u001B[39;00m) \u001B[38;5;28;01mas\u001B[39;00m e:\n\u001B[1;32m    538\u001B[0m     \u001B[38;5;28mself\u001B[39m\u001B[38;5;241m.\u001B[39m_raise_timeout(err\u001B[38;5;241m=\u001B[39me, url\u001B[38;5;241m=\u001B[39murl, timeout_value\u001B[38;5;241m=\u001B[39mread_timeout)\n",
      "File \u001B[0;32m~/opt/anaconda3/envs/bots/lib/python3.10/site-packages/urllib3/connection.py:461\u001B[0m, in \u001B[0;36mHTTPConnection.getresponse\u001B[0;34m(self)\u001B[0m\n\u001B[1;32m    458\u001B[0m \u001B[38;5;28;01mfrom\u001B[39;00m \u001B[38;5;21;01m.\u001B[39;00m\u001B[38;5;21;01mresponse\u001B[39;00m \u001B[38;5;28;01mimport\u001B[39;00m HTTPResponse\n\u001B[1;32m    460\u001B[0m \u001B[38;5;66;03m# Get the response from http.client.HTTPConnection\u001B[39;00m\n\u001B[0;32m--> 461\u001B[0m httplib_response \u001B[38;5;241m=\u001B[39m \u001B[38;5;28;43msuper\u001B[39;49m\u001B[43m(\u001B[49m\u001B[43m)\u001B[49m\u001B[38;5;241;43m.\u001B[39;49m\u001B[43mgetresponse\u001B[49m\u001B[43m(\u001B[49m\u001B[43m)\u001B[49m\n\u001B[1;32m    463\u001B[0m \u001B[38;5;28;01mtry\u001B[39;00m:\n\u001B[1;32m    464\u001B[0m     assert_header_parsing(httplib_response\u001B[38;5;241m.\u001B[39mmsg)\n",
      "File \u001B[0;32m~/opt/anaconda3/envs/bots/lib/python3.10/http/client.py:1375\u001B[0m, in \u001B[0;36mHTTPConnection.getresponse\u001B[0;34m(self)\u001B[0m\n\u001B[1;32m   1373\u001B[0m \u001B[38;5;28;01mtry\u001B[39;00m:\n\u001B[1;32m   1374\u001B[0m     \u001B[38;5;28;01mtry\u001B[39;00m:\n\u001B[0;32m-> 1375\u001B[0m         \u001B[43mresponse\u001B[49m\u001B[38;5;241;43m.\u001B[39;49m\u001B[43mbegin\u001B[49m\u001B[43m(\u001B[49m\u001B[43m)\u001B[49m\n\u001B[1;32m   1376\u001B[0m     \u001B[38;5;28;01mexcept\u001B[39;00m \u001B[38;5;167;01mConnectionError\u001B[39;00m:\n\u001B[1;32m   1377\u001B[0m         \u001B[38;5;28mself\u001B[39m\u001B[38;5;241m.\u001B[39mclose()\n",
      "File \u001B[0;32m~/opt/anaconda3/envs/bots/lib/python3.10/http/client.py:318\u001B[0m, in \u001B[0;36mHTTPResponse.begin\u001B[0;34m(self)\u001B[0m\n\u001B[1;32m    316\u001B[0m \u001B[38;5;66;03m# read until we get a non-100 response\u001B[39;00m\n\u001B[1;32m    317\u001B[0m \u001B[38;5;28;01mwhile\u001B[39;00m \u001B[38;5;28;01mTrue\u001B[39;00m:\n\u001B[0;32m--> 318\u001B[0m     version, status, reason \u001B[38;5;241m=\u001B[39m \u001B[38;5;28;43mself\u001B[39;49m\u001B[38;5;241;43m.\u001B[39;49m\u001B[43m_read_status\u001B[49m\u001B[43m(\u001B[49m\u001B[43m)\u001B[49m\n\u001B[1;32m    319\u001B[0m     \u001B[38;5;28;01mif\u001B[39;00m status \u001B[38;5;241m!=\u001B[39m CONTINUE:\n\u001B[1;32m    320\u001B[0m         \u001B[38;5;28;01mbreak\u001B[39;00m\n",
      "File \u001B[0;32m~/opt/anaconda3/envs/bots/lib/python3.10/http/client.py:279\u001B[0m, in \u001B[0;36mHTTPResponse._read_status\u001B[0;34m(self)\u001B[0m\n\u001B[1;32m    278\u001B[0m \u001B[38;5;28;01mdef\u001B[39;00m \u001B[38;5;21m_read_status\u001B[39m(\u001B[38;5;28mself\u001B[39m):\n\u001B[0;32m--> 279\u001B[0m     line \u001B[38;5;241m=\u001B[39m \u001B[38;5;28mstr\u001B[39m(\u001B[38;5;28;43mself\u001B[39;49m\u001B[38;5;241;43m.\u001B[39;49m\u001B[43mfp\u001B[49m\u001B[38;5;241;43m.\u001B[39;49m\u001B[43mreadline\u001B[49m\u001B[43m(\u001B[49m\u001B[43m_MAXLINE\u001B[49m\u001B[43m \u001B[49m\u001B[38;5;241;43m+\u001B[39;49m\u001B[43m \u001B[49m\u001B[38;5;241;43m1\u001B[39;49m\u001B[43m)\u001B[49m, \u001B[38;5;124m\"\u001B[39m\u001B[38;5;124miso-8859-1\u001B[39m\u001B[38;5;124m\"\u001B[39m)\n\u001B[1;32m    280\u001B[0m     \u001B[38;5;28;01mif\u001B[39;00m \u001B[38;5;28mlen\u001B[39m(line) \u001B[38;5;241m>\u001B[39m _MAXLINE:\n\u001B[1;32m    281\u001B[0m         \u001B[38;5;28;01mraise\u001B[39;00m LineTooLong(\u001B[38;5;124m\"\u001B[39m\u001B[38;5;124mstatus line\u001B[39m\u001B[38;5;124m\"\u001B[39m)\n",
      "File \u001B[0;32m~/opt/anaconda3/envs/bots/lib/python3.10/socket.py:705\u001B[0m, in \u001B[0;36mSocketIO.readinto\u001B[0;34m(self, b)\u001B[0m\n\u001B[1;32m    703\u001B[0m \u001B[38;5;28;01mwhile\u001B[39;00m \u001B[38;5;28;01mTrue\u001B[39;00m:\n\u001B[1;32m    704\u001B[0m     \u001B[38;5;28;01mtry\u001B[39;00m:\n\u001B[0;32m--> 705\u001B[0m         \u001B[38;5;28;01mreturn\u001B[39;00m \u001B[38;5;28;43mself\u001B[39;49m\u001B[38;5;241;43m.\u001B[39;49m\u001B[43m_sock\u001B[49m\u001B[38;5;241;43m.\u001B[39;49m\u001B[43mrecv_into\u001B[49m\u001B[43m(\u001B[49m\u001B[43mb\u001B[49m\u001B[43m)\u001B[49m\n\u001B[1;32m    706\u001B[0m     \u001B[38;5;28;01mexcept\u001B[39;00m timeout:\n\u001B[1;32m    707\u001B[0m         \u001B[38;5;28mself\u001B[39m\u001B[38;5;241m.\u001B[39m_timeout_occurred \u001B[38;5;241m=\u001B[39m \u001B[38;5;28;01mTrue\u001B[39;00m\n",
      "\u001B[0;31mKeyboardInterrupt\u001B[0m: "
     ]
    }
   ],
   "source": [
    "results = []\n",
    "for idx, table_row in enumerate(table_rows):\n",
    "    if idx >= 1:\n",
    "        table_row.click()\n",
    "        \n",
    "        # ssp_found = wait_for_element(locator=\"//*[@class='styles__SidesheetContent-sc-czzuxh-2 hKVVOI']\", locator_type=By.XPATH, timeout=10)\n",
    "        \n",
    "        found, elem = wait_for_and_find_element(locator=\"//*[@class='styles__SidesheetContent-sc-czzuxh-2 hKVVOI']\", locator_type=By.XPATH, timeout=10)\n",
    "        \n",
    "        # print(elem)\n",
    "        # print(type(elem))\n",
    "        # print(elem.text)\n",
    "        results.append(elem.text)\n",
    "        \n",
    "        exit_btn = driver.find_element(By.XPATH, '//*[@id=\"MerchantApp\"]/div/div/div[3]/div[2]/div[2]/div/div/div[1]/nav/div[1]/div[1]/div/button')\n",
    "\n",
    "        \n",
    "        \n",
    "        exit_btn.click()\n",
    "        \n",
    "        \n",
    "        \n",
    "        \n",
    "        \n",
    "        \n",
    "        \n",
    "        \n",
    "        \n"
   ],
   "metadata": {
    "collapsed": false,
    "ExecuteTime": {
     "end_time": "2023-09-25T21:45:35.964403Z",
     "start_time": "2023-09-25T21:45:32.354521Z"
    }
   },
   "id": "d0f286fe0f636d66"
  },
  {
   "cell_type": "code",
   "execution_count": 103,
   "outputs": [
    {
     "name": "stdout",
     "output_type": "stream",
     "text": [
      "['Order: DF8E5AB6\\nDelivered\\nThe order was delivered at 10:56 PM on September 24, 2023. \\nRate Dasher\\nGet help\\nDelivery Details\\nCustomer\\nNikolas W\\nDasher\\nTommy\\nPicked Up\\n10:35 PM\\n(Quoted: 10:12 PM)\\nSeptember 24, 2023\\nDropped Off\\n10:56 PM\\n(Quoted: 10:35 PM)\\nSeptember 24, 2023\\nPick Up Location\\n800 W Interstate 20, Big Spring, TX 79720, USA\\nChannel\\nDoorDash\\nFulfillment\\nDoorDash Delivery\\nOrder Details\\n1\\n×\\nTXB Water Bottle (16.9 oz) (Water TX)\\n$1.99\\n5\\n×\\nFountain Drink (Fountain, Frozen, & Tea)\\nDrink Selection:\\nDr Pepper\\n$0.00\\nSubtotal\\n$1.99\\nSubtotal Tax\\n$0.00\\nCommission (16%)\\n-$0.32\\nTotal Customer Refund\\n-$0.00\\nEstimated Payout\\n$1.67\\nAssociated Transactions (1)\\nTransaction #8058359503 - Delivery\\n$1.67', 'Order: 1D4B1698\\nDelivered\\nThe order was delivered at 7:18 PM on September 24, 2023. \\nRate Dasher\\nGet help\\nDelivery Details\\nCustomer\\nLisa C\\nDasher\\nEric\\nPicked Up\\n7:11 PM\\n(Quoted: 6:57 PM)\\nSeptember 24, 2023\\nDropped Off\\n7:18 PM\\n(Quoted: 7:11 PM)\\nSeptember 24, 2023\\nPick Up Location\\n1741 TX-121, Bonham, TX 75418, USA\\nChannel\\nDoorDash\\nFulfillment\\nDoorDash Delivery\\nOrder Details\\n1\\n×\\nMichelob Ultra Light Beer Can (12 oz x 18 ct) (Domestic Beer NT)\\n$34.99\\nSubtotal\\n$34.99\\nSubtotal Tax\\n$5.77\\nCommission (20%)\\n-$7.00\\nTotal Customer Refund\\n-$0.00\\nEstimated Payout\\n$33.76\\nAssociated Transactions (1)\\nTransaction #8056647546 - Delivery\\n$33.76', 'Order: 673864FD\\nCancelled - Not Paid\\nThe order was cancelled on September 24, 2023 at 6:24 PM. You were not paid because an item ordered was unavailable. Learn More\\nRate Dasher\\nGet help\\nDelivery Details\\nCustomer\\nDebi G\\nDasher\\nTo be assigned\\n1 previous Dasher\\nEstimated Pick Up\\n6:05 PM\\nSeptember 24, 2023\\nEstimated Drop Off\\n6:25 PM\\nSeptember 24, 2023\\nPick Up Location\\n1741 TX-121, Bonham, TX 75418, USA\\nChannel\\nDoorDash\\nFulfillment\\nDoorDash Delivery\\nOrder Details\\n2\\n×\\nSkirt Steak Fajita Taco (Lunch & Dinner Tacos TXB#10)\\n$11.38\\n1\\n×\\nFountain Drink (Fountain, Frozen, & Tea)\\nDrink Selection:\\nDr Pepper\\n$0.00\\nSubtotal\\n$11.38\\nSubtotal Tax\\n$1.88\\nCommission (20%)\\n-$2.28\\nTotal Customer Refund\\n-$0.00\\nEstimated Payout\\n$0.00', 'Order: 6157E62F\\nCustomer Picked Up\\nThe customer picked up the order at 2:47 PM on September 24, 2023. \\nGet help\\nDelivery Details\\nCustomer\\nXavier H\\nPicked Up\\n2:47 PM\\n(Quoted: 1:24 PM)\\nSeptember 24, 2023\\nPick Up Location\\n7045 W Del Mar Blvd, Laredo, TX 78041, USA\\nChannel\\nDoorDash\\nFulfillment\\nConsumer Pickup\\nOrder Details\\n1\\n×\\nSmirnoff Ice Original Malt Beverage Bottle (11.2 oz x 6 ct) (Flavored Malt Beverages Laredo)\\n$10.99\\nSubtotal\\n$10.99\\nSubtotal Tax\\n$1.81\\nCommission (9%)\\n-$0.99\\nTotal Customer Refund\\n-$0.00\\nEstimated Payout\\n$11.81\\nAssociated Transactions (1)\\nTransaction #8054103039 - Pickup\\n$11.81', 'Order: 09E8F2E3\\nCustomer Picked Up\\nThe customer picked up the order at 2:44 PM on September 24, 2023. \\nGet help\\nDelivery Details\\nCustomer\\nXavier H\\nPicked Up\\n2:44 PM\\n(Quoted: 1:22 PM)\\nSeptember 24, 2023\\nPick Up Location\\n7045 W Del Mar Blvd, Laredo, TX 78041, USA\\nChannel\\nDoorDash\\nFulfillment\\nConsumer Pickup\\nOrder Details\\n1\\n×\\nTwisted Tea Hard Ice Cocktail Original Can (12 oz x 12 ct) (Flavored Malt Beverages Laredo)\\n$17.99\\nSubtotal\\n$17.99\\nSubtotal Tax\\n$2.97\\nCommission (9%)\\n-$1.62\\nTotal Customer Refund\\n-$0.00\\nEstimated Payout\\n$19.34\\nAssociated Transactions (1)\\nTransaction #8054081314 - Pickup\\n$19.34', 'Order: 3EB6B081\\nDelivered\\nThe order was delivered at 1:59 PM on September 24, 2023. \\nRate Dasher\\nGet help\\nDelivery Details\\nCustomer\\nChris W\\nDasher\\nAmeillia\\nPicked Up\\n1:46 PM\\n(Quoted: 1:52 PM)\\nSeptember 24, 2023\\nDropped Off\\n1:59 PM\\n(Quoted: 2:18 PM)\\nSeptember 24, 2023\\nPick Up Location\\n102 W Main St, Calera, OK 74730, USA\\nChannel\\nDoorDash\\nFulfillment\\nDoorDash Delivery\\nOrder Details\\n1\\n×\\nCrush Orange Bottle (20oz) (Soda OK)\\n$3.79\\n1\\n×\\nCrush Grape Bottle (20oz) (Soda OK)\\n$3.79\\nSubtotal\\nSubtotal Tax\\nCommission (16%)\\nTotal Customer Refund\\n-$0.00\\nEstimated Payout\\n$6.37\\nAssociated Transactions (1)\\nTransaction #8053604238 - Delivery\\n$6.37', 'Order: 85B65740\\nDelivered\\nThe order was delivered at 1:51 PM on September 24, 2023. \\nRate Dasher\\nGet help\\nDelivery Details\\nCustomer\\nLisa J\\nDasher\\nJuana\\nPicked Up\\n1:40 PM\\n(Quoted: 1:47 PM)\\nSeptember 24, 2023\\nDropped Off\\n1:51 PM\\n(Quoted: 2:03 PM)\\nSeptember 24, 2023\\nPick Up Location\\n3071 University Dr E, Bryan, TX 77802, USA\\nChannel\\nDoorDash\\nFulfillment\\nDoorDash Delivery\\nOrder Details\\n2\\n×\\nPeanut Butter Chunk Cookie (Pastries & Desserts)\\n$4.98\\n1\\n×\\nChicken Tender Plate (3 pcs) (Chicken TXB#73)\\nDipping Sauce:\\nHoney Mustard Dipping Sauce\\nChoice of Sides:\\nMac & Cheese\\nChoice of Sides:\\nMashed Potatoes & Gravy\\nOriginal or Spicy:\\nOriginal\\n$12.49\\n1\\n×\\nChicken Fajita Taco (Lunch & Dinner Tacos TXB#73)\\n$5.59\\nSubtotal\\n$23.06\\nSubtotal Tax\\n$3.80\\nCommission (16%)\\n-$3.69\\nTotal Customer Refund\\n-$0.00\\nEstimated Payout\\n$23.17\\nAssociated Transactions (1)\\nTransaction #8053555079 - Delivery\\n$23.17', 'Order: FDE1B3F3\\nDelivered\\nThe order was delivered at 1:44 PM on September 24, 2023. \\nRate Dasher\\nGet help\\nDelivery Details\\nCustomer\\nHeather V\\nDasher\\nClorissa\\nPicked Up\\n1:32 PM\\n(Quoted: 1:33 PM)\\nSeptember 24, 2023\\nDropped Off\\n1:44 PM\\n(Quoted: 1:50 PM)\\nSeptember 24, 2023\\nPick Up Location\\n800 W Interstate 20, Big Spring, TX 79720, USA\\nChannel\\nDoorDash\\nFulfillment\\nDoorDash Delivery\\nOrder Details\\n1\\n×\\nMichelob Ultra Light Beer Bottle (12 oz x 12 ct) (Domestic Beer ST)\\n$24.99\\nSubtotal\\n$24.99\\nSubtotal Tax\\n$4.12\\nCommission (23%)\\n-$5.75\\nTotal Customer Refund\\n-$0.00\\nEstimated Payout\\n$23.36\\nAssociated Transactions (1)\\nTransaction #8053483610 - Delivery\\n$23.36', 'Order: D39E0304\\nDelivered\\nThe order was delivered at 1:35 PM on September 24, 2023. \\nRate Dasher\\nGet help\\nDelivery Details\\nCustomer\\nkevin c\\nDasher\\nRay\\nPicked Up\\n1:22 PM\\n(Quoted: 1:28 PM)\\nSeptember 24, 2023\\nDropped Off\\n1:35 PM\\n(Quoted: 1:49 PM)\\nSeptember 24, 2023\\nPick Up Location\\n3702 FM2147, Horseshoe Bay, TX 78657, USA\\nChannel\\nDoorDash\\nFulfillment\\nDoorDash Delivery\\nOrder Details\\n1\\n×\\nTopo Chico Mineral Water Lime Glass Bottle (4 pk) (11.5 oz) (Water TX)\\n$9.99\\nSubtotal\\n$9.99\\nSubtotal Tax\\n$1.65\\nCommission (20%)\\n-$2.00\\nTotal Customer Refund\\n-$0.00\\nEstimated Payout\\n$9.64\\nAssociated Transactions (1)\\nTransaction #8053405287 - Delivery\\n$9.64', 'Order: 4692AAAD\\nDelivered\\nThe order was delivered at 10:21 AM on September 24, 2023. \\nRate Dasher\\nGet help\\nDelivery Details\\nCustomer\\nKristi M\\nDasher\\nFarshad\\nPicked Up\\n10:06 AM\\n(Quoted: 8:54 AM)\\nSeptember 24, 2023\\nDropped Off\\n10:21 AM\\n(Quoted: 9:29 AM)\\nSeptember 24, 2023\\nPick Up Location\\n3702 FM2147, Horseshoe Bay, TX 78657, USA\\nChannel\\nDoorDash\\nFulfillment\\nDoorDash Delivery\\nOrder Details\\n1\\n×\\nTXB Unsweet Tea Bottle (16oz) (Tea TX)\\n$3.29\\n1\\n×\\nSausage Egg Cheese Taco (Breakfast Tacos & Quesadillas)\\nSalsa:\\nSalsa Verde\\n$3.79\\n2\\n×\\nPotato Egg Cheese Taco (Breakfast Tacos & Quesadillas)\\nSalsa:\\nSalsa Verde\\n$9.38\\nSubtotal\\n$16.46\\nSubtotal Tax\\n$2.17\\nCommission (25%)\\n-$4.12\\nTotal Customer Refund\\n-$0.00\\nEstimated Payout\\n$14.51\\nAssociated Transactions (1)\\nTransaction #8052105212 - Delivery\\n$14.51', 'Order: 01139062\\nDelivered\\nThe order was delivered at 9:25 AM on September 24, 2023. \\nRate Dasher\\nGet help\\nDelivery Details\\nCustomer\\nBrianna S\\nDasher\\nEduardo\\nPicked Up\\n9:17 AM\\n(Quoted: 9:13 AM)\\nSeptember 24, 2023\\nDropped Off\\n9:25 AM\\n(Quoted: 9:38 AM)\\nSeptember 24, 2023\\nPick Up Location\\n2757 N Veterans Blvd, Eagle Pass, TX 78852, USA\\nChannel\\nDoorDash\\nFulfillment\\nDoorDash Delivery\\nOrder Details\\n1\\n×\\nChips Ahoy Cookies (1.55oz) (Cookies TX)\\n$2.49\\n1\\n×\\nRed Bull Energy Drink Can (12 oz) (Energy Drinks TX)\\n$5.79\\n1\\n×\\nRed Bull Sugar Free Energy Drink Can (12 oz) (Energy Drinks TX)\\n$5.79\\nSubtotal\\n$14.07\\nSubtotal Tax\\n$2.32\\nCommission (16%)\\n-$2.25\\nTotal Customer Refund\\n-$0.00\\nEstimated Payout\\n$14.14\\nAssociated Transactions (1)\\nTransaction #8051914631 - Delivery\\n$14.14', 'Order: 0BA15BE2\\nDelivered\\nThe order was delivered at 2:16 AM on September 24, 2023. \\nRate Dasher\\nGet help\\nDelivery Details\\nCustomer\\nLizz W\\nDasher\\nChloe\\nPicked Up\\n2:00 AM\\n(Quoted: 1:47 AM)\\nSeptember 24, 2023\\nDropped Off\\n2:16 AM\\n(Quoted: 2:13 AM)\\nSeptember 24, 2023\\nPick Up Location\\n2503 TX-349, Midland, TX 79706, USA\\nChannel\\nDoorDash\\nFulfillment\\nDoorDash Delivery\\nOrder Details\\n1\\n×\\nIce Large (Fountain, Frozen, & Tea)\\n$7.49\\nSubtotal\\n$7.49\\nSubtotal Tax\\n$1.20\\nCommission (16%)\\n-$1.20\\nTotal Customer Refund\\n-$0.00\\nEstimated Payout\\n$7.49\\nAssociated Transactions (1)\\nTransaction #8051131331 - Delivery\\n$7.49', 'Order: 88E79CDD\\nDelivered\\nThe order was delivered at 1:37 AM on September 24, 2023. \\nRate Dasher\\nGet help\\nDelivery Details\\nCustomer\\nHunter G\\nDasher\\nAbraham\\nPicked Up\\n1:27 AM\\n(Quoted: 1:25 AM)\\nSeptember 24, 2023\\nDropped Off\\n1:37 AM\\n(Quoted: 1:51 AM)\\nSeptember 24, 2023\\nPick Up Location\\n1402 Williams Dr, Georgetown, TX 78628, USA\\nChannel\\nDoorDash\\nFulfillment\\nDoorDash Delivery\\nOrder Details\\n1\\n×\\nSprite Bottle (20 oz) (Soda TX)\\n$3.19\\n1\\n×\\nLifesaver Bag Gummy Collisions (4.2oz) (Fruity TX)\\n$6.89\\n1\\n×\\nHostess Powdered Donettes Bag (10.5oz) (Donuts TX)\\n$6.39\\n1\\n×\\nTostitos Salsa Con Queso Dip (15 oz) (Dips & Salsa TX)\\n$5.69\\n1\\n×\\nCheez-It Original (3 oz) (Crackers & Pretzels TX)\\n$3.39\\n1\\n×\\nFlipz Pretzel White Chocolate Fudge (5oz) (Crackers & Pretzels TX)\\n$7.19\\n1\\n×\\nCombos Pretzel Pizzeria (6.3oz) (Chips & Popcorn TX)\\n$4.79\\n1\\n×\\nTostitos Original Restaurant Style Tortilla Chips (13 oz) (Chips & Popcorn TX)\\n$5.39\\n1\\n×\\nBarcel Takis Fuego Hot Chili Pepper & Lime Corn Snacks (4 oz) (Chips & Popcorn TX)\\n$4.19\\nSubtotal\\n$47.11\\nSubtotal Tax\\n$4.20\\nCommission (23%)\\n-$10.84\\nTotal Customer Refund\\n-$0.00\\nEstimated Payout\\n$40.47\\nAssociated Transactions (1)\\nTransaction #8051049934 - Delivery\\n$40.47', 'Order: 4EC0995B\\nCancelled - Not Paid\\nThe order was cancelled on September 24, 2023 at 12:59 AM. You were not paid because you did not confirm the order before the order was cancelled. Learn More\\nGet help\\nDelivery Details\\nCustomer\\nMartin M\\nDasher\\nTo be assigned\\nEstimated Pick Up\\n1:32 AM\\nSeptember 24, 2023\\nEstimated Drop Off\\n1:50 AM\\nSeptember 24, 2023\\nPick Up Location\\n801 Lafayette St, Laredo, TX 78041, USA\\nChannel\\nDoorDash\\nFulfillment\\nDoorDash Delivery\\nOrder Details\\n2\\n×\\nBud Light Beer Bottle (12oz x 12ct) (Domestic Beer Laredo)\\n$42.58\\nSubtotal\\n$42.58\\nSubtotal Tax\\n$7.03\\nCommission (23%)\\n-$9.79\\nTotal Customer Refund\\n-$0.00\\nEstimated Payout\\n$0.00']\n"
     ]
    },
    {
     "data": {
      "text/plain": "14"
     },
     "execution_count": 103,
     "metadata": {},
     "output_type": "execute_result"
    }
   ],
   "source": [
    "print(results)\n",
    "len(results)"
   ],
   "metadata": {
    "collapsed": false,
    "ExecuteTime": {
     "end_time": "2023-09-25T19:37:09.251097Z",
     "start_time": "2023-09-25T19:37:09.245128Z"
    }
   },
   "id": "cbe71c3514a882fc"
  },
  {
   "cell_type": "code",
   "execution_count": null,
   "outputs": [],
   "source": [
    "\n",
    "l=driver.find_element(By.XPATH,\"//*[@class= 'styles__TableContent-sc-4myuz0-0 ihGsOe']/tbody\")\n",
    "\n",
    "l.text\n"
   ],
   "metadata": {
    "collapsed": false
   },
   "id": "7fb6908a84de6ec1"
  },
  {
   "cell_type": "code",
   "execution_count": 19,
   "outputs": [],
   "source": [
    "\"\"\"\n",
    "l=driver.find_elements_by_xpath (\"//*[@class= 'spTable']/tbody/tr[1]/th\")\n",
    "\n",
    "\"\"\""
   ],
   "metadata": {
    "collapsed": false,
    "ExecuteTime": {
     "end_time": "2023-09-25T18:37:17.044993Z",
     "start_time": "2023-09-25T18:37:17.042285Z"
    }
   },
   "id": "82618cebb087ff6b"
  },
  {
   "cell_type": "code",
   "execution_count": null,
   "outputs": [],
   "source": [],
   "metadata": {
    "collapsed": false
   },
   "id": "2c8c5f44c12c6752"
  }
 ],
 "metadata": {
  "kernelspec": {
   "display_name": "Python 3",
   "language": "python",
   "name": "python3"
  },
  "language_info": {
   "codemirror_mode": {
    "name": "ipython",
    "version": 2
   },
   "file_extension": ".py",
   "mimetype": "text/x-python",
   "name": "python",
   "nbconvert_exporter": "python",
   "pygments_lexer": "ipython2",
   "version": "2.7.6"
  }
 },
 "nbformat": 4,
 "nbformat_minor": 5
}
