{
 "cells": [
  {
   "cell_type": "code",
   "execution_count": 99,
   "id": "initial_id",
   "metadata": {
    "collapsed": true,
    "ExecuteTime": {
     "end_time": "2023-09-27T20:44:23.657117Z",
     "start_time": "2023-09-27T20:44:23.647909Z"
    }
   },
   "outputs": [],
   "source": [
    "from selenium import webdriver\n",
    "from selenium.webdriver.chrome.service import Service\n",
    "from selenium.webdriver.common.by import By\n",
    "from selenium.webdriver.support.ui import WebDriverWait\n",
    "from selenium.webdriver.support import expected_conditions as EC\n",
    "from selenium.common.exceptions import NoSuchElementException, TimeoutException\n",
    "import logging\n",
    "import pandas as pd\n",
    "import re"
   ]
  },
  {
   "cell_type": "code",
   "execution_count": 100,
   "outputs": [],
   "source": [
    "options = webdriver.ChromeOptions()\n",
    "options.add_experimental_option(\"debuggerAddress\", \"127.0.0.1:9222\")"
   ],
   "metadata": {
    "collapsed": false,
    "ExecuteTime": {
     "end_time": "2023-09-27T20:44:23.819849Z",
     "start_time": "2023-09-27T20:44:23.815101Z"
    }
   },
   "id": "25291fd8b2be6cae"
  },
  {
   "cell_type": "code",
   "execution_count": 101,
   "outputs": [
    {
     "data": {
      "text/plain": "<selenium.webdriver.chrome.webdriver.WebDriver (session=\"f339c9c892ebc23852ca5f706d83a61e\")>"
     },
     "execution_count": 101,
     "metadata": {},
     "output_type": "execute_result"
    }
   ],
   "source": [
    "driver = webdriver.Chrome(service=Service(executable_path=\"/opt/homebrew/bin/chromedriver\"), options=options)\n",
    "\n",
    "driver"
   ],
   "metadata": {
    "collapsed": false,
    "ExecuteTime": {
     "end_time": "2023-09-27T20:44:25.231020Z",
     "start_time": "2023-09-27T20:44:23.979859Z"
    }
   },
   "id": "7f90dad091063b2a"
  },
  {
   "cell_type": "code",
   "execution_count": 102,
   "outputs": [
    {
     "data": {
      "text/plain": "16"
     },
     "execution_count": 102,
     "metadata": {},
     "output_type": "execute_result"
    }
   ],
   "source": [
    "table_rows = driver.find_elements(By.TAG_NAME, 'tr')\n",
    "type(table_rows)\n",
    "len(table_rows)\n",
    "# table_rows\n"
   ],
   "metadata": {
    "collapsed": false,
    "ExecuteTime": {
     "end_time": "2023-09-27T20:44:26.052966Z",
     "start_time": "2023-09-27T20:44:25.228258Z"
    }
   },
   "id": "ad745f08a04dc3eb"
  },
  {
   "cell_type": "code",
   "execution_count": 103,
   "outputs": [],
   "source": [
    "def wait_for_element(locator, locator_type, timeout):\n",
    "    try:\n",
    "        WebDriverWait(driver, timeout).until(\n",
    "            EC.visibility_of_element_located((locator_type, locator)))\n",
    "        return True\n",
    "    except TimeoutException:\n",
    "        return False"
   ],
   "metadata": {
    "collapsed": false,
    "ExecuteTime": {
     "end_time": "2023-09-27T20:44:26.625233Z",
     "start_time": "2023-09-27T20:44:26.619593Z"
    }
   },
   "id": "78c44f650ac5afc7"
  },
  {
   "cell_type": "code",
   "execution_count": 104,
   "outputs": [],
   "source": [
    "def wait_for_and_find_element(locator, locator_type, timeout):\n",
    "    try:\n",
    "        wait = wait_for_element(locator, locator_type, timeout)\n",
    "        if not wait:\n",
    "            logging.error(f'Tried to wait to locate element via locator \"{locator}\", but timed out')\n",
    "            return False, None\n",
    "        element = driver.find_element(locator_type, locator)\n",
    "        if not element:\n",
    "            logging.error(f'Could not find element via locator \"{locator}\"')\n",
    "            return True, None\n",
    "        if wait and element:\n",
    "            logging.info(f'Found and located element via locator \"{locator}\"')\n",
    "            return True, element\n",
    "\n",
    "    except Exception as NoSuchElementException:\n",
    "        logging.exception(f'An unexpected error occurred: {NoSuchElementException}')\n"
   ],
   "metadata": {
    "collapsed": false,
    "ExecuteTime": {
     "end_time": "2023-09-27T20:44:26.932073Z",
     "start_time": "2023-09-27T20:44:26.926006Z"
    }
   },
   "id": "2877418d5a43e6d0"
  },
  {
   "cell_type": "code",
   "execution_count": 105,
   "outputs": [],
   "source": [
    "def find_element_and_click(locator ,locator_type=By.CSS_SELECTOR):\n",
    "    \"\"\"\n",
    "    Finds element and clicks it using `WebElement.click()`\n",
    "    :param locator:\n",
    "    :param locator_type:\n",
    "    :return: Tuple(bool, WebElement)\n",
    "    \"\"\"\n",
    "    try:\n",
    "        element = driver.find_element(locator_type, locator)\n",
    "        if not element:\n",
    "            logging.error(f'Could not locate element via locator \"{locator}\".')\n",
    "        element.click()\n",
    "        return True, element\n",
    "    except NoSuchElementException:\n",
    "        logging.exception(f'Element {locator} was not found.')\n",
    "        return False, None\n",
    "    except Exception as e:\n",
    "        logging.exception(f'Error occurred when trying to find and click element with locator: \"{locator}\" resulting in error message: {str(e)}')\n",
    "        return False, None\n"
   ],
   "metadata": {
    "collapsed": false,
    "ExecuteTime": {
     "end_time": "2023-09-27T20:44:27.221254Z",
     "start_time": "2023-09-27T20:44:27.217600Z"
    }
   },
   "id": "997514471fa6bfcd"
  },
  {
   "cell_type": "code",
   "execution_count": 110,
   "outputs": [],
   "source": [
    "def orders_scraper():\n",
    "    orders = []\n",
    "\n",
    "    for idx, table_row in enumerate(table_rows):\n",
    "        if idx >= 1:\n",
    "            table_row.click()\n",
    "            found, elem = wait_for_and_find_element(locator=\"//*[@class='styles__SidesheetContent-sc-czzuxh-2 hKVVOI']\", locator_type=By.XPATH, timeout=10)\n",
    "\n",
    "            results.append(elem.text)\n",
    "\n",
    "            exit_btn_clicked = find_element_and_click(locator='//*[@id=\"MerchantApp\"]/div/div/div[3]/div[2]/div[2]/div/div/div[1]/nav/div[1]/div[1]/div/button', locator_type=By.XPATH)\n",
    "\n",
    "            if exit_btn_clicked:\n",
    "                logging.info(f'Exiting sidesheetbody for Order #: {idx}')\n",
    "\n",
    "    return orders\n"
   ],
   "metadata": {
    "collapsed": false,
    "ExecuteTime": {
     "end_time": "2023-09-27T20:53:25.202178Z",
     "start_time": "2023-09-27T20:53:25.196765Z"
    }
   },
   "id": "7f40e728c4ba3e02"
  },
  {
   "cell_type": "code",
   "execution_count": null,
   "outputs": [],
   "source": [
    "orders = orders_scraper()\n",
    "orders"
   ],
   "metadata": {
    "collapsed": false
   },
   "id": "9ba45328d137fe21"
  },
  {
   "cell_type": "code",
   "execution_count": 17,
   "outputs": [],
   "source": [
    "def get_order_id(order_text):\n",
    "    # Extract the order_id\n",
    "    order_id_start = order_text.find(\"Order:\") + len(\"Order:\")\n",
    "    order_id_end = order_text.find(\"\\n\", order_id_start)\n",
    "    order_id = order_text[order_id_start:order_id_end]\n",
    "    return order_id"
   ],
   "metadata": {
    "collapsed": false,
    "ExecuteTime": {
     "end_time": "2023-09-26T15:39:08.710782Z",
     "start_time": "2023-09-26T15:39:08.703426Z"
    }
   },
   "id": "d5b9e7c703f040e9"
  },
  {
   "cell_type": "code",
   "execution_count": 92,
   "outputs": [
    {
     "ename": "AttributeError",
     "evalue": "'XlsxWriter' object has no attribute 'save'",
     "output_type": "error",
     "traceback": [
      "\u001B[0;31m---------------------------------------------------------------------------\u001B[0m",
      "\u001B[0;31mAttributeError\u001B[0m                            Traceback (most recent call last)",
      "Cell \u001B[0;32mIn[92], line 25\u001B[0m\n\u001B[1;32m     21\u001B[0m     \u001B[38;5;66;03m# Close the Pandas Excel writer and save the file\u001B[39;00m\n\u001B[1;32m     22\u001B[0m     writer\u001B[38;5;241m.\u001B[39msave()\n\u001B[0;32m---> 25\u001B[0m \u001B[43morders_spreadsheet_creator\u001B[49m\u001B[43m(\u001B[49m\u001B[43morders_content\u001B[49m\u001B[43m)\u001B[49m\n",
      "Cell \u001B[0;32mIn[92], line 22\u001B[0m, in \u001B[0;36morders_spreadsheet_creator\u001B[0;34m(orders)\u001B[0m\n\u001B[1;32m     19\u001B[0m         df\u001B[38;5;241m.\u001B[39mto_excel(writer, sheet_name\u001B[38;5;241m=\u001B[39m\u001B[38;5;124mf\u001B[39m\u001B[38;5;124m\"\u001B[39m\u001B[38;5;124mstore_num\u001B[39m\u001B[38;5;124m\"\u001B[39m, index\u001B[38;5;241m=\u001B[39m\u001B[38;5;28;01mFalse\u001B[39;00m)\n\u001B[1;32m     21\u001B[0m \u001B[38;5;66;03m# Close the Pandas Excel writer and save the file\u001B[39;00m\n\u001B[0;32m---> 22\u001B[0m \u001B[43mwriter\u001B[49m\u001B[38;5;241;43m.\u001B[39;49m\u001B[43msave\u001B[49m()\n",
      "\u001B[0;31mAttributeError\u001B[0m: 'XlsxWriter' object has no attribute 'save'"
     ]
    }
   ],
   "source": [
    "def orders_spreadsheet_creator(orders):\n",
    "    \n",
    "    # Create a Pandas Excel writer using XlsxWriter as the engine.\n",
    "    with pd.ExcelWriter('output.xlsx', engine='xlsxwriter') as writer:\n",
    "        \n",
    "        # Loop through order_contents and create a sheet for each order\n",
    "        for idx, order_text in enumerate(orders, start=1):\n",
    "            \n",
    "            # get order id\n",
    "            order_id = get_order_id(order_text)\n",
    "            \n",
    "            # Convert the order text to a DataFrame\n",
    "            df = pd.DataFrame(orders, columns=[f'{order_id}'])\n",
    "            \n",
    "            # Write the DataFrame to the Excel sheet with the order ID as the sheet name\n",
    "            # TODO: store num getter func \n",
    "            df.to_excel(writer, sheet_name=f\"store_num\", index=False)\n",
    "            \n",
    "    # Close the Pandas Excel writer and save the file\n",
    "    writer.save() #todo: AttributeError: 'XlsxWriter' object has no attribute 'save'\n",
    "\n",
    "\n",
    "orders_spreadsheet_creator(orders_content)"
   ],
   "metadata": {
    "collapsed": false,
    "ExecuteTime": {
     "end_time": "2023-09-26T00:54:36.597160Z",
     "start_time": "2023-09-26T00:54:36.550867Z"
    }
   },
   "id": "13de8f5c17975259"
  },
  {
   "cell_type": "code",
   "execution_count": 98,
   "outputs": [],
   "source": [
    "def create_excel_from_orders(order_strings):\n",
    "    # Create a Pandas Excel writer using XlsxWriter as the engine.\n",
    "    with pd.ExcelWriter('output.xlsx', engine='xlsxwriter') as writer:\n",
    "        for idx, order_string in enumerate(order_strings, start=1):\n",
    "            # Create a DataFrame with the order string\n",
    "            df = pd.DataFrame({'Order Content': [order_string]})\n",
    "            df.to_clipboard()\n",
    "            \n",
    "            \n",
    "            \n",
    "            # Write the DataFrame to the Excel sheet with a sheet name based on the index\n",
    "            # df.to_excel(writer, sheet_name=f\"Order_{idx}\", index=False)\n",
    "    \n",
    "    # Save the Excel file\n",
    "\n",
    "# Example usage with a list of order strings\n",
    "order_strings_with_delimiter = [\n",
    "    'Order: DF8E5AB6 Delivered The order was delivered at 10:56 PM on September 24, 2023.  Rate Dasher Get help...',\n",
    "    'Order: 1D4B1698 Delivered The order was delivered at 7:18 PM on September 24, 2023.  Rate Dasher Get help...'\n",
    "]\n",
    "\n",
    "create_excel_from_orders(order_strings_with_delimiter)\n"
   ],
   "metadata": {
    "collapsed": false,
    "ExecuteTime": {
     "end_time": "2023-09-26T01:37:45.699966Z",
     "start_time": "2023-09-26T01:37:45.590713Z"
    }
   },
   "id": "c2aaeb76596f178d"
  }
 ],
 "metadata": {
  "kernelspec": {
   "display_name": "Python 3",
   "language": "python",
   "name": "python3"
  },
  "language_info": {
   "codemirror_mode": {
    "name": "ipython",
    "version": 2
   },
   "file_extension": ".py",
   "mimetype": "text/x-python",
   "name": "python",
   "nbconvert_exporter": "python",
   "pygments_lexer": "ipython2",
   "version": "2.7.6"
  }
 },
 "nbformat": 4,
 "nbformat_minor": 5
}
