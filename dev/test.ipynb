{
 "cells": [
  {
   "cell_type": "code",
   "execution_count": 7,
   "id": "initial_id",
   "metadata": {
    "collapsed": true,
    "ExecuteTime": {
     "end_time": "2023-10-03T20:38:27.532713Z",
     "start_time": "2023-10-03T20:38:26.325337Z"
    }
   },
   "outputs": [
    {
     "name": "stdout",
     "output_type": "stream",
     "text": [
      "Intel MKL WARNING: Support of Intel(R) Streaming SIMD Extensions 4.2 (Intel(R) SSE4.2) enabled only processors has been deprecated. Intel oneAPI Math Kernel Library 2025.0 will require Intel(R) Advanced Vector Extensions (Intel(R) AVX) instructions.\n",
      "Intel MKL WARNING: Support of Intel(R) Streaming SIMD Extensions 4.2 (Intel(R) SSE4.2) enabled only processors has been deprecated. Intel oneAPI Math Kernel Library 2025.0 will require Intel(R) Advanced Vector Extensions (Intel(R) AVX) instructions.\n"
     ]
    }
   ],
   "source": [
    "from selenium import webdriver\n",
    "from selenium.webdriver.chrome.service import Service\n",
    "from selenium.webdriver.common.by import By\n",
    "from selenium.webdriver.support.ui import WebDriverWait\n",
    "from selenium.webdriver.support import expected_conditions as EC\n",
    "from selenium.common.exceptions import NoSuchElementException, TimeoutException\n",
    "import logging\n",
    "import pandas as pd\n",
    "import re\n",
    "import time\n",
    "import json\n",
    "import xlsxwriter"
   ]
  },
  {
   "cell_type": "code",
   "execution_count": 70,
   "outputs": [],
   "source": [
    "options = webdriver.ChromeOptions()\n",
    "options.add_experimental_option(\"debuggerAddress\", \"127.0.0.1:9222\")"
   ],
   "metadata": {
    "collapsed": false,
    "ExecuteTime": {
     "end_time": "2023-09-30T23:10:10.671008Z",
     "start_time": "2023-09-30T23:10:10.665611Z"
    }
   },
   "id": "25291fd8b2be6cae"
  },
  {
   "cell_type": "code",
   "execution_count": 121,
   "outputs": [
    {
     "data": {
      "text/plain": "<selenium.webdriver.chrome.webdriver.WebDriver (session=\"6b82a0979fac8c9dcc3350794067bb51\")>"
     },
     "execution_count": 121,
     "metadata": {},
     "output_type": "execute_result"
    }
   ],
   "source": [
    "driver = webdriver.Chrome(service=Service(executable_path=\"/opt/homebrew/bin/chromedriver\"), options=options)\n",
    "\n",
    "driver"
   ],
   "metadata": {
    "collapsed": false,
    "ExecuteTime": {
     "end_time": "2023-09-29T19:14:36.116504Z",
     "start_time": "2023-09-29T19:14:35.541553Z"
    }
   },
   "id": "7f90dad091063b2a"
  },
  {
   "cell_type": "code",
   "execution_count": 122,
   "outputs": [
    {
     "data": {
      "text/plain": "13"
     },
     "execution_count": 122,
     "metadata": {},
     "output_type": "execute_result"
    }
   ],
   "source": [
    "table_rows = driver.find_elements(By.TAG_NAME, 'tr')\n",
    "type(table_rows)\n",
    "len(table_rows)\n",
    "\n",
    "# table_rows\n",
    "\n",
    "\n",
    "# table_rows[0].text\n",
    "# table_rows[0]\n",
    "# header = '<selenium.webdriver.remote.webelement.WebElement (session=\"9ce3ac1101a0c1a1e89cdad93bec4408\", element=\"04DBA8B80C068AF17A38D8C62CF98ED1_element_93\")>'\n",
    "# \n",
    "# \n",
    "# table_rows_minus_header = table_rows[1:]\n",
    "# \n",
    "# if header in table_rows_minus_header:\n",
    "#     print('true')\n",
    "# else:\n",
    "#     print('false')\n"
   ],
   "metadata": {
    "collapsed": false,
    "ExecuteTime": {
     "end_time": "2023-09-29T19:14:36.165818Z",
     "start_time": "2023-09-29T19:14:36.102040Z"
    }
   },
   "id": "ad745f08a04dc3eb"
  },
  {
   "cell_type": "code",
   "execution_count": 123,
   "outputs": [
    {
     "data": {
      "text/plain": "12"
     },
     "execution_count": 123,
     "metadata": {},
     "output_type": "execute_result"
    }
   ],
   "source": [
    "def get_all_table_rows_except_header_row():\n",
    "    try:\n",
    "        table_rows = driver.find_elements(By.TAG_NAME, 'tr')\n",
    "\n",
    "        if not table_rows:\n",
    "            logging.error(f'Could not locate the table rows for all Orders on DOM. table_Rows: {table_rows}')\n",
    "            return None, False\n",
    "\n",
    "        else:\n",
    "            logging.info(f'Table rows elements found:\\n {table_rows}\\nTotal number of orders: {len(table_rows)}\\n')\n",
    "            # Exclude header row elem; inclusive from 1st idx\n",
    "\n",
    "            logging.info(f\"First element before slicing: {table_rows[0].text}\")\n",
    "            table_rows_ = table_rows[1:]\n",
    "            logging.info(f\"First element after slicing: {table_rows[0].text}\")\n",
    "\n",
    "\n",
    "            # logging.info(f'***************** table_rows: {len(table_rows)}')\n",
    "            return table_rows_, True # this returns table_rows with length of 16\n",
    "        \n",
    "    except Exception as e:\n",
    "        print(e)\n",
    "        \n",
    "table_rows, table_founds_found = get_all_table_rows_except_header_row()\n",
    "\n",
    "len(table_rows)"
   ],
   "metadata": {
    "collapsed": false,
    "ExecuteTime": {
     "end_time": "2023-09-29T19:14:36.980717Z",
     "start_time": "2023-09-29T19:14:36.919582Z"
    }
   },
   "id": "b742eddbeb5ebc00"
  },
  {
   "cell_type": "code",
   "execution_count": 124,
   "outputs": [
    {
     "data": {
      "text/plain": "[<selenium.webdriver.remote.webelement.WebElement (session=\"6b82a0979fac8c9dcc3350794067bb51\", element=\"9320BCAD1198FFA49C18106268ECBFC5_element_92\")>,\n <selenium.webdriver.remote.webelement.WebElement (session=\"6b82a0979fac8c9dcc3350794067bb51\", element=\"9320BCAD1198FFA49C18106268ECBFC5_element_93\")>,\n <selenium.webdriver.remote.webelement.WebElement (session=\"6b82a0979fac8c9dcc3350794067bb51\", element=\"9320BCAD1198FFA49C18106268ECBFC5_element_94\")>,\n <selenium.webdriver.remote.webelement.WebElement (session=\"6b82a0979fac8c9dcc3350794067bb51\", element=\"9320BCAD1198FFA49C18106268ECBFC5_element_95\")>,\n <selenium.webdriver.remote.webelement.WebElement (session=\"6b82a0979fac8c9dcc3350794067bb51\", element=\"9320BCAD1198FFA49C18106268ECBFC5_element_96\")>,\n <selenium.webdriver.remote.webelement.WebElement (session=\"6b82a0979fac8c9dcc3350794067bb51\", element=\"9320BCAD1198FFA49C18106268ECBFC5_element_97\")>,\n <selenium.webdriver.remote.webelement.WebElement (session=\"6b82a0979fac8c9dcc3350794067bb51\", element=\"9320BCAD1198FFA49C18106268ECBFC5_element_98\")>,\n <selenium.webdriver.remote.webelement.WebElement (session=\"6b82a0979fac8c9dcc3350794067bb51\", element=\"9320BCAD1198FFA49C18106268ECBFC5_element_99\")>,\n <selenium.webdriver.remote.webelement.WebElement (session=\"6b82a0979fac8c9dcc3350794067bb51\", element=\"9320BCAD1198FFA49C18106268ECBFC5_element_100\")>,\n <selenium.webdriver.remote.webelement.WebElement (session=\"6b82a0979fac8c9dcc3350794067bb51\", element=\"9320BCAD1198FFA49C18106268ECBFC5_element_101\")>,\n <selenium.webdriver.remote.webelement.WebElement (session=\"6b82a0979fac8c9dcc3350794067bb51\", element=\"9320BCAD1198FFA49C18106268ECBFC5_element_102\")>,\n <selenium.webdriver.remote.webelement.WebElement (session=\"6b82a0979fac8c9dcc3350794067bb51\", element=\"9320BCAD1198FFA49C18106268ECBFC5_element_103\")>]"
     },
     "execution_count": 124,
     "metadata": {},
     "output_type": "execute_result"
    }
   ],
   "source": [
    "table_rows"
   ],
   "metadata": {
    "collapsed": false,
    "ExecuteTime": {
     "end_time": "2023-09-29T19:14:37.480527Z",
     "start_time": "2023-09-29T19:14:37.475681Z"
    }
   },
   "id": "b3d8b6f75cfeb3e"
  },
  {
   "cell_type": "code",
   "execution_count": 125,
   "outputs": [],
   "source": [
    "# def get_all_table_rows_except_header_row():\n",
    "#     table_rows = driver.find_elements(By.TAG_NAME, 'tr')\n",
    "#     \n",
    "#     return table_rows[1:]\n",
    "# \n",
    "# table_rows = get_all_table_rows_except_header_row()\n",
    "# len(table_rows)"
   ],
   "metadata": {
    "collapsed": false,
    "ExecuteTime": {
     "end_time": "2023-09-29T19:14:38.529388Z",
     "start_time": "2023-09-29T19:14:38.508972Z"
    }
   },
   "id": "c48afb1dbcf8a070"
  },
  {
   "cell_type": "code",
   "execution_count": 126,
   "outputs": [],
   "source": [
    "def wait_for_element(locator, locator_type, timeout):\n",
    "    try:\n",
    "        WebDriverWait(driver, timeout).until(\n",
    "            EC.visibility_of_element_located((locator_type, locator)))\n",
    "        return True\n",
    "    except Exception as e:\n",
    "        logging.exception(f'An unexpected error occurred: {e}')\n",
    "        return False"
   ],
   "metadata": {
    "collapsed": false,
    "ExecuteTime": {
     "end_time": "2023-09-29T19:14:39.280216Z",
     "start_time": "2023-09-29T19:14:39.275730Z"
    }
   },
   "id": "78c44f650ac5afc7"
  },
  {
   "cell_type": "code",
   "execution_count": 127,
   "outputs": [],
   "source": [
    "def wait_for_and_find_element(locator, locator_type, timeout):\n",
    "    try:\n",
    "        wait = wait_for_element(locator, locator_type, timeout)\n",
    "        if not wait:\n",
    "            logging.error(f'Tried to wait to locate element via locator \"{locator}\", but timed out')\n",
    "            return False, None\n",
    "        element = driver.find_element(locator_type, locator)\n",
    "        if not element:\n",
    "            logging.error(f'Could not find element via locator \"{locator}\"')\n",
    "            return True, None\n",
    "        if wait and element:\n",
    "            logging.info(f'Found and located element via locator \"{locator}\"')\n",
    "            return True, element\n",
    "\n",
    "    except Exception as NoSuchElementException:\n",
    "        logging.exception(f'An unexpected error occurred: {NoSuchElementException}')\n"
   ],
   "metadata": {
    "collapsed": false,
    "ExecuteTime": {
     "end_time": "2023-09-29T19:14:42.170112Z",
     "start_time": "2023-09-29T19:14:42.144048Z"
    }
   },
   "id": "2877418d5a43e6d0"
  },
  {
   "cell_type": "code",
   "execution_count": 128,
   "outputs": [],
   "source": [
    "def find_element_and_click(locator ,locator_type=By.CSS_SELECTOR):\n",
    "    \"\"\"\n",
    "    Finds element and clicks it using `WebElement.click()`\n",
    "    :param locator:\n",
    "    :param locator_type:\n",
    "    :return: Tuple(bool, WebElement)\n",
    "    \"\"\"\n",
    "    try:\n",
    "        element = driver.find_element(locator_type, locator)\n",
    "        if not element:\n",
    "            logging.error(f'Could not locate element via locator \"{locator}\".')\n",
    "        element.click()\n",
    "        return True, element\n",
    "    except NoSuchElementException:\n",
    "        logging.exception(f'Element {locator} was not found.')\n",
    "        return False, None\n",
    "    except Exception as e:\n",
    "        logging.exception(f'Error occurred when trying to find and click element with locator: \"{locator}\" resulting in error message: {str(e)}')\n",
    "        return False, None\n"
   ],
   "metadata": {
    "collapsed": false,
    "ExecuteTime": {
     "end_time": "2023-09-29T19:14:42.646965Z",
     "start_time": "2023-09-29T19:14:42.643362Z"
    }
   },
   "id": "997514471fa6bfcd"
  },
  {
   "cell_type": "code",
   "execution_count": 129,
   "outputs": [],
   "source": [
    "def find_and_click_exit_button():\n",
    "    exit_btn_clicked, _ = find_element_and_click(\n",
    "        locator='//*[@id=\"MerchantApp\"]/div/div/div[3]/div[2]/div[2]/div/div/div[1]/nav/div[1]/div[1]/div/button',\n",
    "        locator_type=By.XPATH)\n",
    "    return exit_btn_clicked\n"
   ],
   "metadata": {
    "collapsed": false,
    "ExecuteTime": {
     "end_time": "2023-09-29T19:14:42.958578Z",
     "start_time": "2023-09-29T19:14:42.953496Z"
    }
   },
   "id": "ae9ab10db9f30885"
  },
  {
   "cell_type": "code",
   "execution_count": 129,
   "outputs": [],
   "source": [],
   "metadata": {
    "collapsed": false,
    "ExecuteTime": {
     "end_time": "2023-09-29T19:14:43.460962Z",
     "start_time": "2023-09-29T19:14:43.455664Z"
    }
   },
   "id": "b32b8ae5898358a1"
  },
  {
   "cell_type": "code",
   "execution_count": 130,
   "outputs": [],
   "source": [
    "def process_row(table_row, order_counter):\n",
    "    table_row.click()\n",
    "    time.sleep(5)  # wait for ssb to load on dom\n",
    "    \n",
    "    found, elem = wait_for_and_find_element(locator=\"//*[@class='styles__SidesheetContent-sc-czzuxh-2 hKVVOI']\", locator_type=By.XPATH, timeout=10)\n",
    "    \n",
    "    if not found or not elem:\n",
    "        logging.error(f'Could not extract order data in process_row for Order #: {order_counter}')\n",
    "        return None, order_counter\n",
    "    \n",
    "    current_order = elem.text\n",
    "    if not current_order:\n",
    "        logging.error(f'Could not get extract data from current order via element.text')\n",
    "        return None, order_counter\n",
    "\n",
    "    logging.info(f'Extracted order data for Order #: {order_counter}')\n",
    "\n",
    "    exit_btn_clicked = find_and_click_exit_button()\n",
    "\n",
    "    if exit_btn_clicked:\n",
    "        logging.info(f'Exiting sidesheet body for Order #: {order_counter}')\n",
    "        return current_order, order_counter + 1\n",
    "    else:\n",
    "        logging.error(f'Could not click the exit button for Order #: {order_counter}')\n",
    "        return None, order_counter\n"
   ],
   "metadata": {
    "collapsed": false,
    "ExecuteTime": {
     "end_time": "2023-09-29T19:14:43.889171Z",
     "start_time": "2023-09-29T19:14:43.881795Z"
    }
   },
   "id": "ff07a0c43242a6c4"
  },
  {
   "cell_type": "code",
   "execution_count": 130,
   "outputs": [],
   "source": [],
   "metadata": {
    "collapsed": false,
    "ExecuteTime": {
     "end_time": "2023-09-29T19:14:44.291330Z",
     "start_time": "2023-09-29T19:14:44.279769Z"
    }
   },
   "id": "738a302f6041844"
  },
  {
   "cell_type": "code",
   "execution_count": 131,
   "outputs": [],
   "source": [
    "# logging.info(f'table_rows\\n: {table_rows}\\n')\n",
    "# print(table_rows)\n",
    "# len(table_rows)"
   ],
   "metadata": {
    "collapsed": false,
    "ExecuteTime": {
     "end_time": "2023-09-29T19:14:44.770910Z",
     "start_time": "2023-09-29T19:14:44.741197Z"
    }
   },
   "id": "665f6ac5d7bac86c"
  },
  {
   "cell_type": "code",
   "execution_count": 132,
   "outputs": [],
   "source": [
    "# def iterate_table_rows(table_rows):\n",
    "#     orders = []\n",
    "#     idx = 0\n",
    "#     while idx < len(table_rows):\n",
    "#         table_row = table_rows[idx]\n",
    "# \n",
    "#         new_order = process_row(table_row)\n",
    "#         if new_order is not None:\n",
    "#             orders.append(new_order)\n",
    "#             idx += 1\n",
    "#         else:\n",
    "#             logging.error(f\"Failed to process Order #: {idx + 1}\")\n",
    "#     return orders\n"
   ],
   "metadata": {
    "collapsed": false,
    "ExecuteTime": {
     "end_time": "2023-09-29T19:14:45.043062Z",
     "start_time": "2023-09-29T19:14:45.038525Z"
    }
   },
   "id": "5a61f2d0c2543c6c"
  },
  {
   "cell_type": "code",
   "execution_count": 133,
   "outputs": [],
   "source": [
    "def iterate_table_rows(table_rows):\n",
    "    orders = []\n",
    "    order_counter = 1\n",
    "    for table_row in table_rows:\n",
    "        current_order, new_order_counter = process_row(table_row, order_counter)\n",
    "        if current_order:\n",
    "            orders.append(current_order)\n",
    "        order_counter = new_order_counter\n",
    "    return orders\n"
   ],
   "metadata": {
    "collapsed": false,
    "ExecuteTime": {
     "end_time": "2023-09-29T19:14:45.640247Z",
     "start_time": "2023-09-29T19:14:45.635285Z"
    }
   },
   "id": "a9acb84e6c633bf9"
  },
  {
   "cell_type": "code",
   "execution_count": 134,
   "outputs": [],
   "source": [
    "orders = iterate_table_rows(table_rows)"
   ],
   "metadata": {
    "collapsed": false,
    "ExecuteTime": {
     "end_time": "2023-09-29T19:15:55.658215Z",
     "start_time": "2023-09-29T19:14:46.820196Z"
    }
   },
   "id": "da7b0490c52f0056"
  },
  {
   "cell_type": "code",
   "execution_count": 136,
   "outputs": [
    {
     "data": {
      "text/plain": "['Order: A348DFB6\\nDelivered\\nThe order was delivered at 11:47 PM on September 28, 2023. \\nRate Dasher\\nGet help\\nDelivery Details\\nCustomer\\nMelissa C\\nDasher\\nIrving\\nPicked Up\\n11:30 PM\\n(Quoted: 11:14 PM)\\nSeptember 28, 2023\\nDropped Off\\n11:47 PM\\n(Quoted: 11:34 PM)\\nSeptember 28, 2023\\nPick Up Location\\n801 Lafayette St, Laredo, TX 78041, USA\\nChannel\\nDoorDash\\nFulfillment\\nDoorDash Delivery\\nOrder Details\\n1\\n×\\nIce Small (Fountain, Frozen, & Tea)\\n$4.99\\n2\\n×\\nTXB Water Bottle (24 pk) (16.9 oz) (Water TX)\\n$14.98\\nSubtotal\\n$19.97\\nSubtotal Tax\\n$0.41\\nCommission (23%)\\n-$4.59\\nTotal Customer Refund\\n-$0.00\\nEstimated Payout\\n$15.79\\nAssociated Transactions (1)\\nTransaction #8087670804 - Delivery\\n$15.79',\n 'Order: EC218FA4\\nDelivered\\nThe order was delivered at 11:22 PM on September 28, 2023. \\nRate Dasher\\nGet help\\nDelivery Details\\nCustomer\\nPolo M\\nDasher\\nLeticia\\nPicked Up\\n11:16 PM\\n(Quoted: 11:10 PM)\\nSeptember 28, 2023\\nDropped Off\\n11:22 PM\\n(Quoted: 11:24 PM)\\nSeptember 28, 2023\\nPick Up Location\\n800 W Interstate 20, Big Spring, TX 79720, USA\\nChannel\\nDoorDash\\nFulfillment\\nDoorDash Delivery\\nOrder Details\\n1\\n×\\nIce Small (Fountain, Frozen, & Tea)\\n$4.99\\nSubtotal\\n$4.99\\nSubtotal Tax\\n$0.41\\nCommission (16%)\\n-$0.80\\nTotal Customer Refund\\n-$0.00\\nEstimated Payout\\n$4.60\\nAssociated Transactions (1)\\nTransaction #8087614462 - Delivery\\n$4.60',\n 'Order: 7D285B12\\nDelivered\\nThe order was delivered at 10:23 PM on September 28, 2023. \\nRate Dasher\\nGet help\\nDelivery Details\\nCustomer\\nAngelina N\\nDasher\\nTerrah\\nPicked Up\\n10:09 PM\\n(Quoted: 10:12 PM)\\nSeptember 28, 2023\\nDropped Off\\n10:23 PM\\n(Quoted: 10:31 PM)\\nSeptember 28, 2023\\nPick Up Location\\n800 W Interstate 20, Big Spring, TX 79720, USA\\nChannel\\nDoorDash\\nFulfillment\\nDoorDash Delivery\\nOrder Details\\n1\\n×\\nBig Red Bottle (20oz) (Soda TX)\\n$3.79\\n1\\n×\\nFountain Drink (Fountain, Frozen, & Tea)\\nDrink Selection:\\nDr Pepper\\n$0.00\\n1\\n×\\nCrush Orange Bottle (20oz) (Soda TX)\\n$3.79\\n1\\n×\\nBig Blue Bottle (20oz) (Soda TX)\\n$3.79\\nSubtotal\\n$11.37\\nSubtotal Tax\\n$0.94\\nCommission (23%)\\n-$2.62\\nTotal Customer Refund\\n-$0.00\\nEstimated Payout\\n$9.69\\nAssociated Transactions (1)\\nTransaction #8087246804 - Delivery\\n$9.69',\n \"Order: F9F46AEF\\nDelivered\\nThe order was delivered at 7:47 PM on September 28, 2023. \\nRate Dasher\\nGet help\\nDelivery Details\\nCustomer\\nMiranda S\\nDasher\\nPedro\\nPicked Up\\n7:34 PM\\n(Quoted: 7:36 PM)\\nSeptember 28, 2023\\nDropped Off\\n7:47 PM\\n(Quoted: 8:06 PM)\\nSeptember 28, 2023\\nPick Up Location\\n1001 W Van Alstyne Pkwy, Van Alstyne, TX 75495, USA\\nChannel\\nDoorDash\\nFulfillment\\nDoorDash Delivery\\nOrder Details\\n1\\n×\\nCheetos Crunchy Flamin' Hot (3.25 oz) (Chips & Popcorn TX)\\n$3.19\\n1\\n×\\nSquirt Bottle (20 oz) (Soda TX)\\n$3.19\\n2\\n×\\nDr Pepper Bottle (20 oz) (Soda TX)\\n$7.58\\n1\\n×\\nDoritos Nacho Cheese (9.25 oz) (Chips & Popcorn TX)\\n$6.99\\nSubtotal\\n$20.95\\nSubtotal Tax\\n$0.89\\nCommission (23%)\\n-$4.82\\nTotal Customer Refund\\n-$0.00\\nEstimated Payout\\n$17.02\\nAssociated Transactions (1)\\nTransaction #8085798910 - Delivery\\n$17.02\",\n 'Order: 7D8C6B67\\nDelivered\\nThe order was delivered at 6:07 PM on September 28, 2023. \\nRate Dasher\\nGet help\\nDelivery Details\\nCustomer\\nElena R\\nDasher\\nSophia\\nPicked Up\\n5:54 PM\\n(Quoted: 5:58 PM)\\nSeptember 28, 2023\\nDropped Off\\n6:07 PM\\n(Quoted: 6:32 PM)\\nSeptember 28, 2023\\nPick Up Location\\n3702 FM2147, Horseshoe Bay, TX 78657, USA\\nChannel\\nDoorDash\\nFulfillment\\nDoorDash Delivery\\nOrder Details\\n1\\n×\\nSprite Bottle (20 oz) (Soda TX)\\n$3.19\\n2\\n×\\nDr Pepper Bottle (20 oz) (Soda TX)\\n$7.58\\nSubtotal\\n$10.77\\nSubtotal Tax\\n$0.89\\nCommission (20%)\\n-$2.15\\nTotal Customer Refund\\n-$0.00\\nEstimated Payout\\n$9.51\\nAssociated Transactions (1)\\nTransaction #8084663509 - Delivery\\n$9.51',\n 'Order: 702662D6\\nDelivered\\nThe order was delivered at 4:16 PM on September 28, 2023. \\nRate Dasher\\nGet help\\nDelivery Details\\nCustomer\\nDavid L\\nDasher\\nLisa\\nPicked Up\\n3:59 PM\\n(Quoted: 4:06 PM)\\nSeptember 28, 2023\\nDropped Off\\n4:16 PM\\n(Quoted: 4:25 PM)\\nSeptember 28, 2023\\nPick Up Location\\n201 S 9th St, Durant, OK 74701, USA\\nChannel\\nDoorDash\\nFulfillment\\nDoorDash Delivery\\nOrder Details\\n1\\n×\\nKeystone Light Beer Can (12 oz x 15 ct) (Domestic Beer OK)\\n$16.29\\nSubtotal\\n$16.29\\nSubtotal Tax\\n$1.53\\nAlcohol Fee\\n-$1.00\\nTotal Customer Refund\\n-$0.00\\nEstimated Payout\\n$15.29\\nAssociated Transactions (1)\\nTransaction #8083626907 - Delivery\\n$15.29',\n 'Order: 00BEC8AB\\nDelivered\\nThe order was delivered at 11:48 AM on September 28, 2023. \\nRate Dasher\\nGet help\\nDelivery Details\\nCustomer\\nWesley W\\nDasher\\nAndres\\n1 previous Dasher\\nPicked Up\\n11:45 AM\\n(Quoted: 11:38 AM)\\nSeptember 28, 2023\\nDropped Off\\n11:48 AM\\n(Quoted: 11:48 AM)\\nSeptember 28, 2023\\nPick Up Location\\n816 N Center St, Bonham, TX 75418, USA\\nChannel\\nDoorDash\\nFulfillment\\nDoorDash Delivery\\nOrder Details\\n1\\n×\\nHand-Breaded Chicken Roll Sandwich (Hot Sandwiches TXB#6)\\nDipping Sauce:\\nHoney Mustard Dipping Sauce\\nOriginal or Spicy:\\nOriginal\\n$4.19\\n1\\n×\\nFountain Drink (Fountain, Frozen, & Tea)\\nDrink Selection:\\nDiet Dr Pepper\\n$0.00\\nSubtotal\\n$4.19\\nSubtotal Tax\\n$0.35\\nCommission (16%)\\n-$0.67\\nTotal Customer Refund\\n-$0.00\\nEstimated Payout\\n$3.87\\nAssociated Transactions (1)\\nTransaction #8081758649 - Delivery\\n$3.87',\n \"Order: F20F6AE7\\nDelivered\\nThe order was delivered at 2:55 AM on September 28, 2023. \\nRate Dasher\\nGet help\\nDelivery Details\\nCustomer\\nMisty D\\nDasher\\nMartin\\nPicked Up\\n2:42 AM\\n(Quoted: 2:32 AM)\\nSeptember 28, 2023\\nDropped Off\\n2:55 AM\\n(Quoted: 2:53 AM)\\nSeptember 28, 2023\\nPick Up Location\\n801 Lafayette St, Laredo, TX 78041, USA\\nChannel\\nDoorDash\\nFulfillment\\nDoorDash Delivery\\nOrder Details\\n1\\n×\\nCheetos Crunchy Flamin' Hot (3.25 oz) (Chips & Popcorn TX)\\n$3.19\\n1\\n×\\nBig Red Can (12 pk-12 oz) (Soda TX)\\n$11.29\\n1\\n×\\nIce Small (Fountain, Frozen, & Tea)\\n$4.99\\nSubtotal\\n$19.47\\nSubtotal Tax\\n$1.34\\nCommission (16%)\\n-$3.12\\nTotal Customer Refund\\n-$0.00\\nEstimated Payout\\n$17.69\\nAssociated Transactions (1)\\nTransaction #8080315650 - Delivery\\n$17.69\",\n \"Order: CA9E35CB\\nDelivered\\nThe order was delivered at 2:28 AM on September 28, 2023. \\nRate Dasher\\nGet help\\nDelivery Details\\nCustomer\\nAntonio G\\nDasher\\nRogelio\\nPicked Up\\n2:02 AM\\n(Quoted: 1:59 AM)\\nSeptember 28, 2023\\nDropped Off\\n2:28 AM\\n(Quoted: 2:33 AM)\\nSeptember 28, 2023\\nPick Up Location\\n801 Lafayette St, Laredo, TX 78041, USA\\nChannel\\nDoorDash\\nFulfillment\\nDoorDash Delivery\\nOrder Details\\n1\\n×\\nKettle Chips Jalapeno (5oz) (Chips & Popcorn TX)\\n$6.29\\n1\\n×\\nA&W Caffeine-Free Root Beer Bottle (20 oz) (Soda TX)\\n$3.79\\n1\\n×\\nCheetos Crunchy Flamin' Hot Limon (8.5 oz) (Chips & Popcorn TX)\\n$6.49\\nSubtotal\\n$16.57\\nSubtotal Tax\\n$0.31\\nCommission (16%)\\n-$2.65\\nTotal Customer Refund\\n-$0.00\\nEstimated Payout\\n$14.23\\nAssociated Transactions (1)\\nTransaction #8080266865 - Delivery\\n$14.23\",\n \"Order: D5782A52\\nCancelled - Paid\\nThe order was cancelled on September 28, 2023 at 1:00 AM. You’re paid for cancelled orders when you’ve successfully confirmed an order, it was prepared, and you did not initiate or are not at fault for the cancellation. Learn More\\nRate Dasher\\nGet help\\nDelivery Details\\nCustomer\\njenna s\\nDasher\\nTo be assigned\\n1 previous Dasher\\nEstimated Pick Up\\n12:44 AM\\nSeptember 28, 2023\\nEstimated Drop Off\\n1:11 AM\\nSeptember 28, 2023\\nPick Up Location\\n2503 TX-349, Midland, TX 79706, USA\\nChannel\\nDoorDash\\nFulfillment\\nDoorDash Delivery\\nOrder Details\\n1\\n×\\nHershey's Plain King Size (2.6 oz) (Chocolate TX)\\n$3.79\\n1\\n×\\nKraft Philadelphia Cream Cheese, 8oz (Cheese TX)\\n$8.39\\nSubtotal\\n$12.18\\nSubtotal Tax\\n$0.30\\nCommission (23%)\\n-$2.80\\nTotal Customer Refund\\n-$0.00\\nEstimated Payout\\n$9.68\\nAssociated Transactions (1)\\nTransaction #8080161083 - Delivery\\n$9.68\",\n 'Order: 5CDF188C\\nCancelled - Paid\\nThe order was cancelled on September 28, 2023 at 12:45 AM. You’re paid for cancelled orders when you’ve successfully confirmed an order, it was prepared, and you did not initiate or are not at fault for the cancellation. Learn More\\nGet help\\nDelivery Details\\nCustomer\\nErin B\\nDasher\\nTo be assigned\\nEstimated Pick Up\\n12:02 AM\\nSeptember 28, 2023\\nEstimated Drop Off\\n12:31 AM\\nSeptember 28, 2023\\nPick Up Location\\n3702 FM2147, Horseshoe Bay, TX 78657, USA\\nChannel\\nDoorDash\\nFulfillment\\nDoorDash Delivery\\nOrder Details\\n4\\n×\\nCorona Extra Beer Can (24 oz) (Import Beer 53/66/67)\\n$22.76\\nSubtotal\\n$22.76\\nSubtotal Tax\\n$1.88\\nCommission (25%)\\n-$5.69\\nTotal Customer Refund\\n-$0.00\\nEstimated Payout\\n$18.95\\nAssociated Transactions (1)\\nTransaction #8080129920 - Delivery\\n$18.95',\n \"Order: 0BC3FC5E\\nDelivered\\nThe order was delivered at 12:36 AM on September 28, 2023. \\nRate Dasher\\nGet help\\nDelivery Details\\nCustomer\\nReice W\\nDasher\\nCynthia\\nPicked Up\\n12:25 AM\\n(Quoted: 12:13 AM)\\nSeptember 28, 2023\\nDropped Off\\n12:36 AM\\n(Quoted: 12:37 AM)\\nSeptember 28, 2023\\nPick Up Location\\n2320 W Main St, Durant, OK 74701, USA\\nChannel\\nDoorDash\\nFulfillment\\nDoorDash Delivery\\nOrder Details\\n1\\n×\\nLay's Classic Potato Chips (7.75 oz) (Chips & Popcorn OK)\\n$5.79\\n1\\n×\\nReese's Peanut Butter Cups King Size (2.84 oz) (Chocolate OK)\\n$3.39\\n1\\n×\\nAir Heads Bites (2oz) (Fruity OK)\\n$4.99\\n1\\n×\\nCrush Orange Can (12pk 12oz) (Soda OK)\\n$11.29\\nSubtotal\\n$25.46\\nPromo Paid by DoorDash\\n-$15.00\\n(60% off, up to $15)\\nSubtotal for Tax Calculations\\n$10.46\\nSubtotal Tax\\n$0.98\\nCommission (23%)\\n-$5.86\\nTotal Customer Refund\\n-$0.00\\nEstimated Payout\\n$19.60\\nAssociated Transactions (1)\\nTransaction #8080078554 - Delivery\\n$19.60\"]"
     },
     "execution_count": 136,
     "metadata": {},
     "output_type": "execute_result"
    }
   ],
   "source": [
    "orders"
   ],
   "metadata": {
    "collapsed": false,
    "ExecuteTime": {
     "end_time": "2023-09-29T19:16:04.255677Z",
     "start_time": "2023-09-29T19:16:04.244886Z"
    }
   },
   "id": "baf60f556008ad38"
  },
  {
   "cell_type": "code",
   "execution_count": 137,
   "outputs": [
    {
     "data": {
      "text/plain": "12"
     },
     "execution_count": 137,
     "metadata": {},
     "output_type": "execute_result"
    }
   ],
   "source": [
    "len(orders)"
   ],
   "metadata": {
    "collapsed": false,
    "ExecuteTime": {
     "end_time": "2023-09-29T19:16:04.811380Z",
     "start_time": "2023-09-29T19:16:04.807271Z"
    }
   },
   "id": "9a1ed5416f217b4f"
  },
  {
   "cell_type": "code",
   "execution_count": 145,
   "outputs": [],
   "source": [
    "def orders_scraper():\n",
    "    table_rows, table_rows_present = get_all_table_rows_except_header_row()\n",
    "\n",
    "    if not table_rows and not table_rows_present:\n",
    "        logging.error(f'Could not find table_rows: {table_rows}| table_rows_present: {table_rows_present}')\n",
    "\n",
    "    orders = iterate_table_rows(table_rows)\n",
    "\n",
    "    if not orders:\n",
    "        logging.error(f'Could get orders')\n",
    "\n",
    "    if table_rows and table_rows_present and orders:\n",
    "        logging.info(f'Successfully scraped all orders in the table. ')\n",
    "\n",
    "    logging.info(f'\\n***********************************\\n {orders} \\n********************************\\n')\n",
    "\n",
    "    return orders\n"
   ],
   "metadata": {
    "collapsed": false,
    "ExecuteTime": {
     "end_time": "2023-09-29T19:22:14.285449Z",
     "start_time": "2023-09-29T19:22:14.210598Z"
    }
   },
   "id": "b2031cfaf715f0a4"
  },
  {
   "cell_type": "code",
   "execution_count": 146,
   "outputs": [],
   "source": [
    "def scrape_orders_data():\n",
    "    try:\n",
    "        scraped_orders_data = orders_scraper()\n",
    "        if not scraped_orders_data:\n",
    "            logging.error('Could not orders_page.scrape_orders_table_data')\n",
    "            return None\n",
    "        else:\n",
    "            logging.info('Successfully orders_page.scrape_orders_data')\n",
    "            return scraped_orders_data\n",
    "    except Exception as e:\n",
    "        logging.exception(f'An error occurred trying to orders_page.scrape_orders_table_data: {e}')\n",
    "        return None\n",
    "\n"
   ],
   "metadata": {
    "collapsed": false,
    "ExecuteTime": {
     "end_time": "2023-09-29T19:22:14.937040Z",
     "start_time": "2023-09-29T19:22:14.934136Z"
    }
   },
   "id": "61e6efaeb27c6578"
  },
  {
   "cell_type": "code",
   "execution_count": 147,
   "outputs": [
    {
     "data": {
      "text/plain": "['Order: A348DFB6\\nDelivered\\nThe order was delivered at 11:47 PM on September 28, 2023. \\nRate Dasher\\nGet help\\nDelivery Details\\nCustomer\\nMelissa C\\nDasher\\nIrving\\nPicked Up\\n11:30 PM\\n(Quoted: 11:14 PM)\\nSeptember 28, 2023\\nDropped Off\\n11:47 PM\\n(Quoted: 11:34 PM)\\nSeptember 28, 2023\\nPick Up Location\\n801 Lafayette St, Laredo, TX 78041, USA\\nChannel\\nDoorDash\\nFulfillment\\nDoorDash Delivery\\nOrder Details\\n1\\n×\\nIce Small (Fountain, Frozen, & Tea)\\n$4.99\\n2\\n×\\nTXB Water Bottle (24 pk) (16.9 oz) (Water TX)\\n$14.98\\nSubtotal\\n$19.97\\nSubtotal Tax\\n$0.41\\nCommission (23%)\\n-$4.59\\nTotal Customer Refund\\n-$0.00\\nEstimated Payout\\n$15.79\\nAssociated Transactions (1)\\nTransaction #8087670804 - Delivery\\n$15.79',\n 'Order: EC218FA4\\nDelivered\\nThe order was delivered at 11:22 PM on September 28, 2023. \\nRate Dasher\\nGet help\\nDelivery Details\\nCustomer\\nPolo M\\nDasher\\nLeticia\\nPicked Up\\n11:16 PM\\n(Quoted: 11:10 PM)\\nSeptember 28, 2023\\nDropped Off\\n11:22 PM\\n(Quoted: 11:24 PM)\\nSeptember 28, 2023\\nPick Up Location\\n800 W Interstate 20, Big Spring, TX 79720, USA\\nChannel\\nDoorDash\\nFulfillment\\nDoorDash Delivery\\nOrder Details\\n1\\n×\\nIce Small (Fountain, Frozen, & Tea)\\n$4.99\\nSubtotal\\n$4.99\\nSubtotal Tax\\n$0.41\\nCommission (16%)\\n-$0.80\\nTotal Customer Refund\\n-$0.00\\nEstimated Payout\\n$4.60\\nAssociated Transactions (1)\\nTransaction #8087614462 - Delivery\\n$4.60',\n 'Order: 7D285B12\\nDelivered\\nThe order was delivered at 10:23 PM on September 28, 2023. \\nRate Dasher\\nGet help\\nDelivery Details\\nCustomer\\nAngelina N\\nDasher\\nTerrah\\nPicked Up\\n10:09 PM\\n(Quoted: 10:12 PM)\\nSeptember 28, 2023\\nDropped Off\\n10:23 PM\\n(Quoted: 10:31 PM)\\nSeptember 28, 2023\\nPick Up Location\\n800 W Interstate 20, Big Spring, TX 79720, USA\\nChannel\\nDoorDash\\nFulfillment\\nDoorDash Delivery\\nOrder Details\\n1\\n×\\nBig Red Bottle (20oz) (Soda TX)\\n$3.79\\n1\\n×\\nFountain Drink (Fountain, Frozen, & Tea)\\nDrink Selection:\\nDr Pepper\\n$0.00\\n1\\n×\\nCrush Orange Bottle (20oz) (Soda TX)\\n$3.79\\n1\\n×\\nBig Blue Bottle (20oz) (Soda TX)\\n$3.79\\nSubtotal\\n$11.37\\nSubtotal Tax\\n$0.94\\nCommission (23%)\\n-$2.62\\nTotal Customer Refund\\n-$0.00\\nEstimated Payout\\n$9.69\\nAssociated Transactions (1)\\nTransaction #8087246804 - Delivery\\n$9.69',\n \"Order: F9F46AEF\\nDelivered\\nThe order was delivered at 7:47 PM on September 28, 2023. \\nRate Dasher\\nGet help\\nDelivery Details\\nCustomer\\nMiranda S\\nDasher\\nPedro\\nPicked Up\\n7:34 PM\\n(Quoted: 7:36 PM)\\nSeptember 28, 2023\\nDropped Off\\n7:47 PM\\n(Quoted: 8:06 PM)\\nSeptember 28, 2023\\nPick Up Location\\n1001 W Van Alstyne Pkwy, Van Alstyne, TX 75495, USA\\nChannel\\nDoorDash\\nFulfillment\\nDoorDash Delivery\\nOrder Details\\n1\\n×\\nCheetos Crunchy Flamin' Hot (3.25 oz) (Chips & Popcorn TX)\\n$3.19\\n1\\n×\\nSquirt Bottle (20 oz) (Soda TX)\\n$3.19\\n2\\n×\\nDr Pepper Bottle (20 oz) (Soda TX)\\n$7.58\\n1\\n×\\nDoritos Nacho Cheese (9.25 oz) (Chips & Popcorn TX)\\n$6.99\\nSubtotal\\n$20.95\\nSubtotal Tax\\n$0.89\\nCommission (23%)\\n-$4.82\\nTotal Customer Refund\\n-$0.00\\nEstimated Payout\\n$17.02\\nAssociated Transactions (1)\\nTransaction #8085798910 - Delivery\\n$17.02\",\n 'Order: 7D8C6B67\\nDelivered\\nThe order was delivered at 6:07 PM on September 28, 2023. \\nRate Dasher\\nGet help\\nDelivery Details\\nCustomer\\nElena R\\nDasher\\nSophia\\nPicked Up\\n5:54 PM\\n(Quoted: 5:58 PM)\\nSeptember 28, 2023\\nDropped Off\\n6:07 PM\\n(Quoted: 6:32 PM)\\nSeptember 28, 2023\\nPick Up Location\\n3702 FM2147, Horseshoe Bay, TX 78657, USA\\nChannel\\nDoorDash\\nFulfillment\\nDoorDash Delivery\\nOrder Details\\n1\\n×\\nSprite Bottle (20 oz) (Soda TX)\\n$3.19\\n2\\n×\\nDr Pepper Bottle (20 oz) (Soda TX)\\n$7.58\\nSubtotal\\n$10.77\\nSubtotal Tax\\n$0.89\\nCommission (20%)\\n-$2.15\\nTotal Customer Refund\\n-$0.00\\nEstimated Payout\\n$9.51\\nAssociated Transactions (1)\\nTransaction #8084663509 - Delivery\\n$9.51',\n 'Order: 702662D6\\nDelivered\\nThe order was delivered at 4:16 PM on September 28, 2023. \\nRate Dasher\\nGet help\\nDelivery Details\\nCustomer\\nDavid L\\nDasher\\nLisa\\nPicked Up\\n3:59 PM\\n(Quoted: 4:06 PM)\\nSeptember 28, 2023\\nDropped Off\\n4:16 PM\\n(Quoted: 4:25 PM)\\nSeptember 28, 2023\\nPick Up Location\\n201 S 9th St, Durant, OK 74701, USA\\nChannel\\nDoorDash\\nFulfillment\\nDoorDash Delivery\\nOrder Details\\n1\\n×\\nKeystone Light Beer Can (12 oz x 15 ct) (Domestic Beer OK)\\n$16.29\\nSubtotal\\n$16.29\\nSubtotal Tax\\n$1.53\\nAlcohol Fee\\n-$1.00\\nTotal Customer Refund\\n-$0.00\\nEstimated Payout\\n$15.29\\nAssociated Transactions (1)\\nTransaction #8083626907 - Delivery\\n$15.29',\n 'Order: 00BEC8AB\\nDelivered\\nThe order was delivered at 11:48 AM on September 28, 2023. \\nRate Dasher\\nGet help\\nDelivery Details\\nCustomer\\nWesley W\\nDasher\\nAndres\\n1 previous Dasher\\nPicked Up\\n11:45 AM\\n(Quoted: 11:38 AM)\\nSeptember 28, 2023\\nDropped Off\\n11:48 AM\\n(Quoted: 11:48 AM)\\nSeptember 28, 2023\\nPick Up Location\\n816 N Center St, Bonham, TX 75418, USA\\nChannel\\nDoorDash\\nFulfillment\\nDoorDash Delivery\\nOrder Details\\n1\\n×\\nHand-Breaded Chicken Roll Sandwich (Hot Sandwiches TXB#6)\\nDipping Sauce:\\nHoney Mustard Dipping Sauce\\nOriginal or Spicy:\\nOriginal\\n$4.19\\n1\\n×\\nFountain Drink (Fountain, Frozen, & Tea)\\nDrink Selection:\\nDiet Dr Pepper\\n$0.00\\nSubtotal\\n$4.19\\nSubtotal Tax\\n$0.35\\nCommission (16%)\\n-$0.67\\nTotal Customer Refund\\n-$0.00\\nEstimated Payout\\n$3.87\\nAssociated Transactions (1)\\nTransaction #8081758649 - Delivery\\n$3.87',\n \"Order: F20F6AE7\\nDelivered\\nThe order was delivered at 2:55 AM on September 28, 2023. \\nRate Dasher\\nGet help\\nDelivery Details\\nCustomer\\nMisty D\\nDasher\\nMartin\\nPicked Up\\n2:42 AM\\n(Quoted: 2:32 AM)\\nSeptember 28, 2023\\nDropped Off\\n2:55 AM\\n(Quoted: 2:53 AM)\\nSeptember 28, 2023\\nPick Up Location\\n801 Lafayette St, Laredo, TX 78041, USA\\nChannel\\nDoorDash\\nFulfillment\\nDoorDash Delivery\\nOrder Details\\n1\\n×\\nCheetos Crunchy Flamin' Hot (3.25 oz) (Chips & Popcorn TX)\\n$3.19\\n1\\n×\\nBig Red Can (12 pk-12 oz) (Soda TX)\\n$11.29\\n1\\n×\\nIce Small (Fountain, Frozen, & Tea)\\n$4.99\\nSubtotal\\n$19.47\\nSubtotal Tax\\n$1.34\\nCommission (16%)\\n-$3.12\\nTotal Customer Refund\\n-$0.00\\nEstimated Payout\\n$17.69\\nAssociated Transactions (1)\\nTransaction #8080315650 - Delivery\\n$17.69\",\n \"Order: CA9E35CB\\nDelivered\\nThe order was delivered at 2:28 AM on September 28, 2023. \\nRate Dasher\\nGet help\\nDelivery Details\\nCustomer\\nAntonio G\\nDasher\\nRogelio\\nPicked Up\\n2:02 AM\\n(Quoted: 1:59 AM)\\nSeptember 28, 2023\\nDropped Off\\n2:28 AM\\n(Quoted: 2:33 AM)\\nSeptember 28, 2023\\nPick Up Location\\n801 Lafayette St, Laredo, TX 78041, USA\\nChannel\\nDoorDash\\nFulfillment\\nDoorDash Delivery\\nOrder Details\\n1\\n×\\nKettle Chips Jalapeno (5oz) (Chips & Popcorn TX)\\n$6.29\\n1\\n×\\nA&W Caffeine-Free Root Beer Bottle (20 oz) (Soda TX)\\n$3.79\\n1\\n×\\nCheetos Crunchy Flamin' Hot Limon (8.5 oz) (Chips & Popcorn TX)\\n$6.49\\nSubtotal\\n$16.57\\nSubtotal Tax\\n$0.31\\nCommission (16%)\\n-$2.65\\nTotal Customer Refund\\n-$0.00\\nEstimated Payout\\n$14.23\\nAssociated Transactions (1)\\nTransaction #8080266865 - Delivery\\n$14.23\",\n \"Order: D5782A52\\nCancelled - Paid\\nThe order was cancelled on September 28, 2023 at 1:00 AM. You’re paid for cancelled orders when you’ve successfully confirmed an order, it was prepared, and you did not initiate or are not at fault for the cancellation. Learn More\\nRate Dasher\\nGet help\\nDelivery Details\\nCustomer\\njenna s\\nDasher\\nTo be assigned\\n1 previous Dasher\\nEstimated Pick Up\\n12:44 AM\\nSeptember 28, 2023\\nEstimated Drop Off\\n1:11 AM\\nSeptember 28, 2023\\nPick Up Location\\n2503 TX-349, Midland, TX 79706, USA\\nChannel\\nDoorDash\\nFulfillment\\nDoorDash Delivery\\nOrder Details\\n1\\n×\\nHershey's Plain King Size (2.6 oz) (Chocolate TX)\\n$3.79\\n1\\n×\\nKraft Philadelphia Cream Cheese, 8oz (Cheese TX)\\n$8.39\\nSubtotal\\n$12.18\\nSubtotal Tax\\n$0.30\\nCommission (23%)\\n-$2.80\\nTotal Customer Refund\\n-$0.00\\nEstimated Payout\\n$9.68\\nAssociated Transactions (1)\\nTransaction #8080161083 - Delivery\\n$9.68\",\n 'Order: 5CDF188C\\nCancelled - Paid\\nThe order was cancelled on September 28, 2023 at 12:45 AM. You’re paid for cancelled orders when you’ve successfully confirmed an order, it was prepared, and you did not initiate or are not at fault for the cancellation. Learn More\\nGet help\\nDelivery Details\\nCustomer\\nErin B\\nDasher\\nTo be assigned\\nEstimated Pick Up\\n12:02 AM\\nSeptember 28, 2023\\nEstimated Drop Off\\n12:31 AM\\nSeptember 28, 2023\\nPick Up Location\\n3702 FM2147, Horseshoe Bay, TX 78657, USA\\nChannel\\nDoorDash\\nFulfillment\\nDoorDash Delivery\\nOrder Details\\n4\\n×\\nCorona Extra Beer Can (24 oz) (Import Beer 53/66/67)\\n$22.76\\nSubtotal\\n$22.76\\nSubtotal Tax\\n$1.88\\nCommission (25%)\\n-$5.69\\nTotal Customer Refund\\n-$0.00\\nEstimated Payout\\n$18.95\\nAssociated Transactions (1)\\nTransaction #8080129920 - Delivery\\n$18.95',\n \"Order: 0BC3FC5E\\nDelivered\\nThe order was delivered at 12:36 AM on September 28, 2023. \\nRate Dasher\\nGet help\\nDelivery Details\\nCustomer\\nReice W\\nDasher\\nCynthia\\nPicked Up\\n12:25 AM\\n(Quoted: 12:13 AM)\\nSeptember 28, 2023\\nDropped Off\\n12:36 AM\\n(Quoted: 12:37 AM)\\nSeptember 28, 2023\\nPick Up Location\\n2320 W Main St, Durant, OK 74701, USA\\nChannel\\nDoorDash\\nFulfillment\\nDoorDash Delivery\\nOrder Details\\n1\\n×\\nLay's Classic Potato Chips (7.75 oz) (Chips & Popcorn OK)\\n$5.79\\n1\\n×\\nReese's Peanut Butter Cups King Size (2.84 oz) (Chocolate OK)\\n$3.39\\n1\\n×\\nAir Heads Bites (2oz) (Fruity OK)\\n$4.99\\n1\\n×\\nCrush Orange Can (12pk 12oz) (Soda OK)\\n$11.29\\nSubtotal\\n$25.46\\nPromo Paid by DoorDash\\n-$15.00\\n(60% off, up to $15)\\nSubtotal for Tax Calculations\\n$10.46\\nSubtotal Tax\\n$0.98\\nCommission (23%)\\n-$5.86\\nTotal Customer Refund\\n-$0.00\\nEstimated Payout\\n$19.60\\nAssociated Transactions (1)\\nTransaction #8080078554 - Delivery\\n$19.60\"]"
     },
     "execution_count": 147,
     "metadata": {},
     "output_type": "execute_result"
    }
   ],
   "source": [
    "data = scrape_orders_data()\n",
    "data"
   ],
   "metadata": {
    "collapsed": false,
    "ExecuteTime": {
     "end_time": "2023-09-29T19:23:29.065067Z",
     "start_time": "2023-09-29T19:22:16.017546Z"
    }
   },
   "id": "9d814418e15c4a82"
  },
  {
   "cell_type": "code",
   "execution_count": 101,
   "outputs": [],
   "source": [
    "# def orders_scraper():\n",
    "#     orders = []\n",
    "# \n",
    "#     for idx, table_row in enumerate(table_rows):\n",
    "#         if idx >= 1:\n",
    "#             table_row.click()\n",
    "# \n",
    "#             time.sleep(5)  # wait for ssb to load on dom\n",
    "# \n",
    "#             found, elem = wait_for_and_find_element(locator=\"//*[@class='styles__SidesheetContent-sc-czzuxh-2 hKVVOI']\", locator_type=By.XPATH, timeout=10)\n",
    "# \n",
    "# \n",
    "#             start_length = len(orders)\n",
    "#             orders.append(elem.text)\n",
    "#             end_length = len(orders)\n",
    "# \n",
    "#             if end_length > start_length:\n",
    "#                 exit_btn_clicked = find_element_and_click(locator='//*[@id=\"MerchantApp\"]/div/div/div[3]/div[2]/div[2]/div/div/div[1]/nav/div[1]/div[1]/div/button', locator_type=By.XPATH)\n",
    "# \n",
    "#                 if exit_btn_clicked:\n",
    "#                     logging.info(f'Exiting sidesheetbody for Order #: {idx}')\n",
    "# \n",
    "#     return orders\n"
   ],
   "metadata": {
    "collapsed": false,
    "ExecuteTime": {
     "end_time": "2023-09-28T16:11:01.613706Z",
     "start_time": "2023-09-28T16:11:01.599176Z"
    }
   },
   "id": "7f40e728c4ba3e02"
  },
  {
   "cell_type": "code",
   "execution_count": 102,
   "outputs": [],
   "source": [
    "# orders = orders_scraper()\n",
    "# orders"
   ],
   "metadata": {
    "collapsed": false,
    "ExecuteTime": {
     "end_time": "2023-09-28T16:11:01.984343Z",
     "start_time": "2023-09-28T16:11:01.931573Z"
    }
   },
   "id": "9ba45328d137fe21"
  },
  {
   "cell_type": "code",
   "execution_count": 47,
   "outputs": [],
   "source": [
    "orders = ['Order: A348DFB6\\nDelivered\\nThe order was delivered at 11:47 PM on September 28, 2023. \\nRate Dasher\\nGet help\\nDelivery Details\\nCustomer\\nMelissa C\\nDasher\\nIrving\\nPicked Up\\n11:30 PM\\n(Quoted: 11:14 PM)\\nSeptember 28, 2023\\nDropped Off\\n11:47 PM\\n(Quoted: 11:34 PM)\\nSeptember 28, 2023\\nPick Up Location\\n801 Lafayette St, Laredo, TX 78041, USA\\nChannel\\nDoorDash\\nFulfillment\\nDoorDash Delivery\\nOrder Details\\n1\\n×\\nIce Small (Fountain, Frozen, & Tea)\\n$4.99\\n2\\n×\\nTXB Water Bottle (24 pk) (16.9 oz) (Water TX)\\n$14.98\\nSubtotal\\n$19.97\\nSubtotal Tax\\n$0.41\\nCommission (23%)\\n-$4.59\\nTotal Customer Refund\\n-$0.00\\nEstimated Payout\\n$15.79\\nAssociated Transactions (1)\\nTransaction #8087670804 - Delivery\\n$15.79',\n",
    " 'Order: EC218FA4\\nDelivered\\nThe order was delivered at 11:22 PM on September 28, 2023. \\nRate Dasher\\nGet help\\nDelivery Details\\nCustomer\\nPolo M\\nDasher\\nLeticia\\nPicked Up\\n11:16 PM\\n(Quoted: 11:10 PM)\\nSeptember 28, 2023\\nDropped Off\\n11:22 PM\\n(Quoted: 11:24 PM)\\nSeptember 28, 2023\\nPick Up Location\\n800 W Interstate 20, Big Spring, TX 79720, USA\\nChannel\\nDoorDash\\nFulfillment\\nDoorDash Delivery\\nOrder Details\\n1\\n×\\nIce Small (Fountain, Frozen, & Tea)\\n$4.99\\nSubtotal\\n$4.99\\nSubtotal Tax\\n$0.41\\nCommission (16%)\\n-$0.80\\nTotal Customer Refund\\n-$0.00\\nEstimated Payout\\n$4.60\\nAssociated Transactions (1)\\nTransaction #8087614462 - Delivery\\n$4.60',\n",
    " 'Order: 7D285B12\\nDelivered\\nThe order was delivered at 10:23 PM on September 28, 2023. \\nRate Dasher\\nGet help\\nDelivery Details\\nCustomer\\nAngelina N\\nDasher\\nTerrah\\nPicked Up\\n10:09 PM\\n(Quoted: 10:12 PM)\\nSeptember 28, 2023\\nDropped Off\\n10:23 PM\\n(Quoted: 10:31 PM)\\nSeptember 28, 2023\\nPick Up Location\\n800 W Interstate 20, Big Spring, TX 79720, USA\\nChannel\\nDoorDash\\nFulfillment\\nDoorDash Delivery\\nOrder Details\\n1\\n×\\nBig Red Bottle (20oz) (Soda TX)\\n$3.79\\n1\\n×\\nFountain Drink (Fountain, Frozen, & Tea)\\nDrink Selection:\\nDr Pepper\\n$0.00\\n1\\n×\\nCrush Orange Bottle (20oz) (Soda TX)\\n$3.79\\n1\\n×\\nBig Blue Bottle (20oz) (Soda TX)\\n$3.79\\nSubtotal\\n$11.37\\nSubtotal Tax\\n$0.94\\nCommission (23%)\\n-$2.62\\nTotal Customer Refund\\n-$0.00\\nEstimated Payout\\n$9.69\\nAssociated Transactions (1)\\nTransaction #8087246804 - Delivery\\n$9.69',\n",
    " \"Order: F9F46AEF\\nDelivered\\nThe order was delivered at 7:47 PM on September 28, 2023. \\nRate Dasher\\nGet help\\nDelivery Details\\nCustomer\\nMiranda S\\nDasher\\nPedro\\nPicked Up\\n7:34 PM\\n(Quoted: 7:36 PM)\\nSeptember 28, 2023\\nDropped Off\\n7:47 PM\\n(Quoted: 8:06 PM)\\nSeptember 28, 2023\\nPick Up Location\\n1001 W Van Alstyne Pkwy, Van Alstyne, TX 75495, USA\\nChannel\\nDoorDash\\nFulfillment\\nDoorDash Delivery\\nOrder Details\\n1\\n×\\nCheetos Crunchy Flamin' Hot (3.25 oz) (Chips & Popcorn TX)\\n$3.19\\n1\\n×\\nSquirt Bottle (20 oz) (Soda TX)\\n$3.19\\n2\\n×\\nDr Pepper Bottle (20 oz) (Soda TX)\\n$7.58\\n1\\n×\\nDoritos Nacho Cheese (9.25 oz) (Chips & Popcorn TX)\\n$6.99\\nSubtotal\\n$20.95\\nSubtotal Tax\\n$0.89\\nCommission (23%)\\n-$4.82\\nTotal Customer Refund\\n-$0.00\\nEstimated Payout\\n$17.02\\nAssociated Transactions (1)\\nTransaction #8085798910 - Delivery\\n$17.02\",\n",
    " 'Order: 7D8C6B67\\nDelivered\\nThe order was delivered at 6:07 PM on September 28, 2023. \\nRate Dasher\\nGet help\\nDelivery Details\\nCustomer\\nElena R\\nDasher\\nSophia\\nPicked Up\\n5:54 PM\\n(Quoted: 5:58 PM)\\nSeptember 28, 2023\\nDropped Off\\n6:07 PM\\n(Quoted: 6:32 PM)\\nSeptember 28, 2023\\nPick Up Location\\n3702 FM2147, Horseshoe Bay, TX 78657, USA\\nChannel\\nDoorDash\\nFulfillment\\nDoorDash Delivery\\nOrder Details\\n1\\n×\\nSprite Bottle (20 oz) (Soda TX)\\n$3.19\\n2\\n×\\nDr Pepper Bottle (20 oz) (Soda TX)\\n$7.58\\nSubtotal\\n$10.77\\nSubtotal Tax\\n$0.89\\nCommission (20%)\\n-$2.15\\nTotal Customer Refund\\n-$0.00\\nEstimated Payout\\n$9.51\\nAssociated Transactions (1)\\nTransaction #8084663509 - Delivery\\n$9.51',\n",
    " 'Order: 702662D6\\nDelivered\\nThe order was delivered at 4:16 PM on September 28, 2023. \\nRate Dasher\\nGet help\\nDelivery Details\\nCustomer\\nDavid L\\nDasher\\nLisa\\nPicked Up\\n3:59 PM\\n(Quoted: 4:06 PM)\\nSeptember 28, 2023\\nDropped Off\\n4:16 PM\\n(Quoted: 4:25 PM)\\nSeptember 28, 2023\\nPick Up Location\\n201 S 9th St, Durant, OK 74701, USA\\nChannel\\nDoorDash\\nFulfillment\\nDoorDash Delivery\\nOrder Details\\n1\\n×\\nKeystone Light Beer Can (12 oz x 15 ct) (Domestic Beer OK)\\n$16.29\\nSubtotal\\n$16.29\\nSubtotal Tax\\n$1.53\\nAlcohol Fee\\n-$1.00\\nTotal Customer Refund\\n-$0.00\\nEstimated Payout\\n$15.29\\nAssociated Transactions (1)\\nTransaction #8083626907 - Delivery\\n$15.29',\n",
    " 'Order: 00BEC8AB\\nDelivered\\nThe order was delivered at 11:48 AM on September 28, 2023. \\nRate Dasher\\nGet help\\nDelivery Details\\nCustomer\\nWesley W\\nDasher\\nAndres\\n1 previous Dasher\\nPicked Up\\n11:45 AM\\n(Quoted: 11:38 AM)\\nSeptember 28, 2023\\nDropped Off\\n11:48 AM\\n(Quoted: 11:48 AM)\\nSeptember 28, 2023\\nPick Up Location\\n816 N Center St, Bonham, TX 75418, USA\\nChannel\\nDoorDash\\nFulfillment\\nDoorDash Delivery\\nOrder Details\\n1\\n×\\nHand-Breaded Chicken Roll Sandwich (Hot Sandwiches TXB#6)\\nDipping Sauce:\\nHoney Mustard Dipping Sauce\\nOriginal or Spicy:\\nOriginal\\n$4.19\\n1\\n×\\nFountain Drink (Fountain, Frozen, & Tea)\\nDrink Selection:\\nDiet Dr Pepper\\n$0.00\\nSubtotal\\n$4.19\\nSubtotal Tax\\n$0.35\\nCommission (16%)\\n-$0.67\\nTotal Customer Refund\\n-$0.00\\nEstimated Payout\\n$3.87\\nAssociated Transactions (1)\\nTransaction #8081758649 - Delivery\\n$3.87',\n",
    " \"Order: F20F6AE7\\nDelivered\\nThe order was delivered at 2:55 AM on September 28, 2023. \\nRate Dasher\\nGet help\\nDelivery Details\\nCustomer\\nMisty D\\nDasher\\nMartin\\nPicked Up\\n2:42 AM\\n(Quoted: 2:32 AM)\\nSeptember 28, 2023\\nDropped Off\\n2:55 AM\\n(Quoted: 2:53 AM)\\nSeptember 28, 2023\\nPick Up Location\\n801 Lafayette St, Laredo, TX 78041, USA\\nChannel\\nDoorDash\\nFulfillment\\nDoorDash Delivery\\nOrder Details\\n1\\n×\\nCheetos Crunchy Flamin' Hot (3.25 oz) (Chips & Popcorn TX)\\n$3.19\\n1\\n×\\nBig Red Can (12 pk-12 oz) (Soda TX)\\n$11.29\\n1\\n×\\nIce Small (Fountain, Frozen, & Tea)\\n$4.99\\nSubtotal\\n$19.47\\nSubtotal Tax\\n$1.34\\nCommission (16%)\\n-$3.12\\nTotal Customer Refund\\n-$0.00\\nEstimated Payout\\n$17.69\\nAssociated Transactions (1)\\nTransaction #8080315650 - Delivery\\n$17.69\",\n",
    " \"Order: CA9E35CB\\nDelivered\\nThe order was delivered at 2:28 AM on September 28, 2023. \\nRate Dasher\\nGet help\\nDelivery Details\\nCustomer\\nAntonio G\\nDasher\\nRogelio\\nPicked Up\\n2:02 AM\\n(Quoted: 1:59 AM)\\nSeptember 28, 2023\\nDropped Off\\n2:28 AM\\n(Quoted: 2:33 AM)\\nSeptember 28, 2023\\nPick Up Location\\n801 Lafayette St, Laredo, TX 78041, USA\\nChannel\\nDoorDash\\nFulfillment\\nDoorDash Delivery\\nOrder Details\\n1\\n×\\nKettle Chips Jalapeno (5oz) (Chips & Popcorn TX)\\n$6.29\\n1\\n×\\nA&W Caffeine-Free Root Beer Bottle (20 oz) (Soda TX)\\n$3.79\\n1\\n×\\nCheetos Crunchy Flamin' Hot Limon (8.5 oz) (Chips & Popcorn TX)\\n$6.49\\nSubtotal\\n$16.57\\nSubtotal Tax\\n$0.31\\nCommission (16%)\\n-$2.65\\nTotal Customer Refund\\n-$0.00\\nEstimated Payout\\n$14.23\\nAssociated Transactions (1)\\nTransaction #8080266865 - Delivery\\n$14.23\",\n",
    " \"Order: D5782A52\\nCancelled - Paid\\nThe order was cancelled on September 28, 2023 at 1:00 AM. You’re paid for cancelled orders when you’ve successfully confirmed an order, it was prepared, and you did not initiate or are not at fault for the cancellation. Learn More\\nRate Dasher\\nGet help\\nDelivery Details\\nCustomer\\njenna s\\nDasher\\nTo be assigned\\n1 previous Dasher\\nEstimated Pick Up\\n12:44 AM\\nSeptember 28, 2023\\nEstimated Drop Off\\n1:11 AM\\nSeptember 28, 2023\\nPick Up Location\\n2503 TX-349, Midland, TX 79706, USA\\nChannel\\nDoorDash\\nFulfillment\\nDoorDash Delivery\\nOrder Details\\n1\\n×\\nHershey's Plain King Size (2.6 oz) (Chocolate TX)\\n$3.79\\n1\\n×\\nKraft Philadelphia Cream Cheese, 8oz (Cheese TX)\\n$8.39\\nSubtotal\\n$12.18\\nSubtotal Tax\\n$0.30\\nCommission (23%)\\n-$2.80\\nTotal Customer Refund\\n-$0.00\\nEstimated Payout\\n$9.68\\nAssociated Transactions (1)\\nTransaction #8080161083 - Delivery\\n$9.68\",\n",
    " 'Order: 5CDF188C\\nCancelled - Paid\\nThe order was cancelled on September 28, 2023 at 12:45 AM. You’re paid for cancelled orders when you’ve successfully confirmed an order, it was prepared, and you did not initiate or are not at fault for the cancellation. Learn More\\nGet help\\nDelivery Details\\nCustomer\\nErin B\\nDasher\\nTo be assigned\\nEstimated Pick Up\\n12:02 AM\\nSeptember 28, 2023\\nEstimated Drop Off\\n12:31 AM\\nSeptember 28, 2023\\nPick Up Location\\n3702 FM2147, Horseshoe Bay, TX 78657, USA\\nChannel\\nDoorDash\\nFulfillment\\nDoorDash Delivery\\nOrder Details\\n4\\n×\\nCorona Extra Beer Can (24 oz) (Import Beer 53/66/67)\\n$22.76\\nSubtotal\\n$22.76\\nSubtotal Tax\\n$1.88\\nCommission (25%)\\n-$5.69\\nTotal Customer Refund\\n-$0.00\\nEstimated Payout\\n$18.95\\nAssociated Transactions (1)\\nTransaction #8080129920 - Delivery\\n$18.95',\n",
    " \"Order: 0BC3FC5E\\nDelivered\\nThe order was delivered at 12:36 AM on September 28, 2023. \\nRate Dasher\\nGet help\\nDelivery Details\\nCustomer\\nReice W\\nDasher\\nCynthia\\nPicked Up\\n12:25 AM\\n(Quoted: 12:13 AM)\\nSeptember 28, 2023\\nDropped Off\\n12:36 AM\\n(Quoted: 12:37 AM)\\nSeptember 28, 2023\\nPick Up Location\\n2320 W Main St, Durant, OK 74701, USA\\nChannel\\nDoorDash\\nFulfillment\\nDoorDash Delivery\\nOrder Details\\n1\\n×\\nLay's Classic Potato Chips (7.75 oz) (Chips & Popcorn OK)\\n$5.79\\n1\\n×\\nReese's Peanut Butter Cups King Size (2.84 oz) (Chocolate OK)\\n$3.39\\n1\\n×\\nAir Heads Bites (2oz) (Fruity OK)\\n$4.99\\n1\\n×\\nCrush Orange Can (12pk 12oz) (Soda OK)\\n$11.29\\nSubtotal\\n$25.46\\nPromo Paid by DoorDash\\n-$15.00\\n(60% off, up to $15)\\nSubtotal for Tax Calculations\\n$10.46\\nSubtotal Tax\\n$0.98\\nCommission (23%)\\n-$5.86\\nTotal Customer Refund\\n-$0.00\\nEstimated Payout\\n$19.60\\nAssociated Transactions (1)\\nTransaction #8080078554 - Delivery\\n$19.60\"]"
   ],
   "metadata": {
    "collapsed": false,
    "ExecuteTime": {
     "end_time": "2023-09-30T23:09:22.645120Z",
     "start_time": "2023-09-30T23:09:22.635473Z"
    }
   },
   "id": "ee1cc9f8715b1da7"
  },
  {
   "cell_type": "code",
   "execution_count": 48,
   "outputs": [],
   "source": [
    "def clean_order_text(order):\n",
    "    # Define the patterns in a list\n",
    "    patterns = [\n",
    "        re.compile(r'(Rate Dasher|Learn More|Get help).*?(?=Pick Up Location)', re.DOTALL),\n",
    "        re.compile(r'Channel.*?(?=Order Details)', re.DOTALL),\n",
    "        re.compile(r'Associated Transactions \\(\\d+\\).*?(?=Transaction #\\d+ - Delivery)', re.DOTALL),\n",
    "        re.compile(r'Associated Transactions \\(\\d+\\).*?(?=Transaction #\\d+ - Pickup)', re.DOTALL)\n",
    "\n",
    "    ]\n",
    "\n",
    "    # Apply each pattern\n",
    "    for pattern in patterns:\n",
    "        order = re.sub(pattern, '', order).strip()\n",
    "\n",
    "    # Replace newline characters with spaces\n",
    "    order = order.replace('\\n', ' ')\n",
    "    print(f'order **************: {order}')\n",
    "\n",
    "    return order\n"
   ],
   "metadata": {
    "collapsed": false,
    "ExecuteTime": {
     "end_time": "2023-09-30T23:09:26.947117Z",
     "start_time": "2023-09-30T23:09:26.922303Z"
    }
   },
   "id": "1a29849fa066b91f"
  },
  {
   "cell_type": "code",
   "execution_count": 49,
   "outputs": [],
   "source": [
    "def parse_menu_items(price_as_value):\n",
    "    # Initialize a dictionary for the nested order details\n",
    "    item_name_to_item_price = {}\n",
    "\n",
    "    # Regular expression pattern to match an item and its corresponding price\n",
    "    pattern = re.compile(r'(.+?) (\\$\\d+\\.\\d+)')\n",
    "\n",
    "    # Find all matches in the string\n",
    "    matches = pattern.findall(price_as_value)\n",
    "\n",
    "    # Loop through all the matches and populate the dictionary\n",
    "    for item_name, item_price in matches:\n",
    "        item_name_to_item_price[item_name] = item_price\n",
    "\n",
    "    return item_name_to_item_price\n"
   ],
   "metadata": {
    "collapsed": false,
    "ExecuteTime": {
     "end_time": "2023-09-30T23:09:27.458511Z",
     "start_time": "2023-09-30T23:09:27.412835Z"
    }
   },
   "id": "48f8a5ee211cd0c"
  },
  {
   "cell_type": "code",
   "execution_count": 50,
   "outputs": [],
   "source": [
    "def parse_order(order):\n",
    "    # Define the known keys with their regex patterns\n",
    "    known_keys = [r'\\bOrder: \\b', r'\\bDelivered\\b', r'\\bCustomer\\sPicked\\sUp\\b', r'\\bCancelled\\s-\\sNot\\sPaid\\b', r'\\bCancelled\\s-\\sPaid\\b', r'\\bPick Up Location\\b', r'\\bOrder Details\\b',\n",
    "                  r'\\bSubtotal\\b(?=\\s[^a-zA-Z])', r'\\bSubtotal\\sTax\\b', r'Commission \\(\\d+%\\)',\n",
    "                  r'\\bTotal Customer Refund\\b', r'\\bEstimated Payout\\b', r'\\bAssociated Transactions \\(\\d+%\\)',\n",
    "                  r'Transaction #\\d+ - Delivery']\n",
    "\n",
    "    # Initialize the dictionary to store our parsed values\n",
    "    order_dict = {}\n",
    "\n",
    "    # Find positions of known keys\n",
    "    positions = []\n",
    "    for key in known_keys:\n",
    "        for m in re.finditer(key, order):\n",
    "            positions.append((m.start(), m.end(), m.group()))\n",
    "\n",
    "    # Sort positions by their start index\n",
    "    positions.sort(key=lambda x: x[0])\n",
    "    # print(positions)\n",
    "\n",
    "    # Create segments based on positions\n",
    "    segments = []\n",
    "\n",
    "    for i in range(len(positions)):\n",
    "        start = positions[i][1]\n",
    "        end = positions[i + 1][0] if i + 1 < len(positions) else len(order)\n",
    "        key = positions[i][2]\n",
    "        value = order[start:end].strip().split(' ')[0] if 'Estimated Payout' in key else order[start:end].strip()\n",
    "        segments.append((key, value))\n",
    "\n",
    "    # Parse segments into dictionary\n",
    "    for key, value in segments:\n",
    "        if key == \"Order Details\":\n",
    "            value = parse_menu_items(value)\n",
    "        order_dict[key.replace(':', '').strip()] = value\n",
    "\n",
    "    return order_dict\n"
   ],
   "metadata": {
    "collapsed": false,
    "ExecuteTime": {
     "end_time": "2023-09-30T23:09:28.926732Z",
     "start_time": "2023-09-30T23:09:28.916340Z"
    }
   },
   "id": "908a80250670f0ee"
  },
  {
   "cell_type": "code",
   "execution_count": 51,
   "outputs": [],
   "source": [
    "def main_looper_func(orders):\n",
    "\n",
    "    results = []\n",
    "\n",
    "    for order in orders:\n",
    "        # 1. Get order strings squeaky clean!\n",
    "        order_cleaned = clean_order_text(order)\n",
    "\n",
    "        # 2. Parse each cleaned order string into formatted key/value pairs\n",
    "        parsed_order = parse_order(order_cleaned)\n",
    "\n",
    "        results.append(parsed_order)\n",
    "\n",
    "    return results\n"
   ],
   "metadata": {
    "collapsed": false,
    "ExecuteTime": {
     "end_time": "2023-09-30T23:09:30.263395Z",
     "start_time": "2023-09-30T23:09:30.250609Z"
    }
   },
   "id": "2248d864d3a3b9a6"
  },
  {
   "cell_type": "code",
   "execution_count": 52,
   "outputs": [],
   "source": [
    "import re\n",
    "import json"
   ],
   "metadata": {
    "collapsed": false,
    "ExecuteTime": {
     "end_time": "2023-09-30T23:09:31.499031Z",
     "start_time": "2023-09-30T23:09:31.480337Z"
    }
   },
   "id": "e13f63df8f80cb94"
  },
  {
   "cell_type": "code",
   "execution_count": 53,
   "outputs": [
    {
     "name": "stdout",
     "output_type": "stream",
     "text": [
      "order **************: Order: A348DFB6 Delivered The order was delivered at 11:47 PM on September 28, 2023.  Pick Up Location 801 Lafayette St, Laredo, TX 78041, USA Order Details 1 × Ice Small (Fountain, Frozen, & Tea) $4.99 2 × TXB Water Bottle (24 pk) (16.9 oz) (Water TX) $14.98 Subtotal $19.97 Subtotal Tax $0.41 Commission (23%) -$4.59 Total Customer Refund -$0.00 Estimated Payout $15.79 Transaction #8087670804 - Delivery $15.79\n",
      "order **************: Order: EC218FA4 Delivered The order was delivered at 11:22 PM on September 28, 2023.  Pick Up Location 800 W Interstate 20, Big Spring, TX 79720, USA Order Details 1 × Ice Small (Fountain, Frozen, & Tea) $4.99 Subtotal $4.99 Subtotal Tax $0.41 Commission (16%) -$0.80 Total Customer Refund -$0.00 Estimated Payout $4.60 Transaction #8087614462 - Delivery $4.60\n",
      "order **************: Order: 7D285B12 Delivered The order was delivered at 10:23 PM on September 28, 2023.  Pick Up Location 800 W Interstate 20, Big Spring, TX 79720, USA Order Details 1 × Big Red Bottle (20oz) (Soda TX) $3.79 1 × Fountain Drink (Fountain, Frozen, & Tea) Drink Selection: Dr Pepper $0.00 1 × Crush Orange Bottle (20oz) (Soda TX) $3.79 1 × Big Blue Bottle (20oz) (Soda TX) $3.79 Subtotal $11.37 Subtotal Tax $0.94 Commission (23%) -$2.62 Total Customer Refund -$0.00 Estimated Payout $9.69 Transaction #8087246804 - Delivery $9.69\n",
      "order **************: Order: F9F46AEF Delivered The order was delivered at 7:47 PM on September 28, 2023.  Pick Up Location 1001 W Van Alstyne Pkwy, Van Alstyne, TX 75495, USA Order Details 1 × Cheetos Crunchy Flamin' Hot (3.25 oz) (Chips & Popcorn TX) $3.19 1 × Squirt Bottle (20 oz) (Soda TX) $3.19 2 × Dr Pepper Bottle (20 oz) (Soda TX) $7.58 1 × Doritos Nacho Cheese (9.25 oz) (Chips & Popcorn TX) $6.99 Subtotal $20.95 Subtotal Tax $0.89 Commission (23%) -$4.82 Total Customer Refund -$0.00 Estimated Payout $17.02 Transaction #8085798910 - Delivery $17.02\n",
      "order **************: Order: 7D8C6B67 Delivered The order was delivered at 6:07 PM on September 28, 2023.  Pick Up Location 3702 FM2147, Horseshoe Bay, TX 78657, USA Order Details 1 × Sprite Bottle (20 oz) (Soda TX) $3.19 2 × Dr Pepper Bottle (20 oz) (Soda TX) $7.58 Subtotal $10.77 Subtotal Tax $0.89 Commission (20%) -$2.15 Total Customer Refund -$0.00 Estimated Payout $9.51 Transaction #8084663509 - Delivery $9.51\n",
      "order **************: Order: 702662D6 Delivered The order was delivered at 4:16 PM on September 28, 2023.  Pick Up Location 201 S 9th St, Durant, OK 74701, USA Order Details 1 × Keystone Light Beer Can (12 oz x 15 ct) (Domestic Beer OK) $16.29 Subtotal $16.29 Subtotal Tax $1.53 Alcohol Fee -$1.00 Total Customer Refund -$0.00 Estimated Payout $15.29 Transaction #8083626907 - Delivery $15.29\n",
      "order **************: Order: 00BEC8AB Delivered The order was delivered at 11:48 AM on September 28, 2023.  Pick Up Location 816 N Center St, Bonham, TX 75418, USA Order Details 1 × Hand-Breaded Chicken Roll Sandwich (Hot Sandwiches TXB#6) Dipping Sauce: Honey Mustard Dipping Sauce Original or Spicy: Original $4.19 1 × Fountain Drink (Fountain, Frozen, & Tea) Drink Selection: Diet Dr Pepper $0.00 Subtotal $4.19 Subtotal Tax $0.35 Commission (16%) -$0.67 Total Customer Refund -$0.00 Estimated Payout $3.87 Transaction #8081758649 - Delivery $3.87\n",
      "order **************: Order: F20F6AE7 Delivered The order was delivered at 2:55 AM on September 28, 2023.  Pick Up Location 801 Lafayette St, Laredo, TX 78041, USA Order Details 1 × Cheetos Crunchy Flamin' Hot (3.25 oz) (Chips & Popcorn TX) $3.19 1 × Big Red Can (12 pk-12 oz) (Soda TX) $11.29 1 × Ice Small (Fountain, Frozen, & Tea) $4.99 Subtotal $19.47 Subtotal Tax $1.34 Commission (16%) -$3.12 Total Customer Refund -$0.00 Estimated Payout $17.69 Transaction #8080315650 - Delivery $17.69\n",
      "order **************: Order: CA9E35CB Delivered The order was delivered at 2:28 AM on September 28, 2023.  Pick Up Location 801 Lafayette St, Laredo, TX 78041, USA Order Details 1 × Kettle Chips Jalapeno (5oz) (Chips & Popcorn TX) $6.29 1 × A&W Caffeine-Free Root Beer Bottle (20 oz) (Soda TX) $3.79 1 × Cheetos Crunchy Flamin' Hot Limon (8.5 oz) (Chips & Popcorn TX) $6.49 Subtotal $16.57 Subtotal Tax $0.31 Commission (16%) -$2.65 Total Customer Refund -$0.00 Estimated Payout $14.23 Transaction #8080266865 - Delivery $14.23\n",
      "order **************: Order: D5782A52 Cancelled - Paid The order was cancelled on September 28, 2023 at 1:00 AM. You’re paid for cancelled orders when you’ve successfully confirmed an order, it was prepared, and you did not initiate or are not at fault for the cancellation. Pick Up Location 2503 TX-349, Midland, TX 79706, USA Order Details 1 × Hershey's Plain King Size (2.6 oz) (Chocolate TX) $3.79 1 × Kraft Philadelphia Cream Cheese, 8oz (Cheese TX) $8.39 Subtotal $12.18 Subtotal Tax $0.30 Commission (23%) -$2.80 Total Customer Refund -$0.00 Estimated Payout $9.68 Transaction #8080161083 - Delivery $9.68\n",
      "order **************: Order: 5CDF188C Cancelled - Paid The order was cancelled on September 28, 2023 at 12:45 AM. You’re paid for cancelled orders when you’ve successfully confirmed an order, it was prepared, and you did not initiate or are not at fault for the cancellation. Pick Up Location 3702 FM2147, Horseshoe Bay, TX 78657, USA Order Details 4 × Corona Extra Beer Can (24 oz) (Import Beer 53/66/67) $22.76 Subtotal $22.76 Subtotal Tax $1.88 Commission (25%) -$5.69 Total Customer Refund -$0.00 Estimated Payout $18.95 Transaction #8080129920 - Delivery $18.95\n",
      "order **************: Order: 0BC3FC5E Delivered The order was delivered at 12:36 AM on September 28, 2023.  Pick Up Location 2320 W Main St, Durant, OK 74701, USA Order Details 1 × Lay's Classic Potato Chips (7.75 oz) (Chips & Popcorn OK) $5.79 1 × Reese's Peanut Butter Cups King Size (2.84 oz) (Chocolate OK) $3.39 1 × Air Heads Bites (2oz) (Fruity OK) $4.99 1 × Crush Orange Can (12pk 12oz) (Soda OK) $11.29 Subtotal $25.46 Promo Paid by DoorDash -$15.00 (60% off, up to $15) Subtotal for Tax Calculations $10.46 Subtotal Tax $0.98 Commission (23%) -$5.86 Total Customer Refund -$0.00 Estimated Payout $19.60 Transaction #8080078554 - Delivery $19.60\n"
     ]
    }
   ],
   "source": [
    "results = main_looper_func(orders)"
   ],
   "metadata": {
    "collapsed": false,
    "ExecuteTime": {
     "end_time": "2023-09-30T23:09:32.192954Z",
     "start_time": "2023-09-30T23:09:32.185268Z"
    }
   },
   "id": "c5030719f048513b"
  },
  {
   "cell_type": "code",
   "execution_count": 54,
   "outputs": [
    {
     "name": "stdout",
     "output_type": "stream",
     "text": [
      "[\n",
      "    {\n",
      "        \"Order\": \"A348DFB6\",\n",
      "        \"Delivered\": \"The order was delivered at 11:47 PM on September 28, 2023.\",\n",
      "        \"Pick Up Location\": \"801 Lafayette St, Laredo, TX 78041, USA\",\n",
      "        \"Order Details\": {\n",
      "            \"1 \\u00d7 Ice Small (Fountain, Frozen, & Tea)\": \"$4.99\",\n",
      "            \" 2 \\u00d7 TXB Water Bottle (24 pk) (16.9 oz) (Water TX)\": \"$14.98\"\n",
      "        },\n",
      "        \"Subtotal\": \"$19.97\",\n",
      "        \"Subtotal Tax\": \"$0.41\",\n",
      "        \"Commission (23%)\": \"-$4.59\",\n",
      "        \"Total Customer Refund\": \"-$0.00\",\n",
      "        \"Estimated Payout\": \"$15.79\",\n",
      "        \"Transaction #8087670804 - Delivery\": \"$15.79\"\n",
      "    },\n",
      "    {\n",
      "        \"Order\": \"EC218FA4\",\n",
      "        \"Delivered\": \"The order was delivered at 11:22 PM on September 28, 2023.\",\n",
      "        \"Pick Up Location\": \"800 W Interstate 20, Big Spring, TX 79720, USA\",\n",
      "        \"Order Details\": {\n",
      "            \"1 \\u00d7 Ice Small (Fountain, Frozen, & Tea)\": \"$4.99\"\n",
      "        },\n",
      "        \"Subtotal\": \"$4.99\",\n",
      "        \"Subtotal Tax\": \"$0.41\",\n",
      "        \"Commission (16%)\": \"-$0.80\",\n",
      "        \"Total Customer Refund\": \"-$0.00\",\n",
      "        \"Estimated Payout\": \"$4.60\",\n",
      "        \"Transaction #8087614462 - Delivery\": \"$4.60\"\n",
      "    },\n",
      "    {\n",
      "        \"Order\": \"7D285B12\",\n",
      "        \"Delivered\": \"The order was delivered at 10:23 PM on September 28, 2023.\",\n",
      "        \"Pick Up Location\": \"800 W Interstate 20, Big Spring, TX 79720, USA\",\n",
      "        \"Order Details\": {\n",
      "            \"1 \\u00d7 Big Red Bottle (20oz) (Soda TX)\": \"$3.79\",\n",
      "            \" 1 \\u00d7 Fountain Drink (Fountain, Frozen, & Tea) Drink Selection: Dr Pepper\": \"$0.00\",\n",
      "            \" 1 \\u00d7 Crush Orange Bottle (20oz) (Soda TX)\": \"$3.79\",\n",
      "            \" 1 \\u00d7 Big Blue Bottle (20oz) (Soda TX)\": \"$3.79\"\n",
      "        },\n",
      "        \"Subtotal\": \"$11.37\",\n",
      "        \"Subtotal Tax\": \"$0.94\",\n",
      "        \"Commission (23%)\": \"-$2.62\",\n",
      "        \"Total Customer Refund\": \"-$0.00\",\n",
      "        \"Estimated Payout\": \"$9.69\",\n",
      "        \"Transaction #8087246804 - Delivery\": \"$9.69\"\n",
      "    },\n",
      "    {\n",
      "        \"Order\": \"F9F46AEF\",\n",
      "        \"Delivered\": \"The order was delivered at 7:47 PM on September 28, 2023.\",\n",
      "        \"Pick Up Location\": \"1001 W Van Alstyne Pkwy, Van Alstyne, TX 75495, USA\",\n",
      "        \"Order Details\": {\n",
      "            \"1 \\u00d7 Cheetos Crunchy Flamin' Hot (3.25 oz) (Chips & Popcorn TX)\": \"$3.19\",\n",
      "            \" 1 \\u00d7 Squirt Bottle (20 oz) (Soda TX)\": \"$3.19\",\n",
      "            \" 2 \\u00d7 Dr Pepper Bottle (20 oz) (Soda TX)\": \"$7.58\",\n",
      "            \" 1 \\u00d7 Doritos Nacho Cheese (9.25 oz) (Chips & Popcorn TX)\": \"$6.99\"\n",
      "        },\n",
      "        \"Subtotal\": \"$20.95\",\n",
      "        \"Subtotal Tax\": \"$0.89\",\n",
      "        \"Commission (23%)\": \"-$4.82\",\n",
      "        \"Total Customer Refund\": \"-$0.00\",\n",
      "        \"Estimated Payout\": \"$17.02\",\n",
      "        \"Transaction #8085798910 - Delivery\": \"$17.02\"\n",
      "    },\n",
      "    {\n",
      "        \"Order\": \"7D8C6B67\",\n",
      "        \"Delivered\": \"The order was delivered at 6:07 PM on September 28, 2023.\",\n",
      "        \"Pick Up Location\": \"3702 FM2147, Horseshoe Bay, TX 78657, USA\",\n",
      "        \"Order Details\": {\n",
      "            \"1 \\u00d7 Sprite Bottle (20 oz) (Soda TX)\": \"$3.19\",\n",
      "            \" 2 \\u00d7 Dr Pepper Bottle (20 oz) (Soda TX)\": \"$7.58\"\n",
      "        },\n",
      "        \"Subtotal\": \"$10.77\",\n",
      "        \"Subtotal Tax\": \"$0.89\",\n",
      "        \"Commission (20%)\": \"-$2.15\",\n",
      "        \"Total Customer Refund\": \"-$0.00\",\n",
      "        \"Estimated Payout\": \"$9.51\",\n",
      "        \"Transaction #8084663509 - Delivery\": \"$9.51\"\n",
      "    },\n",
      "    {\n",
      "        \"Order\": \"702662D6\",\n",
      "        \"Delivered\": \"The order was delivered at 4:16 PM on September 28, 2023.\",\n",
      "        \"Pick Up Location\": \"201 S 9th St, Durant, OK 74701, USA\",\n",
      "        \"Order Details\": {\n",
      "            \"1 \\u00d7 Keystone Light Beer Can (12 oz x 15 ct) (Domestic Beer OK)\": \"$16.29\"\n",
      "        },\n",
      "        \"Subtotal\": \"$16.29\",\n",
      "        \"Subtotal Tax\": \"$1.53 Alcohol Fee -$1.00\",\n",
      "        \"Total Customer Refund\": \"-$0.00\",\n",
      "        \"Estimated Payout\": \"$15.29\",\n",
      "        \"Transaction #8083626907 - Delivery\": \"$15.29\"\n",
      "    },\n",
      "    {\n",
      "        \"Order\": \"00BEC8AB\",\n",
      "        \"Delivered\": \"The order was delivered at 11:48 AM on September 28, 2023.\",\n",
      "        \"Pick Up Location\": \"816 N Center St, Bonham, TX 75418, USA\",\n",
      "        \"Order Details\": {\n",
      "            \"1 \\u00d7 Hand-Breaded Chicken Roll Sandwich (Hot Sandwiches TXB#6) Dipping Sauce: Honey Mustard Dipping Sauce Original or Spicy: Original\": \"$4.19\",\n",
      "            \" 1 \\u00d7 Fountain Drink (Fountain, Frozen, & Tea) Drink Selection: Diet Dr Pepper\": \"$0.00\"\n",
      "        },\n",
      "        \"Subtotal\": \"$4.19\",\n",
      "        \"Subtotal Tax\": \"$0.35\",\n",
      "        \"Commission (16%)\": \"-$0.67\",\n",
      "        \"Total Customer Refund\": \"-$0.00\",\n",
      "        \"Estimated Payout\": \"$3.87\",\n",
      "        \"Transaction #8081758649 - Delivery\": \"$3.87\"\n",
      "    },\n",
      "    {\n",
      "        \"Order\": \"F20F6AE7\",\n",
      "        \"Delivered\": \"The order was delivered at 2:55 AM on September 28, 2023.\",\n",
      "        \"Pick Up Location\": \"801 Lafayette St, Laredo, TX 78041, USA\",\n",
      "        \"Order Details\": {\n",
      "            \"1 \\u00d7 Cheetos Crunchy Flamin' Hot (3.25 oz) (Chips & Popcorn TX)\": \"$3.19\",\n",
      "            \" 1 \\u00d7 Big Red Can (12 pk-12 oz) (Soda TX)\": \"$11.29\",\n",
      "            \" 1 \\u00d7 Ice Small (Fountain, Frozen, & Tea)\": \"$4.99\"\n",
      "        },\n",
      "        \"Subtotal\": \"$19.47\",\n",
      "        \"Subtotal Tax\": \"$1.34\",\n",
      "        \"Commission (16%)\": \"-$3.12\",\n",
      "        \"Total Customer Refund\": \"-$0.00\",\n",
      "        \"Estimated Payout\": \"$17.69\",\n",
      "        \"Transaction #8080315650 - Delivery\": \"$17.69\"\n",
      "    },\n",
      "    {\n",
      "        \"Order\": \"CA9E35CB\",\n",
      "        \"Delivered\": \"The order was delivered at 2:28 AM on September 28, 2023.\",\n",
      "        \"Pick Up Location\": \"801 Lafayette St, Laredo, TX 78041, USA\",\n",
      "        \"Order Details\": {\n",
      "            \"1 \\u00d7 Kettle Chips Jalapeno (5oz) (Chips & Popcorn TX)\": \"$6.29\",\n",
      "            \" 1 \\u00d7 A&W Caffeine-Free Root Beer Bottle (20 oz) (Soda TX)\": \"$3.79\",\n",
      "            \" 1 \\u00d7 Cheetos Crunchy Flamin' Hot Limon (8.5 oz) (Chips & Popcorn TX)\": \"$6.49\"\n",
      "        },\n",
      "        \"Subtotal\": \"$16.57\",\n",
      "        \"Subtotal Tax\": \"$0.31\",\n",
      "        \"Commission (16%)\": \"-$2.65\",\n",
      "        \"Total Customer Refund\": \"-$0.00\",\n",
      "        \"Estimated Payout\": \"$14.23\",\n",
      "        \"Transaction #8080266865 - Delivery\": \"$14.23\"\n",
      "    },\n",
      "    {\n",
      "        \"Order\": \"D5782A52\",\n",
      "        \"Cancelled - Paid\": \"The order was cancelled on September 28, 2023 at 1:00 AM. You\\u2019re paid for cancelled orders when you\\u2019ve successfully confirmed an order, it was prepared, and you did not initiate or are not at fault for the cancellation.\",\n",
      "        \"Pick Up Location\": \"2503 TX-349, Midland, TX 79706, USA\",\n",
      "        \"Order Details\": {\n",
      "            \"1 \\u00d7 Hershey's Plain King Size (2.6 oz) (Chocolate TX)\": \"$3.79\",\n",
      "            \" 1 \\u00d7 Kraft Philadelphia Cream Cheese, 8oz (Cheese TX)\": \"$8.39\"\n",
      "        },\n",
      "        \"Subtotal\": \"$12.18\",\n",
      "        \"Subtotal Tax\": \"$0.30\",\n",
      "        \"Commission (23%)\": \"-$2.80\",\n",
      "        \"Total Customer Refund\": \"-$0.00\",\n",
      "        \"Estimated Payout\": \"$9.68\",\n",
      "        \"Transaction #8080161083 - Delivery\": \"$9.68\"\n",
      "    },\n",
      "    {\n",
      "        \"Order\": \"5CDF188C\",\n",
      "        \"Cancelled - Paid\": \"The order was cancelled on September 28, 2023 at 12:45 AM. You\\u2019re paid for cancelled orders when you\\u2019ve successfully confirmed an order, it was prepared, and you did not initiate or are not at fault for the cancellation.\",\n",
      "        \"Pick Up Location\": \"3702 FM2147, Horseshoe Bay, TX 78657, USA\",\n",
      "        \"Order Details\": {\n",
      "            \"4 \\u00d7 Corona Extra Beer Can (24 oz) (Import Beer 53/66/67)\": \"$22.76\"\n",
      "        },\n",
      "        \"Subtotal\": \"$22.76\",\n",
      "        \"Subtotal Tax\": \"$1.88\",\n",
      "        \"Commission (25%)\": \"-$5.69\",\n",
      "        \"Total Customer Refund\": \"-$0.00\",\n",
      "        \"Estimated Payout\": \"$18.95\",\n",
      "        \"Transaction #8080129920 - Delivery\": \"$18.95\"\n",
      "    },\n",
      "    {\n",
      "        \"Order\": \"0BC3FC5E\",\n",
      "        \"Delivered\": \"The order was delivered at 12:36 AM on September 28, 2023.\",\n",
      "        \"Pick Up Location\": \"2320 W Main St, Durant, OK 74701, USA\",\n",
      "        \"Order Details\": {\n",
      "            \"1 \\u00d7 Lay's Classic Potato Chips (7.75 oz) (Chips & Popcorn OK)\": \"$5.79\",\n",
      "            \" 1 \\u00d7 Reese's Peanut Butter Cups King Size (2.84 oz) (Chocolate OK)\": \"$3.39\",\n",
      "            \" 1 \\u00d7 Air Heads Bites (2oz) (Fruity OK)\": \"$4.99\",\n",
      "            \" 1 \\u00d7 Crush Orange Can (12pk 12oz) (Soda OK)\": \"$11.29\"\n",
      "        },\n",
      "        \"Subtotal\": \"$25.46 Promo Paid by DoorDash -$15.00 (60% off, up to $15) Subtotal for Tax Calculations $10.46\",\n",
      "        \"Subtotal Tax\": \"$0.98\",\n",
      "        \"Commission (23%)\": \"-$5.86\",\n",
      "        \"Total Customer Refund\": \"-$0.00\",\n",
      "        \"Estimated Payout\": \"$19.60\",\n",
      "        \"Transaction #8080078554 - Delivery\": \"$19.60\"\n",
      "    }\n",
      "]\n"
     ]
    }
   ],
   "source": [
    "def prettify_list_of_dicts(list_of_dicts):\n",
    "    return json.dumps(list_of_dicts, indent=4)\n",
    "\n",
    "\n",
    "print(prettify_list_of_dicts(results))\n",
    "\n"
   ],
   "metadata": {
    "collapsed": false,
    "ExecuteTime": {
     "end_time": "2023-09-30T23:09:35.963652Z",
     "start_time": "2023-09-30T23:09:35.946423Z"
    }
   },
   "id": "1c8f195d766aae07"
  },
  {
   "cell_type": "code",
   "execution_count": 1,
   "outputs": [],
   "source": [
    "list_of_mapped_orders = [{'Order': '42C2A525', 'Delivered': 'The order was delivered at 11:41 PM on October 1, 2023.', 'Pick Up Location': '5004 Wesley St, Greenville, TX 75402, USA', 'Order Details': {'1 × Coca-Cola Can (12 pk-12 oz) (Soda TX)': '$11.29', ' 1 × TXB Water Bottle (24 pk) (16.9 oz) (Water TX)': '$7.49', ' 1 × Coke Classic Bottle (20oz) (Soda TX)': '$3.19'}, 'Subtotal': '$21.97', 'Subtotal Tax': '$1.19', 'Commission (23%)': '-$5.05', 'Total Customer Refund': '-$0.00', 'Estimated Payout': '$18.11', 'Transaction #8113346069 - Delivery': '$18.11', 'Store Number': '20'}, {'Order': 'AA85B890', 'Delivered': 'The order was delivered at 10:08 PM on October 1, 2023.', 'Pick Up Location': '5004 Wesley St, Greenville, TX 75402, USA', 'Order Details': {'1 × Moon Pie Double Decker Banana (2.75oz) (Pastry TX)': '$2.29', ' 1 × Moon Pie Double Decker Chocolate (2.75oz) (Pastry TX)': '$2.29', ' 1 × TXB Sweet Tea Bottle (16oz) (Tea TX)': '$3.29', ' 1 × TXB Strawberry White Tea Bottle (16oz) (Tea TX)': '$2.59', ' 1 × TXB Premium Electrolyte Water Bottle (12pk 1L) (Water TX)': '$4.09'}, 'Subtotal': '$14.55', 'Subtotal Tax': '$0.59', 'Commission (16%)': '-$2.33', 'Total Customer Refund': '-$0.00', 'Estimated Payout': '$12.81', 'Transaction #8112864098 - Delivery': '$12.81', 'Store Number': '20'}, {'Order': '773C7330', 'Delivered': 'The order was delivered at 9:07 PM on October 1, 2023.', 'Pick Up Location': '5004 Wesley St, Greenville, TX 75402, USA', 'Order Details': {'1 × Lone Star Beer Can (16 oz x 6 ct) (Domestic Beer NT)': '$13.79'}, 'Subtotal': '$13.79', 'Subtotal Tax': '$1.14', 'Commission (16%)': '-$2.21', 'Total Customer Refund': '-$0.00', 'Estimated Payout': '$12.72', 'Transaction #8112394394 - Delivery': '$12.72', 'Store Number': '20'}, {'Order': 'EDCB46B1', 'Delivered': 'Error Charge The customer reported one or more missing items resulting in an error charge of $5.86. If you believe this was an error, you can dispute the error charge by October 15, 2023.', 'Pick Up Location': '1001 W Van Alstyne Pkwy, Van Alstyne, TX 75495, USA', 'Order Details': {'1 × Michelob Ultra Light Beer Can (12 oz x 12 ct) (Domestic Beer NT)': '$27.49', ' 1 × Truly Hard Seltzer Berry Mix Pack Can (12 oz x 12 ct) (Seltzer NT)': '$28.79'}, 'Subtotal': '-$5.30 Error Charge Tax -$0.56 Error Charge Total -$5.86 Order Total $47.98', 'Commission (23%)': '-$12.94 Order Total $47.98 Error Charges 1 × Michelob Ultra Light Beer Can (12 oz x 12 ct) (Domestic Beer NT) Missing Item -$5.30 Error Charge', 'Estimated Payout': '$42.12', 'Transaction #8109695187 - Delivery': '$47.98 Transaction #8109811800 - Error Charges -$5.86', 'Store Number': '32'}, {'Order': '68944F97', 'Delivered': 'The order was delivered at 2:50 PM on October 1, 2023.', 'Pick Up Location': '800 W Interstate 20, Big Spring, TX 79720, USA', 'Order Details': {'2 × Michelob Ultra Light Beer Can (12 oz x 18 ct) (Domestic Beer ST)': '$72.58'}, 'Subtotal': '$72.58', 'Subtotal Tax': '$5.99', 'Commission (23%)': '-$16.69', 'Total Customer Refund': '-$0.00', 'Estimated Payout': '$61.88', 'Transaction #8108722869 - Delivery': '$61.88', 'Store Number': '70'}, {'Order': 'ED39CFE2', 'Delivered': 'Error Charge The customer reported one or more missing items resulting in an error charge of $8.11. If you believe this was an error, you can dispute the error charge by October 15, 2023.', 'Pick Up Location': '1301 N U.S. Hwy 281, Marble Falls, TX 78654, USA', 'Order Details': {'1 × Ice Large (Fountain, Frozen, & Tea)': '$7.49', ' 1 × Campbells Chicken Noodle Bowl (15.4oz) (Pantry TX)': '$5.29', ' 2 × TXB Premium Electrolyte Water (1 lt) (Water TX)': '$8.78', ' 1 × 7 Up Bottle (20 oz) (Soda TX)': '$3.79', ' 2 × Gatorade Cool Blue (28 oz) (Sports Drinks TX)': '$9.58'}, 'Subtotal': '-$7.50 Error Charge Tax -$0.61 Error Charge Total -$8.11 Order Total $28.36', 'Commission (25%)': '-$8.73 Order Total $28.36 Error Charges 1 × Ice Large (Fountain, Frozen, & Tea) Missing Item -$7.50 Error Charge', 'Estimated Payout': '$20.25', 'Transaction #8107801352 - Delivery': '$28.36 Transaction #8107871093 - Error Charges -$8.11', 'Store Number': '53'}, {'Order': '78BAE2F8', 'Delivered': 'The order was delivered at 12:41 PM on October 1, 2023.', 'Pick Up Location': '1001 S State Hwy 16, Fredericksburg, TX 78624, USA', 'Order Details': {'1 × Crush Grape Bottle (20oz) (Soda TX)': '$3.79', ' 1 × Turkey & Bacon Wrap (Salads, Wraps, & Cold Sandwiches TXB#61)': '$8.79', ' Subtotal for Tax Calculations': '$12.58'}, 'Subtotal Tax': '$1.04', 'Commission (16%)': '-$2.01', 'Total Customer Refund': '-$0.00', 'Estimated Payout': '$11.61', 'Transaction #8107649354 - Delivery': '$11.61', 'Store Number': '61'}, {'Order': 'DE4528F2', 'Delivered': 'The order was delivered at 12:39 PM on October 1, 2023.', 'Pick Up Location': '2320 W Main St, Durant, OK 74701, USA', 'Order Details': {'1 × Coke Classic Bottle (20oz) (Soda OK)': '$3.19', ' 2 × Red Bull Energy Drink Can (12 oz) (Energy Drinks OK)': '$11.58'}, 'Subtotal': '$14.77', 'Subtotal Tax': '$1.38', 'Commission (23%)': '-$3.40', 'Total Customer Refund': '-$0.00', 'Estimated Payout': '$11.37', 'Transaction #8107692197 - Delivery': '$11.37', 'Store Number': '16'}, {'Order': 'F5539B37', 'Delivered': 'The order was delivered at 10:52 AM on October 1, 2023.', 'Pick Up Location': '3702 FM2147, Horseshoe Bay, TX 78657, USA', 'Order Details': {'2 × Chorizo Egg Cheese Quesadilla (Breakfast Tacos & Quesadillas) Salsa: Salsa Roja': '$14.98'}, 'Subtotal': '$14.98', 'Subtotal Tax': '$1.24', 'Commission (25%)': '-$3.75', 'Total Customer Refund': '-$0.00', 'Estimated Payout': '$12.47', 'Transaction #8106904074 - Delivery': '$12.47', 'Store Number': '67'}, {'Order': 'FE329688', 'Delivered': 'The order was delivered at 10:03 AM on October 1, 2023.', 'Pick Up Location': '800 W Interstate 20, Big Spring, TX 79720, USA', 'Order Details': {'3 × Red Bull Energy Drink Can (12 oz) (Energy Drinks TX)': '$17.37'}, 'Subtotal': '$17.37', 'Subtotal Tax': '$1.43', 'Commission (16%)': '-$2.78', 'Total Customer Refund': '-$0.00', 'Estimated Payout': '$16.02', 'Transaction #8106720721 - Delivery': '$16.02', 'Store Number': '70'}, {'Order': 'C5A903F0', 'Cancelled - Paid': 'The order was cancelled on October 1, 2023 at 7:31 AM. You’re paid for cancelled orders when you’ve successfully confirmed an order, it was prepared, and you did not initiate or are not at fault for the cancellation.', 'Pick Up Location': '2503 TX-349, Midland, TX 79706, USA', 'Order Details': {'1 × Sausage Egg Cheese Taco (Breakfast Tacos & Quesadillas)': '$3.79'}, 'Subtotal': '$3.79', 'Subtotal Tax': '$0.30', 'Commission (16%)': '-$0.61', 'Total Customer Refund': '-$0.00', 'Estimated Payout': '$3.48', 'Transaction #8106298092 - Delivery': '$3.48', 'Store Number': '71'}, {'Order': '782881C7', 'Delivered': 'The order was delivered at 3:08 AM on October 1, 2023.', 'Pick Up Location': '145 Lehman Rd, Kyle, TX 78640, USA', 'Order Details': {'1 × Hostess Powdered Donettes Bag (10.5oz) (Donuts TX)': '$6.39', ' 1 × Fountain Drink (Fountain, Frozen, & Tea) Drink Selection: Sprite': '$0.00', ' 1 × Fountain Drink (Fountain, Frozen, & Tea) Drink Selection: TXB Cherry Limeade': '$0.00', ' 1 × Fountain Drink (Fountain, Frozen, & Tea) Drink Selection: TXB Root Beer': '$0.00'}, 'Subtotal': '$6.39', 'Subtotal Tax': '$0.00', 'Commission (16%)': '-$1.02', 'Total Customer Refund': '-$0.00 Refunds $6.99', 'Estimated Payout': '$12.36', 'Transaction #8105816170 - Delivery': '$5.37', 'Store Number': '68'}, {'Order': 'ECCAB249', 'Delivered': 'The order was delivered at 2:32 AM on October 1, 2023.', 'Pick Up Location': '1402 Williams Dr, Georgetown, TX 78628, USA', 'Order Details': {'1 × Chicken Tender Meal Kit (Meal Kits TXB#65)': '$9.19'}, 'Subtotal': '$9.19', 'Subtotal Tax': '$0.76', 'Commission (16%)': '-$1.47', 'Total Customer Refund': '-$0.00', 'Estimated Payout': '$8.48', 'Transaction #8105817488 - Delivery': '$8.48', 'Store Number': '65'}, {'Order': '8E90EF84', 'Delivered': 'The order was delivered at 1:24 AM on October 1, 2023.', 'Pick Up Location': '21024 W, 21024 State Hwy 71, Spicewood, TX 78669, USA', 'Order Details': {'1 × Pork Tamale Meal Kit (Meal Kits TXB#62)': '$9.19'}, 'Subtotal': '$9.19', 'Subtotal Tax': '$0.76', 'Commission (16%)': '-$1.47', 'Total Customer Refund': '-$0.00', 'Estimated Payout': '$8.48', 'Transaction #8105638611 - Delivery': '$8.48', 'Store Number': '62'}, {'Order': 'B944ED77', 'Cancelled - Not Paid': 'The order was cancelled on October 1, 2023 at 12:57 AM. You were not paid because you were unable to fulfill the order.', 'Pick Up Location': '1402 Williams Dr, Georgetown, TX 78628, USA', 'Order Details': {'2 × Black Box Pinot Grigio Tetra 500ml Box (12% ABV) (Specialty Wine)': '$12.58'}, 'Subtotal': '$12.58', 'Subtotal Tax': '$1.04', 'Commission (16%)': '-$2.01', 'Total Customer Refund': '-$0.00', 'Estimated Payout': '$0.00', 'Store Number': '65'}, {'Order': 'E7A89C68', 'Delivered': 'The order was delivered at 12:43 AM on October 1, 2023.', 'Pick Up Location': '1402 Williams Dr, Georgetown, TX 78628, USA', 'Order Details': {'1 × Pepcid AC Maximum Strength Tablet (8ct) (Medicine TX)': '$14.39', ' 1 × 2% Milk (16 oz) (Milk TX)': '$3.79'}, 'Subtotal': '$18.18', 'Subtotal Tax': '$0.00', 'Commission (16%)': '-$2.91', 'Total Customer Refund': '-$0.00', 'Estimated Payout': '$15.27', 'Transaction #8105526412 - Delivery': '$15.27', 'Store Number': '65'}, {'Order': 'C41B4C30', 'Delivered': 'The order was delivered at 12:43 AM on October 1, 2023.', 'Pick Up Location': '21024 W, 21024 State Hwy 71, Spicewood, TX 78669, USA', 'Order Details': {'1 × Triple Chocolate Chunk Cookie (Pastries & Desserts)': '$2.49', ' 1 × Chocolate Milk (16 oz) (Milk TX)': '$3.79', ' 3 × Fountain Drink (Fountain, Frozen, & Tea) Drink Selection: Dr Pepper': '$0.00', ' 1 × Dr Pepper Bottle (20 oz) (Soda TX)': '$3.79'}, 'Subtotal': '$10.07', 'Subtotal Tax': '$0.83', 'Commission (16%)': '-$1.61', 'Total Customer Refund': '-$0.00', 'Estimated Payout': '$9.29', 'Transaction #8105477186 - Delivery': '$9.29', 'Store Number': '62'}]\n"
   ],
   "metadata": {
    "collapsed": false,
    "ExecuteTime": {
     "end_time": "2023-10-03T20:37:52.619215Z",
     "start_time": "2023-10-03T20:37:52.590468Z"
    }
   },
   "id": "d5defd6160bfb728"
  },
  {
   "cell_type": "code",
   "execution_count": 2,
   "outputs": [],
   "source": [
    "def get_flatten_order(d, parent_key='', sep='.'):\n",
    "    order = {}\n",
    "    for k, v in d.items():\n",
    "        new_key = f'{parent_key}{sep}{k}' if parent_key else k\n",
    "        if isinstance(v, dict):\n",
    "            order.update(get_flatten_order(v, new_key, sep=sep))\n",
    "        else:\n",
    "            order[new_key] = v\n",
    "    return order"
   ],
   "metadata": {
    "collapsed": false,
    "ExecuteTime": {
     "end_time": "2023-10-03T20:37:58.873654Z",
     "start_time": "2023-10-03T20:37:58.854914Z"
    }
   },
   "id": "7874b54b5bf146c9"
  },
  {
   "cell_type": "code",
   "execution_count": 3,
   "outputs": [],
   "source": [
    "def get_flattened_orders(orders):\n",
    "    flattened_orders = []\n",
    "    for order in orders:\n",
    "        flattened_order = get_flatten_order(order)\n",
    "        flattened_orders.append(flattened_order)\n",
    "    return flattened_orders"
   ],
   "metadata": {
    "collapsed": false,
    "ExecuteTime": {
     "end_time": "2023-10-03T20:37:59.366665Z",
     "start_time": "2023-10-03T20:37:59.335958Z"
    }
   },
   "id": "9f2cb90f4a0308bd"
  },
  {
   "cell_type": "code",
   "execution_count": 4,
   "outputs": [
    {
     "data": {
      "text/plain": "[{'Order': '42C2A525',\n  'Delivered': 'The order was delivered at 11:41 PM on October 1, 2023.',\n  'Pick Up Location': '5004 Wesley St, Greenville, TX 75402, USA',\n  'Order Details.1 × Coca-Cola Can (12 pk-12 oz) (Soda TX)': '$11.29',\n  'Order Details. 1 × TXB Water Bottle (24 pk) (16.9 oz) (Water TX)': '$7.49',\n  'Order Details. 1 × Coke Classic Bottle (20oz) (Soda TX)': '$3.19',\n  'Subtotal': '$21.97',\n  'Subtotal Tax': '$1.19',\n  'Commission (23%)': '-$5.05',\n  'Total Customer Refund': '-$0.00',\n  'Estimated Payout': '$18.11',\n  'Transaction #8113346069 - Delivery': '$18.11',\n  'Store Number': '20'},\n {'Order': 'AA85B890',\n  'Delivered': 'The order was delivered at 10:08 PM on October 1, 2023.',\n  'Pick Up Location': '5004 Wesley St, Greenville, TX 75402, USA',\n  'Order Details.1 × Moon Pie Double Decker Banana (2.75oz) (Pastry TX)': '$2.29',\n  'Order Details. 1 × Moon Pie Double Decker Chocolate (2.75oz) (Pastry TX)': '$2.29',\n  'Order Details. 1 × TXB Sweet Tea Bottle (16oz) (Tea TX)': '$3.29',\n  'Order Details. 1 × TXB Strawberry White Tea Bottle (16oz) (Tea TX)': '$2.59',\n  'Order Details. 1 × TXB Premium Electrolyte Water Bottle (12pk 1L) (Water TX)': '$4.09',\n  'Subtotal': '$14.55',\n  'Subtotal Tax': '$0.59',\n  'Commission (16%)': '-$2.33',\n  'Total Customer Refund': '-$0.00',\n  'Estimated Payout': '$12.81',\n  'Transaction #8112864098 - Delivery': '$12.81',\n  'Store Number': '20'},\n {'Order': '773C7330',\n  'Delivered': 'The order was delivered at 9:07 PM on October 1, 2023.',\n  'Pick Up Location': '5004 Wesley St, Greenville, TX 75402, USA',\n  'Order Details.1 × Lone Star Beer Can (16 oz x 6 ct) (Domestic Beer NT)': '$13.79',\n  'Subtotal': '$13.79',\n  'Subtotal Tax': '$1.14',\n  'Commission (16%)': '-$2.21',\n  'Total Customer Refund': '-$0.00',\n  'Estimated Payout': '$12.72',\n  'Transaction #8112394394 - Delivery': '$12.72',\n  'Store Number': '20'},\n {'Order': 'EDCB46B1',\n  'Delivered': 'Error Charge The customer reported one or more missing items resulting in an error charge of $5.86. If you believe this was an error, you can dispute the error charge by October 15, 2023.',\n  'Pick Up Location': '1001 W Van Alstyne Pkwy, Van Alstyne, TX 75495, USA',\n  'Order Details.1 × Michelob Ultra Light Beer Can (12 oz x 12 ct) (Domestic Beer NT)': '$27.49',\n  'Order Details. 1 × Truly Hard Seltzer Berry Mix Pack Can (12 oz x 12 ct) (Seltzer NT)': '$28.79',\n  'Subtotal': '-$5.30 Error Charge Tax -$0.56 Error Charge Total -$5.86 Order Total $47.98',\n  'Commission (23%)': '-$12.94 Order Total $47.98 Error Charges 1 × Michelob Ultra Light Beer Can (12 oz x 12 ct) (Domestic Beer NT) Missing Item -$5.30 Error Charge',\n  'Estimated Payout': '$42.12',\n  'Transaction #8109695187 - Delivery': '$47.98 Transaction #8109811800 - Error Charges -$5.86',\n  'Store Number': '32'},\n {'Order': '68944F97',\n  'Delivered': 'The order was delivered at 2:50 PM on October 1, 2023.',\n  'Pick Up Location': '800 W Interstate 20, Big Spring, TX 79720, USA',\n  'Order Details.2 × Michelob Ultra Light Beer Can (12 oz x 18 ct) (Domestic Beer ST)': '$72.58',\n  'Subtotal': '$72.58',\n  'Subtotal Tax': '$5.99',\n  'Commission (23%)': '-$16.69',\n  'Total Customer Refund': '-$0.00',\n  'Estimated Payout': '$61.88',\n  'Transaction #8108722869 - Delivery': '$61.88',\n  'Store Number': '70'},\n {'Order': 'ED39CFE2',\n  'Delivered': 'Error Charge The customer reported one or more missing items resulting in an error charge of $8.11. If you believe this was an error, you can dispute the error charge by October 15, 2023.',\n  'Pick Up Location': '1301 N U.S. Hwy 281, Marble Falls, TX 78654, USA',\n  'Order Details.1 × Ice Large (Fountain, Frozen, & Tea)': '$7.49',\n  'Order Details. 1 × Campbells Chicken Noodle Bowl (15.4oz) (Pantry TX)': '$5.29',\n  'Order Details. 2 × TXB Premium Electrolyte Water (1 lt) (Water TX)': '$8.78',\n  'Order Details. 1 × 7 Up Bottle (20 oz) (Soda TX)': '$3.79',\n  'Order Details. 2 × Gatorade Cool Blue (28 oz) (Sports Drinks TX)': '$9.58',\n  'Subtotal': '-$7.50 Error Charge Tax -$0.61 Error Charge Total -$8.11 Order Total $28.36',\n  'Commission (25%)': '-$8.73 Order Total $28.36 Error Charges 1 × Ice Large (Fountain, Frozen, & Tea) Missing Item -$7.50 Error Charge',\n  'Estimated Payout': '$20.25',\n  'Transaction #8107801352 - Delivery': '$28.36 Transaction #8107871093 - Error Charges -$8.11',\n  'Store Number': '53'},\n {'Order': '78BAE2F8',\n  'Delivered': 'The order was delivered at 12:41 PM on October 1, 2023.',\n  'Pick Up Location': '1001 S State Hwy 16, Fredericksburg, TX 78624, USA',\n  'Order Details.1 × Crush Grape Bottle (20oz) (Soda TX)': '$3.79',\n  'Order Details. 1 × Turkey & Bacon Wrap (Salads, Wraps, & Cold Sandwiches TXB#61)': '$8.79',\n  'Order Details. Subtotal for Tax Calculations': '$12.58',\n  'Subtotal Tax': '$1.04',\n  'Commission (16%)': '-$2.01',\n  'Total Customer Refund': '-$0.00',\n  'Estimated Payout': '$11.61',\n  'Transaction #8107649354 - Delivery': '$11.61',\n  'Store Number': '61'},\n {'Order': 'DE4528F2',\n  'Delivered': 'The order was delivered at 12:39 PM on October 1, 2023.',\n  'Pick Up Location': '2320 W Main St, Durant, OK 74701, USA',\n  'Order Details.1 × Coke Classic Bottle (20oz) (Soda OK)': '$3.19',\n  'Order Details. 2 × Red Bull Energy Drink Can (12 oz) (Energy Drinks OK)': '$11.58',\n  'Subtotal': '$14.77',\n  'Subtotal Tax': '$1.38',\n  'Commission (23%)': '-$3.40',\n  'Total Customer Refund': '-$0.00',\n  'Estimated Payout': '$11.37',\n  'Transaction #8107692197 - Delivery': '$11.37',\n  'Store Number': '16'},\n {'Order': 'F5539B37',\n  'Delivered': 'The order was delivered at 10:52 AM on October 1, 2023.',\n  'Pick Up Location': '3702 FM2147, Horseshoe Bay, TX 78657, USA',\n  'Order Details.2 × Chorizo Egg Cheese Quesadilla (Breakfast Tacos & Quesadillas) Salsa: Salsa Roja': '$14.98',\n  'Subtotal': '$14.98',\n  'Subtotal Tax': '$1.24',\n  'Commission (25%)': '-$3.75',\n  'Total Customer Refund': '-$0.00',\n  'Estimated Payout': '$12.47',\n  'Transaction #8106904074 - Delivery': '$12.47',\n  'Store Number': '67'},\n {'Order': 'FE329688',\n  'Delivered': 'The order was delivered at 10:03 AM on October 1, 2023.',\n  'Pick Up Location': '800 W Interstate 20, Big Spring, TX 79720, USA',\n  'Order Details.3 × Red Bull Energy Drink Can (12 oz) (Energy Drinks TX)': '$17.37',\n  'Subtotal': '$17.37',\n  'Subtotal Tax': '$1.43',\n  'Commission (16%)': '-$2.78',\n  'Total Customer Refund': '-$0.00',\n  'Estimated Payout': '$16.02',\n  'Transaction #8106720721 - Delivery': '$16.02',\n  'Store Number': '70'},\n {'Order': 'C5A903F0',\n  'Cancelled - Paid': 'The order was cancelled on October 1, 2023 at 7:31 AM. You’re paid for cancelled orders when you’ve successfully confirmed an order, it was prepared, and you did not initiate or are not at fault for the cancellation.',\n  'Pick Up Location': '2503 TX-349, Midland, TX 79706, USA',\n  'Order Details.1 × Sausage Egg Cheese Taco (Breakfast Tacos & Quesadillas)': '$3.79',\n  'Subtotal': '$3.79',\n  'Subtotal Tax': '$0.30',\n  'Commission (16%)': '-$0.61',\n  'Total Customer Refund': '-$0.00',\n  'Estimated Payout': '$3.48',\n  'Transaction #8106298092 - Delivery': '$3.48',\n  'Store Number': '71'},\n {'Order': '782881C7',\n  'Delivered': 'The order was delivered at 3:08 AM on October 1, 2023.',\n  'Pick Up Location': '145 Lehman Rd, Kyle, TX 78640, USA',\n  'Order Details.1 × Hostess Powdered Donettes Bag (10.5oz) (Donuts TX)': '$6.39',\n  'Order Details. 1 × Fountain Drink (Fountain, Frozen, & Tea) Drink Selection: Sprite': '$0.00',\n  'Order Details. 1 × Fountain Drink (Fountain, Frozen, & Tea) Drink Selection: TXB Cherry Limeade': '$0.00',\n  'Order Details. 1 × Fountain Drink (Fountain, Frozen, & Tea) Drink Selection: TXB Root Beer': '$0.00',\n  'Subtotal': '$6.39',\n  'Subtotal Tax': '$0.00',\n  'Commission (16%)': '-$1.02',\n  'Total Customer Refund': '-$0.00 Refunds $6.99',\n  'Estimated Payout': '$12.36',\n  'Transaction #8105816170 - Delivery': '$5.37',\n  'Store Number': '68'},\n {'Order': 'ECCAB249',\n  'Delivered': 'The order was delivered at 2:32 AM on October 1, 2023.',\n  'Pick Up Location': '1402 Williams Dr, Georgetown, TX 78628, USA',\n  'Order Details.1 × Chicken Tender Meal Kit (Meal Kits TXB#65)': '$9.19',\n  'Subtotal': '$9.19',\n  'Subtotal Tax': '$0.76',\n  'Commission (16%)': '-$1.47',\n  'Total Customer Refund': '-$0.00',\n  'Estimated Payout': '$8.48',\n  'Transaction #8105817488 - Delivery': '$8.48',\n  'Store Number': '65'},\n {'Order': '8E90EF84',\n  'Delivered': 'The order was delivered at 1:24 AM on October 1, 2023.',\n  'Pick Up Location': '21024 W, 21024 State Hwy 71, Spicewood, TX 78669, USA',\n  'Order Details.1 × Pork Tamale Meal Kit (Meal Kits TXB#62)': '$9.19',\n  'Subtotal': '$9.19',\n  'Subtotal Tax': '$0.76',\n  'Commission (16%)': '-$1.47',\n  'Total Customer Refund': '-$0.00',\n  'Estimated Payout': '$8.48',\n  'Transaction #8105638611 - Delivery': '$8.48',\n  'Store Number': '62'},\n {'Order': 'B944ED77',\n  'Cancelled - Not Paid': 'The order was cancelled on October 1, 2023 at 12:57 AM. You were not paid because you were unable to fulfill the order.',\n  'Pick Up Location': '1402 Williams Dr, Georgetown, TX 78628, USA',\n  'Order Details.2 × Black Box Pinot Grigio Tetra 500ml Box (12% ABV) (Specialty Wine)': '$12.58',\n  'Subtotal': '$12.58',\n  'Subtotal Tax': '$1.04',\n  'Commission (16%)': '-$2.01',\n  'Total Customer Refund': '-$0.00',\n  'Estimated Payout': '$0.00',\n  'Store Number': '65'},\n {'Order': 'E7A89C68',\n  'Delivered': 'The order was delivered at 12:43 AM on October 1, 2023.',\n  'Pick Up Location': '1402 Williams Dr, Georgetown, TX 78628, USA',\n  'Order Details.1 × Pepcid AC Maximum Strength Tablet (8ct) (Medicine TX)': '$14.39',\n  'Order Details. 1 × 2% Milk (16 oz) (Milk TX)': '$3.79',\n  'Subtotal': '$18.18',\n  'Subtotal Tax': '$0.00',\n  'Commission (16%)': '-$2.91',\n  'Total Customer Refund': '-$0.00',\n  'Estimated Payout': '$15.27',\n  'Transaction #8105526412 - Delivery': '$15.27',\n  'Store Number': '65'},\n {'Order': 'C41B4C30',\n  'Delivered': 'The order was delivered at 12:43 AM on October 1, 2023.',\n  'Pick Up Location': '21024 W, 21024 State Hwy 71, Spicewood, TX 78669, USA',\n  'Order Details.1 × Triple Chocolate Chunk Cookie (Pastries & Desserts)': '$2.49',\n  'Order Details. 1 × Chocolate Milk (16 oz) (Milk TX)': '$3.79',\n  'Order Details. 3 × Fountain Drink (Fountain, Frozen, & Tea) Drink Selection: Dr Pepper': '$0.00',\n  'Order Details. 1 × Dr Pepper Bottle (20 oz) (Soda TX)': '$3.79',\n  'Subtotal': '$10.07',\n  'Subtotal Tax': '$0.83',\n  'Commission (16%)': '-$1.61',\n  'Total Customer Refund': '-$0.00',\n  'Estimated Payout': '$9.29',\n  'Transaction #8105477186 - Delivery': '$9.29',\n  'Store Number': '62'}]"
     },
     "execution_count": 4,
     "metadata": {},
     "output_type": "execute_result"
    }
   ],
   "source": [
    "flattened_orders = get_flattened_orders(list_of_mapped_orders)\n",
    "flattened_orders"
   ],
   "metadata": {
    "collapsed": false,
    "ExecuteTime": {
     "end_time": "2023-10-03T20:38:00.509905Z",
     "start_time": "2023-10-03T20:38:00.497133Z"
    }
   },
   "id": "70604690b5e3d45f"
  },
  {
   "cell_type": "code",
   "execution_count": 8,
   "outputs": [],
   "source": [
    "def convert_orders_to_dataframes(orders):\n",
    "    dfs = []\n",
    "    for order in orders:\n",
    "        s = pd.Series(order)\n",
    "        df = pd.DataFrame(s)\n",
    "        dfs.append(df)\n",
    "        \n",
    "    \n",
    "    return dfs\n",
    "    \n"
   ],
   "metadata": {
    "collapsed": false,
    "ExecuteTime": {
     "end_time": "2023-10-03T20:38:32.990501Z",
     "start_time": "2023-10-03T20:38:32.972878Z"
    }
   },
   "id": "aeb4daa67c12fe7c"
  },
  {
   "cell_type": "code",
   "execution_count": 9,
   "outputs": [
    {
     "data": {
      "text/plain": "[                                                                                                    0\n Order                                                                                        42C2A525\n Delivered                                           The order was delivered at 11:41 PM on October...\n Pick Up Location                                            5004 Wesley St, Greenville, TX 75402, USA\n Order Details.1 × Coca-Cola Can (12 pk-12 oz) (...                                             $11.29\n Order Details. 1 × TXB Water Bottle (24 pk) (16...                                              $7.49\n Order Details. 1 × Coke Classic Bottle (20oz) (...                                              $3.19\n Subtotal                                                                                       $21.97\n Subtotal Tax                                                                                    $1.19\n Commission (23%)                                                                               -$5.05\n Total Customer Refund                                                                          -$0.00\n Estimated Payout                                                                               $18.11\n Transaction #8113346069 - Delivery                                                             $18.11\n Store Number                                                                                       20,\n                                                                                                     0\n Order                                                                                        AA85B890\n Delivered                                           The order was delivered at 10:08 PM on October...\n Pick Up Location                                            5004 Wesley St, Greenville, TX 75402, USA\n Order Details.1 × Moon Pie Double Decker Banana...                                              $2.29\n Order Details. 1 × Moon Pie Double Decker Choco...                                              $2.29\n Order Details. 1 × TXB Sweet Tea Bottle (16oz) ...                                              $3.29\n Order Details. 1 × TXB Strawberry White Tea Bot...                                              $2.59\n Order Details. 1 × TXB Premium Electrolyte Wate...                                              $4.09\n Subtotal                                                                                       $14.55\n Subtotal Tax                                                                                    $0.59\n Commission (16%)                                                                               -$2.33\n Total Customer Refund                                                                          -$0.00\n Estimated Payout                                                                               $12.81\n Transaction #8112864098 - Delivery                                                             $12.81\n Store Number                                                                                       20,\n                                                                                                     0\n Order                                                                                        773C7330\n Delivered                                           The order was delivered at 9:07 PM on October ...\n Pick Up Location                                            5004 Wesley St, Greenville, TX 75402, USA\n Order Details.1 × Lone Star Beer Can (16 oz x 6...                                             $13.79\n Subtotal                                                                                       $13.79\n Subtotal Tax                                                                                    $1.14\n Commission (16%)                                                                               -$2.21\n Total Customer Refund                                                                          -$0.00\n Estimated Payout                                                                               $12.72\n Transaction #8112394394 - Delivery                                                             $12.72\n Store Number                                                                                       20,\n                                                                                                     0\n Order                                                                                        EDCB46B1\n Delivered                                           Error Charge The customer reported one or more...\n Pick Up Location                                    1001 W Van Alstyne Pkwy, Van Alstyne, TX 75495...\n Order Details.1 × Michelob Ultra Light Beer Can...                                             $27.49\n Order Details. 1 × Truly Hard Seltzer Berry Mix...                                             $28.79\n Subtotal                                            -$5.30 Error Charge Tax -$0.56 Error Charge To...\n Commission (23%)                                    -$12.94 Order Total $47.98 Error Charges 1 × M...\n Estimated Payout                                                                               $42.12\n Transaction #8109695187 - Delivery                  $47.98 Transaction #8109811800 - Error Charges...\n Store Number                                                                                       32,\n                                                                                                     0\n Order                                                                                        68944F97\n Delivered                                           The order was delivered at 2:50 PM on October ...\n Pick Up Location                                       800 W Interstate 20, Big Spring, TX 79720, USA\n Order Details.2 × Michelob Ultra Light Beer Can...                                             $72.58\n Subtotal                                                                                       $72.58\n Subtotal Tax                                                                                    $5.99\n Commission (23%)                                                                              -$16.69\n Total Customer Refund                                                                          -$0.00\n Estimated Payout                                                                               $61.88\n Transaction #8108722869 - Delivery                                                             $61.88\n Store Number                                                                                       70,\n                                                                                                     0\n Order                                                                                        ED39CFE2\n Delivered                                           Error Charge The customer reported one or more...\n Pick Up Location                                     1301 N U.S. Hwy 281, Marble Falls, TX 78654, USA\n Order Details.1 × Ice Large (Fountain, Frozen, ...                                              $7.49\n Order Details. 1 × Campbells Chicken Noodle Bow...                                              $5.29\n Order Details. 2 × TXB Premium Electrolyte Wate...                                              $8.78\n Order Details. 1 × 7 Up Bottle (20 oz) (Soda TX)                                                $3.79\n Order Details. 2 × Gatorade Cool Blue (28 oz) (...                                              $9.58\n Subtotal                                            -$7.50 Error Charge Tax -$0.61 Error Charge To...\n Commission (25%)                                    -$8.73 Order Total $28.36 Error Charges 1 × Ic...\n Estimated Payout                                                                               $20.25\n Transaction #8107801352 - Delivery                  $28.36 Transaction #8107871093 - Error Charges...\n Store Number                                                                                       53,\n                                                                                                     0\n Order                                                                                        78BAE2F8\n Delivered                                           The order was delivered at 12:41 PM on October...\n Pick Up Location                                    1001 S State Hwy 16, Fredericksburg, TX 78624,...\n Order Details.1 × Crush Grape Bottle (20oz) (So...                                              $3.79\n Order Details. 1 × Turkey & Bacon Wrap (Salads,...                                              $8.79\n Order Details. Subtotal for Tax Calculations                                                   $12.58\n Subtotal Tax                                                                                    $1.04\n Commission (16%)                                                                               -$2.01\n Total Customer Refund                                                                          -$0.00\n Estimated Payout                                                                               $11.61\n Transaction #8107649354 - Delivery                                                             $11.61\n Store Number                                                                                       61,\n                                                                                                     0\n Order                                                                                        DE4528F2\n Delivered                                           The order was delivered at 12:39 PM on October...\n Pick Up Location                                                2320 W Main St, Durant, OK 74701, USA\n Order Details.1 × Coke Classic Bottle (20oz) (S...                                              $3.19\n Order Details. 2 × Red Bull Energy Drink Can (1...                                             $11.58\n Subtotal                                                                                       $14.77\n Subtotal Tax                                                                                    $1.38\n Commission (23%)                                                                               -$3.40\n Total Customer Refund                                                                          -$0.00\n Estimated Payout                                                                               $11.37\n Transaction #8107692197 - Delivery                                                             $11.37\n Store Number                                                                                       16,\n                                                                                                     0\n Order                                                                                        F5539B37\n Delivered                                           The order was delivered at 10:52 AM on October...\n Pick Up Location                                            3702 FM2147, Horseshoe Bay, TX 78657, USA\n Order Details.2 × Chorizo Egg Cheese Quesadilla...                                             $14.98\n Subtotal                                                                                       $14.98\n Subtotal Tax                                                                                    $1.24\n Commission (25%)                                                                               -$3.75\n Total Customer Refund                                                                          -$0.00\n Estimated Payout                                                                               $12.47\n Transaction #8106904074 - Delivery                                                             $12.47\n Store Number                                                                                       67,\n                                                                                                     0\n Order                                                                                        FE329688\n Delivered                                           The order was delivered at 10:03 AM on October...\n Pick Up Location                                       800 W Interstate 20, Big Spring, TX 79720, USA\n Order Details.3 × Red Bull Energy Drink Can (12...                                             $17.37\n Subtotal                                                                                       $17.37\n Subtotal Tax                                                                                    $1.43\n Commission (16%)                                                                               -$2.78\n Total Customer Refund                                                                          -$0.00\n Estimated Payout                                                                               $16.02\n Transaction #8106720721 - Delivery                                                             $16.02\n Store Number                                                                                       70,\n                                                                                                     0\n Order                                                                                        C5A903F0\n Cancelled - Paid                                    The order was cancelled on October 1, 2023 at ...\n Pick Up Location                                                  2503 TX-349, Midland, TX 79706, USA\n Order Details.1 × Sausage Egg Cheese Taco (Brea...                                              $3.79\n Subtotal                                                                                        $3.79\n Subtotal Tax                                                                                    $0.30\n Commission (16%)                                                                               -$0.61\n Total Customer Refund                                                                          -$0.00\n Estimated Payout                                                                                $3.48\n Transaction #8106298092 - Delivery                                                              $3.48\n Store Number                                                                                       71,\n                                                                                                     0\n Order                                                                                        782881C7\n Delivered                                           The order was delivered at 3:08 AM on October ...\n Pick Up Location                                                   145 Lehman Rd, Kyle, TX 78640, USA\n Order Details.1 × Hostess Powdered Donettes Bag...                                              $6.39\n Order Details. 1 × Fountain Drink (Fountain, Fr...                                              $0.00\n Order Details. 1 × Fountain Drink (Fountain, Fr...                                              $0.00\n Order Details. 1 × Fountain Drink (Fountain, Fr...                                              $0.00\n Subtotal                                                                                        $6.39\n Subtotal Tax                                                                                    $0.00\n Commission (16%)                                                                               -$1.02\n Total Customer Refund                                                            -$0.00 Refunds $6.99\n Estimated Payout                                                                               $12.36\n Transaction #8105816170 - Delivery                                                              $5.37\n Store Number                                                                                       68,\n                                                                                                     0\n Order                                                                                        ECCAB249\n Delivered                                           The order was delivered at 2:32 AM on October ...\n Pick Up Location                                          1402 Williams Dr, Georgetown, TX 78628, USA\n Order Details.1 × Chicken Tender Meal Kit (Meal...                                              $9.19\n Subtotal                                                                                        $9.19\n Subtotal Tax                                                                                    $0.76\n Commission (16%)                                                                               -$1.47\n Total Customer Refund                                                                          -$0.00\n Estimated Payout                                                                                $8.48\n Transaction #8105817488 - Delivery                                                              $8.48\n Store Number                                                                                       65,\n                                                                                                     0\n Order                                                                                        8E90EF84\n Delivered                                           The order was delivered at 1:24 AM on October ...\n Pick Up Location                                    21024 W, 21024 State Hwy 71, Spicewood, TX 786...\n Order Details.1 × Pork Tamale Meal Kit (Meal Ki...                                              $9.19\n Subtotal                                                                                        $9.19\n Subtotal Tax                                                                                    $0.76\n Commission (16%)                                                                               -$1.47\n Total Customer Refund                                                                          -$0.00\n Estimated Payout                                                                                $8.48\n Transaction #8105638611 - Delivery                                                              $8.48\n Store Number                                                                                       62,\n                                                                                                     0\n Order                                                                                        B944ED77\n Cancelled - Not Paid                                The order was cancelled on October 1, 2023 at ...\n Pick Up Location                                          1402 Williams Dr, Georgetown, TX 78628, USA\n Order Details.2 × Black Box Pinot Grigio Tetra ...                                             $12.58\n Subtotal                                                                                       $12.58\n Subtotal Tax                                                                                    $1.04\n Commission (16%)                                                                               -$2.01\n Total Customer Refund                                                                          -$0.00\n Estimated Payout                                                                                $0.00\n Store Number                                                                                       65,\n                                                                                                     0\n Order                                                                                        E7A89C68\n Delivered                                           The order was delivered at 12:43 AM on October...\n Pick Up Location                                          1402 Williams Dr, Georgetown, TX 78628, USA\n Order Details.1 × Pepcid AC Maximum Strength Ta...                                             $14.39\n Order Details. 1 × 2% Milk (16 oz) (Milk TX)                                                    $3.79\n Subtotal                                                                                       $18.18\n Subtotal Tax                                                                                    $0.00\n Commission (16%)                                                                               -$2.91\n Total Customer Refund                                                                          -$0.00\n Estimated Payout                                                                               $15.27\n Transaction #8105526412 - Delivery                                                             $15.27\n Store Number                                                                                       65,\n                                                                                                     0\n Order                                                                                        C41B4C30\n Delivered                                           The order was delivered at 12:43 AM on October...\n Pick Up Location                                    21024 W, 21024 State Hwy 71, Spicewood, TX 786...\n Order Details.1 × Triple Chocolate Chunk Cookie...                                              $2.49\n Order Details. 1 × Chocolate Milk (16 oz) (Milk...                                              $3.79\n Order Details. 3 × Fountain Drink (Fountain, Fr...                                              $0.00\n Order Details. 1 × Dr Pepper Bottle (20 oz) (So...                                              $3.79\n Subtotal                                                                                       $10.07\n Subtotal Tax                                                                                    $0.83\n Commission (16%)                                                                               -$1.61\n Total Customer Refund                                                                          -$0.00\n Estimated Payout                                                                                $9.29\n Transaction #8105477186 - Delivery                                                              $9.29\n Store Number                                                                                       62]"
     },
     "execution_count": 9,
     "metadata": {},
     "output_type": "execute_result"
    }
   ],
   "source": [
    "dfs = convert_orders_to_dataframes(flattened_orders)\n",
    "dfs"
   ],
   "metadata": {
    "collapsed": false,
    "ExecuteTime": {
     "end_time": "2023-10-03T20:38:33.350411Z",
     "start_time": "2023-10-03T20:38:33.329478Z"
    }
   },
   "id": "fedfa282d9c2a38f"
  },
  {
   "cell_type": "code",
   "execution_count": 77,
   "outputs": [],
   "source": [],
   "metadata": {
    "collapsed": false,
    "ExecuteTime": {
     "end_time": "2023-09-30T23:10:42.300469Z",
     "start_time": "2023-09-30T23:10:42.292445Z"
    }
   },
   "id": "573a4f39d2fedf7b"
  },
  {
   "cell_type": "code",
   "execution_count": 78,
   "outputs": [],
   "source": [
    "def get_store_num_from_store_addrs():\n",
    "    # todo\n",
    "    # pass\n",
    "    return '#101'"
   ],
   "metadata": {
    "collapsed": false,
    "ExecuteTime": {
     "end_time": "2023-09-30T23:10:42.679628Z",
     "start_time": "2023-09-30T23:10:42.673376Z"
    }
   },
   "id": "bea0a773df5edd4"
  },
  {
   "cell_type": "code",
   "execution_count": 15,
   "outputs": [
    {
     "data": {
      "text/plain": "'DD 10.03.23.xlsx'"
     },
     "execution_count": 15,
     "metadata": {},
     "output_type": "execute_result"
    }
   ],
   "source": [
    "from datetime import datetime\n",
    "\n",
    "def get_excel_file_name():\n",
    "    \n",
    "    today = datetime.today().strftime('%m.%d.%y')\n",
    "    output_file_name = f'DD {today}.xlsx'\n",
    "    return output_file_name\n",
    "\n",
    "excel_file_name = get_excel_file_name()\n",
    "excel_file_name"
   ],
   "metadata": {
    "collapsed": false,
    "ExecuteTime": {
     "end_time": "2023-10-03T20:39:08.325548Z",
     "start_time": "2023-10-03T20:39:08.309583Z"
    }
   },
   "id": "8c430e49c4e18eaf"
  },
  {
   "cell_type": "code",
   "execution_count": 18,
   "outputs": [],
   "source": [
    "def get_sheet_name(idx):\n",
    "    return f\"Sheet_{idx}\"\n"
   ],
   "metadata": {
    "collapsed": false,
    "ExecuteTime": {
     "end_time": "2023-10-03T20:39:29.818591Z",
     "start_time": "2023-10-03T20:39:29.763161Z"
    }
   },
   "id": "b063888c8bb426cb"
  },
  {
   "cell_type": "code",
   "execution_count": 22,
   "outputs": [],
   "source": [
    "def set_format(worksheet, start_col, end_col, cell_format):\n",
    "    \"\"\"Set format for a range of columns.\"\"\"\n",
    "    worksheet.set_column(start_col, end_col, None, cell_format)\n",
    "\n",
    "def find_max_lengths(df):\n",
    "    \"\"\"Find the maximum string lengths for each column in a DataFrame.\"\"\"\n",
    "    max_lengths = {}\n",
    "    for col in df.columns:\n",
    "        max_lengths[col] = max(df[col].astype(str).apply(len).max(),\n",
    "                                len(str(col)))\n",
    "    return max_lengths\n",
    "\n",
    "def apply_column_formats(worksheet, max_lengths, cell_format):\n",
    "    print(\"Applying column formats...\") \n",
    "    \n",
    "    \"\"\"Apply column formatting and widths based on content length.\"\"\"\n",
    "    for idx, col in enumerate(max_lengths.keys()):\n",
    "        col_width = max_lengths[col] + 1  # Add 1 for a bit of padding\n",
    "        set_format(worksheet, idx + 1, idx + 1, cell_format)\n",
    "        worksheet.set_column(idx + 1, idx + 1, col_width)\n",
    "\n",
    "def apply_first_column_format(worksheet, df, cell_format):\n",
    "    print(\"Applying first column format...\") \n",
    "    \"\"\"Apply formatting to the first column and adjust its width.\"\"\"\n",
    "    index_as_series = pd.Series(df.index.astype(str))\n",
    "    index_length = max(index_as_series.apply(len).max(),\n",
    "                       len(str(df.index.name)))\n",
    "    col_width = index_length + 1\n",
    "    worksheet.set_column(0, 0, col_width, cell_format)\n",
    "\n",
    "\n",
    "def apply_sheet_formats(xlsxwriter, sheet_name, df):\n",
    "    \"\"\"Apply sheet formats.\"\"\"\n",
    "    workbook = xlsxwriter.book\n",
    "    worksheet = xlsxwriter.sheets[sheet_name]\n",
    "\n",
    "    # Create text wrap format with large font, aligned to center\n",
    "    wrap_txt_format = workbook.add_format({\n",
    "        'text_wrap': True,\n",
    "        'align': 'center',\n",
    "        'valign': 'vcenter',\n",
    "        'font_size': 36,\n",
    "    })\n",
    "\n",
    "    # Create bold wrap format for the first column\n",
    "    bold_wrap_format = workbook.add_format({\n",
    "        'text_wrap': True,\n",
    "        'bold': True,\n",
    "        'align': 'center',\n",
    "        'valign': 'vcenter',\n",
    "        'font_size': 36,\n",
    "    })\n",
    "\n",
    "    # Find maximum lengths of strings in each column\n",
    "    max_lengths = find_max_lengths(df)\n",
    "\n",
    "    # Apply formatting for columns\n",
    "    apply_column_formats(worksheet, max_lengths, wrap_txt_format)\n",
    "\n",
    "    # Apply formatting for the first column\n",
    "    apply_first_column_format(worksheet, df, bold_wrap_format)\n",
    "    # worksheet.write('A1', 'Test Cell', bold_wrap_format)\n",
    "\n"
   ],
   "metadata": {
    "collapsed": false,
    "ExecuteTime": {
     "end_time": "2023-10-03T20:40:19.768752Z",
     "start_time": "2023-10-03T20:40:19.758519Z"
    }
   },
   "id": "761d68f02956097c"
  },
  {
   "cell_type": "code",
   "execution_count": 176,
   "outputs": [],
   "source": [
    "# version 1 of formatter\n",
    "# def apply_sheet_formats(xlsxwriter, sheet_name, df):\n",
    "#     # Workbook object\n",
    "#     workbook = xlsxwriter.book\n",
    "# \n",
    "#     # Get the xlsxwriter worksheet object\n",
    "#     worksheet = xlsxwriter.sheets[sheet_name]\n",
    "# \n",
    "#     # Create format object for text wrapping\n",
    "#     wrap_txt_format = workbook.add_format({\n",
    "#         'text_wrap': True,\n",
    "#         'align': 'center',\n",
    "#         'valign': 'vcenter',\n",
    "#         'font_size': 36,\n",
    "#     })\n",
    "# \n",
    "#     # Create format object for bold text wrapping\n",
    "#     bold_wrap_format = workbook.add_format({\n",
    "#         'text_wrap': True,\n",
    "#         'bold': True,\n",
    "#         'align': 'center',\n",
    "#         'valign': 'vcenter',\n",
    "#         'font_size': 36,\n",
    "#     })\n",
    "# \n",
    "#     # Initialize max_length dictionary\n",
    "#     max_lengths = {}\n",
    "#     \n",
    "#     # Loop to find max length in each column\n",
    "#     for idx, col in enumerate(df.columns):\n",
    "#         max_lengths[col] = max(df[col].astype(str).apply(len).max(),  # max length in column\n",
    "#                                 len(str(col)))  # length of column name/header\n",
    "#     \n",
    "#     # Loop to set column widths\n",
    "#     for idx, col in enumerate(df.columns):\n",
    "#         # you might want to adjust the +1 at the end based on your specific needs\n",
    "#         col_width = max_lengths[col] + 1\n",
    "#         worksheet.set_column(idx+1, idx+1, col_width, wrap_txt_format)\n",
    "# \n",
    "#     # Apply the bold_wrap_format to the first column\n",
    "#     for row, index_value in enumerate(df.index):\n",
    "#         # The length of the row label/index\n",
    "#         index_length = len(str(index_value))\n",
    "#         worksheet.write(row, 0, index_value, bold_wrap_format)\n",
    "#         \n",
    "#         # Update the width of the index (first) column\n",
    "#         col_width = max(index_length, max_lengths.get(df.index.name, 0)) + 1\n",
    "#         worksheet.set_column(0, 0, col_width, bold_wrap_format)\n"
   ],
   "metadata": {
    "collapsed": false
   },
   "id": "4449f47f26475186"
  },
  {
   "cell_type": "code",
   "execution_count": 20,
   "outputs": [],
   "source": [
    "def get_xlsx_from_dfs(dfs):\n",
    "    \n",
    "    excel_file_name = get_excel_file_name()\n",
    "    # Create a Pandas Excel writer using XlsxWriter as the engine.\n",
    "    with pd.ExcelWriter(excel_file_name, engine='xlsxwriter') as writer:\n",
    "        # Loop through order_contents and create a sheet for each order\n",
    "        for idx, df in enumerate(dfs):\n",
    "            sheet_name = get_sheet_name(idx)\n",
    "            \n",
    "            # Write the df to sheet\n",
    "            df.to_excel(writer, sheet_name, header=False, index=True)\n",
    "    \n",
    "            # Apply format\n",
    "            apply_sheet_formats(xlsxwriter=writer, sheet_name=sheet_name, df=df)\n",
    "            \n"
   ],
   "metadata": {
    "collapsed": false,
    "ExecuteTime": {
     "end_time": "2023-10-03T20:39:49.883167Z",
     "start_time": "2023-10-03T20:39:49.852367Z"
    }
   },
   "id": "40ded3f48ea1a255"
  },
  {
   "cell_type": "code",
   "execution_count": 23,
   "outputs": [
    {
     "name": "stdout",
     "output_type": "stream",
     "text": [
      "Applying column formats...\n",
      "Applying first column format...\n",
      "Applying column formats...\n",
      "Applying first column format...\n",
      "Applying column formats...\n",
      "Applying first column format...\n",
      "Applying column formats...\n",
      "Applying first column format...\n",
      "Applying column formats...\n",
      "Applying first column format...\n",
      "Applying column formats...\n",
      "Applying first column format...\n",
      "Applying column formats...\n",
      "Applying first column format...\n",
      "Applying column formats...\n",
      "Applying first column format...\n",
      "Applying column formats...\n",
      "Applying first column format...\n",
      "Applying column formats...\n",
      "Applying first column format...\n",
      "Applying column formats...\n",
      "Applying first column format...\n",
      "Applying column formats...\n",
      "Applying first column format...\n",
      "Applying column formats...\n",
      "Applying first column format...\n",
      "Applying column formats...\n",
      "Applying first column format...\n",
      "Applying column formats...\n",
      "Applying first column format...\n",
      "Applying column formats...\n",
      "Applying first column format...\n",
      "Applying column formats...\n",
      "Applying first column format...\n"
     ]
    }
   ],
   "source": [
    "asdf = get_xlsx_from_dfs(dfs)\n",
    "# todo: 1) didn't wrap header col 2) only single sheet"
   ],
   "metadata": {
    "collapsed": false,
    "ExecuteTime": {
     "end_time": "2023-10-03T20:40:34.000180Z",
     "start_time": "2023-10-03T20:40:33.963861Z"
    }
   },
   "id": "43acd0e9bd449cfd"
  },
  {
   "cell_type": "code",
   "execution_count": 8,
   "outputs": [],
   "source": [
    "# def get_order_id(order_text):\n",
    "#     # Extract the order_id\n",
    "#     order_id_start = order_text.find(\"Order:\") + len(\"Order:\")\n",
    "#     order_id_end = order_text.find(\"\\n\", order_id_start)\n",
    "#     order_id = order_text[order_id_start:order_id_end]\n",
    "#     return order_id"
   ],
   "metadata": {
    "collapsed": false,
    "ExecuteTime": {
     "end_time": "2023-09-29T23:39:28.476427Z",
     "start_time": "2023-09-29T23:39:28.466362Z"
    }
   },
   "id": "d5b9e7c703f040e9"
  },
  {
   "cell_type": "markdown",
   "source": [],
   "metadata": {
    "collapsed": false
   },
   "id": "ab663739b242700e"
  }
 ],
 "metadata": {
  "kernelspec": {
   "display_name": "Python 3",
   "language": "python",
   "name": "python3"
  },
  "language_info": {
   "codemirror_mode": {
    "name": "ipython",
    "version": 2
   },
   "file_extension": ".py",
   "mimetype": "text/x-python",
   "name": "python",
   "nbconvert_exporter": "python",
   "pygments_lexer": "ipython2",
   "version": "2.7.6"
  }
 },
 "nbformat": 4,
 "nbformat_minor": 5
}
