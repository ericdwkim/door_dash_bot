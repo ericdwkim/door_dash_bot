{
 "cells": [
  {
   "cell_type": "code",
   "execution_count": 77,
   "id": "initial_id",
   "metadata": {
    "collapsed": true,
    "ExecuteTime": {
     "end_time": "2023-09-28T00:25:22.458325Z",
     "start_time": "2023-09-28T00:25:22.452789Z"
    }
   },
   "outputs": [],
   "source": [
    "from orders import orders\n",
    "from selenium import webdriver\n",
    "from selenium.webdriver.chrome.service import Service\n",
    "from selenium.webdriver.common.by import By\n",
    "from selenium.webdriver.support.ui import WebDriverWait\n",
    "from selenium.webdriver.support import expected_conditions as EC\n",
    "from selenium.common.exceptions import NoSuchElementException, TimeoutException\n",
    "import logging\n",
    "import pandas as pd\n",
    "import re\n"
   ]
  },
  {
   "cell_type": "code",
   "execution_count": 88,
   "outputs": [],
   "source": [
    "def clean_order_text(order):\n",
    "    # Define the patterns in a list\n",
    "    patterns = [\n",
    "        re.compile(r'(Rate Dasher|Learn More|Get help).*?(?=Pick Up Location)', re.DOTALL),\n",
    "        re.compile(r'Channel.*?(?=Order Details)', re.DOTALL),\n",
    "        re.compile(r'Associated Transactions \\(\\d+\\).*?(?=Transaction #\\d+ - Delivery)', re.DOTALL),\n",
    "        re.compile(r'Associated Transactions \\(\\d+\\).*?(?=Transaction #\\d+ - Pickup)', re.DOTALL)\n",
    "        \n",
    "    ]\n",
    "    \n",
    "    # Apply each pattern\n",
    "    for pattern in patterns:\n",
    "        order = re.sub(pattern, '', order).strip()\n",
    "    \n",
    "    # Replace newline characters with spaces\n",
    "    order = order.replace('\\n', ' ')\n",
    "    \n",
    "    return order\n"
   ],
   "metadata": {
    "collapsed": false,
    "ExecuteTime": {
     "end_time": "2023-09-28T00:33:46.192665Z",
     "start_time": "2023-09-28T00:33:46.185747Z"
    }
   },
   "id": "f3c6ccccf5f677fe"
  },
  {
   "cell_type": "code",
   "execution_count": 89,
   "outputs": [],
   "source": [
    "def clean_orders(orders):\n",
    "    \n",
    "    results = []\n",
    "    \n",
    "    for order in orders:\n",
    "        order = clean_order_text(order)\n",
    "        \n",
    "        results.append(order)\n",
    "    return results"
   ],
   "metadata": {
    "collapsed": false,
    "ExecuteTime": {
     "end_time": "2023-09-28T00:33:47.059597Z",
     "start_time": "2023-09-28T00:33:47.052944Z"
    }
   },
   "id": "36248ad38dec908a"
  },
  {
   "cell_type": "code",
   "execution_count": 90,
   "outputs": [],
   "source": [
    "results = clean_orders(orders)"
   ],
   "metadata": {
    "collapsed": false,
    "ExecuteTime": {
     "end_time": "2023-09-28T00:33:48.022309Z",
     "start_time": "2023-09-28T00:33:47.994826Z"
    }
   },
   "id": "69b9982c7a773271"
  },
  {
   "cell_type": "code",
   "execution_count": 92,
   "outputs": [
    {
     "data": {
      "text/plain": "['Order: 2ABD90DB Delivered The order was delivered at 11:57 PM on September 26, 2023.  Pick Up Location 1402 Williams Dr, Georgetown, TX 78628, USA Order Details 1 × 19 Crimes Cabernet Sauvignon 750ml Bottle (14% ABV) (Specialty Wine) $13.79 Subtotal $13.79 Subtotal Tax $1.76 Commission (16%) -$2.21 Total Customer Refund -$0.00 Estimated Payout $13.34 Transaction #8072672500 - Delivery $13.34',\n 'Order: 42CEA1A6 Delivered The order was delivered at 11:25 PM on September 26, 2023.  Pick Up Location 1301 N U.S. Hwy 281, Marble Falls, TX 78654, USA Order Details 1 × Ice Breakers Mint Coolmint (1.5 oz) (Mint TX) $5.69 Subtotal $5.69 Subtotal Tax $0.73 Commission (20%) -$1.14 Total Customer Refund -$0.00 Estimated Payout $5.28 Transaction #8072574397 - Delivery $5.28',\n 'Order: 6AB38CB1 Delivered The order was delivered at 11:24 PM on September 26, 2023.  Pick Up Location 1301 N U.S. Hwy 281, Marble Falls, TX 78654, USA Order Details 2 × Ice Breakers Mint Coolmint (1.5 oz) (Mint TX) $11.38 Subtotal $11.38 Subtotal Tax $1.45 Commission (20%) -$2.28 Total Customer Refund -$0.00 Estimated Payout $10.55 Transaction #8072573625 - Delivery $10.55',\n 'Order: 4379B60E Delivered The order was delivered at 10:52 PM on September 26, 2023.  Pick Up Location 7045 W Del Mar Blvd, Laredo, TX 78041, USA Order Details 1 × Smirnoff Ice Original Malt Beverage Bottle (11.2 oz x 6 ct) (Flavored Malt Beverages Laredo) $14.99 Subtotal $14.99 Subtotal Tax $1.91 Commission (16%) -$2.40 Total Customer Refund -$0.00 Estimated Payout $14.50 Transaction #8072378844 - Delivery $14.50',\n 'Order: 0A150B93 Delivered The order was delivered at 10:34 PM on September 26, 2023.  Pick Up Location 2503 TX-349, Midland, TX 79706, USA Order Details 1 × Cheetos Crunchy Jalapeno (8.5 oz) (Chips & Popcorn TX) $3.19 Subtotal $3.19 Subtotal Tax $0.00 Commission (16%) -$0.51 Total Customer Refund -$0.00 Estimated Payout $2.68 Transaction #8072265117 - Delivery $2.68',\n 'Order: E0EB8837 Delivered The order was delivered at 8:18 PM on September 26, 2023.  Pick Up Location 5004 Wesley St, Greenville, TX 75402, USA Order Details 3 × Steel Reserve Original Can (25 oz) (Flavored Malt Beverages NT) $13.17 Subtotal $13.17 Subtotal Tax $1.68 Commission (16%) -$2.11 Total Customer Refund -$0.00 Estimated Payout $12.74 Transaction #8071200562 - Delivery $12.74',\n 'Order: 77896463 Customer Picked Up The customer picked up the order at 8:05 PM on September 26, 2023.  Pick Up Location 7045 W Del Mar Blvd, Laredo, TX 78041, USA Order Details 1 × Natural Light Beer Can (12 oz x 15 ct) (Domestic Beer Laredo) $13.99 Subtotal $13.99 Subtotal Tax $1.78 Commission (9%) -$1.26 Total Customer Refund -$0.00 Estimated Payout $14.51 Transaction #8071268296 - Pickup $14.51',\n 'Order: B48F2460 Delivered The order was delivered at 7:46 PM on September 26, 2023.  Pick Up Location 14620 Ranch Rd 12, Wimberley, TX 78676, USA Order Details 3 × Cayman Jack Margarita Can (19 oz) (Flavored Malt Beverages CT) $17.07 Subtotal $17.07 Subtotal Tax $2.18 Commission (23%) -$3.93 Total Customer Refund -$0.00 Estimated Payout $15.32 Transaction #8070880369 - Delivery $15.32',\n 'Order: 78588F69 Delivered The order was delivered at 6:35 PM on September 26, 2023.  Pick Up Location 5004 Wesley St, Greenville, TX 75402, USA Order Details 2 × Ice Large (Fountain, Frozen, & Tea) $14.98 Subtotal $14.98 Subtotal Tax $1.91 Commission (16%) -$2.40 Total Customer Refund -$0.00 Estimated Payout $14.49 Transaction #8070265277 - Delivery $14.49',\n 'Order: 5C857863 Cancelled - Not Paid The order was cancelled on September 26, 2023 at 5:59 PM. You were not paid because you did not confirm the order before the order was cancelled. Pick Up Location 14620 Ranch Rd 12, Wimberley, TX 78676, USA Order Details 3 × Cayman Jack Margarita Can (19 oz) (Flavored Malt Beverages CT) $17.07 Subtotal $17.07 Subtotal Tax $2.18 Commission (23%) -$3.93 Total Customer Refund -$0.00 Estimated Payout $0.00',\n 'Order: CA2588A4 Delivered The order was delivered at 4:02 PM on September 26, 2023.  Pick Up Location 5004 Wesley St, Greenville, TX 75402, USA Order Details 3 × Steel Reserve Original Can (25 oz) (Flavored Malt Beverages NT) $13.17 Subtotal $13.17 Subtotal Tax $1.68 Commission (16%) -$2.11 Total Customer Refund -$0.00 Estimated Payout $12.74 Transaction #8068891159 - Delivery $12.74',\n 'Order: B6233BDE Delivered The order was delivered at 11:55 AM on September 26, 2023.  Pick Up Location 1001 W Van Alstyne Pkwy, Van Alstyne, TX 75495, USA Order Details 2 × Gatorade Lime Cucumber Bottle (28 oz) (Sports Drinks TX) $9.58 1 × Arizona Green Tea Bottle (34oz) (Tea TX) $4.39 1 × Fountain Drink (Fountain, Frozen, & Tea) Drink Selection: Coke $0.00 1 × Fountain Drink (Fountain, Frozen, & Tea) Drink Selection: Mountain Dew $0.00 1 × Fountain Drink (Fountain, Frozen, & Tea) Drink Selection: Gatorade Lemon-Lime $0.00 Subtotal $13.97 Subtotal Tax $1.22 Commission (23%) -$3.21 Total Customer Refund -$0.00 Estimated Payout $11.98 Transaction #8067195196 - Delivery $11.98',\n 'Order: 8903B15F Delivered The order was delivered at 11:41 AM on September 26, 2023.  Pick Up Location 800 W Interstate 20, Big Spring, TX 79720, USA Order Details 1 × Fritos Scoops Corn Chips (9.25 oz) (Chips & Popcorn TX) $6.49 1 × Fountain Drink (Fountain, Frozen, & Tea) Drink Selection: Diet Dr Pepper $0.00 1 × Fountain Drink (Fountain, Frozen, & Tea) Drink Selection: Coke $0.00 Subtotal $6.49 Subtotal Tax $0.00 Commission (16%) -$1.04 Total Customer Refund -$0.00 Estimated Payout $5.45 Transaction #8067145629 - Delivery $5.45',\n 'Order: 9EAC6D9E Cancelled - Not Paid The order was cancelled on September 26, 2023 at 10:39 AM. You were not paid because you did not confirm the order before the order was cancelled. Pick Up Location 3071 University Dr E, Bryan, TX 77802, USA Order Details 2 × Bacon Egg Cheese Biscuit (Breakfast Sandwiches & Bowls) $9.78 1 × Monster Java Loca Mocha Can (15oz) (Coffee TX) $5.69 3 × Potato Egg Cheese Taco (Breakfast Tacos & Quesadillas) Salsa: Salsa Verde $14.07 Subtotal $29.54 Subtotal Tax $3.77 Commission (23%) -$6.79 Total Customer Refund -$0.00 Estimated Payout $0.00',\n 'Order: ABDD1702 Delivered The order was delivered at 12:00 AM on September 26, 2023.  Pick Up Location 5004 Wesley St, Greenville, TX 75402, USA Order Details 1 × Coors Original Beer Bottle (12oz x 6ct) (Domestic Beer NT) $14.99 Subtotal $14.99 Subtotal Tax $1.91 Commission (23%) -$3.45 Total Customer Refund -$0.00 Estimated Payout $13.45 Transaction #8065637009 - Delivery $13.45']"
     },
     "execution_count": 92,
     "metadata": {},
     "output_type": "execute_result"
    }
   ],
   "source": [
    "results"
   ],
   "metadata": {
    "collapsed": false,
    "ExecuteTime": {
     "end_time": "2023-09-28T00:49:03.385950Z",
     "start_time": "2023-09-28T00:49:03.361518Z"
    }
   },
   "id": "24b6498bc76d4923"
  },
  {
   "cell_type": "code",
   "execution_count": 54,
   "outputs": [],
   "source": [
    "def parse_menu_items(price_as_value):\n",
    "    # Initialize a dictionary for the nested order details\n",
    "    item_name_to_item_price = {}\n",
    "    \n",
    "    # Regular expression pattern to match an item and its corresponding price\n",
    "    pattern = re.compile(r'(.+?) (\\$\\d+\\.\\d+)')\n",
    "    \n",
    "    # Find all matches in the string\n",
    "    matches = pattern.findall(price_as_value)\n",
    "    \n",
    "    # Loop through all the matches and populate the dictionary\n",
    "    for item_name, item_price in matches:\n",
    "        item_name_to_item_price[item_name] = item_price\n",
    "    \n",
    "    return item_name_to_item_price"
   ],
   "metadata": {
    "collapsed": false,
    "ExecuteTime": {
     "end_time": "2023-09-27T23:44:51.095557Z",
     "start_time": "2023-09-27T23:44:51.093461Z"
    }
   },
   "id": "d188cf2258510b0e"
  },
  {
   "cell_type": "code",
   "execution_count": 67,
   "outputs": [
    {
     "name": "stdout",
     "output_type": "stream",
     "text": [
      "{'Order': 'ABDD1702', 'Delivered': 'The order was delivered at 12:00 AM on September 26, 2023.', 'Pick Up Location': '5004 Wesley St, Greenville, TX 75402, USA', 'Order Details': {'1 × Coors Original Beer Bottle (12oz x 6ct) (Domestic Beer NT)': '$14.99', ' 3 × Cheers': '$69.99'}, 'Subtotal': '$14.99', 'Subtotal Tax': '$1.91', 'Commission (23%)': '-$3.45', 'Total Customer Refund': '-$0.00', 'Estimated Payout': '$13.45', 'Transaction #8065637009 - Delivery': '$13.45'}\n"
     ]
    }
   ],
   "source": [
    "def parse_order(order_str):\n",
    "    # Define the known keys with their regex patterns\n",
    "    known_keys = [r'\\bOrder: \\b', r'\\bDelivered\\b', r'\\bPick Up Location\\b', r'\\bOrder Details\\b', r'\\bSubtotal\\b(?=\\s[^a-zA-Z])', r'\\bSubtotal\\sTax\\b', r'Commission \\(\\d+%\\)', r'\\bTotal Customer Refund\\b', r'\\bEstimated Payout\\b', r'\\bAssociated Transactions \\(\\d+%\\)', r'Transaction #\\d+ - Delivery']\n",
    "\n",
    "    # Initialize the dictionary to store our parsed values\n",
    "    order_dict = {}\n",
    "    \n",
    "    # Find positions of known keys\n",
    "    positions = []\n",
    "    for key in known_keys:\n",
    "        for m in re.finditer(key, order_str):\n",
    "            positions.append((m.start(), m.end(), m.group()))\n",
    "    \n",
    "    # Sort positions by their start index\n",
    "    positions.sort(key=lambda x: x[0])\n",
    "    # print(positions)\n",
    "    \n",
    "    # Create segments based on positions\n",
    "    segments = []\n",
    "    \n",
    "    for i in range(len(positions)):\n",
    "        start = positions[i][1]\n",
    "        end = positions[i + 1][0] if i + 1 < len(positions) else len(order_str)\n",
    "        key = positions[i][2]\n",
    "        value = order_str[start:end].strip().split(' ')[0] if 'Estimated Payout' in key else order_str[start:end].strip()\n",
    "        # print(f'value: {value}')\n",
    "        # print(f'key: {key}| value: {value}')\n",
    "        segments.append((key, value))\n",
    "    # print(f'segments: {segments}')\n",
    "\n",
    "    # Parse segments into dictionary\n",
    "    for key, value in segments:\n",
    "        # print(f'key: {key}| value: {value}')\n",
    "        if key == \"Order Details\":\n",
    "            value = parse_menu_items(value)\n",
    "            # print(f'*** {value}')\n",
    "        order_dict[key.replace(':', '').strip()] = value\n",
    "        # print(f'order_dict: {order_dict}')\n",
    "\n",
    "    return order_dict\n",
    "\n",
    "# Your cleaned output\n",
    "cleaned_order = 'Order: ABDD1702 Delivered The order was delivered at 12:00 AM on September 26, 2023. Pick Up Location 5004 Wesley St, Greenville, TX 75402, USA Order Details 1 × Coors Original Beer Bottle (12oz x 6ct) (Domestic Beer NT) $14.99 3 × Cheers $69.99 Subtotal $14.99 Subtotal Tax $1.91 Commission (23%) -$3.45 Total Customer Refund -$0.00 Estimated Payout $13.45 Associated Transactions (1) Transaction #8065637009 - Delivery $13.45'\n",
    "\n",
    "# Call our parse_order function and print the result\n",
    "parsed_dict = parse_order(cleaned_order)\n",
    "print(parsed_dict)\n"
   ],
   "metadata": {
    "collapsed": false,
    "ExecuteTime": {
     "end_time": "2023-09-28T00:09:39.685567Z",
     "start_time": "2023-09-28T00:09:39.683267Z"
    }
   },
   "id": "d952a94dffc119e9"
  },
  {
   "cell_type": "code",
   "execution_count": null,
   "outputs": [],
   "source": [],
   "metadata": {
    "collapsed": false
   },
   "id": "41f51ecb8fa327e1"
  }
 ],
 "metadata": {
  "kernelspec": {
   "display_name": "Python 3",
   "language": "python",
   "name": "python3"
  },
  "language_info": {
   "codemirror_mode": {
    "name": "ipython",
    "version": 2
   },
   "file_extension": ".py",
   "mimetype": "text/x-python",
   "name": "python",
   "nbconvert_exporter": "python",
   "pygments_lexer": "ipython2",
   "version": "2.7.6"
  }
 },
 "nbformat": 4,
 "nbformat_minor": 5
}
