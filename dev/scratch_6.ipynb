{
 "cells": [
  {
   "cell_type": "code",
   "execution_count": 1,
   "id": "initial_id",
   "metadata": {
    "collapsed": true,
    "ExecuteTime": {
     "end_time": "2023-09-22T17:43:02.033002Z",
     "start_time": "2023-09-22T17:43:01.986211Z"
    }
   },
   "outputs": [],
   "source": [
    "from selenium import webdriver\n",
    "from selenium.webdriver import ChromeOptions\n",
    "from selenium.webdriver.chrome.service import Service\n",
    "# from src.pages.basepage import BasePage\n",
    "import os\n",
    "import logging\n",
    "import time\n",
    "from selenium.webdriver.common.by import By\n",
    "from selenium.common.exceptions import NoSuchElementException, TimeoutException\n",
    "from selenium.webdriver.support import expected_conditions as EC\n",
    "from selenium.webdriver.support.ui import WebDriverWait\n",
    "\n"
   ]
  },
  {
   "cell_type": "code",
   "execution_count": 15,
   "outputs": [],
   "source": [
    "\n",
    "class Test:\n",
    "    \n",
    "    def __init__(self):\n",
    "        options = ChromeOptions()\n",
    "        options.add_experimental_option(\"debuggerAddress\", \"127.0.0.1:9222\")\n",
    "        self.driver = webdriver.Chrome(service=Service(executable_path='/opt/homebrew/bin/chromedriver'), options=options)\n",
    "\n",
    "    def visit(self):\n",
    "        self.driver.get('https://www.doordash.com/merchant/orders?business_id=11495418')\n",
    "        print(f'=----------------------------')\n",
    "\n",
    "    # def __init__(self):\n",
    "    #     self.url = os.getenv('DD_MERCHANT_LOGIN_URL')\n",
    "    #     self.setup_driver()\n",
    "    # \n",
    "    # def setup_driver(self):\n",
    "    #     options = self._get_chrome_options()\n",
    "    #     chromedriver_exe_path = '/opt/homebrew/bin/chromedriver'\n",
    "    # \n",
    "    #     self.driver = webdriver.Chrome(\n",
    "    #         service=Service(executable_path=chromedriver_exe_path),\n",
    "    #         options=options\n",
    "    #     )\n",
    "    # \n",
    "    # \n",
    "    # def _get_chrome_options(self):\n",
    "    #     options = ChromeOptions()\n",
    "    #     options.add_argument('--remote-debugging-port=9222')\n",
    "    # \n",
    "    #     return options\n",
    "\n",
    "\n"
   ],
   "metadata": {
    "collapsed": false,
    "ExecuteTime": {
     "end_time": "2023-09-22T17:59:37.358105Z",
     "start_time": "2023-09-22T17:59:37.353484Z"
    }
   },
   "id": "6ea72ed4b5d568e7"
  },
  {
   "cell_type": "code",
   "execution_count": 16,
   "outputs": [],
   "source": [
    "t = Test()"
   ],
   "metadata": {
    "collapsed": false,
    "ExecuteTime": {
     "end_time": "2023-09-22T17:59:38.739912Z",
     "start_time": "2023-09-22T17:59:38.193269Z"
    }
   },
   "id": "5fc161d0bfced9d0"
  },
  {
   "cell_type": "code",
   "execution_count": 17,
   "outputs": [
    {
     "name": "stdout",
     "output_type": "stream",
     "text": [
      "=----------------------------\n"
     ]
    }
   ],
   "source": [
    "t.visit()"
   ],
   "metadata": {
    "collapsed": false,
    "ExecuteTime": {
     "end_time": "2023-09-22T17:59:41.042089Z",
     "start_time": "2023-09-22T17:59:38.742859Z"
    }
   },
   "id": "aeb2b38d37a9db7f"
  },
  {
   "cell_type": "code",
   "execution_count": null,
   "outputs": [],
   "source": [],
   "metadata": {
    "collapsed": false
   },
   "id": "38857cd6cfe628a9"
  }
 ],
 "metadata": {
  "kernelspec": {
   "display_name": "Python 3",
   "language": "python",
   "name": "python3"
  },
  "language_info": {
   "codemirror_mode": {
    "name": "ipython",
    "version": 2
   },
   "file_extension": ".py",
   "mimetype": "text/x-python",
   "name": "python",
   "nbconvert_exporter": "python",
   "pygments_lexer": "ipython2",
   "version": "2.7.6"
  }
 },
 "nbformat": 4,
 "nbformat_minor": 5
}
