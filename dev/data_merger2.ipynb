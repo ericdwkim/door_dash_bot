{
 "cells": [
  {
   "cell_type": "code",
   "execution_count": 75,
   "id": "initial_id",
   "metadata": {
    "collapsed": true,
    "ExecuteTime": {
     "end_time": "2023-10-05T22:47:48.797218Z",
     "start_time": "2023-10-05T22:47:48.789140Z"
    }
   },
   "outputs": [],
   "source": [
    "import pandas as pd\n",
    "import re\n",
    "import json\n",
    "import csv\n",
    "from datetime import datetime\n",
    "import logging"
   ]
  },
  {
   "cell_type": "code",
   "execution_count": 76,
   "outputs": [],
   "source": [
    "orders_json = [\n",
    "    {\n",
    "        \"Order\": \"119B71CC\",\n",
    "        \"Delivered\": \"The order was delivered at 10:16 PM on October 4, 2023.\",\n",
    "        \"Pick Up Location\": \"5004 Wesley St, Greenville, TX 75402, USA\",\n",
    "        \"Order Details\": {\n",
    "            \"2 \\u00d7 Bud Ice Lager Beer Can (25 oz) (Domestic Beer NT)\": \"$8.78\",\n",
    "            \" 3 \\u00d7 Steel Reserve Original Can (25 oz) (Flavored Malt Beverages NT)\": \"$13.17\"\n",
    "        },\n",
    "        \"Subtotal\": \"$21.95\",\n",
    "        \"Subtotal Tax\": \"$1.81\",\n",
    "        \"Commission (16%)\": \"-$3.51\",\n",
    "        \"Total Customer Refund\": \"-$0.00\",\n",
    "        \"Estimated Payout\": \"$20.25\",\n",
    "        \"Transaction #8134054141 - Delivery\": \"$20.25\"\n",
    "    },\n",
    "    {\n",
    "        \"Order\": \"CC36E208\",\n",
    "        \"Delivered\": \"The order was delivered at 9:18 PM on October 4, 2023.\",\n",
    "        \"Pick Up Location\": \"\",\n",
    "        \"Order Details\": {\n",
    "            \"1 \\u00d7 Miller Lite Beer Can (12 oz x 18 ct) (Domestic Beer NT)\": \"$28.79\"\n",
    "        },\n",
    "        \"Subtotal\": \"$28.79\",\n",
    "        \"Subtotal Tax\": \"$2.38\",\n",
    "        \"Commission (16%)\": \"-$4.61\",\n",
    "        \"Total Customer Refund\": \"-$0.00\",\n",
    "        \"Estimated Payout\": \"$0.00\"\n",
    "    },\n",
    "    {\n",
    "        \"Order\": \"C7B1DB1A Could Not Deliver The Dasher attempted to deliver to your customer, but couldn't complete the delivery.\",\n",
    "        \"Pick Up Location\": \"5004 Wesley St, Greenville, TX 75402, USA\",\n",
    "        \"Order Details\": {\n",
    "            \"1 \\u00d7 Miller Lite Beer Can (12 oz x 18 ct) (Domestic Beer NT)\": \"$28.79\"\n",
    "        },\n",
    "        \"Subtotal\": \"$28.79\",\n",
    "        \"Subtotal Tax\": \"$2.38\",\n",
    "        \"Commission (23%)\": \"-$6.62\",\n",
    "        \"Total Customer Refund\": \"-$0.00\",\n",
    "        \"Estimated Payout\": \"$0.00\",\n",
    "        \"Transaction #8133401784 - Delivery\": \"$24.55\",\n",
    "        \"Transaction #8133791059 - Delivery\": \"-$24.55\"\n",
    "    },\n",
    "    {\n",
    "        \"Order\": \"455421D6\",\n",
    "        \"Delivered\": \"Error Charge The customer reported one or more issues resulting in an error charge of $11.52. If you believe this was an error, you can dispute the error charge by October 18, 2023.\",\n",
    "        \"Pick Up Location\": \"1402 Williams Dr, Georgetown, TX 78628, USA\",\n",
    "        \"Order Details\": {\n",
    "            \"1 \\u00d7 Fountain Drink (Fountain, Frozen, & Tea) Drink Selection: TXB Root Beer\": \"$0.00\",\n",
    "            \" 1 \\u00d7 Chicken Tender Plate (3 pcs) (Chicken TXB#65) Dipping Sauce: Chicken Dipping Sauce Dipping Sauce: Ranch Dipping Sauce Dipping Sauce: Boom-Boom Dipping Sauce Choice of Sides: Mac & Cheese Choice of Sides: Mashed Potatoes & Gravy Original or Spicy: Spicy\": \"$12.49\"\n",
    "        },\n",
    "        \"Subtotal\": \"-$10.49 Error Charge Tax -$1.03 Error Charge Total -$11.52 Order Total $11.52\",\n",
    "        \"Commission (16%)\": \"-$2.00 Order Total $11.52 Error Charges 1 \\u00d7 Chicken Tender Plate (3 pcs) (Chicken TXB#65) Dipping Sauce: Chicken Dipping Sauce Dipping Sauce: Ranch Dipping Sauce Dipping Sauce: Boom-Boom Dipping Sauce Choice of Sides: Mac & Cheese Choice of Sides: Mashed Potatoes & Gravy Original or Spicy: Spicy Food Prepared Unsafely -$10.49 Error Charge\",\n",
    "        \"Estimated Payout\": \"$0.00\",\n",
    "        \"Transaction #8132060968 - Delivery\": \"$11.52 Transaction #8132372658 - Error Charges -$11.52\"\n",
    "    },\n",
    "    {\n",
    "        \"Order\": \"11518E3F\",\n",
    "        \"Delivered\": \"The order was delivered at 6:01 PM on October 4, 2023.\",\n",
    "        \"Pick Up Location\": \"1001 S State Hwy 16, Fredericksburg, TX 78624, USA\",\n",
    "        \"Order Details\": {\n",
    "            \"1 \\u00d7 Ice Large (Fountain, Frozen, & Tea)\": \"$7.49\"\n",
    "        },\n",
    "        \"Subtotal\": \"$7.49\",\n",
    "        \"Subtotal Tax\": \"$0.62\",\n",
    "        \"Commission (16%)\": \"-$1.20\",\n",
    "        \"Total Customer Refund\": \"-$0.00\",\n",
    "        \"Estimated Payout\": \"$6.91\",\n",
    "        \"Transaction #8131754028 - Delivery\": \"$6.91\"\n",
    "    },\n",
    "    {\n",
    "        \"Order\": \"717EFC23\",\n",
    "        \"Delivered\": \"The order was delivered at 1:32 PM on October 4, 2023.\",\n",
    "        \"Pick Up Location\": \"1001 W Van Alstyne Pkwy, Van Alstyne, TX 75495, USA\",\n",
    "        \"Order Details\": {\n",
    "            \"2 \\u00d7 TXB Strawberry White Tea Bottle (16oz) (Tea TX)\": \"$5.18\",\n",
    "            \" 1 \\u00d7 Fountain Drink (Fountain, Frozen, & Tea) Drink Selection: Sprite\": \"$0.00\",\n",
    "            \" 1 \\u00d7 Fountain Drink (Fountain, Frozen, & Tea) Drink Selection: Mountain Dew\": \"$0.00\",\n",
    "            \" 1 \\u00d7 Fountain Drink (Fountain, Frozen, & Tea) Drink Selection: Gatorade Lemon-Lime\": \"$0.00\",\n",
    "            \" 1 \\u00d7 Gatorade Lime Cucumber Bottle (28 oz) (Sports Drinks TX)\": \"$4.79\",\n",
    "            \" 1 \\u00d7 Arizona Green Tea Bottle (34oz) (Tea TX)\": \"$4.39\"\n",
    "        },\n",
    "        \"Subtotal\": \"$14.36\",\n",
    "        \"Subtotal Tax\": \"$0.82\",\n",
    "        \"Commission (23%)\": \"-$3.30\",\n",
    "        \"Total Customer Refund\": \"-$0.00\",\n",
    "        \"Estimated Payout\": \"$11.88\",\n",
    "        \"Transaction #8129725522 - Delivery\": \"$11.88\"\n",
    "    },\n",
    "    {\n",
    "        \"Order\": \"1187C4F6\",\n",
    "        \"Delivered\": \"The order was delivered at 1:11 PM on October 4, 2023.\",\n",
    "        \"Pick Up Location\": \"1001 S State Hwy 16, Fredericksburg, TX 78624, USA\",\n",
    "        \"Order Details\": {\n",
    "            \"1 \\u00d7 Monster Energy Drink Can (16 oz) (Energy Drinks TX)\": \"$4.79\",\n",
    "            \" 1 \\u00d7 One Bars Chocolate Chip Cookie Dough (2.12oz) (Nutritional Bars TX)\": \"$4.99\",\n",
    "            \" 1 \\u00d7 Jack Link's Cheese & Beef Steak (1.2oz) (Meat Snacks TX)\": \"$3.99\",\n",
    "            \" 1 \\u00d7 C4 Starburst Strawberry Can (16oz) (Energy Drinks TX)\": \"$4.79\"\n",
    "        },\n",
    "        \"Subtotal\": \"$18.56\",\n",
    "        \"Subtotal Tax\": \"$1.20\",\n",
    "        \"Commission (23%)\": \"-$4.27\",\n",
    "        \"Total Customer Refund\": \"-$0.00\",\n",
    "        \"Estimated Payout\": \"$15.49\",\n",
    "        \"Transaction #8129629020 - Delivery\": \"$15.49\"\n",
    "    },\n",
    "    {\n",
    "        \"Order\": \"56F1F9DF\",\n",
    "        \"Delivered\": \"The order was delivered at 12:35 PM on October 4, 2023.\",\n",
    "        \"Pick Up Location\": \"145 Lehman Rd, Kyle, TX 78640, USA\",\n",
    "        \"Order Details\": {\n",
    "            \"2 \\u00d7 Peanut Butter Chunk Cookie (Pastries & Desserts)\": \"$4.98\",\n",
    "            \" 1 \\u00d7 Chicken Tender Plate (3 pcs) (Chicken TXB#68) Dipping Sauce: Ranch Dipping Sauce Dipping Sauce: Honey Mustard Dipping Sauce Dipping Sauce: Boom-Boom Dipping Sauce Choice of Sides: Mac & Cheese Choice of Sides: Mashed Potatoes & Gravy Original or Spicy: Spicy\": \"$12.49\"\n",
    "        },\n",
    "        \"Subtotal\": \"$17.47\",\n",
    "        \"Subtotal Tax\": \"$1.44\",\n",
    "        \"Commission (16%)\": \"-$2.80\",\n",
    "        \"Total Customer Refund\": \"-$0.00\",\n",
    "        \"Estimated Payout\": \"$16.11\",\n",
    "        \"Transaction #8129341631 - Delivery\": \"$16.11\"\n",
    "    },\n",
    "    {\n",
    "        \"Order\": \"09CCEF99\",\n",
    "        \"Delivered\": \"The order was delivered at 11:31 AM on October 4, 2023.\",\n",
    "        \"Pick Up Location\": \"201 S 9th St, Durant, OK 74701, USA\",\n",
    "        \"Order Details\": {\n",
    "            \"3 \\u00d7 Fountain Drink (Fountain, Frozen, & Tea) Drink Selection: Mountain Dew\": \"$0.00\",\n",
    "            \" 1 \\u00d7 Dr Pepper Cherry Can (12 pk-12 oz) (Soda OK)\": \"$11.29\"\n",
    "        },\n",
    "        \"Subtotal\": \"$11.29\",\n",
    "        \"Subtotal Tax\": \"$1.06\",\n",
    "        \"Commission (16%)\": \"-$1.81\",\n",
    "        \"Total Customer Refund\": \"-$0.00\",\n",
    "        \"Estimated Payout\": \"$9.48\",\n",
    "        \"Transaction #8128900737 - Delivery\": \"$9.48\"\n",
    "    },\n",
    "    {\n",
    "        \"Order\": \"806C7274\",\n",
    "        \"Delivered\": \"The order was delivered at 10:54 AM on October 4, 2023.\",\n",
    "        \"Pick Up Location\": \"2503 TX-349, Midland, TX 79706, USA\",\n",
    "        \"Order Details\": {\n",
    "            \"1 \\u00d7 Cheez-It Original (3 oz) (Crackers & Pretzels TX)\": \"$3.39\",\n",
    "            \" 1 \\u00d7 Hostess Chocolate Donettes Frosted (3oz) (Donuts TX)\": \"$3.79\",\n",
    "            \" 2 \\u00d7 Zapps Chips Voodoo Heat (2.5oz) (Chips & Popcorn TX)\": \"$6.98\",\n",
    "            \" 1 \\u00d7 Snickers King Size (3.29oz) (Chocolate TX)\": \"$3.79\",\n",
    "            \" 4 \\u00d7 Red Bull Red Edition Watermelon Can (12 oz) (Energy Drinks TX)\": \"$23.16\"\n",
    "        },\n",
    "        \"Subtotal\": \"$41.11\",\n",
    "        \"Subtotal Tax\": \"$2.73\",\n",
    "        \"Commission (16%)\": \"-$6.58\",\n",
    "        \"Total Customer Refund\": \"-$0.00\",\n",
    "        \"Estimated Payout\": \"$37.26\",\n",
    "        \"Transaction #8128606134 - Delivery\": \"$37.26\"\n",
    "    },\n",
    "    {\n",
    "        \"Order\": \"4D6A8B19\",\n",
    "        \"Delivered\": \"The order was delivered at 10:38 AM on October 4, 2023.\",\n",
    "        \"Pick Up Location\": \"440 W Bandera Rd, Boerne, TX 78006, USA\",\n",
    "        \"Order Details\": {\n",
    "            \"1 \\u00d7 TXB Green Tea Bottle (16oz) (Tea TX)\": \"$2.59\",\n",
    "            \" 1 \\u00d7 TXB Fredericksburg Peach Sweet Tea Bottle (16oz) (Tea TX)\": \"$3.29\"\n",
    "        },\n",
    "        \"Subtotal\": \"$5.88\",\n",
    "        \"Subtotal Tax\": \"$0.21\",\n",
    "        \"Commission (20%)\": \"-$1.18\",\n",
    "        \"Total Customer Refund\": \"-$0.00\",\n",
    "        \"Estimated Payout\": \"$4.91\",\n",
    "        \"Transaction #8128576360 - Delivery\": \"$4.91\"\n",
    "    },\n",
    "    {\n",
    "        \"Order\": \"4814C0EE\",\n",
    "        \"Delivered\": \"The order was delivered at 8:07 AM on October 4, 2023.\",\n",
    "        \"Pick Up Location\": \"1402 Williams Dr, Georgetown, TX 78628, USA\",\n",
    "        \"Order Details\": {\n",
    "            \"3 \\u00d7 Big TX Burrito (Breakfast Tacos & Quesadillas) Salsa: Salsa Verde\": \"$8.67\"\n",
    "        },\n",
    "        \"Subtotal\": \"$8.67\",\n",
    "        \"Subtotal Tax\": \"$0.72\",\n",
    "        \"Commission (16%)\": \"-$1.39\",\n",
    "        \"Total Customer Refund\": \"-$0.00\",\n",
    "        \"Estimated Payout\": \"$8.00\",\n",
    "        \"Transaction #8128036707 - Delivery\": \"$8.00\"\n",
    "    },\n",
    "    {\n",
    "        \"Order\": \"7967144C\",\n",
    "        \"Delivered\": \"The order was delivered at 7:53 AM on October 4, 2023.\",\n",
    "        \"Pick Up Location\": \"5004 Wesley St, Greenville, TX 75402, USA\",\n",
    "        \"Order Details\": {\n",
    "            \"1 \\u00d7 Monster Ultra Peachy Keen Can (16oz) (Energy Drinks TX)\": \"$4.79\",\n",
    "            \" 1 \\u00d7 Tropicana Apple Juice (12oz) (Juice TX)\": \"$3.89\"\n",
    "        },\n",
    "        \"Subtotal\": \"$8.68\",\n",
    "        \"Subtotal Tax\": \"$0.40\",\n",
    "        \"Commission (16%)\": \"-$1.39\",\n",
    "        \"Total Customer Refund\": \"-$0.00\",\n",
    "        \"Estimated Payout\": \"$7.69\",\n",
    "        \"Transaction #8128003710 - Delivery\": \"$7.69\"\n",
    "    },\n",
    "    {\n",
    "        \"Order\": \"EB4E3B27\",\n",
    "        \"Delivered\": \"The order was delivered at 7:26 AM on October 4, 2023.\",\n",
    "        \"Pick Up Location\": \"201 S 9th St, Durant, OK 74701, USA\",\n",
    "        \"Order Details\": {\n",
    "            \"1 \\u00d7 Sprite Bottle (20 oz) (Soda OK)\": \"$3.19\",\n",
    "            \" 1 \\u00d7 Bacon Egg Cheese Biscuit (Breakfast Sandwiches & Bowls)\": \"$4.89\",\n",
    "            \" 2 \\u00d7 Monster Java Mean Bean Can (15oz) (Coffee OK)\": \"$11.38\"\n",
    "        },\n",
    "        \"Subtotal\": \"$19.46\",\n",
    "        \"Subtotal Tax\": \"$1.82\",\n",
    "        \"Commission (23%)\": \"-$4.48\",\n",
    "        \"Total Customer Refund\": \"-$0.00\",\n",
    "        \"Estimated Payout\": \"$14.98\",\n",
    "        \"Transaction #8127972503 - Delivery\": \"$14.98\"\n",
    "    },\n",
    "    {\n",
    "        \"Order\": \"D8CEA439\",\n",
    "        \"Delivered\": \"The order was delivered at 12:08 AM on October 4, 2023.\",\n",
    "        \"Pick Up Location\": \"2320 W Main St, Durant, OK 74701, USA\",\n",
    "        \"Order Details\": {\n",
    "            \"1 \\u00d7 Pepsi Can (12pk 12oz) (Soda OK)\": \"$11.29\"\n",
    "        },\n",
    "        \"Subtotal\": \"$11.29\",\n",
    "        \"Subtotal Tax\": \"$1.06\",\n",
    "        \"Commission (16%)\": \"-$1.81\",\n",
    "        \"Total Customer Refund\": \"-$0.00\",\n",
    "        \"Estimated Payout\": \"$9.48\",\n",
    "        \"Transaction #8127379901 - Delivery\": \"$9.48\"\n",
    "    },\n",
    "    {\n",
    "        \"Order\": \"AD3E1757\",\n",
    "        \"Delivered\": \"The order was delivered at 12:07 AM on October 4, 2023.\",\n",
    "        \"Pick Up Location\": \"5004 Wesley St, Greenville, TX 75402, USA\",\n",
    "        \"Order Details\": {\n",
    "            \"1 \\u00d7 Bai Boost Strawberry Watermelon Bottle (18oz) (Water TX)\": \"$4.19\",\n",
    "            \" 2 \\u00d7 C4 Starburst Strawberry Can (16oz) (Energy Drinks TX)\": \"$9.58\"\n",
    "        },\n",
    "        \"Subtotal\": \"$13.77\",\n",
    "        \"Subtotal Tax\": \"$1.14\",\n",
    "        \"Commission (23%)\": \"-$3.17\",\n",
    "        \"Total Customer Refund\": \"-$0.00\",\n",
    "        \"Estimated Payout\": \"$11.74\",\n",
    "        \"Transaction #8127420369 - Delivery\": \"$11.74\"\n",
    "    }\n",
    "]"
   ],
   "metadata": {
    "collapsed": false,
    "ExecuteTime": {
     "end_time": "2023-10-05T22:47:49.321178Z",
     "start_time": "2023-10-05T22:47:49.292301Z"
    }
   },
   "id": "10b319ffa5ad7a3f"
  },
  {
   "cell_type": "code",
   "execution_count": 77,
   "outputs": [],
   "source": [
    "master_dataset_file_path = '/Users/ekim/workspace/personal/dd-bot/dev/store_list.xlsx'\n"
   ],
   "metadata": {
    "collapsed": false,
    "ExecuteTime": {
     "end_time": "2023-10-05T22:47:50.014740Z",
     "start_time": "2023-10-05T22:47:50.007333Z"
    }
   },
   "id": "5c365bef2908ebd0"
  },
  {
   "cell_type": "code",
   "execution_count": 83,
   "outputs": [
    {
     "ename": "TypeError",
     "evalue": "data type 'ff39fse3' not understood",
     "output_type": "error",
     "traceback": [
      "\u001B[0;31m---------------------------------------------------------------------------\u001B[0m",
      "\u001B[0;31mTypeError\u001B[0m                                 Traceback (most recent call last)",
      "Cell \u001B[0;32mIn[83], line 15\u001B[0m\n\u001B[1;32m     12\u001B[0m     master_df[\u001B[38;5;124m'\u001B[39m\u001B[38;5;124mZip\u001B[39m\u001B[38;5;124m'\u001B[39m] \u001B[38;5;241m=\u001B[39m master_df[\u001B[38;5;124m'\u001B[39m\u001B[38;5;124mZip\u001B[39m\u001B[38;5;124m'\u001B[39m]\u001B[38;5;241m.\u001B[39mastype(\u001B[38;5;28mstr\u001B[39m)\n\u001B[1;32m     13\u001B[0m     \u001B[38;5;28;01mreturn\u001B[39;00m master_df\n\u001B[0;32m---> 15\u001B[0m master_df \u001B[38;5;241m=\u001B[39m \u001B[43madd_cols_to_masterset_df\u001B[49m\u001B[43m(\u001B[49m\u001B[43mmaster_df\u001B[49m\u001B[43m)\u001B[49m\n\u001B[1;32m     16\u001B[0m master_df\n",
      "Cell \u001B[0;32mIn[83], line 11\u001B[0m, in \u001B[0;36madd_cols_to_masterset_df\u001B[0;34m(master_df)\u001B[0m\n\u001B[1;32m      8\u001B[0m \u001B[38;5;28;01mdef\u001B[39;00m \u001B[38;5;21madd_cols_to_masterset_df\u001B[39m(master_df):\n\u001B[1;32m      9\u001B[0m \n\u001B[1;32m     10\u001B[0m     \u001B[38;5;66;03m# Cast int64 default dtype cols to strings for proper JOINs\u001B[39;00m\n\u001B[0;32m---> 11\u001B[0m     master_df[\u001B[38;5;124m'\u001B[39m\u001B[38;5;124mSite #\u001B[39m\u001B[38;5;124m'\u001B[39m] \u001B[38;5;241m=\u001B[39m \u001B[43mmaster_df\u001B[49m\u001B[43m[\u001B[49m\u001B[38;5;124;43m'\u001B[39;49m\u001B[38;5;124;43mSite #\u001B[39;49m\u001B[38;5;124;43m'\u001B[39;49m\u001B[43m]\u001B[49m\u001B[38;5;241;43m.\u001B[39;49m\u001B[43mastype\u001B[49m\u001B[43m(\u001B[49m\u001B[38;5;28;43mstr\u001B[39;49m\u001B[43m)\u001B[49m\n\u001B[1;32m     12\u001B[0m     master_df[\u001B[38;5;124m'\u001B[39m\u001B[38;5;124mZip\u001B[39m\u001B[38;5;124m'\u001B[39m] \u001B[38;5;241m=\u001B[39m master_df[\u001B[38;5;124m'\u001B[39m\u001B[38;5;124mZip\u001B[39m\u001B[38;5;124m'\u001B[39m]\u001B[38;5;241m.\u001B[39mastype(\u001B[38;5;28mstr\u001B[39m)\n\u001B[1;32m     13\u001B[0m     \u001B[38;5;28;01mreturn\u001B[39;00m master_df\n",
      "File \u001B[0;32m~/opt/anaconda3/envs/bots/lib/python3.10/site-packages/pandas/core/generic.py:6324\u001B[0m, in \u001B[0;36mNDFrame.astype\u001B[0;34m(self, dtype, copy, errors)\u001B[0m\n\u001B[1;32m   6317\u001B[0m     results \u001B[38;5;241m=\u001B[39m [\n\u001B[1;32m   6318\u001B[0m         \u001B[38;5;28mself\u001B[39m\u001B[38;5;241m.\u001B[39miloc[:, i]\u001B[38;5;241m.\u001B[39mastype(dtype, copy\u001B[38;5;241m=\u001B[39mcopy)\n\u001B[1;32m   6319\u001B[0m         \u001B[38;5;28;01mfor\u001B[39;00m i \u001B[38;5;129;01min\u001B[39;00m \u001B[38;5;28mrange\u001B[39m(\u001B[38;5;28mlen\u001B[39m(\u001B[38;5;28mself\u001B[39m\u001B[38;5;241m.\u001B[39mcolumns))\n\u001B[1;32m   6320\u001B[0m     ]\n\u001B[1;32m   6322\u001B[0m \u001B[38;5;28;01melse\u001B[39;00m:\n\u001B[1;32m   6323\u001B[0m     \u001B[38;5;66;03m# else, only a single dtype is given\u001B[39;00m\n\u001B[0;32m-> 6324\u001B[0m     new_data \u001B[38;5;241m=\u001B[39m \u001B[38;5;28;43mself\u001B[39;49m\u001B[38;5;241;43m.\u001B[39;49m\u001B[43m_mgr\u001B[49m\u001B[38;5;241;43m.\u001B[39;49m\u001B[43mastype\u001B[49m\u001B[43m(\u001B[49m\u001B[43mdtype\u001B[49m\u001B[38;5;241;43m=\u001B[39;49m\u001B[43mdtype\u001B[49m\u001B[43m,\u001B[49m\u001B[43m \u001B[49m\u001B[43mcopy\u001B[49m\u001B[38;5;241;43m=\u001B[39;49m\u001B[43mcopy\u001B[49m\u001B[43m,\u001B[49m\u001B[43m \u001B[49m\u001B[43merrors\u001B[49m\u001B[38;5;241;43m=\u001B[39;49m\u001B[43merrors\u001B[49m\u001B[43m)\u001B[49m\n\u001B[1;32m   6325\u001B[0m     \u001B[38;5;28;01mreturn\u001B[39;00m \u001B[38;5;28mself\u001B[39m\u001B[38;5;241m.\u001B[39m_constructor(new_data)\u001B[38;5;241m.\u001B[39m__finalize__(\u001B[38;5;28mself\u001B[39m, method\u001B[38;5;241m=\u001B[39m\u001B[38;5;124m\"\u001B[39m\u001B[38;5;124mastype\u001B[39m\u001B[38;5;124m\"\u001B[39m)\n\u001B[1;32m   6327\u001B[0m \u001B[38;5;66;03m# GH 33113: handle empty frame or series\u001B[39;00m\n",
      "File \u001B[0;32m~/opt/anaconda3/envs/bots/lib/python3.10/site-packages/pandas/core/internals/managers.py:451\u001B[0m, in \u001B[0;36mBaseBlockManager.astype\u001B[0;34m(self, dtype, copy, errors)\u001B[0m\n\u001B[1;32m    448\u001B[0m \u001B[38;5;28;01melif\u001B[39;00m using_copy_on_write():\n\u001B[1;32m    449\u001B[0m     copy \u001B[38;5;241m=\u001B[39m \u001B[38;5;28;01mFalse\u001B[39;00m\n\u001B[0;32m--> 451\u001B[0m \u001B[38;5;28;01mreturn\u001B[39;00m \u001B[38;5;28;43mself\u001B[39;49m\u001B[38;5;241;43m.\u001B[39;49m\u001B[43mapply\u001B[49m\u001B[43m(\u001B[49m\n\u001B[1;32m    452\u001B[0m \u001B[43m    \u001B[49m\u001B[38;5;124;43m\"\u001B[39;49m\u001B[38;5;124;43mastype\u001B[39;49m\u001B[38;5;124;43m\"\u001B[39;49m\u001B[43m,\u001B[49m\n\u001B[1;32m    453\u001B[0m \u001B[43m    \u001B[49m\u001B[43mdtype\u001B[49m\u001B[38;5;241;43m=\u001B[39;49m\u001B[43mdtype\u001B[49m\u001B[43m,\u001B[49m\n\u001B[1;32m    454\u001B[0m \u001B[43m    \u001B[49m\u001B[43mcopy\u001B[49m\u001B[38;5;241;43m=\u001B[39;49m\u001B[43mcopy\u001B[49m\u001B[43m,\u001B[49m\n\u001B[1;32m    455\u001B[0m \u001B[43m    \u001B[49m\u001B[43merrors\u001B[49m\u001B[38;5;241;43m=\u001B[39;49m\u001B[43merrors\u001B[49m\u001B[43m,\u001B[49m\n\u001B[1;32m    456\u001B[0m \u001B[43m    \u001B[49m\u001B[43musing_cow\u001B[49m\u001B[38;5;241;43m=\u001B[39;49m\u001B[43musing_copy_on_write\u001B[49m\u001B[43m(\u001B[49m\u001B[43m)\u001B[49m\u001B[43m,\u001B[49m\n\u001B[1;32m    457\u001B[0m \u001B[43m\u001B[49m\u001B[43m)\u001B[49m\n",
      "File \u001B[0;32m~/opt/anaconda3/envs/bots/lib/python3.10/site-packages/pandas/core/internals/managers.py:352\u001B[0m, in \u001B[0;36mBaseBlockManager.apply\u001B[0;34m(self, f, align_keys, **kwargs)\u001B[0m\n\u001B[1;32m    350\u001B[0m         applied \u001B[38;5;241m=\u001B[39m b\u001B[38;5;241m.\u001B[39mapply(f, \u001B[38;5;241m*\u001B[39m\u001B[38;5;241m*\u001B[39mkwargs)\n\u001B[1;32m    351\u001B[0m     \u001B[38;5;28;01melse\u001B[39;00m:\n\u001B[0;32m--> 352\u001B[0m         applied \u001B[38;5;241m=\u001B[39m \u001B[38;5;28;43mgetattr\u001B[39;49m\u001B[43m(\u001B[49m\u001B[43mb\u001B[49m\u001B[43m,\u001B[49m\u001B[43m \u001B[49m\u001B[43mf\u001B[49m\u001B[43m)\u001B[49m\u001B[43m(\u001B[49m\u001B[38;5;241;43m*\u001B[39;49m\u001B[38;5;241;43m*\u001B[39;49m\u001B[43mkwargs\u001B[49m\u001B[43m)\u001B[49m\n\u001B[1;32m    353\u001B[0m     result_blocks \u001B[38;5;241m=\u001B[39m extend_blocks(applied, result_blocks)\n\u001B[1;32m    355\u001B[0m out \u001B[38;5;241m=\u001B[39m \u001B[38;5;28mtype\u001B[39m(\u001B[38;5;28mself\u001B[39m)\u001B[38;5;241m.\u001B[39mfrom_blocks(result_blocks, \u001B[38;5;28mself\u001B[39m\u001B[38;5;241m.\u001B[39maxes)\n",
      "File \u001B[0;32m~/opt/anaconda3/envs/bots/lib/python3.10/site-packages/pandas/core/internals/blocks.py:511\u001B[0m, in \u001B[0;36mBlock.astype\u001B[0;34m(self, dtype, copy, errors, using_cow)\u001B[0m\n\u001B[1;32m    491\u001B[0m \u001B[38;5;250m\u001B[39m\u001B[38;5;124;03m\"\"\"\u001B[39;00m\n\u001B[1;32m    492\u001B[0m \u001B[38;5;124;03mCoerce to the new dtype.\u001B[39;00m\n\u001B[1;32m    493\u001B[0m \n\u001B[0;32m   (...)\u001B[0m\n\u001B[1;32m    507\u001B[0m \u001B[38;5;124;03mBlock\u001B[39;00m\n\u001B[1;32m    508\u001B[0m \u001B[38;5;124;03m\"\"\"\u001B[39;00m\n\u001B[1;32m    509\u001B[0m values \u001B[38;5;241m=\u001B[39m \u001B[38;5;28mself\u001B[39m\u001B[38;5;241m.\u001B[39mvalues\n\u001B[0;32m--> 511\u001B[0m new_values \u001B[38;5;241m=\u001B[39m \u001B[43mastype_array_safe\u001B[49m\u001B[43m(\u001B[49m\u001B[43mvalues\u001B[49m\u001B[43m,\u001B[49m\u001B[43m \u001B[49m\u001B[43mdtype\u001B[49m\u001B[43m,\u001B[49m\u001B[43m \u001B[49m\u001B[43mcopy\u001B[49m\u001B[38;5;241;43m=\u001B[39;49m\u001B[43mcopy\u001B[49m\u001B[43m,\u001B[49m\u001B[43m \u001B[49m\u001B[43merrors\u001B[49m\u001B[38;5;241;43m=\u001B[39;49m\u001B[43merrors\u001B[49m\u001B[43m)\u001B[49m\n\u001B[1;32m    513\u001B[0m new_values \u001B[38;5;241m=\u001B[39m maybe_coerce_values(new_values)\n\u001B[1;32m    515\u001B[0m refs \u001B[38;5;241m=\u001B[39m \u001B[38;5;28;01mNone\u001B[39;00m\n",
      "File \u001B[0;32m~/opt/anaconda3/envs/bots/lib/python3.10/site-packages/pandas/core/dtypes/astype.py:236\u001B[0m, in \u001B[0;36mastype_array_safe\u001B[0;34m(values, dtype, copy, errors)\u001B[0m\n\u001B[1;32m    230\u001B[0m     msg \u001B[38;5;241m=\u001B[39m (\n\u001B[1;32m    231\u001B[0m         \u001B[38;5;124mf\u001B[39m\u001B[38;5;124m\"\u001B[39m\u001B[38;5;124mExpected an instance of \u001B[39m\u001B[38;5;132;01m{\u001B[39;00mdtype\u001B[38;5;241m.\u001B[39m\u001B[38;5;18m__name__\u001B[39m\u001B[38;5;132;01m}\u001B[39;00m\u001B[38;5;124m, \u001B[39m\u001B[38;5;124m\"\u001B[39m\n\u001B[1;32m    232\u001B[0m         \u001B[38;5;124m\"\u001B[39m\u001B[38;5;124mbut got the class instead. Try instantiating \u001B[39m\u001B[38;5;124m'\u001B[39m\u001B[38;5;124mdtype\u001B[39m\u001B[38;5;124m'\u001B[39m\u001B[38;5;124m.\u001B[39m\u001B[38;5;124m\"\u001B[39m\n\u001B[1;32m    233\u001B[0m     )\n\u001B[1;32m    234\u001B[0m     \u001B[38;5;28;01mraise\u001B[39;00m \u001B[38;5;167;01mTypeError\u001B[39;00m(msg)\n\u001B[0;32m--> 236\u001B[0m dtype \u001B[38;5;241m=\u001B[39m \u001B[43mpandas_dtype\u001B[49m\u001B[43m(\u001B[49m\u001B[43mdtype\u001B[49m\u001B[43m)\u001B[49m\n\u001B[1;32m    237\u001B[0m \u001B[38;5;28;01mif\u001B[39;00m \u001B[38;5;28misinstance\u001B[39m(dtype, PandasDtype):\n\u001B[1;32m    238\u001B[0m     \u001B[38;5;66;03m# Ensure we don't end up with a PandasArray\u001B[39;00m\n\u001B[1;32m    239\u001B[0m     dtype \u001B[38;5;241m=\u001B[39m dtype\u001B[38;5;241m.\u001B[39mnumpy_dtype\n",
      "File \u001B[0;32m~/opt/anaconda3/envs/bots/lib/python3.10/site-packages/pandas/core/dtypes/common.py:1691\u001B[0m, in \u001B[0;36mpandas_dtype\u001B[0;34m(dtype)\u001B[0m\n\u001B[1;32m   1686\u001B[0m     \u001B[38;5;28;01mwith\u001B[39;00m warnings\u001B[38;5;241m.\u001B[39mcatch_warnings():\n\u001B[1;32m   1687\u001B[0m         \u001B[38;5;66;03m# GH#51523 - Series.astype(np.integer) doesn't show\u001B[39;00m\n\u001B[1;32m   1688\u001B[0m         \u001B[38;5;66;03m# numpy deprication warning of np.integer\u001B[39;00m\n\u001B[1;32m   1689\u001B[0m         \u001B[38;5;66;03m# Hence enabling DeprecationWarning\u001B[39;00m\n\u001B[1;32m   1690\u001B[0m         warnings\u001B[38;5;241m.\u001B[39msimplefilter(\u001B[38;5;124m\"\u001B[39m\u001B[38;5;124malways\u001B[39m\u001B[38;5;124m\"\u001B[39m, \u001B[38;5;167;01mDeprecationWarning\u001B[39;00m)\n\u001B[0;32m-> 1691\u001B[0m         npdtype \u001B[38;5;241m=\u001B[39m \u001B[43mnp\u001B[49m\u001B[38;5;241;43m.\u001B[39;49m\u001B[43mdtype\u001B[49m\u001B[43m(\u001B[49m\u001B[43mdtype\u001B[49m\u001B[43m)\u001B[49m\n\u001B[1;32m   1692\u001B[0m \u001B[38;5;28;01mexcept\u001B[39;00m \u001B[38;5;167;01mSyntaxError\u001B[39;00m \u001B[38;5;28;01mas\u001B[39;00m err:\n\u001B[1;32m   1693\u001B[0m     \u001B[38;5;66;03m# np.dtype uses `eval` which can raise SyntaxError\u001B[39;00m\n\u001B[1;32m   1694\u001B[0m     \u001B[38;5;28;01mraise\u001B[39;00m \u001B[38;5;167;01mTypeError\u001B[39;00m(\u001B[38;5;124mf\u001B[39m\u001B[38;5;124m\"\u001B[39m\u001B[38;5;124mdata type \u001B[39m\u001B[38;5;124m'\u001B[39m\u001B[38;5;132;01m{\u001B[39;00mdtype\u001B[38;5;132;01m}\u001B[39;00m\u001B[38;5;124m'\u001B[39m\u001B[38;5;124m not understood\u001B[39m\u001B[38;5;124m\"\u001B[39m) \u001B[38;5;28;01mfrom\u001B[39;00m \u001B[38;5;21;01merr\u001B[39;00m\n",
      "\u001B[0;31mTypeError\u001B[0m: data type 'ff39fse3' not understood"
     ]
    }
   ],
   "source": [
    "def read_masterdataset_excel():\n",
    "    master_df = pd.read_excel(master_dataset_file_path, index_col=0)\n",
    "    return master_df\n",
    "\n",
    "master_df = read_masterdataset_excel()\n",
    "\n",
    "\n",
    "def add_cols_to_masterset_df(master_df):\n",
    "\n",
    "    # Cast int64 default dtype cols to strings for proper JOINs\n",
    "    master_df['Site #'] = master_df['Site #'].astype(str)\n",
    "    master_df['Zip'] = master_df['Zip'].astype(str)\n",
    "    return master_df\n",
    "\n",
    "master_df = add_cols_to_masterset_df(master_df)\n",
    "master_df"
   ],
   "metadata": {
    "collapsed": false,
    "ExecuteTime": {
     "end_time": "2023-10-05T22:49:26.872641Z",
     "start_time": "2023-10-05T22:49:26.780415Z"
    }
   },
   "id": "7e06ec179097a9f1"
  },
  {
   "cell_type": "code",
   "execution_count": 68,
   "outputs": [
    {
     "data": {
      "text/plain": "[{'Order': '119B71CC',\n  'Delivered': 'The order was delivered at 10:16 PM on October 4, 2023.',\n  'Pick Up Location': '5004 Wesley St, Greenville, TX 75402, USA',\n  'Order Details': {'2 × Bud Ice Lager Beer Can (25 oz) (Domestic Beer NT)': '$8.78',\n   ' 3 × Steel Reserve Original Can (25 oz) (Flavored Malt Beverages NT)': '$13.17'},\n  'Subtotal': '$21.95',\n  'Subtotal Tax': '$1.81',\n  'Commission (16%)': '-$3.51',\n  'Total Customer Refund': '-$0.00',\n  'Estimated Payout': '$20.25',\n  'Transaction #8134054141 - Delivery': '$20.25'},\n {'Order': 'CC36E208',\n  'Delivered': 'The order was delivered at 9:18 PM on October 4, 2023.',\n  'Pick Up Location': '000 Placeholder Address',\n  'Order Details': {'1 × Miller Lite Beer Can (12 oz x 18 ct) (Domestic Beer NT)': '$28.79'},\n  'Subtotal': '$28.79',\n  'Subtotal Tax': '$2.38',\n  'Commission (16%)': '-$4.61',\n  'Total Customer Refund': '-$0.00',\n  'Estimated Payout': '$0.00'},\n {'Order': \"C7B1DB1A Could Not Deliver The Dasher attempted to deliver to your customer, but couldn't complete the delivery.\",\n  'Pick Up Location': '5004 Wesley St, Greenville, TX 75402, USA',\n  'Order Details': {'1 × Miller Lite Beer Can (12 oz x 18 ct) (Domestic Beer NT)': '$28.79'},\n  'Subtotal': '$28.79',\n  'Subtotal Tax': '$2.38',\n  'Commission (23%)': '-$6.62',\n  'Total Customer Refund': '-$0.00',\n  'Estimated Payout': '$0.00',\n  'Transaction #8133401784 - Delivery': '$24.55',\n  'Transaction #8133791059 - Delivery': '-$24.55'},\n {'Order': '455421D6',\n  'Delivered': 'Error Charge The customer reported one or more issues resulting in an error charge of $11.52. If you believe this was an error, you can dispute the error charge by October 18, 2023.',\n  'Pick Up Location': '1402 Williams Dr, Georgetown, TX 78628, USA',\n  'Order Details': {'1 × Fountain Drink (Fountain, Frozen, & Tea) Drink Selection: TXB Root Beer': '$0.00',\n   ' 1 × Chicken Tender Plate (3 pcs) (Chicken TXB#65) Dipping Sauce: Chicken Dipping Sauce Dipping Sauce: Ranch Dipping Sauce Dipping Sauce: Boom-Boom Dipping Sauce Choice of Sides: Mac & Cheese Choice of Sides: Mashed Potatoes & Gravy Original or Spicy: Spicy': '$12.49'},\n  'Subtotal': '-$10.49 Error Charge Tax -$1.03 Error Charge Total -$11.52 Order Total $11.52',\n  'Commission (16%)': '-$2.00 Order Total $11.52 Error Charges 1 × Chicken Tender Plate (3 pcs) (Chicken TXB#65) Dipping Sauce: Chicken Dipping Sauce Dipping Sauce: Ranch Dipping Sauce Dipping Sauce: Boom-Boom Dipping Sauce Choice of Sides: Mac & Cheese Choice of Sides: Mashed Potatoes & Gravy Original or Spicy: Spicy Food Prepared Unsafely -$10.49 Error Charge',\n  'Estimated Payout': '$0.00',\n  'Transaction #8132060968 - Delivery': '$11.52 Transaction #8132372658 - Error Charges -$11.52'},\n {'Order': '11518E3F',\n  'Delivered': 'The order was delivered at 6:01 PM on October 4, 2023.',\n  'Pick Up Location': '1001 S State Hwy 16, Fredericksburg, TX 78624, USA',\n  'Order Details': {'1 × Ice Large (Fountain, Frozen, & Tea)': '$7.49'},\n  'Subtotal': '$7.49',\n  'Subtotal Tax': '$0.62',\n  'Commission (16%)': '-$1.20',\n  'Total Customer Refund': '-$0.00',\n  'Estimated Payout': '$6.91',\n  'Transaction #8131754028 - Delivery': '$6.91'},\n {'Order': '717EFC23',\n  'Delivered': 'The order was delivered at 1:32 PM on October 4, 2023.',\n  'Pick Up Location': '1001 W Van Alstyne Pkwy, Van Alstyne, TX 75495, USA',\n  'Order Details': {'2 × TXB Strawberry White Tea Bottle (16oz) (Tea TX)': '$5.18',\n   ' 1 × Fountain Drink (Fountain, Frozen, & Tea) Drink Selection: Sprite': '$0.00',\n   ' 1 × Fountain Drink (Fountain, Frozen, & Tea) Drink Selection: Mountain Dew': '$0.00',\n   ' 1 × Fountain Drink (Fountain, Frozen, & Tea) Drink Selection: Gatorade Lemon-Lime': '$0.00',\n   ' 1 × Gatorade Lime Cucumber Bottle (28 oz) (Sports Drinks TX)': '$4.79',\n   ' 1 × Arizona Green Tea Bottle (34oz) (Tea TX)': '$4.39'},\n  'Subtotal': '$14.36',\n  'Subtotal Tax': '$0.82',\n  'Commission (23%)': '-$3.30',\n  'Total Customer Refund': '-$0.00',\n  'Estimated Payout': '$11.88',\n  'Transaction #8129725522 - Delivery': '$11.88'},\n {'Order': '1187C4F6',\n  'Delivered': 'The order was delivered at 1:11 PM on October 4, 2023.',\n  'Pick Up Location': '1001 S State Hwy 16, Fredericksburg, TX 78624, USA',\n  'Order Details': {'1 × Monster Energy Drink Can (16 oz) (Energy Drinks TX)': '$4.79',\n   ' 1 × One Bars Chocolate Chip Cookie Dough (2.12oz) (Nutritional Bars TX)': '$4.99',\n   \" 1 × Jack Link's Cheese & Beef Steak (1.2oz) (Meat Snacks TX)\": '$3.99',\n   ' 1 × C4 Starburst Strawberry Can (16oz) (Energy Drinks TX)': '$4.79'},\n  'Subtotal': '$18.56',\n  'Subtotal Tax': '$1.20',\n  'Commission (23%)': '-$4.27',\n  'Total Customer Refund': '-$0.00',\n  'Estimated Payout': '$15.49',\n  'Transaction #8129629020 - Delivery': '$15.49'},\n {'Order': '56F1F9DF',\n  'Delivered': 'The order was delivered at 12:35 PM on October 4, 2023.',\n  'Pick Up Location': '145 Lehman Rd, Kyle, TX 78640, USA',\n  'Order Details': {'2 × Peanut Butter Chunk Cookie (Pastries & Desserts)': '$4.98',\n   ' 1 × Chicken Tender Plate (3 pcs) (Chicken TXB#68) Dipping Sauce: Ranch Dipping Sauce Dipping Sauce: Honey Mustard Dipping Sauce Dipping Sauce: Boom-Boom Dipping Sauce Choice of Sides: Mac & Cheese Choice of Sides: Mashed Potatoes & Gravy Original or Spicy: Spicy': '$12.49'},\n  'Subtotal': '$17.47',\n  'Subtotal Tax': '$1.44',\n  'Commission (16%)': '-$2.80',\n  'Total Customer Refund': '-$0.00',\n  'Estimated Payout': '$16.11',\n  'Transaction #8129341631 - Delivery': '$16.11'},\n {'Order': '09CCEF99',\n  'Delivered': 'The order was delivered at 11:31 AM on October 4, 2023.',\n  'Pick Up Location': '201 S 9th St, Durant, OK 74701, USA',\n  'Order Details': {'3 × Fountain Drink (Fountain, Frozen, & Tea) Drink Selection: Mountain Dew': '$0.00',\n   ' 1 × Dr Pepper Cherry Can (12 pk-12 oz) (Soda OK)': '$11.29'},\n  'Subtotal': '$11.29',\n  'Subtotal Tax': '$1.06',\n  'Commission (16%)': '-$1.81',\n  'Total Customer Refund': '-$0.00',\n  'Estimated Payout': '$9.48',\n  'Transaction #8128900737 - Delivery': '$9.48'},\n {'Order': '806C7274',\n  'Delivered': 'The order was delivered at 10:54 AM on October 4, 2023.',\n  'Pick Up Location': '2503 TX-349, Midland, TX 79706, USA',\n  'Order Details': {'1 × Cheez-It Original (3 oz) (Crackers & Pretzels TX)': '$3.39',\n   ' 1 × Hostess Chocolate Donettes Frosted (3oz) (Donuts TX)': '$3.79',\n   ' 2 × Zapps Chips Voodoo Heat (2.5oz) (Chips & Popcorn TX)': '$6.98',\n   ' 1 × Snickers King Size (3.29oz) (Chocolate TX)': '$3.79',\n   ' 4 × Red Bull Red Edition Watermelon Can (12 oz) (Energy Drinks TX)': '$23.16'},\n  'Subtotal': '$41.11',\n  'Subtotal Tax': '$2.73',\n  'Commission (16%)': '-$6.58',\n  'Total Customer Refund': '-$0.00',\n  'Estimated Payout': '$37.26',\n  'Transaction #8128606134 - Delivery': '$37.26'},\n {'Order': '4D6A8B19',\n  'Delivered': 'The order was delivered at 10:38 AM on October 4, 2023.',\n  'Pick Up Location': '440 W Bandera Rd, Boerne, TX 78006, USA',\n  'Order Details': {'1 × TXB Green Tea Bottle (16oz) (Tea TX)': '$2.59',\n   ' 1 × TXB Fredericksburg Peach Sweet Tea Bottle (16oz) (Tea TX)': '$3.29'},\n  'Subtotal': '$5.88',\n  'Subtotal Tax': '$0.21',\n  'Commission (20%)': '-$1.18',\n  'Total Customer Refund': '-$0.00',\n  'Estimated Payout': '$4.91',\n  'Transaction #8128576360 - Delivery': '$4.91'},\n {'Order': '4814C0EE',\n  'Delivered': 'The order was delivered at 8:07 AM on October 4, 2023.',\n  'Pick Up Location': '1402 Williams Dr, Georgetown, TX 78628, USA',\n  'Order Details': {'3 × Big TX Burrito (Breakfast Tacos & Quesadillas) Salsa: Salsa Verde': '$8.67'},\n  'Subtotal': '$8.67',\n  'Subtotal Tax': '$0.72',\n  'Commission (16%)': '-$1.39',\n  'Total Customer Refund': '-$0.00',\n  'Estimated Payout': '$8.00',\n  'Transaction #8128036707 - Delivery': '$8.00'},\n {'Order': '7967144C',\n  'Delivered': 'The order was delivered at 7:53 AM on October 4, 2023.',\n  'Pick Up Location': '5004 Wesley St, Greenville, TX 75402, USA',\n  'Order Details': {'1 × Monster Ultra Peachy Keen Can (16oz) (Energy Drinks TX)': '$4.79',\n   ' 1 × Tropicana Apple Juice (12oz) (Juice TX)': '$3.89'},\n  'Subtotal': '$8.68',\n  'Subtotal Tax': '$0.40',\n  'Commission (16%)': '-$1.39',\n  'Total Customer Refund': '-$0.00',\n  'Estimated Payout': '$7.69',\n  'Transaction #8128003710 - Delivery': '$7.69'},\n {'Order': 'EB4E3B27',\n  'Delivered': 'The order was delivered at 7:26 AM on October 4, 2023.',\n  'Pick Up Location': '201 S 9th St, Durant, OK 74701, USA',\n  'Order Details': {'1 × Sprite Bottle (20 oz) (Soda OK)': '$3.19',\n   ' 1 × Bacon Egg Cheese Biscuit (Breakfast Sandwiches & Bowls)': '$4.89',\n   ' 2 × Monster Java Mean Bean Can (15oz) (Coffee OK)': '$11.38'},\n  'Subtotal': '$19.46',\n  'Subtotal Tax': '$1.82',\n  'Commission (23%)': '-$4.48',\n  'Total Customer Refund': '-$0.00',\n  'Estimated Payout': '$14.98',\n  'Transaction #8127972503 - Delivery': '$14.98'},\n {'Order': 'D8CEA439',\n  'Delivered': 'The order was delivered at 12:08 AM on October 4, 2023.',\n  'Pick Up Location': '2320 W Main St, Durant, OK 74701, USA',\n  'Order Details': {'1 × Pepsi Can (12pk 12oz) (Soda OK)': '$11.29'},\n  'Subtotal': '$11.29',\n  'Subtotal Tax': '$1.06',\n  'Commission (16%)': '-$1.81',\n  'Total Customer Refund': '-$0.00',\n  'Estimated Payout': '$9.48',\n  'Transaction #8127379901 - Delivery': '$9.48'},\n {'Order': 'AD3E1757',\n  'Delivered': 'The order was delivered at 12:07 AM on October 4, 2023.',\n  'Pick Up Location': '5004 Wesley St, Greenville, TX 75402, USA',\n  'Order Details': {'1 × Bai Boost Strawberry Watermelon Bottle (18oz) (Water TX)': '$4.19',\n   ' 2 × C4 Starburst Strawberry Can (16oz) (Energy Drinks TX)': '$9.58'},\n  'Subtotal': '$13.77',\n  'Subtotal Tax': '$1.14',\n  'Commission (23%)': '-$3.17',\n  'Total Customer Refund': '-$0.00',\n  'Estimated Payout': '$11.74',\n  'Transaction #8127420369 - Delivery': '$11.74'}]"
     },
     "execution_count": 68,
     "metadata": {},
     "output_type": "execute_result"
    }
   ],
   "source": [
    "def remove_incomplete_orders(orders):\n",
    "    complete_orders = []\n",
    "    for order in orders:\n",
    "        if len(order) >= 7:\n",
    "            complete_orders.append(order)\n",
    "    return complete_orders\n",
    "\n",
    "_orders_json = remove_incomplete_orders(orders_json)\n",
    "_orders_json"
   ],
   "metadata": {
    "collapsed": false,
    "ExecuteTime": {
     "end_time": "2023-10-05T22:46:15.644778Z",
     "start_time": "2023-10-05T22:46:15.639685Z"
    }
   },
   "id": "469a42d070a35895"
  },
  {
   "cell_type": "code",
   "execution_count": 69,
   "outputs": [
    {
     "name": "stderr",
     "output_type": "stream",
     "text": [
      "WARNING:root:OrderID: \"C7B1DB1A Could Not Deliver The Dasher attempted to deliver to your customer, but couldn't complete the delivery.\" is too long. Please ensure `Status` of delivery is a part of `known_keys`.\n",
      "Repairing OrderID....\n"
     ]
    },
    {
     "data": {
      "text/plain": "{'119B71CC': '5004 Wesley St, Greenville, TX 75402, USA',\n 'CC36E208': '000 Placeholder Address',\n 'C7B1DB1A': '5004 Wesley St, Greenville, TX 75402, USA',\n '455421D6': '1402 Williams Dr, Georgetown, TX 78628, USA',\n '11518E3F': '1001 S State Hwy 16, Fredericksburg, TX 78624, USA',\n '717EFC23': '1001 W Van Alstyne Pkwy, Van Alstyne, TX 75495, USA',\n '1187C4F6': '1001 S State Hwy 16, Fredericksburg, TX 78624, USA',\n '56F1F9DF': '145 Lehman Rd, Kyle, TX 78640, USA',\n '09CCEF99': '201 S 9th St, Durant, OK 74701, USA',\n '806C7274': '2503 TX-349, Midland, TX 79706, USA',\n '4D6A8B19': '440 W Bandera Rd, Boerne, TX 78006, USA',\n '4814C0EE': '1402 Williams Dr, Georgetown, TX 78628, USA',\n '7967144C': '5004 Wesley St, Greenville, TX 75402, USA',\n 'EB4E3B27': '201 S 9th St, Durant, OK 74701, USA',\n 'D8CEA439': '2320 W Main St, Durant, OK 74701, USA',\n 'AD3E1757': '5004 Wesley St, Greenville, TX 75402, USA'}"
     },
     "execution_count": 69,
     "metadata": {},
     "output_type": "execute_result"
    }
   ],
   "source": [
    "def order_id_to_pickup_location_fixed(orders_json):\n",
    "    order_id_to_pickup_location_map = {}\n",
    "    for order in orders_json:\n",
    "        order_id = order['Order']\n",
    "        if len(order_id) > 8:\n",
    "            logging.warning(f'OrderID: \"{order_id}\" is too long. Please ensure `Status` of delivery is a part of `known_keys`.\\nRepairing OrderID....')\n",
    "            order_id = order_id[:8]\n",
    "        elif len(order_id) == 0:\n",
    "            logging.error(f'OrderID is missing. Please evaluate the order: \\n{order}\\n')\n",
    "            return\n",
    "        store_addrs = order['Pick Up Location']\n",
    "        if len(store_addrs) == 0:\n",
    "            logging.warning(f' Pick Up location is missing from Order. Please evaluate the order.\\nAdding placeholder...')\n",
    "            store_addrs = '000 Placeholder Address'\n",
    "            order['Pick Up Location'] = store_addrs\n",
    "            logging.warning(f' Added placeholder to Pick Up Location \\n******\\n{order}\\n******')\n",
    "\n",
    "        order_id_to_pickup_location_map[order_id] = store_addrs\n",
    "    return order_id_to_pickup_location_map\n",
    "    \n",
    "order_id_to_pickup_location_fixed(_orders_json)"
   ],
   "metadata": {
    "collapsed": false,
    "ExecuteTime": {
     "end_time": "2023-10-05T22:46:17.017637Z",
     "start_time": "2023-10-05T22:46:17.012801Z"
    }
   },
   "id": "fa3deecf299b378d"
  },
  {
   "cell_type": "code",
   "execution_count": 51,
   "outputs": [
    {
     "data": {
      "text/plain": "{'119B71CC': '5004 Wesley St, Greenville, TX 75402, USA',\n 'CC36E208': '',\n \"C7B1DB1A Could Not Deliver The Dasher attempted to deliver to your customer, but couldn't complete the delivery.\": '5004 Wesley St, Greenville, TX 75402, USA',\n '455421D6': '1402 Williams Dr, Georgetown, TX 78628, USA',\n '11518E3F': '1001 S State Hwy 16, Fredericksburg, TX 78624, USA',\n '717EFC23': '1001 W Van Alstyne Pkwy, Van Alstyne, TX 75495, USA',\n '1187C4F6': '1001 S State Hwy 16, Fredericksburg, TX 78624, USA',\n '56F1F9DF': '145 Lehman Rd, Kyle, TX 78640, USA',\n '09CCEF99': '201 S 9th St, Durant, OK 74701, USA',\n '806C7274': '2503 TX-349, Midland, TX 79706, USA',\n '4D6A8B19': '440 W Bandera Rd, Boerne, TX 78006, USA',\n '4814C0EE': '1402 Williams Dr, Georgetown, TX 78628, USA',\n '7967144C': '5004 Wesley St, Greenville, TX 75402, USA',\n 'EB4E3B27': '201 S 9th St, Durant, OK 74701, USA',\n 'D8CEA439': '2320 W Main St, Durant, OK 74701, USA',\n 'AD3E1757': '5004 Wesley St, Greenville, TX 75402, USA'}"
     },
     "execution_count": 51,
     "metadata": {},
     "output_type": "execute_result"
    }
   ],
   "source": [
    "def order_id_to_pickup_location(orders):\n",
    "    order_id_to_pickup_location  = {}\n",
    "    for order in orders:\n",
    "        order_id = order['Order']\n",
    "        store_addrs = order['Pick Up Location']\n",
    "        order_id_to_pickup_location[order_id] = store_addrs\n",
    "    return order_id_to_pickup_location\n",
    "order_to_location = order_id_to_pickup_location(_orders_json)\n",
    "order_to_location"
   ],
   "metadata": {
    "collapsed": false,
    "ExecuteTime": {
     "end_time": "2023-10-05T22:09:14.001801Z",
     "start_time": "2023-10-05T22:09:13.990072Z"
    }
   },
   "id": "8f0edc58b68c51ac"
  },
  {
   "cell_type": "code",
   "execution_count": 35,
   "outputs": [
    {
     "data": {
      "text/plain": "    order_id                                    pickup_location\n0   2ABD90DB        1402 Williams Dr, Georgetown, TX 78628, USA\n1   42CEA1A6   1301 N U.S. Hwy 281, Marble Falls, TX 78654, USA\n2   6AB38CB1   1301 N U.S. Hwy 281, Marble Falls, TX 78654, USA\n3   4379B60E         7045 W Del Mar Blvd, Laredo, TX 78041, USA\n4   0A150B93                2503 TX-349, Midland, TX 79706, USA\n5   E0EB8837          5004 Wesley St, Greenville, TX 75402, USA\n6   77896463         7045 W Del Mar Blvd, Laredo, TX 78041, USA\n7   B48F2460        14620 Ranch Rd 12, Wimberley, TX 78676, USA\n8   78588F69          5004 Wesley St, Greenville, TX 75402, USA\n9   5C857863        14620 Ranch Rd 12, Wimberley, TX 78676, USA\n10  CA2588A4          5004 Wesley St, Greenville, TX 75402, USA\n11  B6233BDE  1001 W Van Alstyne Pkwy, Van Alstyne, TX 75495...\n12  8903B15F     800 W Interstate 20, Big Spring, TX 79720, USA\n13  9EAC6D9E         3071 University Dr E, Bryan, TX 77802, USA\n14  ABDD1702          5004 Wesley St, Greenville, TX 75402, USA",
      "text/html": "<div>\n<style scoped>\n    .dataframe tbody tr th:only-of-type {\n        vertical-align: middle;\n    }\n\n    .dataframe tbody tr th {\n        vertical-align: top;\n    }\n\n    .dataframe thead th {\n        text-align: right;\n    }\n</style>\n<table border=\"1\" class=\"dataframe\">\n  <thead>\n    <tr style=\"text-align: right;\">\n      <th></th>\n      <th>order_id</th>\n      <th>pickup_location</th>\n    </tr>\n  </thead>\n  <tbody>\n    <tr>\n      <th>0</th>\n      <td>2ABD90DB</td>\n      <td>1402 Williams Dr, Georgetown, TX 78628, USA</td>\n    </tr>\n    <tr>\n      <th>1</th>\n      <td>42CEA1A6</td>\n      <td>1301 N U.S. Hwy 281, Marble Falls, TX 78654, USA</td>\n    </tr>\n    <tr>\n      <th>2</th>\n      <td>6AB38CB1</td>\n      <td>1301 N U.S. Hwy 281, Marble Falls, TX 78654, USA</td>\n    </tr>\n    <tr>\n      <th>3</th>\n      <td>4379B60E</td>\n      <td>7045 W Del Mar Blvd, Laredo, TX 78041, USA</td>\n    </tr>\n    <tr>\n      <th>4</th>\n      <td>0A150B93</td>\n      <td>2503 TX-349, Midland, TX 79706, USA</td>\n    </tr>\n    <tr>\n      <th>5</th>\n      <td>E0EB8837</td>\n      <td>5004 Wesley St, Greenville, TX 75402, USA</td>\n    </tr>\n    <tr>\n      <th>6</th>\n      <td>77896463</td>\n      <td>7045 W Del Mar Blvd, Laredo, TX 78041, USA</td>\n    </tr>\n    <tr>\n      <th>7</th>\n      <td>B48F2460</td>\n      <td>14620 Ranch Rd 12, Wimberley, TX 78676, USA</td>\n    </tr>\n    <tr>\n      <th>8</th>\n      <td>78588F69</td>\n      <td>5004 Wesley St, Greenville, TX 75402, USA</td>\n    </tr>\n    <tr>\n      <th>9</th>\n      <td>5C857863</td>\n      <td>14620 Ranch Rd 12, Wimberley, TX 78676, USA</td>\n    </tr>\n    <tr>\n      <th>10</th>\n      <td>CA2588A4</td>\n      <td>5004 Wesley St, Greenville, TX 75402, USA</td>\n    </tr>\n    <tr>\n      <th>11</th>\n      <td>B6233BDE</td>\n      <td>1001 W Van Alstyne Pkwy, Van Alstyne, TX 75495...</td>\n    </tr>\n    <tr>\n      <th>12</th>\n      <td>8903B15F</td>\n      <td>800 W Interstate 20, Big Spring, TX 79720, USA</td>\n    </tr>\n    <tr>\n      <th>13</th>\n      <td>9EAC6D9E</td>\n      <td>3071 University Dr E, Bryan, TX 77802, USA</td>\n    </tr>\n    <tr>\n      <th>14</th>\n      <td>ABDD1702</td>\n      <td>5004 Wesley St, Greenville, TX 75402, USA</td>\n    </tr>\n  </tbody>\n</table>\n</div>"
     },
     "execution_count": 35,
     "metadata": {},
     "output_type": "execute_result"
    }
   ],
   "source": [
    "def get_raw_order_to_location_df():\n",
    "    raw_orders_to_location = order_id_to_pickup_location(orders)\n",
    "    order_to_location_pairs = list(raw_orders_to_location.items())\n",
    "    order_to_location_df = pd.DataFrame(order_to_location_pairs, columns=['order_id', 'pickup_location'])\n",
    "    return order_to_location_df\n",
    "order_to_location_df = get_raw_order_to_location_df()\n",
    "order_to_location_df"
   ],
   "metadata": {
    "collapsed": false,
    "ExecuteTime": {
     "end_time": "2023-10-05T20:27:29.898685Z",
     "start_time": "2023-10-05T20:27:29.890898Z"
    }
   },
   "id": "5c2d08be22417928"
  },
  {
   "cell_type": "code",
   "execution_count": 36,
   "outputs": [
    {
     "data": {
      "text/plain": "        Site # Site Description                               Address  \\\nStore #                                                                 \n1            1     Kwik Chek #1                     2226 North Center   \n3            3     Kwik Chek #3                            971 FM 273   \n5            5     Kwik Chek #5                                   NaN   \n6            6     Kwik Chek #6                      816 North Center   \n7            7     Kwik Chek #7                            101 Hwy 69   \n8            8     Kwik Chek #8                            308 Hwy 69   \n10          10    Kwik Chek #10                    1741 North Hwy 121   \n12          12    Kwik Chek #12                          102 S Hwy 78   \n13          13    Kwik Chek #13                         102 West Main   \n14          14    Kwik Chek #14                         201 South 9th   \n16          16    Kwik Chek #16                        2320 West Main   \n17          17    Kwik Chek #17                 13503 S State Hwy 121   \n19          19    Kwik Chek #19                      617 South Hwy 78   \n20          20    Kwik Chek #20                    5004 Wesley Street   \n24          24    Kwik Chek #24                           3812 Hwy 70   \n26          26    Kwik Chek #26                              503 SW C   \n27          27    Kwik Chek #27                        1005 East Main   \n32          32           TXB 32              1001 Van Alstyne Parkway   \n34          34    Kwik Chek #34              2965 South Church Street   \n37          37    Kwik Chek #37                    103 South Santa Fe   \n38          38    Kwik Chek #38                    505 South Garfield   \n50          50    Kwik Chek #50                     3002 Thorton Lane   \n52          52    Kwik Chek #52                    1003 Hwy 1431 West   \n53          53    Kwik Chek #53                    1301 Hwy 281 North   \n54          54    Kwik Chek #54                 201 Hwy 281 & Hwy 290   \n55          55    Kwik Chek #55                   14417-A Hwy 71 West   \n57          57    Kwik Chek #57                   14620 Ranch Road 12   \n59          59    Kwik Chek #59                      440 Bandera Road   \n60          60    Kwik Chek #60                    13006 Bandera Road   \n61          61    Kwik Chek #61                     1001 Hwy 16 South   \n62          62    Kwik Chek #62                        21024 Hwy 71 W   \n63          63           TXB 63                         15701 W SH 71   \n64          64    Kwik Chek #64             2103 Ranch Road 620 South   \n65          65    Kwik Chek #65                   1402 Williams Drive   \n66          66    Kwik Chek #66               15411 East State Hwy 29   \n67          67           TXB 67                     3702 West FM 2147   \n68          68    Kwik Chek #68                       145 Lehman Road   \n69          69           TXB 69                          8103 RR 2243   \n70          70    Kwik Chek #70                        800 IH 20 West   \n71          71           TXB 71                       2503 Rankin Hwy   \n72          72           TXB 72  2104 East William Joel Bryan Parkway   \n73          73           TXB 73                  3071 University Dr E   \n79          79    Kwik Chek #79                  500 W Thorton Street   \n80          80    Kwik Chek #80                    801 West Lafayette   \n81          81    Kwik Chek #81                      7045 North IH 35   \n82          82    Kwik Chek #82                     780 Carter Street   \n83          83    Kwik Chek #83                      401 N 1st Street   \n84          84    Kwik Chek #84                     1000 N 9th Street   \n85          85    Kwik Chek #85                      1901 N US Hwy 83   \n86          86    Kwik Chek #86                      1900 N US Hwy 83   \n87          87    Kwik Chek #87                       481 W US Hwy 57   \n88          88    Kwik Chek #88                  2757 N Veterans Blvd   \n89          89    Kwik Chek #89                     2196 El Indio Hwy   \n\n                      City      County State    Zip         Notes  \nStore #                                                            \n1                   Bonham      Fannin    TX  75418           NaN  \n3                   Bonham      Fannin    TX  75418           NaN  \n5                   Bonham      Fannin    TX  75418  Not Open Yet  \n6                   Bonham      Fannin    TX  75418           NaN  \n7                  Celeste        Hunt    TX  75423           NaN  \n8                  Leonard      Fannin    TX  75452           NaN  \n10                  Bonham      Fannin    TX  75418           NaN  \n12                 Achille       Bryan    OK  74720           NaN  \n13                  Calera       Bryan    OK  74730           NaN  \n14                  Durant       Bryan    OK  74701           NaN  \n16                  Durant       Bryan    OK  74701           NaN  \n17                 Trenton      Fannin    TX  75490           NaN  \n19                   Wylie      Collin    TX  75098           NaN  \n20              Greenville        Hunt    TX  75402           NaN  \n24                    Hugo     Choctaw    OK  74743           NaN  \n26                 Antlers  Pushmataha    OK  74523           NaN  \n27             Honey Grove      Fannin    TX  75446           NaN  \n32             Van Alstyne     Grayson    TX  75495           NaN  \n34                   Paris       Lamar    TX  75460           NaN  \n37              Wolfe City        Hunt    TX  75496           NaN  \n38                   Kiowa   Pittsburg    OK  74553           NaN  \n50                  Temple        Bell    TX  76502           NaN  \n52            Marble Falls      Burnet    TX  78654           NaN  \n53            Marble Falls      Burnet    TX  78654           NaN  \n54            Johnson City      Blanco    TX  78636           NaN  \n55                  Austin      Travis    TX  78738           NaN  \n57               Wimberley        Hays    TX  78676           NaN  \n59                  Boerne     Kendall    TX  78006           NaN  \n60                 Helotes       Bexar    TX  78023           NaN  \n61          Fredericksburg   Gillespie    TX  78624           NaN  \n62               Spicewood      Travis    TX  78669           NaN  \n63                Bee Cave      Travis    TX  78738           NaN  \n64                 Lakeway      Travis    TX  78734           NaN  \n65              Georgetown  Williamson    TX  78628           NaN  \n66            Buchanan Dam       Llano    TX  78609           NaN  \n67       Cottonwood Shores       Llano    TX  78657           NaN  \n68                    Kyle        Hays    TX  78640  Not Open Yet  \n69                 Leander  Williamson    TX  78641           NaN  \n70              Big Spring      Howard    TX  79720           NaN  \n71                 Midland     Midland    TX  79706           NaN  \n72                   Bryan      Brazos    TX  77802  Not Open Yet  \n73                   Bryan      Brazos    TX  77840  Not Open Yet  \n79            Three Rivers    Live Oak    TX  78071           NaN  \n80                  Laredo        Webb    TX  78041           NaN  \n81                  Laredo        Webb    TX  78041           NaN  \n82                Asherton      Dimmit    TX  78827           NaN  \n83         Carrizo Springs      Dimmit    TX  78834           NaN  \n84         Carrizo Springs      Dimmit    TX  78834           NaN  \n85            Crystal City      Zavala    TX  78839           NaN  \n86            Crystal City      Zavala    TX  78839           NaN  \n87                La Pryor      Zavala    TX  78872           NaN  \n88              Eagle Pass    Maverick    TX  78852           NaN  \n89              Eagle Pass    Maverick    TX  78852           NaN  ",
      "text/html": "<div>\n<style scoped>\n    .dataframe tbody tr th:only-of-type {\n        vertical-align: middle;\n    }\n\n    .dataframe tbody tr th {\n        vertical-align: top;\n    }\n\n    .dataframe thead th {\n        text-align: right;\n    }\n</style>\n<table border=\"1\" class=\"dataframe\">\n  <thead>\n    <tr style=\"text-align: right;\">\n      <th></th>\n      <th>Site #</th>\n      <th>Site Description</th>\n      <th>Address</th>\n      <th>City</th>\n      <th>County</th>\n      <th>State</th>\n      <th>Zip</th>\n      <th>Notes</th>\n    </tr>\n    <tr>\n      <th>Store #</th>\n      <th></th>\n      <th></th>\n      <th></th>\n      <th></th>\n      <th></th>\n      <th></th>\n      <th></th>\n      <th></th>\n    </tr>\n  </thead>\n  <tbody>\n    <tr>\n      <th>1</th>\n      <td>1</td>\n      <td>Kwik Chek #1</td>\n      <td>2226 North Center</td>\n      <td>Bonham</td>\n      <td>Fannin</td>\n      <td>TX</td>\n      <td>75418</td>\n      <td>NaN</td>\n    </tr>\n    <tr>\n      <th>3</th>\n      <td>3</td>\n      <td>Kwik Chek #3</td>\n      <td>971 FM 273</td>\n      <td>Bonham</td>\n      <td>Fannin</td>\n      <td>TX</td>\n      <td>75418</td>\n      <td>NaN</td>\n    </tr>\n    <tr>\n      <th>5</th>\n      <td>5</td>\n      <td>Kwik Chek #5</td>\n      <td>NaN</td>\n      <td>Bonham</td>\n      <td>Fannin</td>\n      <td>TX</td>\n      <td>75418</td>\n      <td>Not Open Yet</td>\n    </tr>\n    <tr>\n      <th>6</th>\n      <td>6</td>\n      <td>Kwik Chek #6</td>\n      <td>816 North Center</td>\n      <td>Bonham</td>\n      <td>Fannin</td>\n      <td>TX</td>\n      <td>75418</td>\n      <td>NaN</td>\n    </tr>\n    <tr>\n      <th>7</th>\n      <td>7</td>\n      <td>Kwik Chek #7</td>\n      <td>101 Hwy 69</td>\n      <td>Celeste</td>\n      <td>Hunt</td>\n      <td>TX</td>\n      <td>75423</td>\n      <td>NaN</td>\n    </tr>\n    <tr>\n      <th>8</th>\n      <td>8</td>\n      <td>Kwik Chek #8</td>\n      <td>308 Hwy 69</td>\n      <td>Leonard</td>\n      <td>Fannin</td>\n      <td>TX</td>\n      <td>75452</td>\n      <td>NaN</td>\n    </tr>\n    <tr>\n      <th>10</th>\n      <td>10</td>\n      <td>Kwik Chek #10</td>\n      <td>1741 North Hwy 121</td>\n      <td>Bonham</td>\n      <td>Fannin</td>\n      <td>TX</td>\n      <td>75418</td>\n      <td>NaN</td>\n    </tr>\n    <tr>\n      <th>12</th>\n      <td>12</td>\n      <td>Kwik Chek #12</td>\n      <td>102 S Hwy 78</td>\n      <td>Achille</td>\n      <td>Bryan</td>\n      <td>OK</td>\n      <td>74720</td>\n      <td>NaN</td>\n    </tr>\n    <tr>\n      <th>13</th>\n      <td>13</td>\n      <td>Kwik Chek #13</td>\n      <td>102 West Main</td>\n      <td>Calera</td>\n      <td>Bryan</td>\n      <td>OK</td>\n      <td>74730</td>\n      <td>NaN</td>\n    </tr>\n    <tr>\n      <th>14</th>\n      <td>14</td>\n      <td>Kwik Chek #14</td>\n      <td>201 South 9th</td>\n      <td>Durant</td>\n      <td>Bryan</td>\n      <td>OK</td>\n      <td>74701</td>\n      <td>NaN</td>\n    </tr>\n    <tr>\n      <th>16</th>\n      <td>16</td>\n      <td>Kwik Chek #16</td>\n      <td>2320 West Main</td>\n      <td>Durant</td>\n      <td>Bryan</td>\n      <td>OK</td>\n      <td>74701</td>\n      <td>NaN</td>\n    </tr>\n    <tr>\n      <th>17</th>\n      <td>17</td>\n      <td>Kwik Chek #17</td>\n      <td>13503 S State Hwy 121</td>\n      <td>Trenton</td>\n      <td>Fannin</td>\n      <td>TX</td>\n      <td>75490</td>\n      <td>NaN</td>\n    </tr>\n    <tr>\n      <th>19</th>\n      <td>19</td>\n      <td>Kwik Chek #19</td>\n      <td>617 South Hwy 78</td>\n      <td>Wylie</td>\n      <td>Collin</td>\n      <td>TX</td>\n      <td>75098</td>\n      <td>NaN</td>\n    </tr>\n    <tr>\n      <th>20</th>\n      <td>20</td>\n      <td>Kwik Chek #20</td>\n      <td>5004 Wesley Street</td>\n      <td>Greenville</td>\n      <td>Hunt</td>\n      <td>TX</td>\n      <td>75402</td>\n      <td>NaN</td>\n    </tr>\n    <tr>\n      <th>24</th>\n      <td>24</td>\n      <td>Kwik Chek #24</td>\n      <td>3812 Hwy 70</td>\n      <td>Hugo</td>\n      <td>Choctaw</td>\n      <td>OK</td>\n      <td>74743</td>\n      <td>NaN</td>\n    </tr>\n    <tr>\n      <th>26</th>\n      <td>26</td>\n      <td>Kwik Chek #26</td>\n      <td>503 SW C</td>\n      <td>Antlers</td>\n      <td>Pushmataha</td>\n      <td>OK</td>\n      <td>74523</td>\n      <td>NaN</td>\n    </tr>\n    <tr>\n      <th>27</th>\n      <td>27</td>\n      <td>Kwik Chek #27</td>\n      <td>1005 East Main</td>\n      <td>Honey Grove</td>\n      <td>Fannin</td>\n      <td>TX</td>\n      <td>75446</td>\n      <td>NaN</td>\n    </tr>\n    <tr>\n      <th>32</th>\n      <td>32</td>\n      <td>TXB 32</td>\n      <td>1001 Van Alstyne Parkway</td>\n      <td>Van Alstyne</td>\n      <td>Grayson</td>\n      <td>TX</td>\n      <td>75495</td>\n      <td>NaN</td>\n    </tr>\n    <tr>\n      <th>34</th>\n      <td>34</td>\n      <td>Kwik Chek #34</td>\n      <td>2965 South Church Street</td>\n      <td>Paris</td>\n      <td>Lamar</td>\n      <td>TX</td>\n      <td>75460</td>\n      <td>NaN</td>\n    </tr>\n    <tr>\n      <th>37</th>\n      <td>37</td>\n      <td>Kwik Chek #37</td>\n      <td>103 South Santa Fe</td>\n      <td>Wolfe City</td>\n      <td>Hunt</td>\n      <td>TX</td>\n      <td>75496</td>\n      <td>NaN</td>\n    </tr>\n    <tr>\n      <th>38</th>\n      <td>38</td>\n      <td>Kwik Chek #38</td>\n      <td>505 South Garfield</td>\n      <td>Kiowa</td>\n      <td>Pittsburg</td>\n      <td>OK</td>\n      <td>74553</td>\n      <td>NaN</td>\n    </tr>\n    <tr>\n      <th>50</th>\n      <td>50</td>\n      <td>Kwik Chek #50</td>\n      <td>3002 Thorton Lane</td>\n      <td>Temple</td>\n      <td>Bell</td>\n      <td>TX</td>\n      <td>76502</td>\n      <td>NaN</td>\n    </tr>\n    <tr>\n      <th>52</th>\n      <td>52</td>\n      <td>Kwik Chek #52</td>\n      <td>1003 Hwy 1431 West</td>\n      <td>Marble Falls</td>\n      <td>Burnet</td>\n      <td>TX</td>\n      <td>78654</td>\n      <td>NaN</td>\n    </tr>\n    <tr>\n      <th>53</th>\n      <td>53</td>\n      <td>Kwik Chek #53</td>\n      <td>1301 Hwy 281 North</td>\n      <td>Marble Falls</td>\n      <td>Burnet</td>\n      <td>TX</td>\n      <td>78654</td>\n      <td>NaN</td>\n    </tr>\n    <tr>\n      <th>54</th>\n      <td>54</td>\n      <td>Kwik Chek #54</td>\n      <td>201 Hwy 281 &amp; Hwy 290</td>\n      <td>Johnson City</td>\n      <td>Blanco</td>\n      <td>TX</td>\n      <td>78636</td>\n      <td>NaN</td>\n    </tr>\n    <tr>\n      <th>55</th>\n      <td>55</td>\n      <td>Kwik Chek #55</td>\n      <td>14417-A Hwy 71 West</td>\n      <td>Austin</td>\n      <td>Travis</td>\n      <td>TX</td>\n      <td>78738</td>\n      <td>NaN</td>\n    </tr>\n    <tr>\n      <th>57</th>\n      <td>57</td>\n      <td>Kwik Chek #57</td>\n      <td>14620 Ranch Road 12</td>\n      <td>Wimberley</td>\n      <td>Hays</td>\n      <td>TX</td>\n      <td>78676</td>\n      <td>NaN</td>\n    </tr>\n    <tr>\n      <th>59</th>\n      <td>59</td>\n      <td>Kwik Chek #59</td>\n      <td>440 Bandera Road</td>\n      <td>Boerne</td>\n      <td>Kendall</td>\n      <td>TX</td>\n      <td>78006</td>\n      <td>NaN</td>\n    </tr>\n    <tr>\n      <th>60</th>\n      <td>60</td>\n      <td>Kwik Chek #60</td>\n      <td>13006 Bandera Road</td>\n      <td>Helotes</td>\n      <td>Bexar</td>\n      <td>TX</td>\n      <td>78023</td>\n      <td>NaN</td>\n    </tr>\n    <tr>\n      <th>61</th>\n      <td>61</td>\n      <td>Kwik Chek #61</td>\n      <td>1001 Hwy 16 South</td>\n      <td>Fredericksburg</td>\n      <td>Gillespie</td>\n      <td>TX</td>\n      <td>78624</td>\n      <td>NaN</td>\n    </tr>\n    <tr>\n      <th>62</th>\n      <td>62</td>\n      <td>Kwik Chek #62</td>\n      <td>21024 Hwy 71 W</td>\n      <td>Spicewood</td>\n      <td>Travis</td>\n      <td>TX</td>\n      <td>78669</td>\n      <td>NaN</td>\n    </tr>\n    <tr>\n      <th>63</th>\n      <td>63</td>\n      <td>TXB 63</td>\n      <td>15701 W SH 71</td>\n      <td>Bee Cave</td>\n      <td>Travis</td>\n      <td>TX</td>\n      <td>78738</td>\n      <td>NaN</td>\n    </tr>\n    <tr>\n      <th>64</th>\n      <td>64</td>\n      <td>Kwik Chek #64</td>\n      <td>2103 Ranch Road 620 South</td>\n      <td>Lakeway</td>\n      <td>Travis</td>\n      <td>TX</td>\n      <td>78734</td>\n      <td>NaN</td>\n    </tr>\n    <tr>\n      <th>65</th>\n      <td>65</td>\n      <td>Kwik Chek #65</td>\n      <td>1402 Williams Drive</td>\n      <td>Georgetown</td>\n      <td>Williamson</td>\n      <td>TX</td>\n      <td>78628</td>\n      <td>NaN</td>\n    </tr>\n    <tr>\n      <th>66</th>\n      <td>66</td>\n      <td>Kwik Chek #66</td>\n      <td>15411 East State Hwy 29</td>\n      <td>Buchanan Dam</td>\n      <td>Llano</td>\n      <td>TX</td>\n      <td>78609</td>\n      <td>NaN</td>\n    </tr>\n    <tr>\n      <th>67</th>\n      <td>67</td>\n      <td>TXB 67</td>\n      <td>3702 West FM 2147</td>\n      <td>Cottonwood Shores</td>\n      <td>Llano</td>\n      <td>TX</td>\n      <td>78657</td>\n      <td>NaN</td>\n    </tr>\n    <tr>\n      <th>68</th>\n      <td>68</td>\n      <td>Kwik Chek #68</td>\n      <td>145 Lehman Road</td>\n      <td>Kyle</td>\n      <td>Hays</td>\n      <td>TX</td>\n      <td>78640</td>\n      <td>Not Open Yet</td>\n    </tr>\n    <tr>\n      <th>69</th>\n      <td>69</td>\n      <td>TXB 69</td>\n      <td>8103 RR 2243</td>\n      <td>Leander</td>\n      <td>Williamson</td>\n      <td>TX</td>\n      <td>78641</td>\n      <td>NaN</td>\n    </tr>\n    <tr>\n      <th>70</th>\n      <td>70</td>\n      <td>Kwik Chek #70</td>\n      <td>800 IH 20 West</td>\n      <td>Big Spring</td>\n      <td>Howard</td>\n      <td>TX</td>\n      <td>79720</td>\n      <td>NaN</td>\n    </tr>\n    <tr>\n      <th>71</th>\n      <td>71</td>\n      <td>TXB 71</td>\n      <td>2503 Rankin Hwy</td>\n      <td>Midland</td>\n      <td>Midland</td>\n      <td>TX</td>\n      <td>79706</td>\n      <td>NaN</td>\n    </tr>\n    <tr>\n      <th>72</th>\n      <td>72</td>\n      <td>TXB 72</td>\n      <td>2104 East William Joel Bryan Parkway</td>\n      <td>Bryan</td>\n      <td>Brazos</td>\n      <td>TX</td>\n      <td>77802</td>\n      <td>Not Open Yet</td>\n    </tr>\n    <tr>\n      <th>73</th>\n      <td>73</td>\n      <td>TXB 73</td>\n      <td>3071 University Dr E</td>\n      <td>Bryan</td>\n      <td>Brazos</td>\n      <td>TX</td>\n      <td>77840</td>\n      <td>Not Open Yet</td>\n    </tr>\n    <tr>\n      <th>79</th>\n      <td>79</td>\n      <td>Kwik Chek #79</td>\n      <td>500 W Thorton Street</td>\n      <td>Three Rivers</td>\n      <td>Live Oak</td>\n      <td>TX</td>\n      <td>78071</td>\n      <td>NaN</td>\n    </tr>\n    <tr>\n      <th>80</th>\n      <td>80</td>\n      <td>Kwik Chek #80</td>\n      <td>801 West Lafayette</td>\n      <td>Laredo</td>\n      <td>Webb</td>\n      <td>TX</td>\n      <td>78041</td>\n      <td>NaN</td>\n    </tr>\n    <tr>\n      <th>81</th>\n      <td>81</td>\n      <td>Kwik Chek #81</td>\n      <td>7045 North IH 35</td>\n      <td>Laredo</td>\n      <td>Webb</td>\n      <td>TX</td>\n      <td>78041</td>\n      <td>NaN</td>\n    </tr>\n    <tr>\n      <th>82</th>\n      <td>82</td>\n      <td>Kwik Chek #82</td>\n      <td>780 Carter Street</td>\n      <td>Asherton</td>\n      <td>Dimmit</td>\n      <td>TX</td>\n      <td>78827</td>\n      <td>NaN</td>\n    </tr>\n    <tr>\n      <th>83</th>\n      <td>83</td>\n      <td>Kwik Chek #83</td>\n      <td>401 N 1st Street</td>\n      <td>Carrizo Springs</td>\n      <td>Dimmit</td>\n      <td>TX</td>\n      <td>78834</td>\n      <td>NaN</td>\n    </tr>\n    <tr>\n      <th>84</th>\n      <td>84</td>\n      <td>Kwik Chek #84</td>\n      <td>1000 N 9th Street</td>\n      <td>Carrizo Springs</td>\n      <td>Dimmit</td>\n      <td>TX</td>\n      <td>78834</td>\n      <td>NaN</td>\n    </tr>\n    <tr>\n      <th>85</th>\n      <td>85</td>\n      <td>Kwik Chek #85</td>\n      <td>1901 N US Hwy 83</td>\n      <td>Crystal City</td>\n      <td>Zavala</td>\n      <td>TX</td>\n      <td>78839</td>\n      <td>NaN</td>\n    </tr>\n    <tr>\n      <th>86</th>\n      <td>86</td>\n      <td>Kwik Chek #86</td>\n      <td>1900 N US Hwy 83</td>\n      <td>Crystal City</td>\n      <td>Zavala</td>\n      <td>TX</td>\n      <td>78839</td>\n      <td>NaN</td>\n    </tr>\n    <tr>\n      <th>87</th>\n      <td>87</td>\n      <td>Kwik Chek #87</td>\n      <td>481 W US Hwy 57</td>\n      <td>La Pryor</td>\n      <td>Zavala</td>\n      <td>TX</td>\n      <td>78872</td>\n      <td>NaN</td>\n    </tr>\n    <tr>\n      <th>88</th>\n      <td>88</td>\n      <td>Kwik Chek #88</td>\n      <td>2757 N Veterans Blvd</td>\n      <td>Eagle Pass</td>\n      <td>Maverick</td>\n      <td>TX</td>\n      <td>78852</td>\n      <td>NaN</td>\n    </tr>\n    <tr>\n      <th>89</th>\n      <td>89</td>\n      <td>Kwik Chek #89</td>\n      <td>2196 El Indio Hwy</td>\n      <td>Eagle Pass</td>\n      <td>Maverick</td>\n      <td>TX</td>\n      <td>78852</td>\n      <td>NaN</td>\n    </tr>\n  </tbody>\n</table>\n</div>"
     },
     "execution_count": 36,
     "metadata": {},
     "output_type": "execute_result"
    }
   ],
   "source": [
    "master_df"
   ],
   "metadata": {
    "collapsed": false,
    "ExecuteTime": {
     "end_time": "2023-10-05T20:27:30.925580Z",
     "start_time": "2023-10-05T20:27:30.911486Z"
    }
   },
   "id": "386d2d59ccf050be"
  },
  {
   "cell_type": "code",
   "execution_count": 37,
   "outputs": [
    {
     "data": {
      "text/plain": "{'Achille',\n 'Antlers',\n 'Asherton',\n 'Austin',\n 'Bee Cave',\n 'Big Spring',\n 'Boerne',\n 'Bonham',\n 'Bryan',\n 'Buchanan Dam',\n 'Calera',\n 'Carrizo Springs',\n 'Celeste',\n 'Cottonwood Shores',\n 'Crystal City',\n 'Durant',\n 'Eagle Pass',\n 'Fredericksburg',\n 'Georgetown',\n 'Greenville',\n 'Helotes',\n 'Honey Grove',\n 'Hugo',\n 'Johnson City',\n 'Kiowa',\n 'Kyle',\n 'La Pryor',\n 'Lakeway',\n 'Laredo',\n 'Leander',\n 'Leonard',\n 'Marble Falls',\n 'Midland',\n 'Paris',\n 'Spicewood',\n 'Temple',\n 'Three Rivers',\n 'Trenton',\n 'Van Alstyne',\n 'Wimberley',\n 'Wolfe City',\n 'Wylie'}"
     },
     "execution_count": 37,
     "metadata": {},
     "output_type": "execute_result"
    }
   ],
   "source": [
    "unique_cities = set(master_df['City'].dropna().unique())\n",
    "unique_cities"
   ],
   "metadata": {
    "collapsed": false,
    "ExecuteTime": {
     "end_time": "2023-10-05T20:27:33.199026Z",
     "start_time": "2023-10-05T20:27:33.188314Z"
    }
   },
   "id": "b70dceb0de0d2124"
  },
  {
   "cell_type": "code",
   "execution_count": 38,
   "outputs": [
    {
     "data": {
      "text/plain": "    order_id                               pickup_location\n0   2ABD90DB          1402 Williams Dr Georgetown TX 78628\n1   42CEA1A6     1301 N U.S. Hwy 281 Marble Falls TX 78654\n2   6AB38CB1     1301 N U.S. Hwy 281 Marble Falls TX 78654\n3   4379B60E           7045 W Del Mar Blvd Laredo TX 78041\n4   0A150B93                  2503 TX-349 Midland TX 79706\n5   E0EB8837            5004 Wesley St Greenville TX 75402\n6   77896463           7045 W Del Mar Blvd Laredo TX 78041\n7   B48F2460          14620 Ranch Rd 12 Wimberley TX 78676\n8   78588F69            5004 Wesley St Greenville TX 75402\n9   5C857863          14620 Ranch Rd 12 Wimberley TX 78676\n10  CA2588A4            5004 Wesley St Greenville TX 75402\n11  B6233BDE  1001 W Van Alstyne Pkwy Van Alstyne TX 75495\n12  8903B15F       800 W Interstate 20 Big Spring TX 79720\n13  9EAC6D9E           3071 University Dr E Bryan TX 77802\n14  ABDD1702            5004 Wesley St Greenville TX 75402",
      "text/html": "<div>\n<style scoped>\n    .dataframe tbody tr th:only-of-type {\n        vertical-align: middle;\n    }\n\n    .dataframe tbody tr th {\n        vertical-align: top;\n    }\n\n    .dataframe thead th {\n        text-align: right;\n    }\n</style>\n<table border=\"1\" class=\"dataframe\">\n  <thead>\n    <tr style=\"text-align: right;\">\n      <th></th>\n      <th>order_id</th>\n      <th>pickup_location</th>\n    </tr>\n  </thead>\n  <tbody>\n    <tr>\n      <th>0</th>\n      <td>2ABD90DB</td>\n      <td>1402 Williams Dr Georgetown TX 78628</td>\n    </tr>\n    <tr>\n      <th>1</th>\n      <td>42CEA1A6</td>\n      <td>1301 N U.S. Hwy 281 Marble Falls TX 78654</td>\n    </tr>\n    <tr>\n      <th>2</th>\n      <td>6AB38CB1</td>\n      <td>1301 N U.S. Hwy 281 Marble Falls TX 78654</td>\n    </tr>\n    <tr>\n      <th>3</th>\n      <td>4379B60E</td>\n      <td>7045 W Del Mar Blvd Laredo TX 78041</td>\n    </tr>\n    <tr>\n      <th>4</th>\n      <td>0A150B93</td>\n      <td>2503 TX-349 Midland TX 79706</td>\n    </tr>\n    <tr>\n      <th>5</th>\n      <td>E0EB8837</td>\n      <td>5004 Wesley St Greenville TX 75402</td>\n    </tr>\n    <tr>\n      <th>6</th>\n      <td>77896463</td>\n      <td>7045 W Del Mar Blvd Laredo TX 78041</td>\n    </tr>\n    <tr>\n      <th>7</th>\n      <td>B48F2460</td>\n      <td>14620 Ranch Rd 12 Wimberley TX 78676</td>\n    </tr>\n    <tr>\n      <th>8</th>\n      <td>78588F69</td>\n      <td>5004 Wesley St Greenville TX 75402</td>\n    </tr>\n    <tr>\n      <th>9</th>\n      <td>5C857863</td>\n      <td>14620 Ranch Rd 12 Wimberley TX 78676</td>\n    </tr>\n    <tr>\n      <th>10</th>\n      <td>CA2588A4</td>\n      <td>5004 Wesley St Greenville TX 75402</td>\n    </tr>\n    <tr>\n      <th>11</th>\n      <td>B6233BDE</td>\n      <td>1001 W Van Alstyne Pkwy Van Alstyne TX 75495</td>\n    </tr>\n    <tr>\n      <th>12</th>\n      <td>8903B15F</td>\n      <td>800 W Interstate 20 Big Spring TX 79720</td>\n    </tr>\n    <tr>\n      <th>13</th>\n      <td>9EAC6D9E</td>\n      <td>3071 University Dr E Bryan TX 77802</td>\n    </tr>\n    <tr>\n      <th>14</th>\n      <td>ABDD1702</td>\n      <td>5004 Wesley St Greenville TX 75402</td>\n    </tr>\n  </tbody>\n</table>\n</div>"
     },
     "execution_count": 38,
     "metadata": {},
     "output_type": "execute_result"
    }
   ],
   "source": [
    "order_to_location_df['pickup_location'] = order_to_location_df['pickup_location'].str.replace(',', '')\n",
    "order_to_location_df['pickup_location'] = order_to_location_df['pickup_location'].str.replace(' USA', '')\n",
    "order_to_location_df"
   ],
   "metadata": {
    "collapsed": false,
    "ExecuteTime": {
     "end_time": "2023-10-05T20:27:33.783863Z",
     "start_time": "2023-10-05T20:27:33.777116Z"
    }
   },
   "id": "c0477a8139d90060"
  },
  {
   "cell_type": "code",
   "execution_count": 39,
   "outputs": [],
   "source": [
    "# Initialize lists to hold the extracted parts of the pickup location\n",
    "address_list = []\n",
    "city_list = []\n",
    "state_list = []\n",
    "zip_code_list = []\n"
   ],
   "metadata": {
    "collapsed": false,
    "ExecuteTime": {
     "end_time": "2023-10-05T20:27:34.690967Z",
     "start_time": "2023-10-05T20:27:34.681343Z"
    }
   },
   "id": "c2bfb9140c1655e9"
  },
  {
   "cell_type": "code",
   "execution_count": 40,
   "outputs": [],
   "source": [
    "def func(order_to_location_df):\n",
    "    # Loop over each row to process\n",
    "    for pickup_location in order_to_location_df['pickup_location']:\n",
    "        parts = pickup_location.split(\" \")\n",
    "        # print(f'****************** {parts}')\n",
    "        zip_code = parts[-1]\n",
    "        # print(f'****************** {zip_code}')\n",
    "        state = parts[-2]\n",
    "\n",
    "        # Initialize variables to hold potential matches\n",
    "        longest_city_match = \"\"\n",
    "        # Loop over unique cities to find the longest matching city name in the string\n",
    "        for city in unique_cities:\n",
    "            if city in pickup_location:\n",
    "                if len(city) > len(longest_city_match):\n",
    "                    longest_city_match = city\n",
    "\n",
    "        # If a city match is found, then get the address part\n",
    "        if longest_city_match:\n",
    "            start_idx = pickup_location.index(longest_city_match)\n",
    "            address = pickup_location[:start_idx].strip()\n",
    "        else:\n",
    "            address = \"Unmatched\"\n",
    "            longest_city_match = \"Unmatched\"\n",
    "\n",
    "        # Append the extracted data to the lists\n",
    "        address_list.append(address)\n",
    "        city_list.append(longest_city_match)\n",
    "        state_list.append(state)\n",
    "        zip_code_list.append(zip_code)\n",
    "\n",
    "    # Create a DataFrame with the lists\n",
    "    df_extracted = pd.DataFrame({\n",
    "        'address': address_list,\n",
    "        'city': city_list,\n",
    "        'state': state_list,\n",
    "        'zip_code': zip_code_list\n",
    "    })\n",
    "\n",
    "    # Concatenate the extracted DataFrame to the original DataFrame\n",
    "    order_to_location_df = pd.concat([order_to_location_df, df_extracted], axis=1)\n",
    "\n",
    "    return order_to_location_df\n"
   ],
   "metadata": {
    "collapsed": false,
    "ExecuteTime": {
     "end_time": "2023-10-05T20:27:35.045527Z",
     "start_time": "2023-10-05T20:27:35.036254Z"
    }
   },
   "id": "86183c5adbb6c9b1"
  },
  {
   "cell_type": "code",
   "execution_count": 41,
   "outputs": [
    {
     "name": "stdout",
     "output_type": "stream",
     "text": [
      "********************** \n",
      "********************** \n",
      "********************** \n",
      "********************** \n",
      "********************** \n",
      "********************** \n",
      "********************** \n",
      "********************** \n",
      "********************** \n",
      "********************** \n",
      "********************** \n",
      "********************** \n",
      "********************** \n",
      "********************** \n",
      "********************** \n"
     ]
    }
   ],
   "source": [
    "order_to_location_df = func(order_to_location_df)"
   ],
   "metadata": {
    "collapsed": false,
    "ExecuteTime": {
     "end_time": "2023-10-05T20:27:36.896613Z",
     "start_time": "2023-10-05T20:27:36.887733Z"
    }
   },
   "id": "be704bcbc55221d4"
  },
  {
   "cell_type": "code",
   "execution_count": 42,
   "outputs": [
    {
     "data": {
      "text/plain": "    order_id                               pickup_location  \\\n0   2ABD90DB          1402 Williams Dr Georgetown TX 78628   \n1   42CEA1A6     1301 N U.S. Hwy 281 Marble Falls TX 78654   \n2   6AB38CB1     1301 N U.S. Hwy 281 Marble Falls TX 78654   \n3   4379B60E           7045 W Del Mar Blvd Laredo TX 78041   \n4   0A150B93                  2503 TX-349 Midland TX 79706   \n5   E0EB8837            5004 Wesley St Greenville TX 75402   \n6   77896463           7045 W Del Mar Blvd Laredo TX 78041   \n7   B48F2460          14620 Ranch Rd 12 Wimberley TX 78676   \n8   78588F69            5004 Wesley St Greenville TX 75402   \n9   5C857863          14620 Ranch Rd 12 Wimberley TX 78676   \n10  CA2588A4            5004 Wesley St Greenville TX 75402   \n11  B6233BDE  1001 W Van Alstyne Pkwy Van Alstyne TX 75495   \n12  8903B15F       800 W Interstate 20 Big Spring TX 79720   \n13  9EAC6D9E           3071 University Dr E Bryan TX 77802   \n14  ABDD1702            5004 Wesley St Greenville TX 75402   \n\n                 address          city state zip_code  \n0       1402 Williams Dr    Georgetown    TX    78628  \n1    1301 N U.S. Hwy 281  Marble Falls    TX    78654  \n2    1301 N U.S. Hwy 281  Marble Falls    TX    78654  \n3    7045 W Del Mar Blvd        Laredo    TX    78041  \n4            2503 TX-349       Midland    TX    79706  \n5         5004 Wesley St    Greenville    TX    75402  \n6    7045 W Del Mar Blvd        Laredo    TX    78041  \n7      14620 Ranch Rd 12     Wimberley    TX    78676  \n8         5004 Wesley St    Greenville    TX    75402  \n9      14620 Ranch Rd 12     Wimberley    TX    78676  \n10        5004 Wesley St    Greenville    TX    75402  \n11                1001 W   Van Alstyne    TX    75495  \n12   800 W Interstate 20    Big Spring    TX    79720  \n13  3071 University Dr E         Bryan    TX    77802  \n14        5004 Wesley St    Greenville    TX    75402  ",
      "text/html": "<div>\n<style scoped>\n    .dataframe tbody tr th:only-of-type {\n        vertical-align: middle;\n    }\n\n    .dataframe tbody tr th {\n        vertical-align: top;\n    }\n\n    .dataframe thead th {\n        text-align: right;\n    }\n</style>\n<table border=\"1\" class=\"dataframe\">\n  <thead>\n    <tr style=\"text-align: right;\">\n      <th></th>\n      <th>order_id</th>\n      <th>pickup_location</th>\n      <th>address</th>\n      <th>city</th>\n      <th>state</th>\n      <th>zip_code</th>\n    </tr>\n  </thead>\n  <tbody>\n    <tr>\n      <th>0</th>\n      <td>2ABD90DB</td>\n      <td>1402 Williams Dr Georgetown TX 78628</td>\n      <td>1402 Williams Dr</td>\n      <td>Georgetown</td>\n      <td>TX</td>\n      <td>78628</td>\n    </tr>\n    <tr>\n      <th>1</th>\n      <td>42CEA1A6</td>\n      <td>1301 N U.S. Hwy 281 Marble Falls TX 78654</td>\n      <td>1301 N U.S. Hwy 281</td>\n      <td>Marble Falls</td>\n      <td>TX</td>\n      <td>78654</td>\n    </tr>\n    <tr>\n      <th>2</th>\n      <td>6AB38CB1</td>\n      <td>1301 N U.S. Hwy 281 Marble Falls TX 78654</td>\n      <td>1301 N U.S. Hwy 281</td>\n      <td>Marble Falls</td>\n      <td>TX</td>\n      <td>78654</td>\n    </tr>\n    <tr>\n      <th>3</th>\n      <td>4379B60E</td>\n      <td>7045 W Del Mar Blvd Laredo TX 78041</td>\n      <td>7045 W Del Mar Blvd</td>\n      <td>Laredo</td>\n      <td>TX</td>\n      <td>78041</td>\n    </tr>\n    <tr>\n      <th>4</th>\n      <td>0A150B93</td>\n      <td>2503 TX-349 Midland TX 79706</td>\n      <td>2503 TX-349</td>\n      <td>Midland</td>\n      <td>TX</td>\n      <td>79706</td>\n    </tr>\n    <tr>\n      <th>5</th>\n      <td>E0EB8837</td>\n      <td>5004 Wesley St Greenville TX 75402</td>\n      <td>5004 Wesley St</td>\n      <td>Greenville</td>\n      <td>TX</td>\n      <td>75402</td>\n    </tr>\n    <tr>\n      <th>6</th>\n      <td>77896463</td>\n      <td>7045 W Del Mar Blvd Laredo TX 78041</td>\n      <td>7045 W Del Mar Blvd</td>\n      <td>Laredo</td>\n      <td>TX</td>\n      <td>78041</td>\n    </tr>\n    <tr>\n      <th>7</th>\n      <td>B48F2460</td>\n      <td>14620 Ranch Rd 12 Wimberley TX 78676</td>\n      <td>14620 Ranch Rd 12</td>\n      <td>Wimberley</td>\n      <td>TX</td>\n      <td>78676</td>\n    </tr>\n    <tr>\n      <th>8</th>\n      <td>78588F69</td>\n      <td>5004 Wesley St Greenville TX 75402</td>\n      <td>5004 Wesley St</td>\n      <td>Greenville</td>\n      <td>TX</td>\n      <td>75402</td>\n    </tr>\n    <tr>\n      <th>9</th>\n      <td>5C857863</td>\n      <td>14620 Ranch Rd 12 Wimberley TX 78676</td>\n      <td>14620 Ranch Rd 12</td>\n      <td>Wimberley</td>\n      <td>TX</td>\n      <td>78676</td>\n    </tr>\n    <tr>\n      <th>10</th>\n      <td>CA2588A4</td>\n      <td>5004 Wesley St Greenville TX 75402</td>\n      <td>5004 Wesley St</td>\n      <td>Greenville</td>\n      <td>TX</td>\n      <td>75402</td>\n    </tr>\n    <tr>\n      <th>11</th>\n      <td>B6233BDE</td>\n      <td>1001 W Van Alstyne Pkwy Van Alstyne TX 75495</td>\n      <td>1001 W</td>\n      <td>Van Alstyne</td>\n      <td>TX</td>\n      <td>75495</td>\n    </tr>\n    <tr>\n      <th>12</th>\n      <td>8903B15F</td>\n      <td>800 W Interstate 20 Big Spring TX 79720</td>\n      <td>800 W Interstate 20</td>\n      <td>Big Spring</td>\n      <td>TX</td>\n      <td>79720</td>\n    </tr>\n    <tr>\n      <th>13</th>\n      <td>9EAC6D9E</td>\n      <td>3071 University Dr E Bryan TX 77802</td>\n      <td>3071 University Dr E</td>\n      <td>Bryan</td>\n      <td>TX</td>\n      <td>77802</td>\n    </tr>\n    <tr>\n      <th>14</th>\n      <td>ABDD1702</td>\n      <td>5004 Wesley St Greenville TX 75402</td>\n      <td>5004 Wesley St</td>\n      <td>Greenville</td>\n      <td>TX</td>\n      <td>75402</td>\n    </tr>\n  </tbody>\n</table>\n</div>"
     },
     "execution_count": 42,
     "metadata": {},
     "output_type": "execute_result"
    }
   ],
   "source": [
    "order_to_location_df"
   ],
   "metadata": {
    "collapsed": false,
    "ExecuteTime": {
     "end_time": "2023-10-05T20:27:43.665626Z",
     "start_time": "2023-10-05T20:27:43.657287Z"
    }
   },
   "id": "af967dd93e8b9403"
  },
  {
   "cell_type": "markdown",
   "source": [
    "0,2ABD90DB,1402 Williams Dr Georgetown TX 78628,1402 Williams Dr,Georgetown,TX,78628\n",
    "1,42CEA1A6,1301 N U.S. Hwy 281 Marble Falls TX 78654,1301 N U.S. Hwy 281,Marble Falls,TX,78654\n",
    "2,6AB38CB1,1301 N U.S. Hwy 281 Marble Falls TX 78654,1301 N U.S. Hwy 281,Marble Falls,TX,78654\n",
    "3,4379B60E,7045 W Del Mar Blvd Laredo TX 78041,7045 W Del Mar Blvd,Laredo,TX,78041\n",
    "4,0A150B93,2503 TX-349 Midland TX 79706,2503 TX-349,Midland,TX,79706\n",
    "5,E0EB8837,5004 Wesley St Greenville TX 75402,5004 Wesley St,Greenville,TX,75402\n",
    "6,77896463,7045 W Del Mar Blvd Laredo TX 78041,7045 W Del Mar Blvd,Laredo,TX,78041\n",
    "7,B48F2460,14620 Ranch Rd 12 Wimberley TX 78676,14620 Ranch Rd 12,Wimberley,TX,78676\n",
    "8,78588F69,5004 Wesley St Greenville TX 75402,5004 Wesley St,Greenville,TX,75402\n",
    "9,5C857863,14620 Ranch Rd 12 Wimberley TX 78676,14620 Ranch Rd 12,Wimberley,TX,78676\n",
    "10,CA2588A4,5004 Wesley St Greenville TX 75402,5004 Wesley St,Greenville,TX,75402\n",
    "11,B6233BDE,1001 W Van Alstyne Pkwy Van Alstyne TX 75495,1001 W,Van Alstyne,TX,75495\n",
    "12,8903B15F,800 W Interstate 20 Big Spring TX 79720,800 W Interstate 20,Big Spring,TX,79720\n",
    "13,9EAC6D9E,3071 University Dr E Bryan TX 77802,3071 University Dr E,Bryan,TX,77802\n",
    "14,ABDD1702,5004 Wesley St Greenville TX 75402,5004 Wesley St,Greenville,TX,75402\n"
   ],
   "metadata": {
    "collapsed": false
   },
   "id": "ae499f72d34fb33d"
  },
  {
   "cell_type": "code",
   "execution_count": 82,
   "outputs": [
    {
     "data": {
      "text/plain": "'ff39fse3'"
     },
     "execution_count": 82,
     "metadata": {},
     "output_type": "execute_result"
    }
   ],
   "source": [
    "'ff39fse3'"
   ],
   "metadata": {
    "collapsed": false,
    "ExecuteTime": {
     "end_time": "2023-10-05T22:49:23.291918Z",
     "start_time": "2023-10-05T22:49:23.282110Z"
    }
   },
   "id": "8d249d5e7568a918"
  },
  {
   "cell_type": "code",
   "execution_count": null,
   "outputs": [],
   "source": [],
   "metadata": {
    "collapsed": false
   },
   "id": "889561b66c6918d2"
  }
 ],
 "metadata": {
  "kernelspec": {
   "display_name": "Python 3",
   "language": "python",
   "name": "python3"
  },
  "language_info": {
   "codemirror_mode": {
    "name": "ipython",
    "version": 2
   },
   "file_extension": ".py",
   "mimetype": "text/x-python",
   "name": "python",
   "nbconvert_exporter": "python",
   "pygments_lexer": "ipython2",
   "version": "2.7.6"
  }
 },
 "nbformat": 4,
 "nbformat_minor": 5
}
