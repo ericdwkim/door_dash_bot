{
 "cells": [
  {
   "cell_type": "code",
   "execution_count": 1,
   "id": "initial_id",
   "metadata": {
    "collapsed": true,
    "ExecuteTime": {
     "end_time": "2023-10-03T15:01:34.811409Z",
     "start_time": "2023-10-03T15:01:30.014767Z"
    }
   },
   "outputs": [
    {
     "name": "stdout",
     "output_type": "stream",
     "text": [
      "Intel MKL WARNING: Support of Intel(R) Streaming SIMD Extensions 4.2 (Intel(R) SSE4.2) enabled only processors has been deprecated. Intel oneAPI Math Kernel Library 2025.0 will require Intel(R) Advanced Vector Extensions (Intel(R) AVX) instructions.\n",
      "Intel MKL WARNING: Support of Intel(R) Streaming SIMD Extensions 4.2 (Intel(R) SSE4.2) enabled only processors has been deprecated. Intel oneAPI Math Kernel Library 2025.0 will require Intel(R) Advanced Vector Extensions (Intel(R) AVX) instructions.\n"
     ]
    }
   ],
   "source": [
    "import pandas as pd\n",
    "import re\n",
    "import json\n",
    "import csv\n",
    "from datetime import datetime"
   ]
  },
  {
   "cell_type": "code",
   "execution_count": 11,
   "outputs": [],
   "source": [
    "json_output_filepath = '/Users/ekim/workspace/personal/dd-bot/dev/json.csv'"
   ],
   "metadata": {
    "collapsed": false,
    "ExecuteTime": {
     "end_time": "2023-10-03T15:19:59.209822Z",
     "start_time": "2023-10-03T15:19:59.199824Z"
    }
   },
   "id": "a9c74671645f370f"
  },
  {
   "cell_type": "code",
   "execution_count": 12,
   "outputs": [
    {
     "data": {
      "text/plain": "[{'Order': '42C2A525',\n  'Delivered': 'The order was delivered at 11:41 PM on October 1, 2023.',\n  'Pick Up Location': '5004 Wesley St, Greenville, TX 75402, USA',\n  'Order Details': {'1 × Coca-Cola Can (12 pk-12 oz) (Soda TX)': '$11.29',\n   ' 1 × TXB Water Bottle (24 pk) (16.9 oz) (Water TX)': '$7.49',\n   ' 1 × Coke Classic Bottle (20oz) (Soda TX)': '$3.19'},\n  'Subtotal': '$21.97',\n  'Subtotal Tax': '$1.19',\n  'Commission (23%)': '-$5.05',\n  'Total Customer Refund': '-$0.00',\n  'Estimated Payout': '$18.11',\n  'Transaction #8113346069 - Delivery': '$18.11'},\n {'Order': 'AA85B890',\n  'Delivered': 'The order was delivered at 10:08 PM on October 1, 2023.',\n  'Pick Up Location': '5004 Wesley St, Greenville, TX 75402, USA',\n  'Order Details': {'1 × Moon Pie Double Decker Banana (2.75oz) (Pastry TX)': '$2.29',\n   ' 1 × Moon Pie Double Decker Chocolate (2.75oz) (Pastry TX)': '$2.29',\n   ' 1 × TXB Sweet Tea Bottle (16oz) (Tea TX)': '$3.29',\n   ' 1 × TXB Strawberry White Tea Bottle (16oz) (Tea TX)': '$2.59',\n   ' 1 × TXB Premium Electrolyte Water Bottle (12pk 1L) (Water TX)': '$4.09'},\n  'Subtotal': '$14.55',\n  'Subtotal Tax': '$0.59',\n  'Commission (16%)': '-$2.33',\n  'Total Customer Refund': '-$0.00',\n  'Estimated Payout': '$12.81',\n  'Transaction #8112864098 - Delivery': '$12.81'},\n {'Order': '773C7330',\n  'Delivered': 'The order was delivered at 9:07 PM on October 1, 2023.',\n  'Pick Up Location': '5004 Wesley St, Greenville, TX 75402, USA',\n  'Order Details': {'1 × Lone Star Beer Can (16 oz x 6 ct) (Domestic Beer NT)': '$13.79'},\n  'Subtotal': '$13.79',\n  'Subtotal Tax': '$1.14',\n  'Commission (16%)': '-$2.21',\n  'Total Customer Refund': '-$0.00',\n  'Estimated Payout': '$12.72',\n  'Transaction #8112394394 - Delivery': '$12.72'},\n {'Order': 'EDCB46B1',\n  'Delivered': 'Error Charge The customer reported one or more missing items resulting in an error charge of $5.86. If you believe this was an error, you can dispute the error charge by October 15, 2023.',\n  'Pick Up Location': '1001 W Van Alstyne Pkwy, Van Alstyne, TX 75495, USA',\n  'Order Details': {'1 × Michelob Ultra Light Beer Can (12 oz x 12 ct) (Domestic Beer NT)': '$27.49',\n   ' 1 × Truly Hard Seltzer Berry Mix Pack Can (12 oz x 12 ct) (Seltzer NT)': '$28.79'},\n  'Subtotal': '-$5.30 Error Charge Tax -$0.56 Error Charge Total -$5.86 Order Total $47.98',\n  'Commission (23%)': '-$12.94 Order Total $47.98 Error Charges 1 × Michelob Ultra Light Beer Can (12 oz x 12 ct) (Domestic Beer NT) Missing Item -$5.30 Error Charge',\n  'Estimated Payout': '$42.12',\n  'Transaction #8109695187 - Delivery': '$47.98 Transaction #8109811800 - Error Charges -$5.86'},\n {'Order': '68944F97',\n  'Delivered': 'The order was delivered at 2:50 PM on October 1, 2023.',\n  'Pick Up Location': '800 W Interstate 20, Big Spring, TX 79720, USA',\n  'Order Details': {'2 × Michelob Ultra Light Beer Can (12 oz x 18 ct) (Domestic Beer ST)': '$72.58'},\n  'Subtotal': '$72.58',\n  'Subtotal Tax': '$5.99',\n  'Commission (23%)': '-$16.69',\n  'Total Customer Refund': '-$0.00',\n  'Estimated Payout': '$61.88',\n  'Transaction #8108722869 - Delivery': '$61.88'},\n {'Order': 'ED39CFE2',\n  'Delivered': 'Error Charge The customer reported one or more missing items resulting in an error charge of $8.11. If you believe this was an error, you can dispute the error charge by October 15, 2023.',\n  'Pick Up Location': '1301 N U.S. Hwy 281, Marble Falls, TX 78654, USA',\n  'Order Details': {'1 × Ice Large (Fountain, Frozen, & Tea)': '$7.49',\n   ' 1 × Campbells Chicken Noodle Bowl (15.4oz) (Pantry TX)': '$5.29',\n   ' 2 × TXB Premium Electrolyte Water (1 lt) (Water TX)': '$8.78',\n   ' 1 × 7 Up Bottle (20 oz) (Soda TX)': '$3.79',\n   ' 2 × Gatorade Cool Blue (28 oz) (Sports Drinks TX)': '$9.58'},\n  'Subtotal': '-$7.50 Error Charge Tax -$0.61 Error Charge Total -$8.11 Order Total $28.36',\n  'Commission (25%)': '-$8.73 Order Total $28.36 Error Charges 1 × Ice Large (Fountain, Frozen, & Tea) Missing Item -$7.50 Error Charge',\n  'Estimated Payout': '$20.25',\n  'Transaction #8107801352 - Delivery': '$28.36 Transaction #8107871093 - Error Charges -$8.11'},\n {'Order': '78BAE2F8',\n  'Delivered': 'The order was delivered at 12:41 PM on October 1, 2023.',\n  'Pick Up Location': '1001 S State Hwy 16, Fredericksburg, TX 78624, USA',\n  'Order Details': {'1 × Crush Grape Bottle (20oz) (Soda TX)': '$3.79',\n   ' 1 × Turkey & Bacon Wrap (Salads, Wraps, & Cold Sandwiches TXB#61)': '$8.79',\n   ' Subtotal for Tax Calculations': '$12.58'},\n  'Subtotal Tax': '$1.04',\n  'Commission (16%)': '-$2.01',\n  'Total Customer Refund': '-$0.00',\n  'Estimated Payout': '$11.61',\n  'Transaction #8107649354 - Delivery': '$11.61'},\n {'Order': 'DE4528F2',\n  'Delivered': 'The order was delivered at 12:39 PM on October 1, 2023.',\n  'Pick Up Location': '2320 W Main St, Durant, OK 74701, USA',\n  'Order Details': {'1 × Coke Classic Bottle (20oz) (Soda OK)': '$3.19',\n   ' 2 × Red Bull Energy Drink Can (12 oz) (Energy Drinks OK)': '$11.58'},\n  'Subtotal': '$14.77',\n  'Subtotal Tax': '$1.38',\n  'Commission (23%)': '-$3.40',\n  'Total Customer Refund': '-$0.00',\n  'Estimated Payout': '$11.37',\n  'Transaction #8107692197 - Delivery': '$11.37'},\n {'Order': 'F5539B37',\n  'Delivered': 'The order was delivered at 10:52 AM on October 1, 2023.',\n  'Pick Up Location': '3702 FM2147, Horseshoe Bay, TX 78657, USA',\n  'Order Details': {'2 × Chorizo Egg Cheese Quesadilla (Breakfast Tacos & Quesadillas) Salsa: Salsa Roja': '$14.98'},\n  'Subtotal': '$14.98',\n  'Subtotal Tax': '$1.24',\n  'Commission (25%)': '-$3.75',\n  'Total Customer Refund': '-$0.00',\n  'Estimated Payout': '$12.47',\n  'Transaction #8106904074 - Delivery': '$12.47'},\n {'Order': 'FE329688',\n  'Delivered': 'The order was delivered at 10:03 AM on October 1, 2023.',\n  'Pick Up Location': '800 W Interstate 20, Big Spring, TX 79720, USA',\n  'Order Details': {'3 × Red Bull Energy Drink Can (12 oz) (Energy Drinks TX)': '$17.37'},\n  'Subtotal': '$17.37',\n  'Subtotal Tax': '$1.43',\n  'Commission (16%)': '-$2.78',\n  'Total Customer Refund': '-$0.00',\n  'Estimated Payout': '$16.02',\n  'Transaction #8106720721 - Delivery': '$16.02'},\n {'Order': 'C5A903F0',\n  'Cancelled - Paid': 'The order was cancelled on October 1, 2023 at 7:31 AM. You’re paid for cancelled orders when you’ve successfully confirmed an order, it was prepared, and you did not initiate or are not at fault for the cancellation.',\n  'Pick Up Location': '2503 TX-349, Midland, TX 79706, USA',\n  'Order Details': {'1 × Sausage Egg Cheese Taco (Breakfast Tacos & Quesadillas)': '$3.79'},\n  'Subtotal': '$3.79',\n  'Subtotal Tax': '$0.30',\n  'Commission (16%)': '-$0.61',\n  'Total Customer Refund': '-$0.00',\n  'Estimated Payout': '$3.48',\n  'Transaction #8106298092 - Delivery': '$3.48'},\n {'Order': '782881C7',\n  'Delivered': 'The order was delivered at 3:08 AM on October 1, 2023.',\n  'Pick Up Location': '145 Lehman Rd, Kyle, TX 78640, USA',\n  'Order Details': {'1 × Hostess Powdered Donettes Bag (10.5oz) (Donuts TX)': '$6.39',\n   ' 1 × Fountain Drink (Fountain, Frozen, & Tea) Drink Selection: Sprite': '$0.00',\n   ' 1 × Fountain Drink (Fountain, Frozen, & Tea) Drink Selection: TXB Cherry Limeade': '$0.00',\n   ' 1 × Fountain Drink (Fountain, Frozen, & Tea) Drink Selection: TXB Root Beer': '$0.00'},\n  'Subtotal': '$6.39',\n  'Subtotal Tax': '$0.00',\n  'Commission (16%)': '-$1.02',\n  'Total Customer Refund': '-$0.00 Refunds $6.99',\n  'Estimated Payout': '$12.36',\n  'Transaction #8105816170 - Delivery': '$5.37'},\n {'Order': 'ECCAB249',\n  'Delivered': 'The order was delivered at 2:32 AM on October 1, 2023.',\n  'Pick Up Location': '1402 Williams Dr, Georgetown, TX 78628, USA',\n  'Order Details': {'1 × Chicken Tender Meal Kit (Meal Kits TXB#65)': '$9.19'},\n  'Subtotal': '$9.19',\n  'Subtotal Tax': '$0.76',\n  'Commission (16%)': '-$1.47',\n  'Total Customer Refund': '-$0.00',\n  'Estimated Payout': '$8.48',\n  'Transaction #8105817488 - Delivery': '$8.48'},\n {'Order': '8E90EF84',\n  'Delivered': 'The order was delivered at 1:24 AM on October 1, 2023.',\n  'Pick Up Location': '21024 W, 21024 State Hwy 71, Spicewood, TX 78669, USA',\n  'Order Details': {'1 × Pork Tamale Meal Kit (Meal Kits TXB#62)': '$9.19'},\n  'Subtotal': '$9.19',\n  'Subtotal Tax': '$0.76',\n  'Commission (16%)': '-$1.47',\n  'Total Customer Refund': '-$0.00',\n  'Estimated Payout': '$8.48',\n  'Transaction #8105638611 - Delivery': '$8.48'},\n {'Order': 'B944ED77',\n  'Cancelled - Not Paid': 'The order was cancelled on October 1, 2023 at 12:57 AM. You were not paid because you were unable to fulfill the order.',\n  'Pick Up Location': '1402 Williams Dr, Georgetown, TX 78628, USA',\n  'Order Details': {'2 × Black Box Pinot Grigio Tetra 500ml Box (12% ABV) (Specialty Wine)': '$12.58'},\n  'Subtotal': '$12.58',\n  'Subtotal Tax': '$1.04',\n  'Commission (16%)': '-$2.01',\n  'Total Customer Refund': '-$0.00',\n  'Estimated Payout': '$0.00'},\n {'Order': 'E7A89C68',\n  'Delivered': 'The order was delivered at 12:43 AM on October 1, 2023.',\n  'Pick Up Location': '1402 Williams Dr, Georgetown, TX 78628, USA',\n  'Order Details': {'1 × Pepcid AC Maximum Strength Tablet (8ct) (Medicine TX)': '$14.39',\n   ' 1 × 2% Milk (16 oz) (Milk TX)': '$3.79'},\n  'Subtotal': '$18.18',\n  'Subtotal Tax': '$0.00',\n  'Commission (16%)': '-$2.91',\n  'Total Customer Refund': '-$0.00',\n  'Estimated Payout': '$15.27',\n  'Transaction #8105526412 - Delivery': '$15.27'},\n {'Order': 'C41B4C30',\n  'Delivered': 'The order was delivered at 12:43 AM on October 1, 2023.',\n  'Pick Up Location': '21024 W, 21024 State Hwy 71, Spicewood, TX 78669, USA',\n  'Order Details': {'1 × Triple Chocolate Chunk Cookie (Pastries & Desserts)': '$2.49',\n   ' 1 × Chocolate Milk (16 oz) (Milk TX)': '$3.79',\n   ' 3 × Fountain Drink (Fountain, Frozen, & Tea) Drink Selection: Dr Pepper': '$0.00',\n   ' 1 × Dr Pepper Bottle (20 oz) (Soda TX)': '$3.79'},\n  'Subtotal': '$10.07',\n  'Subtotal Tax': '$0.83',\n  'Commission (16%)': '-$1.61',\n  'Total Customer Refund': '-$0.00',\n  'Estimated Payout': '$9.29',\n  'Transaction #8105477186 - Delivery': '$9.29'}]"
     },
     "execution_count": 12,
     "metadata": {},
     "output_type": "execute_result"
    }
   ],
   "source": [
    "def get_lst_of_mapped_orders():\n",
    "    with open(json_output_filepath, 'r') as f:\n",
    "        data = json.load(f)\n",
    "        \n",
    "    return data\n",
    "    \n",
    "    \n",
    "data = get_lst_of_mapped_orders()\n",
    "data"
   ],
   "metadata": {
    "collapsed": false,
    "ExecuteTime": {
     "end_time": "2023-10-03T15:19:59.625180Z",
     "start_time": "2023-10-03T15:19:59.598859Z"
    }
   },
   "id": "c3c1bb6a6a6a68cb"
  },
  {
   "cell_type": "code",
   "execution_count": 13,
   "outputs": [
    {
     "name": "stdout",
     "output_type": "stream",
     "text": [
      "{'Order': '42C2A525', 'Delivered': 'The order was delivered at 11:41 PM on October 1, 2023.', 'Pick Up Location': '5004 Wesley St, Greenville, TX 75402, USA', 'Order Details': {'1 × Coca-Cola Can (12 pk-12 oz) (Soda TX)': '$11.29', ' 1 × TXB Water Bottle (24 pk) (16.9 oz) (Water TX)': '$7.49', ' 1 × Coke Classic Bottle (20oz) (Soda TX)': '$3.19'}, 'Subtotal': '$21.97', 'Subtotal Tax': '$1.19', 'Commission (23%)': '-$5.05', 'Total Customer Refund': '-$0.00', 'Estimated Payout': '$18.11', 'Transaction #8113346069 - Delivery': '$18.11'}\n",
      "{'Order': 'AA85B890', 'Delivered': 'The order was delivered at 10:08 PM on October 1, 2023.', 'Pick Up Location': '5004 Wesley St, Greenville, TX 75402, USA', 'Order Details': {'1 × Moon Pie Double Decker Banana (2.75oz) (Pastry TX)': '$2.29', ' 1 × Moon Pie Double Decker Chocolate (2.75oz) (Pastry TX)': '$2.29', ' 1 × TXB Sweet Tea Bottle (16oz) (Tea TX)': '$3.29', ' 1 × TXB Strawberry White Tea Bottle (16oz) (Tea TX)': '$2.59', ' 1 × TXB Premium Electrolyte Water Bottle (12pk 1L) (Water TX)': '$4.09'}, 'Subtotal': '$14.55', 'Subtotal Tax': '$0.59', 'Commission (16%)': '-$2.33', 'Total Customer Refund': '-$0.00', 'Estimated Payout': '$12.81', 'Transaction #8112864098 - Delivery': '$12.81'}\n",
      "{'Order': '773C7330', 'Delivered': 'The order was delivered at 9:07 PM on October 1, 2023.', 'Pick Up Location': '5004 Wesley St, Greenville, TX 75402, USA', 'Order Details': {'1 × Lone Star Beer Can (16 oz x 6 ct) (Domestic Beer NT)': '$13.79'}, 'Subtotal': '$13.79', 'Subtotal Tax': '$1.14', 'Commission (16%)': '-$2.21', 'Total Customer Refund': '-$0.00', 'Estimated Payout': '$12.72', 'Transaction #8112394394 - Delivery': '$12.72'}\n",
      "{'Order': 'EDCB46B1', 'Delivered': 'Error Charge The customer reported one or more missing items resulting in an error charge of $5.86. If you believe this was an error, you can dispute the error charge by October 15, 2023.', 'Pick Up Location': '1001 W Van Alstyne Pkwy, Van Alstyne, TX 75495, USA', 'Order Details': {'1 × Michelob Ultra Light Beer Can (12 oz x 12 ct) (Domestic Beer NT)': '$27.49', ' 1 × Truly Hard Seltzer Berry Mix Pack Can (12 oz x 12 ct) (Seltzer NT)': '$28.79'}, 'Subtotal': '-$5.30 Error Charge Tax -$0.56 Error Charge Total -$5.86 Order Total $47.98', 'Commission (23%)': '-$12.94 Order Total $47.98 Error Charges 1 × Michelob Ultra Light Beer Can (12 oz x 12 ct) (Domestic Beer NT) Missing Item -$5.30 Error Charge', 'Estimated Payout': '$42.12', 'Transaction #8109695187 - Delivery': '$47.98 Transaction #8109811800 - Error Charges -$5.86'}\n",
      "{'Order': '68944F97', 'Delivered': 'The order was delivered at 2:50 PM on October 1, 2023.', 'Pick Up Location': '800 W Interstate 20, Big Spring, TX 79720, USA', 'Order Details': {'2 × Michelob Ultra Light Beer Can (12 oz x 18 ct) (Domestic Beer ST)': '$72.58'}, 'Subtotal': '$72.58', 'Subtotal Tax': '$5.99', 'Commission (23%)': '-$16.69', 'Total Customer Refund': '-$0.00', 'Estimated Payout': '$61.88', 'Transaction #8108722869 - Delivery': '$61.88'}\n",
      "{'Order': 'ED39CFE2', 'Delivered': 'Error Charge The customer reported one or more missing items resulting in an error charge of $8.11. If you believe this was an error, you can dispute the error charge by October 15, 2023.', 'Pick Up Location': '1301 N U.S. Hwy 281, Marble Falls, TX 78654, USA', 'Order Details': {'1 × Ice Large (Fountain, Frozen, & Tea)': '$7.49', ' 1 × Campbells Chicken Noodle Bowl (15.4oz) (Pantry TX)': '$5.29', ' 2 × TXB Premium Electrolyte Water (1 lt) (Water TX)': '$8.78', ' 1 × 7 Up Bottle (20 oz) (Soda TX)': '$3.79', ' 2 × Gatorade Cool Blue (28 oz) (Sports Drinks TX)': '$9.58'}, 'Subtotal': '-$7.50 Error Charge Tax -$0.61 Error Charge Total -$8.11 Order Total $28.36', 'Commission (25%)': '-$8.73 Order Total $28.36 Error Charges 1 × Ice Large (Fountain, Frozen, & Tea) Missing Item -$7.50 Error Charge', 'Estimated Payout': '$20.25', 'Transaction #8107801352 - Delivery': '$28.36 Transaction #8107871093 - Error Charges -$8.11'}\n",
      "{'Order': '78BAE2F8', 'Delivered': 'The order was delivered at 12:41 PM on October 1, 2023.', 'Pick Up Location': '1001 S State Hwy 16, Fredericksburg, TX 78624, USA', 'Order Details': {'1 × Crush Grape Bottle (20oz) (Soda TX)': '$3.79', ' 1 × Turkey & Bacon Wrap (Salads, Wraps, & Cold Sandwiches TXB#61)': '$8.79', ' Subtotal for Tax Calculations': '$12.58'}, 'Subtotal Tax': '$1.04', 'Commission (16%)': '-$2.01', 'Total Customer Refund': '-$0.00', 'Estimated Payout': '$11.61', 'Transaction #8107649354 - Delivery': '$11.61'}\n",
      "{'Order': 'DE4528F2', 'Delivered': 'The order was delivered at 12:39 PM on October 1, 2023.', 'Pick Up Location': '2320 W Main St, Durant, OK 74701, USA', 'Order Details': {'1 × Coke Classic Bottle (20oz) (Soda OK)': '$3.19', ' 2 × Red Bull Energy Drink Can (12 oz) (Energy Drinks OK)': '$11.58'}, 'Subtotal': '$14.77', 'Subtotal Tax': '$1.38', 'Commission (23%)': '-$3.40', 'Total Customer Refund': '-$0.00', 'Estimated Payout': '$11.37', 'Transaction #8107692197 - Delivery': '$11.37'}\n",
      "{'Order': 'F5539B37', 'Delivered': 'The order was delivered at 10:52 AM on October 1, 2023.', 'Pick Up Location': '3702 FM2147, Horseshoe Bay, TX 78657, USA', 'Order Details': {'2 × Chorizo Egg Cheese Quesadilla (Breakfast Tacos & Quesadillas) Salsa: Salsa Roja': '$14.98'}, 'Subtotal': '$14.98', 'Subtotal Tax': '$1.24', 'Commission (25%)': '-$3.75', 'Total Customer Refund': '-$0.00', 'Estimated Payout': '$12.47', 'Transaction #8106904074 - Delivery': '$12.47'}\n",
      "{'Order': 'FE329688', 'Delivered': 'The order was delivered at 10:03 AM on October 1, 2023.', 'Pick Up Location': '800 W Interstate 20, Big Spring, TX 79720, USA', 'Order Details': {'3 × Red Bull Energy Drink Can (12 oz) (Energy Drinks TX)': '$17.37'}, 'Subtotal': '$17.37', 'Subtotal Tax': '$1.43', 'Commission (16%)': '-$2.78', 'Total Customer Refund': '-$0.00', 'Estimated Payout': '$16.02', 'Transaction #8106720721 - Delivery': '$16.02'}\n",
      "{'Order': 'C5A903F0', 'Cancelled - Paid': 'The order was cancelled on October 1, 2023 at 7:31 AM. You’re paid for cancelled orders when you’ve successfully confirmed an order, it was prepared, and you did not initiate or are not at fault for the cancellation.', 'Pick Up Location': '2503 TX-349, Midland, TX 79706, USA', 'Order Details': {'1 × Sausage Egg Cheese Taco (Breakfast Tacos & Quesadillas)': '$3.79'}, 'Subtotal': '$3.79', 'Subtotal Tax': '$0.30', 'Commission (16%)': '-$0.61', 'Total Customer Refund': '-$0.00', 'Estimated Payout': '$3.48', 'Transaction #8106298092 - Delivery': '$3.48'}\n",
      "{'Order': '782881C7', 'Delivered': 'The order was delivered at 3:08 AM on October 1, 2023.', 'Pick Up Location': '145 Lehman Rd, Kyle, TX 78640, USA', 'Order Details': {'1 × Hostess Powdered Donettes Bag (10.5oz) (Donuts TX)': '$6.39', ' 1 × Fountain Drink (Fountain, Frozen, & Tea) Drink Selection: Sprite': '$0.00', ' 1 × Fountain Drink (Fountain, Frozen, & Tea) Drink Selection: TXB Cherry Limeade': '$0.00', ' 1 × Fountain Drink (Fountain, Frozen, & Tea) Drink Selection: TXB Root Beer': '$0.00'}, 'Subtotal': '$6.39', 'Subtotal Tax': '$0.00', 'Commission (16%)': '-$1.02', 'Total Customer Refund': '-$0.00 Refunds $6.99', 'Estimated Payout': '$12.36', 'Transaction #8105816170 - Delivery': '$5.37'}\n",
      "{'Order': 'ECCAB249', 'Delivered': 'The order was delivered at 2:32 AM on October 1, 2023.', 'Pick Up Location': '1402 Williams Dr, Georgetown, TX 78628, USA', 'Order Details': {'1 × Chicken Tender Meal Kit (Meal Kits TXB#65)': '$9.19'}, 'Subtotal': '$9.19', 'Subtotal Tax': '$0.76', 'Commission (16%)': '-$1.47', 'Total Customer Refund': '-$0.00', 'Estimated Payout': '$8.48', 'Transaction #8105817488 - Delivery': '$8.48'}\n",
      "{'Order': '8E90EF84', 'Delivered': 'The order was delivered at 1:24 AM on October 1, 2023.', 'Pick Up Location': '21024 W, 21024 State Hwy 71, Spicewood, TX 78669, USA', 'Order Details': {'1 × Pork Tamale Meal Kit (Meal Kits TXB#62)': '$9.19'}, 'Subtotal': '$9.19', 'Subtotal Tax': '$0.76', 'Commission (16%)': '-$1.47', 'Total Customer Refund': '-$0.00', 'Estimated Payout': '$8.48', 'Transaction #8105638611 - Delivery': '$8.48'}\n",
      "{'Order': 'B944ED77', 'Cancelled - Not Paid': 'The order was cancelled on October 1, 2023 at 12:57 AM. You were not paid because you were unable to fulfill the order.', 'Pick Up Location': '1402 Williams Dr, Georgetown, TX 78628, USA', 'Order Details': {'2 × Black Box Pinot Grigio Tetra 500ml Box (12% ABV) (Specialty Wine)': '$12.58'}, 'Subtotal': '$12.58', 'Subtotal Tax': '$1.04', 'Commission (16%)': '-$2.01', 'Total Customer Refund': '-$0.00', 'Estimated Payout': '$0.00'}\n",
      "{'Order': 'E7A89C68', 'Delivered': 'The order was delivered at 12:43 AM on October 1, 2023.', 'Pick Up Location': '1402 Williams Dr, Georgetown, TX 78628, USA', 'Order Details': {'1 × Pepcid AC Maximum Strength Tablet (8ct) (Medicine TX)': '$14.39', ' 1 × 2% Milk (16 oz) (Milk TX)': '$3.79'}, 'Subtotal': '$18.18', 'Subtotal Tax': '$0.00', 'Commission (16%)': '-$2.91', 'Total Customer Refund': '-$0.00', 'Estimated Payout': '$15.27', 'Transaction #8105526412 - Delivery': '$15.27'}\n",
      "{'Order': 'C41B4C30', 'Delivered': 'The order was delivered at 12:43 AM on October 1, 2023.', 'Pick Up Location': '21024 W, 21024 State Hwy 71, Spicewood, TX 78669, USA', 'Order Details': {'1 × Triple Chocolate Chunk Cookie (Pastries & Desserts)': '$2.49', ' 1 × Chocolate Milk (16 oz) (Milk TX)': '$3.79', ' 3 × Fountain Drink (Fountain, Frozen, & Tea) Drink Selection: Dr Pepper': '$0.00', ' 1 × Dr Pepper Bottle (20 oz) (Soda TX)': '$3.79'}, 'Subtotal': '$10.07', 'Subtotal Tax': '$0.83', 'Commission (16%)': '-$1.61', 'Total Customer Refund': '-$0.00', 'Estimated Payout': '$9.29', 'Transaction #8105477186 - Delivery': '$9.29'}\n"
     ]
    },
    {
     "data": {
      "text/plain": "{'42C2A525': '5004 Wesley St, Greenville, TX 75402, USA',\n 'AA85B890': '5004 Wesley St, Greenville, TX 75402, USA',\n '773C7330': '5004 Wesley St, Greenville, TX 75402, USA',\n 'EDCB46B1': '1001 W Van Alstyne Pkwy, Van Alstyne, TX 75495, USA',\n '68944F97': '800 W Interstate 20, Big Spring, TX 79720, USA',\n 'ED39CFE2': '1301 N U.S. Hwy 281, Marble Falls, TX 78654, USA',\n '78BAE2F8': '1001 S State Hwy 16, Fredericksburg, TX 78624, USA',\n 'DE4528F2': '2320 W Main St, Durant, OK 74701, USA',\n 'F5539B37': '3702 FM2147, Horseshoe Bay, TX 78657, USA',\n 'FE329688': '800 W Interstate 20, Big Spring, TX 79720, USA',\n 'C5A903F0': '2503 TX-349, Midland, TX 79706, USA',\n '782881C7': '145 Lehman Rd, Kyle, TX 78640, USA',\n 'ECCAB249': '1402 Williams Dr, Georgetown, TX 78628, USA',\n '8E90EF84': '21024 W, 21024 State Hwy 71, Spicewood, TX 78669, USA',\n 'B944ED77': '1402 Williams Dr, Georgetown, TX 78628, USA',\n 'E7A89C68': '1402 Williams Dr, Georgetown, TX 78628, USA',\n 'C41B4C30': '21024 W, 21024 State Hwy 71, Spicewood, TX 78669, USA'}"
     },
     "execution_count": 13,
     "metadata": {},
     "output_type": "execute_result"
    }
   ],
   "source": [
    "def map_order_to_location(orders):\n",
    "    order_id_to_pickup_location  = {}\n",
    "    for order in orders:\n",
    "        print(order)\n",
    "        order_id = order['Order']\n",
    "        store_addrs = order['Pick Up Location']\n",
    "        order_id_to_pickup_location[order_id] = store_addrs\n",
    "    return order_id_to_pickup_location\n",
    "order_to_location = map_order_to_location(data)\n",
    "order_to_location"
   ],
   "metadata": {
    "collapsed": false,
    "ExecuteTime": {
     "end_time": "2023-10-03T15:20:00.009617Z",
     "start_time": "2023-10-03T15:20:00.003416Z"
    }
   },
   "id": "e507fe8fcd2628f8"
  },
  {
   "cell_type": "code",
   "execution_count": 8,
   "outputs": [
    {
     "name": "stdout",
     "output_type": "stream",
     "text": [
      "{'Order': '42C2A525', 'Delivered': 'The order was delivered at 11:41 PM on October 1, 2023.', 'Pick Up Location': '5004 Wesley St, Greenville, TX 75402, USA', 'Order Details': {'1 × Coca-Cola Can (12 pk-12 oz) (Soda TX)': '$11.29', ' 1 × TXB Water Bottle (24 pk) (16.9 oz) (Water TX)': '$7.49', ' 1 × Coke Classic Bottle (20oz) (Soda TX)': '$3.19'}, 'Subtotal': '$21.97', 'Subtotal Tax': '$1.19', 'Commission (23%)': '-$5.05', 'Total Customer Refund': '-$0.00', 'Estimated Payout': '$18.11', 'Transaction #8113346069 - Delivery': '$18.11'}\n",
      "{'Order': 'AA85B890', 'Delivered': 'The order was delivered at 10:08 PM on October 1, 2023.', 'Pick Up Location': '5004 Wesley St, Greenville, TX 75402, USA', 'Order Details': {'1 × Moon Pie Double Decker Banana (2.75oz) (Pastry TX)': '$2.29', ' 1 × Moon Pie Double Decker Chocolate (2.75oz) (Pastry TX)': '$2.29', ' 1 × TXB Sweet Tea Bottle (16oz) (Tea TX)': '$3.29', ' 1 × TXB Strawberry White Tea Bottle (16oz) (Tea TX)': '$2.59', ' 1 × TXB Premium Electrolyte Water Bottle (12pk 1L) (Water TX)': '$4.09'}, 'Subtotal': '$14.55', 'Subtotal Tax': '$0.59', 'Commission (16%)': '-$2.33', 'Total Customer Refund': '-$0.00', 'Estimated Payout': '$12.81', 'Transaction #8112864098 - Delivery': '$12.81'}\n",
      "{'Order': '773C7330', 'Delivered': 'The order was delivered at 9:07 PM on October 1, 2023.', 'Pick Up Location': '5004 Wesley St, Greenville, TX 75402, USA', 'Order Details': {'1 × Lone Star Beer Can (16 oz x 6 ct) (Domestic Beer NT)': '$13.79'}, 'Subtotal': '$13.79', 'Subtotal Tax': '$1.14', 'Commission (16%)': '-$2.21', 'Total Customer Refund': '-$0.00', 'Estimated Payout': '$12.72', 'Transaction #8112394394 - Delivery': '$12.72'}\n",
      "{'Order': 'No Delivery has been found.'}\n"
     ]
    },
    {
     "ename": "KeyError",
     "evalue": "'Pick Up Location'",
     "output_type": "error",
     "traceback": [
      "\u001B[0;31m---------------------------------------------------------------------------\u001B[0m",
      "\u001B[0;31mKeyError\u001B[0m                                  Traceback (most recent call last)",
      "Cell \u001B[0;32mIn[8], line 10\u001B[0m\n\u001B[1;32m      7\u001B[0m         order_id_to_pickup_location[order_id] \u001B[38;5;241m=\u001B[39m store_addrs\n\u001B[1;32m      8\u001B[0m     \u001B[38;5;28;01mreturn\u001B[39;00m order_id_to_pickup_location\n\u001B[0;32m---> 10\u001B[0m order_to_location \u001B[38;5;241m=\u001B[39m \u001B[43mmap_order_to_location\u001B[49m\u001B[43m(\u001B[49m\u001B[43mdata\u001B[49m\u001B[43m)\u001B[49m\n\u001B[1;32m     11\u001B[0m order_to_location\n",
      "Cell \u001B[0;32mIn[8], line 6\u001B[0m, in \u001B[0;36mmap_order_to_location\u001B[0;34m(orders)\u001B[0m\n\u001B[1;32m      4\u001B[0m     \u001B[38;5;28mprint\u001B[39m(order)\n\u001B[1;32m      5\u001B[0m     order_id \u001B[38;5;241m=\u001B[39m order[\u001B[38;5;124m'\u001B[39m\u001B[38;5;124mOrder\u001B[39m\u001B[38;5;124m'\u001B[39m]\n\u001B[0;32m----> 6\u001B[0m     store_addrs \u001B[38;5;241m=\u001B[39m \u001B[43morder\u001B[49m\u001B[43m[\u001B[49m\u001B[38;5;124;43m'\u001B[39;49m\u001B[38;5;124;43mPick Up Location\u001B[39;49m\u001B[38;5;124;43m'\u001B[39;49m\u001B[43m]\u001B[49m\n\u001B[1;32m      7\u001B[0m     order_id_to_pickup_location[order_id] \u001B[38;5;241m=\u001B[39m store_addrs\n\u001B[1;32m      8\u001B[0m \u001B[38;5;28;01mreturn\u001B[39;00m order_id_to_pickup_location\n",
      "\u001B[0;31mKeyError\u001B[0m: 'Pick Up Location'"
     ]
    }
   ],
   "source": [
    "def map_order_to_location(orders):\n",
    "    order_id_to_pickup_location  = {}\n",
    "    for order in orders:\n",
    "        print(order)\n",
    "        order_id = order['Order']\n",
    "        store_addrs = order['Pick Up Location']\n",
    "        order_id_to_pickup_location[order_id] = store_addrs\n",
    "    return order_id_to_pickup_location\n",
    "\n",
    "order_to_location = map_order_to_location(data)\n",
    "order_to_location"
   ],
   "metadata": {
    "collapsed": false,
    "ExecuteTime": {
     "end_time": "2023-10-03T15:14:04.754243Z",
     "start_time": "2023-10-03T15:14:04.732072Z"
    }
   },
   "id": "3386a96bd9549261"
  },
  {
   "cell_type": "code",
   "execution_count": 6,
   "outputs": [
    {
     "data": {
      "text/plain": "0                 801 Lafayette St Laredo TX 78041 \n1          800 W Interstate 20 Big Spring TX 79720 \n2          800 W Interstate 20 Big Spring TX 79720 \n3     1001 W Van Alstyne Pkwy Van Alstyne TX 75495 \n4               3702 FM2147 Horseshoe Bay TX 78657 \n5                     201 S 9th St Durant OK 74701 \n6                  816 N Center St Bonham TX 75418 \n7                 801 Lafayette St Laredo TX 78041 \n8                 801 Lafayette St Laredo TX 78041 \n9                     2503 TX-349 Midland TX 79706 \n10              3702 FM2147 Horseshoe Bay TX 78657 \n11                  2320 W Main St Durant OK 74701 \nName: pickup_location, dtype: object"
     },
     "execution_count": 6,
     "metadata": {},
     "output_type": "execute_result"
    }
   ],
   "source": [
    "lst_of_tups = list(order_to_location.items())\n",
    "\n",
    "df = pd.DataFrame(lst_of_tups, columns=['order_id', 'pickup_location'])\n",
    "# Remove all commas\n",
    "df['pickup_location'] = df['pickup_location'].str.replace(',', '')\n",
    "\n",
    "# Remove \"USA\" substring\n",
    "df['pickup_location'] = df['pickup_location'].str.replace('USA', '')\n",
    "\n",
    "\n",
    "df['pickup_location']"
   ],
   "metadata": {
    "collapsed": false,
    "ExecuteTime": {
     "end_time": "2023-10-02T22:58:05.653595Z",
     "start_time": "2023-10-02T22:58:05.650820Z"
    }
   },
   "id": "f4c6119f664aa5c"
  },
  {
   "cell_type": "code",
   "execution_count": 8,
   "outputs": [
    {
     "data": {
      "text/plain": "    order_id                                pickup_location  \\\n0   A348DFB6              801 Lafayette St Laredo TX 78041    \n1   EC218FA4       800 W Interstate 20 Big Spring TX 79720    \n2   7D285B12       800 W Interstate 20 Big Spring TX 79720    \n3   F9F46AEF  1001 W Van Alstyne Pkwy Van Alstyne TX 75495    \n4   7D8C6B67            3702 FM2147 Horseshoe Bay TX 78657    \n5   702662D6                  201 S 9th St Durant OK 74701    \n6   00BEC8AB               816 N Center St Bonham TX 75418    \n7   F20F6AE7              801 Lafayette St Laredo TX 78041    \n8   CA9E35CB              801 Lafayette St Laredo TX 78041    \n9   D5782A52                  2503 TX-349 Midland TX 79706    \n10  5CDF188C            3702 FM2147 Horseshoe Bay TX 78657    \n11  0BC3FC5E                2320 W Main St Durant OK 74701    \n\n                    address           city state zip_code street_num  \n0             801 Lafayette      St Laredo    TX    78041        801  \n1       800 W Interstate 20     Big Spring    TX    79720        800  \n2       800 W Interstate 20     Big Spring    TX    79720        800  \n3   1001 W Van Alstyne Pkwy    Van Alstyne    TX    75495       1001  \n4               3702 FM2147  Horseshoe Bay    TX    78657       3702  \n5                 201 S 9th      St Durant    OK    74701        201  \n6              816 N Center      St Bonham    TX    75418        816  \n7             801 Lafayette      St Laredo    TX    78041        801  \n8             801 Lafayette      St Laredo    TX    78041        801  \n9               2503 TX-349        Midland    TX    79706       2503  \n10              3702 FM2147  Horseshoe Bay    TX    78657       3702  \n11              2320 W Main      St Durant    OK    74701       2320  ",
      "text/html": "<div>\n<style scoped>\n    .dataframe tbody tr th:only-of-type {\n        vertical-align: middle;\n    }\n\n    .dataframe tbody tr th {\n        vertical-align: top;\n    }\n\n    .dataframe thead th {\n        text-align: right;\n    }\n</style>\n<table border=\"1\" class=\"dataframe\">\n  <thead>\n    <tr style=\"text-align: right;\">\n      <th></th>\n      <th>order_id</th>\n      <th>pickup_location</th>\n      <th>address</th>\n      <th>city</th>\n      <th>state</th>\n      <th>zip_code</th>\n      <th>street_num</th>\n    </tr>\n  </thead>\n  <tbody>\n    <tr>\n      <th>0</th>\n      <td>A348DFB6</td>\n      <td>801 Lafayette St Laredo TX 78041</td>\n      <td>801 Lafayette</td>\n      <td>St Laredo</td>\n      <td>TX</td>\n      <td>78041</td>\n      <td>801</td>\n    </tr>\n    <tr>\n      <th>1</th>\n      <td>EC218FA4</td>\n      <td>800 W Interstate 20 Big Spring TX 79720</td>\n      <td>800 W Interstate 20</td>\n      <td>Big Spring</td>\n      <td>TX</td>\n      <td>79720</td>\n      <td>800</td>\n    </tr>\n    <tr>\n      <th>2</th>\n      <td>7D285B12</td>\n      <td>800 W Interstate 20 Big Spring TX 79720</td>\n      <td>800 W Interstate 20</td>\n      <td>Big Spring</td>\n      <td>TX</td>\n      <td>79720</td>\n      <td>800</td>\n    </tr>\n    <tr>\n      <th>3</th>\n      <td>F9F46AEF</td>\n      <td>1001 W Van Alstyne Pkwy Van Alstyne TX 75495</td>\n      <td>1001 W Van Alstyne Pkwy</td>\n      <td>Van Alstyne</td>\n      <td>TX</td>\n      <td>75495</td>\n      <td>1001</td>\n    </tr>\n    <tr>\n      <th>4</th>\n      <td>7D8C6B67</td>\n      <td>3702 FM2147 Horseshoe Bay TX 78657</td>\n      <td>3702 FM2147</td>\n      <td>Horseshoe Bay</td>\n      <td>TX</td>\n      <td>78657</td>\n      <td>3702</td>\n    </tr>\n    <tr>\n      <th>5</th>\n      <td>702662D6</td>\n      <td>201 S 9th St Durant OK 74701</td>\n      <td>201 S 9th</td>\n      <td>St Durant</td>\n      <td>OK</td>\n      <td>74701</td>\n      <td>201</td>\n    </tr>\n    <tr>\n      <th>6</th>\n      <td>00BEC8AB</td>\n      <td>816 N Center St Bonham TX 75418</td>\n      <td>816 N Center</td>\n      <td>St Bonham</td>\n      <td>TX</td>\n      <td>75418</td>\n      <td>816</td>\n    </tr>\n    <tr>\n      <th>7</th>\n      <td>F20F6AE7</td>\n      <td>801 Lafayette St Laredo TX 78041</td>\n      <td>801 Lafayette</td>\n      <td>St Laredo</td>\n      <td>TX</td>\n      <td>78041</td>\n      <td>801</td>\n    </tr>\n    <tr>\n      <th>8</th>\n      <td>CA9E35CB</td>\n      <td>801 Lafayette St Laredo TX 78041</td>\n      <td>801 Lafayette</td>\n      <td>St Laredo</td>\n      <td>TX</td>\n      <td>78041</td>\n      <td>801</td>\n    </tr>\n    <tr>\n      <th>9</th>\n      <td>D5782A52</td>\n      <td>2503 TX-349 Midland TX 79706</td>\n      <td>2503 TX-349</td>\n      <td>Midland</td>\n      <td>TX</td>\n      <td>79706</td>\n      <td>2503</td>\n    </tr>\n    <tr>\n      <th>10</th>\n      <td>5CDF188C</td>\n      <td>3702 FM2147 Horseshoe Bay TX 78657</td>\n      <td>3702 FM2147</td>\n      <td>Horseshoe Bay</td>\n      <td>TX</td>\n      <td>78657</td>\n      <td>3702</td>\n    </tr>\n    <tr>\n      <th>11</th>\n      <td>0BC3FC5E</td>\n      <td>2320 W Main St Durant OK 74701</td>\n      <td>2320 W Main</td>\n      <td>St Durant</td>\n      <td>OK</td>\n      <td>74701</td>\n      <td>2320</td>\n    </tr>\n  </tbody>\n</table>\n</div>"
     },
     "execution_count": 8,
     "metadata": {},
     "output_type": "execute_result"
    }
   ],
   "source": [
    "# Regular expression to capture address, city, state, and zip_code\n",
    "pattern = r'(?P<address>^.+?)\\s(?P<city>\\w+\\s*\\w*)\\s(?P<state>[A-Z]{2})\\s(?P<zip_code>\\d{5})'\n",
    "\n",
    "# Extract components into new DataFrame columns\n",
    "df_extracted = df['pickup_location'].str.extract(pattern)\n",
    "# Concatenating the new columns with the original DataFrame\n",
    "pickup_location_df = pd.concat([df, df_extracted], axis=1)\n",
    "\n",
    "street_num_pattern = r'(?P<street_num>\\b\\d{3,5}\\b)'\n",
    "\n",
    "\n",
    "addrs_extracted_df = pickup_location_df['address'].str.extract(street_num_pattern)\n",
    "\n",
    "\n",
    "\n",
    "pickup_location_df = pd.concat([pickup_location_df, addrs_extracted_df], axis=1)\n",
    "# pickup_location_df['zip_code'] = pickup_location_df['zip_code'].astype(str)\n",
    "\n",
    "pickup_location_df"
   ],
   "metadata": {
    "collapsed": false,
    "ExecuteTime": {
     "end_time": "2023-10-02T23:03:03.975013Z",
     "start_time": "2023-10-02T23:03:03.972221Z"
    }
   },
   "id": "1fcd2b81e2fb37a7"
  },
  {
   "cell_type": "markdown",
   "source": [],
   "metadata": {
    "collapsed": false
   },
   "id": "7df8fc44c596104e"
  },
  {
   "cell_type": "code",
   "execution_count": 60,
   "outputs": [
    {
     "data": {
      "text/plain": "Site #              object\nSite Description    object\nAddress             object\nCity                object\nCounty              object\nState               object\nZip                 object\nNotes               object\nstreet_num          object\ndtype: object"
     },
     "execution_count": 60,
     "metadata": {},
     "output_type": "execute_result"
    }
   ],
   "source": [
    "file_path = '/Users/ekim/workspace/personal/dd-bot/dev/store_list.xlsx'\n",
    "# # print(file_path)\n",
    "\n",
    "store_info_masterset_df = pd.read_excel(file_path, index_col=0)\n",
    "\n",
    "\n",
    "street_num_pattern = r'(?P<street_num>\\b\\d{3,5}\\b)'\n",
    "street_num_df = store_info_masterset_df['Address'].str.extract(street_num_pattern)\n",
    "\n",
    "store_info_masterset_df = pd.concat([store_info_masterset_df, street_num_df], axis=1)\n",
    "\n",
    "store_info_masterset_df['Site #'] = store_info_masterset_df['Site #'].astype(str)\n",
    "store_info_masterset_df['Zip'] = store_info_masterset_df['Zip'].astype(str)\n",
    "store_info_masterset_df['street_num'] = store_info_masterset_df['street_num'].astype(str)\n",
    "\n",
    "store_info_masterset_df.dtypes\n"
   ],
   "metadata": {
    "collapsed": false,
    "ExecuteTime": {
     "end_time": "2023-10-02T19:03:35.673595Z",
     "start_time": "2023-10-02T19:03:35.651175Z"
    }
   },
   "id": "c3aa0ce20b1a346c"
  },
  {
   "cell_type": "code",
   "execution_count": 83,
   "outputs": [],
   "source": [
    "master_df = pd.merge(store_info_masterset_df, pickup_location_df, left_on=['Zip', 'street_num'], right_on=['zip_code', 'street_num'], how='inner')"
   ],
   "metadata": {
    "collapsed": false,
    "ExecuteTime": {
     "end_time": "2023-10-02T19:15:06.736999Z",
     "start_time": "2023-10-02T19:15:06.722133Z"
    }
   },
   "id": "a1251ef503c23d43"
  },
  {
   "cell_type": "code",
   "execution_count": 84,
   "outputs": [
    {
     "data": {
      "text/plain": "   Site #                   Address  order_id  \\\n0       6          816 North Center  00BEC8AB   \n1      14             201 South 9th  702662D6   \n2      16            2320 West Main  0BC3FC5E   \n3      32  1001 Van Alstyne Parkway  F9F46AEF   \n4      67         3702 West FM 2147  7D8C6B67   \n5      67         3702 West FM 2147  5CDF188C   \n6      70            800 IH 20 West  EC218FA4   \n7      70            800 IH 20 West  7D285B12   \n8      71           2503 Rankin Hwy  D5782A52   \n9      80        801 West Lafayette  A348DFB6   \n10     80        801 West Lafayette  F20F6AE7   \n11     80        801 West Lafayette  CA9E35CB   \n\n                                  pickup_location  \n0                816 N Center St Bonham TX 75418   \n1                   201 S 9th St Durant OK 74701   \n2                 2320 W Main St Durant OK 74701   \n3   1001 W Van Alstyne Pkwy Van Alstyne TX 75495   \n4             3702 FM2147 Horseshoe Bay TX 78657   \n5             3702 FM2147 Horseshoe Bay TX 78657   \n6        800 W Interstate 20 Big Spring TX 79720   \n7        800 W Interstate 20 Big Spring TX 79720   \n8                   2503 TX-349 Midland TX 79706   \n9               801 Lafayette St Laredo TX 78041   \n10              801 Lafayette St Laredo TX 78041   \n11              801 Lafayette St Laredo TX 78041   ",
      "text/html": "<div>\n<style scoped>\n    .dataframe tbody tr th:only-of-type {\n        vertical-align: middle;\n    }\n\n    .dataframe tbody tr th {\n        vertical-align: top;\n    }\n\n    .dataframe thead th {\n        text-align: right;\n    }\n</style>\n<table border=\"1\" class=\"dataframe\">\n  <thead>\n    <tr style=\"text-align: right;\">\n      <th></th>\n      <th>Site #</th>\n      <th>Address</th>\n      <th>order_id</th>\n      <th>pickup_location</th>\n    </tr>\n  </thead>\n  <tbody>\n    <tr>\n      <th>0</th>\n      <td>6</td>\n      <td>816 North Center</td>\n      <td>00BEC8AB</td>\n      <td>816 N Center St Bonham TX 75418</td>\n    </tr>\n    <tr>\n      <th>1</th>\n      <td>14</td>\n      <td>201 South 9th</td>\n      <td>702662D6</td>\n      <td>201 S 9th St Durant OK 74701</td>\n    </tr>\n    <tr>\n      <th>2</th>\n      <td>16</td>\n      <td>2320 West Main</td>\n      <td>0BC3FC5E</td>\n      <td>2320 W Main St Durant OK 74701</td>\n    </tr>\n    <tr>\n      <th>3</th>\n      <td>32</td>\n      <td>1001 Van Alstyne Parkway</td>\n      <td>F9F46AEF</td>\n      <td>1001 W Van Alstyne Pkwy Van Alstyne TX 75495</td>\n    </tr>\n    <tr>\n      <th>4</th>\n      <td>67</td>\n      <td>3702 West FM 2147</td>\n      <td>7D8C6B67</td>\n      <td>3702 FM2147 Horseshoe Bay TX 78657</td>\n    </tr>\n    <tr>\n      <th>5</th>\n      <td>67</td>\n      <td>3702 West FM 2147</td>\n      <td>5CDF188C</td>\n      <td>3702 FM2147 Horseshoe Bay TX 78657</td>\n    </tr>\n    <tr>\n      <th>6</th>\n      <td>70</td>\n      <td>800 IH 20 West</td>\n      <td>EC218FA4</td>\n      <td>800 W Interstate 20 Big Spring TX 79720</td>\n    </tr>\n    <tr>\n      <th>7</th>\n      <td>70</td>\n      <td>800 IH 20 West</td>\n      <td>7D285B12</td>\n      <td>800 W Interstate 20 Big Spring TX 79720</td>\n    </tr>\n    <tr>\n      <th>8</th>\n      <td>71</td>\n      <td>2503 Rankin Hwy</td>\n      <td>D5782A52</td>\n      <td>2503 TX-349 Midland TX 79706</td>\n    </tr>\n    <tr>\n      <th>9</th>\n      <td>80</td>\n      <td>801 West Lafayette</td>\n      <td>A348DFB6</td>\n      <td>801 Lafayette St Laredo TX 78041</td>\n    </tr>\n    <tr>\n      <th>10</th>\n      <td>80</td>\n      <td>801 West Lafayette</td>\n      <td>F20F6AE7</td>\n      <td>801 Lafayette St Laredo TX 78041</td>\n    </tr>\n    <tr>\n      <th>11</th>\n      <td>80</td>\n      <td>801 West Lafayette</td>\n      <td>CA9E35CB</td>\n      <td>801 Lafayette St Laredo TX 78041</td>\n    </tr>\n  </tbody>\n</table>\n</div>"
     },
     "execution_count": 84,
     "metadata": {},
     "output_type": "execute_result"
    }
   ],
   "source": [
    "master_df.drop(['Site Description', 'City', 'County', 'State', 'address', 'city', 'state', 'Zip', 'zip_code', 'Notes', 'street_num'], axis=1, inplace=True)\n",
    "master_df"
   ],
   "metadata": {
    "collapsed": false,
    "ExecuteTime": {
     "end_time": "2023-10-02T19:15:07.095577Z",
     "start_time": "2023-10-02T19:15:07.085882Z"
    }
   },
   "id": "99cbc465597fd791"
  },
  {
   "cell_type": "code",
   "execution_count": 85,
   "outputs": [],
   "source": [
    "master_df = master_df[['Site #', 'order_id', 'Address', 'pickup_location']]"
   ],
   "metadata": {
    "collapsed": false,
    "ExecuteTime": {
     "end_time": "2023-10-02T19:15:17.577788Z",
     "start_time": "2023-10-02T19:15:17.553991Z"
    }
   },
   "id": "8ffffc5a0cf38e36"
  },
  {
   "cell_type": "code",
   "execution_count": 86,
   "outputs": [
    {
     "data": {
      "text/plain": "   Site #  order_id                   Address  \\\n0       6  00BEC8AB          816 North Center   \n1      14  702662D6             201 South 9th   \n2      16  0BC3FC5E            2320 West Main   \n3      32  F9F46AEF  1001 Van Alstyne Parkway   \n4      67  7D8C6B67         3702 West FM 2147   \n5      67  5CDF188C         3702 West FM 2147   \n6      70  EC218FA4            800 IH 20 West   \n7      70  7D285B12            800 IH 20 West   \n8      71  D5782A52           2503 Rankin Hwy   \n9      80  A348DFB6        801 West Lafayette   \n10     80  F20F6AE7        801 West Lafayette   \n11     80  CA9E35CB        801 West Lafayette   \n\n                                  pickup_location  \n0                816 N Center St Bonham TX 75418   \n1                   201 S 9th St Durant OK 74701   \n2                 2320 W Main St Durant OK 74701   \n3   1001 W Van Alstyne Pkwy Van Alstyne TX 75495   \n4             3702 FM2147 Horseshoe Bay TX 78657   \n5             3702 FM2147 Horseshoe Bay TX 78657   \n6        800 W Interstate 20 Big Spring TX 79720   \n7        800 W Interstate 20 Big Spring TX 79720   \n8                   2503 TX-349 Midland TX 79706   \n9               801 Lafayette St Laredo TX 78041   \n10              801 Lafayette St Laredo TX 78041   \n11              801 Lafayette St Laredo TX 78041   ",
      "text/html": "<div>\n<style scoped>\n    .dataframe tbody tr th:only-of-type {\n        vertical-align: middle;\n    }\n\n    .dataframe tbody tr th {\n        vertical-align: top;\n    }\n\n    .dataframe thead th {\n        text-align: right;\n    }\n</style>\n<table border=\"1\" class=\"dataframe\">\n  <thead>\n    <tr style=\"text-align: right;\">\n      <th></th>\n      <th>Site #</th>\n      <th>order_id</th>\n      <th>Address</th>\n      <th>pickup_location</th>\n    </tr>\n  </thead>\n  <tbody>\n    <tr>\n      <th>0</th>\n      <td>6</td>\n      <td>00BEC8AB</td>\n      <td>816 North Center</td>\n      <td>816 N Center St Bonham TX 75418</td>\n    </tr>\n    <tr>\n      <th>1</th>\n      <td>14</td>\n      <td>702662D6</td>\n      <td>201 South 9th</td>\n      <td>201 S 9th St Durant OK 74701</td>\n    </tr>\n    <tr>\n      <th>2</th>\n      <td>16</td>\n      <td>0BC3FC5E</td>\n      <td>2320 West Main</td>\n      <td>2320 W Main St Durant OK 74701</td>\n    </tr>\n    <tr>\n      <th>3</th>\n      <td>32</td>\n      <td>F9F46AEF</td>\n      <td>1001 Van Alstyne Parkway</td>\n      <td>1001 W Van Alstyne Pkwy Van Alstyne TX 75495</td>\n    </tr>\n    <tr>\n      <th>4</th>\n      <td>67</td>\n      <td>7D8C6B67</td>\n      <td>3702 West FM 2147</td>\n      <td>3702 FM2147 Horseshoe Bay TX 78657</td>\n    </tr>\n    <tr>\n      <th>5</th>\n      <td>67</td>\n      <td>5CDF188C</td>\n      <td>3702 West FM 2147</td>\n      <td>3702 FM2147 Horseshoe Bay TX 78657</td>\n    </tr>\n    <tr>\n      <th>6</th>\n      <td>70</td>\n      <td>EC218FA4</td>\n      <td>800 IH 20 West</td>\n      <td>800 W Interstate 20 Big Spring TX 79720</td>\n    </tr>\n    <tr>\n      <th>7</th>\n      <td>70</td>\n      <td>7D285B12</td>\n      <td>800 IH 20 West</td>\n      <td>800 W Interstate 20 Big Spring TX 79720</td>\n    </tr>\n    <tr>\n      <th>8</th>\n      <td>71</td>\n      <td>D5782A52</td>\n      <td>2503 Rankin Hwy</td>\n      <td>2503 TX-349 Midland TX 79706</td>\n    </tr>\n    <tr>\n      <th>9</th>\n      <td>80</td>\n      <td>A348DFB6</td>\n      <td>801 West Lafayette</td>\n      <td>801 Lafayette St Laredo TX 78041</td>\n    </tr>\n    <tr>\n      <th>10</th>\n      <td>80</td>\n      <td>F20F6AE7</td>\n      <td>801 West Lafayette</td>\n      <td>801 Lafayette St Laredo TX 78041</td>\n    </tr>\n    <tr>\n      <th>11</th>\n      <td>80</td>\n      <td>CA9E35CB</td>\n      <td>801 West Lafayette</td>\n      <td>801 Lafayette St Laredo TX 78041</td>\n    </tr>\n  </tbody>\n</table>\n</div>"
     },
     "execution_count": 86,
     "metadata": {},
     "output_type": "execute_result"
    }
   ],
   "source": [
    "master_df"
   ],
   "metadata": {
    "collapsed": false,
    "ExecuteTime": {
     "end_time": "2023-10-02T19:15:20.412700Z",
     "start_time": "2023-10-02T19:15:20.335087Z"
    }
   },
   "id": "f9c4cb2a7875e4bb"
  },
  {
   "cell_type": "code",
   "execution_count": 87,
   "outputs": [
    {
     "data": {
      "text/plain": "{'00BEC8AB': '6',\n '702662D6': '14',\n '0BC3FC5E': '16',\n 'F9F46AEF': '32',\n '7D8C6B67': '67',\n '5CDF188C': '67',\n 'EC218FA4': '70',\n '7D285B12': '70',\n 'D5782A52': '71',\n 'A348DFB6': '80',\n 'F20F6AE7': '80',\n 'CA9E35CB': '80'}"
     },
     "execution_count": 87,
     "metadata": {},
     "output_type": "execute_result"
    }
   ],
   "source": [
    "order_to_site_num_dict = master_df.set_index('order_id')['Site #'].to_dict()\n",
    "order_to_site_num_dict"
   ],
   "metadata": {
    "collapsed": false,
    "ExecuteTime": {
     "end_time": "2023-10-02T19:19:05.920956Z",
     "start_time": "2023-10-02T19:19:05.898521Z"
    }
   },
   "id": "830eadfbf54bbfa5"
  },
  {
   "cell_type": "code",
   "execution_count": null,
   "outputs": [],
   "source": [],
   "metadata": {
    "collapsed": false
   },
   "id": "6adc35f8c790e60e"
  }
 ],
 "metadata": {
  "kernelspec": {
   "display_name": "Python 3",
   "language": "python",
   "name": "python3"
  },
  "language_info": {
   "codemirror_mode": {
    "name": "ipython",
    "version": 2
   },
   "file_extension": ".py",
   "mimetype": "text/x-python",
   "name": "python",
   "nbconvert_exporter": "python",
   "pygments_lexer": "ipython2",
   "version": "2.7.6"
  }
 },
 "nbformat": 4,
 "nbformat_minor": 5
}
