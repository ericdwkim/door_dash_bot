{
 "cells": [
  {
   "cell_type": "code",
   "execution_count": 13,
   "id": "initial_id",
   "metadata": {
    "collapsed": true,
    "ExecuteTime": {
     "end_time": "2023-10-02T15:31:52.908014Z",
     "start_time": "2023-10-02T15:31:52.887591Z"
    }
   },
   "outputs": [],
   "source": [
    "import pandas as pd\n",
    "import re\n",
    "import json\n",
    "import csv\n",
    "from datetime import datetime"
   ]
  },
  {
   "cell_type": "code",
   "execution_count": 1,
   "outputs": [],
   "source": [
    "json_output_filepath = '/Users/ekim/workspace/personal/dd-bot/dev/json.csv'"
   ],
   "metadata": {
    "collapsed": false,
    "ExecuteTime": {
     "end_time": "2023-10-02T15:25:07.351772Z",
     "start_time": "2023-10-02T15:25:07.346312Z"
    }
   },
   "id": "a9c74671645f370f"
  },
  {
   "cell_type": "code",
   "execution_count": null,
   "outputs": [],
   "source": [
    "def get_lst_of_mapped_orders():\n",
    "    with open(json_output_filepath, 'r') as f:\n",
    "        data = json.load(f)\n",
    "        \n",
    "    return data\n",
    "    \n",
    "    \n",
    "data = get_lst_of_mapped_orders()\n",
    "# data"
   ],
   "metadata": {
    "collapsed": false
   },
   "id": "c3c1bb6a6a6a68cb"
  },
  {
   "cell_type": "code",
   "execution_count": 16,
   "outputs": [
    {
     "data": {
      "text/plain": "12"
     },
     "execution_count": 16,
     "metadata": {},
     "output_type": "execute_result"
    }
   ],
   "source": [
    "def get_store_addrs_from_pickup_location(orders):\n",
    "    store_addresses  = []\n",
    "    for order in orders:\n",
    "        store_addrs = order['Pick Up Location']\n",
    "        store_addresses.append(store_addrs)\n",
    "    return store_addresses\n",
    "\n",
    "addresses = get_store_addrs_from_pickup_location(data)\n",
    "addresses"
   ],
   "metadata": {
    "collapsed": false,
    "ExecuteTime": {
     "end_time": "2023-10-02T15:45:03.913389Z",
     "start_time": "2023-10-02T15:45:03.909057Z"
    }
   },
   "id": "3386a96bd9549261"
  },
  {
   "cell_type": "code",
   "execution_count": 17,
   "outputs": [
    {
     "name": "stdout",
     "output_type": "stream",
     "text": [
      "0 801 Lafayette St, Laredo, TX 78041, USA\n",
      "1 800 W Interstate 20, Big Spring, TX 79720, USA\n",
      "2 800 W Interstate 20, Big Spring, TX 79720, USA\n",
      "3 1001 W Van Alstyne Pkwy, Van Alstyne, TX 75495, USA\n",
      "4 3702 FM2147, Horseshoe Bay, TX 78657, USA\n",
      "5 201 S 9th St, Durant, OK 74701, USA\n",
      "6 816 N Center St, Bonham, TX 75418, USA\n",
      "7 801 Lafayette St, Laredo, TX 78041, USA\n",
      "8 801 Lafayette St, Laredo, TX 78041, USA\n",
      "9 2503 TX-349, Midland, TX 79706, USA\n",
      "10 3702 FM2147, Horseshoe Bay, TX 78657, USA\n",
      "11 2320 W Main St, Durant, OK 74701, USA\n"
     ]
    }
   ],
   "source": [
    "for idx, address in enumerate(addresses):\n",
    "    print(idx, address)"
   ],
   "metadata": {
    "collapsed": false,
    "ExecuteTime": {
     "end_time": "2023-10-02T15:52:05.002864Z",
     "start_time": "2023-10-02T15:52:04.984037Z"
    }
   },
   "id": "d108f6684699b9f6"
  },
  {
   "cell_type": "code",
   "execution_count": null,
   "outputs": [],
   "source": [
    "import pandas as pd\n",
    "\n",
    "# Sample DataFrame\n",
    "df = pd.DataFrame({\n",
    "    'Key': [1, 2, 3],\n",
    "    'Col1': ['a', 'd', 'g'],\n",
    "    'Col2': ['b', 'e', 'h'],\n",
    "    'Col3': ['c', 'f', 'i'],\n",
    "    'Col4': ['j', 'k', 'l'],\n",
    "    'Col5': ['m', 'n', 'o']\n",
    "})\n",
    "\n",
    "# Convert to dictionary\n",
    "result = {}\n",
    "for index, row in df.iterrows():\n",
    "    key = row['Key']\n",
    "    value = ''.join([str(row[col]) for col in df.columns[1:6]])\n",
    "    result[key] = value\n",
    "\n",
    "print(result)\n"
   ],
   "metadata": {
    "collapsed": false
   },
   "id": "6c9c2164976965ee"
  }
 ],
 "metadata": {
  "kernelspec": {
   "display_name": "Python 3",
   "language": "python",
   "name": "python3"
  },
  "language_info": {
   "codemirror_mode": {
    "name": "ipython",
    "version": 2
   },
   "file_extension": ".py",
   "mimetype": "text/x-python",
   "name": "python",
   "nbconvert_exporter": "python",
   "pygments_lexer": "ipython2",
   "version": "2.7.6"
  }
 },
 "nbformat": 4,
 "nbformat_minor": 5
}
