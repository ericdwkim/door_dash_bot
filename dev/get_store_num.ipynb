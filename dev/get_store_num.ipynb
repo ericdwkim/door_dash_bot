{
 "cells": [
  {
   "cell_type": "code",
   "execution_count": 2,
   "id": "initial_id",
   "metadata": {
    "collapsed": true,
    "ExecuteTime": {
     "end_time": "2023-10-02T22:58:02.247107Z",
     "start_time": "2023-10-02T22:58:01.276228Z"
    }
   },
   "outputs": [
    {
     "name": "stdout",
     "output_type": "stream",
     "text": [
      "Intel MKL WARNING: Support of Intel(R) Streaming SIMD Extensions 4.2 (Intel(R) SSE4.2) enabled only processors has been deprecated. Intel oneAPI Math Kernel Library 2025.0 will require Intel(R) Advanced Vector Extensions (Intel(R) AVX) instructions.\n",
      "Intel MKL WARNING: Support of Intel(R) Streaming SIMD Extensions 4.2 (Intel(R) SSE4.2) enabled only processors has been deprecated. Intel oneAPI Math Kernel Library 2025.0 will require Intel(R) Advanced Vector Extensions (Intel(R) AVX) instructions.\n"
     ]
    }
   ],
   "source": [
    "import pandas as pd\n",
    "import re\n",
    "import json\n",
    "import csv\n",
    "from datetime import datetime"
   ]
  },
  {
   "cell_type": "code",
   "execution_count": 3,
   "outputs": [],
   "source": [
    "json_output_filepath = '/Users/ekim/workspace/personal/dd-bot/dev/json.csv'"
   ],
   "metadata": {
    "collapsed": false,
    "ExecuteTime": {
     "end_time": "2023-10-02T22:58:02.835670Z",
     "start_time": "2023-10-02T22:58:02.830010Z"
    }
   },
   "id": "a9c74671645f370f"
  },
  {
   "cell_type": "code",
   "execution_count": 4,
   "outputs": [
    {
     "data": {
      "text/plain": "[{'Order': 'A348DFB6',\n  'Delivered': 'The order was delivered at 11:47 PM on September 28, 2023.',\n  'Pick Up Location': '801 Lafayette St, Laredo, TX 78041, USA',\n  'Order Details': {'1 × Ice Small (Fountain, Frozen, & Tea)': '$4.99',\n   ' 2 × TXB Water Bottle (24 pk) (16.9 oz) (Water TX)': '$14.98'},\n  'Subtotal': '$19.97',\n  'Subtotal Tax': '$0.41',\n  'Commission (23%)': '-$4.59',\n  'Total Customer Refund': '-$0.00',\n  'Estimated Payout': '$15.79',\n  'Transaction #8087670804 - Delivery': '$15.79'},\n {'Order': 'EC218FA4',\n  'Delivered': 'The order was delivered at 11:22 PM on September 28, 2023.',\n  'Pick Up Location': '800 W Interstate 20, Big Spring, TX 79720, USA',\n  'Order Details': {'1 × Ice Small (Fountain, Frozen, & Tea)': '$4.99'},\n  'Subtotal': '$4.99',\n  'Subtotal Tax': '$0.41',\n  'Commission (16%)': '-$0.80',\n  'Total Customer Refund': '-$0.00',\n  'Estimated Payout': '$4.60',\n  'Transaction #8087614462 - Delivery': '$4.60'},\n {'Order': '7D285B12',\n  'Delivered': 'The order was delivered at 10:23 PM on September 28, 2023.',\n  'Pick Up Location': '800 W Interstate 20, Big Spring, TX 79720, USA',\n  'Order Details': {'1 × Big Red Bottle (20oz) (Soda TX)': '$3.79',\n   ' 1 × Fountain Drink (Fountain, Frozen, & Tea) Drink Selection: Dr Pepper': '$0.00',\n   ' 1 × Crush Orange Bottle (20oz) (Soda TX)': '$3.79',\n   ' 1 × Big Blue Bottle (20oz) (Soda TX)': '$3.79'},\n  'Subtotal': '$11.37',\n  'Subtotal Tax': '$0.94',\n  'Commission (23%)': '-$2.62',\n  'Total Customer Refund': '-$0.00',\n  'Estimated Payout': '$9.69',\n  'Transaction #8087246804 - Delivery': '$9.69'},\n {'Order': 'F9F46AEF',\n  'Delivered': 'The order was delivered at 7:47 PM on September 28, 2023.',\n  'Pick Up Location': '1001 W Van Alstyne Pkwy, Van Alstyne, TX 75495, USA',\n  'Order Details': {\"1 × Cheetos Crunchy Flamin' Hot (3.25 oz) (Chips & Popcorn TX)\": '$3.19',\n   ' 1 × Squirt Bottle (20 oz) (Soda TX)': '$3.19',\n   ' 2 × Dr Pepper Bottle (20 oz) (Soda TX)': '$7.58',\n   ' 1 × Doritos Nacho Cheese (9.25 oz) (Chips & Popcorn TX)': '$6.99'},\n  'Subtotal': '$20.95',\n  'Subtotal Tax': '$0.89',\n  'Commission (23%)': '-$4.82',\n  'Total Customer Refund': '-$0.00',\n  'Estimated Payout': '$17.02',\n  'Transaction #8085798910 - Delivery': '$17.02'},\n {'Order': '7D8C6B67',\n  'Delivered': 'The order was delivered at 6:07 PM on September 28, 2023.',\n  'Pick Up Location': '3702 FM2147, Horseshoe Bay, TX 78657, USA',\n  'Order Details': {'1 × Sprite Bottle (20 oz) (Soda TX)': '$3.19',\n   ' 2 × Dr Pepper Bottle (20 oz) (Soda TX)': '$7.58'},\n  'Subtotal': '$10.77',\n  'Subtotal Tax': '$0.89',\n  'Commission (20%)': '-$2.15',\n  'Total Customer Refund': '-$0.00',\n  'Estimated Payout': '$9.51',\n  'Transaction #8084663509 - Delivery': '$9.51'},\n {'Order': '702662D6',\n  'Delivered': 'The order was delivered at 4:16 PM on September 28, 2023.',\n  'Pick Up Location': '201 S 9th St, Durant, OK 74701, USA',\n  'Order Details': {'1 × Keystone Light Beer Can (12 oz x 15 ct) (Domestic Beer OK)': '$16.29'},\n  'Subtotal': '$16.29',\n  'Subtotal Tax': '$1.53 Alcohol Fee -$1.00',\n  'Total Customer Refund': '-$0.00',\n  'Estimated Payout': '$15.29',\n  'Transaction #8083626907 - Delivery': '$15.29'},\n {'Order': '00BEC8AB',\n  'Delivered': 'The order was delivered at 11:48 AM on September 28, 2023.',\n  'Pick Up Location': '816 N Center St, Bonham, TX 75418, USA',\n  'Order Details': {'1 × Hand-Breaded Chicken Roll Sandwich (Hot Sandwiches TXB#6) Dipping Sauce: Honey Mustard Dipping Sauce Original or Spicy: Original': '$4.19',\n   ' 1 × Fountain Drink (Fountain, Frozen, & Tea) Drink Selection: Diet Dr Pepper': '$0.00'},\n  'Subtotal': '$4.19',\n  'Subtotal Tax': '$0.35',\n  'Commission (16%)': '-$0.67',\n  'Total Customer Refund': '-$0.00',\n  'Estimated Payout': '$3.87',\n  'Transaction #8081758649 - Delivery': '$3.87'},\n {'Order': 'F20F6AE7',\n  'Delivered': 'The order was delivered at 2:55 AM on September 28, 2023.',\n  'Pick Up Location': '801 Lafayette St, Laredo, TX 78041, USA',\n  'Order Details': {\"1 × Cheetos Crunchy Flamin' Hot (3.25 oz) (Chips & Popcorn TX)\": '$3.19',\n   ' 1 × Big Red Can (12 pk-12 oz) (Soda TX)': '$11.29',\n   ' 1 × Ice Small (Fountain, Frozen, & Tea)': '$4.99'},\n  'Subtotal': '$19.47',\n  'Subtotal Tax': '$1.34',\n  'Commission (16%)': '-$3.12',\n  'Total Customer Refund': '-$0.00',\n  'Estimated Payout': '$17.69',\n  'Transaction #8080315650 - Delivery': '$17.69'},\n {'Order': 'CA9E35CB',\n  'Delivered': 'The order was delivered at 2:28 AM on September 28, 2023.',\n  'Pick Up Location': '801 Lafayette St, Laredo, TX 78041, USA',\n  'Order Details': {'1 × Kettle Chips Jalapeno (5oz) (Chips & Popcorn TX)': '$6.29',\n   ' 1 × A&W Caffeine-Free Root Beer Bottle (20 oz) (Soda TX)': '$3.79',\n   \" 1 × Cheetos Crunchy Flamin' Hot Limon (8.5 oz) (Chips & Popcorn TX)\": '$6.49'},\n  'Subtotal': '$16.57',\n  'Subtotal Tax': '$0.31',\n  'Commission (16%)': '-$2.65',\n  'Total Customer Refund': '-$0.00',\n  'Estimated Payout': '$14.23',\n  'Transaction #8080266865 - Delivery': '$14.23'},\n {'Order': 'D5782A52',\n  'Cancelled - Paid': 'The order was cancelled on September 28, 2023 at 1:00 AM. You’re paid for cancelled orders when you’ve successfully confirmed an order, it was prepared, and you did not initiate or are not at fault for the cancellation.',\n  'Pick Up Location': '2503 TX-349, Midland, TX 79706, USA',\n  'Order Details': {\"1 × Hershey's Plain King Size (2.6 oz) (Chocolate TX)\": '$3.79',\n   ' 1 × Kraft Philadelphia Cream Cheese, 8oz (Cheese TX)': '$8.39'},\n  'Subtotal': '$12.18',\n  'Subtotal Tax': '$0.30',\n  'Commission (23%)': '-$2.80',\n  'Total Customer Refund': '-$0.00',\n  'Estimated Payout': '$9.68',\n  'Transaction #8080161083 - Delivery': '$9.68'},\n {'Order': '5CDF188C',\n  'Cancelled - Paid': 'The order was cancelled on September 28, 2023 at 12:45 AM. You’re paid for cancelled orders when you’ve successfully confirmed an order, it was prepared, and you did not initiate or are not at fault for the cancellation.',\n  'Pick Up Location': '3702 FM2147, Horseshoe Bay, TX 78657, USA',\n  'Order Details': {'4 × Corona Extra Beer Can (24 oz) (Import Beer 53/66/67)': '$22.76'},\n  'Subtotal': '$22.76',\n  'Subtotal Tax': '$1.88',\n  'Commission (25%)': '-$5.69',\n  'Total Customer Refund': '-$0.00',\n  'Estimated Payout': '$18.95',\n  'Transaction #8080129920 - Delivery': '$18.95'},\n {'Order': '0BC3FC5E',\n  'Delivered': 'The order was delivered at 12:36 AM on September 28, 2023.',\n  'Pick Up Location': '2320 W Main St, Durant, OK 74701, USA',\n  'Order Details': {\"1 × Lay's Classic Potato Chips (7.75 oz) (Chips & Popcorn OK)\": '$5.79',\n   \" 1 × Reese's Peanut Butter Cups King Size (2.84 oz) (Chocolate OK)\": '$3.39',\n   ' 1 × Air Heads Bites (2oz) (Fruity OK)': '$4.99',\n   ' 1 × Crush Orange Can (12pk 12oz) (Soda OK)': '$11.29'},\n  'Subtotal': '$25.46 Promo Paid by DoorDash -$15.00 (60% off, up to $15) Subtotal for Tax Calculations $10.46',\n  'Subtotal Tax': '$0.98',\n  'Commission (23%)': '-$5.86',\n  'Total Customer Refund': '-$0.00',\n  'Estimated Payout': '$19.60',\n  'Transaction #8080078554 - Delivery': '$19.60'}]"
     },
     "execution_count": 4,
     "metadata": {},
     "output_type": "execute_result"
    }
   ],
   "source": [
    "def get_lst_of_mapped_orders():\n",
    "    with open(json_output_filepath, 'r') as f:\n",
    "        data = json.load(f)\n",
    "        \n",
    "    return data\n",
    "    \n",
    "    \n",
    "data = get_lst_of_mapped_orders()\n",
    "data"
   ],
   "metadata": {
    "collapsed": false,
    "ExecuteTime": {
     "end_time": "2023-10-02T22:58:03.558848Z",
     "start_time": "2023-10-02T22:58:03.551326Z"
    }
   },
   "id": "c3c1bb6a6a6a68cb"
  },
  {
   "cell_type": "code",
   "execution_count": 5,
   "outputs": [
    {
     "data": {
      "text/plain": "{'A348DFB6': '801 Lafayette St, Laredo, TX 78041, USA',\n 'EC218FA4': '800 W Interstate 20, Big Spring, TX 79720, USA',\n '7D285B12': '800 W Interstate 20, Big Spring, TX 79720, USA',\n 'F9F46AEF': '1001 W Van Alstyne Pkwy, Van Alstyne, TX 75495, USA',\n '7D8C6B67': '3702 FM2147, Horseshoe Bay, TX 78657, USA',\n '702662D6': '201 S 9th St, Durant, OK 74701, USA',\n '00BEC8AB': '816 N Center St, Bonham, TX 75418, USA',\n 'F20F6AE7': '801 Lafayette St, Laredo, TX 78041, USA',\n 'CA9E35CB': '801 Lafayette St, Laredo, TX 78041, USA',\n 'D5782A52': '2503 TX-349, Midland, TX 79706, USA',\n '5CDF188C': '3702 FM2147, Horseshoe Bay, TX 78657, USA',\n '0BC3FC5E': '2320 W Main St, Durant, OK 74701, USA'}"
     },
     "execution_count": 5,
     "metadata": {},
     "output_type": "execute_result"
    }
   ],
   "source": [
    "def map_order_to_location(orders):\n",
    "    order_id_to_pickup_location  = {}\n",
    "    for order in orders:\n",
    "        order_id = order['Order']\n",
    "        store_addrs = order['Pick Up Location']\n",
    "        order_id_to_pickup_location[order_id] = store_addrs\n",
    "    return order_id_to_pickup_location\n",
    "\n",
    "order_to_location = map_order_to_location(data)\n",
    "order_to_location"
   ],
   "metadata": {
    "collapsed": false,
    "ExecuteTime": {
     "end_time": "2023-10-02T22:58:04.698541Z",
     "start_time": "2023-10-02T22:58:04.691193Z"
    }
   },
   "id": "3386a96bd9549261"
  },
  {
   "cell_type": "code",
   "execution_count": 6,
   "outputs": [
    {
     "data": {
      "text/plain": "0                 801 Lafayette St Laredo TX 78041 \n1          800 W Interstate 20 Big Spring TX 79720 \n2          800 W Interstate 20 Big Spring TX 79720 \n3     1001 W Van Alstyne Pkwy Van Alstyne TX 75495 \n4               3702 FM2147 Horseshoe Bay TX 78657 \n5                     201 S 9th St Durant OK 74701 \n6                  816 N Center St Bonham TX 75418 \n7                 801 Lafayette St Laredo TX 78041 \n8                 801 Lafayette St Laredo TX 78041 \n9                     2503 TX-349 Midland TX 79706 \n10              3702 FM2147 Horseshoe Bay TX 78657 \n11                  2320 W Main St Durant OK 74701 \nName: pickup_location, dtype: object"
     },
     "execution_count": 6,
     "metadata": {},
     "output_type": "execute_result"
    }
   ],
   "source": [
    "lst_of_tups = list(order_to_location.items())\n",
    "\n",
    "df = pd.DataFrame(lst_of_tups, columns=['order_id', 'pickup_location'])\n",
    "# Remove all commas\n",
    "df['pickup_location'] = df['pickup_location'].str.replace(',', '')\n",
    "\n",
    "# Remove \"USA\" substring\n",
    "df['pickup_location'] = df['pickup_location'].str.replace('USA', '')\n",
    "\n",
    "\n",
    "df['pickup_location']"
   ],
   "metadata": {
    "collapsed": false,
    "ExecuteTime": {
     "end_time": "2023-10-02T22:58:05.653595Z",
     "start_time": "2023-10-02T22:58:05.650820Z"
    }
   },
   "id": "f4c6119f664aa5c"
  },
  {
   "cell_type": "code",
   "execution_count": 8,
   "outputs": [
    {
     "data": {
      "text/plain": "    order_id                                pickup_location  \\\n0   A348DFB6              801 Lafayette St Laredo TX 78041    \n1   EC218FA4       800 W Interstate 20 Big Spring TX 79720    \n2   7D285B12       800 W Interstate 20 Big Spring TX 79720    \n3   F9F46AEF  1001 W Van Alstyne Pkwy Van Alstyne TX 75495    \n4   7D8C6B67            3702 FM2147 Horseshoe Bay TX 78657    \n5   702662D6                  201 S 9th St Durant OK 74701    \n6   00BEC8AB               816 N Center St Bonham TX 75418    \n7   F20F6AE7              801 Lafayette St Laredo TX 78041    \n8   CA9E35CB              801 Lafayette St Laredo TX 78041    \n9   D5782A52                  2503 TX-349 Midland TX 79706    \n10  5CDF188C            3702 FM2147 Horseshoe Bay TX 78657    \n11  0BC3FC5E                2320 W Main St Durant OK 74701    \n\n                    address           city state zip_code street_num  \n0             801 Lafayette      St Laredo    TX    78041        801  \n1       800 W Interstate 20     Big Spring    TX    79720        800  \n2       800 W Interstate 20     Big Spring    TX    79720        800  \n3   1001 W Van Alstyne Pkwy    Van Alstyne    TX    75495       1001  \n4               3702 FM2147  Horseshoe Bay    TX    78657       3702  \n5                 201 S 9th      St Durant    OK    74701        201  \n6              816 N Center      St Bonham    TX    75418        816  \n7             801 Lafayette      St Laredo    TX    78041        801  \n8             801 Lafayette      St Laredo    TX    78041        801  \n9               2503 TX-349        Midland    TX    79706       2503  \n10              3702 FM2147  Horseshoe Bay    TX    78657       3702  \n11              2320 W Main      St Durant    OK    74701       2320  ",
      "text/html": "<div>\n<style scoped>\n    .dataframe tbody tr th:only-of-type {\n        vertical-align: middle;\n    }\n\n    .dataframe tbody tr th {\n        vertical-align: top;\n    }\n\n    .dataframe thead th {\n        text-align: right;\n    }\n</style>\n<table border=\"1\" class=\"dataframe\">\n  <thead>\n    <tr style=\"text-align: right;\">\n      <th></th>\n      <th>order_id</th>\n      <th>pickup_location</th>\n      <th>address</th>\n      <th>city</th>\n      <th>state</th>\n      <th>zip_code</th>\n      <th>street_num</th>\n    </tr>\n  </thead>\n  <tbody>\n    <tr>\n      <th>0</th>\n      <td>A348DFB6</td>\n      <td>801 Lafayette St Laredo TX 78041</td>\n      <td>801 Lafayette</td>\n      <td>St Laredo</td>\n      <td>TX</td>\n      <td>78041</td>\n      <td>801</td>\n    </tr>\n    <tr>\n      <th>1</th>\n      <td>EC218FA4</td>\n      <td>800 W Interstate 20 Big Spring TX 79720</td>\n      <td>800 W Interstate 20</td>\n      <td>Big Spring</td>\n      <td>TX</td>\n      <td>79720</td>\n      <td>800</td>\n    </tr>\n    <tr>\n      <th>2</th>\n      <td>7D285B12</td>\n      <td>800 W Interstate 20 Big Spring TX 79720</td>\n      <td>800 W Interstate 20</td>\n      <td>Big Spring</td>\n      <td>TX</td>\n      <td>79720</td>\n      <td>800</td>\n    </tr>\n    <tr>\n      <th>3</th>\n      <td>F9F46AEF</td>\n      <td>1001 W Van Alstyne Pkwy Van Alstyne TX 75495</td>\n      <td>1001 W Van Alstyne Pkwy</td>\n      <td>Van Alstyne</td>\n      <td>TX</td>\n      <td>75495</td>\n      <td>1001</td>\n    </tr>\n    <tr>\n      <th>4</th>\n      <td>7D8C6B67</td>\n      <td>3702 FM2147 Horseshoe Bay TX 78657</td>\n      <td>3702 FM2147</td>\n      <td>Horseshoe Bay</td>\n      <td>TX</td>\n      <td>78657</td>\n      <td>3702</td>\n    </tr>\n    <tr>\n      <th>5</th>\n      <td>702662D6</td>\n      <td>201 S 9th St Durant OK 74701</td>\n      <td>201 S 9th</td>\n      <td>St Durant</td>\n      <td>OK</td>\n      <td>74701</td>\n      <td>201</td>\n    </tr>\n    <tr>\n      <th>6</th>\n      <td>00BEC8AB</td>\n      <td>816 N Center St Bonham TX 75418</td>\n      <td>816 N Center</td>\n      <td>St Bonham</td>\n      <td>TX</td>\n      <td>75418</td>\n      <td>816</td>\n    </tr>\n    <tr>\n      <th>7</th>\n      <td>F20F6AE7</td>\n      <td>801 Lafayette St Laredo TX 78041</td>\n      <td>801 Lafayette</td>\n      <td>St Laredo</td>\n      <td>TX</td>\n      <td>78041</td>\n      <td>801</td>\n    </tr>\n    <tr>\n      <th>8</th>\n      <td>CA9E35CB</td>\n      <td>801 Lafayette St Laredo TX 78041</td>\n      <td>801 Lafayette</td>\n      <td>St Laredo</td>\n      <td>TX</td>\n      <td>78041</td>\n      <td>801</td>\n    </tr>\n    <tr>\n      <th>9</th>\n      <td>D5782A52</td>\n      <td>2503 TX-349 Midland TX 79706</td>\n      <td>2503 TX-349</td>\n      <td>Midland</td>\n      <td>TX</td>\n      <td>79706</td>\n      <td>2503</td>\n    </tr>\n    <tr>\n      <th>10</th>\n      <td>5CDF188C</td>\n      <td>3702 FM2147 Horseshoe Bay TX 78657</td>\n      <td>3702 FM2147</td>\n      <td>Horseshoe Bay</td>\n      <td>TX</td>\n      <td>78657</td>\n      <td>3702</td>\n    </tr>\n    <tr>\n      <th>11</th>\n      <td>0BC3FC5E</td>\n      <td>2320 W Main St Durant OK 74701</td>\n      <td>2320 W Main</td>\n      <td>St Durant</td>\n      <td>OK</td>\n      <td>74701</td>\n      <td>2320</td>\n    </tr>\n  </tbody>\n</table>\n</div>"
     },
     "execution_count": 8,
     "metadata": {},
     "output_type": "execute_result"
    }
   ],
   "source": [
    "# Regular expression to capture address, city, state, and zip_code\n",
    "pattern = r'(?P<address>^.+?)\\s(?P<city>\\w+\\s*\\w*)\\s(?P<state>[A-Z]{2})\\s(?P<zip_code>\\d{5})'\n",
    "\n",
    "# Extract components into new DataFrame columns\n",
    "df_extracted = df['pickup_location'].str.extract(pattern)\n",
    "# Concatenating the new columns with the original DataFrame\n",
    "pickup_location_df = pd.concat([df, df_extracted], axis=1)\n",
    "\n",
    "street_num_pattern = r'(?P<street_num>\\b\\d{3,5}\\b)'\n",
    "\n",
    "\n",
    "addrs_extracted_df = pickup_location_df['address'].str.extract(street_num_pattern)\n",
    "\n",
    "\n",
    "\n",
    "pickup_location_df = pd.concat([pickup_location_df, addrs_extracted_df], axis=1)\n",
    "# pickup_location_df['zip_code'] = pickup_location_df['zip_code'].astype(str)\n",
    "\n",
    "pickup_location_df"
   ],
   "metadata": {
    "collapsed": false,
    "ExecuteTime": {
     "end_time": "2023-10-02T23:03:03.975013Z",
     "start_time": "2023-10-02T23:03:03.972221Z"
    }
   },
   "id": "1fcd2b81e2fb37a7"
  },
  {
   "cell_type": "markdown",
   "source": [],
   "metadata": {
    "collapsed": false
   },
   "id": "7df8fc44c596104e"
  },
  {
   "cell_type": "code",
   "execution_count": 60,
   "outputs": [
    {
     "data": {
      "text/plain": "Site #              object\nSite Description    object\nAddress             object\nCity                object\nCounty              object\nState               object\nZip                 object\nNotes               object\nstreet_num          object\ndtype: object"
     },
     "execution_count": 60,
     "metadata": {},
     "output_type": "execute_result"
    }
   ],
   "source": [
    "file_path = '/Users/ekim/workspace/personal/dd-bot/dev/store_list.xlsx'\n",
    "# # print(file_path)\n",
    "\n",
    "store_info_masterset_df = pd.read_excel(file_path, index_col=0)\n",
    "\n",
    "\n",
    "street_num_pattern = r'(?P<street_num>\\b\\d{3,5}\\b)'\n",
    "street_num_df = store_info_masterset_df['Address'].str.extract(street_num_pattern)\n",
    "\n",
    "store_info_masterset_df = pd.concat([store_info_masterset_df, street_num_df], axis=1)\n",
    "\n",
    "store_info_masterset_df['Site #'] = store_info_masterset_df['Site #'].astype(str)\n",
    "store_info_masterset_df['Zip'] = store_info_masterset_df['Zip'].astype(str)\n",
    "store_info_masterset_df['street_num'] = store_info_masterset_df['street_num'].astype(str)\n",
    "\n",
    "store_info_masterset_df.dtypes\n"
   ],
   "metadata": {
    "collapsed": false,
    "ExecuteTime": {
     "end_time": "2023-10-02T19:03:35.673595Z",
     "start_time": "2023-10-02T19:03:35.651175Z"
    }
   },
   "id": "c3aa0ce20b1a346c"
  },
  {
   "cell_type": "code",
   "execution_count": 83,
   "outputs": [],
   "source": [
    "master_df = pd.merge(store_info_masterset_df, pickup_location_df, left_on=['Zip', 'street_num'], right_on=['zip_code', 'street_num'], how='inner')"
   ],
   "metadata": {
    "collapsed": false,
    "ExecuteTime": {
     "end_time": "2023-10-02T19:15:06.736999Z",
     "start_time": "2023-10-02T19:15:06.722133Z"
    }
   },
   "id": "a1251ef503c23d43"
  },
  {
   "cell_type": "code",
   "execution_count": 84,
   "outputs": [
    {
     "data": {
      "text/plain": "   Site #                   Address  order_id  \\\n0       6          816 North Center  00BEC8AB   \n1      14             201 South 9th  702662D6   \n2      16            2320 West Main  0BC3FC5E   \n3      32  1001 Van Alstyne Parkway  F9F46AEF   \n4      67         3702 West FM 2147  7D8C6B67   \n5      67         3702 West FM 2147  5CDF188C   \n6      70            800 IH 20 West  EC218FA4   \n7      70            800 IH 20 West  7D285B12   \n8      71           2503 Rankin Hwy  D5782A52   \n9      80        801 West Lafayette  A348DFB6   \n10     80        801 West Lafayette  F20F6AE7   \n11     80        801 West Lafayette  CA9E35CB   \n\n                                  pickup_location  \n0                816 N Center St Bonham TX 75418   \n1                   201 S 9th St Durant OK 74701   \n2                 2320 W Main St Durant OK 74701   \n3   1001 W Van Alstyne Pkwy Van Alstyne TX 75495   \n4             3702 FM2147 Horseshoe Bay TX 78657   \n5             3702 FM2147 Horseshoe Bay TX 78657   \n6        800 W Interstate 20 Big Spring TX 79720   \n7        800 W Interstate 20 Big Spring TX 79720   \n8                   2503 TX-349 Midland TX 79706   \n9               801 Lafayette St Laredo TX 78041   \n10              801 Lafayette St Laredo TX 78041   \n11              801 Lafayette St Laredo TX 78041   ",
      "text/html": "<div>\n<style scoped>\n    .dataframe tbody tr th:only-of-type {\n        vertical-align: middle;\n    }\n\n    .dataframe tbody tr th {\n        vertical-align: top;\n    }\n\n    .dataframe thead th {\n        text-align: right;\n    }\n</style>\n<table border=\"1\" class=\"dataframe\">\n  <thead>\n    <tr style=\"text-align: right;\">\n      <th></th>\n      <th>Site #</th>\n      <th>Address</th>\n      <th>order_id</th>\n      <th>pickup_location</th>\n    </tr>\n  </thead>\n  <tbody>\n    <tr>\n      <th>0</th>\n      <td>6</td>\n      <td>816 North Center</td>\n      <td>00BEC8AB</td>\n      <td>816 N Center St Bonham TX 75418</td>\n    </tr>\n    <tr>\n      <th>1</th>\n      <td>14</td>\n      <td>201 South 9th</td>\n      <td>702662D6</td>\n      <td>201 S 9th St Durant OK 74701</td>\n    </tr>\n    <tr>\n      <th>2</th>\n      <td>16</td>\n      <td>2320 West Main</td>\n      <td>0BC3FC5E</td>\n      <td>2320 W Main St Durant OK 74701</td>\n    </tr>\n    <tr>\n      <th>3</th>\n      <td>32</td>\n      <td>1001 Van Alstyne Parkway</td>\n      <td>F9F46AEF</td>\n      <td>1001 W Van Alstyne Pkwy Van Alstyne TX 75495</td>\n    </tr>\n    <tr>\n      <th>4</th>\n      <td>67</td>\n      <td>3702 West FM 2147</td>\n      <td>7D8C6B67</td>\n      <td>3702 FM2147 Horseshoe Bay TX 78657</td>\n    </tr>\n    <tr>\n      <th>5</th>\n      <td>67</td>\n      <td>3702 West FM 2147</td>\n      <td>5CDF188C</td>\n      <td>3702 FM2147 Horseshoe Bay TX 78657</td>\n    </tr>\n    <tr>\n      <th>6</th>\n      <td>70</td>\n      <td>800 IH 20 West</td>\n      <td>EC218FA4</td>\n      <td>800 W Interstate 20 Big Spring TX 79720</td>\n    </tr>\n    <tr>\n      <th>7</th>\n      <td>70</td>\n      <td>800 IH 20 West</td>\n      <td>7D285B12</td>\n      <td>800 W Interstate 20 Big Spring TX 79720</td>\n    </tr>\n    <tr>\n      <th>8</th>\n      <td>71</td>\n      <td>2503 Rankin Hwy</td>\n      <td>D5782A52</td>\n      <td>2503 TX-349 Midland TX 79706</td>\n    </tr>\n    <tr>\n      <th>9</th>\n      <td>80</td>\n      <td>801 West Lafayette</td>\n      <td>A348DFB6</td>\n      <td>801 Lafayette St Laredo TX 78041</td>\n    </tr>\n    <tr>\n      <th>10</th>\n      <td>80</td>\n      <td>801 West Lafayette</td>\n      <td>F20F6AE7</td>\n      <td>801 Lafayette St Laredo TX 78041</td>\n    </tr>\n    <tr>\n      <th>11</th>\n      <td>80</td>\n      <td>801 West Lafayette</td>\n      <td>CA9E35CB</td>\n      <td>801 Lafayette St Laredo TX 78041</td>\n    </tr>\n  </tbody>\n</table>\n</div>"
     },
     "execution_count": 84,
     "metadata": {},
     "output_type": "execute_result"
    }
   ],
   "source": [
    "master_df.drop(['Site Description', 'City', 'County', 'State', 'address', 'city', 'state', 'Zip', 'zip_code', 'Notes', 'street_num'], axis=1, inplace=True)\n",
    "master_df"
   ],
   "metadata": {
    "collapsed": false,
    "ExecuteTime": {
     "end_time": "2023-10-02T19:15:07.095577Z",
     "start_time": "2023-10-02T19:15:07.085882Z"
    }
   },
   "id": "99cbc465597fd791"
  },
  {
   "cell_type": "code",
   "execution_count": 85,
   "outputs": [],
   "source": [
    "master_df = master_df[['Site #', 'order_id', 'Address', 'pickup_location']]"
   ],
   "metadata": {
    "collapsed": false,
    "ExecuteTime": {
     "end_time": "2023-10-02T19:15:17.577788Z",
     "start_time": "2023-10-02T19:15:17.553991Z"
    }
   },
   "id": "8ffffc5a0cf38e36"
  },
  {
   "cell_type": "code",
   "execution_count": 86,
   "outputs": [
    {
     "data": {
      "text/plain": "   Site #  order_id                   Address  \\\n0       6  00BEC8AB          816 North Center   \n1      14  702662D6             201 South 9th   \n2      16  0BC3FC5E            2320 West Main   \n3      32  F9F46AEF  1001 Van Alstyne Parkway   \n4      67  7D8C6B67         3702 West FM 2147   \n5      67  5CDF188C         3702 West FM 2147   \n6      70  EC218FA4            800 IH 20 West   \n7      70  7D285B12            800 IH 20 West   \n8      71  D5782A52           2503 Rankin Hwy   \n9      80  A348DFB6        801 West Lafayette   \n10     80  F20F6AE7        801 West Lafayette   \n11     80  CA9E35CB        801 West Lafayette   \n\n                                  pickup_location  \n0                816 N Center St Bonham TX 75418   \n1                   201 S 9th St Durant OK 74701   \n2                 2320 W Main St Durant OK 74701   \n3   1001 W Van Alstyne Pkwy Van Alstyne TX 75495   \n4             3702 FM2147 Horseshoe Bay TX 78657   \n5             3702 FM2147 Horseshoe Bay TX 78657   \n6        800 W Interstate 20 Big Spring TX 79720   \n7        800 W Interstate 20 Big Spring TX 79720   \n8                   2503 TX-349 Midland TX 79706   \n9               801 Lafayette St Laredo TX 78041   \n10              801 Lafayette St Laredo TX 78041   \n11              801 Lafayette St Laredo TX 78041   ",
      "text/html": "<div>\n<style scoped>\n    .dataframe tbody tr th:only-of-type {\n        vertical-align: middle;\n    }\n\n    .dataframe tbody tr th {\n        vertical-align: top;\n    }\n\n    .dataframe thead th {\n        text-align: right;\n    }\n</style>\n<table border=\"1\" class=\"dataframe\">\n  <thead>\n    <tr style=\"text-align: right;\">\n      <th></th>\n      <th>Site #</th>\n      <th>order_id</th>\n      <th>Address</th>\n      <th>pickup_location</th>\n    </tr>\n  </thead>\n  <tbody>\n    <tr>\n      <th>0</th>\n      <td>6</td>\n      <td>00BEC8AB</td>\n      <td>816 North Center</td>\n      <td>816 N Center St Bonham TX 75418</td>\n    </tr>\n    <tr>\n      <th>1</th>\n      <td>14</td>\n      <td>702662D6</td>\n      <td>201 South 9th</td>\n      <td>201 S 9th St Durant OK 74701</td>\n    </tr>\n    <tr>\n      <th>2</th>\n      <td>16</td>\n      <td>0BC3FC5E</td>\n      <td>2320 West Main</td>\n      <td>2320 W Main St Durant OK 74701</td>\n    </tr>\n    <tr>\n      <th>3</th>\n      <td>32</td>\n      <td>F9F46AEF</td>\n      <td>1001 Van Alstyne Parkway</td>\n      <td>1001 W Van Alstyne Pkwy Van Alstyne TX 75495</td>\n    </tr>\n    <tr>\n      <th>4</th>\n      <td>67</td>\n      <td>7D8C6B67</td>\n      <td>3702 West FM 2147</td>\n      <td>3702 FM2147 Horseshoe Bay TX 78657</td>\n    </tr>\n    <tr>\n      <th>5</th>\n      <td>67</td>\n      <td>5CDF188C</td>\n      <td>3702 West FM 2147</td>\n      <td>3702 FM2147 Horseshoe Bay TX 78657</td>\n    </tr>\n    <tr>\n      <th>6</th>\n      <td>70</td>\n      <td>EC218FA4</td>\n      <td>800 IH 20 West</td>\n      <td>800 W Interstate 20 Big Spring TX 79720</td>\n    </tr>\n    <tr>\n      <th>7</th>\n      <td>70</td>\n      <td>7D285B12</td>\n      <td>800 IH 20 West</td>\n      <td>800 W Interstate 20 Big Spring TX 79720</td>\n    </tr>\n    <tr>\n      <th>8</th>\n      <td>71</td>\n      <td>D5782A52</td>\n      <td>2503 Rankin Hwy</td>\n      <td>2503 TX-349 Midland TX 79706</td>\n    </tr>\n    <tr>\n      <th>9</th>\n      <td>80</td>\n      <td>A348DFB6</td>\n      <td>801 West Lafayette</td>\n      <td>801 Lafayette St Laredo TX 78041</td>\n    </tr>\n    <tr>\n      <th>10</th>\n      <td>80</td>\n      <td>F20F6AE7</td>\n      <td>801 West Lafayette</td>\n      <td>801 Lafayette St Laredo TX 78041</td>\n    </tr>\n    <tr>\n      <th>11</th>\n      <td>80</td>\n      <td>CA9E35CB</td>\n      <td>801 West Lafayette</td>\n      <td>801 Lafayette St Laredo TX 78041</td>\n    </tr>\n  </tbody>\n</table>\n</div>"
     },
     "execution_count": 86,
     "metadata": {},
     "output_type": "execute_result"
    }
   ],
   "source": [
    "master_df"
   ],
   "metadata": {
    "collapsed": false,
    "ExecuteTime": {
     "end_time": "2023-10-02T19:15:20.412700Z",
     "start_time": "2023-10-02T19:15:20.335087Z"
    }
   },
   "id": "f9c4cb2a7875e4bb"
  },
  {
   "cell_type": "code",
   "execution_count": 87,
   "outputs": [
    {
     "data": {
      "text/plain": "{'00BEC8AB': '6',\n '702662D6': '14',\n '0BC3FC5E': '16',\n 'F9F46AEF': '32',\n '7D8C6B67': '67',\n '5CDF188C': '67',\n 'EC218FA4': '70',\n '7D285B12': '70',\n 'D5782A52': '71',\n 'A348DFB6': '80',\n 'F20F6AE7': '80',\n 'CA9E35CB': '80'}"
     },
     "execution_count": 87,
     "metadata": {},
     "output_type": "execute_result"
    }
   ],
   "source": [
    "order_to_site_num_dict = master_df.set_index('order_id')['Site #'].to_dict()\n",
    "order_to_site_num_dict"
   ],
   "metadata": {
    "collapsed": false,
    "ExecuteTime": {
     "end_time": "2023-10-02T19:19:05.920956Z",
     "start_time": "2023-10-02T19:19:05.898521Z"
    }
   },
   "id": "830eadfbf54bbfa5"
  },
  {
   "cell_type": "code",
   "execution_count": null,
   "outputs": [],
   "source": [],
   "metadata": {
    "collapsed": false
   },
   "id": "6adc35f8c790e60e"
  }
 ],
 "metadata": {
  "kernelspec": {
   "display_name": "Python 3",
   "language": "python",
   "name": "python3"
  },
  "language_info": {
   "codemirror_mode": {
    "name": "ipython",
    "version": 2
   },
   "file_extension": ".py",
   "mimetype": "text/x-python",
   "name": "python",
   "nbconvert_exporter": "python",
   "pygments_lexer": "ipython2",
   "version": "2.7.6"
  }
 },
 "nbformat": 4,
 "nbformat_minor": 5
}
