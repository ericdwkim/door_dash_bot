{
 "cells": [
  {
   "cell_type": "code",
   "execution_count": null,
   "id": "initial_id",
   "metadata": {
    "collapsed": true
   },
   "outputs": [],
   "source": []
  },
  {
   "cell_type": "code",
   "execution_count": 28,
   "outputs": [],
   "source": [
    "import pandas as pd\n",
    "import xlsxwriter\n",
    "import io\n",
    "\n",
    "def get_order_ids(order_text):\n",
    "    # Extract the order_id\n",
    "    order_id_start = order_text.find(\"Order:\") + len(\"Order:\")\n",
    "    order_id_end = order_text.find(\"\\n\", order_id_start)\n",
    "    order_id = order_text[order_id_start:order_id_end]\n",
    "    return order_id\n",
    "\n",
    "def orders_spreadsheet_creator(lst_of_orders):\n",
    "    # Create a Pandas Excel writer using XlsxWriter as the engine.\n",
    "    with pd.ExcelWriter('output.xlsx', engine='xlsxwriter') as writer:\n",
    "        # Loop through order_contents and create a sheet for each order\n",
    "        for i, order_content in enumerate(lst_of_orders, start=1):\n",
    "            \n",
    "            # Get the order ID\n",
    "            order_id = get_order_ids(order_content)\n",
    "            \n",
    "\n",
    "            # Convert the order content to a DataFrame\n",
    "            \n",
    "            df = pd.DataFrame([order_content])\n",
    "            df.to_csv('orders.csv', index=False)\n",
    "            # df.to_excel(writer, sheet_name=f\"{order_id}\", index=False)\n",
    "            \n",
    "            \n",
    "        \n",
    "\n",
    "    # print(f\"All orders saved to output.xlsx\")\n",
    "\n",
    "# Example usage with a list of order strings\n",
    "orders_content = [\n",
    "    'Order: DF8E5AB6\\nDelivered\\nThe order was delivered at 10:56 PM on September 24, 2023. \\nRate Dasher\\nGet help\\nDelivery Details\\nCustomer\\nNikolas W\\nDasher\\nTommy\\nPicked Up\\n10:35 PM\\n(Quoted: 10:12 PM)\\nSeptember 24, 2023\\nDropped Off\\n10:56 PM\\n(Quoted: 10:35 PM)\\nSeptember 24, 2023\\nPick Up Location\\n800 W Interstate 20, Big Spring, TX 79720, USA\\nChannel\\nDoorDash\\nFulfillment\\nDoorDash Delivery\\nOrder Details\\n1\\n×\\nTXB Water Bottle (16.9 oz) (Water TX)\\n$1.99\\n5\\n×\\nFountain Drink (Fountain, Frozen, & Tea)\\nDrink Selection:\\nDr Pepper\\n$0.00\\nSubtotal\\n$1.99\\nSubtotal Tax\\n$0.00\\nCommission (16%)\\n-$0.32\\nTotal Customer Refund\\n-$0.00\\nEstimated Payout\\n$1.67\\nAssociated Transactions (1)\\nTransaction #8058359503 - Delivery\\n$1.67',\n",
    "    'Order: 1D4B1698\\nDelivered\\nThe order was delivered at 7:18 PM on September 24, 2023. \\nRate Dasher\\nGet help\\nDelivery Details\\nCustomer\\nLisa C\\nDasher\\nEric\\nPicked Up\\n7:11 PM\\n(Quoted: 6:57 PM)\\nSeptember 24, 2023\\nDropped Off\\n7:18 PM\\n(Quoted: 7:11 PM)\\nSeptember 24, 2023\\nPick Up Location\\n1741 TX-121, Bonham, TX 75418, USA\\nChannel\\nDoorDash\\nFulfillment\\nDoorDash Delivery\\nOrder Details\\n1\\n×\\nMichelob Ultra Light Beer Can (12 oz x 18 ct) (Domestic Beer NT)\\n$34.99\\nSubtotal\\n$34.99\\nSubtotal Tax\\n$5.77\\nCommission (20%)\\n-$7.00\\nTotal Customer Refund\\n-$0.00\\nEstimated Payout\\n$33.76\\nAssociated Transactions (1)\\nTransaction #8056647546 - Delivery\\n$33.76'\n",
    "]\n",
    "\n",
    "orders_spreadsheet_creator(orders_content)\n"
   ],
   "metadata": {
    "collapsed": false,
    "ExecuteTime": {
     "end_time": "2023-09-26T01:14:57.609388Z",
     "start_time": "2023-09-26T01:14:57.597318Z"
    }
   },
   "id": "18aaa17e52e95054"
  },
  {
   "cell_type": "code",
   "execution_count": 24,
   "outputs": [
    {
     "name": "stdout",
     "output_type": "stream",
     "text": [
      "['Order: DF8E5AB6', 'Delivered', 'The order was delivered at 10:56 PM on September 24, 2023. ', 'Rate Dasher', 'Get help', 'Delivery Details', 'Customer', 'Nikolas W', 'Dasher', 'Tommy', 'Picked Up', '10:35 PM', '(Quoted: 10:12 PM)', 'September 24, 2023', 'Dropped Off', '10:56 PM', '(Quoted: 10:35 PM)', 'September 24, 2023', 'Pick Up Location', '800 W Interstate 20, Big Spring, TX 79720, USA', 'Channel', 'DoorDash', 'Fulfillment', 'DoorDash Delivery', 'Order Details', '1', '×', 'TXB Water Bottle (16.9 oz) (Water TX)', '$1.99', '5', '×', 'Fountain Drink (Fountain, Frozen, & Tea)', 'Drink Selection:', 'Dr Pepper', '$0.00', 'Subtotal', '$1.99', 'Subtotal Tax', '$0.00', 'Commission (16%)', '-$0.32', 'Total Customer Refund', '-$0.00', 'Estimated Payout', '$1.67', 'Associated Transactions (1)', 'Transaction #8058359503 - Delivery', '$1.67']\n",
      "Order: DF8E5AB6\n",
      "Delivered\n",
      "The order was delivered at 10:56 PM on September 24, 2023. \n",
      "Rate Dasher\n",
      "Get help\n",
      "Delivery Details\n",
      "Customer\n",
      "Nikolas W\n",
      "Dasher\n",
      "Tommy\n",
      "Picked Up\n",
      "10:35 PM\n",
      "(Quoted: 10:12 PM)\n",
      "September 24, 2023\n",
      "Dropped Off\n",
      "10:56 PM\n",
      "(Quoted: 10:35 PM)\n",
      "September 24, 2023\n",
      "Pick Up Location\n",
      "800 W Interstate 20, Big Spring, TX 79720, USA\n",
      "Channel\n",
      "DoorDash\n",
      "Fulfillment\n",
      "DoorDash Delivery\n",
      "Order Details\n",
      "1\n",
      "×\n",
      "TXB Water Bottle (16.9 oz) (Water TX)\n",
      "$1.99\n",
      "5\n",
      "×\n",
      "Fountain Drink (Fountain, Frozen, & Tea)\n",
      "Drink Selection:\n",
      "Dr Pepper\n",
      "$0.00\n",
      "Subtotal\n",
      "$1.99\n",
      "Subtotal Tax\n",
      "$0.00\n",
      "Commission (16%)\n",
      "-$0.32\n",
      "Total Customer Refund\n",
      "-$0.00\n",
      "Estimated Payout\n",
      "$1.67\n",
      "Associated Transactions (1)\n",
      "Transaction #8058359503 - Delivery\n",
      "$1.67\n",
      "['Order: 1D4B1698', 'Delivered', 'The order was delivered at 7:18 PM on September 24, 2023. ', 'Rate Dasher', 'Get help', 'Delivery Details', 'Customer', 'Lisa C', 'Dasher', 'Eric', 'Picked Up', '7:11 PM', '(Quoted: 6:57 PM)', 'September 24, 2023', 'Dropped Off', '7:18 PM', '(Quoted: 7:11 PM)', 'September 24, 2023', 'Pick Up Location', '1741 TX-121, Bonham, TX 75418, USA', 'Channel', 'DoorDash', 'Fulfillment', 'DoorDash Delivery', 'Order Details', '1', '×', 'Michelob Ultra Light Beer Can (12 oz x 18 ct) (Domestic Beer NT)', '$34.99', 'Subtotal', '$34.99', 'Subtotal Tax', '$5.77', 'Commission (20%)', '-$7.00', 'Total Customer Refund', '-$0.00', 'Estimated Payout', '$33.76', 'Associated Transactions (1)', 'Transaction #8056647546 - Delivery', '$33.76']\n",
      "Order: 1D4B1698\n",
      "Delivered\n",
      "The order was delivered at 7:18 PM on September 24, 2023. \n",
      "Rate Dasher\n",
      "Get help\n",
      "Delivery Details\n",
      "Customer\n",
      "Lisa C\n",
      "Dasher\n",
      "Eric\n",
      "Picked Up\n",
      "7:11 PM\n",
      "(Quoted: 6:57 PM)\n",
      "September 24, 2023\n",
      "Dropped Off\n",
      "7:18 PM\n",
      "(Quoted: 7:11 PM)\n",
      "September 24, 2023\n",
      "Pick Up Location\n",
      "1741 TX-121, Bonham, TX 75418, USA\n",
      "Channel\n",
      "DoorDash\n",
      "Fulfillment\n",
      "DoorDash Delivery\n",
      "Order Details\n",
      "1\n",
      "×\n",
      "Michelob Ultra Light Beer Can (12 oz x 18 ct) (Domestic Beer NT)\n",
      "$34.99\n",
      "Subtotal\n",
      "$34.99\n",
      "Subtotal Tax\n",
      "$5.77\n",
      "Commission (20%)\n",
      "-$7.00\n",
      "Total Customer Refund\n",
      "-$0.00\n",
      "Estimated Payout\n",
      "$33.76\n",
      "Associated Transactions (1)\n",
      "Transaction #8056647546 - Delivery\n",
      "$33.76\n"
     ]
    }
   ],
   "source": [
    "\n",
    "# Example list of order strings\n",
    "order_strings = [\n",
    "    'Order: DF8E5AB6\\nDelivered\\nThe order was delivered at 10:56 PM on September 24, 2023. \\nRate Dasher\\nGet help\\nDelivery Details\\nCustomer\\nNikolas W\\nDasher\\nTommy\\nPicked Up\\n10:35 PM\\n(Quoted: 10:12 PM)\\nSeptember 24, 2023\\nDropped Off\\n10:56 PM\\n(Quoted: 10:35 PM)\\nSeptember 24, 2023\\nPick Up Location\\n800 W Interstate 20, Big Spring, TX 79720, USA\\nChannel\\nDoorDash\\nFulfillment\\nDoorDash Delivery\\nOrder Details\\n1\\n×\\nTXB Water Bottle (16.9 oz) (Water TX)\\n$1.99\\n5\\n×\\nFountain Drink (Fountain, Frozen, & Tea)\\nDrink Selection:\\nDr Pepper\\n$0.00\\nSubtotal\\n$1.99\\nSubtotal Tax\\n$0.00\\nCommission (16%)\\n-$0.32\\nTotal Customer Refund\\n-$0.00\\nEstimated Payout\\n$1.67\\nAssociated Transactions (1)\\nTransaction #8058359503 - Delivery\\n$1.67',\n",
    "    'Order: 1D4B1698\\nDelivered\\nThe order was delivered at 7:18 PM on September 24, 2023. \\nRate Dasher\\nGet help\\nDelivery Details\\nCustomer\\nLisa C\\nDasher\\nEric\\nPicked Up\\n7:11 PM\\n(Quoted: 6:57 PM)\\nSeptember 24, 2023\\nDropped Off\\n7:18 PM\\n(Quoted: 7:11 PM)\\nSeptember 24, 2023\\nPick Up Location\\n1741 TX-121, Bonham, TX 75418, USA\\nChannel\\nDoorDash\\nFulfillment\\nDoorDash Delivery\\nOrder Details\\n1\\n×\\nMichelob Ultra Light Beer Can (12 oz x 18 ct) (Domestic Beer NT)\\n$34.99\\nSubtotal\\n$34.99\\nSubtotal Tax\\n$5.77\\nCommission (20%)\\n-$7.00\\nTotal Customer Refund\\n-$0.00\\nEstimated Payout\\n$33.76\\nAssociated Transactions (1)\\nTransaction #8056647546 - Delivery\\n$33.76'\n",
    "]\n",
    "# Initialize an empty list to store dataframes\n",
    "dataframes = []\n",
    "\n",
    "# Loop through the order strings\n",
    "for order_string in order_strings:\n",
    "    # Split the string by newline character to create a list of key-value pairs\n",
    "    key_value_pairs = order_string.split('\\n')\n",
    "    print(key_value_pairs)\n",
    "\n",
    "    # # Create a dictionary from the key-value pairs\n",
    "    order_dict = {}\n",
    "    for key_value in key_value_pairs:\n",
    "        print(key_value)\n",
    "        # key, value = key_value.split(':', 1)\n",
    "        # print(key)\n",
    "    #     order_dict[key.strip()] = value.strip()\n",
    "    # \n",
    "    # # Convert the dictionary into a pandas dataframe\n",
    "    # df = pd.DataFrame([order_dict])\n",
    "    # \n",
    "    # # Append the dataframe to the list\n",
    "    # dataframes.append(df)\n",
    "\n",
    "# Now, the 'dataframes' list contains separate dataframes for each order\n"
   ],
   "metadata": {
    "collapsed": false,
    "ExecuteTime": {
     "end_time": "2023-09-26T01:08:48.664576Z",
     "start_time": "2023-09-26T01:08:48.661621Z"
    }
   },
   "id": "599daf342d0a6038"
  },
  {
   "cell_type": "code",
   "execution_count": 29,
   "outputs": [
    {
     "data": {
      "text/plain": "['Order: DF8E5AB6\\nDelivered\\nThe order was delivered at 10:56 PM on September 24, 2023. \\nRate Dasher\\nGet help\\nDelivery Details\\nCustomer\\nNikolas W\\nDasher\\nTommy\\nPicked Up\\n10:35 PM\\n(Quoted: 10:12 PM)\\nSeptember 24, 2023\\nDropped Off\\n10:56 PM\\n(Quoted: 10:35 PM)\\nSeptember 24, 2023\\nPick Up Location\\n800 W Interstate 20, Big Spring, TX 79720, USA\\nChannel\\nDoorDash\\nFulfillment\\nDoorDash Delivery\\nOrder Details\\n1\\n×\\nTXB Water Bottle (16.9 oz) (Water TX)\\n$1.99\\n5\\n×\\nFountain Drink (Fountain, Frozen, & Tea)\\nDrink Selection:\\nDr Pepper\\n$0.00\\nSubtotal\\n$1.99\\nSubtotal Tax\\n$0.00\\nCommission (16%)\\n-$0.32\\nTotal Customer Refund\\n-$0.00\\nEstimated Payout\\n$1.67\\nAssociated Transactions (1)\\nTransaction #8058359503 - Delivery\\n$1.67',\n 'Order: 1D4B1698\\nDelivered\\nThe order was delivered at 7:18 PM on September 24, 2023. \\nRate Dasher\\nGet help\\nDelivery Details\\nCustomer\\nLisa C\\nDasher\\nEric\\nPicked Up\\n7:11 PM\\n(Quoted: 6:57 PM)\\nSeptember 24, 2023\\nDropped Off\\n7:18 PM\\n(Quoted: 7:11 PM)\\nSeptember 24, 2023\\nPick Up Location\\n1741 TX-121, Bonham, TX 75418, USA\\nChannel\\nDoorDash\\nFulfillment\\nDoorDash Delivery\\nOrder Details\\n1\\n×\\nMichelob Ultra Light Beer Can (12 oz x 18 ct) (Domestic Beer NT)\\n$34.99\\nSubtotal\\n$34.99\\nSubtotal Tax\\n$5.77\\nCommission (20%)\\n-$7.00\\nTotal Customer Refund\\n-$0.00\\nEstimated Payout\\n$33.76\\nAssociated Transactions (1)\\nTransaction #8056647546 - Delivery\\n$33.76']"
     },
     "execution_count": 29,
     "metadata": {},
     "output_type": "execute_result"
    }
   ],
   "source": [
    "order_strings"
   ],
   "metadata": {
    "collapsed": false,
    "ExecuteTime": {
     "end_time": "2023-09-26T01:17:24.843392Z",
     "start_time": "2023-09-26T01:17:24.839882Z"
    }
   },
   "id": "ad606fba575056ed"
  },
  {
   "cell_type": "code",
   "execution_count": 31,
   "outputs": [],
   "source": [
    "cleaned_orders = [order_string.replace('\\n', ' ') for order_string in order_strings]\n"
   ],
   "metadata": {
    "collapsed": false,
    "ExecuteTime": {
     "end_time": "2023-09-26T01:21:15.611479Z",
     "start_time": "2023-09-26T01:21:15.609211Z"
    }
   },
   "id": "4539267fb307d956"
  },
  {
   "cell_type": "code",
   "execution_count": 32,
   "outputs": [
    {
     "data": {
      "text/plain": "['Order: DF8E5AB6 Delivered The order was delivered at 10:56 PM on September 24, 2023.  Rate Dasher Get help Delivery Details Customer Nikolas W Dasher Tommy Picked Up 10:35 PM (Quoted: 10:12 PM) September 24, 2023 Dropped Off 10:56 PM (Quoted: 10:35 PM) September 24, 2023 Pick Up Location 800 W Interstate 20, Big Spring, TX 79720, USA Channel DoorDash Fulfillment DoorDash Delivery Order Details 1 × TXB Water Bottle (16.9 oz) (Water TX) $1.99 5 × Fountain Drink (Fountain, Frozen, & Tea) Drink Selection: Dr Pepper $0.00 Subtotal $1.99 Subtotal Tax $0.00 Commission (16%) -$0.32 Total Customer Refund -$0.00 Estimated Payout $1.67 Associated Transactions (1) Transaction #8058359503 - Delivery $1.67',\n 'Order: 1D4B1698 Delivered The order was delivered at 7:18 PM on September 24, 2023.  Rate Dasher Get help Delivery Details Customer Lisa C Dasher Eric Picked Up 7:11 PM (Quoted: 6:57 PM) September 24, 2023 Dropped Off 7:18 PM (Quoted: 7:11 PM) September 24, 2023 Pick Up Location 1741 TX-121, Bonham, TX 75418, USA Channel DoorDash Fulfillment DoorDash Delivery Order Details 1 × Michelob Ultra Light Beer Can (12 oz x 18 ct) (Domestic Beer NT) $34.99 Subtotal $34.99 Subtotal Tax $5.77 Commission (20%) -$7.00 Total Customer Refund -$0.00 Estimated Payout $33.76 Associated Transactions (1) Transaction #8056647546 - Delivery $33.76']"
     },
     "execution_count": 32,
     "metadata": {},
     "output_type": "execute_result"
    }
   ],
   "source": [
    "cleaned_orders"
   ],
   "metadata": {
    "collapsed": false,
    "ExecuteTime": {
     "end_time": "2023-09-26T01:21:19.311489Z",
     "start_time": "2023-09-26T01:21:19.300688Z"
    }
   },
   "id": "734b1fed8cddf0c6"
  },
  {
   "cell_type": "code",
   "execution_count": 2,
   "outputs": [
    {
     "ename": "NameError",
     "evalue": "name 'cleaned_orders' is not defined",
     "output_type": "error",
     "traceback": [
      "\u001B[0;31m---------------------------------------------------------------------------\u001B[0m",
      "\u001B[0;31mNameError\u001B[0m                                 Traceback (most recent call last)",
      "Cell \u001B[0;32mIn[2], line 1\u001B[0m\n\u001B[0;32m----> 1\u001B[0m order_strings_with_delimiter \u001B[38;5;241m=\u001B[39m [cleaned_order \u001B[38;5;241m+\u001B[39m \u001B[38;5;124m'\u001B[39m\u001B[38;5;130;01m\\n\u001B[39;00m\u001B[38;5;124m'\u001B[39m \u001B[38;5;28;01mfor\u001B[39;00m cleaned_order \u001B[38;5;129;01min\u001B[39;00m \u001B[43mcleaned_orders\u001B[49m]\n",
      "\u001B[0;31mNameError\u001B[0m: name 'cleaned_orders' is not defined"
     ]
    }
   ],
   "source": [
    "order_strings_with_delimiter = [cleaned_order + '\\n' for cleaned_order in cleaned_orders]\n"
   ],
   "metadata": {
    "collapsed": false,
    "ExecuteTime": {
     "end_time": "2023-09-26T15:36:04.509343Z",
     "start_time": "2023-09-26T15:36:04.494640Z"
    }
   },
   "id": "39fd6f7260bcb9e3"
  },
  {
   "cell_type": "code",
   "execution_count": 1,
   "outputs": [
    {
     "ename": "NameError",
     "evalue": "name 'order_strings_with_delimiter' is not defined",
     "output_type": "error",
     "traceback": [
      "\u001B[0;31m---------------------------------------------------------------------------\u001B[0m",
      "\u001B[0;31mNameError\u001B[0m                                 Traceback (most recent call last)",
      "Cell \u001B[0;32mIn[1], line 1\u001B[0m\n\u001B[0;32m----> 1\u001B[0m \u001B[43morder_strings_with_delimiter\u001B[49m\n",
      "\u001B[0;31mNameError\u001B[0m: name 'order_strings_with_delimiter' is not defined"
     ]
    }
   ],
   "source": [
    "order_strings_with_delimiter"
   ],
   "metadata": {
    "collapsed": false,
    "ExecuteTime": {
     "end_time": "2023-09-26T15:35:59.297561Z",
     "start_time": "2023-09-26T15:35:59.118877Z"
    }
   },
   "id": "99c394775e10fde0"
  },
  {
   "cell_type": "markdown",
   "source": [],
   "metadata": {
    "collapsed": false
   },
   "id": "5c1fedcd45e5e7ed"
  },
  {
   "cell_type": "code",
   "execution_count": 124,
   "outputs": [],
   "source": [
    "orders = 'Order: 7587448E\\nDelivered\\nThe order was delivered at 11:15 PM on September 25, 2023. \\nRate Dasher\\nGet help\\nDelivery Details\\nCustomer\\nmary r\\nDasher\\nMaurice\\nPicked Up\\n11:00 PM\\n(Quoted: 10:55 PM)\\nSeptember 25, 2023\\nDropped Off\\n11:15 PM\\n(Quoted: 11:22 PM)\\nSeptember 25, 2023\\nPick Up Location\\n800 W Interstate 20, Big Spring, TX 79720, USA\\nChannel\\nDoorDash\\nFulfillment\\nDoorDash Delivery\\nOrder Details\\n2\\n×\\nTXB Water Bottle (1gal) (Water TX)\\n$6.58\\nSubtotal\\n$6.58\\nSubtotal Tax\\n$0.00\\nCommission (16%)\\n-$1.05\\nTotal Customer Refund\\n-$0.00\\nEstimated Payout\\n$5.53\\nAssociated Transactions (1)\\nTransaction #8065464878 - Delivery\\n$5.53'"
   ],
   "metadata": {
    "collapsed": false,
    "ExecuteTime": {
     "end_time": "2023-09-26T18:40:16.260686Z",
     "start_time": "2023-09-26T18:40:16.243211Z"
    }
   },
   "id": "6e5b0ef3d55d51cf"
  },
  {
   "cell_type": "code",
   "execution_count": 102,
   "outputs": [],
   "source": [
    "# order details helper func\n",
    "# string range from `Order Details` to `Subtotal` keys\n",
    "# dynamically adjust based on number of items ordered `n` and create key/value pairs \n",
    "# using former as start and latter as end markers \n",
    "\n",
    "# input: `line`\n",
    "# output: list of all items ordered \n",
    "\n",
    "def parse_order_details(line):\n",
    "    order_details_string =[]\n",
    "    \n",
    "    if line.startswith('Order Details'):\n",
    "        \n",
    "        while line != 'Subtotal': # end marker loop condition\n",
    "            \n",
    "            # combine all `line` strings until end marker\n",
    "            order_details_string.append(line)\n",
    "            \n",
    "        return orders_details_string\n",
    "    \n"
   ],
   "metadata": {
    "collapsed": false,
    "ExecuteTime": {
     "end_time": "2023-09-26T18:29:37.018786Z",
     "start_time": "2023-09-26T18:29:37.003111Z"
    }
   },
   "id": "cf7367488badcf5"
  },
  {
   "cell_type": "code",
   "execution_count": null,
   "outputs": [],
   "source": [
    "def order_details_items_map(orders_details_list):\n",
    "    order_details = {}\n",
    "    for item in order_details_list:\n",
    "        order_details['key'] = 'val' # todo: logic to create `item_qty - item_name` as key and `item_cost` as value\n",
    "        "
   ],
   "metadata": {
    "collapsed": false
   },
   "id": "ebd960f91a583568"
  },
  {
   "cell_type": "code",
   "execution_count": 125,
   "outputs": [],
   "source": [
    "def parse_order(order_string):\n",
    "    # Initialize the result dictionary\n",
    "    order_dict = {}\n",
    "\n",
    "    # Split the order string by '\\n' to separate lines\n",
    "    lines = order_string.split('\\n')\n",
    "\n",
    "    # Process each line in the order string\n",
    "    delivery_details = {}\n",
    "    order_details = {}\n",
    "    associated_transactions = {}\n",
    "\n",
    "    for line in lines:\n",
    "        \n",
    "        if line.startswith('Order: '):\n",
    "            # Extract the order ID and add it to the dictionary\n",
    "            order_dict['Order'] = line.split('Order: ')[1]\n",
    "        elif line:\n",
    "            if 'Delivered' in line:\n",
    "                order_dict['Delivered'] = lines[2]\n",
    "                \n",
    "            elif 'Rate Dasher' in line:\n",
    "                order_dict['Rate Dasher'] = lines[4]\n",
    "            \n",
    "            # Delivery Details\n",
    "            elif 'Customer' in line:\n",
    "                delivery_details['Customer'] = lines[7]\n",
    "            elif 'Dasher' in line:\n",
    "                delivery_details['Dasher'] = lines[9]\n",
    "            elif 'Picked Up' in line:\n",
    "                # combine segmented values into single list val\n",
    "                val = lines[11] + lines[12] + lines[13]\n",
    "                delivery_details['Picked Up'] = val\n",
    "            elif 'Dropped Off' in line:\n",
    "                val = lines[15] + lines[16] + lines[17]\n",
    "                delivery_details['Dropped Off'] = val\n",
    "            elif 'Pick Up Location' in line:\n",
    "                delivery_details['Pick Up Location'] = lines[19]\n",
    "            elif 'Channel' in line:\n",
    "                delivery_details['Channel'] = lines[21]\n",
    "            elif 'Fulfillment' in line:\n",
    "                delivery_details['Fulfillment'] = lines[23]\n",
    "            \n",
    "            # Order Details\n",
    "            elif 'Order Details' in line:\n",
    "                key = lines[25] + lines[26] + lines[27]\n",
    "                order_details[key] = lines[28]\n",
    "            \n",
    "            elif 'Subtotal' in line:\n",
    "                order_details['Subtotal'] = lines[30]\n",
    "                \n",
    "            elif 'Subtotal Tax' in line:\n",
    "                order_details['Subtotal Tax'] = lines[32]\n",
    "            \n",
    "            elif 'Commission (16%)' in line:\n",
    "                order_details['Commission (16%)'] = lines[34]\n",
    "                \n",
    "            elif 'Total Customer Refund' in line:\n",
    "                order_details['Total Customer Refund'] = lines[36]\n",
    "                \n",
    "            elif 'Estimated Payout' in line:\n",
    "                order_details['Estimated Payout'] = lines[38]\n",
    "                \n",
    "            # Associated Transactions\n",
    "            elif 'Transaction' in line:\n",
    "                key = lines[40]\n",
    "                associated_transactions[key] = lines[41]\n",
    "                \n",
    "    \n",
    "    order_dict['Delivery Details'] = delivery_details\n",
    "    order_dict['Order Details'] = order_details\n",
    "    order_dict['Associated Transactions'] = associated_transactions\n",
    "    \n",
    "                \n",
    "                \n",
    "    return order_dict            "
   ],
   "metadata": {
    "collapsed": false,
    "ExecuteTime": {
     "end_time": "2023-09-26T18:40:19.222747Z",
     "start_time": "2023-09-26T18:40:19.169026Z"
    }
   },
   "id": "a7560b195593da66"
  },
  {
   "cell_type": "code",
   "execution_count": 126,
   "outputs": [
    {
     "data": {
      "text/plain": "{'Order': '7587448E',\n 'Delivered': 'The order was delivered at 11:15 PM on September 25, 2023. ',\n 'Rate Dasher': 'Get help',\n 'Delivery Details': {'Customer': 'mary r',\n  'Dasher': 'Maurice',\n  'Picked Up': '11:00 PM(Quoted: 10:55 PM)September 25, 2023',\n  'Dropped Off': '11:15 PM(Quoted: 11:22 PM)September 25, 2023',\n  'Pick Up Location': '800 W Interstate 20, Big Spring, TX 79720, USA',\n  'Channel': 'DoorDash',\n  'Fulfillment': 'DoorDash Delivery'},\n 'Order Details': {'2×TXB Water Bottle (1gal) (Water TX)': '$6.58',\n  'Subtotal': '$6.58',\n  'Commission (16%)': '-$1.05',\n  'Estimated Payout': '$5.53'},\n 'Associated Transactions': {'Transaction #8065464878 - Delivery': '$5.53'}}"
     },
     "execution_count": 126,
     "metadata": {},
     "output_type": "execute_result"
    }
   ],
   "source": [
    "parse_order(orders)"
   ],
   "metadata": {
    "collapsed": false,
    "ExecuteTime": {
     "end_time": "2023-09-26T18:40:20.266483Z",
     "start_time": "2023-09-26T18:40:20.250261Z"
    }
   },
   "id": "3a0aed973fbc6de3"
  },
  {
   "cell_type": "code",
   "execution_count": 127,
   "outputs": [],
   "source": [
    "def orders_looper(orders_list):\n",
    "    orders_in_json_results = []\n",
    "    for order in orders_list:\n",
    "        order_map = parse_order(order)\n",
    "        \n",
    "        orders_in_json_results.append(order_map)\n",
    "    \n",
    "    return orders_in_json_results\n",
    "        \n",
    "    "
   ],
   "metadata": {
    "collapsed": false,
    "ExecuteTime": {
     "end_time": "2023-09-26T18:40:29.769345Z",
     "start_time": "2023-09-26T18:40:29.751233Z"
    }
   },
   "id": "7a2ca6a96e2d4181"
  },
  {
   "cell_type": "code",
   "execution_count": 132,
   "outputs": [],
   "source": [
    "orders_list = ['Order: 7587448E\\nDelivered\\nThe order was delivered at 11:15 PM on September 25, 2023. \\nRate Dasher\\nGet help\\nDelivery Details\\nCustomer\\nmary r\\nDasher\\nMaurice\\nPicked Up\\n11:00 PM\\n(Quoted: 10:55 PM)\\nSeptember 25, 2023\\nDropped Off\\n11:15 PM\\n(Quoted: 11:22 PM)\\nSeptember 25, 2023\\nPick Up Location\\n800 W Interstate 20, Big Spring, TX 79720, USA\\nChannel\\nDoorDash\\nFulfillment\\nDoorDash Delivery\\nOrder Details\\n2\\n×\\nTXB Water Bottle (1gal) (Water TX)\\n$6.58\\nSubtotal\\n$6.58\\nSubtotal Tax\\n$0.00\\nCommission (16%)\\n-$1.05\\nTotal Customer Refund\\n-$0.00\\nEstimated Payout\\n$5.53\\nAssociated Transactions (1)\\nTransaction #8065464878 - Delivery\\n$5.53',\n",
    " \"Order: 51371086\\nDelivered\\nThe order was delivered at 11:07 PM on September 25, 2023. \\nRate Dasher\\nGet help\\nDelivery Details\\nCustomer\\nChris W\\nDasher\\nLawrence\\nPicked Up\\n10:57 PM\\n(Quoted: 10:37 PM)\\nSeptember 25, 2023\\nDropped Off\\n11:07 PM\\n(Quoted: 11:00 PM)\\nSeptember 25, 2023\\nPick Up Location\\n102 W Main St, Calera, OK 74730, USA\\nChannel\\nDoorDash\\nFulfillment\\nDoorDash Delivery\\nOrder Details\\n1\\n×\\nCoke Cherry Bottle (20oz) (Soda OK)\\n$3.79\\n1\\n×\\nBen & Jerry's Chubby Hubby Ice Cream (16 oz) (Ice Cream OK)\\n$12.49\\nSubtotal\\n$16.28\\nSubtotal Tax\\n$1.47\\nCommission (23%)\\n-$3.74\\nTotal Customer Refund\\n-$0.00\\nEstimated Payout\\n$12.54\\nAssociated Transactions (1)\\nTransaction #8065451843 - Delivery\\n$12.54\",\n",
    " \"Order: 85BA5F93\\nDelivered\\nThe order was delivered at 10:42 PM on September 25, 2023. \\nRate Dasher\\nGet help\\nDelivery Details\\nCustomer\\nCornelius S\\nDasher\\nLawrence\\nPicked Up\\n10:24 PM\\n(Quoted: 10:03 PM)\\nSeptember 25, 2023\\nDropped Off\\n10:42 PM\\n(Quoted: 10:38 PM)\\nSeptember 25, 2023\\nPick Up Location\\n102 W Main St, Calera, OK 74730, USA\\nChannel\\nDoorDash\\nFulfillment\\nDoorDash Delivery\\nOrder Details\\n1\\n×\\nM&M's Peanut King Size (3.27 oz) (Chocolate OK)\\n$3.79\\n1\\n×\\nHershey's Almond King Size (2.6 oz) (Chocolate OK)\\n$3.79\\n2\\n×\\nDr Pepper Bottle (20 oz) (Soda OK)\\n$7.58\\n2\\n×\\nPepsi Bottle (20 oz) (Soda OK)\\n$7.58\\nSubtotal\\n$22.74\\nSubtotal Tax\\n$2.05\\nCommission (16%)\\n-$3.64\\nTotal Customer Refund\\n-$0.00\\nEstimated Payout\\n$19.10\\nAssociated Transactions (1)\\nTransaction #8065275398 - Delivery\\n$19.10\",\n",
    " 'Order: 85BA5F93',\n",
    " 'Order: 7C78538C\\nCustomer Picked Up\\nThe customer picked up the order at 10:02 PM on September 25, 2023. \\nGet help\\nDelivery Details\\nCustomer\\nKes M\\nPicked Up\\n10:02 PM\\n(Quoted: 10:13 PM)\\nSeptember 25, 2023\\nPick Up Location\\n2503 TX-349, Midland, TX 79706, USA\\nChannel\\nDoorDash\\nFulfillment\\nConsumer Pickup\\nOrder Details\\n2\\n×\\nCheetos Crunchy (3.25 oz) (Chips & Popcorn TX)\\n$4.58\\n1\\n×\\nTwix Ice Cream Bar (3 oz) (Ice Cream TX)\\n$3.99\\n1\\n×\\nTXB Green Tea Bottle (16oz) (Tea TX)\\n$2.59\\nSubtotal\\n$11.16\\nSubtotal Tax\\n$0.82\\nCommission (9%)\\n-$1.00\\nTotal Customer Refund\\n-$0.00\\nEstimated Payout\\n$10.98\\nAssociated Transactions (1)\\nTransaction #8065155860 - Pickup\\n$10.98',\n",
    " 'Order: 792BC6EF\\nDelivered\\nThe order was delivered at 9:50 PM on September 25, 2023. \\nRate Dasher\\nGet help\\nDelivery Details\\nCustomer\\nAaron E\\nDasher\\nArmando\\nPicked Up\\n9:29 PM\\n(Quoted: 9:21 PM)\\nSeptember 25, 2023\\nDropped Off\\n9:50 PM\\n(Quoted: 9:48 PM)\\nSeptember 25, 2023\\nPick Up Location\\n2196 El Indio Hwy, Eagle Pass, TX 78852, USA\\nChannel\\nDoorDash\\nFulfillment\\nDoorDash Delivery\\nOrder Details\\n1\\n×\\nMiller Lite Beer Can (12 oz x 18 ct) (Domestic Beer ST)\\n$27.49\\nSubtotal\\n$27.49\\nSubtotal Tax\\n$3.50\\nCommission (20%)\\n-$5.50\\nTotal Customer Refund\\n-$0.00\\nEstimated Payout\\n$25.49\\nAssociated Transactions (1)\\nTransaction #8064944545 - Delivery\\n$25.49',\n",
    " 'Order: B0DFD67A\\nDelivered\\nThe order was delivered at 9:30 PM on September 25, 2023. \\nRate Dasher\\nGet help\\nDelivery Details\\nCustomer\\nHillary R\\nDasher\\nGloria\\nPicked Up\\n9:23 PM\\n(Quoted: 9:18 PM)\\nSeptember 25, 2023\\nDropped Off\\n9:30 PM\\n(Quoted: 9:39 PM)\\nSeptember 25, 2023\\nPick Up Location\\n2320 W Main St, Durant, OK 74701, USA\\nChannel\\nDoorDash\\nFulfillment\\nDoorDash Delivery\\nOrder Details\\n1\\n×\\nAir Heads Bites (2oz) (Fruity OK)\\n$4.99\\n2\\n×\\nSkittles Original King Size (4 oz) (Fruity OK)\\n$6.78\\n1\\n×\\nFountain Drink (Fountain, Frozen, & Tea)\\nDrink Selection:\\nDr Pepper\\n$0.00\\n1\\n×\\nFountain Drink (Fountain, Frozen, & Tea)\\nDrink Selection:\\nTXB Cherry Limeade\\n$0.00\\n2\\n×\\nFountain Drink (Fountain, Frozen, & Tea)\\nDrink Selection:\\nTXB Fresh Brewed Sweet Tea\\n$0.00\\n1\\n×\\nTwix Caramel King Size (3 oz) (Chocolate OK)\\n$3.79\\n2\\n×\\nDr Pepper Bottle (20 oz) (Soda OK)\\n$7.58\\n1\\n×\\nBarcel Takis Blue Heat (9.9oz) (Chips & Popcorn OK)\\n$7.49\\nSubtotal\\n$30.63\\nPromo Paid by DoorDash\\n-$6.00\\n(DashPass Welcome Offer )\\nSubtotal for Tax Calculations\\n$24.63\\nSubtotal Tax\\n$2.31\\nCommission (23%)\\n-$7.04\\nTotal Customer Refund\\n-$0.00\\nEstimated Payout\\n$23.59\\nAssociated Transactions (1)\\nTransaction #8064911188 - Delivery\\n$23.59',\n",
    " 'Order: E308F16E\\nDelivered\\nThe order was delivered at 8:18 PM on September 25, 2023. \\nRate Dasher\\nGet help\\nDelivery Details\\nCustomer\\nRachel D\\nDasher\\nPolo\\nPicked Up\\n8:05 PM\\n(Quoted: 8:06 PM)\\nSeptember 25, 2023\\nDropped Off\\n8:18 PM\\n(Quoted: 8:22 PM)\\nSeptember 25, 2023\\nPick Up Location\\n800 W Interstate 20, Big Spring, TX 79720, USA\\nChannel\\nDoorDash\\nFulfillment\\nDoorDash Delivery\\nOrder Details\\n1\\n×\\nFountain Drink (Fountain, Frozen, & Tea)\\nDrink Selection:\\nDr Pepper\\n$0.00\\n1\\n×\\nIce Large (Fountain, Frozen, & Tea)\\n$7.49\\nSubtotal\\n$7.49\\nSubtotal Tax\\n$0.95\\nCommission (16%)\\n-$1.20\\nTotal Customer Refund\\n-$0.00\\nEstimated Payout\\n$7.24\\nAssociated Transactions (1)\\nTransaction #8064275507 - Delivery\\n$7.24',\n",
    " 'Order: 6BFA2F11\\nDelivered\\nThe order was delivered at 7:13 PM on September 25, 2023. \\nRate Dasher\\nGet help\\nDelivery Details\\nCustomer\\nKristy G\\nDasher\\nJLS\\nPicked Up\\n7:03 PM\\n(Quoted: 7:09 PM)\\nSeptember 25, 2023\\nDropped Off\\n7:13 PM\\n(Quoted: 7:27 PM)\\nSeptember 25, 2023\\nPick Up Location\\n801 Lafayette St, Laredo, TX 78041, USA\\nChannel\\nDoorDash\\nFulfillment\\nDoorDash Delivery\\nOrder Details\\n1\\n×\\nWhole Milk Vitamin D (1 gal) (Milk TX)\\n$7.49\\nSubtotal\\n$7.49\\nSubtotal Tax\\n$0.00\\nCommission (16%)\\n-$1.20\\nTotal Customer Refund\\n-$0.00\\nEstimated Payout\\n$6.29\\nAssociated Transactions (1)\\nTransaction #8063675206 - Delivery\\n$6.29',\n",
    " 'Order: 6BFA2F11',\n",
    " 'Order: A308E7B3\\nDelivered\\nThe order was delivered at 5:25 PM on September 25, 2023. \\nRate Dasher\\nGet help\\nDelivery Details\\nCustomer\\nDollymae J\\nDasher\\nAndrew\\nPicked Up\\n5:06 PM\\n(Quoted: 5:03 PM)\\nSeptember 25, 2023\\nDropped Off\\n5:25 PM\\n(Quoted: 6:06 PM)\\nSeptember 25, 2023\\nPick Up Location\\n14620 Ranch Rd 12, Wimberley, TX 78676, USA\\nChannel\\nDoorDash\\nFulfillment\\nDoorDash Delivery\\nOrder Details\\n3\\n×\\nCayman Jack Margarita Can (19 oz) (Flavored Malt Beverages CT)\\n$17.07\\nSubtotal\\n$17.07\\nSubtotal Tax\\n$2.18\\nCommission (23%)\\n-$3.93\\nTotal Customer Refund\\n-$0.00\\nEstimated Payout\\n$15.32\\nAssociated Transactions (1)\\nTransaction #8062580206 - Delivery\\n$15.32',\n",
    " 'Order: 9A76A89B\\nDelivered\\nThe order was delivered at 3:44 PM on September 25, 2023. \\nRate Dasher\\nGet help\\nDelivery Details\\nCustomer\\nDebi G\\nDasher\\nEric\\nPicked Up\\n3:39 PM\\n(Quoted: 3:39 PM)\\nSeptember 25, 2023\\nDropped Off\\n3:44 PM\\n(Quoted: 3:55 PM)\\nSeptember 25, 2023\\nPick Up Location\\n1741 TX-121, Bonham, TX 75418, USA\\nChannel\\nDoorDash\\nFulfillment\\nDoorDash Delivery\\nOrder Details\\n1\\n×\\nFountain Drink (Fountain, Frozen, & Tea)\\nDrink Selection:\\nMountain Dew\\n$0.00\\n2\\n×\\nSkirt Steak Fajita Quesadilla (Quesadillas TXB#10)\\n$14.98\\nSubtotal\\n$14.98\\nSubtotal Tax\\n$1.91\\nCommission (20%)\\n-$3.00\\nTotal Customer Refund\\n-$0.00\\nEstimated Payout\\n$13.89\\nAssociated Transactions (1)\\nTransaction #8061960485 - Delivery\\n$13.89',\n",
    " 'Order: 9A76A89B',\n",
    " 'Order: 8908C4FE',\n",
    " 'Order: 6ABEF86F\\nDelivered\\nThe order was delivered at 2:23 PM on September 25, 2023. \\nRate Dasher\\nGet help\\nDelivery Details\\nCustomer\\nJessie V\\nDasher\\nDanay\\nPicked Up\\n2:07 PM\\n(Quoted: 1:57 PM)\\nSeptember 25, 2023\\nDropped Off\\n2:23 PM\\n(Quoted: 2:29 PM)\\nSeptember 25, 2023\\nPick Up Location\\n2503 TX-349, Midland, TX 79706, USA\\nChannel\\nDoorDash\\nFulfillment\\nDoorDash Delivery\\nOrder Details\\n2\\n×\\nRed Bull Red Edition Watermelon Can (12 oz) (Energy Drinks TX)\\n$11.58\\n1\\n×\\nSnickers King Size (3.29oz) (Chocolate TX)\\n$3.79\\nSubtotal\\n$15.37\\nSubtotal Tax\\n$1.92\\nCommission (16%)\\n-$2.46\\nTotal Customer Refund\\n-$0.00\\nEstimated Payout\\n$14.83\\nAssociated Transactions (1)\\nTransaction #8061354366 - Delivery\\n$14.83',\n",
    " 'Order: 96F7D0D1\\nDelivered\\nThe order was delivered at 1:25 PM on September 25, 2023. \\nRate Dasher\\nGet help\\nDelivery Details\\nCustomer\\nJustin M\\nDasher\\nClarisa\\nPicked Up\\n1:21 PM\\n(Quoted: 1:20 PM)\\nSeptember 25, 2023\\nDropped Off\\n1:25 PM\\n(Quoted: 1:31 PM)\\nSeptember 25, 2023\\nPick Up Location\\n401 N 1st St, Carrizo Springs, TX 78834, USA\\nChannel\\nDoorDash\\nFulfillment\\nDoorDash Delivery\\nOrder Details\\n1\\n×\\nBig Red Bottle (20oz) (Soda TX)\\n$3.79\\n1\\n×\\nGatorade Fruit Punch (28 oz) (Sports Drinks TX)\\n$4.79\\nSubtotal\\n$8.58\\nSubtotal Tax\\n$1.09\\nCommission (16%)\\n-$1.37\\nTotal Customer Refund\\n-$0.00\\nEstimated Payout\\n$8.30\\nAssociated Transactions (1)\\nTransaction #8061018362 - Delivery\\n$8.30',\n",
    " 'Order: D6930CBB\\nDelivered\\nThe order was delivered at 1:05 PM on September 25, 2023. \\nRate Dasher\\nGet help\\nDelivery Details\\nCustomer\\nPreston K\\nDasher\\nTelleia\\nPicked Up\\n12:54 PM\\n(Quoted: 12:50 PM)\\nSeptember 25, 2023\\nDropped Off\\n1:05 PM\\n(Quoted: 1:32 PM)\\nSeptember 25, 2023\\nPick Up Location\\n21024 W, 21024 State Hwy 71, Spicewood, TX 78669, USA\\nChannel\\nDoorDash\\nFulfillment\\nDoorDash Delivery\\nOrder Details\\n1\\n×\\nChicken Fajita Taco (Lunch & Dinner Tacos TXB#62)\\nSalsa:\\nSalsa Roja\\n$5.69\\n1\\n×\\nMacaroni Cheese Medium (Sides TXB#62)\\n$3.49\\n1\\n×\\nChicken Tender Meal Kit (Meal Kits TXB#62)\\n$9.19\\n1\\n×\\nMash Potato & Gravy Large (Sides TXB#62)\\n$5.99\\nSubtotal\\n$24.36\\nSubtotal Tax\\n$3.11\\nCommission (16%)\\n-$3.90\\nTotal Customer Refund\\n-$0.00\\nEstimated Payout\\n$23.57\\nAssociated Transactions (1)\\nTransaction #8060830586 - Delivery\\n$23.57',\n",
    " 'Order: AB050AA9\\nDelivered\\nThe order was delivered at 12:36 PM on September 25, 2023. \\nRate Dasher\\nGet help\\nDelivery Details\\nCustomer\\nHunter H\\nDasher\\nDavid\\nPicked Up\\n12:20 PM\\n(Quoted: 12:15 PM)\\nSeptember 25, 2023\\nDropped Off\\n12:36 PM\\n(Quoted: 12:43 PM)\\nSeptember 25, 2023\\nPick Up Location\\n3702 FM2147, Horseshoe Bay, TX 78657, USA\\nChannel\\nDoorDash\\nFulfillment\\nDoorDash Delivery\\nOrder Details\\n1\\n×\\nArizona Green Tea Bottle (34oz) (Tea TX)\\n$4.39\\nSubtotal\\n$4.39\\nSubtotal Tax\\n$0.00\\nCommission (20%)\\n-$0.88\\nTotal Customer Refund\\n-$0.00\\nEstimated Payout\\n$3.51\\nAssociated Transactions (1)\\nTransaction #8060591450 - Delivery\\n$3.51',\n",
    " 'Order: 7A060210\\nDelivered\\nThe order was delivered at 12:20 PM on September 25, 2023. \\nRate Dasher\\nGet help\\nDelivery Details\\nCustomer\\nNeyssa P\\nDasher\\nAndrew\\nPicked Up\\n12:15 PM\\n(Quoted: 12:17 PM)\\nSeptember 25, 2023\\nDropped Off\\n12:20 PM\\n(Quoted: 1:07 PM)\\nSeptember 25, 2023\\nPick Up Location\\n14620 Ranch Rd 12, Wimberley, TX 78676, USA\\nChannel\\nDoorDash\\nFulfillment\\nDoorDash Delivery\\nOrder Details\\n1\\n×\\nMash Potato & Gravy Medium (Sides TXB#57)\\n$3.49\\n2\\n×\\nHand-Breaded Chicken Roll Sandwich (Hot Sandwiches TXB#57)\\nDipping Sauce:\\nRanch Dipping Sauce\\nOriginal or Spicy:\\nSpicy\\n$8.38\\nSubtotal\\n$11.87\\nSubtotal Tax\\n$1.51\\nCommission (16%)\\n-$1.90\\nTotal Customer Refund\\n-$0.00\\nEstimated Payout\\n$11.48\\nAssociated Transactions (1)\\nTransaction #8060557422 - Delivery\\n$11.48',\n",
    " 'Order: 5F87EA62\\nDelivered\\nThe order was delivered at 10:14 AM on September 25, 2023. \\nRate Dasher\\nDelivery Details\\nCustomer\\nTrace M\\nPicked Up\\n10:08 AM\\n(Quoted: 10:11 AM)\\nSeptember 25, 2023\\nPick Up Location\\n1301 N U.S. Hwy 281, Marble Falls, TX 78654, USA\\nChannel\\nDoorDash\\nOrder Details\\n1\\n×\\nChorizo Egg Cheese Quesadilla (Breakfast Tacos & Quesadillas)\\nSalsa:\\n1\\n×\\nDouble Bacon Egg Cheese Taco (Breakfast Tacos & Quesadillas)\\nSalsa:\\n1\\n×\\nC4 Frozen Bombscicle Can (16oz) (Energy Drinks TX)\\n$4.79\\n1\\n×\\nC4 Skittles Can (16oz) (Energy Drinks TX)\\n$4.79\\n1\\n×\\nC4 Starburst Cherry Can (16oz) (Energy Drinks TX)\\n$4.79\\n1\\n×\\nBreakfast Quesadilla (Breakfast Tacos & Quesadillas)\\n$7.49\\nSubtotal\\n$35.24\\nSubtotal Tax\\n$5.81\\nCommission (25%)\\n-$8.81\\nTotal Customer Refund\\n-$0.00\\nEstimated Payout\\n$32.24\\nAssociated Transactions (1)\\nTransaction #8059795042 - Delivery\\n$32.24']"
   ],
   "metadata": {
    "collapsed": false,
    "ExecuteTime": {
     "end_time": "2023-09-26T19:19:17.171093Z",
     "start_time": "2023-09-26T19:19:17.165023Z"
    }
   },
   "id": "94ad52f009fad3fd"
  },
  {
   "cell_type": "code",
   "execution_count": 129,
   "outputs": [],
   "source": [
    "json_results = orders_looper(orders_list)"
   ],
   "metadata": {
    "collapsed": false,
    "ExecuteTime": {
     "end_time": "2023-09-26T18:40:31.418430Z",
     "start_time": "2023-09-26T18:40:31.356522Z"
    }
   },
   "id": "b27d97c68dfe9d0e"
  },
  {
   "cell_type": "code",
   "execution_count": 96,
   "outputs": [
    {
     "data": {
      "text/plain": "[{'Order': '7587448E',\n  'Delivered': 'The order was delivered at 11:15 PM on September 25, 2023. ',\n  'Rate Dasher': 'Get help',\n  'Delivery Details': {'Customer': 'mary r',\n   'Dasher': 'Maurice',\n   'Picked Up': '11:00 PM(Quoted: 10:55 PM)September 25, 2023',\n   'Dropped Off': '11:15 PM(Quoted: 11:22 PM)September 25, 2023',\n   'Pick Up Location': '800 W Interstate 20, Big Spring, TX 79720, USA',\n   'Channel': 'DoorDash',\n   'Fulfillment': 'DoorDash Delivery'},\n  'Order Details': {'2×TXB Water Bottle (1gal) (Water TX)': '$6.58',\n   'Subtotal': '$6.58',\n   'Commission (16%)': '-$1.05',\n   'Estimated Payout': '$5.53'},\n  'Associated Transactions': {'Transaction #8065464878 - Delivery': '$5.53'}},\n {'Order': '51371086',\n  'Delivered': 'The order was delivered at 11:07 PM on September 25, 2023. ',\n  'Rate Dasher': 'Get help',\n  'Delivery Details': {'Customer': 'Chris W',\n   'Dasher': 'Lawrence',\n   'Picked Up': '10:57 PM(Quoted: 10:37 PM)September 25, 2023',\n   'Dropped Off': '11:07 PM(Quoted: 11:00 PM)September 25, 2023',\n   'Pick Up Location': '102 W Main St, Calera, OK 74730, USA',\n   'Channel': 'DoorDash',\n   'Fulfillment': 'DoorDash Delivery'},\n  'Order Details': {'1×Coke Cherry Bottle (20oz) (Soda OK)': '$3.79',\n   'Subtotal': '×',\n   'Estimated Payout': '-$3.74'},\n  'Associated Transactions': {'-$0.00': 'Estimated Payout'}},\n {'Order': '85BA5F93',\n  'Delivered': 'The order was delivered at 10:42 PM on September 25, 2023. ',\n  'Rate Dasher': 'Get help',\n  'Delivery Details': {'Customer': 'Cornelius S',\n   'Dasher': 'Lawrence',\n   'Picked Up': '10:24 PM(Quoted: 10:03 PM)September 25, 2023',\n   'Dropped Off': '10:42 PM(Quoted: 10:38 PM)September 25, 2023',\n   'Pick Up Location': '102 W Main St, Calera, OK 74730, USA',\n   'Channel': 'DoorDash',\n   'Fulfillment': 'DoorDash Delivery'},\n  'Order Details': {\"1×M&M's Peanut King Size (3.27 oz) (Chocolate OK)\": '$3.79',\n   'Subtotal': '×',\n   'Commission (16%)': '×',\n   'Estimated Payout': '×'},\n  'Associated Transactions': {'$7.58': 'Subtotal'}},\n {'Order': '85BA5F93',\n  'Delivery Details': {},\n  'Order Details': {},\n  'Associated Transactions': {}},\n {'Order': '7C78538C',\n  'Delivery Details': {'Customer': 'Picked Up',\n   'Picked Up': 'Pick Up Location2503 TX-349, Midland, TX 79706, USAChannel',\n   'Pick Up Location': '×',\n   'Channel': '$4.58',\n   'Fulfillment': '×'},\n  'Order Details': {'$3.991×': 'TXB Green Tea Bottle (16oz) (Tea TX)',\n   'Subtotal': 'Subtotal',\n   'Estimated Payout': 'Estimated Payout'},\n  'Associated Transactions': {'Associated Transactions (1)': 'Transaction #8065155860 - Pickup'}},\n {'Order': '792BC6EF',\n  'Delivered': 'The order was delivered at 9:50 PM on September 25, 2023. ',\n  'Rate Dasher': 'Get help',\n  'Delivery Details': {'Customer': 'Aaron E',\n   'Dasher': 'Armando',\n   'Picked Up': '9:29 PM(Quoted: 9:21 PM)September 25, 2023',\n   'Dropped Off': '9:50 PM(Quoted: 9:48 PM)September 25, 2023',\n   'Pick Up Location': '2196 El Indio Hwy, Eagle Pass, TX 78852, USA',\n   'Channel': 'DoorDash',\n   'Fulfillment': 'DoorDash Delivery'},\n  'Order Details': {'1×Miller Lite Beer Can (12 oz x 18 ct) (Domestic Beer ST)': '$27.49',\n   'Subtotal': '$27.49',\n   'Estimated Payout': '$25.49'},\n  'Associated Transactions': {'Transaction #8064944545 - Delivery': '$25.49'}},\n {'Order': 'B0DFD67A',\n  'Delivered': 'The order was delivered at 9:30 PM on September 25, 2023. ',\n  'Rate Dasher': 'Get help',\n  'Delivery Details': {'Customer': 'Hillary R',\n   'Dasher': 'Gloria',\n   'Picked Up': '9:23 PM(Quoted: 9:18 PM)September 25, 2023',\n   'Dropped Off': '9:30 PM(Quoted: 9:39 PM)September 25, 2023',\n   'Pick Up Location': '2320 W Main St, Durant, OK 74701, USA',\n   'Channel': 'DoorDash',\n   'Fulfillment': 'DoorDash Delivery'},\n  'Order Details': {'1×Air Heads Bites (2oz) (Fruity OK)': '$4.99',\n   'Subtotal': '×',\n   'Estimated Payout': '$0.00'},\n  'Associated Transactions': {'×': 'Fountain Drink (Fountain, Frozen, & Tea)'}},\n {'Order': 'E308F16E',\n  'Delivered': 'The order was delivered at 8:18 PM on September 25, 2023. ',\n  'Rate Dasher': 'Get help',\n  'Delivery Details': {'Customer': 'Rachel D',\n   'Dasher': 'Polo',\n   'Picked Up': '8:05 PM(Quoted: 8:06 PM)September 25, 2023',\n   'Dropped Off': '8:18 PM(Quoted: 8:22 PM)September 25, 2023',\n   'Pick Up Location': '800 W Interstate 20, Big Spring, TX 79720, USA',\n   'Channel': 'DoorDash',\n   'Fulfillment': 'DoorDash Delivery'},\n  'Order Details': {'1×Fountain Drink (Fountain, Frozen, & Tea)': 'Drink Selection:',\n   'Subtotal': '$0.00',\n   'Commission (16%)': '$7.49',\n   'Estimated Payout': '$0.95'},\n  'Associated Transactions': {'-$1.20': 'Total Customer Refund'}},\n {'Order': '6BFA2F11',\n  'Delivered': 'The order was delivered at 7:13 PM on September 25, 2023. ',\n  'Rate Dasher': 'Get help',\n  'Delivery Details': {'Customer': 'Kristy G',\n   'Dasher': 'JLS',\n   'Picked Up': '7:03 PM(Quoted: 7:09 PM)September 25, 2023',\n   'Dropped Off': '7:13 PM(Quoted: 7:27 PM)September 25, 2023',\n   'Pick Up Location': '801 Lafayette St, Laredo, TX 78041, USA',\n   'Channel': 'DoorDash',\n   'Fulfillment': 'DoorDash Delivery'},\n  'Order Details': {'1×Whole Milk Vitamin D (1 gal) (Milk TX)': '$7.49',\n   'Subtotal': '$7.49',\n   'Commission (16%)': '-$1.20',\n   'Estimated Payout': '$6.29'},\n  'Associated Transactions': {'Transaction #8063675206 - Delivery': '$6.29'}},\n {'Order': '6BFA2F11',\n  'Delivery Details': {},\n  'Order Details': {},\n  'Associated Transactions': {}},\n {'Order': 'A308E7B3',\n  'Delivered': 'The order was delivered at 5:25 PM on September 25, 2023. ',\n  'Rate Dasher': 'Get help',\n  'Delivery Details': {'Customer': 'Dollymae J',\n   'Dasher': 'Andrew',\n   'Picked Up': '5:06 PM(Quoted: 5:03 PM)September 25, 2023',\n   'Dropped Off': '5:25 PM(Quoted: 6:06 PM)September 25, 2023',\n   'Pick Up Location': '14620 Ranch Rd 12, Wimberley, TX 78676, USA',\n   'Channel': 'DoorDash',\n   'Fulfillment': 'DoorDash Delivery'},\n  'Order Details': {'3×Cayman Jack Margarita Can (19 oz) (Flavored Malt Beverages CT)': '$17.07',\n   'Subtotal': '$17.07',\n   'Estimated Payout': '$15.32'},\n  'Associated Transactions': {'Transaction #8062580206 - Delivery': '$15.32'}},\n {'Order': '9A76A89B',\n  'Delivered': 'The order was delivered at 3:44 PM on September 25, 2023. ',\n  'Rate Dasher': 'Get help',\n  'Delivery Details': {'Customer': 'Debi G',\n   'Dasher': 'Eric',\n   'Picked Up': '3:39 PM(Quoted: 3:39 PM)September 25, 2023',\n   'Dropped Off': '3:44 PM(Quoted: 3:55 PM)September 25, 2023',\n   'Pick Up Location': '1741 TX-121, Bonham, TX 75418, USA',\n   'Channel': 'DoorDash',\n   'Fulfillment': 'DoorDash Delivery'},\n  'Order Details': {'1×Fountain Drink (Fountain, Frozen, & Tea)': 'Drink Selection:',\n   'Subtotal': '$0.00',\n   'Estimated Payout': '$1.91'},\n  'Associated Transactions': {'-$3.00': 'Total Customer Refund'}},\n {'Order': '9A76A89B',\n  'Delivery Details': {},\n  'Order Details': {},\n  'Associated Transactions': {}},\n {'Order': '8908C4FE',\n  'Delivery Details': {},\n  'Order Details': {},\n  'Associated Transactions': {}},\n {'Order': '6ABEF86F',\n  'Delivered': 'The order was delivered at 2:23 PM on September 25, 2023. ',\n  'Rate Dasher': 'Get help',\n  'Delivery Details': {'Customer': 'Jessie V',\n   'Dasher': 'Danay',\n   'Picked Up': '2:07 PM(Quoted: 1:57 PM)September 25, 2023',\n   'Dropped Off': '2:23 PM(Quoted: 2:29 PM)September 25, 2023',\n   'Pick Up Location': '2503 TX-349, Midland, TX 79706, USA',\n   'Channel': 'DoorDash',\n   'Fulfillment': 'DoorDash Delivery'},\n  'Order Details': {'2×Red Bull Red Edition Watermelon Can (12 oz) (Energy Drinks TX)': '$11.58',\n   'Subtotal': '×',\n   'Commission (16%)': '$15.37',\n   'Estimated Payout': '-$2.46'},\n  'Associated Transactions': {'-$0.00': 'Estimated Payout'}},\n {'Order': '96F7D0D1',\n  'Delivered': 'The order was delivered at 1:25 PM on September 25, 2023. ',\n  'Rate Dasher': 'Get help',\n  'Delivery Details': {'Customer': 'Justin M',\n   'Dasher': 'Clarisa',\n   'Picked Up': '1:21 PM(Quoted: 1:20 PM)September 25, 2023',\n   'Dropped Off': '1:25 PM(Quoted: 1:31 PM)September 25, 2023',\n   'Pick Up Location': '401 N 1st St, Carrizo Springs, TX 78834, USA',\n   'Channel': 'DoorDash',\n   'Fulfillment': 'DoorDash Delivery'},\n  'Order Details': {'1×Big Red Bottle (20oz) (Soda TX)': '$3.79',\n   'Subtotal': '×',\n   'Commission (16%)': '$8.58',\n   'Estimated Payout': '-$1.37'},\n  'Associated Transactions': {'-$0.00': 'Estimated Payout'}},\n {'Order': 'D6930CBB',\n  'Delivered': 'The order was delivered at 1:05 PM on September 25, 2023. ',\n  'Rate Dasher': 'Get help',\n  'Delivery Details': {'Customer': 'Preston K',\n   'Dasher': 'Telleia',\n   'Picked Up': '12:54 PM(Quoted: 12:50 PM)September 25, 2023',\n   'Dropped Off': '1:05 PM(Quoted: 1:32 PM)September 25, 2023',\n   'Pick Up Location': '21024 W, 21024 State Hwy 71, Spicewood, TX 78669, USA',\n   'Channel': 'DoorDash',\n   'Fulfillment': 'DoorDash Delivery'},\n  'Order Details': {'1×Chicken Fajita Taco (Lunch & Dinner Tacos TXB#62)': 'Salsa:',\n   'Subtotal': '$5.69',\n   'Commission (16%)': '$3.49',\n   'Estimated Payout': '$9.19'},\n  'Associated Transactions': {'×': 'Mash Potato & Gravy Large (Sides TXB#62)'}},\n {'Order': 'AB050AA9',\n  'Delivered': 'The order was delivered at 12:36 PM on September 25, 2023. ',\n  'Rate Dasher': 'Get help',\n  'Delivery Details': {'Customer': 'Hunter H',\n   'Dasher': 'David',\n   'Picked Up': '12:20 PM(Quoted: 12:15 PM)September 25, 2023',\n   'Dropped Off': '12:36 PM(Quoted: 12:43 PM)September 25, 2023',\n   'Pick Up Location': '3702 FM2147, Horseshoe Bay, TX 78657, USA',\n   'Channel': 'DoorDash',\n   'Fulfillment': 'DoorDash Delivery'},\n  'Order Details': {'1×Arizona Green Tea Bottle (34oz) (Tea TX)': '$4.39',\n   'Subtotal': '$4.39',\n   'Estimated Payout': '$3.51'},\n  'Associated Transactions': {'Transaction #8060591450 - Delivery': '$3.51'}},\n {'Order': '7A060210',\n  'Delivered': 'The order was delivered at 12:20 PM on September 25, 2023. ',\n  'Rate Dasher': 'Get help',\n  'Delivery Details': {'Customer': 'Neyssa P',\n   'Dasher': 'Andrew',\n   'Picked Up': '12:15 PM(Quoted: 12:17 PM)September 25, 2023',\n   'Dropped Off': '12:20 PM(Quoted: 1:07 PM)September 25, 2023',\n   'Pick Up Location': '14620 Ranch Rd 12, Wimberley, TX 78676, USA',\n   'Channel': 'DoorDash',\n   'Fulfillment': 'DoorDash Delivery'},\n  'Order Details': {'1×Mash Potato & Gravy Medium (Sides TXB#57)': '$3.49',\n   'Subtotal': '×',\n   'Commission (16%)': 'Original or Spicy:',\n   'Estimated Payout': '$11.87'},\n  'Associated Transactions': {'$1.51': 'Commission (16%)'}},\n {'Order': '5F87EA62',\n  'Delivered': 'The order was delivered at 10:14 AM on September 25, 2023. ',\n  'Rate Dasher': 'Delivery Details',\n  'Delivery Details': {'Customer': 'Picked Up',\n   'Picked Up': 'Pick Up Location1301 N U.S. Hwy 281, Marble Falls, TX 78654, USAChannel',\n   'Pick Up Location': 'Salsa:',\n   'Channel': '×'},\n  'Order Details': {'×C4 Frozen Bombscicle Can (16oz) (Energy Drinks TX)$4.79': '1',\n   'Subtotal': 'C4 Skittles Can (16oz) (Energy Drinks TX)',\n   'Estimated Payout': 'Breakfast Quesadilla (Breakfast Tacos & Quesadillas)'},\n  'Associated Transactions': {'Subtotal': '$35.24'}}]"
     },
     "execution_count": 96,
     "metadata": {},
     "output_type": "execute_result"
    }
   ],
   "source": [
    "json_results"
   ],
   "metadata": {
    "collapsed": false,
    "ExecuteTime": {
     "end_time": "2023-09-26T17:44:21.005975Z",
     "start_time": "2023-09-26T17:44:20.986142Z"
    }
   },
   "id": "baec1c4b9574a121"
  },
  {
   "cell_type": "code",
   "execution_count": 90,
   "outputs": [
    {
     "data": {
      "text/plain": "20"
     },
     "execution_count": 90,
     "metadata": {},
     "output_type": "execute_result"
    }
   ],
   "source": [
    "len(json_results)"
   ],
   "metadata": {
    "collapsed": false,
    "ExecuteTime": {
     "end_time": "2023-09-26T17:38:22.608705Z",
     "start_time": "2023-09-26T17:38:22.593335Z"
    }
   },
   "id": "69c79845225b30e1"
  },
  {
   "cell_type": "code",
   "execution_count": null,
   "outputs": [],
   "source": [
    "\"\"\"\n",
    "-------------------------------------------------------\n",
    "\"\"\""
   ],
   "metadata": {
    "collapsed": false
   },
   "id": "be2589e7d6dcd55b"
  },
  {
   "cell_type": "code",
   "execution_count": 139,
   "outputs": [],
   "source": [
    "def parse_order_(order_string):\n",
    "    # Initialize the result dictionary\n",
    "    order_dict = {}\n",
    "\n",
    "    # Split the order string by '\\n' to separate lines\n",
    "    lines = order_string.split('\\n')\n",
    "\n",
    "    # Process each line in the order string\n",
    "    delivery_details = {}\n",
    "    order_details = {}\n",
    "    associated_transactions = {}\n",
    "\n",
    "    for line in lines:\n",
    "        if line.startswith('Order: '):\n",
    "            # Extract the order ID and add it to the dictionary\n",
    "            order_dict['Order'] = line.split('Order: ')[1]\n",
    "        elif line:\n",
    "            if 'Delivered' in line:\n",
    "                order_dict['Delivered'] = lines[2]\n",
    "            elif 'Rate Dasher' in line:\n",
    "                order_dict['Rate Dasher'] = lines[4]\n",
    "            # Delivery Details\n",
    "            elif 'Customer' in line:\n",
    "                delivery_details['Customer'] = lines[7]\n",
    "            elif 'Dasher' in line:\n",
    "                delivery_details['Dasher'] = lines[9]\n",
    "            elif 'Picked Up' in line:\n",
    "                # combine segmented values into single list val\n",
    "                val = lines[11] + lines[12] + lines[13]\n",
    "                delivery_details['Picked Up'] = val\n",
    "            elif 'Dropped Off' in line:\n",
    "                val = lines[15] + lines[16] + lines[17]\n",
    "                delivery_details['Dropped Off'] = val\n",
    "            elif 'Pick Up Location' in line:\n",
    "                delivery_details['Pick Up Location'] = lines[19]\n",
    "            elif 'Channel' in line:\n",
    "                delivery_details['Channel'] = lines[21]\n",
    "            elif 'Fulfillment' in line:\n",
    "                delivery_details['Fulfillment'] = lines[23]\n",
    "            # Order Details\n",
    "            elif 'Order Details' in line:\n",
    "                order_items = {}\n",
    "                item_info_key = ''\n",
    "                item_info_val_placeholder = ''\n",
    "                current_line = lines.index(line) + 1\n",
    "                if '×' in lines[current_line]:\n",
    "                    item_qty = lines[current_line - 1] # previous line must be quantity int ; todo: split `\\n`? or strip()\n",
    "                    item_name = lines[current_line + 1] # next line must item_name; todo: split `\\n`?  or strip()\n",
    "                    \n",
    "                    # construct full item info key\n",
    "                    item_info_key = item_qty + 'x' + item_name\n",
    "                    \n",
    "                    # add to dict w/ placeholder value\n",
    "                    order_items[item_info_key] = item_info_val_placeholder\n",
    "                    \n",
    "                while current_line < len(lines) and '$' not in lines[current_line]:\n",
    "                    item_line = lines[current_line]\n",
    "                    if ':' in item_line: \n",
    "                        sub_item_key = item_line.strip()\n",
    "                        sub_item_val = lines[current_line + 1]\n",
    "                        order_items[sub_item_key] = sub_item_val\n",
    "                    current_line += 1\n",
    "                    \n",
    "                # exit loop indicates we are on main item price\n",
    "                item_price = lines[current_line].strip()\n",
    "                # update placeholder price value\n",
    "                order_item[item_info_key] = item_price\n",
    "                \n",
    "                order_details.update(order_items)\n",
    "                \n",
    "            elif 'Subtotal' in line:\n",
    "                order_details['Subtotal'] = lines[30]\n",
    "            elif 'Subtotal Tax' in line:\n",
    "                order_details['Subtotal Tax'] = lines[32]\n",
    "            elif 'Commission (16%)' in line:\n",
    "                order_details['Commission (16%)'] = lines[34]\n",
    "            elif 'Total Customer Refund' in line:\n",
    "                order_details['Total Customer Refund'] = lines[36]\n",
    "            elif 'Estimated Payout' in line:\n",
    "                order_details['Estimated Payout'] = lines[38]\n",
    "            # Associated Transactions\n",
    "            elif 'Transaction' in line:\n",
    "                key = lines[40]\n",
    "                associated_transactions[key] = lines[41]\n",
    "\n",
    "    order_dict['Delivery Details'] = delivery_details\n",
    "    order_dict['Order Details'] = order_details\n",
    "    order_dict['Associated Transactions'] = associated_transactions\n",
    "\n",
    "    return order_dict\n"
   ],
   "metadata": {
    "collapsed": false,
    "ExecuteTime": {
     "end_time": "2023-09-26T20:36:55.789731Z",
     "start_time": "2023-09-26T20:36:55.771026Z"
    }
   },
   "id": "115f11e5a9761366"
  },
  {
   "cell_type": "code",
   "execution_count": 140,
   "outputs": [],
   "source": [
    "def orders_looper(orders_list):\n",
    "    orders_in_json_results = []\n",
    "    for order in orders_list:\n",
    "        order_map = parse_order(order)\n",
    "        \n",
    "        orders_in_json_results.append(order_map)\n",
    "    \n",
    "    return orders_in_json_results\n",
    "        \n",
    "    "
   ],
   "metadata": {
    "collapsed": false,
    "ExecuteTime": {
     "end_time": "2023-09-26T20:36:56.545369Z",
     "start_time": "2023-09-26T20:36:56.543752Z"
    }
   },
   "id": "63239d8ef6b70515"
  },
  {
   "cell_type": "code",
   "execution_count": 141,
   "outputs": [],
   "source": [
    "orders_json = orders_looper(orders_list)"
   ],
   "metadata": {
    "collapsed": false,
    "ExecuteTime": {
     "end_time": "2023-09-26T20:36:56.999092Z",
     "start_time": "2023-09-26T20:36:56.996524Z"
    }
   },
   "id": "6837b38beea56974"
  },
  {
   "cell_type": "code",
   "execution_count": 142,
   "outputs": [
    {
     "data": {
      "text/plain": "[{'Order': '7587448E',\n  'Delivered': 'The order was delivered at 11:15 PM on September 25, 2023. ',\n  'Rate Dasher': 'Get help',\n  'Delivery Details': {'Customer': 'mary r',\n   'Dasher': 'Maurice',\n   'Picked Up': '11:00 PM(Quoted: 10:55 PM)September 25, 2023',\n   'Dropped Off': '11:15 PM(Quoted: 11:22 PM)September 25, 2023',\n   'Pick Up Location': '800 W Interstate 20, Big Spring, TX 79720, USA',\n   'Channel': 'DoorDash',\n   'Fulfillment': 'DoorDash Delivery'},\n  'Order Details': {'2×TXB Water Bottle (1gal) (Water TX)': '$6.58',\n   'Subtotal': '$6.58',\n   'Commission (16%)': '-$1.05',\n   'Estimated Payout': '$5.53'},\n  'Associated Transactions': {'Transaction #8065464878 - Delivery': '$5.53'}},\n {'Order': '51371086',\n  'Delivered': 'The order was delivered at 11:07 PM on September 25, 2023. ',\n  'Rate Dasher': 'Get help',\n  'Delivery Details': {'Customer': 'Chris W',\n   'Dasher': 'Lawrence',\n   'Picked Up': '10:57 PM(Quoted: 10:37 PM)September 25, 2023',\n   'Dropped Off': '11:07 PM(Quoted: 11:00 PM)September 25, 2023',\n   'Pick Up Location': '102 W Main St, Calera, OK 74730, USA',\n   'Channel': 'DoorDash',\n   'Fulfillment': 'DoorDash Delivery'},\n  'Order Details': {'1×Coke Cherry Bottle (20oz) (Soda OK)': '$3.79',\n   'Subtotal': '×',\n   'Estimated Payout': '-$3.74'},\n  'Associated Transactions': {'-$0.00': 'Estimated Payout'}},\n {'Order': '85BA5F93',\n  'Delivered': 'The order was delivered at 10:42 PM on September 25, 2023. ',\n  'Rate Dasher': 'Get help',\n  'Delivery Details': {'Customer': 'Cornelius S',\n   'Dasher': 'Lawrence',\n   'Picked Up': '10:24 PM(Quoted: 10:03 PM)September 25, 2023',\n   'Dropped Off': '10:42 PM(Quoted: 10:38 PM)September 25, 2023',\n   'Pick Up Location': '102 W Main St, Calera, OK 74730, USA',\n   'Channel': 'DoorDash',\n   'Fulfillment': 'DoorDash Delivery'},\n  'Order Details': {\"1×M&M's Peanut King Size (3.27 oz) (Chocolate OK)\": '$3.79',\n   'Subtotal': '×',\n   'Commission (16%)': '×',\n   'Estimated Payout': '×'},\n  'Associated Transactions': {'$7.58': 'Subtotal'}},\n {'Order': '85BA5F93',\n  'Delivery Details': {},\n  'Order Details': {},\n  'Associated Transactions': {}},\n {'Order': '7C78538C',\n  'Delivery Details': {'Customer': 'Picked Up',\n   'Picked Up': 'Pick Up Location2503 TX-349, Midland, TX 79706, USAChannel',\n   'Pick Up Location': '×',\n   'Channel': '$4.58',\n   'Fulfillment': '×'},\n  'Order Details': {'$3.991×': 'TXB Green Tea Bottle (16oz) (Tea TX)',\n   'Subtotal': 'Subtotal',\n   'Estimated Payout': 'Estimated Payout'},\n  'Associated Transactions': {'Associated Transactions (1)': 'Transaction #8065155860 - Pickup'}},\n {'Order': '792BC6EF',\n  'Delivered': 'The order was delivered at 9:50 PM on September 25, 2023. ',\n  'Rate Dasher': 'Get help',\n  'Delivery Details': {'Customer': 'Aaron E',\n   'Dasher': 'Armando',\n   'Picked Up': '9:29 PM(Quoted: 9:21 PM)September 25, 2023',\n   'Dropped Off': '9:50 PM(Quoted: 9:48 PM)September 25, 2023',\n   'Pick Up Location': '2196 El Indio Hwy, Eagle Pass, TX 78852, USA',\n   'Channel': 'DoorDash',\n   'Fulfillment': 'DoorDash Delivery'},\n  'Order Details': {'1×Miller Lite Beer Can (12 oz x 18 ct) (Domestic Beer ST)': '$27.49',\n   'Subtotal': '$27.49',\n   'Estimated Payout': '$25.49'},\n  'Associated Transactions': {'Transaction #8064944545 - Delivery': '$25.49'}},\n {'Order': 'B0DFD67A',\n  'Delivered': 'The order was delivered at 9:30 PM on September 25, 2023. ',\n  'Rate Dasher': 'Get help',\n  'Delivery Details': {'Customer': 'Hillary R',\n   'Dasher': 'Gloria',\n   'Picked Up': '9:23 PM(Quoted: 9:18 PM)September 25, 2023',\n   'Dropped Off': '9:30 PM(Quoted: 9:39 PM)September 25, 2023',\n   'Pick Up Location': '2320 W Main St, Durant, OK 74701, USA',\n   'Channel': 'DoorDash',\n   'Fulfillment': 'DoorDash Delivery'},\n  'Order Details': {'1×Air Heads Bites (2oz) (Fruity OK)': '$4.99',\n   'Subtotal': '×',\n   'Estimated Payout': '$0.00'},\n  'Associated Transactions': {'×': 'Fountain Drink (Fountain, Frozen, & Tea)'}},\n {'Order': 'E308F16E',\n  'Delivered': 'The order was delivered at 8:18 PM on September 25, 2023. ',\n  'Rate Dasher': 'Get help',\n  'Delivery Details': {'Customer': 'Rachel D',\n   'Dasher': 'Polo',\n   'Picked Up': '8:05 PM(Quoted: 8:06 PM)September 25, 2023',\n   'Dropped Off': '8:18 PM(Quoted: 8:22 PM)September 25, 2023',\n   'Pick Up Location': '800 W Interstate 20, Big Spring, TX 79720, USA',\n   'Channel': 'DoorDash',\n   'Fulfillment': 'DoorDash Delivery'},\n  'Order Details': {'1×Fountain Drink (Fountain, Frozen, & Tea)': 'Drink Selection:',\n   'Subtotal': '$0.00',\n   'Commission (16%)': '$7.49',\n   'Estimated Payout': '$0.95'},\n  'Associated Transactions': {'-$1.20': 'Total Customer Refund'}},\n {'Order': '6BFA2F11',\n  'Delivered': 'The order was delivered at 7:13 PM on September 25, 2023. ',\n  'Rate Dasher': 'Get help',\n  'Delivery Details': {'Customer': 'Kristy G',\n   'Dasher': 'JLS',\n   'Picked Up': '7:03 PM(Quoted: 7:09 PM)September 25, 2023',\n   'Dropped Off': '7:13 PM(Quoted: 7:27 PM)September 25, 2023',\n   'Pick Up Location': '801 Lafayette St, Laredo, TX 78041, USA',\n   'Channel': 'DoorDash',\n   'Fulfillment': 'DoorDash Delivery'},\n  'Order Details': {'1×Whole Milk Vitamin D (1 gal) (Milk TX)': '$7.49',\n   'Subtotal': '$7.49',\n   'Commission (16%)': '-$1.20',\n   'Estimated Payout': '$6.29'},\n  'Associated Transactions': {'Transaction #8063675206 - Delivery': '$6.29'}},\n {'Order': '6BFA2F11',\n  'Delivery Details': {},\n  'Order Details': {},\n  'Associated Transactions': {}},\n {'Order': 'A308E7B3',\n  'Delivered': 'The order was delivered at 5:25 PM on September 25, 2023. ',\n  'Rate Dasher': 'Get help',\n  'Delivery Details': {'Customer': 'Dollymae J',\n   'Dasher': 'Andrew',\n   'Picked Up': '5:06 PM(Quoted: 5:03 PM)September 25, 2023',\n   'Dropped Off': '5:25 PM(Quoted: 6:06 PM)September 25, 2023',\n   'Pick Up Location': '14620 Ranch Rd 12, Wimberley, TX 78676, USA',\n   'Channel': 'DoorDash',\n   'Fulfillment': 'DoorDash Delivery'},\n  'Order Details': {'3×Cayman Jack Margarita Can (19 oz) (Flavored Malt Beverages CT)': '$17.07',\n   'Subtotal': '$17.07',\n   'Estimated Payout': '$15.32'},\n  'Associated Transactions': {'Transaction #8062580206 - Delivery': '$15.32'}},\n {'Order': '9A76A89B',\n  'Delivered': 'The order was delivered at 3:44 PM on September 25, 2023. ',\n  'Rate Dasher': 'Get help',\n  'Delivery Details': {'Customer': 'Debi G',\n   'Dasher': 'Eric',\n   'Picked Up': '3:39 PM(Quoted: 3:39 PM)September 25, 2023',\n   'Dropped Off': '3:44 PM(Quoted: 3:55 PM)September 25, 2023',\n   'Pick Up Location': '1741 TX-121, Bonham, TX 75418, USA',\n   'Channel': 'DoorDash',\n   'Fulfillment': 'DoorDash Delivery'},\n  'Order Details': {'1×Fountain Drink (Fountain, Frozen, & Tea)': 'Drink Selection:',\n   'Subtotal': '$0.00',\n   'Estimated Payout': '$1.91'},\n  'Associated Transactions': {'-$3.00': 'Total Customer Refund'}},\n {'Order': '9A76A89B',\n  'Delivery Details': {},\n  'Order Details': {},\n  'Associated Transactions': {}},\n {'Order': '8908C4FE',\n  'Delivery Details': {},\n  'Order Details': {},\n  'Associated Transactions': {}},\n {'Order': '6ABEF86F',\n  'Delivered': 'The order was delivered at 2:23 PM on September 25, 2023. ',\n  'Rate Dasher': 'Get help',\n  'Delivery Details': {'Customer': 'Jessie V',\n   'Dasher': 'Danay',\n   'Picked Up': '2:07 PM(Quoted: 1:57 PM)September 25, 2023',\n   'Dropped Off': '2:23 PM(Quoted: 2:29 PM)September 25, 2023',\n   'Pick Up Location': '2503 TX-349, Midland, TX 79706, USA',\n   'Channel': 'DoorDash',\n   'Fulfillment': 'DoorDash Delivery'},\n  'Order Details': {'2×Red Bull Red Edition Watermelon Can (12 oz) (Energy Drinks TX)': '$11.58',\n   'Subtotal': '×',\n   'Commission (16%)': '$15.37',\n   'Estimated Payout': '-$2.46'},\n  'Associated Transactions': {'-$0.00': 'Estimated Payout'}},\n {'Order': '96F7D0D1',\n  'Delivered': 'The order was delivered at 1:25 PM on September 25, 2023. ',\n  'Rate Dasher': 'Get help',\n  'Delivery Details': {'Customer': 'Justin M',\n   'Dasher': 'Clarisa',\n   'Picked Up': '1:21 PM(Quoted: 1:20 PM)September 25, 2023',\n   'Dropped Off': '1:25 PM(Quoted: 1:31 PM)September 25, 2023',\n   'Pick Up Location': '401 N 1st St, Carrizo Springs, TX 78834, USA',\n   'Channel': 'DoorDash',\n   'Fulfillment': 'DoorDash Delivery'},\n  'Order Details': {'1×Big Red Bottle (20oz) (Soda TX)': '$3.79',\n   'Subtotal': '×',\n   'Commission (16%)': '$8.58',\n   'Estimated Payout': '-$1.37'},\n  'Associated Transactions': {'-$0.00': 'Estimated Payout'}},\n {'Order': 'D6930CBB',\n  'Delivered': 'The order was delivered at 1:05 PM on September 25, 2023. ',\n  'Rate Dasher': 'Get help',\n  'Delivery Details': {'Customer': 'Preston K',\n   'Dasher': 'Telleia',\n   'Picked Up': '12:54 PM(Quoted: 12:50 PM)September 25, 2023',\n   'Dropped Off': '1:05 PM(Quoted: 1:32 PM)September 25, 2023',\n   'Pick Up Location': '21024 W, 21024 State Hwy 71, Spicewood, TX 78669, USA',\n   'Channel': 'DoorDash',\n   'Fulfillment': 'DoorDash Delivery'},\n  'Order Details': {'1×Chicken Fajita Taco (Lunch & Dinner Tacos TXB#62)': 'Salsa:',\n   'Subtotal': '$5.69',\n   'Commission (16%)': '$3.49',\n   'Estimated Payout': '$9.19'},\n  'Associated Transactions': {'×': 'Mash Potato & Gravy Large (Sides TXB#62)'}},\n {'Order': 'AB050AA9',\n  'Delivered': 'The order was delivered at 12:36 PM on September 25, 2023. ',\n  'Rate Dasher': 'Get help',\n  'Delivery Details': {'Customer': 'Hunter H',\n   'Dasher': 'David',\n   'Picked Up': '12:20 PM(Quoted: 12:15 PM)September 25, 2023',\n   'Dropped Off': '12:36 PM(Quoted: 12:43 PM)September 25, 2023',\n   'Pick Up Location': '3702 FM2147, Horseshoe Bay, TX 78657, USA',\n   'Channel': 'DoorDash',\n   'Fulfillment': 'DoorDash Delivery'},\n  'Order Details': {'1×Arizona Green Tea Bottle (34oz) (Tea TX)': '$4.39',\n   'Subtotal': '$4.39',\n   'Estimated Payout': '$3.51'},\n  'Associated Transactions': {'Transaction #8060591450 - Delivery': '$3.51'}},\n {'Order': '7A060210',\n  'Delivered': 'The order was delivered at 12:20 PM on September 25, 2023. ',\n  'Rate Dasher': 'Get help',\n  'Delivery Details': {'Customer': 'Neyssa P',\n   'Dasher': 'Andrew',\n   'Picked Up': '12:15 PM(Quoted: 12:17 PM)September 25, 2023',\n   'Dropped Off': '12:20 PM(Quoted: 1:07 PM)September 25, 2023',\n   'Pick Up Location': '14620 Ranch Rd 12, Wimberley, TX 78676, USA',\n   'Channel': 'DoorDash',\n   'Fulfillment': 'DoorDash Delivery'},\n  'Order Details': {'1×Mash Potato & Gravy Medium (Sides TXB#57)': '$3.49',\n   'Subtotal': '×',\n   'Commission (16%)': 'Original or Spicy:',\n   'Estimated Payout': '$11.87'},\n  'Associated Transactions': {'$1.51': 'Commission (16%)'}},\n {'Order': '5F87EA62',\n  'Delivered': 'The order was delivered at 10:14 AM on September 25, 2023. ',\n  'Rate Dasher': 'Delivery Details',\n  'Delivery Details': {'Customer': 'Picked Up',\n   'Picked Up': 'Pick Up Location1301 N U.S. Hwy 281, Marble Falls, TX 78654, USAChannel',\n   'Pick Up Location': 'Salsa:',\n   'Channel': '×'},\n  'Order Details': {'×C4 Frozen Bombscicle Can (16oz) (Energy Drinks TX)$4.79': '1',\n   'Subtotal': 'C4 Skittles Can (16oz) (Energy Drinks TX)',\n   'Estimated Payout': 'Breakfast Quesadilla (Breakfast Tacos & Quesadillas)'},\n  'Associated Transactions': {'Subtotal': '$35.24'}}]"
     },
     "execution_count": 142,
     "metadata": {},
     "output_type": "execute_result"
    }
   ],
   "source": [
    "orders_json"
   ],
   "metadata": {
    "collapsed": false,
    "ExecuteTime": {
     "end_time": "2023-09-26T20:36:57.551835Z",
     "start_time": "2023-09-26T20:36:57.548481Z"
    }
   },
   "id": "871ec680eb905533"
  },
  {
   "cell_type": "code",
   "execution_count": 53,
   "outputs": [],
   "source": [
    "   # def parse_delivery_details(order_dict):\n",
    "\n",
    "            # elif 'Delivery Details' in line:\n",
    "            #     delivery_details = {}\n",
    "            #     delivery_details['Delivery Details'] = lines[6]\n",
    "            #     \n",
    "            #     \n",
    "                \n",
    "    #         # Check if we're inside Delivery Details, Order Details, or Associated Transactions\n",
    "    #         if current_key == 'Delivery Details':\n",
    "    #             delivery_details = {}\n",
    "    #         elif current_key == 'Order Details':\n",
    "    #             order_details = {}\n",
    "    #         elif current_key == 'Associated Transactions':\n",
    "    #             associated_transactions = {}\n",
    "    # \n",
    "    #         # Add the key-value pairs to the corresponding sub-dictionary\n",
    "    #         if delivery_details is not None:\n",
    "    #             delivery_details[current_key] = current_value\n",
    "    #         elif order_details is not None:\n",
    "    #             order_details[current_key] = current_value\n",
    "    #         elif associated_transactions is not None:\n",
    "    #             associated_transactions[current_key] = current_value\n",
    "    #         else:\n",
    "    #             order_dict[current_key] = current_value\n",
    "    # \n",
    "    # # Add the sub-dictionaries to the main dictionary if they exist\n",
    "    # if delivery_details:\n",
    "    #     order_dict['Delivery Details'] = delivery_details\n",
    "    # if order_details:\n",
    "    #     order_dict['Order Details'] = order_details\n",
    "    # if associated_transactions:\n",
    "    #     order_dict['Associated Transactions'] = associated_transactions\n",
    "    # \n",
    "    # return order_dict\n"
   ],
   "metadata": {
    "collapsed": false,
    "ExecuteTime": {
     "start_time": "2023-09-26T17:03:49.694711Z"
    }
   },
   "id": "698ab11b7a66cd93"
  },
  {
   "cell_type": "code",
   "execution_count": 54,
   "outputs": [
    {
     "data": {
      "text/plain": "{'Order': '7587448E',\n 'Delivered': 'The order was delivered at 11:15 PM on September 25, 2023. ',\n 'Rate Dasher': 'Get help'}"
     },
     "execution_count": 54,
     "metadata": {},
     "output_type": "execute_result"
    }
   ],
   "source": [],
   "metadata": {
    "collapsed": false,
    "ExecuteTime": {
     "end_time": "2023-09-26T17:03:49.975598Z",
     "start_time": "2023-09-26T17:03:49.972365Z"
    }
   },
   "id": "9328efab1ce0b9b5"
  },
  {
   "cell_type": "code",
   "execution_count": 22,
   "outputs": [
    {
     "ename": "TypeError",
     "evalue": "unsupported operand type(s) for +=: 'NoneType' and 'str'",
     "output_type": "error",
     "traceback": [
      "\u001B[0;31m---------------------------------------------------------------------------\u001B[0m",
      "\u001B[0;31mTypeError\u001B[0m                                 Traceback (most recent call last)",
      "Cell \u001B[0;32mIn[22], line 71\u001B[0m\n\u001B[1;32m     65\u001B[0m \u001B[38;5;66;03m# Example usage with a list of order strings\u001B[39;00m\n\u001B[1;32m     66\u001B[0m orders_content \u001B[38;5;241m=\u001B[39m [\n\u001B[1;32m     67\u001B[0m     \u001B[38;5;124m'\u001B[39m\u001B[38;5;124mOrder: 7587448E\u001B[39m\u001B[38;5;130;01m\\n\u001B[39;00m\u001B[38;5;124mDelivered\u001B[39m\u001B[38;5;130;01m\\n\u001B[39;00m\u001B[38;5;124mThe order was delivered at 11:15 PM on September 25, 2023. \u001B[39m\u001B[38;5;130;01m\\n\u001B[39;00m\u001B[38;5;124mRate Dasher\u001B[39m\u001B[38;5;130;01m\\n\u001B[39;00m\u001B[38;5;124mGet help\u001B[39m\u001B[38;5;130;01m\\n\u001B[39;00m\u001B[38;5;124mDelivery Details\u001B[39m\u001B[38;5;130;01m\\n\u001B[39;00m\u001B[38;5;124mCustomer\u001B[39m\u001B[38;5;130;01m\\n\u001B[39;00m\u001B[38;5;124mmary r\u001B[39m\u001B[38;5;130;01m\\n\u001B[39;00m\u001B[38;5;124mDasher\u001B[39m\u001B[38;5;130;01m\\n\u001B[39;00m\u001B[38;5;124mMaurice\u001B[39m\u001B[38;5;130;01m\\n\u001B[39;00m\u001B[38;5;124mPicked Up\u001B[39m\u001B[38;5;130;01m\\n\u001B[39;00m\u001B[38;5;124m11:00 PM\u001B[39m\u001B[38;5;130;01m\\n\u001B[39;00m\u001B[38;5;124m(Quoted: 10:55 PM)\u001B[39m\u001B[38;5;130;01m\\n\u001B[39;00m\u001B[38;5;124mSeptember 25, 2023\u001B[39m\u001B[38;5;130;01m\\n\u001B[39;00m\u001B[38;5;124mDropped Off\u001B[39m\u001B[38;5;130;01m\\n\u001B[39;00m\u001B[38;5;124m11:15 PM\u001B[39m\u001B[38;5;130;01m\\n\u001B[39;00m\u001B[38;5;124m(Quoted: 11:22 PM)\u001B[39m\u001B[38;5;130;01m\\n\u001B[39;00m\u001B[38;5;124mSeptember 25, 2023\u001B[39m\u001B[38;5;130;01m\\n\u001B[39;00m\u001B[38;5;124mPick Up Location\u001B[39m\u001B[38;5;130;01m\\n\u001B[39;00m\u001B[38;5;124m800 W Interstate 20, Big Spring, TX 79720, USA\u001B[39m\u001B[38;5;130;01m\\n\u001B[39;00m\u001B[38;5;124mChannel\u001B[39m\u001B[38;5;130;01m\\n\u001B[39;00m\u001B[38;5;124mDoorDash\u001B[39m\u001B[38;5;130;01m\\n\u001B[39;00m\u001B[38;5;124mFulfillment\u001B[39m\u001B[38;5;130;01m\\n\u001B[39;00m\u001B[38;5;124mDoorDash Delivery\u001B[39m\u001B[38;5;130;01m\\n\u001B[39;00m\u001B[38;5;124mOrder Details\u001B[39m\u001B[38;5;130;01m\\n\u001B[39;00m\u001B[38;5;124m2\u001B[39m\u001B[38;5;130;01m\\n\u001B[39;00m\u001B[38;5;124m×\u001B[39m\u001B[38;5;130;01m\\n\u001B[39;00m\u001B[38;5;124mTXB Water Bottle (1gal) (Water TX)\u001B[39m\u001B[38;5;130;01m\\n\u001B[39;00m\u001B[38;5;124m$6.58\u001B[39m\u001B[38;5;130;01m\\n\u001B[39;00m\u001B[38;5;124mSubtotal\u001B[39m\u001B[38;5;130;01m\\n\u001B[39;00m\u001B[38;5;124m$6.58\u001B[39m\u001B[38;5;130;01m\\n\u001B[39;00m\u001B[38;5;124mSubtotal Tax\u001B[39m\u001B[38;5;130;01m\\n\u001B[39;00m\u001B[38;5;124m$0.00\u001B[39m\u001B[38;5;130;01m\\n\u001B[39;00m\u001B[38;5;124mCommission (16\u001B[39m\u001B[38;5;124m%\u001B[39m\u001B[38;5;124m)\u001B[39m\u001B[38;5;130;01m\\n\u001B[39;00m\u001B[38;5;124m-$1.05\u001B[39m\u001B[38;5;130;01m\\n\u001B[39;00m\u001B[38;5;124mTotal Customer Refund\u001B[39m\u001B[38;5;130;01m\\n\u001B[39;00m\u001B[38;5;124m-$0.00\u001B[39m\u001B[38;5;130;01m\\n\u001B[39;00m\u001B[38;5;124mEstimated Payout\u001B[39m\u001B[38;5;130;01m\\n\u001B[39;00m\u001B[38;5;124m$5.53\u001B[39m\u001B[38;5;130;01m\\n\u001B[39;00m\u001B[38;5;124mAssociated Transactions (1)\u001B[39m\u001B[38;5;130;01m\\n\u001B[39;00m\u001B[38;5;124mTransaction #8065464878 - Delivery\u001B[39m\u001B[38;5;130;01m\\n\u001B[39;00m\u001B[38;5;124m$5.53\u001B[39m\u001B[38;5;124m'\u001B[39m,\n\u001B[1;32m     68\u001B[0m     \u001B[38;5;124m'\u001B[39m\u001B[38;5;124mOrder: 2, Order: 3\u001B[39m\u001B[38;5;124m'\u001B[39m\n\u001B[1;32m     69\u001B[0m ]\n\u001B[0;32m---> 71\u001B[0m parsed_orders \u001B[38;5;241m=\u001B[39m \u001B[43morders_to_dict\u001B[49m\u001B[43m(\u001B[49m\u001B[43morders_content\u001B[49m\u001B[43m)\u001B[49m\n\u001B[1;32m     72\u001B[0m \u001B[38;5;28mprint\u001B[39m(parsed_orders)  \u001B[38;5;66;03m# List of dictionaries, one for each order\u001B[39;00m\n",
      "Cell \u001B[0;32mIn[22], line 62\u001B[0m, in \u001B[0;36morders_to_dict\u001B[0;34m(orders)\u001B[0m\n\u001B[1;32m     60\u001B[0m \u001B[38;5;28;01mdef\u001B[39;00m \u001B[38;5;21morders_to_dict\u001B[39m(orders):\n\u001B[1;32m     61\u001B[0m     \u001B[38;5;66;03m# Process each order string using the parse_order function\u001B[39;00m\n\u001B[0;32m---> 62\u001B[0m     parsed_orders \u001B[38;5;241m=\u001B[39m [parse_order(order_string) \u001B[38;5;28;01mfor\u001B[39;00m order_string \u001B[38;5;129;01min\u001B[39;00m orders]\n\u001B[1;32m     63\u001B[0m     \u001B[38;5;28;01mreturn\u001B[39;00m parsed_orders\n",
      "Cell \u001B[0;32mIn[22], line 62\u001B[0m, in \u001B[0;36m<listcomp>\u001B[0;34m(.0)\u001B[0m\n\u001B[1;32m     60\u001B[0m \u001B[38;5;28;01mdef\u001B[39;00m \u001B[38;5;21morders_to_dict\u001B[39m(orders):\n\u001B[1;32m     61\u001B[0m     \u001B[38;5;66;03m# Process each order string using the parse_order function\u001B[39;00m\n\u001B[0;32m---> 62\u001B[0m     parsed_orders \u001B[38;5;241m=\u001B[39m [\u001B[43mparse_order\u001B[49m\u001B[43m(\u001B[49m\u001B[43morder_string\u001B[49m\u001B[43m)\u001B[49m \u001B[38;5;28;01mfor\u001B[39;00m order_string \u001B[38;5;129;01min\u001B[39;00m orders]\n\u001B[1;32m     63\u001B[0m     \u001B[38;5;28;01mreturn\u001B[39;00m parsed_orders\n",
      "Cell \u001B[0;32mIn[22], line 30\u001B[0m, in \u001B[0;36mparse_order\u001B[0;34m(order_string)\u001B[0m\n\u001B[1;32m     27\u001B[0m     current_value \u001B[38;5;241m+\u001B[39m\u001B[38;5;241m=\u001B[39m \u001B[38;5;124m'\u001B[39m\u001B[38;5;130;01m\\n\u001B[39;00m\u001B[38;5;124m'\u001B[39m \u001B[38;5;241m+\u001B[39m line\u001B[38;5;241m.\u001B[39mstrip()\n\u001B[1;32m     28\u001B[0m \u001B[38;5;28;01melse\u001B[39;00m:\n\u001B[1;32m     29\u001B[0m     \u001B[38;5;66;03m# Otherwise, add the line to the previous value (usually Delivery Details)\u001B[39;00m\n\u001B[0;32m---> 30\u001B[0m     current_value \u001B[38;5;241m+\u001B[39m\u001B[38;5;241m=\u001B[39m \u001B[38;5;124m'\u001B[39m\u001B[38;5;130;01m\\n\u001B[39;00m\u001B[38;5;124m'\u001B[39m \u001B[38;5;241m+\u001B[39m line\u001B[38;5;241m.\u001B[39mstrip()\n\u001B[1;32m     32\u001B[0m \u001B[38;5;66;03m# Check if we're inside Delivery Details, Order Details, or Associated Transactions\u001B[39;00m\n\u001B[1;32m     33\u001B[0m \u001B[38;5;28;01mif\u001B[39;00m current_key \u001B[38;5;241m==\u001B[39m \u001B[38;5;124m'\u001B[39m\u001B[38;5;124mDelivery Details\u001B[39m\u001B[38;5;124m'\u001B[39m:\n",
      "\u001B[0;31mTypeError\u001B[0m: unsupported operand type(s) for +=: 'NoneType' and 'str'"
     ]
    }
   ],
   "source": [
    "def orders_to_dict(orders):\n",
    "    # Process each order string using the parse_order function\n",
    "    parsed_orders = [parse_order(order_string) for order_string in orders]\n",
    "    return parsed_orders\n",
    "\n",
    "# Example usage with a list of order strings\n",
    "orders_content = [\n",
    "    'Order: 7587448E\\nDelivered\\nThe order was delivered at 11:15 PM on September 25, 2023. \\nRate Dasher\\nGet help\\nDelivery Details\\nCustomer\\nmary r\\nDasher\\nMaurice\\nPicked Up\\n11:00 PM\\n(Quoted: 10:55 PM)\\nSeptember 25, 2023\\nDropped Off\\n11:15 PM\\n(Quoted: 11:22 PM)\\nSeptember 25, 2023\\nPick Up Location\\n800 W Interstate 20, Big Spring, TX 79720, USA\\nChannel\\nDoorDash\\nFulfillment\\nDoorDash Delivery\\nOrder Details\\n2\\n×\\nTXB Water Bottle (1gal) (Water TX)\\n$6.58\\nSubtotal\\n$6.58\\nSubtotal Tax\\n$0.00\\nCommission (16%)\\n-$1.05\\nTotal Customer Refund\\n-$0.00\\nEstimated Payout\\n$5.53\\nAssociated Transactions (1)\\nTransaction #8065464878 - Delivery\\n$5.53',\n",
    "    'Order: 2, Order: 3'\n",
    "]\n",
    "\n",
    "parsed_orders = orders_to_dict(orders_content)\n",
    "print(parsed_orders)  # List of dictionaries, one for each order\n"
   ],
   "metadata": {
    "collapsed": false,
    "ExecuteTime": {
     "start_time": "2023-09-26T16:36:53.160068Z"
    }
   },
   "id": "c86cf01135a9ad9b"
  },
  {
   "cell_type": "code",
   "execution_count": 19,
   "outputs": [],
   "source": [
    "def get_order_id(order_text):\n",
    "    # Extract the order_id\n",
    "    order_id_start = order_text.find(\"Order:\") + len(\"Order: \")\n",
    "    order_id_end = order_text.find(\"\\n\", order_id_start)\n",
    "    order_id = order_text[order_id_start:order_id_end]\n",
    "    return order_id"
   ],
   "metadata": {
    "collapsed": false,
    "ExecuteTime": {
     "end_time": "2023-09-26T16:14:39.378248Z",
     "start_time": "2023-09-26T16:14:39.375718Z"
    }
   },
   "id": "ed7b9e9d48395c3d"
  },
  {
   "cell_type": "code",
   "execution_count": 20,
   "outputs": [
    {
     "data": {
      "text/plain": "'7587448E'"
     },
     "execution_count": 20,
     "metadata": {},
     "output_type": "execute_result"
    }
   ],
   "source": [
    "order_id = get_order_id(orders)\n",
    "order_id"
   ],
   "metadata": {
    "collapsed": false,
    "ExecuteTime": {
     "end_time": "2023-09-26T16:14:39.453493Z",
     "start_time": "2023-09-26T16:14:39.450480Z"
    }
   },
   "id": "b82187e0d543382c"
  },
  {
   "cell_type": "code",
   "execution_count": null,
   "outputs": [],
   "source": [],
   "metadata": {
    "collapsed": false
   },
   "id": "e0ddf81b8edbe22b"
  }
 ],
 "metadata": {
  "kernelspec": {
   "display_name": "Python 3",
   "language": "python",
   "name": "python3"
  },
  "language_info": {
   "codemirror_mode": {
    "name": "ipython",
    "version": 2
   },
   "file_extension": ".py",
   "mimetype": "text/x-python",
   "name": "python",
   "nbconvert_exporter": "python",
   "pygments_lexer": "ipython2",
   "version": "2.7.6"
  }
 },
 "nbformat": 4,
 "nbformat_minor": 5
}
