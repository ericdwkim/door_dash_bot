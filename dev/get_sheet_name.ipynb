{
 "cells": [
  {
   "cell_type": "code",
   "execution_count": 30,
   "id": "initial_id",
   "metadata": {
    "collapsed": true,
    "ExecuteTime": {
     "end_time": "2023-10-03T20:42:32.083002Z",
     "start_time": "2023-10-03T20:42:32.067038Z"
    }
   },
   "outputs": [],
   "source": [
    "import pandas as pd\n",
    "from src.utils.excel_formatter import ExcelFormatter\n",
    "from datetime import datetime\n"
   ]
  },
  {
   "cell_type": "code",
   "execution_count": 31,
   "outputs": [],
   "source": [
    "orders = [{'Order': '42C2A525', 'Delivered': 'The order was delivered at 11:41 PM on October 1, 2023.', 'Pick Up Location': '5004 Wesley St, Greenville, TX 75402, USA', 'Order Details': {'1 × Coca-Cola Can (12 pk-12 oz) (Soda TX)': '$11.29', ' 1 × TXB Water Bottle (24 pk) (16.9 oz) (Water TX)': '$7.49', ' 1 × Coke Classic Bottle (20oz) (Soda TX)': '$3.19'}, 'Subtotal': '$21.97', 'Subtotal Tax': '$1.19', 'Commission (23%)': '-$5.05', 'Total Customer Refund': '-$0.00', 'Estimated Payout': '$18.11', 'Transaction #8113346069 - Delivery': '$18.11', 'Store Number': '20'}, {'Order': 'AA85B890', 'Delivered': 'The order was delivered at 10:08 PM on October 1, 2023.', 'Pick Up Location': '5004 Wesley St, Greenville, TX 75402, USA', 'Order Details': {'1 × Moon Pie Double Decker Banana (2.75oz) (Pastry TX)': '$2.29', ' 1 × Moon Pie Double Decker Chocolate (2.75oz) (Pastry TX)': '$2.29', ' 1 × TXB Sweet Tea Bottle (16oz) (Tea TX)': '$3.29', ' 1 × TXB Strawberry White Tea Bottle (16oz) (Tea TX)': '$2.59', ' 1 × TXB Premium Electrolyte Water Bottle (12pk 1L) (Water TX)': '$4.09'}, 'Subtotal': '$14.55', 'Subtotal Tax': '$0.59', 'Commission (16%)': '-$2.33', 'Total Customer Refund': '-$0.00', 'Estimated Payout': '$12.81', 'Transaction #8112864098 - Delivery': '$12.81', 'Store Number': '20'}, {'Order': '773C7330', 'Delivered': 'The order was delivered at 9:07 PM on October 1, 2023.', 'Pick Up Location': '5004 Wesley St, Greenville, TX 75402, USA', 'Order Details': {'1 × Lone Star Beer Can (16 oz x 6 ct) (Domestic Beer NT)': '$13.79'}, 'Subtotal': '$13.79', 'Subtotal Tax': '$1.14', 'Commission (16%)': '-$2.21', 'Total Customer Refund': '-$0.00', 'Estimated Payout': '$12.72', 'Transaction #8112394394 - Delivery': '$12.72', 'Store Number': '20'}, {'Order': 'EDCB46B1', 'Delivered': 'Error Charge The customer reported one or more missing items resulting in an error charge of $5.86. If you believe this was an error, you can dispute the error charge by October 15, 2023.', 'Pick Up Location': '1001 W Van Alstyne Pkwy, Van Alstyne, TX 75495, USA', 'Order Details': {'1 × Michelob Ultra Light Beer Can (12 oz x 12 ct) (Domestic Beer NT)': '$27.49', ' 1 × Truly Hard Seltzer Berry Mix Pack Can (12 oz x 12 ct) (Seltzer NT)': '$28.79'}, 'Subtotal': '-$5.30 Error Charge Tax -$0.56 Error Charge Total -$5.86 Order Total $47.98', 'Commission (23%)': '-$12.94 Order Total $47.98 Error Charges 1 × Michelob Ultra Light Beer Can (12 oz x 12 ct) (Domestic Beer NT) Missing Item -$5.30 Error Charge', 'Estimated Payout': '$42.12', 'Transaction #8109695187 - Delivery': '$47.98 Transaction #8109811800 - Error Charges -$5.86', 'Store Number': '32'}, {'Order': '68944F97', 'Delivered': 'The order was delivered at 2:50 PM on October 1, 2023.', 'Pick Up Location': '800 W Interstate 20, Big Spring, TX 79720, USA', 'Order Details': {'2 × Michelob Ultra Light Beer Can (12 oz x 18 ct) (Domestic Beer ST)': '$72.58'}, 'Subtotal': '$72.58', 'Subtotal Tax': '$5.99', 'Commission (23%)': '-$16.69', 'Total Customer Refund': '-$0.00', 'Estimated Payout': '$61.88', 'Transaction #8108722869 - Delivery': '$61.88', 'Store Number': '70'}, {'Order': 'ED39CFE2', 'Delivered': 'Error Charge The customer reported one or more missing items resulting in an error charge of $8.11. If you believe this was an error, you can dispute the error charge by October 15, 2023.', 'Pick Up Location': '1301 N U.S. Hwy 281, Marble Falls, TX 78654, USA', 'Order Details': {'1 × Ice Large (Fountain, Frozen, & Tea)': '$7.49', ' 1 × Campbells Chicken Noodle Bowl (15.4oz) (Pantry TX)': '$5.29', ' 2 × TXB Premium Electrolyte Water (1 lt) (Water TX)': '$8.78', ' 1 × 7 Up Bottle (20 oz) (Soda TX)': '$3.79', ' 2 × Gatorade Cool Blue (28 oz) (Sports Drinks TX)': '$9.58'}, 'Subtotal': '-$7.50 Error Charge Tax -$0.61 Error Charge Total -$8.11 Order Total $28.36', 'Commission (25%)': '-$8.73 Order Total $28.36 Error Charges 1 × Ice Large (Fountain, Frozen, & Tea) Missing Item -$7.50 Error Charge', 'Estimated Payout': '$20.25', 'Transaction #8107801352 - Delivery': '$28.36 Transaction #8107871093 - Error Charges -$8.11', 'Store Number': '53'}, {'Order': '78BAE2F8', 'Delivered': 'The order was delivered at 12:41 PM on October 1, 2023.', 'Pick Up Location': '1001 S State Hwy 16, Fredericksburg, TX 78624, USA', 'Order Details': {'1 × Crush Grape Bottle (20oz) (Soda TX)': '$3.79', ' 1 × Turkey & Bacon Wrap (Salads, Wraps, & Cold Sandwiches TXB#61)': '$8.79', ' Subtotal for Tax Calculations': '$12.58'}, 'Subtotal Tax': '$1.04', 'Commission (16%)': '-$2.01', 'Total Customer Refund': '-$0.00', 'Estimated Payout': '$11.61', 'Transaction #8107649354 - Delivery': '$11.61', 'Store Number': '61'}, {'Order': 'DE4528F2', 'Delivered': 'The order was delivered at 12:39 PM on October 1, 2023.', 'Pick Up Location': '2320 W Main St, Durant, OK 74701, USA', 'Order Details': {'1 × Coke Classic Bottle (20oz) (Soda OK)': '$3.19', ' 2 × Red Bull Energy Drink Can (12 oz) (Energy Drinks OK)': '$11.58'}, 'Subtotal': '$14.77', 'Subtotal Tax': '$1.38', 'Commission (23%)': '-$3.40', 'Total Customer Refund': '-$0.00', 'Estimated Payout': '$11.37', 'Transaction #8107692197 - Delivery': '$11.37', 'Store Number': '16'}, {'Order': 'F5539B37', 'Delivered': 'The order was delivered at 10:52 AM on October 1, 2023.', 'Pick Up Location': '3702 FM2147, Horseshoe Bay, TX 78657, USA', 'Order Details': {'2 × Chorizo Egg Cheese Quesadilla (Breakfast Tacos & Quesadillas) Salsa: Salsa Roja': '$14.98'}, 'Subtotal': '$14.98', 'Subtotal Tax': '$1.24', 'Commission (25%)': '-$3.75', 'Total Customer Refund': '-$0.00', 'Estimated Payout': '$12.47', 'Transaction #8106904074 - Delivery': '$12.47', 'Store Number': '67'}, {'Order': 'FE329688', 'Delivered': 'The order was delivered at 10:03 AM on October 1, 2023.', 'Pick Up Location': '800 W Interstate 20, Big Spring, TX 79720, USA', 'Order Details': {'3 × Red Bull Energy Drink Can (12 oz) (Energy Drinks TX)': '$17.37'}, 'Subtotal': '$17.37', 'Subtotal Tax': '$1.43', 'Commission (16%)': '-$2.78', 'Total Customer Refund': '-$0.00', 'Estimated Payout': '$16.02', 'Transaction #8106720721 - Delivery': '$16.02', 'Store Number': '70'}, {'Order': 'C5A903F0', 'Cancelled - Paid': 'The order was cancelled on October 1, 2023 at 7:31 AM. You’re paid for cancelled orders when you’ve successfully confirmed an order, it was prepared, and you did not initiate or are not at fault for the cancellation.', 'Pick Up Location': '2503 TX-349, Midland, TX 79706, USA', 'Order Details': {'1 × Sausage Egg Cheese Taco (Breakfast Tacos & Quesadillas)': '$3.79'}, 'Subtotal': '$3.79', 'Subtotal Tax': '$0.30', 'Commission (16%)': '-$0.61', 'Total Customer Refund': '-$0.00', 'Estimated Payout': '$3.48', 'Transaction #8106298092 - Delivery': '$3.48', 'Store Number': '71'}, {'Order': '782881C7', 'Delivered': 'The order was delivered at 3:08 AM on October 1, 2023.', 'Pick Up Location': '145 Lehman Rd, Kyle, TX 78640, USA', 'Order Details': {'1 × Hostess Powdered Donettes Bag (10.5oz) (Donuts TX)': '$6.39', ' 1 × Fountain Drink (Fountain, Frozen, & Tea) Drink Selection: Sprite': '$0.00', ' 1 × Fountain Drink (Fountain, Frozen, & Tea) Drink Selection: TXB Cherry Limeade': '$0.00', ' 1 × Fountain Drink (Fountain, Frozen, & Tea) Drink Selection: TXB Root Beer': '$0.00'}, 'Subtotal': '$6.39', 'Subtotal Tax': '$0.00', 'Commission (16%)': '-$1.02', 'Total Customer Refund': '-$0.00 Refunds $6.99', 'Estimated Payout': '$12.36', 'Transaction #8105816170 - Delivery': '$5.37', 'Store Number': '68'}, {'Order': 'ECCAB249', 'Delivered': 'The order was delivered at 2:32 AM on October 1, 2023.', 'Pick Up Location': '1402 Williams Dr, Georgetown, TX 78628, USA', 'Order Details': {'1 × Chicken Tender Meal Kit (Meal Kits TXB#65)': '$9.19'}, 'Subtotal': '$9.19', 'Subtotal Tax': '$0.76', 'Commission (16%)': '-$1.47', 'Total Customer Refund': '-$0.00', 'Estimated Payout': '$8.48', 'Transaction #8105817488 - Delivery': '$8.48', 'Store Number': '65'}, {'Order': '8E90EF84', 'Delivered': 'The order was delivered at 1:24 AM on October 1, 2023.', 'Pick Up Location': '21024 W, 21024 State Hwy 71, Spicewood, TX 78669, USA', 'Order Details': {'1 × Pork Tamale Meal Kit (Meal Kits TXB#62)': '$9.19'}, 'Subtotal': '$9.19', 'Subtotal Tax': '$0.76', 'Commission (16%)': '-$1.47', 'Total Customer Refund': '-$0.00', 'Estimated Payout': '$8.48', 'Transaction #8105638611 - Delivery': '$8.48', 'Store Number': '62'}, {'Order': 'B944ED77', 'Cancelled - Not Paid': 'The order was cancelled on October 1, 2023 at 12:57 AM. You were not paid because you were unable to fulfill the order.', 'Pick Up Location': '1402 Williams Dr, Georgetown, TX 78628, USA', 'Order Details': {'2 × Black Box Pinot Grigio Tetra 500ml Box (12% ABV) (Specialty Wine)': '$12.58'}, 'Subtotal': '$12.58', 'Subtotal Tax': '$1.04', 'Commission (16%)': '-$2.01', 'Total Customer Refund': '-$0.00', 'Estimated Payout': '$0.00', 'Store Number': '65'}, {'Order': 'E7A89C68', 'Delivered': 'The order was delivered at 12:43 AM on October 1, 2023.', 'Pick Up Location': '1402 Williams Dr, Georgetown, TX 78628, USA', 'Order Details': {'1 × Pepcid AC Maximum Strength Tablet (8ct) (Medicine TX)': '$14.39', ' 1 × 2% Milk (16 oz) (Milk TX)': '$3.79'}, 'Subtotal': '$18.18', 'Subtotal Tax': '$0.00', 'Commission (16%)': '-$2.91', 'Total Customer Refund': '-$0.00', 'Estimated Payout': '$15.27', 'Transaction #8105526412 - Delivery': '$15.27', 'Store Number': '65'}, {'Order': 'C41B4C30', 'Delivered': 'The order was delivered at 12:43 AM on October 1, 2023.', 'Pick Up Location': '21024 W, 21024 State Hwy 71, Spicewood, TX 78669, USA', 'Order Details': {'1 × Triple Chocolate Chunk Cookie (Pastries & Desserts)': '$2.49', ' 1 × Chocolate Milk (16 oz) (Milk TX)': '$3.79', ' 3 × Fountain Drink (Fountain, Frozen, & Tea) Drink Selection: Dr Pepper': '$0.00', ' 1 × Dr Pepper Bottle (20 oz) (Soda TX)': '$3.79'}, 'Subtotal': '$10.07', 'Subtotal Tax': '$0.83', 'Commission (16%)': '-$1.61', 'Total Customer Refund': '-$0.00', 'Estimated Payout': '$9.29', 'Transaction #8105477186 - Delivery': '$9.29', 'Store Number': '62'}]\n"
   ],
   "metadata": {
    "collapsed": false,
    "ExecuteTime": {
     "end_time": "2023-10-03T20:42:32.663102Z",
     "start_time": "2023-10-03T20:42:32.625179Z"
    }
   },
   "id": "a20dc799eebfb62c"
  },
  {
   "cell_type": "code",
   "execution_count": 32,
   "outputs": [
    {
     "data": {
      "text/plain": "[                                                                                                    0\n Order                                                                                        42C2A525\n Delivered                                           The order was delivered at 11:41 PM on October...\n Pick Up Location                                            5004 Wesley St, Greenville, TX 75402, USA\n Order Details.1 × Coca-Cola Can (12 pk-12 oz) (...                                             $11.29\n Order Details. 1 × TXB Water Bottle (24 pk) (16...                                              $7.49\n Order Details. 1 × Coke Classic Bottle (20oz) (...                                              $3.19\n Subtotal                                                                                       $21.97\n Subtotal Tax                                                                                    $1.19\n Commission (23%)                                                                               -$5.05\n Total Customer Refund                                                                          -$0.00\n Estimated Payout                                                                               $18.11\n Transaction #8113346069 - Delivery                                                             $18.11\n Store Number                                                                                       20,\n                                                                                                     0\n Order                                                                                        AA85B890\n Delivered                                           The order was delivered at 10:08 PM on October...\n Pick Up Location                                            5004 Wesley St, Greenville, TX 75402, USA\n Order Details.1 × Moon Pie Double Decker Banana...                                              $2.29\n Order Details. 1 × Moon Pie Double Decker Choco...                                              $2.29\n Order Details. 1 × TXB Sweet Tea Bottle (16oz) ...                                              $3.29\n Order Details. 1 × TXB Strawberry White Tea Bot...                                              $2.59\n Order Details. 1 × TXB Premium Electrolyte Wate...                                              $4.09\n Subtotal                                                                                       $14.55\n Subtotal Tax                                                                                    $0.59\n Commission (16%)                                                                               -$2.33\n Total Customer Refund                                                                          -$0.00\n Estimated Payout                                                                               $12.81\n Transaction #8112864098 - Delivery                                                             $12.81\n Store Number                                                                                       20,\n                                                                                                     0\n Order                                                                                        773C7330\n Delivered                                           The order was delivered at 9:07 PM on October ...\n Pick Up Location                                            5004 Wesley St, Greenville, TX 75402, USA\n Order Details.1 × Lone Star Beer Can (16 oz x 6...                                             $13.79\n Subtotal                                                                                       $13.79\n Subtotal Tax                                                                                    $1.14\n Commission (16%)                                                                               -$2.21\n Total Customer Refund                                                                          -$0.00\n Estimated Payout                                                                               $12.72\n Transaction #8112394394 - Delivery                                                             $12.72\n Store Number                                                                                       20,\n                                                                                                     0\n Order                                                                                        EDCB46B1\n Delivered                                           Error Charge The customer reported one or more...\n Pick Up Location                                    1001 W Van Alstyne Pkwy, Van Alstyne, TX 75495...\n Order Details.1 × Michelob Ultra Light Beer Can...                                             $27.49\n Order Details. 1 × Truly Hard Seltzer Berry Mix...                                             $28.79\n Subtotal                                            -$5.30 Error Charge Tax -$0.56 Error Charge To...\n Commission (23%)                                    -$12.94 Order Total $47.98 Error Charges 1 × M...\n Estimated Payout                                                                               $42.12\n Transaction #8109695187 - Delivery                  $47.98 Transaction #8109811800 - Error Charges...\n Store Number                                                                                       32,\n                                                                                                     0\n Order                                                                                        68944F97\n Delivered                                           The order was delivered at 2:50 PM on October ...\n Pick Up Location                                       800 W Interstate 20, Big Spring, TX 79720, USA\n Order Details.2 × Michelob Ultra Light Beer Can...                                             $72.58\n Subtotal                                                                                       $72.58\n Subtotal Tax                                                                                    $5.99\n Commission (23%)                                                                              -$16.69\n Total Customer Refund                                                                          -$0.00\n Estimated Payout                                                                               $61.88\n Transaction #8108722869 - Delivery                                                             $61.88\n Store Number                                                                                       70,\n                                                                                                     0\n Order                                                                                        ED39CFE2\n Delivered                                           Error Charge The customer reported one or more...\n Pick Up Location                                     1301 N U.S. Hwy 281, Marble Falls, TX 78654, USA\n Order Details.1 × Ice Large (Fountain, Frozen, ...                                              $7.49\n Order Details. 1 × Campbells Chicken Noodle Bow...                                              $5.29\n Order Details. 2 × TXB Premium Electrolyte Wate...                                              $8.78\n Order Details. 1 × 7 Up Bottle (20 oz) (Soda TX)                                                $3.79\n Order Details. 2 × Gatorade Cool Blue (28 oz) (...                                              $9.58\n Subtotal                                            -$7.50 Error Charge Tax -$0.61 Error Charge To...\n Commission (25%)                                    -$8.73 Order Total $28.36 Error Charges 1 × Ic...\n Estimated Payout                                                                               $20.25\n Transaction #8107801352 - Delivery                  $28.36 Transaction #8107871093 - Error Charges...\n Store Number                                                                                       53,\n                                                                                                     0\n Order                                                                                        78BAE2F8\n Delivered                                           The order was delivered at 12:41 PM on October...\n Pick Up Location                                    1001 S State Hwy 16, Fredericksburg, TX 78624,...\n Order Details.1 × Crush Grape Bottle (20oz) (So...                                              $3.79\n Order Details. 1 × Turkey & Bacon Wrap (Salads,...                                              $8.79\n Order Details. Subtotal for Tax Calculations                                                   $12.58\n Subtotal Tax                                                                                    $1.04\n Commission (16%)                                                                               -$2.01\n Total Customer Refund                                                                          -$0.00\n Estimated Payout                                                                               $11.61\n Transaction #8107649354 - Delivery                                                             $11.61\n Store Number                                                                                       61,\n                                                                                                     0\n Order                                                                                        DE4528F2\n Delivered                                           The order was delivered at 12:39 PM on October...\n Pick Up Location                                                2320 W Main St, Durant, OK 74701, USA\n Order Details.1 × Coke Classic Bottle (20oz) (S...                                              $3.19\n Order Details. 2 × Red Bull Energy Drink Can (1...                                             $11.58\n Subtotal                                                                                       $14.77\n Subtotal Tax                                                                                    $1.38\n Commission (23%)                                                                               -$3.40\n Total Customer Refund                                                                          -$0.00\n Estimated Payout                                                                               $11.37\n Transaction #8107692197 - Delivery                                                             $11.37\n Store Number                                                                                       16,\n                                                                                                     0\n Order                                                                                        F5539B37\n Delivered                                           The order was delivered at 10:52 AM on October...\n Pick Up Location                                            3702 FM2147, Horseshoe Bay, TX 78657, USA\n Order Details.2 × Chorizo Egg Cheese Quesadilla...                                             $14.98\n Subtotal                                                                                       $14.98\n Subtotal Tax                                                                                    $1.24\n Commission (25%)                                                                               -$3.75\n Total Customer Refund                                                                          -$0.00\n Estimated Payout                                                                               $12.47\n Transaction #8106904074 - Delivery                                                             $12.47\n Store Number                                                                                       67,\n                                                                                                     0\n Order                                                                                        FE329688\n Delivered                                           The order was delivered at 10:03 AM on October...\n Pick Up Location                                       800 W Interstate 20, Big Spring, TX 79720, USA\n Order Details.3 × Red Bull Energy Drink Can (12...                                             $17.37\n Subtotal                                                                                       $17.37\n Subtotal Tax                                                                                    $1.43\n Commission (16%)                                                                               -$2.78\n Total Customer Refund                                                                          -$0.00\n Estimated Payout                                                                               $16.02\n Transaction #8106720721 - Delivery                                                             $16.02\n Store Number                                                                                       70,\n                                                                                                     0\n Order                                                                                        C5A903F0\n Cancelled - Paid                                    The order was cancelled on October 1, 2023 at ...\n Pick Up Location                                                  2503 TX-349, Midland, TX 79706, USA\n Order Details.1 × Sausage Egg Cheese Taco (Brea...                                              $3.79\n Subtotal                                                                                        $3.79\n Subtotal Tax                                                                                    $0.30\n Commission (16%)                                                                               -$0.61\n Total Customer Refund                                                                          -$0.00\n Estimated Payout                                                                                $3.48\n Transaction #8106298092 - Delivery                                                              $3.48\n Store Number                                                                                       71,\n                                                                                                     0\n Order                                                                                        782881C7\n Delivered                                           The order was delivered at 3:08 AM on October ...\n Pick Up Location                                                   145 Lehman Rd, Kyle, TX 78640, USA\n Order Details.1 × Hostess Powdered Donettes Bag...                                              $6.39\n Order Details. 1 × Fountain Drink (Fountain, Fr...                                              $0.00\n Order Details. 1 × Fountain Drink (Fountain, Fr...                                              $0.00\n Order Details. 1 × Fountain Drink (Fountain, Fr...                                              $0.00\n Subtotal                                                                                        $6.39\n Subtotal Tax                                                                                    $0.00\n Commission (16%)                                                                               -$1.02\n Total Customer Refund                                                            -$0.00 Refunds $6.99\n Estimated Payout                                                                               $12.36\n Transaction #8105816170 - Delivery                                                              $5.37\n Store Number                                                                                       68,\n                                                                                                     0\n Order                                                                                        ECCAB249\n Delivered                                           The order was delivered at 2:32 AM on October ...\n Pick Up Location                                          1402 Williams Dr, Georgetown, TX 78628, USA\n Order Details.1 × Chicken Tender Meal Kit (Meal...                                              $9.19\n Subtotal                                                                                        $9.19\n Subtotal Tax                                                                                    $0.76\n Commission (16%)                                                                               -$1.47\n Total Customer Refund                                                                          -$0.00\n Estimated Payout                                                                                $8.48\n Transaction #8105817488 - Delivery                                                              $8.48\n Store Number                                                                                       65,\n                                                                                                     0\n Order                                                                                        8E90EF84\n Delivered                                           The order was delivered at 1:24 AM on October ...\n Pick Up Location                                    21024 W, 21024 State Hwy 71, Spicewood, TX 786...\n Order Details.1 × Pork Tamale Meal Kit (Meal Ki...                                              $9.19\n Subtotal                                                                                        $9.19\n Subtotal Tax                                                                                    $0.76\n Commission (16%)                                                                               -$1.47\n Total Customer Refund                                                                          -$0.00\n Estimated Payout                                                                                $8.48\n Transaction #8105638611 - Delivery                                                              $8.48\n Store Number                                                                                       62,\n                                                                                                     0\n Order                                                                                        B944ED77\n Cancelled - Not Paid                                The order was cancelled on October 1, 2023 at ...\n Pick Up Location                                          1402 Williams Dr, Georgetown, TX 78628, USA\n Order Details.2 × Black Box Pinot Grigio Tetra ...                                             $12.58\n Subtotal                                                                                       $12.58\n Subtotal Tax                                                                                    $1.04\n Commission (16%)                                                                               -$2.01\n Total Customer Refund                                                                          -$0.00\n Estimated Payout                                                                                $0.00\n Store Number                                                                                       65,\n                                                                                                     0\n Order                                                                                        E7A89C68\n Delivered                                           The order was delivered at 12:43 AM on October...\n Pick Up Location                                          1402 Williams Dr, Georgetown, TX 78628, USA\n Order Details.1 × Pepcid AC Maximum Strength Ta...                                             $14.39\n Order Details. 1 × 2% Milk (16 oz) (Milk TX)                                                    $3.79\n Subtotal                                                                                       $18.18\n Subtotal Tax                                                                                    $0.00\n Commission (16%)                                                                               -$2.91\n Total Customer Refund                                                                          -$0.00\n Estimated Payout                                                                               $15.27\n Transaction #8105526412 - Delivery                                                             $15.27\n Store Number                                                                                       65,\n                                                                                                     0\n Order                                                                                        C41B4C30\n Delivered                                           The order was delivered at 12:43 AM on October...\n Pick Up Location                                    21024 W, 21024 State Hwy 71, Spicewood, TX 786...\n Order Details.1 × Triple Chocolate Chunk Cookie...                                              $2.49\n Order Details. 1 × Chocolate Milk (16 oz) (Milk...                                              $3.79\n Order Details. 3 × Fountain Drink (Fountain, Fr...                                              $0.00\n Order Details. 1 × Dr Pepper Bottle (20 oz) (So...                                              $3.79\n Subtotal                                                                                       $10.07\n Subtotal Tax                                                                                    $0.83\n Commission (16%)                                                                               -$1.61\n Total Customer Refund                                                                          -$0.00\n Estimated Payout                                                                                $9.29\n Transaction #8105477186 - Delivery                                                              $9.29\n Store Number                                                                                       62]"
     },
     "execution_count": 32,
     "metadata": {},
     "output_type": "execute_result"
    }
   ],
   "source": [
    "def get_flatten_order(d, parent_key='', sep='.'):\n",
    "    order = {}\n",
    "    for k, v in d.items():\n",
    "        new_key = f'{parent_key}{sep}{k}' if parent_key else k\n",
    "        if isinstance(v, dict):\n",
    "            order.update(get_flatten_order(v, new_key, sep=sep))\n",
    "        else:\n",
    "            order[new_key] = v\n",
    "    return order\n",
    "\n",
    "def get_flattened_orders(orders):\n",
    "    flattened_orders = []\n",
    "    for order in orders:\n",
    "        flattened_order = get_flatten_order(order)\n",
    "        flattened_orders.append(flattened_order)\n",
    "    return flattened_orders\n",
    "\n",
    "\n",
    "def convert_orders_to_dataframes(flattened_orders):\n",
    "    dfs = []\n",
    "    for order in flattened_orders:\n",
    "        s = pd.Series(order)\n",
    "        df = pd.DataFrame(s)\n",
    "        dfs.append(df)\n",
    "\n",
    "    return dfs\n",
    "\n",
    "def convert_flattened_orders_to_df(orders):\n",
    "    flattened_orders = get_flattened_orders(orders)\n",
    "    dfs = convert_orders_to_dataframes(flattened_orders)\n",
    "\n",
    "    return dfs\n",
    "orders_dfs = convert_flattened_orders_to_df(orders)\n",
    "orders_dfs"
   ],
   "metadata": {
    "collapsed": false,
    "ExecuteTime": {
     "end_time": "2023-10-03T20:42:33.231899Z",
     "start_time": "2023-10-03T20:42:33.225474Z"
    }
   },
   "id": "73996e00c210f979"
  },
  {
   "cell_type": "code",
   "execution_count": 152,
   "outputs": [],
   "source": [
    "\n",
    "def get_excel_file_name():\n",
    "    \n",
    "    today = datetime.today().strftime('%m.%d.%y')\n",
    "    excel_file_name = f'DD {today}.xlsx'\n",
    "    return excel_file_name\n",
    "\n",
    "\n",
    "def get_store_num(order_df):\n",
    "    store_num = order_df[0]['Store Number']\n",
    "    return store_num"
   ],
   "metadata": {
    "collapsed": false,
    "ExecuteTime": {
     "end_time": "2023-10-03T23:09:33.713227Z",
     "start_time": "2023-10-03T23:09:33.692453Z"
    }
   },
   "id": "6f9209ae3f84754"
  },
  {
   "cell_type": "code",
   "execution_count": 163,
   "outputs": [],
   "source": [
    "def set_format(worksheet, start_col, end_col, cell_format):\n",
    "    \"\"\"Set format for a range of columns.\"\"\"\n",
    "    worksheet.set_column(start_col, end_col, None, cell_format)\n",
    "\n",
    "def find_max_lengths(df):\n",
    "    \"\"\"Find the maximum string lengths for each column in a DataFrame.\"\"\"\n",
    "    max_lengths = {}\n",
    "    for col in df.columns:\n",
    "        max_lengths[col] = max(df[col].astype(str).apply(len).max(),\n",
    "                                len(str(col)))\n",
    "    return max_lengths\n",
    "\n",
    "def apply_column_formats(worksheet, max_lengths, cell_format):\n",
    "    print(\"Applying column formats...\") \n",
    "    \n",
    "    \"\"\"Apply column formatting and widths based on content length.\"\"\"\n",
    "    for idx, col in enumerate(max_lengths.keys()):\n",
    "        # col_width = max_lengths[col] + 1  # Add 1 for a bit of padding\n",
    "        col_width = 100\n",
    "        set_format(worksheet, idx + 1, idx + 1, cell_format)\n",
    "        worksheet.set_column(idx + 1, idx + 1, col_width)\n",
    "\n",
    "def apply_first_column_format(worksheet, df, cell_format):\n",
    "    print(\"Applying first column format...\") \n",
    "    \"\"\"Apply formatting to the first column and adjust its width.\"\"\"\n",
    "    index_as_series = pd.Series(df.index.astype(str))\n",
    "    index_length = max(index_as_series.apply(len).max(),\n",
    "                       len(str(df.index.name)))\n",
    "    # col_width = index_length + 1\n",
    "    col_width = 100\n",
    "    worksheet.set_column(0, 0, col_width, cell_format)\n",
    "\n",
    "\n",
    "def apply_sheet_formats(xlsxwriter, sheet_name, df):\n",
    "    \"\"\"Apply sheet formats.\"\"\"\n",
    "    workbook = xlsxwriter.book\n",
    "    worksheet = xlsxwriter.sheets[sheet_name]\n",
    "\n",
    "    # Create text wrap format with large font, aligned to center\n",
    "    wrap_txt_format = workbook.add_format({\n",
    "        'text_wrap': True,\n",
    "        'align': 'center',\n",
    "        'valign': 'vcenter',\n",
    "        'font_size': 36,\n",
    "    })\n",
    "\n",
    "    # Create bold wrap format for the first column\n",
    "    bold_wrap_format = workbook.add_format({\n",
    "        'text_wrap': True,\n",
    "        'bold': True,\n",
    "        'align': 'center',\n",
    "        'valign': 'vcenter',\n",
    "        'font_size': 36,\n",
    "    })\n",
    "\n",
    "    # Find maximum lengths of strings in each column\n",
    "    max_lengths = find_max_lengths(df)\n",
    "\n",
    "    # Apply formatting for columns\n",
    "    apply_column_formats(worksheet, max_lengths, wrap_txt_format)\n",
    "\n",
    "    # Apply formatting for the first column\n",
    "    apply_first_column_format(worksheet, df, bold_wrap_format)\n",
    "    # worksheet.write('A1', 'Test Cell', bold_wrap_format)\n",
    "\n"
   ],
   "metadata": {
    "collapsed": false,
    "ExecuteTime": {
     "end_time": "2023-10-03T23:15:56.546737Z",
     "start_time": "2023-10-03T23:15:56.531447Z"
    }
   },
   "id": "4dc8dee45e448e05"
  },
  {
   "cell_type": "code",
   "execution_count": 164,
   "outputs": [
    {
     "name": "stdout",
     "output_type": "stream",
     "text": [
      "Applying column formats...\n",
      "Applying first column format...\n",
      "Applying column formats...\n",
      "Applying first column format...\n",
      "Applying column formats...\n",
      "Applying first column format...\n",
      "Applying column formats...\n",
      "Applying first column format...\n",
      "Applying column formats...\n",
      "Applying first column format...\n",
      "Applying column formats...\n",
      "Applying first column format...\n",
      "Applying column formats...\n",
      "Applying first column format...\n",
      "Applying column formats...\n",
      "Applying first column format...\n",
      "Applying column formats...\n",
      "Applying first column format...\n",
      "Applying column formats...\n",
      "Applying first column format...\n",
      "Applying column formats...\n",
      "Applying first column format...\n",
      "Applying column formats...\n",
      "Applying first column format...\n",
      "Applying column formats...\n",
      "Applying first column format...\n",
      "Applying column formats...\n",
      "Applying first column format...\n",
      "Applying column formats...\n",
      "Applying first column format...\n",
      "Applying column formats...\n",
      "Applying first column format...\n",
      "Applying column formats...\n",
      "Applying first column format...\n"
     ]
    }
   ],
   "source": [
    "def get_excel_output(orders_dfs):\n",
    "    with pd.ExcelWriter(excel_file_name, engine='xlsxwriter') as writer:\n",
    "        for idx, order_df in enumerate(orders_dfs):\n",
    "            sheet_name = get_store_num(order_df)\n",
    "            order_df.to_excel(writer, sheet_name, header=False, index=True)\n",
    "\n",
    "            # formatter = ExcelFormatter(writer, sheet_name, order_df)\n",
    "            apply_sheet_formats(xlsxwriter=writer, sheet_name=sheet_name, df=order_df)\n",
    "\n",
    "get_excel_output(orders_dfs)"
   ],
   "metadata": {
    "collapsed": false,
    "ExecuteTime": {
     "end_time": "2023-10-03T23:15:57.220589Z",
     "start_time": "2023-10-03T23:15:57.136798Z"
    }
   },
   "id": "b62317eea24bbcd6"
  },
  {
   "cell_type": "code",
   "execution_count": 151,
   "outputs": [],
   "source": [],
   "metadata": {
    "collapsed": false,
    "ExecuteTime": {
     "end_time": "2023-10-03T23:03:53.697837Z",
     "start_time": "2023-10-03T23:03:53.598382Z"
    }
   },
   "id": "d0de7e3296674d4a"
  }
 ],
 "metadata": {
  "kernelspec": {
   "display_name": "Python 3",
   "language": "python",
   "name": "python3"
  },
  "language_info": {
   "codemirror_mode": {
    "name": "ipython",
    "version": 2
   },
   "file_extension": ".py",
   "mimetype": "text/x-python",
   "name": "python",
   "nbconvert_exporter": "python",
   "pygments_lexer": "ipython2",
   "version": "2.7.6"
  }
 },
 "nbformat": 4,
 "nbformat_minor": 5
}
