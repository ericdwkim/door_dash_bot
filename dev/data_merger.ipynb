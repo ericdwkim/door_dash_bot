{
 "cells": [
  {
   "cell_type": "code",
   "execution_count": 2,
   "id": "initial_id",
   "metadata": {
    "collapsed": true,
    "ExecuteTime": {
     "end_time": "2023-10-05T17:52:24.008258Z",
     "start_time": "2023-10-05T17:52:22.877419Z"
    }
   },
   "outputs": [
    {
     "name": "stdout",
     "output_type": "stream",
     "text": [
      "Intel MKL WARNING: Support of Intel(R) Streaming SIMD Extensions 4.2 (Intel(R) SSE4.2) enabled only processors has been deprecated. Intel oneAPI Math Kernel Library 2025.0 will require Intel(R) Advanced Vector Extensions (Intel(R) AVX) instructions.\n",
      "Intel MKL WARNING: Support of Intel(R) Streaming SIMD Extensions 4.2 (Intel(R) SSE4.2) enabled only processors has been deprecated. Intel oneAPI Math Kernel Library 2025.0 will require Intel(R) Advanced Vector Extensions (Intel(R) AVX) instructions.\n"
     ]
    }
   ],
   "source": [
    "import pandas as pd\n",
    "import re\n",
    "import json\n",
    "import csv\n",
    "from datetime import datetime\n",
    "import logging"
   ]
  },
  {
   "cell_type": "code",
   "execution_count": 3,
   "outputs": [],
   "source": [
    "orders_json = [\n",
    "    {\n",
    "        \"Order\": \"2ABD90DB\",\n",
    "        \"Delivered\": \"The order was delivered at 11:57 PM on September 26, 2023.\",\n",
    "        \"Pick Up Location\": \"1402 Williams Dr, Georgetown, TX 78628, USA\",\n",
    "        \"Order Details\": {\n",
    "            \"1 \\u00d7 19 Crimes Cabernet Sauvignon 750ml Bottle (14% ABV) (Specialty Wine)\": \"$13.79\"\n",
    "        },\n",
    "        \"Subtotal\": \"$13.79\",\n",
    "        \"Subtotal Tax\": \"$1.76\",\n",
    "        \"Commission (16%)\": \"-$2.21\",\n",
    "        \"Total Customer Refund\": \"-$0.00\",\n",
    "        \"Estimated Payout\": \"$13.34\",\n",
    "        \"Transaction #8072672500 - Delivery\": \"$13.34\"\n",
    "    },\n",
    "    {\n",
    "        \"Order\": \"42CEA1A6\",\n",
    "        \"Delivered\": \"The order was delivered at 11:25 PM on September 26, 2023.\",\n",
    "        \"Pick Up Location\": \"1301 N U.S. Hwy 281, Marble Falls, TX 78654, USA\",\n",
    "        \"Order Details\": {\n",
    "            \"1 \\u00d7 Ice Breakers Mint Coolmint (1.5 oz) (Mint TX)\": \"$5.69\"\n",
    "        },\n",
    "        \"Subtotal\": \"$5.69\",\n",
    "        \"Subtotal Tax\": \"$0.73\",\n",
    "        \"Commission (20%)\": \"-$1.14\",\n",
    "        \"Total Customer Refund\": \"-$0.00\",\n",
    "        \"Estimated Payout\": \"$5.28\",\n",
    "        \"Transaction #8072574397 - Delivery\": \"$5.28\"\n",
    "    },\n",
    "    {\n",
    "        \"Order\": \"6AB38CB1\",\n",
    "        \"Delivered\": \"The order was delivered at 11:24 PM on September 26, 2023.\",\n",
    "        \"Pick Up Location\": \"1301 N U.S. Hwy 281, Marble Falls, TX 78654, USA\",\n",
    "        \"Order Details\": {\n",
    "            \"2 \\u00d7 Ice Breakers Mint Coolmint (1.5 oz) (Mint TX)\": \"$11.38\"\n",
    "        },\n",
    "        \"Subtotal\": \"$11.38\",\n",
    "        \"Subtotal Tax\": \"$1.45\",\n",
    "        \"Commission (20%)\": \"-$2.28\",\n",
    "        \"Total Customer Refund\": \"-$0.00\",\n",
    "        \"Estimated Payout\": \"$10.55\",\n",
    "        \"Transaction #8072573625 - Delivery\": \"$10.55\"\n",
    "    },\n",
    "    {\n",
    "        \"Order\": \"4379B60E\",\n",
    "        \"Delivered\": \"The order was delivered at 10:52 PM on September 26, 2023.\",\n",
    "        \"Pick Up Location\": \"7045 W Del Mar Blvd, Laredo, TX 78041, USA\",\n",
    "        \"Order Details\": {\n",
    "            \"1 \\u00d7 Smirnoff Ice Original Malt Beverage Bottle (11.2 oz x 6 ct) (Flavored Malt Beverages Laredo)\": \"$14.99\"\n",
    "        },\n",
    "        \"Subtotal\": \"$14.99\",\n",
    "        \"Subtotal Tax\": \"$1.91\",\n",
    "        \"Commission (16%)\": \"-$2.40\",\n",
    "        \"Total Customer Refund\": \"-$0.00\",\n",
    "        \"Estimated Payout\": \"$14.50\",\n",
    "        \"Transaction #8072378844 - Delivery\": \"$14.50\"\n",
    "    },\n",
    "    {\n",
    "        \"Order\": \"0A150B93\",\n",
    "        \"Delivered\": \"The order was delivered at 10:34 PM on September 26, 2023.\",\n",
    "        \"Pick Up Location\": \"2503 TX-349, Midland, TX 79706, USA\",\n",
    "        \"Order Details\": {\n",
    "            \"1 \\u00d7 Cheetos Crunchy Jalapeno (8.5 oz) (Chips & Popcorn TX)\": \"$3.19\"\n",
    "        },\n",
    "        \"Subtotal\": \"$3.19\",\n",
    "        \"Subtotal Tax\": \"$0.00\",\n",
    "        \"Commission (16%)\": \"-$0.51\",\n",
    "        \"Total Customer Refund\": \"-$0.00\",\n",
    "        \"Estimated Payout\": \"$2.68\",\n",
    "        \"Transaction #8072265117 - Delivery\": \"$2.68\"\n",
    "    },\n",
    "    {\n",
    "        \"Order\": \"E0EB8837\",\n",
    "        \"Delivered\": \"The order was delivered at 8:18 PM on September 26, 2023.\",\n",
    "        \"Pick Up Location\": \"5004 Wesley St, Greenville, TX 75402, USA\",\n",
    "        \"Order Details\": {\n",
    "            \"3 \\u00d7 Steel Reserve Original Can (25 oz) (Flavored Malt Beverages NT)\": \"$13.17\"\n",
    "        },\n",
    "        \"Subtotal\": \"$13.17\",\n",
    "        \"Subtotal Tax\": \"$1.68\",\n",
    "        \"Commission (16%)\": \"-$2.11\",\n",
    "        \"Total Customer Refund\": \"-$0.00\",\n",
    "        \"Estimated Payout\": \"$12.74\",\n",
    "        \"Transaction #8071200562 - Delivery\": \"$12.74\"\n",
    "    },\n",
    "    {\n",
    "        \"Order\": \"77896463\",\n",
    "        \"Customer Picked Up\": \"The customer picked up the order at 8:05 PM on September 26, 2023.\",\n",
    "        \"Pick Up Location\": \"7045 W Del Mar Blvd, Laredo, TX 78041, USA\",\n",
    "        \"Order Details\": {\n",
    "            \"1 \\u00d7 Natural Light Beer Can (12 oz x 15 ct) (Domestic Beer Laredo)\": \"$13.99\"\n",
    "        },\n",
    "        \"Subtotal\": \"$13.99\",\n",
    "        \"Subtotal Tax\": \"$1.78\",\n",
    "        \"Commission (9%)\": \"-$1.26\",\n",
    "        \"Total Customer Refund\": \"-$0.00\",\n",
    "        \"Estimated Payout\": \"$14.51\"\n",
    "    },\n",
    "    {\n",
    "        \"Order\": \"B48F2460\",\n",
    "        \"Delivered\": \"The order was delivered at 7:46 PM on September 26, 2023.\",\n",
    "        \"Pick Up Location\": \"14620 Ranch Rd 12, Wimberley, TX 78676, USA\",\n",
    "        \"Order Details\": {\n",
    "            \"3 \\u00d7 Cayman Jack Margarita Can (19 oz) (Flavored Malt Beverages CT)\": \"$17.07\"\n",
    "        },\n",
    "        \"Subtotal\": \"$17.07\",\n",
    "        \"Subtotal Tax\": \"$2.18\",\n",
    "        \"Commission (23%)\": \"-$3.93\",\n",
    "        \"Total Customer Refund\": \"-$0.00\",\n",
    "        \"Estimated Payout\": \"$15.32\",\n",
    "        \"Transaction #8070880369 - Delivery\": \"$15.32\"\n",
    "    },\n",
    "    {\n",
    "        \"Order\": \"78588F69\",\n",
    "        \"Delivered\": \"The order was delivered at 6:35 PM on September 26, 2023.\",\n",
    "        \"Pick Up Location\": \"5004 Wesley St, Greenville, TX 75402, USA\",\n",
    "        \"Order Details\": {\n",
    "            \"2 \\u00d7 Ice Large (Fountain, Frozen, & Tea)\": \"$14.98\"\n",
    "        },\n",
    "        \"Subtotal\": \"$14.98\",\n",
    "        \"Subtotal Tax\": \"$1.91\",\n",
    "        \"Commission (16%)\": \"-$2.40\",\n",
    "        \"Total Customer Refund\": \"-$0.00\",\n",
    "        \"Estimated Payout\": \"$14.49\",\n",
    "        \"Transaction #8070265277 - Delivery\": \"$14.49\"\n",
    "    },\n",
    "    {\n",
    "        \"Order\": \"5C857863\",\n",
    "        \"Cancelled - Not Paid\": \"The order was cancelled on September 26, 2023 at 5:59 PM. You were not paid because you did not confirm the order before the order was cancelled.\",\n",
    "        \"Pick Up Location\": \"14620 Ranch Rd 12, Wimberley, TX 78676, USA\",\n",
    "        \"Order Details\": {\n",
    "            \"3 \\u00d7 Cayman Jack Margarita Can (19 oz) (Flavored Malt Beverages CT)\": \"$17.07\"\n",
    "        },\n",
    "        \"Subtotal\": \"$17.07\",\n",
    "        \"Subtotal Tax\": \"$2.18\",\n",
    "        \"Commission (23%)\": \"-$3.93\",\n",
    "        \"Total Customer Refund\": \"-$0.00\",\n",
    "        \"Estimated Payout\": \"$0.00\"\n",
    "    },\n",
    "    {\n",
    "        \"Order\": \"CA2588A4\",\n",
    "        \"Delivered\": \"The order was delivered at 4:02 PM on September 26, 2023.\",\n",
    "        \"Pick Up Location\": \"5004 Wesley St, Greenville, TX 75402, USA\",\n",
    "        \"Order Details\": {\n",
    "            \"3 \\u00d7 Steel Reserve Original Can (25 oz) (Flavored Malt Beverages NT)\": \"$13.17\"\n",
    "        },\n",
    "        \"Subtotal\": \"$13.17\",\n",
    "        \"Subtotal Tax\": \"$1.68\",\n",
    "        \"Commission (16%)\": \"-$2.11\",\n",
    "        \"Total Customer Refund\": \"-$0.00\",\n",
    "        \"Estimated Payout\": \"$12.74\",\n",
    "        \"Transaction #8068891159 - Delivery\": \"$12.74\"\n",
    "    },\n",
    "    {\n",
    "        \"Order\": \"B6233BDE\",\n",
    "        \"Delivered\": \"The order was delivered at 11:55 AM on September 26, 2023.\",\n",
    "        \"Pick Up Location\": \"1001 W Van Alstyne Pkwy, Van Alstyne, TX 75495, USA\",\n",
    "        \"Order Details\": {\n",
    "            \"2 \\u00d7 Gatorade Lime Cucumber Bottle (28 oz) (Sports Drinks TX)\": \"$9.58\",\n",
    "            \" 1 \\u00d7 Arizona Green Tea Bottle (34oz) (Tea TX)\": \"$4.39\",\n",
    "            \" 1 \\u00d7 Fountain Drink (Fountain, Frozen, & Tea) Drink Selection: Coke\": \"$0.00\",\n",
    "            \" 1 \\u00d7 Fountain Drink (Fountain, Frozen, & Tea) Drink Selection: Mountain Dew\": \"$0.00\",\n",
    "            \" 1 \\u00d7 Fountain Drink (Fountain, Frozen, & Tea) Drink Selection: Gatorade Lemon-Lime\": \"$0.00\"\n",
    "        },\n",
    "        \"Subtotal\": \"$13.97\",\n",
    "        \"Subtotal Tax\": \"$1.22\",\n",
    "        \"Commission (23%)\": \"-$3.21\",\n",
    "        \"Total Customer Refund\": \"-$0.00\",\n",
    "        \"Estimated Payout\": \"$11.98\",\n",
    "        \"Transaction #8067195196 - Delivery\": \"$11.98\"\n",
    "    },\n",
    "    {\n",
    "        \"Order\": \"8903B15F\",\n",
    "        \"Delivered\": \"The order was delivered at 11:41 AM on September 26, 2023.\",\n",
    "        \"Pick Up Location\": \"800 W Interstate 20, Big Spring, TX 79720, USA\",\n",
    "        \"Order Details\": {\n",
    "            \"1 \\u00d7 Fritos Scoops Corn Chips (9.25 oz) (Chips & Popcorn TX)\": \"$6.49\",\n",
    "            \" 1 \\u00d7 Fountain Drink (Fountain, Frozen, & Tea) Drink Selection: Diet Dr Pepper\": \"$0.00\",\n",
    "            \" 1 \\u00d7 Fountain Drink (Fountain, Frozen, & Tea) Drink Selection: Coke\": \"$0.00\"\n",
    "        },\n",
    "        \"Subtotal\": \"$6.49\",\n",
    "        \"Subtotal Tax\": \"$0.00\",\n",
    "        \"Commission (16%)\": \"-$1.04\",\n",
    "        \"Total Customer Refund\": \"-$0.00\",\n",
    "        \"Estimated Payout\": \"$5.45\",\n",
    "        \"Transaction #8067145629 - Delivery\": \"$5.45\"\n",
    "    },\n",
    "    {\n",
    "        \"Order\": \"9EAC6D9E\",\n",
    "        \"Cancelled - Not Paid\": \"The order was cancelled on September 26, 2023 at 10:39 AM. You were not paid because you did not confirm the order before the order was cancelled.\",\n",
    "        \"Pick Up Location\": \"3071 University Dr E, Bryan, TX 77802, USA\",\n",
    "        \"Order Details\": {\n",
    "            \"2 \\u00d7 Bacon Egg Cheese Biscuit (Breakfast Sandwiches & Bowls)\": \"$9.78\",\n",
    "            \" 1 \\u00d7 Monster Java Loca Mocha Can (15oz) (Coffee TX)\": \"$5.69\",\n",
    "            \" 3 \\u00d7 Potato Egg Cheese Taco (Breakfast Tacos & Quesadillas) Salsa: Salsa Verde\": \"$14.07\"\n",
    "        },\n",
    "        \"Subtotal\": \"$29.54\",\n",
    "        \"Subtotal Tax\": \"$3.77\",\n",
    "        \"Commission (23%)\": \"-$6.79\",\n",
    "        \"Total Customer Refund\": \"-$0.00\",\n",
    "        \"Estimated Payout\": \"$0.00\"\n",
    "    },\n",
    "    {\n",
    "        \"Order\": \"ABDD1702\",\n",
    "        \"Delivered\": \"The order was delivered at 12:00 AM on September 26, 2023.\",\n",
    "        \"Pick Up Location\": \"5004 Wesley St, Greenville, TX 75402, USA\",\n",
    "        \"Order Details\": {\n",
    "            \"1 \\u00d7 Coors Original Beer Bottle (12oz x 6ct) (Domestic Beer NT)\": \"$14.99\"\n",
    "        },\n",
    "        \"Subtotal\": \"$14.99\",\n",
    "        \"Subtotal Tax\": \"$1.91\",\n",
    "        \"Commission (23%)\": \"-$3.45\",\n",
    "        \"Total Customer Refund\": \"-$0.00\",\n",
    "        \"Estimated Payout\": \"$13.45\",\n",
    "        \"Transaction #8065637009 - Delivery\": \"$13.45\"\n",
    "    }\n",
    "]"
   ],
   "metadata": {
    "collapsed": false,
    "ExecuteTime": {
     "end_time": "2023-10-05T17:52:24.008510Z",
     "start_time": "2023-10-05T17:52:23.994697Z"
    }
   },
   "id": "629c91c5fb7cf79d"
  },
  {
   "cell_type": "code",
   "execution_count": 4,
   "outputs": [],
   "source": [
    "master_dataset_file_path = '/Users/ekim/workspace/personal/dd-bot/dev/store_list.xlsx'\n"
   ],
   "metadata": {
    "collapsed": false,
    "ExecuteTime": {
     "end_time": "2023-10-05T17:52:26.327033Z",
     "start_time": "2023-10-05T17:52:26.305421Z"
    }
   },
   "id": "13ea24da0dcb9fea"
  },
  {
   "cell_type": "code",
   "execution_count": 3,
   "outputs": [],
   "source": [],
   "metadata": {
    "collapsed": false,
    "ExecuteTime": {
     "end_time": "2023-10-04T19:48:54.677788Z",
     "start_time": "2023-10-04T19:48:54.655404Z"
    }
   },
   "id": "4044688c9bba193d"
  },
  {
   "cell_type": "code",
   "execution_count": 69,
   "outputs": [
    {
     "data": {
      "text/plain": "        Site # Site Description                               Address  \\\nStore #                                                                 \n1            1     Kwik Chek #1                     2226 North Center   \n3            3     Kwik Chek #3                            971 FM 273   \n5            5     Kwik Chek #5                                   NaN   \n6            6     Kwik Chek #6                      816 North Center   \n7            7     Kwik Chek #7                            101 Hwy 69   \n8            8     Kwik Chek #8                            308 Hwy 69   \n10          10    Kwik Chek #10                    1741 North Hwy 121   \n12          12    Kwik Chek #12                          102 S Hwy 78   \n13          13    Kwik Chek #13                         102 West Main   \n14          14    Kwik Chek #14                         201 South 9th   \n16          16    Kwik Chek #16                        2320 West Main   \n17          17    Kwik Chek #17                 13503 S State Hwy 121   \n19          19    Kwik Chek #19                      617 South Hwy 78   \n20          20    Kwik Chek #20                    5004 Wesley Street   \n24          24    Kwik Chek #24                           3812 Hwy 70   \n26          26    Kwik Chek #26                              503 SW C   \n27          27    Kwik Chek #27                        1005 East Main   \n32          32           TXB 32              1001 Van Alstyne Parkway   \n34          34    Kwik Chek #34              2965 South Church Street   \n37          37    Kwik Chek #37                    103 South Santa Fe   \n38          38    Kwik Chek #38                    505 South Garfield   \n50          50    Kwik Chek #50                     3002 Thorton Lane   \n52          52    Kwik Chek #52                    1003 Hwy 1431 West   \n53          53    Kwik Chek #53                    1301 Hwy 281 North   \n54          54    Kwik Chek #54                 201 Hwy 281 & Hwy 290   \n55          55    Kwik Chek #55                   14417-A Hwy 71 West   \n57          57    Kwik Chek #57                   14620 Ranch Road 12   \n59          59    Kwik Chek #59                      440 Bandera Road   \n60          60    Kwik Chek #60                    13006 Bandera Road   \n61          61    Kwik Chek #61                     1001 Hwy 16 South   \n62          62    Kwik Chek #62                        21024 Hwy 71 W   \n63          63           TXB 63                         15701 W SH 71   \n64          64    Kwik Chek #64             2103 Ranch Road 620 South   \n65          65    Kwik Chek #65                   1402 Williams Drive   \n66          66    Kwik Chek #66               15411 East State Hwy 29   \n67          67           TXB 67                     3702 West FM 2147   \n68          68    Kwik Chek #68                       145 Lehman Road   \n69          69           TXB 69                          8103 RR 2243   \n70          70    Kwik Chek #70                        800 IH 20 West   \n71          71           TXB 71                       2503 Rankin Hwy   \n72          72           TXB 72  2104 East William Joel Bryan Parkway   \n73          73           TXB 73                  3071 University Dr E   \n79          79    Kwik Chek #79                  500 W Thorton Street   \n80          80    Kwik Chek #80                    801 West Lafayette   \n81          81    Kwik Chek #81                      7045 North IH 35   \n82          82    Kwik Chek #82                     780 Carter Street   \n83          83    Kwik Chek #83                      401 N 1st Street   \n84          84    Kwik Chek #84                     1000 N 9th Street   \n85          85    Kwik Chek #85                      1901 N US Hwy 83   \n86          86    Kwik Chek #86                      1900 N US Hwy 83   \n87          87    Kwik Chek #87                       481 W US Hwy 57   \n88          88    Kwik Chek #88                  2757 N Veterans Blvd   \n89          89    Kwik Chek #89                     2196 El Indio Hwy   \n\n                      City      County State    Zip         Notes street_num  \nStore #                                                                       \n1                   Bonham      Fannin    TX  75418           NaN       2226  \n3                   Bonham      Fannin    TX  75418           NaN        971  \n5                   Bonham      Fannin    TX  75418  Not Open Yet        nan  \n6                   Bonham      Fannin    TX  75418           NaN        816  \n7                  Celeste        Hunt    TX  75423           NaN        101  \n8                  Leonard      Fannin    TX  75452           NaN        308  \n10                  Bonham      Fannin    TX  75418           NaN       1741  \n12                 Achille       Bryan    OK  74720           NaN        102  \n13                  Calera       Bryan    OK  74730           NaN        102  \n14                  Durant       Bryan    OK  74701           NaN        201  \n16                  Durant       Bryan    OK  74701           NaN       2320  \n17                 Trenton      Fannin    TX  75490           NaN      13503  \n19                   Wylie      Collin    TX  75098           NaN        617  \n20              Greenville        Hunt    TX  75402           NaN       5004  \n24                    Hugo     Choctaw    OK  74743           NaN       3812  \n26                 Antlers  Pushmataha    OK  74523           NaN        503  \n27             Honey Grove      Fannin    TX  75446           NaN       1005  \n32             Van Alstyne     Grayson    TX  75495           NaN       1001  \n34                   Paris       Lamar    TX  75460           NaN       2965  \n37              Wolfe City        Hunt    TX  75496           NaN        103  \n38                   Kiowa   Pittsburg    OK  74553           NaN        505  \n50                  Temple        Bell    TX  76502           NaN       3002  \n52            Marble Falls      Burnet    TX  78654           NaN       1003  \n53            Marble Falls      Burnet    TX  78654           NaN       1301  \n54            Johnson City      Blanco    TX  78636           NaN        201  \n55                  Austin      Travis    TX  78738           NaN      14417  \n57               Wimberley        Hays    TX  78676           NaN      14620  \n59                  Boerne     Kendall    TX  78006           NaN        440  \n60                 Helotes       Bexar    TX  78023           NaN      13006  \n61          Fredericksburg   Gillespie    TX  78624           NaN       1001  \n62               Spicewood      Travis    TX  78669           NaN      21024  \n63                Bee Cave      Travis    TX  78738           NaN      15701  \n64                 Lakeway      Travis    TX  78734           NaN       2103  \n65              Georgetown  Williamson    TX  78628           NaN       1402  \n66            Buchanan Dam       Llano    TX  78609           NaN      15411  \n67       Cottonwood Shores       Llano    TX  78657           NaN       3702  \n68                    Kyle        Hays    TX  78640  Not Open Yet        145  \n69                 Leander  Williamson    TX  78641           NaN       8103  \n70              Big Spring      Howard    TX  79720           NaN        800  \n71                 Midland     Midland    TX  79706           NaN       2503  \n72                   Bryan      Brazos    TX  77802  Not Open Yet       2104  \n73                   Bryan      Brazos    TX  77840  Not Open Yet       3071  \n79            Three Rivers    Live Oak    TX  78071           NaN        500  \n80                  Laredo        Webb    TX  78041           NaN        801  \n81                  Laredo        Webb    TX  78041           NaN       7045  \n82                Asherton      Dimmit    TX  78827           NaN        780  \n83         Carrizo Springs      Dimmit    TX  78834           NaN        401  \n84         Carrizo Springs      Dimmit    TX  78834           NaN       1000  \n85            Crystal City      Zavala    TX  78839           NaN       1901  \n86            Crystal City      Zavala    TX  78839           NaN       1900  \n87                La Pryor      Zavala    TX  78872           NaN        481  \n88              Eagle Pass    Maverick    TX  78852           NaN       2757  \n89              Eagle Pass    Maverick    TX  78852           NaN       2196  ",
      "text/html": "<div>\n<style scoped>\n    .dataframe tbody tr th:only-of-type {\n        vertical-align: middle;\n    }\n\n    .dataframe tbody tr th {\n        vertical-align: top;\n    }\n\n    .dataframe thead th {\n        text-align: right;\n    }\n</style>\n<table border=\"1\" class=\"dataframe\">\n  <thead>\n    <tr style=\"text-align: right;\">\n      <th></th>\n      <th>Site #</th>\n      <th>Site Description</th>\n      <th>Address</th>\n      <th>City</th>\n      <th>County</th>\n      <th>State</th>\n      <th>Zip</th>\n      <th>Notes</th>\n      <th>street_num</th>\n    </tr>\n    <tr>\n      <th>Store #</th>\n      <th></th>\n      <th></th>\n      <th></th>\n      <th></th>\n      <th></th>\n      <th></th>\n      <th></th>\n      <th></th>\n      <th></th>\n    </tr>\n  </thead>\n  <tbody>\n    <tr>\n      <th>1</th>\n      <td>1</td>\n      <td>Kwik Chek #1</td>\n      <td>2226 North Center</td>\n      <td>Bonham</td>\n      <td>Fannin</td>\n      <td>TX</td>\n      <td>75418</td>\n      <td>NaN</td>\n      <td>2226</td>\n    </tr>\n    <tr>\n      <th>3</th>\n      <td>3</td>\n      <td>Kwik Chek #3</td>\n      <td>971 FM 273</td>\n      <td>Bonham</td>\n      <td>Fannin</td>\n      <td>TX</td>\n      <td>75418</td>\n      <td>NaN</td>\n      <td>971</td>\n    </tr>\n    <tr>\n      <th>5</th>\n      <td>5</td>\n      <td>Kwik Chek #5</td>\n      <td>NaN</td>\n      <td>Bonham</td>\n      <td>Fannin</td>\n      <td>TX</td>\n      <td>75418</td>\n      <td>Not Open Yet</td>\n      <td>nan</td>\n    </tr>\n    <tr>\n      <th>6</th>\n      <td>6</td>\n      <td>Kwik Chek #6</td>\n      <td>816 North Center</td>\n      <td>Bonham</td>\n      <td>Fannin</td>\n      <td>TX</td>\n      <td>75418</td>\n      <td>NaN</td>\n      <td>816</td>\n    </tr>\n    <tr>\n      <th>7</th>\n      <td>7</td>\n      <td>Kwik Chek #7</td>\n      <td>101 Hwy 69</td>\n      <td>Celeste</td>\n      <td>Hunt</td>\n      <td>TX</td>\n      <td>75423</td>\n      <td>NaN</td>\n      <td>101</td>\n    </tr>\n    <tr>\n      <th>8</th>\n      <td>8</td>\n      <td>Kwik Chek #8</td>\n      <td>308 Hwy 69</td>\n      <td>Leonard</td>\n      <td>Fannin</td>\n      <td>TX</td>\n      <td>75452</td>\n      <td>NaN</td>\n      <td>308</td>\n    </tr>\n    <tr>\n      <th>10</th>\n      <td>10</td>\n      <td>Kwik Chek #10</td>\n      <td>1741 North Hwy 121</td>\n      <td>Bonham</td>\n      <td>Fannin</td>\n      <td>TX</td>\n      <td>75418</td>\n      <td>NaN</td>\n      <td>1741</td>\n    </tr>\n    <tr>\n      <th>12</th>\n      <td>12</td>\n      <td>Kwik Chek #12</td>\n      <td>102 S Hwy 78</td>\n      <td>Achille</td>\n      <td>Bryan</td>\n      <td>OK</td>\n      <td>74720</td>\n      <td>NaN</td>\n      <td>102</td>\n    </tr>\n    <tr>\n      <th>13</th>\n      <td>13</td>\n      <td>Kwik Chek #13</td>\n      <td>102 West Main</td>\n      <td>Calera</td>\n      <td>Bryan</td>\n      <td>OK</td>\n      <td>74730</td>\n      <td>NaN</td>\n      <td>102</td>\n    </tr>\n    <tr>\n      <th>14</th>\n      <td>14</td>\n      <td>Kwik Chek #14</td>\n      <td>201 South 9th</td>\n      <td>Durant</td>\n      <td>Bryan</td>\n      <td>OK</td>\n      <td>74701</td>\n      <td>NaN</td>\n      <td>201</td>\n    </tr>\n    <tr>\n      <th>16</th>\n      <td>16</td>\n      <td>Kwik Chek #16</td>\n      <td>2320 West Main</td>\n      <td>Durant</td>\n      <td>Bryan</td>\n      <td>OK</td>\n      <td>74701</td>\n      <td>NaN</td>\n      <td>2320</td>\n    </tr>\n    <tr>\n      <th>17</th>\n      <td>17</td>\n      <td>Kwik Chek #17</td>\n      <td>13503 S State Hwy 121</td>\n      <td>Trenton</td>\n      <td>Fannin</td>\n      <td>TX</td>\n      <td>75490</td>\n      <td>NaN</td>\n      <td>13503</td>\n    </tr>\n    <tr>\n      <th>19</th>\n      <td>19</td>\n      <td>Kwik Chek #19</td>\n      <td>617 South Hwy 78</td>\n      <td>Wylie</td>\n      <td>Collin</td>\n      <td>TX</td>\n      <td>75098</td>\n      <td>NaN</td>\n      <td>617</td>\n    </tr>\n    <tr>\n      <th>20</th>\n      <td>20</td>\n      <td>Kwik Chek #20</td>\n      <td>5004 Wesley Street</td>\n      <td>Greenville</td>\n      <td>Hunt</td>\n      <td>TX</td>\n      <td>75402</td>\n      <td>NaN</td>\n      <td>5004</td>\n    </tr>\n    <tr>\n      <th>24</th>\n      <td>24</td>\n      <td>Kwik Chek #24</td>\n      <td>3812 Hwy 70</td>\n      <td>Hugo</td>\n      <td>Choctaw</td>\n      <td>OK</td>\n      <td>74743</td>\n      <td>NaN</td>\n      <td>3812</td>\n    </tr>\n    <tr>\n      <th>26</th>\n      <td>26</td>\n      <td>Kwik Chek #26</td>\n      <td>503 SW C</td>\n      <td>Antlers</td>\n      <td>Pushmataha</td>\n      <td>OK</td>\n      <td>74523</td>\n      <td>NaN</td>\n      <td>503</td>\n    </tr>\n    <tr>\n      <th>27</th>\n      <td>27</td>\n      <td>Kwik Chek #27</td>\n      <td>1005 East Main</td>\n      <td>Honey Grove</td>\n      <td>Fannin</td>\n      <td>TX</td>\n      <td>75446</td>\n      <td>NaN</td>\n      <td>1005</td>\n    </tr>\n    <tr>\n      <th>32</th>\n      <td>32</td>\n      <td>TXB 32</td>\n      <td>1001 Van Alstyne Parkway</td>\n      <td>Van Alstyne</td>\n      <td>Grayson</td>\n      <td>TX</td>\n      <td>75495</td>\n      <td>NaN</td>\n      <td>1001</td>\n    </tr>\n    <tr>\n      <th>34</th>\n      <td>34</td>\n      <td>Kwik Chek #34</td>\n      <td>2965 South Church Street</td>\n      <td>Paris</td>\n      <td>Lamar</td>\n      <td>TX</td>\n      <td>75460</td>\n      <td>NaN</td>\n      <td>2965</td>\n    </tr>\n    <tr>\n      <th>37</th>\n      <td>37</td>\n      <td>Kwik Chek #37</td>\n      <td>103 South Santa Fe</td>\n      <td>Wolfe City</td>\n      <td>Hunt</td>\n      <td>TX</td>\n      <td>75496</td>\n      <td>NaN</td>\n      <td>103</td>\n    </tr>\n    <tr>\n      <th>38</th>\n      <td>38</td>\n      <td>Kwik Chek #38</td>\n      <td>505 South Garfield</td>\n      <td>Kiowa</td>\n      <td>Pittsburg</td>\n      <td>OK</td>\n      <td>74553</td>\n      <td>NaN</td>\n      <td>505</td>\n    </tr>\n    <tr>\n      <th>50</th>\n      <td>50</td>\n      <td>Kwik Chek #50</td>\n      <td>3002 Thorton Lane</td>\n      <td>Temple</td>\n      <td>Bell</td>\n      <td>TX</td>\n      <td>76502</td>\n      <td>NaN</td>\n      <td>3002</td>\n    </tr>\n    <tr>\n      <th>52</th>\n      <td>52</td>\n      <td>Kwik Chek #52</td>\n      <td>1003 Hwy 1431 West</td>\n      <td>Marble Falls</td>\n      <td>Burnet</td>\n      <td>TX</td>\n      <td>78654</td>\n      <td>NaN</td>\n      <td>1003</td>\n    </tr>\n    <tr>\n      <th>53</th>\n      <td>53</td>\n      <td>Kwik Chek #53</td>\n      <td>1301 Hwy 281 North</td>\n      <td>Marble Falls</td>\n      <td>Burnet</td>\n      <td>TX</td>\n      <td>78654</td>\n      <td>NaN</td>\n      <td>1301</td>\n    </tr>\n    <tr>\n      <th>54</th>\n      <td>54</td>\n      <td>Kwik Chek #54</td>\n      <td>201 Hwy 281 &amp; Hwy 290</td>\n      <td>Johnson City</td>\n      <td>Blanco</td>\n      <td>TX</td>\n      <td>78636</td>\n      <td>NaN</td>\n      <td>201</td>\n    </tr>\n    <tr>\n      <th>55</th>\n      <td>55</td>\n      <td>Kwik Chek #55</td>\n      <td>14417-A Hwy 71 West</td>\n      <td>Austin</td>\n      <td>Travis</td>\n      <td>TX</td>\n      <td>78738</td>\n      <td>NaN</td>\n      <td>14417</td>\n    </tr>\n    <tr>\n      <th>57</th>\n      <td>57</td>\n      <td>Kwik Chek #57</td>\n      <td>14620 Ranch Road 12</td>\n      <td>Wimberley</td>\n      <td>Hays</td>\n      <td>TX</td>\n      <td>78676</td>\n      <td>NaN</td>\n      <td>14620</td>\n    </tr>\n    <tr>\n      <th>59</th>\n      <td>59</td>\n      <td>Kwik Chek #59</td>\n      <td>440 Bandera Road</td>\n      <td>Boerne</td>\n      <td>Kendall</td>\n      <td>TX</td>\n      <td>78006</td>\n      <td>NaN</td>\n      <td>440</td>\n    </tr>\n    <tr>\n      <th>60</th>\n      <td>60</td>\n      <td>Kwik Chek #60</td>\n      <td>13006 Bandera Road</td>\n      <td>Helotes</td>\n      <td>Bexar</td>\n      <td>TX</td>\n      <td>78023</td>\n      <td>NaN</td>\n      <td>13006</td>\n    </tr>\n    <tr>\n      <th>61</th>\n      <td>61</td>\n      <td>Kwik Chek #61</td>\n      <td>1001 Hwy 16 South</td>\n      <td>Fredericksburg</td>\n      <td>Gillespie</td>\n      <td>TX</td>\n      <td>78624</td>\n      <td>NaN</td>\n      <td>1001</td>\n    </tr>\n    <tr>\n      <th>62</th>\n      <td>62</td>\n      <td>Kwik Chek #62</td>\n      <td>21024 Hwy 71 W</td>\n      <td>Spicewood</td>\n      <td>Travis</td>\n      <td>TX</td>\n      <td>78669</td>\n      <td>NaN</td>\n      <td>21024</td>\n    </tr>\n    <tr>\n      <th>63</th>\n      <td>63</td>\n      <td>TXB 63</td>\n      <td>15701 W SH 71</td>\n      <td>Bee Cave</td>\n      <td>Travis</td>\n      <td>TX</td>\n      <td>78738</td>\n      <td>NaN</td>\n      <td>15701</td>\n    </tr>\n    <tr>\n      <th>64</th>\n      <td>64</td>\n      <td>Kwik Chek #64</td>\n      <td>2103 Ranch Road 620 South</td>\n      <td>Lakeway</td>\n      <td>Travis</td>\n      <td>TX</td>\n      <td>78734</td>\n      <td>NaN</td>\n      <td>2103</td>\n    </tr>\n    <tr>\n      <th>65</th>\n      <td>65</td>\n      <td>Kwik Chek #65</td>\n      <td>1402 Williams Drive</td>\n      <td>Georgetown</td>\n      <td>Williamson</td>\n      <td>TX</td>\n      <td>78628</td>\n      <td>NaN</td>\n      <td>1402</td>\n    </tr>\n    <tr>\n      <th>66</th>\n      <td>66</td>\n      <td>Kwik Chek #66</td>\n      <td>15411 East State Hwy 29</td>\n      <td>Buchanan Dam</td>\n      <td>Llano</td>\n      <td>TX</td>\n      <td>78609</td>\n      <td>NaN</td>\n      <td>15411</td>\n    </tr>\n    <tr>\n      <th>67</th>\n      <td>67</td>\n      <td>TXB 67</td>\n      <td>3702 West FM 2147</td>\n      <td>Cottonwood Shores</td>\n      <td>Llano</td>\n      <td>TX</td>\n      <td>78657</td>\n      <td>NaN</td>\n      <td>3702</td>\n    </tr>\n    <tr>\n      <th>68</th>\n      <td>68</td>\n      <td>Kwik Chek #68</td>\n      <td>145 Lehman Road</td>\n      <td>Kyle</td>\n      <td>Hays</td>\n      <td>TX</td>\n      <td>78640</td>\n      <td>Not Open Yet</td>\n      <td>145</td>\n    </tr>\n    <tr>\n      <th>69</th>\n      <td>69</td>\n      <td>TXB 69</td>\n      <td>8103 RR 2243</td>\n      <td>Leander</td>\n      <td>Williamson</td>\n      <td>TX</td>\n      <td>78641</td>\n      <td>NaN</td>\n      <td>8103</td>\n    </tr>\n    <tr>\n      <th>70</th>\n      <td>70</td>\n      <td>Kwik Chek #70</td>\n      <td>800 IH 20 West</td>\n      <td>Big Spring</td>\n      <td>Howard</td>\n      <td>TX</td>\n      <td>79720</td>\n      <td>NaN</td>\n      <td>800</td>\n    </tr>\n    <tr>\n      <th>71</th>\n      <td>71</td>\n      <td>TXB 71</td>\n      <td>2503 Rankin Hwy</td>\n      <td>Midland</td>\n      <td>Midland</td>\n      <td>TX</td>\n      <td>79706</td>\n      <td>NaN</td>\n      <td>2503</td>\n    </tr>\n    <tr>\n      <th>72</th>\n      <td>72</td>\n      <td>TXB 72</td>\n      <td>2104 East William Joel Bryan Parkway</td>\n      <td>Bryan</td>\n      <td>Brazos</td>\n      <td>TX</td>\n      <td>77802</td>\n      <td>Not Open Yet</td>\n      <td>2104</td>\n    </tr>\n    <tr>\n      <th>73</th>\n      <td>73</td>\n      <td>TXB 73</td>\n      <td>3071 University Dr E</td>\n      <td>Bryan</td>\n      <td>Brazos</td>\n      <td>TX</td>\n      <td>77840</td>\n      <td>Not Open Yet</td>\n      <td>3071</td>\n    </tr>\n    <tr>\n      <th>79</th>\n      <td>79</td>\n      <td>Kwik Chek #79</td>\n      <td>500 W Thorton Street</td>\n      <td>Three Rivers</td>\n      <td>Live Oak</td>\n      <td>TX</td>\n      <td>78071</td>\n      <td>NaN</td>\n      <td>500</td>\n    </tr>\n    <tr>\n      <th>80</th>\n      <td>80</td>\n      <td>Kwik Chek #80</td>\n      <td>801 West Lafayette</td>\n      <td>Laredo</td>\n      <td>Webb</td>\n      <td>TX</td>\n      <td>78041</td>\n      <td>NaN</td>\n      <td>801</td>\n    </tr>\n    <tr>\n      <th>81</th>\n      <td>81</td>\n      <td>Kwik Chek #81</td>\n      <td>7045 North IH 35</td>\n      <td>Laredo</td>\n      <td>Webb</td>\n      <td>TX</td>\n      <td>78041</td>\n      <td>NaN</td>\n      <td>7045</td>\n    </tr>\n    <tr>\n      <th>82</th>\n      <td>82</td>\n      <td>Kwik Chek #82</td>\n      <td>780 Carter Street</td>\n      <td>Asherton</td>\n      <td>Dimmit</td>\n      <td>TX</td>\n      <td>78827</td>\n      <td>NaN</td>\n      <td>780</td>\n    </tr>\n    <tr>\n      <th>83</th>\n      <td>83</td>\n      <td>Kwik Chek #83</td>\n      <td>401 N 1st Street</td>\n      <td>Carrizo Springs</td>\n      <td>Dimmit</td>\n      <td>TX</td>\n      <td>78834</td>\n      <td>NaN</td>\n      <td>401</td>\n    </tr>\n    <tr>\n      <th>84</th>\n      <td>84</td>\n      <td>Kwik Chek #84</td>\n      <td>1000 N 9th Street</td>\n      <td>Carrizo Springs</td>\n      <td>Dimmit</td>\n      <td>TX</td>\n      <td>78834</td>\n      <td>NaN</td>\n      <td>1000</td>\n    </tr>\n    <tr>\n      <th>85</th>\n      <td>85</td>\n      <td>Kwik Chek #85</td>\n      <td>1901 N US Hwy 83</td>\n      <td>Crystal City</td>\n      <td>Zavala</td>\n      <td>TX</td>\n      <td>78839</td>\n      <td>NaN</td>\n      <td>1901</td>\n    </tr>\n    <tr>\n      <th>86</th>\n      <td>86</td>\n      <td>Kwik Chek #86</td>\n      <td>1900 N US Hwy 83</td>\n      <td>Crystal City</td>\n      <td>Zavala</td>\n      <td>TX</td>\n      <td>78839</td>\n      <td>NaN</td>\n      <td>1900</td>\n    </tr>\n    <tr>\n      <th>87</th>\n      <td>87</td>\n      <td>Kwik Chek #87</td>\n      <td>481 W US Hwy 57</td>\n      <td>La Pryor</td>\n      <td>Zavala</td>\n      <td>TX</td>\n      <td>78872</td>\n      <td>NaN</td>\n      <td>481</td>\n    </tr>\n    <tr>\n      <th>88</th>\n      <td>88</td>\n      <td>Kwik Chek #88</td>\n      <td>2757 N Veterans Blvd</td>\n      <td>Eagle Pass</td>\n      <td>Maverick</td>\n      <td>TX</td>\n      <td>78852</td>\n      <td>NaN</td>\n      <td>2757</td>\n    </tr>\n    <tr>\n      <th>89</th>\n      <td>89</td>\n      <td>Kwik Chek #89</td>\n      <td>2196 El Indio Hwy</td>\n      <td>Eagle Pass</td>\n      <td>Maverick</td>\n      <td>TX</td>\n      <td>78852</td>\n      <td>NaN</td>\n      <td>2196</td>\n    </tr>\n  </tbody>\n</table>\n</div>"
     },
     "execution_count": 69,
     "metadata": {},
     "output_type": "execute_result"
    }
   ],
   "source": [
    "def read_masterdataset_excel():\n",
    "    master_df = pd.read_excel(master_dataset_file_path, index_col=0)\n",
    "    return master_df\n",
    "\n",
    "master_df = read_masterdataset_excel()\n",
    "\n",
    "\n",
    "def add_cols_to_masterset_df(master_df):\n",
    "\n",
    "    # Add street_num col to df\n",
    "    master_df = pd.concat([master_df, street_num_df], axis=1)\n",
    "\n",
    "    # Cast int64 default dtype cols to strings for proper JOINs\n",
    "    master_df['Site #'] = master_df['Site #'].astype(str)\n",
    "    master_df['Zip'] = master_df['Zip'].astype(str)\n",
    "    return master_df\n",
    "\n",
    "master_df = add_cols_to_masterset_df(master_df)\n",
    "master_df"
   ],
   "metadata": {
    "collapsed": false,
    "ExecuteTime": {
     "end_time": "2023-10-05T19:40:19.169986Z",
     "start_time": "2023-10-05T19:40:19.112998Z"
    }
   },
   "id": "7995692a2bcfb9d2"
  },
  {
   "cell_type": "code",
   "execution_count": null,
   "outputs": [],
   "source": [
    "# todo: logic to clean up data for instances of \"        \"Order\": \"No Delivery has been found.\"\n",
    "\n",
    "def remove_incomplete_orders(orders):\n",
    "    complete_orders = []\n",
    "    for order in orders:\n",
    "        print(order)\n",
    "        if len(order) >= 7:\n",
    "            complete_orders.append(order)\n",
    "    return complete_orders\n",
    "\n",
    "orders = remove_incomplete_orders(orders_json)\n",
    "orders\n"
   ],
   "metadata": {
    "collapsed": false
   },
   "id": "45552e4883b0c2f3"
  },
  {
   "cell_type": "code",
   "execution_count": 65,
   "outputs": [
    {
     "data": {
      "text/plain": "{'2ABD90DB': '1402 Williams Dr, Georgetown, TX 78628, USA',\n '42CEA1A6': '1301 N U.S. Hwy 281, Marble Falls, TX 78654, USA',\n '6AB38CB1': '1301 N U.S. Hwy 281, Marble Falls, TX 78654, USA',\n '4379B60E': '7045 W Del Mar Blvd, Laredo, TX 78041, USA',\n '0A150B93': '2503 TX-349, Midland, TX 79706, USA',\n 'E0EB8837': '5004 Wesley St, Greenville, TX 75402, USA',\n '77896463': '7045 W Del Mar Blvd, Laredo, TX 78041, USA',\n 'B48F2460': '14620 Ranch Rd 12, Wimberley, TX 78676, USA',\n '78588F69': '5004 Wesley St, Greenville, TX 75402, USA',\n '5C857863': '14620 Ranch Rd 12, Wimberley, TX 78676, USA',\n 'CA2588A4': '5004 Wesley St, Greenville, TX 75402, USA',\n 'B6233BDE': '1001 W Van Alstyne Pkwy, Van Alstyne, TX 75495, USA',\n '8903B15F': '800 W Interstate 20, Big Spring, TX 79720, USA',\n '9EAC6D9E': '3071 University Dr E, Bryan, TX 77802, USA',\n 'ABDD1702': '5004 Wesley St, Greenville, TX 75402, USA'}"
     },
     "execution_count": 65,
     "metadata": {},
     "output_type": "execute_result"
    }
   ],
   "source": [
    "def order_id_to_pickup_location(orders):\n",
    "    order_id_to_pickup_location  = {}\n",
    "    for order in orders:\n",
    "        order_id = order['Order']\n",
    "        store_addrs = order['Pick Up Location']\n",
    "        order_id_to_pickup_location[order_id] = store_addrs\n",
    "    return order_id_to_pickup_location\n",
    "order_to_location = order_id_to_pickup_location(orders)\n",
    "order_to_location"
   ],
   "metadata": {
    "collapsed": false,
    "ExecuteTime": {
     "end_time": "2023-10-05T19:39:25.101606Z",
     "start_time": "2023-10-05T19:39:25.091950Z"
    }
   },
   "id": "cd8b34deeb38d059"
  },
  {
   "cell_type": "code",
   "execution_count": 66,
   "outputs": [
    {
     "data": {
      "text/plain": "    order_id                                    pickup_location\n0   2ABD90DB        1402 Williams Dr, Georgetown, TX 78628, USA\n1   42CEA1A6   1301 N U.S. Hwy 281, Marble Falls, TX 78654, USA\n2   6AB38CB1   1301 N U.S. Hwy 281, Marble Falls, TX 78654, USA\n3   4379B60E         7045 W Del Mar Blvd, Laredo, TX 78041, USA\n4   0A150B93                2503 TX-349, Midland, TX 79706, USA\n5   E0EB8837          5004 Wesley St, Greenville, TX 75402, USA\n6   77896463         7045 W Del Mar Blvd, Laredo, TX 78041, USA\n7   B48F2460        14620 Ranch Rd 12, Wimberley, TX 78676, USA\n8   78588F69          5004 Wesley St, Greenville, TX 75402, USA\n9   5C857863        14620 Ranch Rd 12, Wimberley, TX 78676, USA\n10  CA2588A4          5004 Wesley St, Greenville, TX 75402, USA\n11  B6233BDE  1001 W Van Alstyne Pkwy, Van Alstyne, TX 75495...\n12  8903B15F     800 W Interstate 20, Big Spring, TX 79720, USA\n13  9EAC6D9E         3071 University Dr E, Bryan, TX 77802, USA\n14  ABDD1702          5004 Wesley St, Greenville, TX 75402, USA",
      "text/html": "<div>\n<style scoped>\n    .dataframe tbody tr th:only-of-type {\n        vertical-align: middle;\n    }\n\n    .dataframe tbody tr th {\n        vertical-align: top;\n    }\n\n    .dataframe thead th {\n        text-align: right;\n    }\n</style>\n<table border=\"1\" class=\"dataframe\">\n  <thead>\n    <tr style=\"text-align: right;\">\n      <th></th>\n      <th>order_id</th>\n      <th>pickup_location</th>\n    </tr>\n  </thead>\n  <tbody>\n    <tr>\n      <th>0</th>\n      <td>2ABD90DB</td>\n      <td>1402 Williams Dr, Georgetown, TX 78628, USA</td>\n    </tr>\n    <tr>\n      <th>1</th>\n      <td>42CEA1A6</td>\n      <td>1301 N U.S. Hwy 281, Marble Falls, TX 78654, USA</td>\n    </tr>\n    <tr>\n      <th>2</th>\n      <td>6AB38CB1</td>\n      <td>1301 N U.S. Hwy 281, Marble Falls, TX 78654, USA</td>\n    </tr>\n    <tr>\n      <th>3</th>\n      <td>4379B60E</td>\n      <td>7045 W Del Mar Blvd, Laredo, TX 78041, USA</td>\n    </tr>\n    <tr>\n      <th>4</th>\n      <td>0A150B93</td>\n      <td>2503 TX-349, Midland, TX 79706, USA</td>\n    </tr>\n    <tr>\n      <th>5</th>\n      <td>E0EB8837</td>\n      <td>5004 Wesley St, Greenville, TX 75402, USA</td>\n    </tr>\n    <tr>\n      <th>6</th>\n      <td>77896463</td>\n      <td>7045 W Del Mar Blvd, Laredo, TX 78041, USA</td>\n    </tr>\n    <tr>\n      <th>7</th>\n      <td>B48F2460</td>\n      <td>14620 Ranch Rd 12, Wimberley, TX 78676, USA</td>\n    </tr>\n    <tr>\n      <th>8</th>\n      <td>78588F69</td>\n      <td>5004 Wesley St, Greenville, TX 75402, USA</td>\n    </tr>\n    <tr>\n      <th>9</th>\n      <td>5C857863</td>\n      <td>14620 Ranch Rd 12, Wimberley, TX 78676, USA</td>\n    </tr>\n    <tr>\n      <th>10</th>\n      <td>CA2588A4</td>\n      <td>5004 Wesley St, Greenville, TX 75402, USA</td>\n    </tr>\n    <tr>\n      <th>11</th>\n      <td>B6233BDE</td>\n      <td>1001 W Van Alstyne Pkwy, Van Alstyne, TX 75495...</td>\n    </tr>\n    <tr>\n      <th>12</th>\n      <td>8903B15F</td>\n      <td>800 W Interstate 20, Big Spring, TX 79720, USA</td>\n    </tr>\n    <tr>\n      <th>13</th>\n      <td>9EAC6D9E</td>\n      <td>3071 University Dr E, Bryan, TX 77802, USA</td>\n    </tr>\n    <tr>\n      <th>14</th>\n      <td>ABDD1702</td>\n      <td>5004 Wesley St, Greenville, TX 75402, USA</td>\n    </tr>\n  </tbody>\n</table>\n</div>"
     },
     "execution_count": 66,
     "metadata": {},
     "output_type": "execute_result"
    }
   ],
   "source": [
    "def get_raw_order_to_location_df():\n",
    "    raw_orders_to_location = order_id_to_pickup_location(orders)\n",
    "    order_to_location_pairs = list(raw_orders_to_location.items())\n",
    "    order_to_location_df = pd.DataFrame(order_to_location_pairs, columns=['order_id', 'pickup_location'])\n",
    "    \n",
    "    return order_to_location_df\n",
    "___get_raw_order_to_location_df = get_raw_order_to_location_df()\n",
    "___get_raw_order_to_location_df"
   ],
   "metadata": {
    "collapsed": false,
    "ExecuteTime": {
     "end_time": "2023-10-05T19:39:27.835163Z",
     "start_time": "2023-10-05T19:39:27.815852Z"
    }
   },
   "id": "5f6903e6004a1552"
  },
  {
   "cell_type": "code",
   "execution_count": 35,
   "outputs": [
    {
     "data": {
      "text/plain": "        Site # Site Description                               Address  \\\nStore #                                                                 \n1            1     Kwik Chek #1                     2226 North Center   \n3            3     Kwik Chek #3                            971 FM 273   \n5            5     Kwik Chek #5                                   NaN   \n6            6     Kwik Chek #6                      816 North Center   \n7            7     Kwik Chek #7                            101 Hwy 69   \n8            8     Kwik Chek #8                            308 Hwy 69   \n10          10    Kwik Chek #10                    1741 North Hwy 121   \n12          12    Kwik Chek #12                          102 S Hwy 78   \n13          13    Kwik Chek #13                         102 West Main   \n14          14    Kwik Chek #14                         201 South 9th   \n16          16    Kwik Chek #16                        2320 West Main   \n17          17    Kwik Chek #17                 13503 S State Hwy 121   \n19          19    Kwik Chek #19                      617 South Hwy 78   \n20          20    Kwik Chek #20                    5004 Wesley Street   \n24          24    Kwik Chek #24                           3812 Hwy 70   \n26          26    Kwik Chek #26                              503 SW C   \n27          27    Kwik Chek #27                        1005 East Main   \n32          32           TXB 32              1001 Van Alstyne Parkway   \n34          34    Kwik Chek #34              2965 South Church Street   \n37          37    Kwik Chek #37                    103 South Santa Fe   \n38          38    Kwik Chek #38                    505 South Garfield   \n50          50    Kwik Chek #50                     3002 Thorton Lane   \n52          52    Kwik Chek #52                    1003 Hwy 1431 West   \n53          53    Kwik Chek #53                    1301 Hwy 281 North   \n54          54    Kwik Chek #54                 201 Hwy 281 & Hwy 290   \n55          55    Kwik Chek #55                   14417-A Hwy 71 West   \n57          57    Kwik Chek #57                   14620 Ranch Road 12   \n59          59    Kwik Chek #59                      440 Bandera Road   \n60          60    Kwik Chek #60                    13006 Bandera Road   \n61          61    Kwik Chek #61                     1001 Hwy 16 South   \n62          62    Kwik Chek #62                        21024 Hwy 71 W   \n63          63           TXB 63                         15701 W SH 71   \n64          64    Kwik Chek #64             2103 Ranch Road 620 South   \n65          65    Kwik Chek #65                   1402 Williams Drive   \n66          66    Kwik Chek #66               15411 East State Hwy 29   \n67          67           TXB 67                     3702 West FM 2147   \n68          68    Kwik Chek #68                       145 Lehman Road   \n69          69           TXB 69                          8103 RR 2243   \n70          70    Kwik Chek #70                        800 IH 20 West   \n71          71           TXB 71                       2503 Rankin Hwy   \n72          72           TXB 72  2104 East William Joel Bryan Parkway   \n73          73           TXB 73                  3071 University Dr E   \n79          79    Kwik Chek #79                  500 W Thorton Street   \n80          80    Kwik Chek #80                    801 West Lafayette   \n81          81    Kwik Chek #81                      7045 North IH 35   \n82          82    Kwik Chek #82                     780 Carter Street   \n83          83    Kwik Chek #83                      401 N 1st Street   \n84          84    Kwik Chek #84                     1000 N 9th Street   \n85          85    Kwik Chek #85                      1901 N US Hwy 83   \n86          86    Kwik Chek #86                      1900 N US Hwy 83   \n87          87    Kwik Chek #87                       481 W US Hwy 57   \n88          88    Kwik Chek #88                  2757 N Veterans Blvd   \n89          89    Kwik Chek #89                     2196 El Indio Hwy   \n\n                      City      County State    Zip         Notes street_num  \nStore #                                                                       \n1                   Bonham      Fannin    TX  75418           NaN       2226  \n3                   Bonham      Fannin    TX  75418           NaN        971  \n5                   Bonham      Fannin    TX  75418  Not Open Yet        nan  \n6                   Bonham      Fannin    TX  75418           NaN        816  \n7                  Celeste        Hunt    TX  75423           NaN        101  \n8                  Leonard      Fannin    TX  75452           NaN        308  \n10                  Bonham      Fannin    TX  75418           NaN       1741  \n12                 Achille       Bryan    OK  74720           NaN        102  \n13                  Calera       Bryan    OK  74730           NaN        102  \n14                  Durant       Bryan    OK  74701           NaN        201  \n16                  Durant       Bryan    OK  74701           NaN       2320  \n17                 Trenton      Fannin    TX  75490           NaN      13503  \n19                   Wylie      Collin    TX  75098           NaN        617  \n20              Greenville        Hunt    TX  75402           NaN       5004  \n24                    Hugo     Choctaw    OK  74743           NaN       3812  \n26                 Antlers  Pushmataha    OK  74523           NaN        503  \n27             Honey Grove      Fannin    TX  75446           NaN       1005  \n32             Van Alstyne     Grayson    TX  75495           NaN       1001  \n34                   Paris       Lamar    TX  75460           NaN       2965  \n37              Wolfe City        Hunt    TX  75496           NaN        103  \n38                   Kiowa   Pittsburg    OK  74553           NaN        505  \n50                  Temple        Bell    TX  76502           NaN       3002  \n52            Marble Falls      Burnet    TX  78654           NaN       1003  \n53            Marble Falls      Burnet    TX  78654           NaN       1301  \n54            Johnson City      Blanco    TX  78636           NaN        201  \n55                  Austin      Travis    TX  78738           NaN      14417  \n57               Wimberley        Hays    TX  78676           NaN      14620  \n59                  Boerne     Kendall    TX  78006           NaN        440  \n60                 Helotes       Bexar    TX  78023           NaN      13006  \n61          Fredericksburg   Gillespie    TX  78624           NaN       1001  \n62               Spicewood      Travis    TX  78669           NaN      21024  \n63                Bee Cave      Travis    TX  78738           NaN      15701  \n64                 Lakeway      Travis    TX  78734           NaN       2103  \n65              Georgetown  Williamson    TX  78628           NaN       1402  \n66            Buchanan Dam       Llano    TX  78609           NaN      15411  \n67       Cottonwood Shores       Llano    TX  78657           NaN       3702  \n68                    Kyle        Hays    TX  78640  Not Open Yet        145  \n69                 Leander  Williamson    TX  78641           NaN       8103  \n70              Big Spring      Howard    TX  79720           NaN        800  \n71                 Midland     Midland    TX  79706           NaN       2503  \n72                   Bryan      Brazos    TX  77802  Not Open Yet       2104  \n73                   Bryan      Brazos    TX  77840  Not Open Yet       3071  \n79            Three Rivers    Live Oak    TX  78071           NaN        500  \n80                  Laredo        Webb    TX  78041           NaN        801  \n81                  Laredo        Webb    TX  78041           NaN       7045  \n82                Asherton      Dimmit    TX  78827           NaN        780  \n83         Carrizo Springs      Dimmit    TX  78834           NaN        401  \n84         Carrizo Springs      Dimmit    TX  78834           NaN       1000  \n85            Crystal City      Zavala    TX  78839           NaN       1901  \n86            Crystal City      Zavala    TX  78839           NaN       1900  \n87                La Pryor      Zavala    TX  78872           NaN        481  \n88              Eagle Pass    Maverick    TX  78852           NaN       2757  \n89              Eagle Pass    Maverick    TX  78852           NaN       2196  ",
      "text/html": "<div>\n<style scoped>\n    .dataframe tbody tr th:only-of-type {\n        vertical-align: middle;\n    }\n\n    .dataframe tbody tr th {\n        vertical-align: top;\n    }\n\n    .dataframe thead th {\n        text-align: right;\n    }\n</style>\n<table border=\"1\" class=\"dataframe\">\n  <thead>\n    <tr style=\"text-align: right;\">\n      <th></th>\n      <th>Site #</th>\n      <th>Site Description</th>\n      <th>Address</th>\n      <th>City</th>\n      <th>County</th>\n      <th>State</th>\n      <th>Zip</th>\n      <th>Notes</th>\n      <th>street_num</th>\n    </tr>\n    <tr>\n      <th>Store #</th>\n      <th></th>\n      <th></th>\n      <th></th>\n      <th></th>\n      <th></th>\n      <th></th>\n      <th></th>\n      <th></th>\n      <th></th>\n    </tr>\n  </thead>\n  <tbody>\n    <tr>\n      <th>1</th>\n      <td>1</td>\n      <td>Kwik Chek #1</td>\n      <td>2226 North Center</td>\n      <td>Bonham</td>\n      <td>Fannin</td>\n      <td>TX</td>\n      <td>75418</td>\n      <td>NaN</td>\n      <td>2226</td>\n    </tr>\n    <tr>\n      <th>3</th>\n      <td>3</td>\n      <td>Kwik Chek #3</td>\n      <td>971 FM 273</td>\n      <td>Bonham</td>\n      <td>Fannin</td>\n      <td>TX</td>\n      <td>75418</td>\n      <td>NaN</td>\n      <td>971</td>\n    </tr>\n    <tr>\n      <th>5</th>\n      <td>5</td>\n      <td>Kwik Chek #5</td>\n      <td>NaN</td>\n      <td>Bonham</td>\n      <td>Fannin</td>\n      <td>TX</td>\n      <td>75418</td>\n      <td>Not Open Yet</td>\n      <td>nan</td>\n    </tr>\n    <tr>\n      <th>6</th>\n      <td>6</td>\n      <td>Kwik Chek #6</td>\n      <td>816 North Center</td>\n      <td>Bonham</td>\n      <td>Fannin</td>\n      <td>TX</td>\n      <td>75418</td>\n      <td>NaN</td>\n      <td>816</td>\n    </tr>\n    <tr>\n      <th>7</th>\n      <td>7</td>\n      <td>Kwik Chek #7</td>\n      <td>101 Hwy 69</td>\n      <td>Celeste</td>\n      <td>Hunt</td>\n      <td>TX</td>\n      <td>75423</td>\n      <td>NaN</td>\n      <td>101</td>\n    </tr>\n    <tr>\n      <th>8</th>\n      <td>8</td>\n      <td>Kwik Chek #8</td>\n      <td>308 Hwy 69</td>\n      <td>Leonard</td>\n      <td>Fannin</td>\n      <td>TX</td>\n      <td>75452</td>\n      <td>NaN</td>\n      <td>308</td>\n    </tr>\n    <tr>\n      <th>10</th>\n      <td>10</td>\n      <td>Kwik Chek #10</td>\n      <td>1741 North Hwy 121</td>\n      <td>Bonham</td>\n      <td>Fannin</td>\n      <td>TX</td>\n      <td>75418</td>\n      <td>NaN</td>\n      <td>1741</td>\n    </tr>\n    <tr>\n      <th>12</th>\n      <td>12</td>\n      <td>Kwik Chek #12</td>\n      <td>102 S Hwy 78</td>\n      <td>Achille</td>\n      <td>Bryan</td>\n      <td>OK</td>\n      <td>74720</td>\n      <td>NaN</td>\n      <td>102</td>\n    </tr>\n    <tr>\n      <th>13</th>\n      <td>13</td>\n      <td>Kwik Chek #13</td>\n      <td>102 West Main</td>\n      <td>Calera</td>\n      <td>Bryan</td>\n      <td>OK</td>\n      <td>74730</td>\n      <td>NaN</td>\n      <td>102</td>\n    </tr>\n    <tr>\n      <th>14</th>\n      <td>14</td>\n      <td>Kwik Chek #14</td>\n      <td>201 South 9th</td>\n      <td>Durant</td>\n      <td>Bryan</td>\n      <td>OK</td>\n      <td>74701</td>\n      <td>NaN</td>\n      <td>201</td>\n    </tr>\n    <tr>\n      <th>16</th>\n      <td>16</td>\n      <td>Kwik Chek #16</td>\n      <td>2320 West Main</td>\n      <td>Durant</td>\n      <td>Bryan</td>\n      <td>OK</td>\n      <td>74701</td>\n      <td>NaN</td>\n      <td>2320</td>\n    </tr>\n    <tr>\n      <th>17</th>\n      <td>17</td>\n      <td>Kwik Chek #17</td>\n      <td>13503 S State Hwy 121</td>\n      <td>Trenton</td>\n      <td>Fannin</td>\n      <td>TX</td>\n      <td>75490</td>\n      <td>NaN</td>\n      <td>13503</td>\n    </tr>\n    <tr>\n      <th>19</th>\n      <td>19</td>\n      <td>Kwik Chek #19</td>\n      <td>617 South Hwy 78</td>\n      <td>Wylie</td>\n      <td>Collin</td>\n      <td>TX</td>\n      <td>75098</td>\n      <td>NaN</td>\n      <td>617</td>\n    </tr>\n    <tr>\n      <th>20</th>\n      <td>20</td>\n      <td>Kwik Chek #20</td>\n      <td>5004 Wesley Street</td>\n      <td>Greenville</td>\n      <td>Hunt</td>\n      <td>TX</td>\n      <td>75402</td>\n      <td>NaN</td>\n      <td>5004</td>\n    </tr>\n    <tr>\n      <th>24</th>\n      <td>24</td>\n      <td>Kwik Chek #24</td>\n      <td>3812 Hwy 70</td>\n      <td>Hugo</td>\n      <td>Choctaw</td>\n      <td>OK</td>\n      <td>74743</td>\n      <td>NaN</td>\n      <td>3812</td>\n    </tr>\n    <tr>\n      <th>26</th>\n      <td>26</td>\n      <td>Kwik Chek #26</td>\n      <td>503 SW C</td>\n      <td>Antlers</td>\n      <td>Pushmataha</td>\n      <td>OK</td>\n      <td>74523</td>\n      <td>NaN</td>\n      <td>503</td>\n    </tr>\n    <tr>\n      <th>27</th>\n      <td>27</td>\n      <td>Kwik Chek #27</td>\n      <td>1005 East Main</td>\n      <td>Honey Grove</td>\n      <td>Fannin</td>\n      <td>TX</td>\n      <td>75446</td>\n      <td>NaN</td>\n      <td>1005</td>\n    </tr>\n    <tr>\n      <th>32</th>\n      <td>32</td>\n      <td>TXB 32</td>\n      <td>1001 Van Alstyne Parkway</td>\n      <td>Van Alstyne</td>\n      <td>Grayson</td>\n      <td>TX</td>\n      <td>75495</td>\n      <td>NaN</td>\n      <td>1001</td>\n    </tr>\n    <tr>\n      <th>34</th>\n      <td>34</td>\n      <td>Kwik Chek #34</td>\n      <td>2965 South Church Street</td>\n      <td>Paris</td>\n      <td>Lamar</td>\n      <td>TX</td>\n      <td>75460</td>\n      <td>NaN</td>\n      <td>2965</td>\n    </tr>\n    <tr>\n      <th>37</th>\n      <td>37</td>\n      <td>Kwik Chek #37</td>\n      <td>103 South Santa Fe</td>\n      <td>Wolfe City</td>\n      <td>Hunt</td>\n      <td>TX</td>\n      <td>75496</td>\n      <td>NaN</td>\n      <td>103</td>\n    </tr>\n    <tr>\n      <th>38</th>\n      <td>38</td>\n      <td>Kwik Chek #38</td>\n      <td>505 South Garfield</td>\n      <td>Kiowa</td>\n      <td>Pittsburg</td>\n      <td>OK</td>\n      <td>74553</td>\n      <td>NaN</td>\n      <td>505</td>\n    </tr>\n    <tr>\n      <th>50</th>\n      <td>50</td>\n      <td>Kwik Chek #50</td>\n      <td>3002 Thorton Lane</td>\n      <td>Temple</td>\n      <td>Bell</td>\n      <td>TX</td>\n      <td>76502</td>\n      <td>NaN</td>\n      <td>3002</td>\n    </tr>\n    <tr>\n      <th>52</th>\n      <td>52</td>\n      <td>Kwik Chek #52</td>\n      <td>1003 Hwy 1431 West</td>\n      <td>Marble Falls</td>\n      <td>Burnet</td>\n      <td>TX</td>\n      <td>78654</td>\n      <td>NaN</td>\n      <td>1003</td>\n    </tr>\n    <tr>\n      <th>53</th>\n      <td>53</td>\n      <td>Kwik Chek #53</td>\n      <td>1301 Hwy 281 North</td>\n      <td>Marble Falls</td>\n      <td>Burnet</td>\n      <td>TX</td>\n      <td>78654</td>\n      <td>NaN</td>\n      <td>1301</td>\n    </tr>\n    <tr>\n      <th>54</th>\n      <td>54</td>\n      <td>Kwik Chek #54</td>\n      <td>201 Hwy 281 &amp; Hwy 290</td>\n      <td>Johnson City</td>\n      <td>Blanco</td>\n      <td>TX</td>\n      <td>78636</td>\n      <td>NaN</td>\n      <td>201</td>\n    </tr>\n    <tr>\n      <th>55</th>\n      <td>55</td>\n      <td>Kwik Chek #55</td>\n      <td>14417-A Hwy 71 West</td>\n      <td>Austin</td>\n      <td>Travis</td>\n      <td>TX</td>\n      <td>78738</td>\n      <td>NaN</td>\n      <td>14417</td>\n    </tr>\n    <tr>\n      <th>57</th>\n      <td>57</td>\n      <td>Kwik Chek #57</td>\n      <td>14620 Ranch Road 12</td>\n      <td>Wimberley</td>\n      <td>Hays</td>\n      <td>TX</td>\n      <td>78676</td>\n      <td>NaN</td>\n      <td>14620</td>\n    </tr>\n    <tr>\n      <th>59</th>\n      <td>59</td>\n      <td>Kwik Chek #59</td>\n      <td>440 Bandera Road</td>\n      <td>Boerne</td>\n      <td>Kendall</td>\n      <td>TX</td>\n      <td>78006</td>\n      <td>NaN</td>\n      <td>440</td>\n    </tr>\n    <tr>\n      <th>60</th>\n      <td>60</td>\n      <td>Kwik Chek #60</td>\n      <td>13006 Bandera Road</td>\n      <td>Helotes</td>\n      <td>Bexar</td>\n      <td>TX</td>\n      <td>78023</td>\n      <td>NaN</td>\n      <td>13006</td>\n    </tr>\n    <tr>\n      <th>61</th>\n      <td>61</td>\n      <td>Kwik Chek #61</td>\n      <td>1001 Hwy 16 South</td>\n      <td>Fredericksburg</td>\n      <td>Gillespie</td>\n      <td>TX</td>\n      <td>78624</td>\n      <td>NaN</td>\n      <td>1001</td>\n    </tr>\n    <tr>\n      <th>62</th>\n      <td>62</td>\n      <td>Kwik Chek #62</td>\n      <td>21024 Hwy 71 W</td>\n      <td>Spicewood</td>\n      <td>Travis</td>\n      <td>TX</td>\n      <td>78669</td>\n      <td>NaN</td>\n      <td>21024</td>\n    </tr>\n    <tr>\n      <th>63</th>\n      <td>63</td>\n      <td>TXB 63</td>\n      <td>15701 W SH 71</td>\n      <td>Bee Cave</td>\n      <td>Travis</td>\n      <td>TX</td>\n      <td>78738</td>\n      <td>NaN</td>\n      <td>15701</td>\n    </tr>\n    <tr>\n      <th>64</th>\n      <td>64</td>\n      <td>Kwik Chek #64</td>\n      <td>2103 Ranch Road 620 South</td>\n      <td>Lakeway</td>\n      <td>Travis</td>\n      <td>TX</td>\n      <td>78734</td>\n      <td>NaN</td>\n      <td>2103</td>\n    </tr>\n    <tr>\n      <th>65</th>\n      <td>65</td>\n      <td>Kwik Chek #65</td>\n      <td>1402 Williams Drive</td>\n      <td>Georgetown</td>\n      <td>Williamson</td>\n      <td>TX</td>\n      <td>78628</td>\n      <td>NaN</td>\n      <td>1402</td>\n    </tr>\n    <tr>\n      <th>66</th>\n      <td>66</td>\n      <td>Kwik Chek #66</td>\n      <td>15411 East State Hwy 29</td>\n      <td>Buchanan Dam</td>\n      <td>Llano</td>\n      <td>TX</td>\n      <td>78609</td>\n      <td>NaN</td>\n      <td>15411</td>\n    </tr>\n    <tr>\n      <th>67</th>\n      <td>67</td>\n      <td>TXB 67</td>\n      <td>3702 West FM 2147</td>\n      <td>Cottonwood Shores</td>\n      <td>Llano</td>\n      <td>TX</td>\n      <td>78657</td>\n      <td>NaN</td>\n      <td>3702</td>\n    </tr>\n    <tr>\n      <th>68</th>\n      <td>68</td>\n      <td>Kwik Chek #68</td>\n      <td>145 Lehman Road</td>\n      <td>Kyle</td>\n      <td>Hays</td>\n      <td>TX</td>\n      <td>78640</td>\n      <td>Not Open Yet</td>\n      <td>145</td>\n    </tr>\n    <tr>\n      <th>69</th>\n      <td>69</td>\n      <td>TXB 69</td>\n      <td>8103 RR 2243</td>\n      <td>Leander</td>\n      <td>Williamson</td>\n      <td>TX</td>\n      <td>78641</td>\n      <td>NaN</td>\n      <td>8103</td>\n    </tr>\n    <tr>\n      <th>70</th>\n      <td>70</td>\n      <td>Kwik Chek #70</td>\n      <td>800 IH 20 West</td>\n      <td>Big Spring</td>\n      <td>Howard</td>\n      <td>TX</td>\n      <td>79720</td>\n      <td>NaN</td>\n      <td>800</td>\n    </tr>\n    <tr>\n      <th>71</th>\n      <td>71</td>\n      <td>TXB 71</td>\n      <td>2503 Rankin Hwy</td>\n      <td>Midland</td>\n      <td>Midland</td>\n      <td>TX</td>\n      <td>79706</td>\n      <td>NaN</td>\n      <td>2503</td>\n    </tr>\n    <tr>\n      <th>72</th>\n      <td>72</td>\n      <td>TXB 72</td>\n      <td>2104 East William Joel Bryan Parkway</td>\n      <td>Bryan</td>\n      <td>Brazos</td>\n      <td>TX</td>\n      <td>77802</td>\n      <td>Not Open Yet</td>\n      <td>2104</td>\n    </tr>\n    <tr>\n      <th>73</th>\n      <td>73</td>\n      <td>TXB 73</td>\n      <td>3071 University Dr E</td>\n      <td>Bryan</td>\n      <td>Brazos</td>\n      <td>TX</td>\n      <td>77840</td>\n      <td>Not Open Yet</td>\n      <td>3071</td>\n    </tr>\n    <tr>\n      <th>79</th>\n      <td>79</td>\n      <td>Kwik Chek #79</td>\n      <td>500 W Thorton Street</td>\n      <td>Three Rivers</td>\n      <td>Live Oak</td>\n      <td>TX</td>\n      <td>78071</td>\n      <td>NaN</td>\n      <td>500</td>\n    </tr>\n    <tr>\n      <th>80</th>\n      <td>80</td>\n      <td>Kwik Chek #80</td>\n      <td>801 West Lafayette</td>\n      <td>Laredo</td>\n      <td>Webb</td>\n      <td>TX</td>\n      <td>78041</td>\n      <td>NaN</td>\n      <td>801</td>\n    </tr>\n    <tr>\n      <th>81</th>\n      <td>81</td>\n      <td>Kwik Chek #81</td>\n      <td>7045 North IH 35</td>\n      <td>Laredo</td>\n      <td>Webb</td>\n      <td>TX</td>\n      <td>78041</td>\n      <td>NaN</td>\n      <td>7045</td>\n    </tr>\n    <tr>\n      <th>82</th>\n      <td>82</td>\n      <td>Kwik Chek #82</td>\n      <td>780 Carter Street</td>\n      <td>Asherton</td>\n      <td>Dimmit</td>\n      <td>TX</td>\n      <td>78827</td>\n      <td>NaN</td>\n      <td>780</td>\n    </tr>\n    <tr>\n      <th>83</th>\n      <td>83</td>\n      <td>Kwik Chek #83</td>\n      <td>401 N 1st Street</td>\n      <td>Carrizo Springs</td>\n      <td>Dimmit</td>\n      <td>TX</td>\n      <td>78834</td>\n      <td>NaN</td>\n      <td>401</td>\n    </tr>\n    <tr>\n      <th>84</th>\n      <td>84</td>\n      <td>Kwik Chek #84</td>\n      <td>1000 N 9th Street</td>\n      <td>Carrizo Springs</td>\n      <td>Dimmit</td>\n      <td>TX</td>\n      <td>78834</td>\n      <td>NaN</td>\n      <td>1000</td>\n    </tr>\n    <tr>\n      <th>85</th>\n      <td>85</td>\n      <td>Kwik Chek #85</td>\n      <td>1901 N US Hwy 83</td>\n      <td>Crystal City</td>\n      <td>Zavala</td>\n      <td>TX</td>\n      <td>78839</td>\n      <td>NaN</td>\n      <td>1901</td>\n    </tr>\n    <tr>\n      <th>86</th>\n      <td>86</td>\n      <td>Kwik Chek #86</td>\n      <td>1900 N US Hwy 83</td>\n      <td>Crystal City</td>\n      <td>Zavala</td>\n      <td>TX</td>\n      <td>78839</td>\n      <td>NaN</td>\n      <td>1900</td>\n    </tr>\n    <tr>\n      <th>87</th>\n      <td>87</td>\n      <td>Kwik Chek #87</td>\n      <td>481 W US Hwy 57</td>\n      <td>La Pryor</td>\n      <td>Zavala</td>\n      <td>TX</td>\n      <td>78872</td>\n      <td>NaN</td>\n      <td>481</td>\n    </tr>\n    <tr>\n      <th>88</th>\n      <td>88</td>\n      <td>Kwik Chek #88</td>\n      <td>2757 N Veterans Blvd</td>\n      <td>Eagle Pass</td>\n      <td>Maverick</td>\n      <td>TX</td>\n      <td>78852</td>\n      <td>NaN</td>\n      <td>2757</td>\n    </tr>\n    <tr>\n      <th>89</th>\n      <td>89</td>\n      <td>Kwik Chek #89</td>\n      <td>2196 El Indio Hwy</td>\n      <td>Eagle Pass</td>\n      <td>Maverick</td>\n      <td>TX</td>\n      <td>78852</td>\n      <td>NaN</td>\n      <td>2196</td>\n    </tr>\n  </tbody>\n</table>\n</div>"
     },
     "execution_count": 35,
     "metadata": {},
     "output_type": "execute_result"
    }
   ],
   "source": [
    "master_df"
   ],
   "metadata": {
    "collapsed": false,
    "ExecuteTime": {
     "end_time": "2023-10-05T18:35:13.791966Z",
     "start_time": "2023-10-05T18:35:13.787182Z"
    }
   },
   "id": "a0cf38aa51f88ee8"
  },
  {
   "cell_type": "code",
   "execution_count": 53,
   "outputs": [
    {
     "data": {
      "text/plain": "0             1402 Williams Dr, Georgetown, TX 78628\n1        1301 N U.S. Hwy 281, Marble Falls, TX 78654\n2        1301 N U.S. Hwy 281, Marble Falls, TX 78654\n3              7045 W Del Mar Blvd, Laredo, TX 78041\n4                     2503 TX-349, Midland, TX 79706\n5               5004 Wesley St, Greenville, TX 75402\n6              7045 W Del Mar Blvd, Laredo, TX 78041\n7             14620 Ranch Rd 12, Wimberley, TX 78676\n8               5004 Wesley St, Greenville, TX 75402\n9             14620 Ranch Rd 12, Wimberley, TX 78676\n10              5004 Wesley St, Greenville, TX 75402\n11    1001 W Van Alstyne Pkwy, Van Alstyne, TX 75495\n12         800 W Interstate 20, Big Spring, TX 79720\n13             3071 University Dr E, Bryan, TX 77802\n14              5004 Wesley St, Greenville, TX 75402\nName: pickup_location, dtype: object"
     },
     "execution_count": 53,
     "metadata": {},
     "output_type": "execute_result"
    }
   ],
   "source": [
    "___get_raw_order_to_location_df['pickup_location'].str.replace(', USA', '')  # remove usa with preceeding comma"
   ],
   "metadata": {
    "collapsed": false,
    "ExecuteTime": {
     "end_time": "2023-10-05T18:50:52.202912Z",
     "start_time": "2023-10-05T18:50:52.199213Z"
    }
   },
   "id": "95972afb9f377295"
  },
  {
   "cell_type": "code",
   "execution_count": 56,
   "outputs": [
    {
     "data": {
      "text/plain": "   street_num state zip_code\n0        1402    TX    78628\n1        1301    TX    78654\n2        1301    TX    78654\n3        7045    TX    78041\n4        2503    TX    79706\n5        5004    TX    75402\n6        7045    TX    78041\n7       14620    TX    14620\n8        5004    TX    75402\n9       14620    TX    14620\n10       5004    TX    75402\n11       1001    TX    75495\n12        800    TX    79720\n13       3071    TX    77802\n14       5004    TX    75402",
      "text/html": "<div>\n<style scoped>\n    .dataframe tbody tr th:only-of-type {\n        vertical-align: middle;\n    }\n\n    .dataframe tbody tr th {\n        vertical-align: top;\n    }\n\n    .dataframe thead th {\n        text-align: right;\n    }\n</style>\n<table border=\"1\" class=\"dataframe\">\n  <thead>\n    <tr style=\"text-align: right;\">\n      <th></th>\n      <th>street_num</th>\n      <th>state</th>\n      <th>zip_code</th>\n    </tr>\n  </thead>\n  <tbody>\n    <tr>\n      <th>0</th>\n      <td>1402</td>\n      <td>TX</td>\n      <td>78628</td>\n    </tr>\n    <tr>\n      <th>1</th>\n      <td>1301</td>\n      <td>TX</td>\n      <td>78654</td>\n    </tr>\n    <tr>\n      <th>2</th>\n      <td>1301</td>\n      <td>TX</td>\n      <td>78654</td>\n    </tr>\n    <tr>\n      <th>3</th>\n      <td>7045</td>\n      <td>TX</td>\n      <td>78041</td>\n    </tr>\n    <tr>\n      <th>4</th>\n      <td>2503</td>\n      <td>TX</td>\n      <td>79706</td>\n    </tr>\n    <tr>\n      <th>5</th>\n      <td>5004</td>\n      <td>TX</td>\n      <td>75402</td>\n    </tr>\n    <tr>\n      <th>6</th>\n      <td>7045</td>\n      <td>TX</td>\n      <td>78041</td>\n    </tr>\n    <tr>\n      <th>7</th>\n      <td>14620</td>\n      <td>TX</td>\n      <td>14620</td>\n    </tr>\n    <tr>\n      <th>8</th>\n      <td>5004</td>\n      <td>TX</td>\n      <td>75402</td>\n    </tr>\n    <tr>\n      <th>9</th>\n      <td>14620</td>\n      <td>TX</td>\n      <td>14620</td>\n    </tr>\n    <tr>\n      <th>10</th>\n      <td>5004</td>\n      <td>TX</td>\n      <td>75402</td>\n    </tr>\n    <tr>\n      <th>11</th>\n      <td>1001</td>\n      <td>TX</td>\n      <td>75495</td>\n    </tr>\n    <tr>\n      <th>12</th>\n      <td>800</td>\n      <td>TX</td>\n      <td>79720</td>\n    </tr>\n    <tr>\n      <th>13</th>\n      <td>3071</td>\n      <td>TX</td>\n      <td>77802</td>\n    </tr>\n    <tr>\n      <th>14</th>\n      <td>5004</td>\n      <td>TX</td>\n      <td>75402</td>\n    </tr>\n  </tbody>\n</table>\n</div>"
     },
     "execution_count": 56,
     "metadata": {},
     "output_type": "execute_result"
    }
   ],
   "source": [
    "\n",
    "zip_code_pattern = r'(?P<zip_code>\\d{5})'\n",
    "zip_code_df = ___get_raw_order_to_location_df['pickup_location'].str.extract(zip_code_pattern)\n",
    "\n",
    "state_pattern = r'(?P<state>[A-Z]{2})'\n",
    "state_df = ___get_raw_order_to_location_df['pickup_location'].str.extract(state_pattern)\n",
    "\n",
    "street_num_pattern = r'(?P<street_num>^.+?)\\s'\n",
    "street_num_df = ___get_raw_order_to_location_df['pickup_location'].str.extract(street_num_pattern)\n",
    "\n",
    "\n",
    "new_df = pd.concat([street_num_df, state_df, zip_code_df], axis=1)\n",
    "new_df"
   ],
   "metadata": {
    "collapsed": false,
    "ExecuteTime": {
     "end_time": "2023-10-05T19:11:11.586620Z",
     "start_time": "2023-10-05T19:11:11.580792Z"
    }
   },
   "id": "34a3279ddf40d246"
  },
  {
   "cell_type": "code",
   "execution_count": 59,
   "outputs": [
    {
     "data": {
      "text/plain": "   Site # Site Description                   Address          City  \\\n0      20    Kwik Chek #20        5004 Wesley Street    Greenville   \n1      20    Kwik Chek #20        5004 Wesley Street    Greenville   \n2      20    Kwik Chek #20        5004 Wesley Street    Greenville   \n3      20    Kwik Chek #20        5004 Wesley Street    Greenville   \n4      32           TXB 32  1001 Van Alstyne Parkway   Van Alstyne   \n5      53    Kwik Chek #53        1301 Hwy 281 North  Marble Falls   \n6      53    Kwik Chek #53        1301 Hwy 281 North  Marble Falls   \n7      65    Kwik Chek #65       1402 Williams Drive    Georgetown   \n8      70    Kwik Chek #70            800 IH 20 West    Big Spring   \n9      71           TXB 71           2503 Rankin Hwy       Midland   \n10     81    Kwik Chek #81          7045 North IH 35        Laredo   \n11     81    Kwik Chek #81          7045 North IH 35        Laredo   \n\n        County State    Zip Notes street_num state zip_code  \n0         Hunt    TX  75402   NaN       5004    TX    75402  \n1         Hunt    TX  75402   NaN       5004    TX    75402  \n2         Hunt    TX  75402   NaN       5004    TX    75402  \n3         Hunt    TX  75402   NaN       5004    TX    75402  \n4      Grayson    TX  75495   NaN       1001    TX    75495  \n5       Burnet    TX  78654   NaN       1301    TX    78654  \n6       Burnet    TX  78654   NaN       1301    TX    78654  \n7   Williamson    TX  78628   NaN       1402    TX    78628  \n8       Howard    TX  79720   NaN        800    TX    79720  \n9      Midland    TX  79706   NaN       2503    TX    79706  \n10        Webb    TX  78041   NaN       7045    TX    78041  \n11        Webb    TX  78041   NaN       7045    TX    78041  ",
      "text/html": "<div>\n<style scoped>\n    .dataframe tbody tr th:only-of-type {\n        vertical-align: middle;\n    }\n\n    .dataframe tbody tr th {\n        vertical-align: top;\n    }\n\n    .dataframe thead th {\n        text-align: right;\n    }\n</style>\n<table border=\"1\" class=\"dataframe\">\n  <thead>\n    <tr style=\"text-align: right;\">\n      <th></th>\n      <th>Site #</th>\n      <th>Site Description</th>\n      <th>Address</th>\n      <th>City</th>\n      <th>County</th>\n      <th>State</th>\n      <th>Zip</th>\n      <th>Notes</th>\n      <th>street_num</th>\n      <th>state</th>\n      <th>zip_code</th>\n    </tr>\n  </thead>\n  <tbody>\n    <tr>\n      <th>0</th>\n      <td>20</td>\n      <td>Kwik Chek #20</td>\n      <td>5004 Wesley Street</td>\n      <td>Greenville</td>\n      <td>Hunt</td>\n      <td>TX</td>\n      <td>75402</td>\n      <td>NaN</td>\n      <td>5004</td>\n      <td>TX</td>\n      <td>75402</td>\n    </tr>\n    <tr>\n      <th>1</th>\n      <td>20</td>\n      <td>Kwik Chek #20</td>\n      <td>5004 Wesley Street</td>\n      <td>Greenville</td>\n      <td>Hunt</td>\n      <td>TX</td>\n      <td>75402</td>\n      <td>NaN</td>\n      <td>5004</td>\n      <td>TX</td>\n      <td>75402</td>\n    </tr>\n    <tr>\n      <th>2</th>\n      <td>20</td>\n      <td>Kwik Chek #20</td>\n      <td>5004 Wesley Street</td>\n      <td>Greenville</td>\n      <td>Hunt</td>\n      <td>TX</td>\n      <td>75402</td>\n      <td>NaN</td>\n      <td>5004</td>\n      <td>TX</td>\n      <td>75402</td>\n    </tr>\n    <tr>\n      <th>3</th>\n      <td>20</td>\n      <td>Kwik Chek #20</td>\n      <td>5004 Wesley Street</td>\n      <td>Greenville</td>\n      <td>Hunt</td>\n      <td>TX</td>\n      <td>75402</td>\n      <td>NaN</td>\n      <td>5004</td>\n      <td>TX</td>\n      <td>75402</td>\n    </tr>\n    <tr>\n      <th>4</th>\n      <td>32</td>\n      <td>TXB 32</td>\n      <td>1001 Van Alstyne Parkway</td>\n      <td>Van Alstyne</td>\n      <td>Grayson</td>\n      <td>TX</td>\n      <td>75495</td>\n      <td>NaN</td>\n      <td>1001</td>\n      <td>TX</td>\n      <td>75495</td>\n    </tr>\n    <tr>\n      <th>5</th>\n      <td>53</td>\n      <td>Kwik Chek #53</td>\n      <td>1301 Hwy 281 North</td>\n      <td>Marble Falls</td>\n      <td>Burnet</td>\n      <td>TX</td>\n      <td>78654</td>\n      <td>NaN</td>\n      <td>1301</td>\n      <td>TX</td>\n      <td>78654</td>\n    </tr>\n    <tr>\n      <th>6</th>\n      <td>53</td>\n      <td>Kwik Chek #53</td>\n      <td>1301 Hwy 281 North</td>\n      <td>Marble Falls</td>\n      <td>Burnet</td>\n      <td>TX</td>\n      <td>78654</td>\n      <td>NaN</td>\n      <td>1301</td>\n      <td>TX</td>\n      <td>78654</td>\n    </tr>\n    <tr>\n      <th>7</th>\n      <td>65</td>\n      <td>Kwik Chek #65</td>\n      <td>1402 Williams Drive</td>\n      <td>Georgetown</td>\n      <td>Williamson</td>\n      <td>TX</td>\n      <td>78628</td>\n      <td>NaN</td>\n      <td>1402</td>\n      <td>TX</td>\n      <td>78628</td>\n    </tr>\n    <tr>\n      <th>8</th>\n      <td>70</td>\n      <td>Kwik Chek #70</td>\n      <td>800 IH 20 West</td>\n      <td>Big Spring</td>\n      <td>Howard</td>\n      <td>TX</td>\n      <td>79720</td>\n      <td>NaN</td>\n      <td>800</td>\n      <td>TX</td>\n      <td>79720</td>\n    </tr>\n    <tr>\n      <th>9</th>\n      <td>71</td>\n      <td>TXB 71</td>\n      <td>2503 Rankin Hwy</td>\n      <td>Midland</td>\n      <td>Midland</td>\n      <td>TX</td>\n      <td>79706</td>\n      <td>NaN</td>\n      <td>2503</td>\n      <td>TX</td>\n      <td>79706</td>\n    </tr>\n    <tr>\n      <th>10</th>\n      <td>81</td>\n      <td>Kwik Chek #81</td>\n      <td>7045 North IH 35</td>\n      <td>Laredo</td>\n      <td>Webb</td>\n      <td>TX</td>\n      <td>78041</td>\n      <td>NaN</td>\n      <td>7045</td>\n      <td>TX</td>\n      <td>78041</td>\n    </tr>\n    <tr>\n      <th>11</th>\n      <td>81</td>\n      <td>Kwik Chek #81</td>\n      <td>7045 North IH 35</td>\n      <td>Laredo</td>\n      <td>Webb</td>\n      <td>TX</td>\n      <td>78041</td>\n      <td>NaN</td>\n      <td>7045</td>\n      <td>TX</td>\n      <td>78041</td>\n    </tr>\n  </tbody>\n</table>\n</div>"
     },
     "execution_count": 59,
     "metadata": {},
     "output_type": "execute_result"
    }
   ],
   "source": [
    "# todo: use zip code from above to merge with master_df[Zip] \n",
    "\n",
    "new_merged_df = pd.merge(master_df, new_df, left_on=['Zip', 'State', 'street_num'], right_on=['zip_code', 'state', 'street_num' ], how='inner')\n",
    "new_merged_df\n"
   ],
   "metadata": {
    "collapsed": false,
    "ExecuteTime": {
     "end_time": "2023-10-05T19:13:55.454871Z",
     "start_time": "2023-10-05T19:13:55.450474Z"
    }
   },
   "id": "84a97d362d3df4d2"
  },
  {
   "cell_type": "code",
   "execution_count": 37,
   "outputs": [
    {
     "data": {
      "text/plain": "    order_id                                pickup_location  \\\n0   2ABD90DB          1402 Williams Dr Georgetown TX 78628    \n1   42CEA1A6     1301 N U.S. Hwy 281 Marble Falls TX 78654    \n2   6AB38CB1     1301 N U.S. Hwy 281 Marble Falls TX 78654    \n3   4379B60E           7045 W Del Mar Blvd Laredo TX 78041    \n4   0A150B93                  2503 TX-349 Midland TX 79706    \n5   E0EB8837            5004 Wesley St Greenville TX 75402    \n6   77896463           7045 W Del Mar Blvd Laredo TX 78041    \n7   B48F2460          14620 Ranch Rd 12 Wimberley TX 78676    \n8   78588F69            5004 Wesley St Greenville TX 75402    \n9   5C857863          14620 Ranch Rd 12 Wimberley TX 78676    \n10  CA2588A4            5004 Wesley St Greenville TX 75402    \n11  B6233BDE  1001 W Van Alstyne Pkwy Van Alstyne TX 75495    \n12  8903B15F       800 W Interstate 20 Big Spring TX 79720    \n13  9EAC6D9E           3071 University Dr E Bryan TX 77802    \n14  ABDD1702            5004 Wesley St Greenville TX 75402    \n\n                    address           city state zip_code  \n0             1402 Williams  Dr Georgetown    TX    78628  \n1       1301 N U.S. Hwy 281   Marble Falls    TX    78654  \n2       1301 N U.S. Hwy 281   Marble Falls    TX    78654  \n3            7045 W Del Mar    Blvd Laredo    TX    78041  \n4               2503 TX-349        Midland    TX    79706  \n5               5004 Wesley  St Greenville    TX    75402  \n6            7045 W Del Mar    Blvd Laredo    TX    78041  \n7            14620 Ranch Rd   12 Wimberley    TX    78676  \n8               5004 Wesley  St Greenville    TX    75402  \n9            14620 Ranch Rd   12 Wimberley    TX    78676  \n10              5004 Wesley  St Greenville    TX    75402  \n11  1001 W Van Alstyne Pkwy    Van Alstyne    TX    75495  \n12      800 W Interstate 20     Big Spring    TX    79720  \n13       3071 University Dr        E Bryan    TX    77802  \n14              5004 Wesley  St Greenville    TX    75402  ",
      "text/html": "<div>\n<style scoped>\n    .dataframe tbody tr th:only-of-type {\n        vertical-align: middle;\n    }\n\n    .dataframe tbody tr th {\n        vertical-align: top;\n    }\n\n    .dataframe thead th {\n        text-align: right;\n    }\n</style>\n<table border=\"1\" class=\"dataframe\">\n  <thead>\n    <tr style=\"text-align: right;\">\n      <th></th>\n      <th>order_id</th>\n      <th>pickup_location</th>\n      <th>address</th>\n      <th>city</th>\n      <th>state</th>\n      <th>zip_code</th>\n    </tr>\n  </thead>\n  <tbody>\n    <tr>\n      <th>0</th>\n      <td>2ABD90DB</td>\n      <td>1402 Williams Dr Georgetown TX 78628</td>\n      <td>1402 Williams</td>\n      <td>Dr Georgetown</td>\n      <td>TX</td>\n      <td>78628</td>\n    </tr>\n    <tr>\n      <th>1</th>\n      <td>42CEA1A6</td>\n      <td>1301 N U.S. Hwy 281 Marble Falls TX 78654</td>\n      <td>1301 N U.S. Hwy 281</td>\n      <td>Marble Falls</td>\n      <td>TX</td>\n      <td>78654</td>\n    </tr>\n    <tr>\n      <th>2</th>\n      <td>6AB38CB1</td>\n      <td>1301 N U.S. Hwy 281 Marble Falls TX 78654</td>\n      <td>1301 N U.S. Hwy 281</td>\n      <td>Marble Falls</td>\n      <td>TX</td>\n      <td>78654</td>\n    </tr>\n    <tr>\n      <th>3</th>\n      <td>4379B60E</td>\n      <td>7045 W Del Mar Blvd Laredo TX 78041</td>\n      <td>7045 W Del Mar</td>\n      <td>Blvd Laredo</td>\n      <td>TX</td>\n      <td>78041</td>\n    </tr>\n    <tr>\n      <th>4</th>\n      <td>0A150B93</td>\n      <td>2503 TX-349 Midland TX 79706</td>\n      <td>2503 TX-349</td>\n      <td>Midland</td>\n      <td>TX</td>\n      <td>79706</td>\n    </tr>\n    <tr>\n      <th>5</th>\n      <td>E0EB8837</td>\n      <td>5004 Wesley St Greenville TX 75402</td>\n      <td>5004 Wesley</td>\n      <td>St Greenville</td>\n      <td>TX</td>\n      <td>75402</td>\n    </tr>\n    <tr>\n      <th>6</th>\n      <td>77896463</td>\n      <td>7045 W Del Mar Blvd Laredo TX 78041</td>\n      <td>7045 W Del Mar</td>\n      <td>Blvd Laredo</td>\n      <td>TX</td>\n      <td>78041</td>\n    </tr>\n    <tr>\n      <th>7</th>\n      <td>B48F2460</td>\n      <td>14620 Ranch Rd 12 Wimberley TX 78676</td>\n      <td>14620 Ranch Rd</td>\n      <td>12 Wimberley</td>\n      <td>TX</td>\n      <td>78676</td>\n    </tr>\n    <tr>\n      <th>8</th>\n      <td>78588F69</td>\n      <td>5004 Wesley St Greenville TX 75402</td>\n      <td>5004 Wesley</td>\n      <td>St Greenville</td>\n      <td>TX</td>\n      <td>75402</td>\n    </tr>\n    <tr>\n      <th>9</th>\n      <td>5C857863</td>\n      <td>14620 Ranch Rd 12 Wimberley TX 78676</td>\n      <td>14620 Ranch Rd</td>\n      <td>12 Wimberley</td>\n      <td>TX</td>\n      <td>78676</td>\n    </tr>\n    <tr>\n      <th>10</th>\n      <td>CA2588A4</td>\n      <td>5004 Wesley St Greenville TX 75402</td>\n      <td>5004 Wesley</td>\n      <td>St Greenville</td>\n      <td>TX</td>\n      <td>75402</td>\n    </tr>\n    <tr>\n      <th>11</th>\n      <td>B6233BDE</td>\n      <td>1001 W Van Alstyne Pkwy Van Alstyne TX 75495</td>\n      <td>1001 W Van Alstyne Pkwy</td>\n      <td>Van Alstyne</td>\n      <td>TX</td>\n      <td>75495</td>\n    </tr>\n    <tr>\n      <th>12</th>\n      <td>8903B15F</td>\n      <td>800 W Interstate 20 Big Spring TX 79720</td>\n      <td>800 W Interstate 20</td>\n      <td>Big Spring</td>\n      <td>TX</td>\n      <td>79720</td>\n    </tr>\n    <tr>\n      <th>13</th>\n      <td>9EAC6D9E</td>\n      <td>3071 University Dr E Bryan TX 77802</td>\n      <td>3071 University Dr</td>\n      <td>E Bryan</td>\n      <td>TX</td>\n      <td>77802</td>\n    </tr>\n    <tr>\n      <th>14</th>\n      <td>ABDD1702</td>\n      <td>5004 Wesley St Greenville TX 75402</td>\n      <td>5004 Wesley</td>\n      <td>St Greenville</td>\n      <td>TX</td>\n      <td>75402</td>\n    </tr>\n  </tbody>\n</table>\n</div>"
     },
     "execution_count": 37,
     "metadata": {},
     "output_type": "execute_result"
    }
   ],
   "source": [
    "def splitup_pickup_location():\n",
    "    order_to_location_df['pickup_location'] = ___get_raw_order_to_location_df['pickup_location'].str.replace(',', '')\n",
    "    \n",
    "    # Remove \"USA\" substring\n",
    "    order_to_location_df['pickup_location'] = order_to_location_df['pickup_location'].str.replace('USA', '')\n",
    "\n",
    "    # \n",
    "    pattern = r'(?P<address>^.+?)\\s(?P<city>\\w+\\s*\\w*)\\s(?P<state>[A-Z]{2})\\s(?P<zip_code>\\d{5})'\n",
    "    # \n",
    "    df_extracted = order_to_location_df['pickup_location'].str.extract(pattern)\n",
    "    # \n",
    "    _order_to_location_df = pd.concat([order_to_location_df, df_extracted], axis=1)\n",
    "\n",
    "    return _order_to_location_df\n",
    "\n",
    "_order_to_location_df = splitup_pickup_location()\n",
    "_order_to_location_df"
   ],
   "metadata": {
    "collapsed": false,
    "ExecuteTime": {
     "end_time": "2023-10-05T18:36:22.258680Z",
     "start_time": "2023-10-05T18:36:22.251264Z"
    }
   },
   "id": "edba52dcb41512a7"
  },
  {
   "cell_type": "code",
   "execution_count": 19,
   "outputs": [
    {
     "data": {
      "text/plain": "    order_id                                pickup_location  \\\n0   2ABD90DB          1402 Williams Dr Georgetown TX 78628    \n1   42CEA1A6     1301 N U.S. Hwy 281 Marble Falls TX 78654    \n2   6AB38CB1     1301 N U.S. Hwy 281 Marble Falls TX 78654    \n3   4379B60E           7045 W Del Mar Blvd Laredo TX 78041    \n4   0A150B93                  2503 TX-349 Midland TX 79706    \n5   E0EB8837            5004 Wesley St Greenville TX 75402    \n6   77896463           7045 W Del Mar Blvd Laredo TX 78041    \n7   B48F2460          14620 Ranch Rd 12 Wimberley TX 78676    \n8   78588F69            5004 Wesley St Greenville TX 75402    \n9   5C857863          14620 Ranch Rd 12 Wimberley TX 78676    \n10  CA2588A4            5004 Wesley St Greenville TX 75402    \n11  B6233BDE  1001 W Van Alstyne Pkwy Van Alstyne TX 75495    \n12  8903B15F       800 W Interstate 20 Big Spring TX 79720    \n13  9EAC6D9E           3071 University Dr E Bryan TX 77802    \n14  ABDD1702            5004 Wesley St Greenville TX 75402    \n\n                    address           city state zip_code street_num  \n0             1402 Williams  Dr Georgetown    TX    78628       1402  \n1       1301 N U.S. Hwy 281   Marble Falls    TX    78654       1301  \n2       1301 N U.S. Hwy 281   Marble Falls    TX    78654       1301  \n3            7045 W Del Mar    Blvd Laredo    TX    78041       7045  \n4               2503 TX-349        Midland    TX    79706       2503  \n5               5004 Wesley  St Greenville    TX    75402       5004  \n6            7045 W Del Mar    Blvd Laredo    TX    78041       7045  \n7            14620 Ranch Rd   12 Wimberley    TX    78676      14620  \n8               5004 Wesley  St Greenville    TX    75402       5004  \n9            14620 Ranch Rd   12 Wimberley    TX    78676      14620  \n10              5004 Wesley  St Greenville    TX    75402       5004  \n11  1001 W Van Alstyne Pkwy    Van Alstyne    TX    75495       1001  \n12      800 W Interstate 20     Big Spring    TX    79720        800  \n13       3071 University Dr        E Bryan    TX    77802       3071  \n14              5004 Wesley  St Greenville    TX    75402       5004  ",
      "text/html": "<div>\n<style scoped>\n    .dataframe tbody tr th:only-of-type {\n        vertical-align: middle;\n    }\n\n    .dataframe tbody tr th {\n        vertical-align: top;\n    }\n\n    .dataframe thead th {\n        text-align: right;\n    }\n</style>\n<table border=\"1\" class=\"dataframe\">\n  <thead>\n    <tr style=\"text-align: right;\">\n      <th></th>\n      <th>order_id</th>\n      <th>pickup_location</th>\n      <th>address</th>\n      <th>city</th>\n      <th>state</th>\n      <th>zip_code</th>\n      <th>street_num</th>\n    </tr>\n  </thead>\n  <tbody>\n    <tr>\n      <th>0</th>\n      <td>2ABD90DB</td>\n      <td>1402 Williams Dr Georgetown TX 78628</td>\n      <td>1402 Williams</td>\n      <td>Dr Georgetown</td>\n      <td>TX</td>\n      <td>78628</td>\n      <td>1402</td>\n    </tr>\n    <tr>\n      <th>1</th>\n      <td>42CEA1A6</td>\n      <td>1301 N U.S. Hwy 281 Marble Falls TX 78654</td>\n      <td>1301 N U.S. Hwy 281</td>\n      <td>Marble Falls</td>\n      <td>TX</td>\n      <td>78654</td>\n      <td>1301</td>\n    </tr>\n    <tr>\n      <th>2</th>\n      <td>6AB38CB1</td>\n      <td>1301 N U.S. Hwy 281 Marble Falls TX 78654</td>\n      <td>1301 N U.S. Hwy 281</td>\n      <td>Marble Falls</td>\n      <td>TX</td>\n      <td>78654</td>\n      <td>1301</td>\n    </tr>\n    <tr>\n      <th>3</th>\n      <td>4379B60E</td>\n      <td>7045 W Del Mar Blvd Laredo TX 78041</td>\n      <td>7045 W Del Mar</td>\n      <td>Blvd Laredo</td>\n      <td>TX</td>\n      <td>78041</td>\n      <td>7045</td>\n    </tr>\n    <tr>\n      <th>4</th>\n      <td>0A150B93</td>\n      <td>2503 TX-349 Midland TX 79706</td>\n      <td>2503 TX-349</td>\n      <td>Midland</td>\n      <td>TX</td>\n      <td>79706</td>\n      <td>2503</td>\n    </tr>\n    <tr>\n      <th>5</th>\n      <td>E0EB8837</td>\n      <td>5004 Wesley St Greenville TX 75402</td>\n      <td>5004 Wesley</td>\n      <td>St Greenville</td>\n      <td>TX</td>\n      <td>75402</td>\n      <td>5004</td>\n    </tr>\n    <tr>\n      <th>6</th>\n      <td>77896463</td>\n      <td>7045 W Del Mar Blvd Laredo TX 78041</td>\n      <td>7045 W Del Mar</td>\n      <td>Blvd Laredo</td>\n      <td>TX</td>\n      <td>78041</td>\n      <td>7045</td>\n    </tr>\n    <tr>\n      <th>7</th>\n      <td>B48F2460</td>\n      <td>14620 Ranch Rd 12 Wimberley TX 78676</td>\n      <td>14620 Ranch Rd</td>\n      <td>12 Wimberley</td>\n      <td>TX</td>\n      <td>78676</td>\n      <td>14620</td>\n    </tr>\n    <tr>\n      <th>8</th>\n      <td>78588F69</td>\n      <td>5004 Wesley St Greenville TX 75402</td>\n      <td>5004 Wesley</td>\n      <td>St Greenville</td>\n      <td>TX</td>\n      <td>75402</td>\n      <td>5004</td>\n    </tr>\n    <tr>\n      <th>9</th>\n      <td>5C857863</td>\n      <td>14620 Ranch Rd 12 Wimberley TX 78676</td>\n      <td>14620 Ranch Rd</td>\n      <td>12 Wimberley</td>\n      <td>TX</td>\n      <td>78676</td>\n      <td>14620</td>\n    </tr>\n    <tr>\n      <th>10</th>\n      <td>CA2588A4</td>\n      <td>5004 Wesley St Greenville TX 75402</td>\n      <td>5004 Wesley</td>\n      <td>St Greenville</td>\n      <td>TX</td>\n      <td>75402</td>\n      <td>5004</td>\n    </tr>\n    <tr>\n      <th>11</th>\n      <td>B6233BDE</td>\n      <td>1001 W Van Alstyne Pkwy Van Alstyne TX 75495</td>\n      <td>1001 W Van Alstyne Pkwy</td>\n      <td>Van Alstyne</td>\n      <td>TX</td>\n      <td>75495</td>\n      <td>1001</td>\n    </tr>\n    <tr>\n      <th>12</th>\n      <td>8903B15F</td>\n      <td>800 W Interstate 20 Big Spring TX 79720</td>\n      <td>800 W Interstate 20</td>\n      <td>Big Spring</td>\n      <td>TX</td>\n      <td>79720</td>\n      <td>800</td>\n    </tr>\n    <tr>\n      <th>13</th>\n      <td>9EAC6D9E</td>\n      <td>3071 University Dr E Bryan TX 77802</td>\n      <td>3071 University Dr</td>\n      <td>E Bryan</td>\n      <td>TX</td>\n      <td>77802</td>\n      <td>3071</td>\n    </tr>\n    <tr>\n      <th>14</th>\n      <td>ABDD1702</td>\n      <td>5004 Wesley St Greenville TX 75402</td>\n      <td>5004 Wesley</td>\n      <td>St Greenville</td>\n      <td>TX</td>\n      <td>75402</td>\n      <td>5004</td>\n    </tr>\n  </tbody>\n</table>\n</div>"
     },
     "execution_count": 19,
     "metadata": {},
     "output_type": "execute_result"
    }
   ],
   "source": [
    "def add_street_num_col():\n",
    "    street_num_pattern = r'(?P<street_num>\\b\\d{3,5}\\b)'\n",
    "\n",
    "    addrs_extracted_df = _order_to_location_df['address'].str.extract(street_num_pattern)\n",
    "\n",
    "    ADD_order_to_location_df = pd.concat([_order_to_location_df, addrs_extracted_df], axis=1)\n",
    "    return ADD_order_to_location_df\n",
    "\n",
    "ADD_order_to_location_df = add_street_num_col()\n",
    "ADD_order_to_location_df"
   ],
   "metadata": {
    "collapsed": false,
    "ExecuteTime": {
     "end_time": "2023-10-05T17:54:59.641177Z",
     "start_time": "2023-10-05T17:54:59.633912Z"
    }
   },
   "id": "6f9a590fa9b3f6f8"
  },
  {
   "cell_type": "code",
   "execution_count": 23,
   "outputs": [
    {
     "data": {
      "text/plain": "   Site #  order_id                   Address  \\\n0      20  E0EB8837        5004 Wesley Street   \n1      20  78588F69        5004 Wesley Street   \n2      20  CA2588A4        5004 Wesley Street   \n3      20  ABDD1702        5004 Wesley Street   \n4      32  B6233BDE  1001 Van Alstyne Parkway   \n5      53  42CEA1A6        1301 Hwy 281 North   \n6      53  6AB38CB1        1301 Hwy 281 North   \n7      57  B48F2460       14620 Ranch Road 12   \n8      57  5C857863       14620 Ranch Road 12   \n9      65  2ABD90DB       1402 Williams Drive   \n10     70  8903B15F            800 IH 20 West   \n11     71  0A150B93           2503 Rankin Hwy   \n12     81  4379B60E          7045 North IH 35   \n13     81  77896463          7045 North IH 35   \n\n                                  pickup_location  \n0             5004 Wesley St Greenville TX 75402   \n1             5004 Wesley St Greenville TX 75402   \n2             5004 Wesley St Greenville TX 75402   \n3             5004 Wesley St Greenville TX 75402   \n4   1001 W Van Alstyne Pkwy Van Alstyne TX 75495   \n5      1301 N U.S. Hwy 281 Marble Falls TX 78654   \n6      1301 N U.S. Hwy 281 Marble Falls TX 78654   \n7           14620 Ranch Rd 12 Wimberley TX 78676   \n8           14620 Ranch Rd 12 Wimberley TX 78676   \n9           1402 Williams Dr Georgetown TX 78628   \n10       800 W Interstate 20 Big Spring TX 79720   \n11                  2503 TX-349 Midland TX 79706   \n12           7045 W Del Mar Blvd Laredo TX 78041   \n13           7045 W Del Mar Blvd Laredo TX 78041   ",
      "text/html": "<div>\n<style scoped>\n    .dataframe tbody tr th:only-of-type {\n        vertical-align: middle;\n    }\n\n    .dataframe tbody tr th {\n        vertical-align: top;\n    }\n\n    .dataframe thead th {\n        text-align: right;\n    }\n</style>\n<table border=\"1\" class=\"dataframe\">\n  <thead>\n    <tr style=\"text-align: right;\">\n      <th></th>\n      <th>Site #</th>\n      <th>order_id</th>\n      <th>Address</th>\n      <th>pickup_location</th>\n    </tr>\n  </thead>\n  <tbody>\n    <tr>\n      <th>0</th>\n      <td>20</td>\n      <td>E0EB8837</td>\n      <td>5004 Wesley Street</td>\n      <td>5004 Wesley St Greenville TX 75402</td>\n    </tr>\n    <tr>\n      <th>1</th>\n      <td>20</td>\n      <td>78588F69</td>\n      <td>5004 Wesley Street</td>\n      <td>5004 Wesley St Greenville TX 75402</td>\n    </tr>\n    <tr>\n      <th>2</th>\n      <td>20</td>\n      <td>CA2588A4</td>\n      <td>5004 Wesley Street</td>\n      <td>5004 Wesley St Greenville TX 75402</td>\n    </tr>\n    <tr>\n      <th>3</th>\n      <td>20</td>\n      <td>ABDD1702</td>\n      <td>5004 Wesley Street</td>\n      <td>5004 Wesley St Greenville TX 75402</td>\n    </tr>\n    <tr>\n      <th>4</th>\n      <td>32</td>\n      <td>B6233BDE</td>\n      <td>1001 Van Alstyne Parkway</td>\n      <td>1001 W Van Alstyne Pkwy Van Alstyne TX 75495</td>\n    </tr>\n    <tr>\n      <th>5</th>\n      <td>53</td>\n      <td>42CEA1A6</td>\n      <td>1301 Hwy 281 North</td>\n      <td>1301 N U.S. Hwy 281 Marble Falls TX 78654</td>\n    </tr>\n    <tr>\n      <th>6</th>\n      <td>53</td>\n      <td>6AB38CB1</td>\n      <td>1301 Hwy 281 North</td>\n      <td>1301 N U.S. Hwy 281 Marble Falls TX 78654</td>\n    </tr>\n    <tr>\n      <th>7</th>\n      <td>57</td>\n      <td>B48F2460</td>\n      <td>14620 Ranch Road 12</td>\n      <td>14620 Ranch Rd 12 Wimberley TX 78676</td>\n    </tr>\n    <tr>\n      <th>8</th>\n      <td>57</td>\n      <td>5C857863</td>\n      <td>14620 Ranch Road 12</td>\n      <td>14620 Ranch Rd 12 Wimberley TX 78676</td>\n    </tr>\n    <tr>\n      <th>9</th>\n      <td>65</td>\n      <td>2ABD90DB</td>\n      <td>1402 Williams Drive</td>\n      <td>1402 Williams Dr Georgetown TX 78628</td>\n    </tr>\n    <tr>\n      <th>10</th>\n      <td>70</td>\n      <td>8903B15F</td>\n      <td>800 IH 20 West</td>\n      <td>800 W Interstate 20 Big Spring TX 79720</td>\n    </tr>\n    <tr>\n      <th>11</th>\n      <td>71</td>\n      <td>0A150B93</td>\n      <td>2503 Rankin Hwy</td>\n      <td>2503 TX-349 Midland TX 79706</td>\n    </tr>\n    <tr>\n      <th>12</th>\n      <td>81</td>\n      <td>4379B60E</td>\n      <td>7045 North IH 35</td>\n      <td>7045 W Del Mar Blvd Laredo TX 78041</td>\n    </tr>\n    <tr>\n      <th>13</th>\n      <td>81</td>\n      <td>77896463</td>\n      <td>7045 North IH 35</td>\n      <td>7045 W Del Mar Blvd Laredo TX 78041</td>\n    </tr>\n  </tbody>\n</table>\n</div>"
     },
     "execution_count": 23,
     "metadata": {},
     "output_type": "execute_result"
    }
   ],
   "source": [
    "def get_merged_and_organized_master_df():\n",
    "    merged_df = pd.merge(master_df, ADD_order_to_location_df, left_on=['Zip', 'street_num'], right_on=['zip_code', 'street_num'], how='inner')\n",
    "\n",
    "    merged_df.drop(['Site Description', 'City', 'County', 'State', 'address', 'city', 'state', 'Zip', 'zip_code', 'Notes',\n",
    "     'street_num'], axis=1, inplace=True)\n",
    "\n",
    "    merged_df = merged_df[['Site #', 'order_id', 'Address', 'pickup_location']]\n",
    "\n",
    "    return merged_df\n",
    "\n",
    "merged_df = get_merged_and_organized_master_df()\n",
    "merged_df"
   ],
   "metadata": {
    "collapsed": false,
    "ExecuteTime": {
     "end_time": "2023-10-05T18:12:04.587052Z",
     "start_time": "2023-10-05T18:12:04.583350Z"
    }
   },
   "id": "fee828aff8212a9"
  },
  {
   "cell_type": "code",
   "execution_count": 21,
   "outputs": [],
   "source": [
    "def store_num_to_order_ids(original_dict):\n",
    "    aggregated_dict = {}\n",
    "    \n",
    "    for order_id, value in original_dict.items():\n",
    "        if value not in aggregated_dict:\n",
    "            aggregated_dict[value] = set()\n",
    "        aggregated_dict[value].add(order_id)\n",
    "    return aggregated_dict\n"
   ],
   "metadata": {
    "collapsed": false,
    "ExecuteTime": {
     "end_time": "2023-10-05T17:55:32.691146Z",
     "start_time": "2023-10-05T17:55:32.686499Z"
    }
   },
   "id": "425d6b0f0cdbceb9"
  },
  {
   "cell_type": "code",
   "execution_count": 12,
   "outputs": [
    {
     "data": {
      "text/plain": "{'6': {'0ED5F1C8', '8C4F6250'},\n '10': {'7DE4AD15'},\n '16': {'AF6DBE37'},\n '20': {'D7BD216C'},\n '53': {'C032FE0A'},\n '57': {'8BE8532F', 'D84A9C02'},\n '60': {'60BF65AB'},\n '68': {'3286DC34'},\n '70': {'92022795', 'F9A3C1CE'},\n '80': {'234FE808', '91EC3C1E'},\n '89': {'4761F061'}}"
     },
     "execution_count": 12,
     "metadata": {},
     "output_type": "execute_result"
    }
   ],
   "source": [
    "def get_store_num_to_order_ids():\n",
    "    order_id_to_store_num = merged_df.set_index('order_id')['Site #'].to_dict()\n",
    "    store_num_to_order_ids_map = store_num_to_order_ids(order_id_to_store_num)\n",
    "    return store_num_to_order_ids_map\n",
    "store_num_to_order_ids_map = get_store_num_to_order_ids()\n",
    "store_num_to_order_ids_map"
   ],
   "metadata": {
    "collapsed": false,
    "ExecuteTime": {
     "end_time": "2023-10-04T19:48:58.609215Z",
     "start_time": "2023-10-04T19:48:58.605581Z"
    }
   },
   "id": "34355412f9269012"
  },
  {
   "cell_type": "code",
   "execution_count": 13,
   "outputs": [
    {
     "data": {
      "text/plain": "[{'Order': '92022795',\n  'Delivered': 'The order was delivered at 11:45 PM on October 2, 2023.',\n  'Pick Up Location': '800 W Interstate 20, Big Spring, TX 79720, USA',\n  'Order Details': {'1 × Barcel Takis Fuego Hot Chili Pepper & Lime Corn Snacks (4 oz) (Chips & Popcorn TX)': '$4.19',\n   ' 1 × Hostess Powdered Donettes Bag (10.5oz) (Donuts TX)': '$6.39',\n   ' 1 × Big Red Bottle (20oz) (Soda TX)': '$3.79',\n   ' 1 × Cheetos Crunchy Jalapeno (8.5 oz) (Chips & Popcorn TX)': '$3.19'},\n  'Subtotal': '$17.56',\n  'Subtotal Tax': '$0.31',\n  'Commission (23%)': '-$4.04',\n  'Total Customer Refund': '-$0.00',\n  'Estimated Payout': '$13.83',\n  'Transaction #8120214500 - Delivery': '$13.83',\n  'Store Number': '70'},\n {'Order': '3286DC34',\n  'Delivered': 'The order was delivered at 11:45 PM on October 2, 2023.',\n  'Pick Up Location': '145 Lehman Rd, Kyle, TX 78640, USA',\n  'Order Details': {\"1 × Ben & Jerry's Chunky Monkey Ice Cream (16 oz) (Ice Cream TX)\": '$12.49'},\n  'Subtotal': '$12.49',\n  'Subtotal Tax': '$0.00',\n  'Commission (23%)': '-$2.87',\n  'Total Customer Refund': '-$0.00',\n  'Estimated Payout': '$9.62',\n  'Transaction #8120252453 - Delivery': '$9.62',\n  'Store Number': '68'},\n {'Order': 'F9A3C1CE',\n  'Delivered': 'The order was delivered at 11:36 PM on October 2, 2023.',\n  'Pick Up Location': '800 W Interstate 20, Big Spring, TX 79720, USA',\n  'Order Details': {'1 × Coors Original Beer Bottle (12oz x 6ct) (Domestic Beer 70)': '$13.79'},\n  'Subtotal': '$13.79',\n  'Subtotal Tax': '$1.14',\n  'Commission (16%)': '-$2.21',\n  'Total Customer Refund': '-$0.00',\n  'Estimated Payout': '$12.72',\n  'Transaction #8120214907 - Delivery': '$12.72',\n  'Store Number': '70'},\n {'Order': '8BE8532F',\n  'Delivered': 'The order was delivered at 11:14 PM on October 2, 2023.',\n  'Pick Up Location': '14620 Ranch Rd 12, Wimberley, TX 78676, USA',\n  'Order Details': {'1 × Chicken Tender Meal Kit (Meal Kits TXB#57)': '$9.19',\n   ' 3 × Cayman Jack Margarita Can (19 oz) (Flavored Malt Beverages CT)': '$17.07'},\n  'Subtotal': '$26.26',\n  'Subtotal Tax': '$2.17',\n  'Commission (23%)': '-$6.04',\n  'Total Customer Refund': '-$0.00',\n  'Estimated Payout': '$22.39',\n  'Transaction #8119974498 - Delivery': '$22.39',\n  'Store Number': '57'},\n {'Order': 'D7BD216C',\n  'Delivered': 'The order was delivered at 11:05 PM on October 2, 2023.',\n  'Pick Up Location': '5004 Wesley St, Greenville, TX 75402, USA',\n  'Order Details': {'1 × Michelob Ultra Light Beer Can (12 oz x 6 ct) (Domestic Beer NT)': '$16.29'},\n  'Subtotal': '$16.29',\n  'Subtotal Tax': '$1.34',\n  'Commission (23%)': '-$3.75',\n  'Total Customer Refund': '-$0.00',\n  'Estimated Payout': '$13.88',\n  'Transaction #8120073615 - Delivery': '$13.88',\n  'Store Number': '20'},\n {'Order': '8C4F6250',\n  'Delivered': 'The order was delivered at 5:30 PM on October 2, 2023.',\n  'Pick Up Location': '816 N Center St, Bonham, TX 75418, USA',\n  'Order Details': {'1 × Coors Light Beer Can (12 oz x 18 ct) (Domestic Beer NT)': '$28.79'},\n  'Subtotal': '$28.79',\n  'Subtotal Tax': '$2.38',\n  'Commission (16%)': '-$4.61',\n  'Total Customer Refund': '-$0.00',\n  'Estimated Payout': '$26.56',\n  'Transaction #8117259781 - Delivery': '$26.56',\n  'Store Number': '6'},\n {'Order': '0ED5F1C8',\n  'Delivered': 'The order was delivered at 4:12 PM on October 2, 2023.',\n  'Pick Up Location': '816 N Center St, Bonham, TX 75418, USA',\n  'Order Details': {'1 × Coors Light Beer Can (12 oz x 18 ct) (Domestic Beer NT)': '$28.79'},\n  'Subtotal': '$28.79',\n  'Subtotal Tax': '$2.38',\n  'Commission (16%)': '-$4.61',\n  'Total Customer Refund': '-$0.00',\n  'Estimated Payout': '$26.56',\n  'Transaction #8116747084 - Delivery': '$26.56',\n  'Store Number': '6'},\n {'Order': '60BF65AB',\n  'Delivered': 'The order was delivered at 2:45 PM on October 2, 2023.',\n  'Pick Up Location': '13006 Bandera Rd, Helotes, TX 78023, USA',\n  'Order Details': {'2 × Twisted Tea Hard Iced Tea Cocktail Original (24 oz) (Flavored Malt Beverages 60)': '$11.38',\n   ' 2 × Ice Small (Fountain, Frozen, & Tea)': '$9.98'},\n  'Subtotal': '$21.36',\n  'Subtotal Tax': '$1.71',\n  'Commission (16%)': '-$3.42',\n  'Total Customer Refund': '-$0.00',\n  'Estimated Payout': '$19.65',\n  'Transaction #8116125108 - Delivery': '$19.65',\n  'Store Number': '60'},\n {'Order': 'C032FE0A',\n  'Delivered': 'The order was delivered at 9:24 AM on October 2, 2023.',\n  'Pick Up Location': '1301 N U.S. Hwy 281, Marble Falls, TX 78654, USA',\n  'Order Details': {'1 × Potato Egg Cheese Taco (Breakfast Tacos & Quesadillas)': '$4.69',\n   ' 1 × Sausage Egg Cheese Taco (Breakfast Tacos & Quesadillas)': '$3.79',\n   ' 1 × C4 Frozen Bombscicle Can (16oz) (Energy Drinks TX)': '$4.79',\n   ' 1 × C4 Skittles Can (16oz) (Energy Drinks TX)': '$4.79',\n   ' 1 × C4 Starburst Cherry Can (16oz) (Energy Drinks TX)': '$4.79',\n   ' 1 × Bacon Egg Cheese Taco (Breakfast Tacos & Quesadillas)': '$4.69',\n   ' 1 × Breakfast Quesadilla (Breakfast Tacos & Quesadillas)': '$7.49'},\n  'Subtotal': '$35.03',\n  'Subtotal Tax': '$2.89',\n  'Commission (25%)': '-$8.76',\n  'Total Customer Refund': '-$0.00',\n  'Estimated Payout': '$29.16',\n  'Transaction #8114283446 - Delivery': '$29.16',\n  'Store Number': '53'},\n {'Order': '7DE4AD15',\n  'Delivered': 'The order was delivered at 9:21 AM on October 2, 2023.',\n  'Pick Up Location': '1741 TX-121, Bonham, TX 75418, USA',\n  'Order Details': {'1 × Chex Mix Cheddar (3.75 oz) (Crackers & Pretzels TX)': '$4.39',\n   ' 1 × Chicken Tender Meal Kit (Meal Kits TXB#10)': '$9.19',\n   ' Subtotal for Tax Calculations': '$13.58'},\n  'Subtotal Tax': '$0.76',\n  'Commission (25%)': '-$3.40',\n  'Total Customer Refund': '-$0.00',\n  'Estimated Payout': '$10.94',\n  'Transaction #8114267746 - Delivery': '$10.94',\n  'Store Number': '10'},\n {'Order': 'AF6DBE37',\n  'Delivered': 'The order was delivered at 7:46 AM on October 2, 2023.',\n  'Pick Up Location': '2320 W Main St, Durant, OK 74701, USA',\n  'Order Details': {'1 × Coke Classic Bottle (20oz) (Soda OK)': '$3.19',\n   ' 1 × TXB Coffee or Cappuccino (20 oz) (Brewed Coffee) Flavor: TXB Southern Pecan Coffee': '$0.00',\n   ' 2 × Red Bull Energy Drink Can (12 oz) (Energy Drinks OK)': '$11.58'},\n  'Subtotal': '$14.77',\n  'Subtotal Tax': '$1.38',\n  'Commission (23%)': '-$3.40',\n  'Total Customer Refund': '-$0.00',\n  'Estimated Payout': '$11.37',\n  'Transaction #8114014205 - Delivery': '$11.37',\n  'Store Number': '16'},\n {'Order': 'D84A9C02',\n  'Cancelled - Paid': 'The order was cancelled on October 2, 2023 at 6:13 AM. You’re paid for cancelled orders when you’ve successfully confirmed an order, it was prepared, and you did not initiate or are not at fault for the cancellation.',\n  'Pick Up Location': '14620 Ranch Rd 12, Wimberley, TX 78676, USA',\n  'Order Details': {'4 × Cayman Jack Margarita Can (19 oz) (Flavored Malt Beverages CT)': '$22.76'},\n  'Subtotal': '$22.76',\n  'Subtotal Tax': '$1.88',\n  'Commission (23%)': '-$5.23',\n  'Total Customer Refund': '-$0.00',\n  'Estimated Payout': '$19.41',\n  'Transaction #8113899308 - Delivery': '$19.41',\n  'Store Number': '57'},\n {'Order': '91EC3C1E',\n  'Delivered': 'The order was delivered at 2:45 AM on October 2, 2023.',\n  'Pick Up Location': '801 Lafayette St, Laredo, TX 78041, USA',\n  'Order Details': {\"1 × M&M's Peanut King Size (3.27 oz) (Chocolate TX)\": '$3.79',\n   \" 1 × Cheetos Crunchy Flamin' Hot Limon (8.5 oz) (Chips & Popcorn TX)\": '$6.49',\n   ' 1 × Cheetos Crunchy Jalapeno (8.5 oz) (Chips & Popcorn TX)': '$3.19'},\n  'Subtotal': '$13.47',\n  'Subtotal Tax': '$0.31',\n  'Commission (16%)': '-$2.16',\n  'Total Customer Refund': '-$0.00',\n  'Estimated Payout': '$11.62',\n  'Transaction #8113712869 - Delivery': '$11.62',\n  'Store Number': '80'},\n {'Order': '4761F061',\n  'Cancelled - Not Paid': 'The order was cancelled on October 2, 2023 at 12:51 AM. You were not paid because the order was not able to be placed.',\n  'Pick Up Location': '2196 El Indio Hwy, Eagle Pass, TX 78852, USA',\n  'Order Details': {\"1 × Cheetos Crunchy Flamin' Hot Limon (8.5 oz) (Chips & Popcorn TX)\": '$6.49',\n   ' 1 × Fountain Drink (Fountain, Frozen, & Tea) Drink Selection: Gatorade Lemon-Lime': '$0.00'},\n  'Subtotal': '$6.49',\n  'Subtotal Tax': '$0.00',\n  'Commission (20%)': '-$1.30',\n  'Total Customer Refund': '-$0.00',\n  'Estimated Payout': '$0.00',\n  'Store Number': '89'},\n {'Order': '234FE808',\n  'Delivered': 'The order was delivered at 12:26 AM on October 2, 2023.',\n  'Pick Up Location': '801 Lafayette St, Laredo, TX 78041, USA',\n  'Order Details': {'1 × Pepsi Can (12pk 12oz) (Soda TX)': '$11.29',\n   ' 1 × Fountain Drink (Fountain, Frozen, & Tea) Drink Selection: Coke': '$0.00',\n   ' 1 × Ice Small (Fountain, Frozen, & Tea)': '$4.99'},\n  'Subtotal': '$16.28',\n  'Subtotal Tax': '$1.34',\n  'Commission (16%)': '-$2.60',\n  'Total Customer Refund': '-$0.00',\n  'Estimated Payout': '$15.02',\n  'Transaction #8113483337 - Delivery': '$15.02',\n  'Store Number': '80'}]"
     },
     "execution_count": 13,
     "metadata": {},
     "output_type": "execute_result"
    }
   ],
   "source": [
    "def add_store_numbers_to_orders(orders, store_num_to_order_ids_map):\n",
    "    for order in orders:\n",
    "        order_id = order.get('Order')\n",
    "        found = False  # Variable to keep track of whether the order_id was found\n",
    "\n",
    "        for store_num, order_id_set in store_num_to_order_ids_map.items():\n",
    "            if order_id in order_id_set:\n",
    "                order['Store Number'] = store_num\n",
    "                found = True\n",
    "                break  # Exit the loop once the order_id is found\n",
    "\n",
    "        if not found:\n",
    "            order['Store Number'] = 'N/A'\n",
    "    \n",
    "    return orders\n",
    "\n",
    "add_store_numbers_to_orders(orders, store_num_to_order_ids_map)"
   ],
   "metadata": {
    "collapsed": false,
    "ExecuteTime": {
     "end_time": "2023-10-04T19:48:59.719280Z",
     "start_time": "2023-10-04T19:48:59.713993Z"
    }
   },
   "id": "889ce6a802862dd2"
  },
  {
   "cell_type": "code",
   "execution_count": 61,
   "outputs": [
    {
     "data": {
      "text/plain": "        Site # Site Description                               Address  \\\nStore #                                                                 \n1            1     Kwik Chek #1                     2226 North Center   \n3            3     Kwik Chek #3                            971 FM 273   \n5            5     Kwik Chek #5                                   NaN   \n6            6     Kwik Chek #6                      816 North Center   \n7            7     Kwik Chek #7                            101 Hwy 69   \n8            8     Kwik Chek #8                            308 Hwy 69   \n10          10    Kwik Chek #10                    1741 North Hwy 121   \n12          12    Kwik Chek #12                          102 S Hwy 78   \n13          13    Kwik Chek #13                         102 West Main   \n14          14    Kwik Chek #14                         201 South 9th   \n16          16    Kwik Chek #16                        2320 West Main   \n17          17    Kwik Chek #17                 13503 S State Hwy 121   \n19          19    Kwik Chek #19                      617 South Hwy 78   \n20          20    Kwik Chek #20                    5004 Wesley Street   \n24          24    Kwik Chek #24                           3812 Hwy 70   \n26          26    Kwik Chek #26                              503 SW C   \n27          27    Kwik Chek #27                        1005 East Main   \n32          32           TXB 32              1001 Van Alstyne Parkway   \n34          34    Kwik Chek #34              2965 South Church Street   \n37          37    Kwik Chek #37                    103 South Santa Fe   \n38          38    Kwik Chek #38                    505 South Garfield   \n50          50    Kwik Chek #50                     3002 Thorton Lane   \n52          52    Kwik Chek #52                    1003 Hwy 1431 West   \n53          53    Kwik Chek #53                    1301 Hwy 281 North   \n54          54    Kwik Chek #54                 201 Hwy 281 & Hwy 290   \n55          55    Kwik Chek #55                   14417-A Hwy 71 West   \n57          57    Kwik Chek #57                   14620 Ranch Road 12   \n59          59    Kwik Chek #59                      440 Bandera Road   \n60          60    Kwik Chek #60                    13006 Bandera Road   \n61          61    Kwik Chek #61                     1001 Hwy 16 South   \n62          62    Kwik Chek #62                        21024 Hwy 71 W   \n63          63           TXB 63                         15701 W SH 71   \n64          64    Kwik Chek #64             2103 Ranch Road 620 South   \n65          65    Kwik Chek #65                   1402 Williams Drive   \n66          66    Kwik Chek #66               15411 East State Hwy 29   \n67          67           TXB 67                     3702 West FM 2147   \n68          68    Kwik Chek #68                       145 Lehman Road   \n69          69           TXB 69                          8103 RR 2243   \n70          70    Kwik Chek #70                        800 IH 20 West   \n71          71           TXB 71                       2503 Rankin Hwy   \n72          72           TXB 72  2104 East William Joel Bryan Parkway   \n73          73           TXB 73                  3071 University Dr E   \n79          79    Kwik Chek #79                  500 W Thorton Street   \n80          80    Kwik Chek #80                    801 West Lafayette   \n81          81    Kwik Chek #81                      7045 North IH 35   \n82          82    Kwik Chek #82                     780 Carter Street   \n83          83    Kwik Chek #83                      401 N 1st Street   \n84          84    Kwik Chek #84                     1000 N 9th Street   \n85          85    Kwik Chek #85                      1901 N US Hwy 83   \n86          86    Kwik Chek #86                      1900 N US Hwy 83   \n87          87    Kwik Chek #87                       481 W US Hwy 57   \n88          88    Kwik Chek #88                  2757 N Veterans Blvd   \n89          89    Kwik Chek #89                     2196 El Indio Hwy   \n\n                      City      County State    Zip         Notes street_num  \nStore #                                                                       \n1                   Bonham      Fannin    TX  75418           NaN       2226  \n3                   Bonham      Fannin    TX  75418           NaN        971  \n5                   Bonham      Fannin    TX  75418  Not Open Yet        nan  \n6                   Bonham      Fannin    TX  75418           NaN        816  \n7                  Celeste        Hunt    TX  75423           NaN        101  \n8                  Leonard      Fannin    TX  75452           NaN        308  \n10                  Bonham      Fannin    TX  75418           NaN       1741  \n12                 Achille       Bryan    OK  74720           NaN        102  \n13                  Calera       Bryan    OK  74730           NaN        102  \n14                  Durant       Bryan    OK  74701           NaN        201  \n16                  Durant       Bryan    OK  74701           NaN       2320  \n17                 Trenton      Fannin    TX  75490           NaN      13503  \n19                   Wylie      Collin    TX  75098           NaN        617  \n20              Greenville        Hunt    TX  75402           NaN       5004  \n24                    Hugo     Choctaw    OK  74743           NaN       3812  \n26                 Antlers  Pushmataha    OK  74523           NaN        503  \n27             Honey Grove      Fannin    TX  75446           NaN       1005  \n32             Van Alstyne     Grayson    TX  75495           NaN       1001  \n34                   Paris       Lamar    TX  75460           NaN       2965  \n37              Wolfe City        Hunt    TX  75496           NaN        103  \n38                   Kiowa   Pittsburg    OK  74553           NaN        505  \n50                  Temple        Bell    TX  76502           NaN       3002  \n52            Marble Falls      Burnet    TX  78654           NaN       1003  \n53            Marble Falls      Burnet    TX  78654           NaN       1301  \n54            Johnson City      Blanco    TX  78636           NaN        201  \n55                  Austin      Travis    TX  78738           NaN      14417  \n57               Wimberley        Hays    TX  78676           NaN      14620  \n59                  Boerne     Kendall    TX  78006           NaN        440  \n60                 Helotes       Bexar    TX  78023           NaN      13006  \n61          Fredericksburg   Gillespie    TX  78624           NaN       1001  \n62               Spicewood      Travis    TX  78669           NaN      21024  \n63                Bee Cave      Travis    TX  78738           NaN      15701  \n64                 Lakeway      Travis    TX  78734           NaN       2103  \n65              Georgetown  Williamson    TX  78628           NaN       1402  \n66            Buchanan Dam       Llano    TX  78609           NaN      15411  \n67       Cottonwood Shores       Llano    TX  78657           NaN       3702  \n68                    Kyle        Hays    TX  78640  Not Open Yet        145  \n69                 Leander  Williamson    TX  78641           NaN       8103  \n70              Big Spring      Howard    TX  79720           NaN        800  \n71                 Midland     Midland    TX  79706           NaN       2503  \n72                   Bryan      Brazos    TX  77802  Not Open Yet       2104  \n73                   Bryan      Brazos    TX  77840  Not Open Yet       3071  \n79            Three Rivers    Live Oak    TX  78071           NaN        500  \n80                  Laredo        Webb    TX  78041           NaN        801  \n81                  Laredo        Webb    TX  78041           NaN       7045  \n82                Asherton      Dimmit    TX  78827           NaN        780  \n83         Carrizo Springs      Dimmit    TX  78834           NaN        401  \n84         Carrizo Springs      Dimmit    TX  78834           NaN       1000  \n85            Crystal City      Zavala    TX  78839           NaN       1901  \n86            Crystal City      Zavala    TX  78839           NaN       1900  \n87                La Pryor      Zavala    TX  78872           NaN        481  \n88              Eagle Pass    Maverick    TX  78852           NaN       2757  \n89              Eagle Pass    Maverick    TX  78852           NaN       2196  ",
      "text/html": "<div>\n<style scoped>\n    .dataframe tbody tr th:only-of-type {\n        vertical-align: middle;\n    }\n\n    .dataframe tbody tr th {\n        vertical-align: top;\n    }\n\n    .dataframe thead th {\n        text-align: right;\n    }\n</style>\n<table border=\"1\" class=\"dataframe\">\n  <thead>\n    <tr style=\"text-align: right;\">\n      <th></th>\n      <th>Site #</th>\n      <th>Site Description</th>\n      <th>Address</th>\n      <th>City</th>\n      <th>County</th>\n      <th>State</th>\n      <th>Zip</th>\n      <th>Notes</th>\n      <th>street_num</th>\n    </tr>\n    <tr>\n      <th>Store #</th>\n      <th></th>\n      <th></th>\n      <th></th>\n      <th></th>\n      <th></th>\n      <th></th>\n      <th></th>\n      <th></th>\n      <th></th>\n    </tr>\n  </thead>\n  <tbody>\n    <tr>\n      <th>1</th>\n      <td>1</td>\n      <td>Kwik Chek #1</td>\n      <td>2226 North Center</td>\n      <td>Bonham</td>\n      <td>Fannin</td>\n      <td>TX</td>\n      <td>75418</td>\n      <td>NaN</td>\n      <td>2226</td>\n    </tr>\n    <tr>\n      <th>3</th>\n      <td>3</td>\n      <td>Kwik Chek #3</td>\n      <td>971 FM 273</td>\n      <td>Bonham</td>\n      <td>Fannin</td>\n      <td>TX</td>\n      <td>75418</td>\n      <td>NaN</td>\n      <td>971</td>\n    </tr>\n    <tr>\n      <th>5</th>\n      <td>5</td>\n      <td>Kwik Chek #5</td>\n      <td>NaN</td>\n      <td>Bonham</td>\n      <td>Fannin</td>\n      <td>TX</td>\n      <td>75418</td>\n      <td>Not Open Yet</td>\n      <td>nan</td>\n    </tr>\n    <tr>\n      <th>6</th>\n      <td>6</td>\n      <td>Kwik Chek #6</td>\n      <td>816 North Center</td>\n      <td>Bonham</td>\n      <td>Fannin</td>\n      <td>TX</td>\n      <td>75418</td>\n      <td>NaN</td>\n      <td>816</td>\n    </tr>\n    <tr>\n      <th>7</th>\n      <td>7</td>\n      <td>Kwik Chek #7</td>\n      <td>101 Hwy 69</td>\n      <td>Celeste</td>\n      <td>Hunt</td>\n      <td>TX</td>\n      <td>75423</td>\n      <td>NaN</td>\n      <td>101</td>\n    </tr>\n    <tr>\n      <th>8</th>\n      <td>8</td>\n      <td>Kwik Chek #8</td>\n      <td>308 Hwy 69</td>\n      <td>Leonard</td>\n      <td>Fannin</td>\n      <td>TX</td>\n      <td>75452</td>\n      <td>NaN</td>\n      <td>308</td>\n    </tr>\n    <tr>\n      <th>10</th>\n      <td>10</td>\n      <td>Kwik Chek #10</td>\n      <td>1741 North Hwy 121</td>\n      <td>Bonham</td>\n      <td>Fannin</td>\n      <td>TX</td>\n      <td>75418</td>\n      <td>NaN</td>\n      <td>1741</td>\n    </tr>\n    <tr>\n      <th>12</th>\n      <td>12</td>\n      <td>Kwik Chek #12</td>\n      <td>102 S Hwy 78</td>\n      <td>Achille</td>\n      <td>Bryan</td>\n      <td>OK</td>\n      <td>74720</td>\n      <td>NaN</td>\n      <td>102</td>\n    </tr>\n    <tr>\n      <th>13</th>\n      <td>13</td>\n      <td>Kwik Chek #13</td>\n      <td>102 West Main</td>\n      <td>Calera</td>\n      <td>Bryan</td>\n      <td>OK</td>\n      <td>74730</td>\n      <td>NaN</td>\n      <td>102</td>\n    </tr>\n    <tr>\n      <th>14</th>\n      <td>14</td>\n      <td>Kwik Chek #14</td>\n      <td>201 South 9th</td>\n      <td>Durant</td>\n      <td>Bryan</td>\n      <td>OK</td>\n      <td>74701</td>\n      <td>NaN</td>\n      <td>201</td>\n    </tr>\n    <tr>\n      <th>16</th>\n      <td>16</td>\n      <td>Kwik Chek #16</td>\n      <td>2320 West Main</td>\n      <td>Durant</td>\n      <td>Bryan</td>\n      <td>OK</td>\n      <td>74701</td>\n      <td>NaN</td>\n      <td>2320</td>\n    </tr>\n    <tr>\n      <th>17</th>\n      <td>17</td>\n      <td>Kwik Chek #17</td>\n      <td>13503 S State Hwy 121</td>\n      <td>Trenton</td>\n      <td>Fannin</td>\n      <td>TX</td>\n      <td>75490</td>\n      <td>NaN</td>\n      <td>13503</td>\n    </tr>\n    <tr>\n      <th>19</th>\n      <td>19</td>\n      <td>Kwik Chek #19</td>\n      <td>617 South Hwy 78</td>\n      <td>Wylie</td>\n      <td>Collin</td>\n      <td>TX</td>\n      <td>75098</td>\n      <td>NaN</td>\n      <td>617</td>\n    </tr>\n    <tr>\n      <th>20</th>\n      <td>20</td>\n      <td>Kwik Chek #20</td>\n      <td>5004 Wesley Street</td>\n      <td>Greenville</td>\n      <td>Hunt</td>\n      <td>TX</td>\n      <td>75402</td>\n      <td>NaN</td>\n      <td>5004</td>\n    </tr>\n    <tr>\n      <th>24</th>\n      <td>24</td>\n      <td>Kwik Chek #24</td>\n      <td>3812 Hwy 70</td>\n      <td>Hugo</td>\n      <td>Choctaw</td>\n      <td>OK</td>\n      <td>74743</td>\n      <td>NaN</td>\n      <td>3812</td>\n    </tr>\n    <tr>\n      <th>26</th>\n      <td>26</td>\n      <td>Kwik Chek #26</td>\n      <td>503 SW C</td>\n      <td>Antlers</td>\n      <td>Pushmataha</td>\n      <td>OK</td>\n      <td>74523</td>\n      <td>NaN</td>\n      <td>503</td>\n    </tr>\n    <tr>\n      <th>27</th>\n      <td>27</td>\n      <td>Kwik Chek #27</td>\n      <td>1005 East Main</td>\n      <td>Honey Grove</td>\n      <td>Fannin</td>\n      <td>TX</td>\n      <td>75446</td>\n      <td>NaN</td>\n      <td>1005</td>\n    </tr>\n    <tr>\n      <th>32</th>\n      <td>32</td>\n      <td>TXB 32</td>\n      <td>1001 Van Alstyne Parkway</td>\n      <td>Van Alstyne</td>\n      <td>Grayson</td>\n      <td>TX</td>\n      <td>75495</td>\n      <td>NaN</td>\n      <td>1001</td>\n    </tr>\n    <tr>\n      <th>34</th>\n      <td>34</td>\n      <td>Kwik Chek #34</td>\n      <td>2965 South Church Street</td>\n      <td>Paris</td>\n      <td>Lamar</td>\n      <td>TX</td>\n      <td>75460</td>\n      <td>NaN</td>\n      <td>2965</td>\n    </tr>\n    <tr>\n      <th>37</th>\n      <td>37</td>\n      <td>Kwik Chek #37</td>\n      <td>103 South Santa Fe</td>\n      <td>Wolfe City</td>\n      <td>Hunt</td>\n      <td>TX</td>\n      <td>75496</td>\n      <td>NaN</td>\n      <td>103</td>\n    </tr>\n    <tr>\n      <th>38</th>\n      <td>38</td>\n      <td>Kwik Chek #38</td>\n      <td>505 South Garfield</td>\n      <td>Kiowa</td>\n      <td>Pittsburg</td>\n      <td>OK</td>\n      <td>74553</td>\n      <td>NaN</td>\n      <td>505</td>\n    </tr>\n    <tr>\n      <th>50</th>\n      <td>50</td>\n      <td>Kwik Chek #50</td>\n      <td>3002 Thorton Lane</td>\n      <td>Temple</td>\n      <td>Bell</td>\n      <td>TX</td>\n      <td>76502</td>\n      <td>NaN</td>\n      <td>3002</td>\n    </tr>\n    <tr>\n      <th>52</th>\n      <td>52</td>\n      <td>Kwik Chek #52</td>\n      <td>1003 Hwy 1431 West</td>\n      <td>Marble Falls</td>\n      <td>Burnet</td>\n      <td>TX</td>\n      <td>78654</td>\n      <td>NaN</td>\n      <td>1003</td>\n    </tr>\n    <tr>\n      <th>53</th>\n      <td>53</td>\n      <td>Kwik Chek #53</td>\n      <td>1301 Hwy 281 North</td>\n      <td>Marble Falls</td>\n      <td>Burnet</td>\n      <td>TX</td>\n      <td>78654</td>\n      <td>NaN</td>\n      <td>1301</td>\n    </tr>\n    <tr>\n      <th>54</th>\n      <td>54</td>\n      <td>Kwik Chek #54</td>\n      <td>201 Hwy 281 &amp; Hwy 290</td>\n      <td>Johnson City</td>\n      <td>Blanco</td>\n      <td>TX</td>\n      <td>78636</td>\n      <td>NaN</td>\n      <td>201</td>\n    </tr>\n    <tr>\n      <th>55</th>\n      <td>55</td>\n      <td>Kwik Chek #55</td>\n      <td>14417-A Hwy 71 West</td>\n      <td>Austin</td>\n      <td>Travis</td>\n      <td>TX</td>\n      <td>78738</td>\n      <td>NaN</td>\n      <td>14417</td>\n    </tr>\n    <tr>\n      <th>57</th>\n      <td>57</td>\n      <td>Kwik Chek #57</td>\n      <td>14620 Ranch Road 12</td>\n      <td>Wimberley</td>\n      <td>Hays</td>\n      <td>TX</td>\n      <td>78676</td>\n      <td>NaN</td>\n      <td>14620</td>\n    </tr>\n    <tr>\n      <th>59</th>\n      <td>59</td>\n      <td>Kwik Chek #59</td>\n      <td>440 Bandera Road</td>\n      <td>Boerne</td>\n      <td>Kendall</td>\n      <td>TX</td>\n      <td>78006</td>\n      <td>NaN</td>\n      <td>440</td>\n    </tr>\n    <tr>\n      <th>60</th>\n      <td>60</td>\n      <td>Kwik Chek #60</td>\n      <td>13006 Bandera Road</td>\n      <td>Helotes</td>\n      <td>Bexar</td>\n      <td>TX</td>\n      <td>78023</td>\n      <td>NaN</td>\n      <td>13006</td>\n    </tr>\n    <tr>\n      <th>61</th>\n      <td>61</td>\n      <td>Kwik Chek #61</td>\n      <td>1001 Hwy 16 South</td>\n      <td>Fredericksburg</td>\n      <td>Gillespie</td>\n      <td>TX</td>\n      <td>78624</td>\n      <td>NaN</td>\n      <td>1001</td>\n    </tr>\n    <tr>\n      <th>62</th>\n      <td>62</td>\n      <td>Kwik Chek #62</td>\n      <td>21024 Hwy 71 W</td>\n      <td>Spicewood</td>\n      <td>Travis</td>\n      <td>TX</td>\n      <td>78669</td>\n      <td>NaN</td>\n      <td>21024</td>\n    </tr>\n    <tr>\n      <th>63</th>\n      <td>63</td>\n      <td>TXB 63</td>\n      <td>15701 W SH 71</td>\n      <td>Bee Cave</td>\n      <td>Travis</td>\n      <td>TX</td>\n      <td>78738</td>\n      <td>NaN</td>\n      <td>15701</td>\n    </tr>\n    <tr>\n      <th>64</th>\n      <td>64</td>\n      <td>Kwik Chek #64</td>\n      <td>2103 Ranch Road 620 South</td>\n      <td>Lakeway</td>\n      <td>Travis</td>\n      <td>TX</td>\n      <td>78734</td>\n      <td>NaN</td>\n      <td>2103</td>\n    </tr>\n    <tr>\n      <th>65</th>\n      <td>65</td>\n      <td>Kwik Chek #65</td>\n      <td>1402 Williams Drive</td>\n      <td>Georgetown</td>\n      <td>Williamson</td>\n      <td>TX</td>\n      <td>78628</td>\n      <td>NaN</td>\n      <td>1402</td>\n    </tr>\n    <tr>\n      <th>66</th>\n      <td>66</td>\n      <td>Kwik Chek #66</td>\n      <td>15411 East State Hwy 29</td>\n      <td>Buchanan Dam</td>\n      <td>Llano</td>\n      <td>TX</td>\n      <td>78609</td>\n      <td>NaN</td>\n      <td>15411</td>\n    </tr>\n    <tr>\n      <th>67</th>\n      <td>67</td>\n      <td>TXB 67</td>\n      <td>3702 West FM 2147</td>\n      <td>Cottonwood Shores</td>\n      <td>Llano</td>\n      <td>TX</td>\n      <td>78657</td>\n      <td>NaN</td>\n      <td>3702</td>\n    </tr>\n    <tr>\n      <th>68</th>\n      <td>68</td>\n      <td>Kwik Chek #68</td>\n      <td>145 Lehman Road</td>\n      <td>Kyle</td>\n      <td>Hays</td>\n      <td>TX</td>\n      <td>78640</td>\n      <td>Not Open Yet</td>\n      <td>145</td>\n    </tr>\n    <tr>\n      <th>69</th>\n      <td>69</td>\n      <td>TXB 69</td>\n      <td>8103 RR 2243</td>\n      <td>Leander</td>\n      <td>Williamson</td>\n      <td>TX</td>\n      <td>78641</td>\n      <td>NaN</td>\n      <td>8103</td>\n    </tr>\n    <tr>\n      <th>70</th>\n      <td>70</td>\n      <td>Kwik Chek #70</td>\n      <td>800 IH 20 West</td>\n      <td>Big Spring</td>\n      <td>Howard</td>\n      <td>TX</td>\n      <td>79720</td>\n      <td>NaN</td>\n      <td>800</td>\n    </tr>\n    <tr>\n      <th>71</th>\n      <td>71</td>\n      <td>TXB 71</td>\n      <td>2503 Rankin Hwy</td>\n      <td>Midland</td>\n      <td>Midland</td>\n      <td>TX</td>\n      <td>79706</td>\n      <td>NaN</td>\n      <td>2503</td>\n    </tr>\n    <tr>\n      <th>72</th>\n      <td>72</td>\n      <td>TXB 72</td>\n      <td>2104 East William Joel Bryan Parkway</td>\n      <td>Bryan</td>\n      <td>Brazos</td>\n      <td>TX</td>\n      <td>77802</td>\n      <td>Not Open Yet</td>\n      <td>2104</td>\n    </tr>\n    <tr>\n      <th>73</th>\n      <td>73</td>\n      <td>TXB 73</td>\n      <td>3071 University Dr E</td>\n      <td>Bryan</td>\n      <td>Brazos</td>\n      <td>TX</td>\n      <td>77840</td>\n      <td>Not Open Yet</td>\n      <td>3071</td>\n    </tr>\n    <tr>\n      <th>79</th>\n      <td>79</td>\n      <td>Kwik Chek #79</td>\n      <td>500 W Thorton Street</td>\n      <td>Three Rivers</td>\n      <td>Live Oak</td>\n      <td>TX</td>\n      <td>78071</td>\n      <td>NaN</td>\n      <td>500</td>\n    </tr>\n    <tr>\n      <th>80</th>\n      <td>80</td>\n      <td>Kwik Chek #80</td>\n      <td>801 West Lafayette</td>\n      <td>Laredo</td>\n      <td>Webb</td>\n      <td>TX</td>\n      <td>78041</td>\n      <td>NaN</td>\n      <td>801</td>\n    </tr>\n    <tr>\n      <th>81</th>\n      <td>81</td>\n      <td>Kwik Chek #81</td>\n      <td>7045 North IH 35</td>\n      <td>Laredo</td>\n      <td>Webb</td>\n      <td>TX</td>\n      <td>78041</td>\n      <td>NaN</td>\n      <td>7045</td>\n    </tr>\n    <tr>\n      <th>82</th>\n      <td>82</td>\n      <td>Kwik Chek #82</td>\n      <td>780 Carter Street</td>\n      <td>Asherton</td>\n      <td>Dimmit</td>\n      <td>TX</td>\n      <td>78827</td>\n      <td>NaN</td>\n      <td>780</td>\n    </tr>\n    <tr>\n      <th>83</th>\n      <td>83</td>\n      <td>Kwik Chek #83</td>\n      <td>401 N 1st Street</td>\n      <td>Carrizo Springs</td>\n      <td>Dimmit</td>\n      <td>TX</td>\n      <td>78834</td>\n      <td>NaN</td>\n      <td>401</td>\n    </tr>\n    <tr>\n      <th>84</th>\n      <td>84</td>\n      <td>Kwik Chek #84</td>\n      <td>1000 N 9th Street</td>\n      <td>Carrizo Springs</td>\n      <td>Dimmit</td>\n      <td>TX</td>\n      <td>78834</td>\n      <td>NaN</td>\n      <td>1000</td>\n    </tr>\n    <tr>\n      <th>85</th>\n      <td>85</td>\n      <td>Kwik Chek #85</td>\n      <td>1901 N US Hwy 83</td>\n      <td>Crystal City</td>\n      <td>Zavala</td>\n      <td>TX</td>\n      <td>78839</td>\n      <td>NaN</td>\n      <td>1901</td>\n    </tr>\n    <tr>\n      <th>86</th>\n      <td>86</td>\n      <td>Kwik Chek #86</td>\n      <td>1900 N US Hwy 83</td>\n      <td>Crystal City</td>\n      <td>Zavala</td>\n      <td>TX</td>\n      <td>78839</td>\n      <td>NaN</td>\n      <td>1900</td>\n    </tr>\n    <tr>\n      <th>87</th>\n      <td>87</td>\n      <td>Kwik Chek #87</td>\n      <td>481 W US Hwy 57</td>\n      <td>La Pryor</td>\n      <td>Zavala</td>\n      <td>TX</td>\n      <td>78872</td>\n      <td>NaN</td>\n      <td>481</td>\n    </tr>\n    <tr>\n      <th>88</th>\n      <td>88</td>\n      <td>Kwik Chek #88</td>\n      <td>2757 N Veterans Blvd</td>\n      <td>Eagle Pass</td>\n      <td>Maverick</td>\n      <td>TX</td>\n      <td>78852</td>\n      <td>NaN</td>\n      <td>2757</td>\n    </tr>\n    <tr>\n      <th>89</th>\n      <td>89</td>\n      <td>Kwik Chek #89</td>\n      <td>2196 El Indio Hwy</td>\n      <td>Eagle Pass</td>\n      <td>Maverick</td>\n      <td>TX</td>\n      <td>78852</td>\n      <td>NaN</td>\n      <td>2196</td>\n    </tr>\n  </tbody>\n</table>\n</div>"
     },
     "execution_count": 61,
     "metadata": {},
     "output_type": "execute_result"
    }
   ],
   "source": [
    "master_df"
   ],
   "metadata": {
    "collapsed": false,
    "ExecuteTime": {
     "end_time": "2023-10-05T19:37:59.875288Z",
     "start_time": "2023-10-05T19:37:59.855163Z"
    }
   },
   "id": "648196d04b99e672"
  },
  {
   "cell_type": "code",
   "execution_count": 62,
   "outputs": [
    {
     "data": {
      "text/plain": "{'Achille',\n 'Antlers',\n 'Asherton',\n 'Austin',\n 'Bee Cave',\n 'Big Spring',\n 'Boerne',\n 'Bonham',\n 'Bryan',\n 'Buchanan Dam',\n 'Calera',\n 'Carrizo Springs',\n 'Celeste',\n 'Cottonwood Shores',\n 'Crystal City',\n 'Durant',\n 'Eagle Pass',\n 'Fredericksburg',\n 'Georgetown',\n 'Greenville',\n 'Helotes',\n 'Honey Grove',\n 'Hugo',\n 'Johnson City',\n 'Kiowa',\n 'Kyle',\n 'La Pryor',\n 'Lakeway',\n 'Laredo',\n 'Leander',\n 'Leonard',\n 'Marble Falls',\n 'Midland',\n 'Paris',\n 'Spicewood',\n 'Temple',\n 'Three Rivers',\n 'Trenton',\n 'Van Alstyne',\n 'Wimberley',\n 'Wolfe City',\n 'Wylie'}"
     },
     "execution_count": 62,
     "metadata": {},
     "output_type": "execute_result"
    }
   ],
   "source": [
    "unique_cities = set(master_df['City'].dropna().unique())\n",
    "unique_cities"
   ],
   "metadata": {
    "collapsed": false,
    "ExecuteTime": {
     "end_time": "2023-10-05T19:38:34.108761Z",
     "start_time": "2023-10-05T19:38:34.064730Z"
    }
   },
   "id": "466aaafc72d08975"
  },
  {
   "cell_type": "code",
   "execution_count": 68,
   "outputs": [
    {
     "data": {
      "text/plain": "    order_id                               pickup_location\n0   2ABD90DB          1402 Williams Dr Georgetown TX 78628\n1   42CEA1A6     1301 N U.S. Hwy 281 Marble Falls TX 78654\n2   6AB38CB1     1301 N U.S. Hwy 281 Marble Falls TX 78654\n3   4379B60E           7045 W Del Mar Blvd Laredo TX 78041\n4   0A150B93                  2503 TX-349 Midland TX 79706\n5   E0EB8837            5004 Wesley St Greenville TX 75402\n6   77896463           7045 W Del Mar Blvd Laredo TX 78041\n7   B48F2460          14620 Ranch Rd 12 Wimberley TX 78676\n8   78588F69            5004 Wesley St Greenville TX 75402\n9   5C857863          14620 Ranch Rd 12 Wimberley TX 78676\n10  CA2588A4            5004 Wesley St Greenville TX 75402\n11  B6233BDE  1001 W Van Alstyne Pkwy Van Alstyne TX 75495\n12  8903B15F       800 W Interstate 20 Big Spring TX 79720\n13  9EAC6D9E           3071 University Dr E Bryan TX 77802\n14  ABDD1702            5004 Wesley St Greenville TX 75402",
      "text/html": "<div>\n<style scoped>\n    .dataframe tbody tr th:only-of-type {\n        vertical-align: middle;\n    }\n\n    .dataframe tbody tr th {\n        vertical-align: top;\n    }\n\n    .dataframe thead th {\n        text-align: right;\n    }\n</style>\n<table border=\"1\" class=\"dataframe\">\n  <thead>\n    <tr style=\"text-align: right;\">\n      <th></th>\n      <th>order_id</th>\n      <th>pickup_location</th>\n    </tr>\n  </thead>\n  <tbody>\n    <tr>\n      <th>0</th>\n      <td>2ABD90DB</td>\n      <td>1402 Williams Dr Georgetown TX 78628</td>\n    </tr>\n    <tr>\n      <th>1</th>\n      <td>42CEA1A6</td>\n      <td>1301 N U.S. Hwy 281 Marble Falls TX 78654</td>\n    </tr>\n    <tr>\n      <th>2</th>\n      <td>6AB38CB1</td>\n      <td>1301 N U.S. Hwy 281 Marble Falls TX 78654</td>\n    </tr>\n    <tr>\n      <th>3</th>\n      <td>4379B60E</td>\n      <td>7045 W Del Mar Blvd Laredo TX 78041</td>\n    </tr>\n    <tr>\n      <th>4</th>\n      <td>0A150B93</td>\n      <td>2503 TX-349 Midland TX 79706</td>\n    </tr>\n    <tr>\n      <th>5</th>\n      <td>E0EB8837</td>\n      <td>5004 Wesley St Greenville TX 75402</td>\n    </tr>\n    <tr>\n      <th>6</th>\n      <td>77896463</td>\n      <td>7045 W Del Mar Blvd Laredo TX 78041</td>\n    </tr>\n    <tr>\n      <th>7</th>\n      <td>B48F2460</td>\n      <td>14620 Ranch Rd 12 Wimberley TX 78676</td>\n    </tr>\n    <tr>\n      <th>8</th>\n      <td>78588F69</td>\n      <td>5004 Wesley St Greenville TX 75402</td>\n    </tr>\n    <tr>\n      <th>9</th>\n      <td>5C857863</td>\n      <td>14620 Ranch Rd 12 Wimberley TX 78676</td>\n    </tr>\n    <tr>\n      <th>10</th>\n      <td>CA2588A4</td>\n      <td>5004 Wesley St Greenville TX 75402</td>\n    </tr>\n    <tr>\n      <th>11</th>\n      <td>B6233BDE</td>\n      <td>1001 W Van Alstyne Pkwy Van Alstyne TX 75495</td>\n    </tr>\n    <tr>\n      <th>12</th>\n      <td>8903B15F</td>\n      <td>800 W Interstate 20 Big Spring TX 79720</td>\n    </tr>\n    <tr>\n      <th>13</th>\n      <td>9EAC6D9E</td>\n      <td>3071 University Dr E Bryan TX 77802</td>\n    </tr>\n    <tr>\n      <th>14</th>\n      <td>ABDD1702</td>\n      <td>5004 Wesley St Greenville TX 75402</td>\n    </tr>\n  </tbody>\n</table>\n</div>"
     },
     "execution_count": 68,
     "metadata": {},
     "output_type": "execute_result"
    }
   ],
   "source": [
    "order_to_location_df"
   ],
   "metadata": {
    "collapsed": false,
    "ExecuteTime": {
     "end_time": "2023-10-05T19:39:40.618958Z",
     "start_time": "2023-10-05T19:39:40.592230Z"
    }
   },
   "id": "c3e5f6d8ec1325de"
  },
  {
   "cell_type": "code",
   "execution_count": 67,
   "outputs": [
    {
     "data": {
      "text/plain": "    order_id                               pickup_location\n0   2ABD90DB          1402 Williams Dr Georgetown TX 78628\n1   42CEA1A6     1301 N U.S. Hwy 281 Marble Falls TX 78654\n2   6AB38CB1     1301 N U.S. Hwy 281 Marble Falls TX 78654\n3   4379B60E           7045 W Del Mar Blvd Laredo TX 78041\n4   0A150B93                  2503 TX-349 Midland TX 79706\n5   E0EB8837            5004 Wesley St Greenville TX 75402\n6   77896463           7045 W Del Mar Blvd Laredo TX 78041\n7   B48F2460          14620 Ranch Rd 12 Wimberley TX 78676\n8   78588F69            5004 Wesley St Greenville TX 75402\n9   5C857863          14620 Ranch Rd 12 Wimberley TX 78676\n10  CA2588A4            5004 Wesley St Greenville TX 75402\n11  B6233BDE  1001 W Van Alstyne Pkwy Van Alstyne TX 75495\n12  8903B15F       800 W Interstate 20 Big Spring TX 79720\n13  9EAC6D9E           3071 University Dr E Bryan TX 77802\n14  ABDD1702            5004 Wesley St Greenville TX 75402",
      "text/html": "<div>\n<style scoped>\n    .dataframe tbody tr th:only-of-type {\n        vertical-align: middle;\n    }\n\n    .dataframe tbody tr th {\n        vertical-align: top;\n    }\n\n    .dataframe thead th {\n        text-align: right;\n    }\n</style>\n<table border=\"1\" class=\"dataframe\">\n  <thead>\n    <tr style=\"text-align: right;\">\n      <th></th>\n      <th>order_id</th>\n      <th>pickup_location</th>\n    </tr>\n  </thead>\n  <tbody>\n    <tr>\n      <th>0</th>\n      <td>2ABD90DB</td>\n      <td>1402 Williams Dr Georgetown TX 78628</td>\n    </tr>\n    <tr>\n      <th>1</th>\n      <td>42CEA1A6</td>\n      <td>1301 N U.S. Hwy 281 Marble Falls TX 78654</td>\n    </tr>\n    <tr>\n      <th>2</th>\n      <td>6AB38CB1</td>\n      <td>1301 N U.S. Hwy 281 Marble Falls TX 78654</td>\n    </tr>\n    <tr>\n      <th>3</th>\n      <td>4379B60E</td>\n      <td>7045 W Del Mar Blvd Laredo TX 78041</td>\n    </tr>\n    <tr>\n      <th>4</th>\n      <td>0A150B93</td>\n      <td>2503 TX-349 Midland TX 79706</td>\n    </tr>\n    <tr>\n      <th>5</th>\n      <td>E0EB8837</td>\n      <td>5004 Wesley St Greenville TX 75402</td>\n    </tr>\n    <tr>\n      <th>6</th>\n      <td>77896463</td>\n      <td>7045 W Del Mar Blvd Laredo TX 78041</td>\n    </tr>\n    <tr>\n      <th>7</th>\n      <td>B48F2460</td>\n      <td>14620 Ranch Rd 12 Wimberley TX 78676</td>\n    </tr>\n    <tr>\n      <th>8</th>\n      <td>78588F69</td>\n      <td>5004 Wesley St Greenville TX 75402</td>\n    </tr>\n    <tr>\n      <th>9</th>\n      <td>5C857863</td>\n      <td>14620 Ranch Rd 12 Wimberley TX 78676</td>\n    </tr>\n    <tr>\n      <th>10</th>\n      <td>CA2588A4</td>\n      <td>5004 Wesley St Greenville TX 75402</td>\n    </tr>\n    <tr>\n      <th>11</th>\n      <td>B6233BDE</td>\n      <td>1001 W Van Alstyne Pkwy Van Alstyne TX 75495</td>\n    </tr>\n    <tr>\n      <th>12</th>\n      <td>8903B15F</td>\n      <td>800 W Interstate 20 Big Spring TX 79720</td>\n    </tr>\n    <tr>\n      <th>13</th>\n      <td>9EAC6D9E</td>\n      <td>3071 University Dr E Bryan TX 77802</td>\n    </tr>\n    <tr>\n      <th>14</th>\n      <td>ABDD1702</td>\n      <td>5004 Wesley St Greenville TX 75402</td>\n    </tr>\n  </tbody>\n</table>\n</div>"
     },
     "execution_count": 67,
     "metadata": {},
     "output_type": "execute_result"
    }
   ],
   "source": [
    "order_to_location_df['pickup_location'] = order_to_location_df['pickup_location'].str.replace(',', '')\n",
    "order_to_location_df['pickup_location'] = order_to_location_df['pickup_location'].str.replace(' USA', '')\n",
    "order_to_location_df"
   ],
   "metadata": {
    "collapsed": false,
    "ExecuteTime": {
     "end_time": "2023-10-05T19:39:36.337569Z",
     "start_time": "2023-10-05T19:39:36.333182Z"
    }
   },
   "id": "39505a03d6450958"
  },
  {
   "cell_type": "code",
   "execution_count": null,
   "outputs": [],
   "source": [],
   "metadata": {
    "collapsed": false
   },
   "id": "b86226d00493fe0e"
  }
 ],
 "metadata": {
  "kernelspec": {
   "display_name": "Python 3",
   "language": "python",
   "name": "python3"
  },
  "language_info": {
   "codemirror_mode": {
    "name": "ipython",
    "version": 2
   },
   "file_extension": ".py",
   "mimetype": "text/x-python",
   "name": "python",
   "nbconvert_exporter": "python",
   "pygments_lexer": "ipython2",
   "version": "2.7.6"
  }
 },
 "nbformat": 4,
 "nbformat_minor": 5
}
