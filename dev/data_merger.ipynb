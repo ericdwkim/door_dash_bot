{
 "cells": [
  {
   "cell_type": "code",
   "execution_count": 1,
   "id": "initial_id",
   "metadata": {
    "collapsed": true,
    "ExecuteTime": {
     "end_time": "2023-10-04T13:51:24.079897Z",
     "start_time": "2023-10-04T13:51:22.785032Z"
    }
   },
   "outputs": [
    {
     "name": "stdout",
     "output_type": "stream",
     "text": [
      "Intel MKL WARNING: Support of Intel(R) Streaming SIMD Extensions 4.2 (Intel(R) SSE4.2) enabled only processors has been deprecated. Intel oneAPI Math Kernel Library 2025.0 will require Intel(R) Advanced Vector Extensions (Intel(R) AVX) instructions.\n",
      "Intel MKL WARNING: Support of Intel(R) Streaming SIMD Extensions 4.2 (Intel(R) SSE4.2) enabled only processors has been deprecated. Intel oneAPI Math Kernel Library 2025.0 will require Intel(R) Advanced Vector Extensions (Intel(R) AVX) instructions.\n"
     ]
    }
   ],
   "source": [
    "import pandas as pd\n",
    "import re\n",
    "import json\n",
    "import csv\n",
    "from datetime import datetime\n",
    "import logging"
   ]
  },
  {
   "cell_type": "code",
   "execution_count": 4,
   "outputs": [
    {
     "data": {
      "text/plain": "'[{\"Order\": \"92022795\", \"Delivered\": \"The order was delivered at 11:45 PM on October 2, 2023.\", \"Pick Up Location\": \"800 W Interstate 20, Big Spring, TX 79720, USA\", \"Order Details\": {\"1 \\\\u00d7 Barcel Takis Fuego Hot Chili Pepper & Lime Corn Snacks (4 oz) (Chips & Popcorn TX)\": \"$4.19\", \" 1 \\\\u00d7 Hostess Powdered Donettes Bag (10.5oz) (Donuts TX)\": \"$6.39\", \" 1 \\\\u00d7 Big Red Bottle (20oz) (Soda TX)\": \"$3.79\", \" 1 \\\\u00d7 Cheetos Crunchy Jalapeno (8.5 oz) (Chips & Popcorn TX)\": \"$3.19\"}, \"Subtotal\": \"$17.56\", \"Subtotal Tax\": \"$0.31\", \"Commission (23%)\": \"-$4.04\", \"Total Customer Refund\": \"-$0.00\", \"Estimated Payout\": \"$13.83\", \"Transaction #8120214500 - Delivery\": \"$13.83\"}, {\"Order\": \"3286DC34\", \"Delivered\": \"The order was delivered at 11:45 PM on October 2, 2023.\", \"Pick Up Location\": \"145 Lehman Rd, Kyle, TX 78640, USA\", \"Order Details\": {\"1 \\\\u00d7 Ben & Jerry\\'s Chunky Monkey Ice Cream (16 oz) (Ice Cream TX)\": \"$12.49\"}, \"Subtotal\": \"$12.49\", \"Subtotal Tax\": \"$0.00\", \"Commission (23%)\": \"-$2.87\", \"Total Customer Refund\": \"-$0.00\", \"Estimated Payout\": \"$9.62\", \"Transaction #8120252453 - Delivery\": \"$9.62\"}, {\"Order\": \"F9A3C1CE\", \"Delivered\": \"The order was delivered at 11:36 PM on October 2, 2023.\", \"Pick Up Location\": \"800 W Interstate 20, Big Spring, TX 79720, USA\", \"Order Details\": {\"1 \\\\u00d7 Coors Original Beer Bottle (12oz x 6ct) (Domestic Beer 70)\": \"$13.79\"}, \"Subtotal\": \"$13.79\", \"Subtotal Tax\": \"$1.14\", \"Commission (16%)\": \"-$2.21\", \"Total Customer Refund\": \"-$0.00\", \"Estimated Payout\": \"$12.72\", \"Transaction #8120214907 - Delivery\": \"$12.72\"}, {\"Order\": \"8BE8532F\", \"Delivered\": \"The order was delivered at 11:14 PM on October 2, 2023.\", \"Pick Up Location\": \"14620 Ranch Rd 12, Wimberley, TX 78676, USA\", \"Order Details\": {\"1 \\\\u00d7 Chicken Tender Meal Kit (Meal Kits TXB#57)\": \"$9.19\", \" 3 \\\\u00d7 Cayman Jack Margarita Can (19 oz) (Flavored Malt Beverages CT)\": \"$17.07\"}, \"Subtotal\": \"$26.26\", \"Subtotal Tax\": \"$2.17\", \"Commission (23%)\": \"-$6.04\", \"Total Customer Refund\": \"-$0.00\", \"Estimated Payout\": \"$22.39\", \"Transaction #8119974498 - Delivery\": \"$22.39\"}, {\"Order\": \"D7BD216C\", \"Delivered\": \"The order was delivered at 11:05 PM on October 2, 2023.\", \"Pick Up Location\": \"5004 Wesley St, Greenville, TX 75402, USA\", \"Order Details\": {\"1 \\\\u00d7 Michelob Ultra Light Beer Can (12 oz x 6 ct) (Domestic Beer NT)\": \"$16.29\"}, \"Subtotal\": \"$16.29\", \"Subtotal Tax\": \"$1.34\", \"Commission (23%)\": \"-$3.75\", \"Total Customer Refund\": \"-$0.00\", \"Estimated Payout\": \"$13.88\", \"Transaction #8120073615 - Delivery\": \"$13.88\"}, {\"Order\": \"8C4F6250\", \"Delivered\": \"The order was delivered at 5:30 PM on October 2, 2023.\", \"Pick Up Location\": \"816 N Center St, Bonham, TX 75418, USA\", \"Order Details\": {\"1 \\\\u00d7 Coors Light Beer Can (12 oz x 18 ct) (Domestic Beer NT)\": \"$28.79\"}, \"Subtotal\": \"$28.79\", \"Subtotal Tax\": \"$2.38\", \"Commission (16%)\": \"-$4.61\", \"Total Customer Refund\": \"-$0.00\", \"Estimated Payout\": \"$26.56\", \"Transaction #8117259781 - Delivery\": \"$26.56\"}, {\"Order\": \"0ED5F1C8\", \"Delivered\": \"The order was delivered at 4:12 PM on October 2, 2023.\", \"Pick Up Location\": \"816 N Center St, Bonham, TX 75418, USA\", \"Order Details\": {\"1 \\\\u00d7 Coors Light Beer Can (12 oz x 18 ct) (Domestic Beer NT)\": \"$28.79\"}, \"Subtotal\": \"$28.79\", \"Subtotal Tax\": \"$2.38\", \"Commission (16%)\": \"-$4.61\", \"Total Customer Refund\": \"-$0.00\", \"Estimated Payout\": \"$26.56\", \"Transaction #8116747084 - Delivery\": \"$26.56\"}, {\"Order\": \"60BF65AB\", \"Delivered\": \"The order was delivered at 2:45 PM on October 2, 2023.\", \"Pick Up Location\": \"13006 Bandera Rd, Helotes, TX 78023, USA\", \"Order Details\": {\"2 \\\\u00d7 Twisted Tea Hard Iced Tea Cocktail Original (24 oz) (Flavored Malt Beverages 60)\": \"$11.38\", \" 2 \\\\u00d7 Ice Small (Fountain, Frozen, & Tea)\": \"$9.98\"}, \"Subtotal\": \"$21.36\", \"Subtotal Tax\": \"$1.71\", \"Commission (16%)\": \"-$3.42\", \"Total Customer Refund\": \"-$0.00\", \"Estimated Payout\": \"$19.65\", \"Transaction #8116125108 - Delivery\": \"$19.65\"}, {\"Order\": \"C032FE0A\", \"Delivered\": \"The order was delivered at 9:24 AM on October 2, 2023.\", \"Pick Up Location\": \"1301 N U.S. Hwy 281, Marble Falls, TX 78654, USA\", \"Order Details\": {\"1 \\\\u00d7 Potato Egg Cheese Taco (Breakfast Tacos & Quesadillas)\": \"$4.69\", \" 1 \\\\u00d7 Sausage Egg Cheese Taco (Breakfast Tacos & Quesadillas)\": \"$3.79\", \" 1 \\\\u00d7 C4 Frozen Bombscicle Can (16oz) (Energy Drinks TX)\": \"$4.79\", \" 1 \\\\u00d7 C4 Skittles Can (16oz) (Energy Drinks TX)\": \"$4.79\", \" 1 \\\\u00d7 C4 Starburst Cherry Can (16oz) (Energy Drinks TX)\": \"$4.79\", \" 1 \\\\u00d7 Bacon Egg Cheese Taco (Breakfast Tacos & Quesadillas)\": \"$4.69\", \" 1 \\\\u00d7 Breakfast Quesadilla (Breakfast Tacos & Quesadillas)\": \"$7.49\"}, \"Subtotal\": \"$35.03\", \"Subtotal Tax\": \"$2.89\", \"Commission (25%)\": \"-$8.76\", \"Total Customer Refund\": \"-$0.00\", \"Estimated Payout\": \"$29.16\", \"Transaction #8114283446 - Delivery\": \"$29.16\"}, {\"Order\": \"7DE4AD15\", \"Delivered\": \"The order was delivered at 9:21 AM on October 2, 2023.\", \"Pick Up Location\": \"1741 TX-121, Bonham, TX 75418, USA\", \"Order Details\": {\"1 \\\\u00d7 Chex Mix Cheddar (3.75 oz) (Crackers & Pretzels TX)\": \"$4.39\", \" 1 \\\\u00d7 Chicken Tender Meal Kit (Meal Kits TXB#10)\": \"$9.19\", \" Subtotal for Tax Calculations\": \"$13.58\"}, \"Subtotal Tax\": \"$0.76\", \"Commission (25%)\": \"-$3.40\", \"Total Customer Refund\": \"-$0.00\", \"Estimated Payout\": \"$10.94\", \"Transaction #8114267746 - Delivery\": \"$10.94\"}, {\"Order\": \"AF6DBE37\", \"Delivered\": \"The order was delivered at 7:46 AM on October 2, 2023.\", \"Pick Up Location\": \"2320 W Main St, Durant, OK 74701, USA\", \"Order Details\": {\"1 \\\\u00d7 Coke Classic Bottle (20oz) (Soda OK)\": \"$3.19\", \" 1 \\\\u00d7 TXB Coffee or Cappuccino (20 oz) (Brewed Coffee) Flavor: TXB Southern Pecan Coffee\": \"$0.00\", \" 2 \\\\u00d7 Red Bull Energy Drink Can (12 oz) (Energy Drinks OK)\": \"$11.58\"}, \"Subtotal\": \"$14.77\", \"Subtotal Tax\": \"$1.38\", \"Commission (23%)\": \"-$3.40\", \"Total Customer Refund\": \"-$0.00\", \"Estimated Payout\": \"$11.37\", \"Transaction #8114014205 - Delivery\": \"$11.37\"}, {\"Order\": \"D84A9C02\", \"Cancelled - Paid\": \"The order was cancelled on October 2, 2023 at 6:13 AM. You\\\\u2019re paid for cancelled orders when you\\\\u2019ve successfully confirmed an order, it was prepared, and you did not initiate or are not at fault for the cancellation.\", \"Pick Up Location\": \"14620 Ranch Rd 12, Wimberley, TX 78676, USA\", \"Order Details\": {\"4 \\\\u00d7 Cayman Jack Margarita Can (19 oz) (Flavored Malt Beverages CT)\": \"$22.76\"}, \"Subtotal\": \"$22.76\", \"Subtotal Tax\": \"$1.88\", \"Commission (23%)\": \"-$5.23\", \"Total Customer Refund\": \"-$0.00\", \"Estimated Payout\": \"$19.41\", \"Transaction #8113899308 - Delivery\": \"$19.41\"}, {\"Order\": \"91EC3C1E\", \"Delivered\": \"The order was delivered at 2:45 AM on October 2, 2023.\", \"Pick Up Location\": \"801 Lafayette St, Laredo, TX 78041, USA\", \"Order Details\": {\"1 \\\\u00d7 M&M\\'s Peanut King Size (3.27 oz) (Chocolate TX)\": \"$3.79\", \" 1 \\\\u00d7 Cheetos Crunchy Flamin\\' Hot Limon (8.5 oz) (Chips & Popcorn TX)\": \"$6.49\", \" 1 \\\\u00d7 Cheetos Crunchy Jalapeno (8.5 oz) (Chips & Popcorn TX)\": \"$3.19\"}, \"Subtotal\": \"$13.47\", \"Subtotal Tax\": \"$0.31\", \"Commission (16%)\": \"-$2.16\", \"Total Customer Refund\": \"-$0.00\", \"Estimated Payout\": \"$11.62\", \"Transaction #8113712869 - Delivery\": \"$11.62\"}, {\"Order\": \"4761F061\", \"Cancelled - Not Paid\": \"The order was cancelled on October 2, 2023 at 12:51 AM. You were not paid because the order was not able to be placed.\", \"Pick Up Location\": \"2196 El Indio Hwy, Eagle Pass, TX 78852, USA\", \"Order Details\": {\"1 \\\\u00d7 Cheetos Crunchy Flamin\\' Hot Limon (8.5 oz) (Chips & Popcorn TX)\": \"$6.49\", \" 1 \\\\u00d7 Fountain Drink (Fountain, Frozen, & Tea) Drink Selection: Gatorade Lemon-Lime\": \"$0.00\"}, \"Subtotal\": \"$6.49\", \"Subtotal Tax\": \"$0.00\", \"Commission (20%)\": \"-$1.30\", \"Total Customer Refund\": \"-$0.00\", \"Estimated Payout\": \"$0.00\"}, {\"Order\": \"234FE808\", \"Delivered\": \"The order was delivered at 12:26 AM on October 2, 2023.\", \"Pick Up Location\": \"801 Lafayette St, Laredo, TX 78041, USA\", \"Order Details\": {\"1 \\\\u00d7 Pepsi Can (12pk 12oz) (Soda TX)\": \"$11.29\", \" 1 \\\\u00d7 Fountain Drink (Fountain, Frozen, & Tea) Drink Selection: Coke\": \"$0.00\", \" 1 \\\\u00d7 Ice Small (Fountain, Frozen, & Tea)\": \"$4.99\"}, \"Subtotal\": \"$16.28\", \"Subtotal Tax\": \"$1.34\", \"Commission (16%)\": \"-$2.60\", \"Total Customer Refund\": \"-$0.00\", \"Estimated Payout\": \"$15.02\", \"Transaction #8113483337 - Delivery\": \"$15.02\"}]'"
     },
     "execution_count": 4,
     "metadata": {},
     "output_type": "execute_result"
    }
   ],
   "source": [
    "orders_json = [\n",
    "    {\n",
    "        \"Order\": \"92022795\",\n",
    "        \"Delivered\": \"The order was delivered at 11:45 PM on October 2, 2023.\",\n",
    "        \"Pick Up Location\": \"800 W Interstate 20, Big Spring, TX 79720, USA\",\n",
    "        \"Order Details\": {\n",
    "            \"1 \\u00d7 Barcel Takis Fuego Hot Chili Pepper & Lime Corn Snacks (4 oz) (Chips & Popcorn TX)\": \"$4.19\",\n",
    "            \" 1 \\u00d7 Hostess Powdered Donettes Bag (10.5oz) (Donuts TX)\": \"$6.39\",\n",
    "            \" 1 \\u00d7 Big Red Bottle (20oz) (Soda TX)\": \"$3.79\",\n",
    "            \" 1 \\u00d7 Cheetos Crunchy Jalapeno (8.5 oz) (Chips & Popcorn TX)\": \"$3.19\"\n",
    "        },\n",
    "        \"Subtotal\": \"$17.56\",\n",
    "        \"Subtotal Tax\": \"$0.31\",\n",
    "        \"Commission (23%)\": \"-$4.04\",\n",
    "        \"Total Customer Refund\": \"-$0.00\",\n",
    "        \"Estimated Payout\": \"$13.83\",\n",
    "        \"Transaction #8120214500 - Delivery\": \"$13.83\"\n",
    "    },\n",
    "    {\n",
    "        \"Order\": \"3286DC34\",\n",
    "        \"Delivered\": \"The order was delivered at 11:45 PM on October 2, 2023.\",\n",
    "        \"Pick Up Location\": \"145 Lehman Rd, Kyle, TX 78640, USA\",\n",
    "        \"Order Details\": {\n",
    "            \"1 \\u00d7 Ben & Jerry's Chunky Monkey Ice Cream (16 oz) (Ice Cream TX)\": \"$12.49\"\n",
    "        },\n",
    "        \"Subtotal\": \"$12.49\",\n",
    "        \"Subtotal Tax\": \"$0.00\",\n",
    "        \"Commission (23%)\": \"-$2.87\",\n",
    "        \"Total Customer Refund\": \"-$0.00\",\n",
    "        \"Estimated Payout\": \"$9.62\",\n",
    "        \"Transaction #8120252453 - Delivery\": \"$9.62\"\n",
    "    },\n",
    "    {\n",
    "        \"Order\": \"F9A3C1CE\",\n",
    "        \"Delivered\": \"The order was delivered at 11:36 PM on October 2, 2023.\",\n",
    "        \"Pick Up Location\": \"800 W Interstate 20, Big Spring, TX 79720, USA\",\n",
    "        \"Order Details\": {\n",
    "            \"1 \\u00d7 Coors Original Beer Bottle (12oz x 6ct) (Domestic Beer 70)\": \"$13.79\"\n",
    "        },\n",
    "        \"Subtotal\": \"$13.79\",\n",
    "        \"Subtotal Tax\": \"$1.14\",\n",
    "        \"Commission (16%)\": \"-$2.21\",\n",
    "        \"Total Customer Refund\": \"-$0.00\",\n",
    "        \"Estimated Payout\": \"$12.72\",\n",
    "        \"Transaction #8120214907 - Delivery\": \"$12.72\"\n",
    "    },\n",
    "    {\n",
    "        \"Order\": \"8BE8532F\",\n",
    "        \"Delivered\": \"The order was delivered at 11:14 PM on October 2, 2023.\",\n",
    "        \"Pick Up Location\": \"14620 Ranch Rd 12, Wimberley, TX 78676, USA\",\n",
    "        \"Order Details\": {\n",
    "            \"1 \\u00d7 Chicken Tender Meal Kit (Meal Kits TXB#57)\": \"$9.19\",\n",
    "            \" 3 \\u00d7 Cayman Jack Margarita Can (19 oz) (Flavored Malt Beverages CT)\": \"$17.07\"\n",
    "        },\n",
    "        \"Subtotal\": \"$26.26\",\n",
    "        \"Subtotal Tax\": \"$2.17\",\n",
    "        \"Commission (23%)\": \"-$6.04\",\n",
    "        \"Total Customer Refund\": \"-$0.00\",\n",
    "        \"Estimated Payout\": \"$22.39\",\n",
    "        \"Transaction #8119974498 - Delivery\": \"$22.39\"\n",
    "    },\n",
    "    {\n",
    "        \"Order\": \"D7BD216C\",\n",
    "        \"Delivered\": \"The order was delivered at 11:05 PM on October 2, 2023.\",\n",
    "        \"Pick Up Location\": \"5004 Wesley St, Greenville, TX 75402, USA\",\n",
    "        \"Order Details\": {\n",
    "            \"1 \\u00d7 Michelob Ultra Light Beer Can (12 oz x 6 ct) (Domestic Beer NT)\": \"$16.29\"\n",
    "        },\n",
    "        \"Subtotal\": \"$16.29\",\n",
    "        \"Subtotal Tax\": \"$1.34\",\n",
    "        \"Commission (23%)\": \"-$3.75\",\n",
    "        \"Total Customer Refund\": \"-$0.00\",\n",
    "        \"Estimated Payout\": \"$13.88\",\n",
    "        \"Transaction #8120073615 - Delivery\": \"$13.88\"\n",
    "    },\n",
    "    {\n",
    "        \"Order\": \"8C4F6250\",\n",
    "        \"Delivered\": \"The order was delivered at 5:30 PM on October 2, 2023.\",\n",
    "        \"Pick Up Location\": \"816 N Center St, Bonham, TX 75418, USA\",\n",
    "        \"Order Details\": {\n",
    "            \"1 \\u00d7 Coors Light Beer Can (12 oz x 18 ct) (Domestic Beer NT)\": \"$28.79\"\n",
    "        },\n",
    "        \"Subtotal\": \"$28.79\",\n",
    "        \"Subtotal Tax\": \"$2.38\",\n",
    "        \"Commission (16%)\": \"-$4.61\",\n",
    "        \"Total Customer Refund\": \"-$0.00\",\n",
    "        \"Estimated Payout\": \"$26.56\",\n",
    "        \"Transaction #8117259781 - Delivery\": \"$26.56\"\n",
    "    },\n",
    "    {\n",
    "        \"Order\": \"0ED5F1C8\",\n",
    "        \"Delivered\": \"The order was delivered at 4:12 PM on October 2, 2023.\",\n",
    "        \"Pick Up Location\": \"816 N Center St, Bonham, TX 75418, USA\",\n",
    "        \"Order Details\": {\n",
    "            \"1 \\u00d7 Coors Light Beer Can (12 oz x 18 ct) (Domestic Beer NT)\": \"$28.79\"\n",
    "        },\n",
    "        \"Subtotal\": \"$28.79\",\n",
    "        \"Subtotal Tax\": \"$2.38\",\n",
    "        \"Commission (16%)\": \"-$4.61\",\n",
    "        \"Total Customer Refund\": \"-$0.00\",\n",
    "        \"Estimated Payout\": \"$26.56\",\n",
    "        \"Transaction #8116747084 - Delivery\": \"$26.56\"\n",
    "    },\n",
    "    {\n",
    "        \"Order\": \"60BF65AB\",\n",
    "        \"Delivered\": \"The order was delivered at 2:45 PM on October 2, 2023.\",\n",
    "        \"Pick Up Location\": \"13006 Bandera Rd, Helotes, TX 78023, USA\",\n",
    "        \"Order Details\": {\n",
    "            \"2 \\u00d7 Twisted Tea Hard Iced Tea Cocktail Original (24 oz) (Flavored Malt Beverages 60)\": \"$11.38\",\n",
    "            \" 2 \\u00d7 Ice Small (Fountain, Frozen, & Tea)\": \"$9.98\"\n",
    "        },\n",
    "        \"Subtotal\": \"$21.36\",\n",
    "        \"Subtotal Tax\": \"$1.71\",\n",
    "        \"Commission (16%)\": \"-$3.42\",\n",
    "        \"Total Customer Refund\": \"-$0.00\",\n",
    "        \"Estimated Payout\": \"$19.65\",\n",
    "        \"Transaction #8116125108 - Delivery\": \"$19.65\"\n",
    "    },\n",
    "    {\n",
    "        \"Order\": \"C032FE0A\",\n",
    "        \"Delivered\": \"The order was delivered at 9:24 AM on October 2, 2023.\",\n",
    "        \"Pick Up Location\": \"1301 N U.S. Hwy 281, Marble Falls, TX 78654, USA\",\n",
    "        \"Order Details\": {\n",
    "            \"1 \\u00d7 Potato Egg Cheese Taco (Breakfast Tacos & Quesadillas)\": \"$4.69\",\n",
    "            \" 1 \\u00d7 Sausage Egg Cheese Taco (Breakfast Tacos & Quesadillas)\": \"$3.79\",\n",
    "            \" 1 \\u00d7 C4 Frozen Bombscicle Can (16oz) (Energy Drinks TX)\": \"$4.79\",\n",
    "            \" 1 \\u00d7 C4 Skittles Can (16oz) (Energy Drinks TX)\": \"$4.79\",\n",
    "            \" 1 \\u00d7 C4 Starburst Cherry Can (16oz) (Energy Drinks TX)\": \"$4.79\",\n",
    "            \" 1 \\u00d7 Bacon Egg Cheese Taco (Breakfast Tacos & Quesadillas)\": \"$4.69\",\n",
    "            \" 1 \\u00d7 Breakfast Quesadilla (Breakfast Tacos & Quesadillas)\": \"$7.49\"\n",
    "        },\n",
    "        \"Subtotal\": \"$35.03\",\n",
    "        \"Subtotal Tax\": \"$2.89\",\n",
    "        \"Commission (25%)\": \"-$8.76\",\n",
    "        \"Total Customer Refund\": \"-$0.00\",\n",
    "        \"Estimated Payout\": \"$29.16\",\n",
    "        \"Transaction #8114283446 - Delivery\": \"$29.16\"\n",
    "    },\n",
    "    {\n",
    "        \"Order\": \"7DE4AD15\",\n",
    "        \"Delivered\": \"The order was delivered at 9:21 AM on October 2, 2023.\",\n",
    "        \"Pick Up Location\": \"1741 TX-121, Bonham, TX 75418, USA\",\n",
    "        \"Order Details\": {\n",
    "            \"1 \\u00d7 Chex Mix Cheddar (3.75 oz) (Crackers & Pretzels TX)\": \"$4.39\",\n",
    "            \" 1 \\u00d7 Chicken Tender Meal Kit (Meal Kits TXB#10)\": \"$9.19\",\n",
    "            \" Subtotal for Tax Calculations\": \"$13.58\"\n",
    "        },\n",
    "        \"Subtotal Tax\": \"$0.76\",\n",
    "        \"Commission (25%)\": \"-$3.40\",\n",
    "        \"Total Customer Refund\": \"-$0.00\",\n",
    "        \"Estimated Payout\": \"$10.94\",\n",
    "        \"Transaction #8114267746 - Delivery\": \"$10.94\"\n",
    "    },\n",
    "    {\n",
    "        \"Order\": \"AF6DBE37\",\n",
    "        \"Delivered\": \"The order was delivered at 7:46 AM on October 2, 2023.\",\n",
    "        \"Pick Up Location\": \"2320 W Main St, Durant, OK 74701, USA\",\n",
    "        \"Order Details\": {\n",
    "            \"1 \\u00d7 Coke Classic Bottle (20oz) (Soda OK)\": \"$3.19\",\n",
    "            \" 1 \\u00d7 TXB Coffee or Cappuccino (20 oz) (Brewed Coffee) Flavor: TXB Southern Pecan Coffee\": \"$0.00\",\n",
    "            \" 2 \\u00d7 Red Bull Energy Drink Can (12 oz) (Energy Drinks OK)\": \"$11.58\"\n",
    "        },\n",
    "        \"Subtotal\": \"$14.77\",\n",
    "        \"Subtotal Tax\": \"$1.38\",\n",
    "        \"Commission (23%)\": \"-$3.40\",\n",
    "        \"Total Customer Refund\": \"-$0.00\",\n",
    "        \"Estimated Payout\": \"$11.37\",\n",
    "        \"Transaction #8114014205 - Delivery\": \"$11.37\"\n",
    "    },\n",
    "    {\n",
    "        \"Order\": \"D84A9C02\",\n",
    "        \"Cancelled - Paid\": \"The order was cancelled on October 2, 2023 at 6:13 AM. You\\u2019re paid for cancelled orders when you\\u2019ve successfully confirmed an order, it was prepared, and you did not initiate or are not at fault for the cancellation.\",\n",
    "        \"Pick Up Location\": \"14620 Ranch Rd 12, Wimberley, TX 78676, USA\",\n",
    "        \"Order Details\": {\n",
    "            \"4 \\u00d7 Cayman Jack Margarita Can (19 oz) (Flavored Malt Beverages CT)\": \"$22.76\"\n",
    "        },\n",
    "        \"Subtotal\": \"$22.76\",\n",
    "        \"Subtotal Tax\": \"$1.88\",\n",
    "        \"Commission (23%)\": \"-$5.23\",\n",
    "        \"Total Customer Refund\": \"-$0.00\",\n",
    "        \"Estimated Payout\": \"$19.41\",\n",
    "        \"Transaction #8113899308 - Delivery\": \"$19.41\"\n",
    "    },\n",
    "    {\n",
    "        \"Order\": \"91EC3C1E\",\n",
    "        \"Delivered\": \"The order was delivered at 2:45 AM on October 2, 2023.\",\n",
    "        \"Pick Up Location\": \"801 Lafayette St, Laredo, TX 78041, USA\",\n",
    "        \"Order Details\": {\n",
    "            \"1 \\u00d7 M&M's Peanut King Size (3.27 oz) (Chocolate TX)\": \"$3.79\",\n",
    "            \" 1 \\u00d7 Cheetos Crunchy Flamin' Hot Limon (8.5 oz) (Chips & Popcorn TX)\": \"$6.49\",\n",
    "            \" 1 \\u00d7 Cheetos Crunchy Jalapeno (8.5 oz) (Chips & Popcorn TX)\": \"$3.19\"\n",
    "        },\n",
    "        \"Subtotal\": \"$13.47\",\n",
    "        \"Subtotal Tax\": \"$0.31\",\n",
    "        \"Commission (16%)\": \"-$2.16\",\n",
    "        \"Total Customer Refund\": \"-$0.00\",\n",
    "        \"Estimated Payout\": \"$11.62\",\n",
    "        \"Transaction #8113712869 - Delivery\": \"$11.62\"\n",
    "    },\n",
    "    {\n",
    "        \"Order\": \"4761F061\",\n",
    "        \"Cancelled - Not Paid\": \"The order was cancelled on October 2, 2023 at 12:51 AM. You were not paid because the order was not able to be placed.\",\n",
    "        \"Pick Up Location\": \"2196 El Indio Hwy, Eagle Pass, TX 78852, USA\",\n",
    "        \"Order Details\": {\n",
    "            \"1 \\u00d7 Cheetos Crunchy Flamin' Hot Limon (8.5 oz) (Chips & Popcorn TX)\": \"$6.49\",\n",
    "            \" 1 \\u00d7 Fountain Drink (Fountain, Frozen, & Tea) Drink Selection: Gatorade Lemon-Lime\": \"$0.00\"\n",
    "        },\n",
    "        \"Subtotal\": \"$6.49\",\n",
    "        \"Subtotal Tax\": \"$0.00\",\n",
    "        \"Commission (20%)\": \"-$1.30\",\n",
    "        \"Total Customer Refund\": \"-$0.00\",\n",
    "        \"Estimated Payout\": \"$0.00\"\n",
    "    },\n",
    "    {\n",
    "        \"Order\": \"234FE808\",\n",
    "        \"Delivered\": \"The order was delivered at 12:26 AM on October 2, 2023.\",\n",
    "        \"Pick Up Location\": \"801 Lafayette St, Laredo, TX 78041, USA\",\n",
    "        \"Order Details\": {\n",
    "            \"1 \\u00d7 Pepsi Can (12pk 12oz) (Soda TX)\": \"$11.29\",\n",
    "            \" 1 \\u00d7 Fountain Drink (Fountain, Frozen, & Tea) Drink Selection: Coke\": \"$0.00\",\n",
    "            \" 1 \\u00d7 Ice Small (Fountain, Frozen, & Tea)\": \"$4.99\"\n",
    "        },\n",
    "        \"Subtotal\": \"$16.28\",\n",
    "        \"Subtotal Tax\": \"$1.34\",\n",
    "        \"Commission (16%)\": \"-$2.60\",\n",
    "        \"Total Customer Refund\": \"-$0.00\",\n",
    "        \"Estimated Payout\": \"$15.02\",\n",
    "        \"Transaction #8113483337 - Delivery\": \"$15.02\"\n",
    "    }\n",
    "]\n",
    "def list_of_dicts_to_json(list_of_dicts):\n",
    "    try:\n",
    "        json_str = json.dumps(list_of_dicts)\n",
    "        return json_str\n",
    "    except Exception as e:\n",
    "        print(f\"An error occurred: {e}\")\n",
    "        return None\n",
    "orders_json_serialized = list_of_dicts_to_json(orders_json)\n",
    "orders_json_serialized"
   ],
   "metadata": {
    "collapsed": false,
    "ExecuteTime": {
     "end_time": "2023-10-04T13:53:15.048092Z",
     "start_time": "2023-10-04T13:53:15.037633Z"
    }
   },
   "id": "629c91c5fb7cf79d"
  },
  {
   "cell_type": "code",
   "execution_count": 12,
   "outputs": [],
   "source": [
    "master_dataset_file_path = '/Users/ekim/workspace/personal/dd-bot/dev/store_list.xlsx'\n"
   ],
   "metadata": {
    "collapsed": false,
    "ExecuteTime": {
     "end_time": "2023-10-04T04:27:42.702022Z",
     "start_time": "2023-10-04T04:27:42.689117Z"
    }
   },
   "id": "13ea24da0dcb9fea"
  },
  {
   "cell_type": "code",
   "execution_count": null,
   "outputs": [],
   "source": [],
   "metadata": {
    "collapsed": false
   },
   "id": "4044688c9bba193d"
  },
  {
   "cell_type": "code",
   "execution_count": 17,
   "outputs": [
    {
     "data": {
      "text/plain": "        Site # Site Description                               Address  \\\nStore #                                                                 \n1            1     Kwik Chek #1                     2226 North Center   \n3            3     Kwik Chek #3                            971 FM 273   \n5            5     Kwik Chek #5                                   NaN   \n6            6     Kwik Chek #6                      816 North Center   \n7            7     Kwik Chek #7                            101 Hwy 69   \n8            8     Kwik Chek #8                            308 Hwy 69   \n10          10    Kwik Chek #10                    1741 North Hwy 121   \n12          12    Kwik Chek #12                          102 S Hwy 78   \n13          13    Kwik Chek #13                         102 West Main   \n14          14    Kwik Chek #14                         201 South 9th   \n16          16    Kwik Chek #16                        2320 West Main   \n17          17    Kwik Chek #17                 13503 S State Hwy 121   \n19          19    Kwik Chek #19                      617 South Hwy 78   \n20          20    Kwik Chek #20                    5004 Wesley Street   \n24          24    Kwik Chek #24                           3812 Hwy 70   \n26          26    Kwik Chek #26                              503 SW C   \n27          27    Kwik Chek #27                        1005 East Main   \n32          32           TXB 32              1001 Van Alstyne Parkway   \n34          34    Kwik Chek #34              2965 South Church Street   \n37          37    Kwik Chek #37                    103 South Santa Fe   \n38          38    Kwik Chek #38                    505 South Garfield   \n50          50    Kwik Chek #50                     3002 Thorton Lane   \n52          52    Kwik Chek #52                    1003 Hwy 1431 West   \n53          53    Kwik Chek #53                    1301 Hwy 281 North   \n54          54    Kwik Chek #54                 201 Hwy 281 & Hwy 290   \n55          55    Kwik Chek #55                   14417-A Hwy 71 West   \n57          57    Kwik Chek #57                   14620 Ranch Road 12   \n59          59    Kwik Chek #59                      440 Bandera Road   \n60          60    Kwik Chek #60                    13006 Bandera Road   \n61          61    Kwik Chek #61                     1001 Hwy 16 South   \n62          62    Kwik Chek #62                        21024 Hwy 71 W   \n63          63           TXB 63                         15701 W SH 71   \n64          64    Kwik Chek #64             2103 Ranch Road 620 South   \n65          65    Kwik Chek #65                   1402 Williams Drive   \n66          66    Kwik Chek #66               15411 East State Hwy 29   \n67          67           TXB 67                     3702 West FM 2147   \n68          68    Kwik Chek #68                       145 Lehman Road   \n69          69           TXB 69                          8103 RR 2243   \n70          70    Kwik Chek #70                        800 IH 20 West   \n71          71           TXB 71                       2503 Rankin Hwy   \n72          72           TXB 72  2104 East William Joel Bryan Parkway   \n73          73           TXB 73            3071 University Drive East   \n79          79    Kwik Chek #79                  500 W Thorton Street   \n80          80    Kwik Chek #80                    801 West Lafayette   \n81          81    Kwik Chek #81                      7045 North IH 35   \n82          82    Kwik Chek #82                     780 Carter Street   \n83          83    Kwik Chek #83                      401 N 1st Street   \n84          84    Kwik Chek #84                     1000 N 9th Street   \n85          85    Kwik Chek #85                      1901 N US Hwy 83   \n86          86    Kwik Chek #86                      1900 N US Hwy 83   \n87          87    Kwik Chek #87                       481 W US Hwy 57   \n88          88    Kwik Chek #88                  2757 N Veterans Blvd   \n89          89    Kwik Chek #89                     2196 El Indio Hwy   \n\n                      City      County State    Zip         Notes street_num  \nStore #                                                                       \n1                   Bonham      Fannin    TX  75418           NaN       2226  \n3                   Bonham      Fannin    TX  75418           NaN        971  \n5                   Bonham      Fannin    TX  75418  Not Open Yet        nan  \n6                   Bonham      Fannin    TX  75418           NaN        816  \n7                  Celeste        Hunt    TX  75423           NaN        101  \n8                  Leonard      Fannin    TX  75452           NaN        308  \n10                  Bonham      Fannin    TX  75418           NaN       1741  \n12                 Achille       Bryan    OK  74720           NaN        102  \n13                  Calera       Bryan    OK  74730           NaN        102  \n14                  Durant       Bryan    OK  74701           NaN        201  \n16                  Durant       Bryan    OK  74701           NaN       2320  \n17                 Trenton      Fannin    TX  75490           NaN      13503  \n19                   Wylie      Collin    TX  75098           NaN        617  \n20              Greenville        Hunt    TX  75402           NaN       5004  \n24                    Hugo     Choctaw    OK  74743           NaN       3812  \n26                 Antlers  Pushmataha    OK  74523           NaN        503  \n27             Honey Grove      Fannin    TX  75446           NaN       1005  \n32             Van Alstyne     Grayson    TX  75495           NaN       1001  \n34                   Paris       Lamar    TX  75460           NaN       2965  \n37              Wolfe City        Hunt    TX  75496           NaN        103  \n38                   Kiowa   Pittsburg    OK  74553           NaN        505  \n50                  Temple        Bell    TX  76502           NaN       3002  \n52            Marble Falls      Burnet    TX  78654           NaN       1003  \n53            Marble Falls      Burnet    TX  78654           NaN       1301  \n54            Johnson City      Blanco    TX  78636           NaN        201  \n55                  Austin      Travis    TX  78738           NaN      14417  \n57               Wimberley        Hays    TX  78676           NaN      14620  \n59                  Boerne     Kendall    TX  78006           NaN        440  \n60                 Helotes       Bexar    TX  78023           NaN      13006  \n61          Fredericksburg   Gillespie    TX  78624           NaN       1001  \n62               Spicewood      Travis    TX  78669           NaN      21024  \n63                Bee Cave      Travis    TX  78738           NaN      15701  \n64                 Lakeway      Travis    TX  78734           NaN       2103  \n65              Georgetown  Williamson    TX  78628           NaN       1402  \n66            Buchanan Dam       Llano    TX  78609           NaN      15411  \n67       Cottonwood Shores       Llano    TX  78657           NaN       3702  \n68                    Kyle        Hays    TX  78640  Not Open Yet        145  \n69                 Leander  Williamson    TX  78641           NaN       8103  \n70              Big Spring      Howard    TX  79720           NaN        800  \n71                 Midland     Midland    TX  79706           NaN       2503  \n72                   Bryan      Brazos    TX  77802  Not Open Yet       2104  \n73                   Bryan      Brazos    TX  77840  Not Open Yet       3071  \n79            Three Rivers    Live Oak    TX  78071           NaN        500  \n80                  Laredo        Webb    TX  78041           NaN        801  \n81                  Laredo        Webb    TX  78041           NaN       7045  \n82                Asherton      Dimmit    TX  78827           NaN        780  \n83         Carrizo Springs      Dimmit    TX  78834           NaN        401  \n84         Carrizo Springs      Dimmit    TX  78834           NaN       1000  \n85            Crystal City      Zavala    TX  78839           NaN       1901  \n86            Crystal City      Zavala    TX  78839           NaN       1900  \n87                La Pryor      Zavala    TX  78872           NaN        481  \n88              Eagle Pass    Maverick    TX  78852           NaN       2757  \n89              Eagle Pass    Maverick    TX  78852           NaN       2196  ",
      "text/html": "<div>\n<style scoped>\n    .dataframe tbody tr th:only-of-type {\n        vertical-align: middle;\n    }\n\n    .dataframe tbody tr th {\n        vertical-align: top;\n    }\n\n    .dataframe thead th {\n        text-align: right;\n    }\n</style>\n<table border=\"1\" class=\"dataframe\">\n  <thead>\n    <tr style=\"text-align: right;\">\n      <th></th>\n      <th>Site #</th>\n      <th>Site Description</th>\n      <th>Address</th>\n      <th>City</th>\n      <th>County</th>\n      <th>State</th>\n      <th>Zip</th>\n      <th>Notes</th>\n      <th>street_num</th>\n    </tr>\n    <tr>\n      <th>Store #</th>\n      <th></th>\n      <th></th>\n      <th></th>\n      <th></th>\n      <th></th>\n      <th></th>\n      <th></th>\n      <th></th>\n      <th></th>\n    </tr>\n  </thead>\n  <tbody>\n    <tr>\n      <th>1</th>\n      <td>1</td>\n      <td>Kwik Chek #1</td>\n      <td>2226 North Center</td>\n      <td>Bonham</td>\n      <td>Fannin</td>\n      <td>TX</td>\n      <td>75418</td>\n      <td>NaN</td>\n      <td>2226</td>\n    </tr>\n    <tr>\n      <th>3</th>\n      <td>3</td>\n      <td>Kwik Chek #3</td>\n      <td>971 FM 273</td>\n      <td>Bonham</td>\n      <td>Fannin</td>\n      <td>TX</td>\n      <td>75418</td>\n      <td>NaN</td>\n      <td>971</td>\n    </tr>\n    <tr>\n      <th>5</th>\n      <td>5</td>\n      <td>Kwik Chek #5</td>\n      <td>NaN</td>\n      <td>Bonham</td>\n      <td>Fannin</td>\n      <td>TX</td>\n      <td>75418</td>\n      <td>Not Open Yet</td>\n      <td>nan</td>\n    </tr>\n    <tr>\n      <th>6</th>\n      <td>6</td>\n      <td>Kwik Chek #6</td>\n      <td>816 North Center</td>\n      <td>Bonham</td>\n      <td>Fannin</td>\n      <td>TX</td>\n      <td>75418</td>\n      <td>NaN</td>\n      <td>816</td>\n    </tr>\n    <tr>\n      <th>7</th>\n      <td>7</td>\n      <td>Kwik Chek #7</td>\n      <td>101 Hwy 69</td>\n      <td>Celeste</td>\n      <td>Hunt</td>\n      <td>TX</td>\n      <td>75423</td>\n      <td>NaN</td>\n      <td>101</td>\n    </tr>\n    <tr>\n      <th>8</th>\n      <td>8</td>\n      <td>Kwik Chek #8</td>\n      <td>308 Hwy 69</td>\n      <td>Leonard</td>\n      <td>Fannin</td>\n      <td>TX</td>\n      <td>75452</td>\n      <td>NaN</td>\n      <td>308</td>\n    </tr>\n    <tr>\n      <th>10</th>\n      <td>10</td>\n      <td>Kwik Chek #10</td>\n      <td>1741 North Hwy 121</td>\n      <td>Bonham</td>\n      <td>Fannin</td>\n      <td>TX</td>\n      <td>75418</td>\n      <td>NaN</td>\n      <td>1741</td>\n    </tr>\n    <tr>\n      <th>12</th>\n      <td>12</td>\n      <td>Kwik Chek #12</td>\n      <td>102 S Hwy 78</td>\n      <td>Achille</td>\n      <td>Bryan</td>\n      <td>OK</td>\n      <td>74720</td>\n      <td>NaN</td>\n      <td>102</td>\n    </tr>\n    <tr>\n      <th>13</th>\n      <td>13</td>\n      <td>Kwik Chek #13</td>\n      <td>102 West Main</td>\n      <td>Calera</td>\n      <td>Bryan</td>\n      <td>OK</td>\n      <td>74730</td>\n      <td>NaN</td>\n      <td>102</td>\n    </tr>\n    <tr>\n      <th>14</th>\n      <td>14</td>\n      <td>Kwik Chek #14</td>\n      <td>201 South 9th</td>\n      <td>Durant</td>\n      <td>Bryan</td>\n      <td>OK</td>\n      <td>74701</td>\n      <td>NaN</td>\n      <td>201</td>\n    </tr>\n    <tr>\n      <th>16</th>\n      <td>16</td>\n      <td>Kwik Chek #16</td>\n      <td>2320 West Main</td>\n      <td>Durant</td>\n      <td>Bryan</td>\n      <td>OK</td>\n      <td>74701</td>\n      <td>NaN</td>\n      <td>2320</td>\n    </tr>\n    <tr>\n      <th>17</th>\n      <td>17</td>\n      <td>Kwik Chek #17</td>\n      <td>13503 S State Hwy 121</td>\n      <td>Trenton</td>\n      <td>Fannin</td>\n      <td>TX</td>\n      <td>75490</td>\n      <td>NaN</td>\n      <td>13503</td>\n    </tr>\n    <tr>\n      <th>19</th>\n      <td>19</td>\n      <td>Kwik Chek #19</td>\n      <td>617 South Hwy 78</td>\n      <td>Wylie</td>\n      <td>Collin</td>\n      <td>TX</td>\n      <td>75098</td>\n      <td>NaN</td>\n      <td>617</td>\n    </tr>\n    <tr>\n      <th>20</th>\n      <td>20</td>\n      <td>Kwik Chek #20</td>\n      <td>5004 Wesley Street</td>\n      <td>Greenville</td>\n      <td>Hunt</td>\n      <td>TX</td>\n      <td>75402</td>\n      <td>NaN</td>\n      <td>5004</td>\n    </tr>\n    <tr>\n      <th>24</th>\n      <td>24</td>\n      <td>Kwik Chek #24</td>\n      <td>3812 Hwy 70</td>\n      <td>Hugo</td>\n      <td>Choctaw</td>\n      <td>OK</td>\n      <td>74743</td>\n      <td>NaN</td>\n      <td>3812</td>\n    </tr>\n    <tr>\n      <th>26</th>\n      <td>26</td>\n      <td>Kwik Chek #26</td>\n      <td>503 SW C</td>\n      <td>Antlers</td>\n      <td>Pushmataha</td>\n      <td>OK</td>\n      <td>74523</td>\n      <td>NaN</td>\n      <td>503</td>\n    </tr>\n    <tr>\n      <th>27</th>\n      <td>27</td>\n      <td>Kwik Chek #27</td>\n      <td>1005 East Main</td>\n      <td>Honey Grove</td>\n      <td>Fannin</td>\n      <td>TX</td>\n      <td>75446</td>\n      <td>NaN</td>\n      <td>1005</td>\n    </tr>\n    <tr>\n      <th>32</th>\n      <td>32</td>\n      <td>TXB 32</td>\n      <td>1001 Van Alstyne Parkway</td>\n      <td>Van Alstyne</td>\n      <td>Grayson</td>\n      <td>TX</td>\n      <td>75495</td>\n      <td>NaN</td>\n      <td>1001</td>\n    </tr>\n    <tr>\n      <th>34</th>\n      <td>34</td>\n      <td>Kwik Chek #34</td>\n      <td>2965 South Church Street</td>\n      <td>Paris</td>\n      <td>Lamar</td>\n      <td>TX</td>\n      <td>75460</td>\n      <td>NaN</td>\n      <td>2965</td>\n    </tr>\n    <tr>\n      <th>37</th>\n      <td>37</td>\n      <td>Kwik Chek #37</td>\n      <td>103 South Santa Fe</td>\n      <td>Wolfe City</td>\n      <td>Hunt</td>\n      <td>TX</td>\n      <td>75496</td>\n      <td>NaN</td>\n      <td>103</td>\n    </tr>\n    <tr>\n      <th>38</th>\n      <td>38</td>\n      <td>Kwik Chek #38</td>\n      <td>505 South Garfield</td>\n      <td>Kiowa</td>\n      <td>Pittsburg</td>\n      <td>OK</td>\n      <td>74553</td>\n      <td>NaN</td>\n      <td>505</td>\n    </tr>\n    <tr>\n      <th>50</th>\n      <td>50</td>\n      <td>Kwik Chek #50</td>\n      <td>3002 Thorton Lane</td>\n      <td>Temple</td>\n      <td>Bell</td>\n      <td>TX</td>\n      <td>76502</td>\n      <td>NaN</td>\n      <td>3002</td>\n    </tr>\n    <tr>\n      <th>52</th>\n      <td>52</td>\n      <td>Kwik Chek #52</td>\n      <td>1003 Hwy 1431 West</td>\n      <td>Marble Falls</td>\n      <td>Burnet</td>\n      <td>TX</td>\n      <td>78654</td>\n      <td>NaN</td>\n      <td>1003</td>\n    </tr>\n    <tr>\n      <th>53</th>\n      <td>53</td>\n      <td>Kwik Chek #53</td>\n      <td>1301 Hwy 281 North</td>\n      <td>Marble Falls</td>\n      <td>Burnet</td>\n      <td>TX</td>\n      <td>78654</td>\n      <td>NaN</td>\n      <td>1301</td>\n    </tr>\n    <tr>\n      <th>54</th>\n      <td>54</td>\n      <td>Kwik Chek #54</td>\n      <td>201 Hwy 281 &amp; Hwy 290</td>\n      <td>Johnson City</td>\n      <td>Blanco</td>\n      <td>TX</td>\n      <td>78636</td>\n      <td>NaN</td>\n      <td>201</td>\n    </tr>\n    <tr>\n      <th>55</th>\n      <td>55</td>\n      <td>Kwik Chek #55</td>\n      <td>14417-A Hwy 71 West</td>\n      <td>Austin</td>\n      <td>Travis</td>\n      <td>TX</td>\n      <td>78738</td>\n      <td>NaN</td>\n      <td>14417</td>\n    </tr>\n    <tr>\n      <th>57</th>\n      <td>57</td>\n      <td>Kwik Chek #57</td>\n      <td>14620 Ranch Road 12</td>\n      <td>Wimberley</td>\n      <td>Hays</td>\n      <td>TX</td>\n      <td>78676</td>\n      <td>NaN</td>\n      <td>14620</td>\n    </tr>\n    <tr>\n      <th>59</th>\n      <td>59</td>\n      <td>Kwik Chek #59</td>\n      <td>440 Bandera Road</td>\n      <td>Boerne</td>\n      <td>Kendall</td>\n      <td>TX</td>\n      <td>78006</td>\n      <td>NaN</td>\n      <td>440</td>\n    </tr>\n    <tr>\n      <th>60</th>\n      <td>60</td>\n      <td>Kwik Chek #60</td>\n      <td>13006 Bandera Road</td>\n      <td>Helotes</td>\n      <td>Bexar</td>\n      <td>TX</td>\n      <td>78023</td>\n      <td>NaN</td>\n      <td>13006</td>\n    </tr>\n    <tr>\n      <th>61</th>\n      <td>61</td>\n      <td>Kwik Chek #61</td>\n      <td>1001 Hwy 16 South</td>\n      <td>Fredericksburg</td>\n      <td>Gillespie</td>\n      <td>TX</td>\n      <td>78624</td>\n      <td>NaN</td>\n      <td>1001</td>\n    </tr>\n    <tr>\n      <th>62</th>\n      <td>62</td>\n      <td>Kwik Chek #62</td>\n      <td>21024 Hwy 71 W</td>\n      <td>Spicewood</td>\n      <td>Travis</td>\n      <td>TX</td>\n      <td>78669</td>\n      <td>NaN</td>\n      <td>21024</td>\n    </tr>\n    <tr>\n      <th>63</th>\n      <td>63</td>\n      <td>TXB 63</td>\n      <td>15701 W SH 71</td>\n      <td>Bee Cave</td>\n      <td>Travis</td>\n      <td>TX</td>\n      <td>78738</td>\n      <td>NaN</td>\n      <td>15701</td>\n    </tr>\n    <tr>\n      <th>64</th>\n      <td>64</td>\n      <td>Kwik Chek #64</td>\n      <td>2103 Ranch Road 620 South</td>\n      <td>Lakeway</td>\n      <td>Travis</td>\n      <td>TX</td>\n      <td>78734</td>\n      <td>NaN</td>\n      <td>2103</td>\n    </tr>\n    <tr>\n      <th>65</th>\n      <td>65</td>\n      <td>Kwik Chek #65</td>\n      <td>1402 Williams Drive</td>\n      <td>Georgetown</td>\n      <td>Williamson</td>\n      <td>TX</td>\n      <td>78628</td>\n      <td>NaN</td>\n      <td>1402</td>\n    </tr>\n    <tr>\n      <th>66</th>\n      <td>66</td>\n      <td>Kwik Chek #66</td>\n      <td>15411 East State Hwy 29</td>\n      <td>Buchanan Dam</td>\n      <td>Llano</td>\n      <td>TX</td>\n      <td>78609</td>\n      <td>NaN</td>\n      <td>15411</td>\n    </tr>\n    <tr>\n      <th>67</th>\n      <td>67</td>\n      <td>TXB 67</td>\n      <td>3702 West FM 2147</td>\n      <td>Cottonwood Shores</td>\n      <td>Llano</td>\n      <td>TX</td>\n      <td>78657</td>\n      <td>NaN</td>\n      <td>3702</td>\n    </tr>\n    <tr>\n      <th>68</th>\n      <td>68</td>\n      <td>Kwik Chek #68</td>\n      <td>145 Lehman Road</td>\n      <td>Kyle</td>\n      <td>Hays</td>\n      <td>TX</td>\n      <td>78640</td>\n      <td>Not Open Yet</td>\n      <td>145</td>\n    </tr>\n    <tr>\n      <th>69</th>\n      <td>69</td>\n      <td>TXB 69</td>\n      <td>8103 RR 2243</td>\n      <td>Leander</td>\n      <td>Williamson</td>\n      <td>TX</td>\n      <td>78641</td>\n      <td>NaN</td>\n      <td>8103</td>\n    </tr>\n    <tr>\n      <th>70</th>\n      <td>70</td>\n      <td>Kwik Chek #70</td>\n      <td>800 IH 20 West</td>\n      <td>Big Spring</td>\n      <td>Howard</td>\n      <td>TX</td>\n      <td>79720</td>\n      <td>NaN</td>\n      <td>800</td>\n    </tr>\n    <tr>\n      <th>71</th>\n      <td>71</td>\n      <td>TXB 71</td>\n      <td>2503 Rankin Hwy</td>\n      <td>Midland</td>\n      <td>Midland</td>\n      <td>TX</td>\n      <td>79706</td>\n      <td>NaN</td>\n      <td>2503</td>\n    </tr>\n    <tr>\n      <th>72</th>\n      <td>72</td>\n      <td>TXB 72</td>\n      <td>2104 East William Joel Bryan Parkway</td>\n      <td>Bryan</td>\n      <td>Brazos</td>\n      <td>TX</td>\n      <td>77802</td>\n      <td>Not Open Yet</td>\n      <td>2104</td>\n    </tr>\n    <tr>\n      <th>73</th>\n      <td>73</td>\n      <td>TXB 73</td>\n      <td>3071 University Drive East</td>\n      <td>Bryan</td>\n      <td>Brazos</td>\n      <td>TX</td>\n      <td>77840</td>\n      <td>Not Open Yet</td>\n      <td>3071</td>\n    </tr>\n    <tr>\n      <th>79</th>\n      <td>79</td>\n      <td>Kwik Chek #79</td>\n      <td>500 W Thorton Street</td>\n      <td>Three Rivers</td>\n      <td>Live Oak</td>\n      <td>TX</td>\n      <td>78071</td>\n      <td>NaN</td>\n      <td>500</td>\n    </tr>\n    <tr>\n      <th>80</th>\n      <td>80</td>\n      <td>Kwik Chek #80</td>\n      <td>801 West Lafayette</td>\n      <td>Laredo</td>\n      <td>Webb</td>\n      <td>TX</td>\n      <td>78041</td>\n      <td>NaN</td>\n      <td>801</td>\n    </tr>\n    <tr>\n      <th>81</th>\n      <td>81</td>\n      <td>Kwik Chek #81</td>\n      <td>7045 North IH 35</td>\n      <td>Laredo</td>\n      <td>Webb</td>\n      <td>TX</td>\n      <td>78041</td>\n      <td>NaN</td>\n      <td>7045</td>\n    </tr>\n    <tr>\n      <th>82</th>\n      <td>82</td>\n      <td>Kwik Chek #82</td>\n      <td>780 Carter Street</td>\n      <td>Asherton</td>\n      <td>Dimmit</td>\n      <td>TX</td>\n      <td>78827</td>\n      <td>NaN</td>\n      <td>780</td>\n    </tr>\n    <tr>\n      <th>83</th>\n      <td>83</td>\n      <td>Kwik Chek #83</td>\n      <td>401 N 1st Street</td>\n      <td>Carrizo Springs</td>\n      <td>Dimmit</td>\n      <td>TX</td>\n      <td>78834</td>\n      <td>NaN</td>\n      <td>401</td>\n    </tr>\n    <tr>\n      <th>84</th>\n      <td>84</td>\n      <td>Kwik Chek #84</td>\n      <td>1000 N 9th Street</td>\n      <td>Carrizo Springs</td>\n      <td>Dimmit</td>\n      <td>TX</td>\n      <td>78834</td>\n      <td>NaN</td>\n      <td>1000</td>\n    </tr>\n    <tr>\n      <th>85</th>\n      <td>85</td>\n      <td>Kwik Chek #85</td>\n      <td>1901 N US Hwy 83</td>\n      <td>Crystal City</td>\n      <td>Zavala</td>\n      <td>TX</td>\n      <td>78839</td>\n      <td>NaN</td>\n      <td>1901</td>\n    </tr>\n    <tr>\n      <th>86</th>\n      <td>86</td>\n      <td>Kwik Chek #86</td>\n      <td>1900 N US Hwy 83</td>\n      <td>Crystal City</td>\n      <td>Zavala</td>\n      <td>TX</td>\n      <td>78839</td>\n      <td>NaN</td>\n      <td>1900</td>\n    </tr>\n    <tr>\n      <th>87</th>\n      <td>87</td>\n      <td>Kwik Chek #87</td>\n      <td>481 W US Hwy 57</td>\n      <td>La Pryor</td>\n      <td>Zavala</td>\n      <td>TX</td>\n      <td>78872</td>\n      <td>NaN</td>\n      <td>481</td>\n    </tr>\n    <tr>\n      <th>88</th>\n      <td>88</td>\n      <td>Kwik Chek #88</td>\n      <td>2757 N Veterans Blvd</td>\n      <td>Eagle Pass</td>\n      <td>Maverick</td>\n      <td>TX</td>\n      <td>78852</td>\n      <td>NaN</td>\n      <td>2757</td>\n    </tr>\n    <tr>\n      <th>89</th>\n      <td>89</td>\n      <td>Kwik Chek #89</td>\n      <td>2196 El Indio Hwy</td>\n      <td>Eagle Pass</td>\n      <td>Maverick</td>\n      <td>TX</td>\n      <td>78852</td>\n      <td>NaN</td>\n      <td>2196</td>\n    </tr>\n  </tbody>\n</table>\n</div>"
     },
     "execution_count": 17,
     "metadata": {},
     "output_type": "execute_result"
    }
   ],
   "source": [
    "def read_masterdataset_excel():\n",
    "    master_df = pd.read_excel(master_dataset_file_path, index_col=0)\n",
    "    return master_df\n",
    "\n",
    "master_df = read_masterdataset_excel()\n",
    "# master_df\n",
    "\n",
    "\n",
    "def add_cols_to_masterset_df(master_df):\n",
    "    # Create pattern for street_num col\n",
    "    street_num_pattern = r'(?P<street_num>\\b\\d{3,5}\\b)'\n",
    "    street_num_df = master_df['Address'].str.extract(street_num_pattern)\n",
    "\n",
    "    # Add street_num col to df\n",
    "    master_df = pd.concat([master_df, street_num_df], axis=1)\n",
    "\n",
    "    # Cast int64 default dtype cols to strings for proper JOINs\n",
    "    master_df['Site #'] = master_df['Site #'].astype(str)\n",
    "    master_df['Zip'] = master_df['Zip'].astype(str)\n",
    "    master_df['street_num'] = master_df['street_num'].astype(str)\n",
    "    return master_df\n",
    "\n",
    "master_df = add_cols_to_masterset_df(master_df)\n",
    "master_df"
   ],
   "metadata": {
    "collapsed": false,
    "ExecuteTime": {
     "end_time": "2023-10-04T04:30:30.411021Z",
     "start_time": "2023-10-04T04:30:30.374993Z"
    }
   },
   "id": "7995692a2bcfb9d2"
  },
  {
   "cell_type": "code",
   "execution_count": 20,
   "outputs": [
    {
     "name": "stdout",
     "output_type": "stream",
     "text": [
      "{'Order': '92022795', 'Delivered': 'The order was delivered at 11:45 PM on October 2, 2023.', 'Pick Up Location': '800 W Interstate 20, Big Spring, TX 79720, USA', 'Order Details': {'1 × Barcel Takis Fuego Hot Chili Pepper & Lime Corn Snacks (4 oz) (Chips & Popcorn TX)': '$4.19', ' 1 × Hostess Powdered Donettes Bag (10.5oz) (Donuts TX)': '$6.39', ' 1 × Big Red Bottle (20oz) (Soda TX)': '$3.79', ' 1 × Cheetos Crunchy Jalapeno (8.5 oz) (Chips & Popcorn TX)': '$3.19'}, 'Subtotal': '$17.56', 'Subtotal Tax': '$0.31', 'Commission (23%)': '-$4.04', 'Total Customer Refund': '-$0.00', 'Estimated Payout': '$13.83', 'Transaction #8120214500 - Delivery': '$13.83'}\n",
      "{'Order': '3286DC34', 'Delivered': 'The order was delivered at 11:45 PM on October 2, 2023.', 'Pick Up Location': '145 Lehman Rd, Kyle, TX 78640, USA', 'Order Details': {\"1 × Ben & Jerry's Chunky Monkey Ice Cream (16 oz) (Ice Cream TX)\": '$12.49'}, 'Subtotal': '$12.49', 'Subtotal Tax': '$0.00', 'Commission (23%)': '-$2.87', 'Total Customer Refund': '-$0.00', 'Estimated Payout': '$9.62', 'Transaction #8120252453 - Delivery': '$9.62'}\n",
      "{'Order': 'F9A3C1CE', 'Delivered': 'The order was delivered at 11:36 PM on October 2, 2023.', 'Pick Up Location': '800 W Interstate 20, Big Spring, TX 79720, USA', 'Order Details': {'1 × Coors Original Beer Bottle (12oz x 6ct) (Domestic Beer 70)': '$13.79'}, 'Subtotal': '$13.79', 'Subtotal Tax': '$1.14', 'Commission (16%)': '-$2.21', 'Total Customer Refund': '-$0.00', 'Estimated Payout': '$12.72', 'Transaction #8120214907 - Delivery': '$12.72'}\n",
      "{'Order': '8BE8532F', 'Delivered': 'The order was delivered at 11:14 PM on October 2, 2023.', 'Pick Up Location': '14620 Ranch Rd 12, Wimberley, TX 78676, USA', 'Order Details': {'1 × Chicken Tender Meal Kit (Meal Kits TXB#57)': '$9.19', ' 3 × Cayman Jack Margarita Can (19 oz) (Flavored Malt Beverages CT)': '$17.07'}, 'Subtotal': '$26.26', 'Subtotal Tax': '$2.17', 'Commission (23%)': '-$6.04', 'Total Customer Refund': '-$0.00', 'Estimated Payout': '$22.39', 'Transaction #8119974498 - Delivery': '$22.39'}\n",
      "{'Order': 'D7BD216C', 'Delivered': 'The order was delivered at 11:05 PM on October 2, 2023.', 'Pick Up Location': '5004 Wesley St, Greenville, TX 75402, USA', 'Order Details': {'1 × Michelob Ultra Light Beer Can (12 oz x 6 ct) (Domestic Beer NT)': '$16.29'}, 'Subtotal': '$16.29', 'Subtotal Tax': '$1.34', 'Commission (23%)': '-$3.75', 'Total Customer Refund': '-$0.00', 'Estimated Payout': '$13.88', 'Transaction #8120073615 - Delivery': '$13.88'}\n",
      "{'Order': '8C4F6250', 'Delivered': 'The order was delivered at 5:30 PM on October 2, 2023.', 'Pick Up Location': '816 N Center St, Bonham, TX 75418, USA', 'Order Details': {'1 × Coors Light Beer Can (12 oz x 18 ct) (Domestic Beer NT)': '$28.79'}, 'Subtotal': '$28.79', 'Subtotal Tax': '$2.38', 'Commission (16%)': '-$4.61', 'Total Customer Refund': '-$0.00', 'Estimated Payout': '$26.56', 'Transaction #8117259781 - Delivery': '$26.56'}\n",
      "{'Order': '0ED5F1C8', 'Delivered': 'The order was delivered at 4:12 PM on October 2, 2023.', 'Pick Up Location': '816 N Center St, Bonham, TX 75418, USA', 'Order Details': {'1 × Coors Light Beer Can (12 oz x 18 ct) (Domestic Beer NT)': '$28.79'}, 'Subtotal': '$28.79', 'Subtotal Tax': '$2.38', 'Commission (16%)': '-$4.61', 'Total Customer Refund': '-$0.00', 'Estimated Payout': '$26.56', 'Transaction #8116747084 - Delivery': '$26.56'}\n",
      "{'Order': '60BF65AB', 'Delivered': 'The order was delivered at 2:45 PM on October 2, 2023.', 'Pick Up Location': '13006 Bandera Rd, Helotes, TX 78023, USA', 'Order Details': {'2 × Twisted Tea Hard Iced Tea Cocktail Original (24 oz) (Flavored Malt Beverages 60)': '$11.38', ' 2 × Ice Small (Fountain, Frozen, & Tea)': '$9.98'}, 'Subtotal': '$21.36', 'Subtotal Tax': '$1.71', 'Commission (16%)': '-$3.42', 'Total Customer Refund': '-$0.00', 'Estimated Payout': '$19.65', 'Transaction #8116125108 - Delivery': '$19.65'}\n",
      "{'Order': 'C032FE0A', 'Delivered': 'The order was delivered at 9:24 AM on October 2, 2023.', 'Pick Up Location': '1301 N U.S. Hwy 281, Marble Falls, TX 78654, USA', 'Order Details': {'1 × Potato Egg Cheese Taco (Breakfast Tacos & Quesadillas)': '$4.69', ' 1 × Sausage Egg Cheese Taco (Breakfast Tacos & Quesadillas)': '$3.79', ' 1 × C4 Frozen Bombscicle Can (16oz) (Energy Drinks TX)': '$4.79', ' 1 × C4 Skittles Can (16oz) (Energy Drinks TX)': '$4.79', ' 1 × C4 Starburst Cherry Can (16oz) (Energy Drinks TX)': '$4.79', ' 1 × Bacon Egg Cheese Taco (Breakfast Tacos & Quesadillas)': '$4.69', ' 1 × Breakfast Quesadilla (Breakfast Tacos & Quesadillas)': '$7.49'}, 'Subtotal': '$35.03', 'Subtotal Tax': '$2.89', 'Commission (25%)': '-$8.76', 'Total Customer Refund': '-$0.00', 'Estimated Payout': '$29.16', 'Transaction #8114283446 - Delivery': '$29.16'}\n",
      "{'Order': '7DE4AD15', 'Delivered': 'The order was delivered at 9:21 AM on October 2, 2023.', 'Pick Up Location': '1741 TX-121, Bonham, TX 75418, USA', 'Order Details': {'1 × Chex Mix Cheddar (3.75 oz) (Crackers & Pretzels TX)': '$4.39', ' 1 × Chicken Tender Meal Kit (Meal Kits TXB#10)': '$9.19', ' Subtotal for Tax Calculations': '$13.58'}, 'Subtotal Tax': '$0.76', 'Commission (25%)': '-$3.40', 'Total Customer Refund': '-$0.00', 'Estimated Payout': '$10.94', 'Transaction #8114267746 - Delivery': '$10.94'}\n",
      "{'Order': 'AF6DBE37', 'Delivered': 'The order was delivered at 7:46 AM on October 2, 2023.', 'Pick Up Location': '2320 W Main St, Durant, OK 74701, USA', 'Order Details': {'1 × Coke Classic Bottle (20oz) (Soda OK)': '$3.19', ' 1 × TXB Coffee or Cappuccino (20 oz) (Brewed Coffee) Flavor: TXB Southern Pecan Coffee': '$0.00', ' 2 × Red Bull Energy Drink Can (12 oz) (Energy Drinks OK)': '$11.58'}, 'Subtotal': '$14.77', 'Subtotal Tax': '$1.38', 'Commission (23%)': '-$3.40', 'Total Customer Refund': '-$0.00', 'Estimated Payout': '$11.37', 'Transaction #8114014205 - Delivery': '$11.37'}\n",
      "{'Order': 'D84A9C02', 'Cancelled - Paid': 'The order was cancelled on October 2, 2023 at 6:13 AM. You’re paid for cancelled orders when you’ve successfully confirmed an order, it was prepared, and you did not initiate or are not at fault for the cancellation.', 'Pick Up Location': '14620 Ranch Rd 12, Wimberley, TX 78676, USA', 'Order Details': {'4 × Cayman Jack Margarita Can (19 oz) (Flavored Malt Beverages CT)': '$22.76'}, 'Subtotal': '$22.76', 'Subtotal Tax': '$1.88', 'Commission (23%)': '-$5.23', 'Total Customer Refund': '-$0.00', 'Estimated Payout': '$19.41', 'Transaction #8113899308 - Delivery': '$19.41'}\n",
      "{'Order': '91EC3C1E', 'Delivered': 'The order was delivered at 2:45 AM on October 2, 2023.', 'Pick Up Location': '801 Lafayette St, Laredo, TX 78041, USA', 'Order Details': {\"1 × M&M's Peanut King Size (3.27 oz) (Chocolate TX)\": '$3.79', \" 1 × Cheetos Crunchy Flamin' Hot Limon (8.5 oz) (Chips & Popcorn TX)\": '$6.49', ' 1 × Cheetos Crunchy Jalapeno (8.5 oz) (Chips & Popcorn TX)': '$3.19'}, 'Subtotal': '$13.47', 'Subtotal Tax': '$0.31', 'Commission (16%)': '-$2.16', 'Total Customer Refund': '-$0.00', 'Estimated Payout': '$11.62', 'Transaction #8113712869 - Delivery': '$11.62'}\n",
      "{'Order': '4761F061', 'Cancelled - Not Paid': 'The order was cancelled on October 2, 2023 at 12:51 AM. You were not paid because the order was not able to be placed.', 'Pick Up Location': '2196 El Indio Hwy, Eagle Pass, TX 78852, USA', 'Order Details': {\"1 × Cheetos Crunchy Flamin' Hot Limon (8.5 oz) (Chips & Popcorn TX)\": '$6.49', ' 1 × Fountain Drink (Fountain, Frozen, & Tea) Drink Selection: Gatorade Lemon-Lime': '$0.00'}, 'Subtotal': '$6.49', 'Subtotal Tax': '$0.00', 'Commission (20%)': '-$1.30', 'Total Customer Refund': '-$0.00', 'Estimated Payout': '$0.00'}\n",
      "{'Order': '234FE808', 'Delivered': 'The order was delivered at 12:26 AM on October 2, 2023.', 'Pick Up Location': '801 Lafayette St, Laredo, TX 78041, USA', 'Order Details': {'1 × Pepsi Can (12pk 12oz) (Soda TX)': '$11.29', ' 1 × Fountain Drink (Fountain, Frozen, & Tea) Drink Selection: Coke': '$0.00', ' 1 × Ice Small (Fountain, Frozen, & Tea)': '$4.99'}, 'Subtotal': '$16.28', 'Subtotal Tax': '$1.34', 'Commission (16%)': '-$2.60', 'Total Customer Refund': '-$0.00', 'Estimated Payout': '$15.02', 'Transaction #8113483337 - Delivery': '$15.02'}\n"
     ]
    },
    {
     "data": {
      "text/plain": "[{'Order': '92022795',\n  'Delivered': 'The order was delivered at 11:45 PM on October 2, 2023.',\n  'Pick Up Location': '800 W Interstate 20, Big Spring, TX 79720, USA',\n  'Order Details': {'1 × Barcel Takis Fuego Hot Chili Pepper & Lime Corn Snacks (4 oz) (Chips & Popcorn TX)': '$4.19',\n   ' 1 × Hostess Powdered Donettes Bag (10.5oz) (Donuts TX)': '$6.39',\n   ' 1 × Big Red Bottle (20oz) (Soda TX)': '$3.79',\n   ' 1 × Cheetos Crunchy Jalapeno (8.5 oz) (Chips & Popcorn TX)': '$3.19'},\n  'Subtotal': '$17.56',\n  'Subtotal Tax': '$0.31',\n  'Commission (23%)': '-$4.04',\n  'Total Customer Refund': '-$0.00',\n  'Estimated Payout': '$13.83',\n  'Transaction #8120214500 - Delivery': '$13.83'},\n {'Order': '3286DC34',\n  'Delivered': 'The order was delivered at 11:45 PM on October 2, 2023.',\n  'Pick Up Location': '145 Lehman Rd, Kyle, TX 78640, USA',\n  'Order Details': {\"1 × Ben & Jerry's Chunky Monkey Ice Cream (16 oz) (Ice Cream TX)\": '$12.49'},\n  'Subtotal': '$12.49',\n  'Subtotal Tax': '$0.00',\n  'Commission (23%)': '-$2.87',\n  'Total Customer Refund': '-$0.00',\n  'Estimated Payout': '$9.62',\n  'Transaction #8120252453 - Delivery': '$9.62'},\n {'Order': 'F9A3C1CE',\n  'Delivered': 'The order was delivered at 11:36 PM on October 2, 2023.',\n  'Pick Up Location': '800 W Interstate 20, Big Spring, TX 79720, USA',\n  'Order Details': {'1 × Coors Original Beer Bottle (12oz x 6ct) (Domestic Beer 70)': '$13.79'},\n  'Subtotal': '$13.79',\n  'Subtotal Tax': '$1.14',\n  'Commission (16%)': '-$2.21',\n  'Total Customer Refund': '-$0.00',\n  'Estimated Payout': '$12.72',\n  'Transaction #8120214907 - Delivery': '$12.72'},\n {'Order': '8BE8532F',\n  'Delivered': 'The order was delivered at 11:14 PM on October 2, 2023.',\n  'Pick Up Location': '14620 Ranch Rd 12, Wimberley, TX 78676, USA',\n  'Order Details': {'1 × Chicken Tender Meal Kit (Meal Kits TXB#57)': '$9.19',\n   ' 3 × Cayman Jack Margarita Can (19 oz) (Flavored Malt Beverages CT)': '$17.07'},\n  'Subtotal': '$26.26',\n  'Subtotal Tax': '$2.17',\n  'Commission (23%)': '-$6.04',\n  'Total Customer Refund': '-$0.00',\n  'Estimated Payout': '$22.39',\n  'Transaction #8119974498 - Delivery': '$22.39'},\n {'Order': 'D7BD216C',\n  'Delivered': 'The order was delivered at 11:05 PM on October 2, 2023.',\n  'Pick Up Location': '5004 Wesley St, Greenville, TX 75402, USA',\n  'Order Details': {'1 × Michelob Ultra Light Beer Can (12 oz x 6 ct) (Domestic Beer NT)': '$16.29'},\n  'Subtotal': '$16.29',\n  'Subtotal Tax': '$1.34',\n  'Commission (23%)': '-$3.75',\n  'Total Customer Refund': '-$0.00',\n  'Estimated Payout': '$13.88',\n  'Transaction #8120073615 - Delivery': '$13.88'},\n {'Order': '8C4F6250',\n  'Delivered': 'The order was delivered at 5:30 PM on October 2, 2023.',\n  'Pick Up Location': '816 N Center St, Bonham, TX 75418, USA',\n  'Order Details': {'1 × Coors Light Beer Can (12 oz x 18 ct) (Domestic Beer NT)': '$28.79'},\n  'Subtotal': '$28.79',\n  'Subtotal Tax': '$2.38',\n  'Commission (16%)': '-$4.61',\n  'Total Customer Refund': '-$0.00',\n  'Estimated Payout': '$26.56',\n  'Transaction #8117259781 - Delivery': '$26.56'},\n {'Order': '0ED5F1C8',\n  'Delivered': 'The order was delivered at 4:12 PM on October 2, 2023.',\n  'Pick Up Location': '816 N Center St, Bonham, TX 75418, USA',\n  'Order Details': {'1 × Coors Light Beer Can (12 oz x 18 ct) (Domestic Beer NT)': '$28.79'},\n  'Subtotal': '$28.79',\n  'Subtotal Tax': '$2.38',\n  'Commission (16%)': '-$4.61',\n  'Total Customer Refund': '-$0.00',\n  'Estimated Payout': '$26.56',\n  'Transaction #8116747084 - Delivery': '$26.56'},\n {'Order': '60BF65AB',\n  'Delivered': 'The order was delivered at 2:45 PM on October 2, 2023.',\n  'Pick Up Location': '13006 Bandera Rd, Helotes, TX 78023, USA',\n  'Order Details': {'2 × Twisted Tea Hard Iced Tea Cocktail Original (24 oz) (Flavored Malt Beverages 60)': '$11.38',\n   ' 2 × Ice Small (Fountain, Frozen, & Tea)': '$9.98'},\n  'Subtotal': '$21.36',\n  'Subtotal Tax': '$1.71',\n  'Commission (16%)': '-$3.42',\n  'Total Customer Refund': '-$0.00',\n  'Estimated Payout': '$19.65',\n  'Transaction #8116125108 - Delivery': '$19.65'},\n {'Order': 'C032FE0A',\n  'Delivered': 'The order was delivered at 9:24 AM on October 2, 2023.',\n  'Pick Up Location': '1301 N U.S. Hwy 281, Marble Falls, TX 78654, USA',\n  'Order Details': {'1 × Potato Egg Cheese Taco (Breakfast Tacos & Quesadillas)': '$4.69',\n   ' 1 × Sausage Egg Cheese Taco (Breakfast Tacos & Quesadillas)': '$3.79',\n   ' 1 × C4 Frozen Bombscicle Can (16oz) (Energy Drinks TX)': '$4.79',\n   ' 1 × C4 Skittles Can (16oz) (Energy Drinks TX)': '$4.79',\n   ' 1 × C4 Starburst Cherry Can (16oz) (Energy Drinks TX)': '$4.79',\n   ' 1 × Bacon Egg Cheese Taco (Breakfast Tacos & Quesadillas)': '$4.69',\n   ' 1 × Breakfast Quesadilla (Breakfast Tacos & Quesadillas)': '$7.49'},\n  'Subtotal': '$35.03',\n  'Subtotal Tax': '$2.89',\n  'Commission (25%)': '-$8.76',\n  'Total Customer Refund': '-$0.00',\n  'Estimated Payout': '$29.16',\n  'Transaction #8114283446 - Delivery': '$29.16'},\n {'Order': '7DE4AD15',\n  'Delivered': 'The order was delivered at 9:21 AM on October 2, 2023.',\n  'Pick Up Location': '1741 TX-121, Bonham, TX 75418, USA',\n  'Order Details': {'1 × Chex Mix Cheddar (3.75 oz) (Crackers & Pretzels TX)': '$4.39',\n   ' 1 × Chicken Tender Meal Kit (Meal Kits TXB#10)': '$9.19',\n   ' Subtotal for Tax Calculations': '$13.58'},\n  'Subtotal Tax': '$0.76',\n  'Commission (25%)': '-$3.40',\n  'Total Customer Refund': '-$0.00',\n  'Estimated Payout': '$10.94',\n  'Transaction #8114267746 - Delivery': '$10.94'},\n {'Order': 'AF6DBE37',\n  'Delivered': 'The order was delivered at 7:46 AM on October 2, 2023.',\n  'Pick Up Location': '2320 W Main St, Durant, OK 74701, USA',\n  'Order Details': {'1 × Coke Classic Bottle (20oz) (Soda OK)': '$3.19',\n   ' 1 × TXB Coffee or Cappuccino (20 oz) (Brewed Coffee) Flavor: TXB Southern Pecan Coffee': '$0.00',\n   ' 2 × Red Bull Energy Drink Can (12 oz) (Energy Drinks OK)': '$11.58'},\n  'Subtotal': '$14.77',\n  'Subtotal Tax': '$1.38',\n  'Commission (23%)': '-$3.40',\n  'Total Customer Refund': '-$0.00',\n  'Estimated Payout': '$11.37',\n  'Transaction #8114014205 - Delivery': '$11.37'},\n {'Order': 'D84A9C02',\n  'Cancelled - Paid': 'The order was cancelled on October 2, 2023 at 6:13 AM. You’re paid for cancelled orders when you’ve successfully confirmed an order, it was prepared, and you did not initiate or are not at fault for the cancellation.',\n  'Pick Up Location': '14620 Ranch Rd 12, Wimberley, TX 78676, USA',\n  'Order Details': {'4 × Cayman Jack Margarita Can (19 oz) (Flavored Malt Beverages CT)': '$22.76'},\n  'Subtotal': '$22.76',\n  'Subtotal Tax': '$1.88',\n  'Commission (23%)': '-$5.23',\n  'Total Customer Refund': '-$0.00',\n  'Estimated Payout': '$19.41',\n  'Transaction #8113899308 - Delivery': '$19.41'},\n {'Order': '91EC3C1E',\n  'Delivered': 'The order was delivered at 2:45 AM on October 2, 2023.',\n  'Pick Up Location': '801 Lafayette St, Laredo, TX 78041, USA',\n  'Order Details': {\"1 × M&M's Peanut King Size (3.27 oz) (Chocolate TX)\": '$3.79',\n   \" 1 × Cheetos Crunchy Flamin' Hot Limon (8.5 oz) (Chips & Popcorn TX)\": '$6.49',\n   ' 1 × Cheetos Crunchy Jalapeno (8.5 oz) (Chips & Popcorn TX)': '$3.19'},\n  'Subtotal': '$13.47',\n  'Subtotal Tax': '$0.31',\n  'Commission (16%)': '-$2.16',\n  'Total Customer Refund': '-$0.00',\n  'Estimated Payout': '$11.62',\n  'Transaction #8113712869 - Delivery': '$11.62'},\n {'Order': '4761F061',\n  'Cancelled - Not Paid': 'The order was cancelled on October 2, 2023 at 12:51 AM. You were not paid because the order was not able to be placed.',\n  'Pick Up Location': '2196 El Indio Hwy, Eagle Pass, TX 78852, USA',\n  'Order Details': {\"1 × Cheetos Crunchy Flamin' Hot Limon (8.5 oz) (Chips & Popcorn TX)\": '$6.49',\n   ' 1 × Fountain Drink (Fountain, Frozen, & Tea) Drink Selection: Gatorade Lemon-Lime': '$0.00'},\n  'Subtotal': '$6.49',\n  'Subtotal Tax': '$0.00',\n  'Commission (20%)': '-$1.30',\n  'Total Customer Refund': '-$0.00',\n  'Estimated Payout': '$0.00'},\n {'Order': '234FE808',\n  'Delivered': 'The order was delivered at 12:26 AM on October 2, 2023.',\n  'Pick Up Location': '801 Lafayette St, Laredo, TX 78041, USA',\n  'Order Details': {'1 × Pepsi Can (12pk 12oz) (Soda TX)': '$11.29',\n   ' 1 × Fountain Drink (Fountain, Frozen, & Tea) Drink Selection: Coke': '$0.00',\n   ' 1 × Ice Small (Fountain, Frozen, & Tea)': '$4.99'},\n  'Subtotal': '$16.28',\n  'Subtotal Tax': '$1.34',\n  'Commission (16%)': '-$2.60',\n  'Total Customer Refund': '-$0.00',\n  'Estimated Payout': '$15.02',\n  'Transaction #8113483337 - Delivery': '$15.02'}]"
     },
     "execution_count": 20,
     "metadata": {},
     "output_type": "execute_result"
    }
   ],
   "source": [
    "# todo: logic to clean up data for instances of \"        \"Order\": \"No Delivery has been found.\"\n",
    "\n",
    "def remove_incomplete_orders(orders):\n",
    "    complete_orders = []\n",
    "    for order in orders:\n",
    "        print(order)\n",
    "        if len(order) >= 7:\n",
    "            complete_orders.append(order)\n",
    "    return complete_orders\n",
    "\n",
    "orders = remove_incomplete_orders(orders_json)\n",
    "orders\n"
   ],
   "metadata": {
    "collapsed": false,
    "ExecuteTime": {
     "end_time": "2023-10-04T04:41:07.265884Z",
     "start_time": "2023-10-04T04:41:07.254948Z"
    }
   },
   "id": "45552e4883b0c2f3"
  },
  {
   "cell_type": "code",
   "execution_count": 15,
   "outputs": [
    {
     "name": "stdout",
     "output_type": "stream",
     "text": [
      "<class 'dict'>\n",
      "<class 'dict'>\n",
      "<class 'dict'>\n",
      "<class 'dict'>\n",
      "<class 'dict'>\n",
      "<class 'dict'>\n",
      "<class 'dict'>\n",
      "<class 'dict'>\n",
      "<class 'dict'>\n",
      "<class 'dict'>\n",
      "<class 'dict'>\n",
      "<class 'dict'>\n",
      "<class 'dict'>\n",
      "<class 'dict'>\n",
      "<class 'dict'>\n",
      "<class 'dict'>\n",
      "<class 'dict'>\n"
     ]
    },
    {
     "data": {
      "text/plain": "{'42C2A525': '5004 Wesley St, Greenville, TX 75402, USA',\n 'AA85B890': '5004 Wesley St, Greenville, TX 75402, USA',\n '773C7330': '5004 Wesley St, Greenville, TX 75402, USA',\n 'EDCB46B1': '1001 W Van Alstyne Pkwy, Van Alstyne, TX 75495, USA',\n '68944F97': '800 W Interstate 20, Big Spring, TX 79720, USA',\n 'ED39CFE2': '1301 N U.S. Hwy 281, Marble Falls, TX 78654, USA',\n '78BAE2F8': '1001 S State Hwy 16, Fredericksburg, TX 78624, USA',\n 'DE4528F2': '2320 W Main St, Durant, OK 74701, USA',\n 'F5539B37': '3702 FM2147, Horseshoe Bay, TX 78657, USA',\n 'FE329688': '800 W Interstate 20, Big Spring, TX 79720, USA',\n 'C5A903F0': '2503 TX-349, Midland, TX 79706, USA',\n '782881C7': '145 Lehman Rd, Kyle, TX 78640, USA',\n 'ECCAB249': '1402 Williams Dr, Georgetown, TX 78628, USA',\n '8E90EF84': '21024 W, 21024 State Hwy 71, Spicewood, TX 78669, USA',\n 'B944ED77': '1402 Williams Dr, Georgetown, TX 78628, USA',\n 'E7A89C68': '1402 Williams Dr, Georgetown, TX 78628, USA',\n 'C41B4C30': '21024 W, 21024 State Hwy 71, Spicewood, TX 78669, USA'}"
     },
     "execution_count": 15,
     "metadata": {},
     "output_type": "execute_result"
    }
   ],
   "source": [
    "def order_id_to_pickup_location(orders):\n",
    "    order_id_to_pickup_location  = {}\n",
    "    for order in orders:\n",
    "        print(type(order))\n",
    "        order_id = order['Order']\n",
    "        store_addrs = order['Pick Up Location']\n",
    "        order_id_to_pickup_location[order_id] = store_addrs\n",
    "    return order_id_to_pickup_location\n",
    "order_to_location = order_id_to_pickup_location(orders)\n",
    "order_to_location"
   ],
   "metadata": {
    "collapsed": false,
    "ExecuteTime": {
     "end_time": "2023-10-04T04:27:49.171494Z",
     "start_time": "2023-10-04T04:27:49.163132Z"
    }
   },
   "id": "cd8b34deeb38d059"
  },
  {
   "cell_type": "code",
   "execution_count": 37,
   "outputs": [],
   "source": [
    "def get_raw_order_to_location_df():\n",
    "    raw_orders_to_location = order_id_to_pickup_location(orders)\n",
    "    order_to_location_pairs = list(raw_orders_to_location.items())\n",
    "    order_to_location_df = pd.DataFrame(order_to_location_pairs, columns=['order_id', 'pickup_location'])\n",
    "    \n",
    "    return order_to_location_df\n",
    "order_to_location_df = get_raw_order_to_location_df()"
   ],
   "metadata": {
    "collapsed": false,
    "ExecuteTime": {
     "end_time": "2023-10-03T16:19:12.930658Z",
     "start_time": "2023-10-03T16:19:12.927120Z"
    }
   },
   "id": "5f6903e6004a1552"
  },
  {
   "cell_type": "code",
   "execution_count": 38,
   "outputs": [
    {
     "data": {
      "text/plain": "    order_id                                 pickup_location  \\\n0   42C2A525             5004 Wesley St Greenville TX 75402    \n1   AA85B890             5004 Wesley St Greenville TX 75402    \n2   773C7330             5004 Wesley St Greenville TX 75402    \n3   EDCB46B1   1001 W Van Alstyne Pkwy Van Alstyne TX 75495    \n4   68944F97        800 W Interstate 20 Big Spring TX 79720    \n5   ED39CFE2      1301 N U.S. Hwy 281 Marble Falls TX 78654    \n6   78BAE2F8    1001 S State Hwy 16 Fredericksburg TX 78624    \n7   DE4528F2                 2320 W Main St Durant OK 74701    \n8   F5539B37             3702 FM2147 Horseshoe Bay TX 78657    \n9   FE329688        800 W Interstate 20 Big Spring TX 79720    \n10  C5A903F0                   2503 TX-349 Midland TX 79706    \n11  782881C7                    145 Lehman Rd Kyle TX 78640    \n12  ECCAB249           1402 Williams Dr Georgetown TX 78628    \n13  8E90EF84  21024 W 21024 State Hwy 71 Spicewood TX 78669    \n14  B944ED77           1402 Williams Dr Georgetown TX 78628    \n15  E7A89C68           1402 Williams Dr Georgetown TX 78628    \n16  C41B4C30  21024 W 21024 State Hwy 71 Spicewood TX 78669    \n\n                    address               city state zip_code  \n0               5004 Wesley      St Greenville    TX    75402  \n1               5004 Wesley      St Greenville    TX    75402  \n2               5004 Wesley      St Greenville    TX    75402  \n3   1001 W Van Alstyne Pkwy        Van Alstyne    TX    75495  \n4       800 W Interstate 20         Big Spring    TX    79720  \n5       1301 N U.S. Hwy 281       Marble Falls    TX    78654  \n6          1001 S State Hwy  16 Fredericksburg    TX    78624  \n7               2320 W Main          St Durant    OK    74701  \n8               3702 FM2147      Horseshoe Bay    TX    78657  \n9       800 W Interstate 20         Big Spring    TX    79720  \n10              2503 TX-349            Midland    TX    79706  \n11               145 Lehman            Rd Kyle    TX    78640  \n12            1402 Williams      Dr Georgetown    TX    78628  \n13  21024 W 21024 State Hwy       71 Spicewood    TX    78669  \n14            1402 Williams      Dr Georgetown    TX    78628  \n15            1402 Williams      Dr Georgetown    TX    78628  \n16  21024 W 21024 State Hwy       71 Spicewood    TX    78669  ",
      "text/html": "<div>\n<style scoped>\n    .dataframe tbody tr th:only-of-type {\n        vertical-align: middle;\n    }\n\n    .dataframe tbody tr th {\n        vertical-align: top;\n    }\n\n    .dataframe thead th {\n        text-align: right;\n    }\n</style>\n<table border=\"1\" class=\"dataframe\">\n  <thead>\n    <tr style=\"text-align: right;\">\n      <th></th>\n      <th>order_id</th>\n      <th>pickup_location</th>\n      <th>address</th>\n      <th>city</th>\n      <th>state</th>\n      <th>zip_code</th>\n    </tr>\n  </thead>\n  <tbody>\n    <tr>\n      <th>0</th>\n      <td>42C2A525</td>\n      <td>5004 Wesley St Greenville TX 75402</td>\n      <td>5004 Wesley</td>\n      <td>St Greenville</td>\n      <td>TX</td>\n      <td>75402</td>\n    </tr>\n    <tr>\n      <th>1</th>\n      <td>AA85B890</td>\n      <td>5004 Wesley St Greenville TX 75402</td>\n      <td>5004 Wesley</td>\n      <td>St Greenville</td>\n      <td>TX</td>\n      <td>75402</td>\n    </tr>\n    <tr>\n      <th>2</th>\n      <td>773C7330</td>\n      <td>5004 Wesley St Greenville TX 75402</td>\n      <td>5004 Wesley</td>\n      <td>St Greenville</td>\n      <td>TX</td>\n      <td>75402</td>\n    </tr>\n    <tr>\n      <th>3</th>\n      <td>EDCB46B1</td>\n      <td>1001 W Van Alstyne Pkwy Van Alstyne TX 75495</td>\n      <td>1001 W Van Alstyne Pkwy</td>\n      <td>Van Alstyne</td>\n      <td>TX</td>\n      <td>75495</td>\n    </tr>\n    <tr>\n      <th>4</th>\n      <td>68944F97</td>\n      <td>800 W Interstate 20 Big Spring TX 79720</td>\n      <td>800 W Interstate 20</td>\n      <td>Big Spring</td>\n      <td>TX</td>\n      <td>79720</td>\n    </tr>\n    <tr>\n      <th>5</th>\n      <td>ED39CFE2</td>\n      <td>1301 N U.S. Hwy 281 Marble Falls TX 78654</td>\n      <td>1301 N U.S. Hwy 281</td>\n      <td>Marble Falls</td>\n      <td>TX</td>\n      <td>78654</td>\n    </tr>\n    <tr>\n      <th>6</th>\n      <td>78BAE2F8</td>\n      <td>1001 S State Hwy 16 Fredericksburg TX 78624</td>\n      <td>1001 S State Hwy</td>\n      <td>16 Fredericksburg</td>\n      <td>TX</td>\n      <td>78624</td>\n    </tr>\n    <tr>\n      <th>7</th>\n      <td>DE4528F2</td>\n      <td>2320 W Main St Durant OK 74701</td>\n      <td>2320 W Main</td>\n      <td>St Durant</td>\n      <td>OK</td>\n      <td>74701</td>\n    </tr>\n    <tr>\n      <th>8</th>\n      <td>F5539B37</td>\n      <td>3702 FM2147 Horseshoe Bay TX 78657</td>\n      <td>3702 FM2147</td>\n      <td>Horseshoe Bay</td>\n      <td>TX</td>\n      <td>78657</td>\n    </tr>\n    <tr>\n      <th>9</th>\n      <td>FE329688</td>\n      <td>800 W Interstate 20 Big Spring TX 79720</td>\n      <td>800 W Interstate 20</td>\n      <td>Big Spring</td>\n      <td>TX</td>\n      <td>79720</td>\n    </tr>\n    <tr>\n      <th>10</th>\n      <td>C5A903F0</td>\n      <td>2503 TX-349 Midland TX 79706</td>\n      <td>2503 TX-349</td>\n      <td>Midland</td>\n      <td>TX</td>\n      <td>79706</td>\n    </tr>\n    <tr>\n      <th>11</th>\n      <td>782881C7</td>\n      <td>145 Lehman Rd Kyle TX 78640</td>\n      <td>145 Lehman</td>\n      <td>Rd Kyle</td>\n      <td>TX</td>\n      <td>78640</td>\n    </tr>\n    <tr>\n      <th>12</th>\n      <td>ECCAB249</td>\n      <td>1402 Williams Dr Georgetown TX 78628</td>\n      <td>1402 Williams</td>\n      <td>Dr Georgetown</td>\n      <td>TX</td>\n      <td>78628</td>\n    </tr>\n    <tr>\n      <th>13</th>\n      <td>8E90EF84</td>\n      <td>21024 W 21024 State Hwy 71 Spicewood TX 78669</td>\n      <td>21024 W 21024 State Hwy</td>\n      <td>71 Spicewood</td>\n      <td>TX</td>\n      <td>78669</td>\n    </tr>\n    <tr>\n      <th>14</th>\n      <td>B944ED77</td>\n      <td>1402 Williams Dr Georgetown TX 78628</td>\n      <td>1402 Williams</td>\n      <td>Dr Georgetown</td>\n      <td>TX</td>\n      <td>78628</td>\n    </tr>\n    <tr>\n      <th>15</th>\n      <td>E7A89C68</td>\n      <td>1402 Williams Dr Georgetown TX 78628</td>\n      <td>1402 Williams</td>\n      <td>Dr Georgetown</td>\n      <td>TX</td>\n      <td>78628</td>\n    </tr>\n    <tr>\n      <th>16</th>\n      <td>C41B4C30</td>\n      <td>21024 W 21024 State Hwy 71 Spicewood TX 78669</td>\n      <td>21024 W 21024 State Hwy</td>\n      <td>71 Spicewood</td>\n      <td>TX</td>\n      <td>78669</td>\n    </tr>\n  </tbody>\n</table>\n</div>"
     },
     "execution_count": 38,
     "metadata": {},
     "output_type": "execute_result"
    }
   ],
   "source": [
    "def splitup_pickup_location():\n",
    "    order_to_location_df['pickup_location'] = order_to_location_df['pickup_location'].str.replace(',', '')\n",
    "    \n",
    "    # Remove \"USA\" substring\n",
    "    order_to_location_df['pickup_location'] = order_to_location_df['pickup_location'].str.replace('USA', '')\n",
    "    \n",
    "    pattern = r'(?P<address>^.+?)\\s(?P<city>\\w+\\s*\\w*)\\s(?P<state>[A-Z]{2})\\s(?P<zip_code>\\d{5})'\n",
    "    \n",
    "    df_extracted = order_to_location_df['pickup_location'].str.extract(pattern)\n",
    "    \n",
    "    _order_to_location_df = pd.concat([order_to_location_df, df_extracted], axis=1)\n",
    "\n",
    "    return _order_to_location_df\n",
    "\n",
    "_order_to_location_df = splitup_pickup_location()\n",
    "_order_to_location_df"
   ],
   "metadata": {
    "collapsed": false,
    "ExecuteTime": {
     "end_time": "2023-10-03T16:19:13.492837Z",
     "start_time": "2023-10-03T16:19:13.475777Z"
    }
   },
   "id": "edba52dcb41512a7"
  },
  {
   "cell_type": "code",
   "execution_count": 40,
   "outputs": [
    {
     "data": {
      "text/plain": "    order_id                                 pickup_location  \\\n0   42C2A525             5004 Wesley St Greenville TX 75402    \n1   AA85B890             5004 Wesley St Greenville TX 75402    \n2   773C7330             5004 Wesley St Greenville TX 75402    \n3   EDCB46B1   1001 W Van Alstyne Pkwy Van Alstyne TX 75495    \n4   68944F97        800 W Interstate 20 Big Spring TX 79720    \n5   ED39CFE2      1301 N U.S. Hwy 281 Marble Falls TX 78654    \n6   78BAE2F8    1001 S State Hwy 16 Fredericksburg TX 78624    \n7   DE4528F2                 2320 W Main St Durant OK 74701    \n8   F5539B37             3702 FM2147 Horseshoe Bay TX 78657    \n9   FE329688        800 W Interstate 20 Big Spring TX 79720    \n10  C5A903F0                   2503 TX-349 Midland TX 79706    \n11  782881C7                    145 Lehman Rd Kyle TX 78640    \n12  ECCAB249           1402 Williams Dr Georgetown TX 78628    \n13  8E90EF84  21024 W 21024 State Hwy 71 Spicewood TX 78669    \n14  B944ED77           1402 Williams Dr Georgetown TX 78628    \n15  E7A89C68           1402 Williams Dr Georgetown TX 78628    \n16  C41B4C30  21024 W 21024 State Hwy 71 Spicewood TX 78669    \n\n                    address               city state zip_code street_num  \n0               5004 Wesley      St Greenville    TX    75402       5004  \n1               5004 Wesley      St Greenville    TX    75402       5004  \n2               5004 Wesley      St Greenville    TX    75402       5004  \n3   1001 W Van Alstyne Pkwy        Van Alstyne    TX    75495       1001  \n4       800 W Interstate 20         Big Spring    TX    79720        800  \n5       1301 N U.S. Hwy 281       Marble Falls    TX    78654       1301  \n6          1001 S State Hwy  16 Fredericksburg    TX    78624       1001  \n7               2320 W Main          St Durant    OK    74701       2320  \n8               3702 FM2147      Horseshoe Bay    TX    78657       3702  \n9       800 W Interstate 20         Big Spring    TX    79720        800  \n10              2503 TX-349            Midland    TX    79706       2503  \n11               145 Lehman            Rd Kyle    TX    78640        145  \n12            1402 Williams      Dr Georgetown    TX    78628       1402  \n13  21024 W 21024 State Hwy       71 Spicewood    TX    78669      21024  \n14            1402 Williams      Dr Georgetown    TX    78628       1402  \n15            1402 Williams      Dr Georgetown    TX    78628       1402  \n16  21024 W 21024 State Hwy       71 Spicewood    TX    78669      21024  ",
      "text/html": "<div>\n<style scoped>\n    .dataframe tbody tr th:only-of-type {\n        vertical-align: middle;\n    }\n\n    .dataframe tbody tr th {\n        vertical-align: top;\n    }\n\n    .dataframe thead th {\n        text-align: right;\n    }\n</style>\n<table border=\"1\" class=\"dataframe\">\n  <thead>\n    <tr style=\"text-align: right;\">\n      <th></th>\n      <th>order_id</th>\n      <th>pickup_location</th>\n      <th>address</th>\n      <th>city</th>\n      <th>state</th>\n      <th>zip_code</th>\n      <th>street_num</th>\n    </tr>\n  </thead>\n  <tbody>\n    <tr>\n      <th>0</th>\n      <td>42C2A525</td>\n      <td>5004 Wesley St Greenville TX 75402</td>\n      <td>5004 Wesley</td>\n      <td>St Greenville</td>\n      <td>TX</td>\n      <td>75402</td>\n      <td>5004</td>\n    </tr>\n    <tr>\n      <th>1</th>\n      <td>AA85B890</td>\n      <td>5004 Wesley St Greenville TX 75402</td>\n      <td>5004 Wesley</td>\n      <td>St Greenville</td>\n      <td>TX</td>\n      <td>75402</td>\n      <td>5004</td>\n    </tr>\n    <tr>\n      <th>2</th>\n      <td>773C7330</td>\n      <td>5004 Wesley St Greenville TX 75402</td>\n      <td>5004 Wesley</td>\n      <td>St Greenville</td>\n      <td>TX</td>\n      <td>75402</td>\n      <td>5004</td>\n    </tr>\n    <tr>\n      <th>3</th>\n      <td>EDCB46B1</td>\n      <td>1001 W Van Alstyne Pkwy Van Alstyne TX 75495</td>\n      <td>1001 W Van Alstyne Pkwy</td>\n      <td>Van Alstyne</td>\n      <td>TX</td>\n      <td>75495</td>\n      <td>1001</td>\n    </tr>\n    <tr>\n      <th>4</th>\n      <td>68944F97</td>\n      <td>800 W Interstate 20 Big Spring TX 79720</td>\n      <td>800 W Interstate 20</td>\n      <td>Big Spring</td>\n      <td>TX</td>\n      <td>79720</td>\n      <td>800</td>\n    </tr>\n    <tr>\n      <th>5</th>\n      <td>ED39CFE2</td>\n      <td>1301 N U.S. Hwy 281 Marble Falls TX 78654</td>\n      <td>1301 N U.S. Hwy 281</td>\n      <td>Marble Falls</td>\n      <td>TX</td>\n      <td>78654</td>\n      <td>1301</td>\n    </tr>\n    <tr>\n      <th>6</th>\n      <td>78BAE2F8</td>\n      <td>1001 S State Hwy 16 Fredericksburg TX 78624</td>\n      <td>1001 S State Hwy</td>\n      <td>16 Fredericksburg</td>\n      <td>TX</td>\n      <td>78624</td>\n      <td>1001</td>\n    </tr>\n    <tr>\n      <th>7</th>\n      <td>DE4528F2</td>\n      <td>2320 W Main St Durant OK 74701</td>\n      <td>2320 W Main</td>\n      <td>St Durant</td>\n      <td>OK</td>\n      <td>74701</td>\n      <td>2320</td>\n    </tr>\n    <tr>\n      <th>8</th>\n      <td>F5539B37</td>\n      <td>3702 FM2147 Horseshoe Bay TX 78657</td>\n      <td>3702 FM2147</td>\n      <td>Horseshoe Bay</td>\n      <td>TX</td>\n      <td>78657</td>\n      <td>3702</td>\n    </tr>\n    <tr>\n      <th>9</th>\n      <td>FE329688</td>\n      <td>800 W Interstate 20 Big Spring TX 79720</td>\n      <td>800 W Interstate 20</td>\n      <td>Big Spring</td>\n      <td>TX</td>\n      <td>79720</td>\n      <td>800</td>\n    </tr>\n    <tr>\n      <th>10</th>\n      <td>C5A903F0</td>\n      <td>2503 TX-349 Midland TX 79706</td>\n      <td>2503 TX-349</td>\n      <td>Midland</td>\n      <td>TX</td>\n      <td>79706</td>\n      <td>2503</td>\n    </tr>\n    <tr>\n      <th>11</th>\n      <td>782881C7</td>\n      <td>145 Lehman Rd Kyle TX 78640</td>\n      <td>145 Lehman</td>\n      <td>Rd Kyle</td>\n      <td>TX</td>\n      <td>78640</td>\n      <td>145</td>\n    </tr>\n    <tr>\n      <th>12</th>\n      <td>ECCAB249</td>\n      <td>1402 Williams Dr Georgetown TX 78628</td>\n      <td>1402 Williams</td>\n      <td>Dr Georgetown</td>\n      <td>TX</td>\n      <td>78628</td>\n      <td>1402</td>\n    </tr>\n    <tr>\n      <th>13</th>\n      <td>8E90EF84</td>\n      <td>21024 W 21024 State Hwy 71 Spicewood TX 78669</td>\n      <td>21024 W 21024 State Hwy</td>\n      <td>71 Spicewood</td>\n      <td>TX</td>\n      <td>78669</td>\n      <td>21024</td>\n    </tr>\n    <tr>\n      <th>14</th>\n      <td>B944ED77</td>\n      <td>1402 Williams Dr Georgetown TX 78628</td>\n      <td>1402 Williams</td>\n      <td>Dr Georgetown</td>\n      <td>TX</td>\n      <td>78628</td>\n      <td>1402</td>\n    </tr>\n    <tr>\n      <th>15</th>\n      <td>E7A89C68</td>\n      <td>1402 Williams Dr Georgetown TX 78628</td>\n      <td>1402 Williams</td>\n      <td>Dr Georgetown</td>\n      <td>TX</td>\n      <td>78628</td>\n      <td>1402</td>\n    </tr>\n    <tr>\n      <th>16</th>\n      <td>C41B4C30</td>\n      <td>21024 W 21024 State Hwy 71 Spicewood TX 78669</td>\n      <td>21024 W 21024 State Hwy</td>\n      <td>71 Spicewood</td>\n      <td>TX</td>\n      <td>78669</td>\n      <td>21024</td>\n    </tr>\n  </tbody>\n</table>\n</div>"
     },
     "execution_count": 40,
     "metadata": {},
     "output_type": "execute_result"
    }
   ],
   "source": [
    "def add_street_num_col():\n",
    "    street_num_pattern = r'(?P<street_num>\\b\\d{3,5}\\b)'\n",
    "\n",
    "    addrs_extracted_df = _order_to_location_df['address'].str.extract(street_num_pattern)\n",
    "\n",
    "    ADD_order_to_location_df = pd.concat([_order_to_location_df, addrs_extracted_df], axis=1)\n",
    "    return ADD_order_to_location_df\n",
    "\n",
    "ADD_order_to_location_df = add_street_num_col()\n",
    "ADD_order_to_location_df"
   ],
   "metadata": {
    "collapsed": false,
    "ExecuteTime": {
     "end_time": "2023-10-03T16:19:18.510575Z",
     "start_time": "2023-10-03T16:19:18.502569Z"
    }
   },
   "id": "6f9a590fa9b3f6f8"
  },
  {
   "cell_type": "code",
   "execution_count": 82,
   "outputs": [
    {
     "data": {
      "text/plain": "   Site #  order_id                   Address  \\\n0      16  DE4528F2            2320 West Main   \n1      20  42C2A525        5004 Wesley Street   \n2      20  AA85B890        5004 Wesley Street   \n3      20  773C7330        5004 Wesley Street   \n4      32  EDCB46B1  1001 Van Alstyne Parkway   \n5      53  ED39CFE2        1301 Hwy 281 North   \n6      61  78BAE2F8         1001 Hwy 16 South   \n7      62  8E90EF84            21024 Hwy 71 W   \n8      62  C41B4C30            21024 Hwy 71 W   \n9      65  ECCAB249       1402 Williams Drive   \n10     65  B944ED77       1402 Williams Drive   \n11     65  E7A89C68       1402 Williams Drive   \n12     67  F5539B37         3702 West FM 2147   \n13     68  782881C7           145 Lehman Road   \n14     70  68944F97            800 IH 20 West   \n15     70  FE329688            800 IH 20 West   \n16     71  C5A903F0           2503 Rankin Hwy   \n\n                                   pickup_location  \n0                  2320 W Main St Durant OK 74701   \n1              5004 Wesley St Greenville TX 75402   \n2              5004 Wesley St Greenville TX 75402   \n3              5004 Wesley St Greenville TX 75402   \n4    1001 W Van Alstyne Pkwy Van Alstyne TX 75495   \n5       1301 N U.S. Hwy 281 Marble Falls TX 78654   \n6     1001 S State Hwy 16 Fredericksburg TX 78624   \n7   21024 W 21024 State Hwy 71 Spicewood TX 78669   \n8   21024 W 21024 State Hwy 71 Spicewood TX 78669   \n9            1402 Williams Dr Georgetown TX 78628   \n10           1402 Williams Dr Georgetown TX 78628   \n11           1402 Williams Dr Georgetown TX 78628   \n12             3702 FM2147 Horseshoe Bay TX 78657   \n13                    145 Lehman Rd Kyle TX 78640   \n14        800 W Interstate 20 Big Spring TX 79720   \n15        800 W Interstate 20 Big Spring TX 79720   \n16                   2503 TX-349 Midland TX 79706   ",
      "text/html": "<div>\n<style scoped>\n    .dataframe tbody tr th:only-of-type {\n        vertical-align: middle;\n    }\n\n    .dataframe tbody tr th {\n        vertical-align: top;\n    }\n\n    .dataframe thead th {\n        text-align: right;\n    }\n</style>\n<table border=\"1\" class=\"dataframe\">\n  <thead>\n    <tr style=\"text-align: right;\">\n      <th></th>\n      <th>Site #</th>\n      <th>order_id</th>\n      <th>Address</th>\n      <th>pickup_location</th>\n    </tr>\n  </thead>\n  <tbody>\n    <tr>\n      <th>0</th>\n      <td>16</td>\n      <td>DE4528F2</td>\n      <td>2320 West Main</td>\n      <td>2320 W Main St Durant OK 74701</td>\n    </tr>\n    <tr>\n      <th>1</th>\n      <td>20</td>\n      <td>42C2A525</td>\n      <td>5004 Wesley Street</td>\n      <td>5004 Wesley St Greenville TX 75402</td>\n    </tr>\n    <tr>\n      <th>2</th>\n      <td>20</td>\n      <td>AA85B890</td>\n      <td>5004 Wesley Street</td>\n      <td>5004 Wesley St Greenville TX 75402</td>\n    </tr>\n    <tr>\n      <th>3</th>\n      <td>20</td>\n      <td>773C7330</td>\n      <td>5004 Wesley Street</td>\n      <td>5004 Wesley St Greenville TX 75402</td>\n    </tr>\n    <tr>\n      <th>4</th>\n      <td>32</td>\n      <td>EDCB46B1</td>\n      <td>1001 Van Alstyne Parkway</td>\n      <td>1001 W Van Alstyne Pkwy Van Alstyne TX 75495</td>\n    </tr>\n    <tr>\n      <th>5</th>\n      <td>53</td>\n      <td>ED39CFE2</td>\n      <td>1301 Hwy 281 North</td>\n      <td>1301 N U.S. Hwy 281 Marble Falls TX 78654</td>\n    </tr>\n    <tr>\n      <th>6</th>\n      <td>61</td>\n      <td>78BAE2F8</td>\n      <td>1001 Hwy 16 South</td>\n      <td>1001 S State Hwy 16 Fredericksburg TX 78624</td>\n    </tr>\n    <tr>\n      <th>7</th>\n      <td>62</td>\n      <td>8E90EF84</td>\n      <td>21024 Hwy 71 W</td>\n      <td>21024 W 21024 State Hwy 71 Spicewood TX 78669</td>\n    </tr>\n    <tr>\n      <th>8</th>\n      <td>62</td>\n      <td>C41B4C30</td>\n      <td>21024 Hwy 71 W</td>\n      <td>21024 W 21024 State Hwy 71 Spicewood TX 78669</td>\n    </tr>\n    <tr>\n      <th>9</th>\n      <td>65</td>\n      <td>ECCAB249</td>\n      <td>1402 Williams Drive</td>\n      <td>1402 Williams Dr Georgetown TX 78628</td>\n    </tr>\n    <tr>\n      <th>10</th>\n      <td>65</td>\n      <td>B944ED77</td>\n      <td>1402 Williams Drive</td>\n      <td>1402 Williams Dr Georgetown TX 78628</td>\n    </tr>\n    <tr>\n      <th>11</th>\n      <td>65</td>\n      <td>E7A89C68</td>\n      <td>1402 Williams Drive</td>\n      <td>1402 Williams Dr Georgetown TX 78628</td>\n    </tr>\n    <tr>\n      <th>12</th>\n      <td>67</td>\n      <td>F5539B37</td>\n      <td>3702 West FM 2147</td>\n      <td>3702 FM2147 Horseshoe Bay TX 78657</td>\n    </tr>\n    <tr>\n      <th>13</th>\n      <td>68</td>\n      <td>782881C7</td>\n      <td>145 Lehman Road</td>\n      <td>145 Lehman Rd Kyle TX 78640</td>\n    </tr>\n    <tr>\n      <th>14</th>\n      <td>70</td>\n      <td>68944F97</td>\n      <td>800 IH 20 West</td>\n      <td>800 W Interstate 20 Big Spring TX 79720</td>\n    </tr>\n    <tr>\n      <th>15</th>\n      <td>70</td>\n      <td>FE329688</td>\n      <td>800 IH 20 West</td>\n      <td>800 W Interstate 20 Big Spring TX 79720</td>\n    </tr>\n    <tr>\n      <th>16</th>\n      <td>71</td>\n      <td>C5A903F0</td>\n      <td>2503 Rankin Hwy</td>\n      <td>2503 TX-349 Midland TX 79706</td>\n    </tr>\n  </tbody>\n</table>\n</div>"
     },
     "execution_count": 82,
     "metadata": {},
     "output_type": "execute_result"
    }
   ],
   "source": [
    "def get_merged_and_organized_master_df():\n",
    "    merged_df = pd.merge(master_df, ADD_order_to_location_df, left_on=['Zip', 'street_num'], right_on=['zip_code', 'street_num'], how='inner')\n",
    "\n",
    "    merged_df.drop(['Site Description', 'City', 'County', 'State', 'address', 'city', 'state', 'Zip', 'zip_code', 'Notes',\n",
    "     'street_num'], axis=1, inplace=True)\n",
    "\n",
    "    merged_df = merged_df[['Site #', 'order_id', 'Address', 'pickup_location']]\n",
    "\n",
    "    return merged_df\n",
    "\n",
    "merged_df = get_merged_and_organized_master_df()\n",
    "merged_df"
   ],
   "metadata": {
    "collapsed": false,
    "ExecuteTime": {
     "end_time": "2023-10-03T17:13:35.675435Z",
     "start_time": "2023-10-03T17:13:35.670855Z"
    }
   },
   "id": "fee828aff8212a9"
  },
  {
   "cell_type": "code",
   "execution_count": 78,
   "outputs": [],
   "source": [
    "def store_num_to_order_ids(original_dict):\n",
    "    aggregated_dict = {}\n",
    "    \n",
    "    for order_id, value in original_dict.items():\n",
    "        if value not in aggregated_dict:\n",
    "            aggregated_dict[value] = set()\n",
    "        aggregated_dict[value].add(order_id)\n",
    "    return aggregated_dict\n"
   ],
   "metadata": {
    "collapsed": false,
    "ExecuteTime": {
     "end_time": "2023-10-03T17:05:41.132344Z",
     "start_time": "2023-10-03T17:05:41.118781Z"
    }
   },
   "id": "425d6b0f0cdbceb9"
  },
  {
   "cell_type": "code",
   "execution_count": 79,
   "outputs": [
    {
     "data": {
      "text/plain": "{'16': {'DE4528F2'},\n '20': {'42C2A525', '773C7330', 'AA85B890'},\n '32': {'EDCB46B1'},\n '53': {'ED39CFE2'},\n '61': {'78BAE2F8'},\n '62': {'8E90EF84', 'C41B4C30'},\n '65': {'B944ED77', 'E7A89C68', 'ECCAB249'},\n '67': {'F5539B37'},\n '68': {'782881C7'},\n '70': {'68944F97', 'FE329688'},\n '71': {'C5A903F0'}}"
     },
     "execution_count": 79,
     "metadata": {},
     "output_type": "execute_result"
    }
   ],
   "source": [
    "def get_store_num_to_order_ids():\n",
    "    order_id_to_store_num = merged_df.set_index('order_id')['Site #'].to_dict()\n",
    "    store_num_to_order_ids_map = store_num_to_order_ids(order_id_to_store_num)\n",
    "    return store_num_to_order_ids_map\n",
    "store_num_to_order_ids_map = get_store_num_to_order_ids()\n",
    "store_num_to_order_ids_map"
   ],
   "metadata": {
    "collapsed": false,
    "ExecuteTime": {
     "end_time": "2023-10-03T17:05:43.275657Z",
     "start_time": "2023-10-03T17:05:43.268373Z"
    }
   },
   "id": "34355412f9269012"
  },
  {
   "cell_type": "code",
   "execution_count": 80,
   "outputs": [
    {
     "data": {
      "text/plain": "[{'Order': '42C2A525',\n  'Delivered': 'The order was delivered at 11:41 PM on October 1, 2023.',\n  'Pick Up Location': '5004 Wesley St, Greenville, TX 75402, USA',\n  'Order Details': {'1 × Coca-Cola Can (12 pk-12 oz) (Soda TX)': '$11.29',\n   ' 1 × TXB Water Bottle (24 pk) (16.9 oz) (Water TX)': '$7.49',\n   ' 1 × Coke Classic Bottle (20oz) (Soda TX)': '$3.19'},\n  'Subtotal': '$21.97',\n  'Subtotal Tax': '$1.19',\n  'Commission (23%)': '-$5.05',\n  'Total Customer Refund': '-$0.00',\n  'Estimated Payout': '$18.11',\n  'Transaction #8113346069 - Delivery': '$18.11',\n  'Store Number': '20'},\n {'Order': 'AA85B890',\n  'Delivered': 'The order was delivered at 10:08 PM on October 1, 2023.',\n  'Pick Up Location': '5004 Wesley St, Greenville, TX 75402, USA',\n  'Order Details': {'1 × Moon Pie Double Decker Banana (2.75oz) (Pastry TX)': '$2.29',\n   ' 1 × Moon Pie Double Decker Chocolate (2.75oz) (Pastry TX)': '$2.29',\n   ' 1 × TXB Sweet Tea Bottle (16oz) (Tea TX)': '$3.29',\n   ' 1 × TXB Strawberry White Tea Bottle (16oz) (Tea TX)': '$2.59',\n   ' 1 × TXB Premium Electrolyte Water Bottle (12pk 1L) (Water TX)': '$4.09'},\n  'Subtotal': '$14.55',\n  'Subtotal Tax': '$0.59',\n  'Commission (16%)': '-$2.33',\n  'Total Customer Refund': '-$0.00',\n  'Estimated Payout': '$12.81',\n  'Transaction #8112864098 - Delivery': '$12.81',\n  'Store Number': '20'},\n {'Order': '773C7330',\n  'Delivered': 'The order was delivered at 9:07 PM on October 1, 2023.',\n  'Pick Up Location': '5004 Wesley St, Greenville, TX 75402, USA',\n  'Order Details': {'1 × Lone Star Beer Can (16 oz x 6 ct) (Domestic Beer NT)': '$13.79'},\n  'Subtotal': '$13.79',\n  'Subtotal Tax': '$1.14',\n  'Commission (16%)': '-$2.21',\n  'Total Customer Refund': '-$0.00',\n  'Estimated Payout': '$12.72',\n  'Transaction #8112394394 - Delivery': '$12.72',\n  'Store Number': '20'},\n {'Order': 'EDCB46B1',\n  'Delivered': 'Error Charge The customer reported one or more missing items resulting in an error charge of $5.86. If you believe this was an error, you can dispute the error charge by October 15, 2023.',\n  'Pick Up Location': '1001 W Van Alstyne Pkwy, Van Alstyne, TX 75495, USA',\n  'Order Details': {'1 × Michelob Ultra Light Beer Can (12 oz x 12 ct) (Domestic Beer NT)': '$27.49',\n   ' 1 × Truly Hard Seltzer Berry Mix Pack Can (12 oz x 12 ct) (Seltzer NT)': '$28.79'},\n  'Subtotal': '-$5.30 Error Charge Tax -$0.56 Error Charge Total -$5.86 Order Total $47.98',\n  'Commission (23%)': '-$12.94 Order Total $47.98 Error Charges 1 × Michelob Ultra Light Beer Can (12 oz x 12 ct) (Domestic Beer NT) Missing Item -$5.30 Error Charge',\n  'Estimated Payout': '$42.12',\n  'Transaction #8109695187 - Delivery': '$47.98 Transaction #8109811800 - Error Charges -$5.86',\n  'Store Number': '32'},\n {'Order': '68944F97',\n  'Delivered': 'The order was delivered at 2:50 PM on October 1, 2023.',\n  'Pick Up Location': '800 W Interstate 20, Big Spring, TX 79720, USA',\n  'Order Details': {'2 × Michelob Ultra Light Beer Can (12 oz x 18 ct) (Domestic Beer ST)': '$72.58'},\n  'Subtotal': '$72.58',\n  'Subtotal Tax': '$5.99',\n  'Commission (23%)': '-$16.69',\n  'Total Customer Refund': '-$0.00',\n  'Estimated Payout': '$61.88',\n  'Transaction #8108722869 - Delivery': '$61.88',\n  'Store Number': '70'},\n {'Order': 'ED39CFE2',\n  'Delivered': 'Error Charge The customer reported one or more missing items resulting in an error charge of $8.11. If you believe this was an error, you can dispute the error charge by October 15, 2023.',\n  'Pick Up Location': '1301 N U.S. Hwy 281, Marble Falls, TX 78654, USA',\n  'Order Details': {'1 × Ice Large (Fountain, Frozen, & Tea)': '$7.49',\n   ' 1 × Campbells Chicken Noodle Bowl (15.4oz) (Pantry TX)': '$5.29',\n   ' 2 × TXB Premium Electrolyte Water (1 lt) (Water TX)': '$8.78',\n   ' 1 × 7 Up Bottle (20 oz) (Soda TX)': '$3.79',\n   ' 2 × Gatorade Cool Blue (28 oz) (Sports Drinks TX)': '$9.58'},\n  'Subtotal': '-$7.50 Error Charge Tax -$0.61 Error Charge Total -$8.11 Order Total $28.36',\n  'Commission (25%)': '-$8.73 Order Total $28.36 Error Charges 1 × Ice Large (Fountain, Frozen, & Tea) Missing Item -$7.50 Error Charge',\n  'Estimated Payout': '$20.25',\n  'Transaction #8107801352 - Delivery': '$28.36 Transaction #8107871093 - Error Charges -$8.11',\n  'Store Number': '53'},\n {'Order': '78BAE2F8',\n  'Delivered': 'The order was delivered at 12:41 PM on October 1, 2023.',\n  'Pick Up Location': '1001 S State Hwy 16, Fredericksburg, TX 78624, USA',\n  'Order Details': {'1 × Crush Grape Bottle (20oz) (Soda TX)': '$3.79',\n   ' 1 × Turkey & Bacon Wrap (Salads, Wraps, & Cold Sandwiches TXB#61)': '$8.79',\n   ' Subtotal for Tax Calculations': '$12.58'},\n  'Subtotal Tax': '$1.04',\n  'Commission (16%)': '-$2.01',\n  'Total Customer Refund': '-$0.00',\n  'Estimated Payout': '$11.61',\n  'Transaction #8107649354 - Delivery': '$11.61',\n  'Store Number': '61'},\n {'Order': 'DE4528F2',\n  'Delivered': 'The order was delivered at 12:39 PM on October 1, 2023.',\n  'Pick Up Location': '2320 W Main St, Durant, OK 74701, USA',\n  'Order Details': {'1 × Coke Classic Bottle (20oz) (Soda OK)': '$3.19',\n   ' 2 × Red Bull Energy Drink Can (12 oz) (Energy Drinks OK)': '$11.58'},\n  'Subtotal': '$14.77',\n  'Subtotal Tax': '$1.38',\n  'Commission (23%)': '-$3.40',\n  'Total Customer Refund': '-$0.00',\n  'Estimated Payout': '$11.37',\n  'Transaction #8107692197 - Delivery': '$11.37',\n  'Store Number': '16'},\n {'Order': 'F5539B37',\n  'Delivered': 'The order was delivered at 10:52 AM on October 1, 2023.',\n  'Pick Up Location': '3702 FM2147, Horseshoe Bay, TX 78657, USA',\n  'Order Details': {'2 × Chorizo Egg Cheese Quesadilla (Breakfast Tacos & Quesadillas) Salsa: Salsa Roja': '$14.98'},\n  'Subtotal': '$14.98',\n  'Subtotal Tax': '$1.24',\n  'Commission (25%)': '-$3.75',\n  'Total Customer Refund': '-$0.00',\n  'Estimated Payout': '$12.47',\n  'Transaction #8106904074 - Delivery': '$12.47',\n  'Store Number': '67'},\n {'Order': 'FE329688',\n  'Delivered': 'The order was delivered at 10:03 AM on October 1, 2023.',\n  'Pick Up Location': '800 W Interstate 20, Big Spring, TX 79720, USA',\n  'Order Details': {'3 × Red Bull Energy Drink Can (12 oz) (Energy Drinks TX)': '$17.37'},\n  'Subtotal': '$17.37',\n  'Subtotal Tax': '$1.43',\n  'Commission (16%)': '-$2.78',\n  'Total Customer Refund': '-$0.00',\n  'Estimated Payout': '$16.02',\n  'Transaction #8106720721 - Delivery': '$16.02',\n  'Store Number': '70'},\n {'Order': 'C5A903F0',\n  'Cancelled - Paid': 'The order was cancelled on October 1, 2023 at 7:31 AM. You’re paid for cancelled orders when you’ve successfully confirmed an order, it was prepared, and you did not initiate or are not at fault for the cancellation.',\n  'Pick Up Location': '2503 TX-349, Midland, TX 79706, USA',\n  'Order Details': {'1 × Sausage Egg Cheese Taco (Breakfast Tacos & Quesadillas)': '$3.79'},\n  'Subtotal': '$3.79',\n  'Subtotal Tax': '$0.30',\n  'Commission (16%)': '-$0.61',\n  'Total Customer Refund': '-$0.00',\n  'Estimated Payout': '$3.48',\n  'Transaction #8106298092 - Delivery': '$3.48',\n  'Store Number': '71'},\n {'Order': '782881C7',\n  'Delivered': 'The order was delivered at 3:08 AM on October 1, 2023.',\n  'Pick Up Location': '145 Lehman Rd, Kyle, TX 78640, USA',\n  'Order Details': {'1 × Hostess Powdered Donettes Bag (10.5oz) (Donuts TX)': '$6.39',\n   ' 1 × Fountain Drink (Fountain, Frozen, & Tea) Drink Selection: Sprite': '$0.00',\n   ' 1 × Fountain Drink (Fountain, Frozen, & Tea) Drink Selection: TXB Cherry Limeade': '$0.00',\n   ' 1 × Fountain Drink (Fountain, Frozen, & Tea) Drink Selection: TXB Root Beer': '$0.00'},\n  'Subtotal': '$6.39',\n  'Subtotal Tax': '$0.00',\n  'Commission (16%)': '-$1.02',\n  'Total Customer Refund': '-$0.00 Refunds $6.99',\n  'Estimated Payout': '$12.36',\n  'Transaction #8105816170 - Delivery': '$5.37',\n  'Store Number': '68'},\n {'Order': 'ECCAB249',\n  'Delivered': 'The order was delivered at 2:32 AM on October 1, 2023.',\n  'Pick Up Location': '1402 Williams Dr, Georgetown, TX 78628, USA',\n  'Order Details': {'1 × Chicken Tender Meal Kit (Meal Kits TXB#65)': '$9.19'},\n  'Subtotal': '$9.19',\n  'Subtotal Tax': '$0.76',\n  'Commission (16%)': '-$1.47',\n  'Total Customer Refund': '-$0.00',\n  'Estimated Payout': '$8.48',\n  'Transaction #8105817488 - Delivery': '$8.48',\n  'Store Number': '65'},\n {'Order': '8E90EF84',\n  'Delivered': 'The order was delivered at 1:24 AM on October 1, 2023.',\n  'Pick Up Location': '21024 W, 21024 State Hwy 71, Spicewood, TX 78669, USA',\n  'Order Details': {'1 × Pork Tamale Meal Kit (Meal Kits TXB#62)': '$9.19'},\n  'Subtotal': '$9.19',\n  'Subtotal Tax': '$0.76',\n  'Commission (16%)': '-$1.47',\n  'Total Customer Refund': '-$0.00',\n  'Estimated Payout': '$8.48',\n  'Transaction #8105638611 - Delivery': '$8.48',\n  'Store Number': '62'},\n {'Order': 'B944ED77',\n  'Cancelled - Not Paid': 'The order was cancelled on October 1, 2023 at 12:57 AM. You were not paid because you were unable to fulfill the order.',\n  'Pick Up Location': '1402 Williams Dr, Georgetown, TX 78628, USA',\n  'Order Details': {'2 × Black Box Pinot Grigio Tetra 500ml Box (12% ABV) (Specialty Wine)': '$12.58'},\n  'Subtotal': '$12.58',\n  'Subtotal Tax': '$1.04',\n  'Commission (16%)': '-$2.01',\n  'Total Customer Refund': '-$0.00',\n  'Estimated Payout': '$0.00',\n  'Store Number': '65'},\n {'Order': 'E7A89C68',\n  'Delivered': 'The order was delivered at 12:43 AM on October 1, 2023.',\n  'Pick Up Location': '1402 Williams Dr, Georgetown, TX 78628, USA',\n  'Order Details': {'1 × Pepcid AC Maximum Strength Tablet (8ct) (Medicine TX)': '$14.39',\n   ' 1 × 2% Milk (16 oz) (Milk TX)': '$3.79'},\n  'Subtotal': '$18.18',\n  'Subtotal Tax': '$0.00',\n  'Commission (16%)': '-$2.91',\n  'Total Customer Refund': '-$0.00',\n  'Estimated Payout': '$15.27',\n  'Transaction #8105526412 - Delivery': '$15.27',\n  'Store Number': '65'},\n {'Order': 'C41B4C30',\n  'Delivered': 'The order was delivered at 12:43 AM on October 1, 2023.',\n  'Pick Up Location': '21024 W, 21024 State Hwy 71, Spicewood, TX 78669, USA',\n  'Order Details': {'1 × Triple Chocolate Chunk Cookie (Pastries & Desserts)': '$2.49',\n   ' 1 × Chocolate Milk (16 oz) (Milk TX)': '$3.79',\n   ' 3 × Fountain Drink (Fountain, Frozen, & Tea) Drink Selection: Dr Pepper': '$0.00',\n   ' 1 × Dr Pepper Bottle (20 oz) (Soda TX)': '$3.79'},\n  'Subtotal': '$10.07',\n  'Subtotal Tax': '$0.83',\n  'Commission (16%)': '-$1.61',\n  'Total Customer Refund': '-$0.00',\n  'Estimated Payout': '$9.29',\n  'Transaction #8105477186 - Delivery': '$9.29',\n  'Store Number': '62'}]"
     },
     "execution_count": 80,
     "metadata": {},
     "output_type": "execute_result"
    }
   ],
   "source": [
    "def add_store_numbers_to_orders(orders, store_num_to_order_ids_map):\n",
    "    for order in orders:\n",
    "        order_id = order.get('Order')\n",
    "        found = False  # Variable to keep track of whether the order_id was found\n",
    "\n",
    "        for store_num, order_id_set in store_num_to_order_ids_map.items():\n",
    "            if order_id in order_id_set:\n",
    "                order['Store Number'] = store_num\n",
    "                found = True\n",
    "                break  # Exit the loop once the order_id is found\n",
    "\n",
    "        if not found:\n",
    "            order['Store Number'] = 'N/A'\n",
    "    \n",
    "    return orders\n",
    "\n",
    "add_store_numbers_to_orders(orders, store_num_to_order_ids_map)"
   ],
   "metadata": {
    "collapsed": false,
    "ExecuteTime": {
     "end_time": "2023-10-03T17:06:08.458138Z",
     "start_time": "2023-10-03T17:06:08.438188Z"
    }
   },
   "id": "889ce6a802862dd2"
  },
  {
   "cell_type": "code",
   "execution_count": null,
   "outputs": [],
   "source": [],
   "metadata": {
    "collapsed": false
   },
   "id": "648196d04b99e672"
  }
 ],
 "metadata": {
  "kernelspec": {
   "display_name": "Python 3",
   "language": "python",
   "name": "python3"
  },
  "language_info": {
   "codemirror_mode": {
    "name": "ipython",
    "version": 2
   },
   "file_extension": ".py",
   "mimetype": "text/x-python",
   "name": "python",
   "nbconvert_exporter": "python",
   "pygments_lexer": "ipython2",
   "version": "2.7.6"
  }
 },
 "nbformat": 4,
 "nbformat_minor": 5
}
