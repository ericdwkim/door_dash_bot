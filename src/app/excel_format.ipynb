{
 "cells": [
  {
   "cell_type": "code",
   "execution_count": 10,
   "id": "initial_id",
   "metadata": {
    "collapsed": true,
    "ExecuteTime": {
     "end_time": "2023-10-10T17:57:21.025996Z",
     "start_time": "2023-10-10T17:57:21.016352Z"
    }
   },
   "outputs": [],
   "source": [
    "from src.app.drivers import BaseDriver, OrdersPageDriver\n",
    "import os\n",
    "from dotenv import load_dotenv\n",
    "import argparse\n",
    "import pandas as pd\n",
    "from datetime import datetime\n",
    "import logging\n",
    "from src.utils.log_config import setup_logger\n",
    "from src.utils.order_handler import OrderHandler\n",
    "from src.utils.data_merger import DataMerger\n",
    "from src.utils.excel_formatter import ExcelFormatter\n"
   ]
  },
  {
   "cell_type": "code",
   "execution_count": 52,
   "outputs": [],
   "source": [
    "class Main:\n",
    "\n",
    "    # ---------------------------------- Instance attributes ----------------------------------\n",
    "    def __init__(self, headless=False):\n",
    "        self.base_driver = BaseDriver(headless=headless)\n",
    "        # self.os_type = self.base_driver.os_type\n",
    "        self.os_type = 'Windows'\n",
    "        self.orders_page_driver = OrdersPageDriver(self.base_driver)\n",
    "        self.order_handler = OrderHandler()\n",
    "        self.today = datetime.today().strftime('%m.%d.%y')\n",
    "        self.excel_file_name = f'DD {self.today}.xlsx'\n",
    "        self.json_build_file_path = ''\n",
    "        # self.set_output_paths()  # set paths dependent on os type\n",
    "\n",
    "\n",
    "    # ---------------------------------- Instance attributes ----------------------------------\n",
    "    def set_paths_for_darwin(self):\n",
    "        dev_excel_output_base_path = os.environ.get('DARWIN_DEV_EXCEL_PATH')\n",
    "        if dev_excel_output_base_path is None:\n",
    "            raise EnvironmentError(\"DARWIN_DEV_EXCEL_PATH environment variable is not set.\")\n",
    "            \n",
    "        self.excel_output_file_path = os.path.join(dev_excel_output_base_path, self.excel_file_name)\n",
    "        print(f'\\nUsing OS \"{self.os_type}\"...setting final Excel output filepath to: \"{self.excel_output_file_path}\"\\n')\n",
    "        \n",
    "        self.json_build_file_path = os.environ.get('DARWIN_DEV_JSON_BUILDS_PATH')\n",
    "        if self.json_build_file_path is None:\n",
    "            raise EnvironmentError(\"DARWIN_DEV_JSON_BUILDS_PATH environment variable is not set.\")\n",
    "            \n",
    "        print(f'Setting JSON CSV builds to: \"{self.json_build_file_path}\"\\n')\n",
    "    \n",
    "    \n",
    "    def set_paths_for_windows(self):\n",
    "        stage_excel_output_base_path = os.environ.get('WINDOWS_STAGE_EXCEL_PATH')\n",
    "        print(f'stage_excel_output_base_path: {stage_excel_output_base_path}')\n",
    "        if stage_excel_output_base_path is None:\n",
    "            raise EnvironmentError(\"WINDOWS_STAGE_EXCEL_PATH environment variable is not set.\")\n",
    "            \n",
    "        self.excel_output_file_path = os.path.join(stage_excel_output_base_path, self.excel_file_name)\n",
    "        \n",
    "        self.json_build_file_path = os.environ.get('WINDOWS_STAGE_JSON_BUILDS_PATH')\n",
    "        if self.json_build_file_path is None:\n",
    "            raise EnvironmentError(\"WINDOWS_STAGE_JSON_BUILDS_PATH environment variable is not set.\")\n",
    "            \n",
    "        print(f'Setting JSON CSV builds to: \"{self.json_build_file_path}\"\\n')\n",
    "    \n",
    "    \n",
    "    def set_output_paths(self):\n",
    "        try:\n",
    "            if self.os_type != 'Darwin':\n",
    "                print(f'Not using Mac OS. Defaulting to STAGE env variables for filepaths....\\n')\n",
    "                self.set_paths_for_windows()\n",
    "            else:\n",
    "                self.set_paths_for_darwin()\n",
    "    \n",
    "        except EnvironmentError as e:\n",
    "            print(f\"Error: {e}\")\n",
    "\n",
    "            \n",
    "\n",
    "    def switch_to_history_tab(self):\n",
    "        switched_to_history_tab = self.orders_page_driver.switch_to_history_tab()\n",
    "        if not switched_to_history_tab:\n",
    "            logging.error('Could not orders_page_driver.switch_to_history_tab')\n",
    "            return False\n",
    "        else:\n",
    "            logging.info('Successfully orders_page_driver.switch_to_history_tab')\n",
    "            return True\n",
    "\n",
    "    def set_date_filter_to_yesterday(self):\n",
    "        date_filter_set_to_yesterday = self.orders_page_driver.set_date_filter_to_yesterday()\n",
    "        if not date_filter_set_to_yesterday:\n",
    "            logging.error('Could not orders_page_driver.set_date_filter_to_yesterday')\n",
    "            return False\n",
    "        else:\n",
    "            logging.info('Successfully orders_page_driver.set_date_filter_to_yesterday')\n",
    "            return True\n",
    "\n",
    "    def switch_to_history_tab_and_set_date_filter_to_yesterday(self):\n",
    "        try:\n",
    "\n",
    "            switched_to_history_tab = self.switch_to_history_tab()\n",
    "            if not switched_to_history_tab:\n",
    "                logging.error(\n",
    "                    'Could not switch_to_history_tab in switch_to_history_tab_and_set_date_filter_to_yesterday')\n",
    "                return False, False\n",
    "\n",
    "            date_filter_set_to_yesterday = self.set_date_filter_to_yesterday()\n",
    "            if not date_filter_set_to_yesterday:\n",
    "                logging.error(\n",
    "                    'Could not set_date_filter_to_yesterday in switch_to_history_tab_and_set_date_filter_to_yesterday')\n",
    "                return True, False\n",
    "\n",
    "            if switched_to_history_tab and date_filter_set_to_yesterday:\n",
    "                logging.info(f'Successfully switched_to_history_tab and date_filter_set_to_yesterday')\n",
    "                return True, True\n",
    "\n",
    "        except Exception as e:\n",
    "            logging.exception(\n",
    "                f'An error occurred attempting to switch_to_history_tab_and_set_date_filter_to_yesterday {e}')\n",
    "            return False, False\n",
    "\n",
    "    def get_sheet_name(self, order_df):\n",
    "        try:\n",
    "            store_num = order_df[0]['Store Number']\n",
    "            sheet_name = f'#{store_num}'\n",
    "\n",
    "            if sheet_name == '#NaN':\n",
    "                logging.warning(\n",
    "                    f\"For OrderID: '{order_df[0]['Order']}' 'Store Number' could not be matched using Pick Up Location: '{order_df[0]['Pick Up Location']}'. Sheet name has been set to OrderID: '{order_df[0]['Order']}'.\")\n",
    "                sheet_name = order_df[0]['Order']\n",
    "            return sheet_name, True\n",
    "        except Exception as e:\n",
    "            logging.exception(f\"An error occurred while getting sheet name: {e}\")\n",
    "            return None, False\n",
    "\n",
    "    def get_orders(self):\n",
    "        try:\n",
    "            orders = self.orders_page_driver.get_orders()\n",
    "            if not orders:\n",
    "                logging.error('Could not scrape orders data')\n",
    "                return None\n",
    "            else:\n",
    "                return orders\n",
    "        except Exception as e:\n",
    "            logging.exception(f'An error occurred: {e}')\n",
    "            return None\n",
    "\n",
    "    def get_excel_output(self, orders_dfs):\n",
    "        try:\n",
    "            sheet_name_count = {}  # This dictionary will store the frequency of each sheet_name\n",
    "            with pd.ExcelWriter(self.excel_output_file_path, engine='xlsxwriter') as writer:\n",
    "                for idx, order_df in enumerate(orders_dfs):\n",
    "                    sheet_name, success = self.get_sheet_name(order_df)\n",
    "                    if not success:\n",
    "                        return False\n",
    "\n",
    "                    # Check if the sheet_name is already used\n",
    "                    if sheet_name in sheet_name_count:\n",
    "                        sheet_name_count[sheet_name] += 1  # Increment the frequency\n",
    "                        suffix = chr(96 + sheet_name_count[\n",
    "                            sheet_name])  # Convert frequency to alphabet (1 -> 'a', 2 -> 'b', ...)\n",
    "                        sheet_name = f\"{sheet_name}{suffix}\"  # Append suffix to sheet_name\n",
    "                    else:\n",
    "                        sheet_name_count[sheet_name] = 1  # This is the first occurrence of this sheet_name\n",
    "\n",
    "                    order_df.to_excel(writer, sheet_name, header=False, index=True)\n",
    "\n",
    "                    formatter = ExcelFormatter(writer, sheet_name, order_df)\n",
    "                    formatter.apply_sheet_formats()\n",
    "\n",
    "            return True\n",
    "        except Exception as e:\n",
    "            logging.exception(f\"An error occurred while generating Excel output: {e}\")\n",
    "            return False\n",
    "\n",
    "    def run_main(self):\n",
    "        self.setup()\n",
    "        if not self.switch_to_history_tab_and_set_date_filter_to_yesterday():\n",
    "            logging.error(\"Failed to initialize DoorDash Bot\")\n",
    "            return\n",
    "\n",
    "        raw_orders = self.get_raw_orders()\n",
    "        if raw_orders is None:\n",
    "            logging.error(\"Failed to fetch orders\")\n",
    "            return\n",
    "\n",
    "        orders_with_store_nums = self.merge_data(raw_orders)\n",
    "        orders_dfs = self.convert_to_dataframes(orders_with_store_nums)\n",
    "        print(f'\\n*****************************************\\n{orders_dfs}\\n*****************************************\\n')\n",
    "        excel_output = self.export_to_excel(orders_dfs)\n",
    "        if not excel_output:\n",
    "            logging.error(f'Orders spreadsheet could not be exported.')\n",
    "        else:\n",
    "            logging.info(f'Orders Spreadsheet has been saved to: {self.excel_output_file_path}\\nExiting....')\n",
    "            self.base_driver.teardown_driver()\n",
    "\n",
    "    def setup(self):\n",
    "        setup_logger()\n",
    "\n",
    "    def get_raw_orders(self):\n",
    "        return self.get_orders()\n",
    "\n",
    "    def merge_data(self, raw_orders):\n",
    "        orders_json = self.order_handler.get_prettified_and_mapped_orders(raw_orders, is_raw=True)\n",
    "        self.output_json(orders_json, 'orders_json.csv', 'Writing orders_json stdout...')\n",
    "\n",
    "        data_merger = DataMerger(orders_json)\n",
    "        return data_merger.add_store_numbers_to_orders()\n",
    "\n",
    "    def output_json(self, json_str, filepath, log_message):\n",
    "        output_filepath = os.path.join(self.json_build_file_path, filepath)\n",
    "        self.order_handler.json_str_to_file(json_str=json_str, output_filepath=output_filepath, log_message=log_message)\n",
    "\n",
    "    def convert_to_dataframes(self, orders_with_store_nums):\n",
    "        orders_json_with_store_nums = self.order_handler.get_prettified_and_mapped_orders(orders_with_store_nums, is_raw=False)\n",
    "        self.output_json(orders_json_with_store_nums, 'orders_json_with_store_nums.csv',\n",
    "                         'Writing orders_json with store_num to stdout...')\n",
    "\n",
    "        return self.order_handler.convert_flattened_orders_to_df(orders_with_store_nums)\n",
    "\n",
    "    def export_to_excel(self, orders_dfs):\n",
    "        excel_output = self.get_excel_output(orders_dfs)\n",
    "        return excel_output\n"
   ],
   "metadata": {
    "collapsed": false,
    "ExecuteTime": {
     "end_time": "2023-10-10T18:34:28.459909Z",
     "start_time": "2023-10-10T18:34:28.458132Z"
    }
   },
   "id": "5a9db5df031080c8"
  },
  {
   "cell_type": "code",
   "execution_count": 53,
   "outputs": [
    {
     "name": "stdout",
     "output_type": "stream",
     "text": [
      "Initializing BaseDriver...\n",
      "Using operating system: \"Darwin\".\n",
      "Constructing chromedriver instance using executable_path: \"/opt/homebrew/bin/chromedriver\"\n",
      "Not using Mac OS. Defaulting to STAGE env variables for filepaths....\n",
      "\n",
      "stage_excel_output_base_path: None\n",
      "Error: WINDOWS_STAGE_EXCEL_PATH environment variable is not set.\n"
     ]
    }
   ],
   "source": [
    "md = Main()\n",
    "md.set_output_paths()"
   ],
   "metadata": {
    "collapsed": false,
    "ExecuteTime": {
     "end_time": "2023-10-10T18:34:29.191320Z",
     "start_time": "2023-10-10T18:34:28.623843Z"
    }
   },
   "id": "e719643187e0520e"
  },
  {
   "cell_type": "code",
   "execution_count": 15,
   "outputs": [
    {
     "name": "stderr",
     "output_type": "stream",
     "text": [
      "Python-dotenv could not parse statement starting at line 3\n"
     ]
    },
    {
     "data": {
      "text/plain": "True"
     },
     "execution_count": 15,
     "metadata": {},
     "output_type": "execute_result"
    }
   ],
   "source": [
    "load_dotenv()"
   ],
   "metadata": {
    "collapsed": false,
    "ExecuteTime": {
     "end_time": "2023-10-10T17:58:35.541715Z",
     "start_time": "2023-10-10T17:58:35.535945Z"
    }
   },
   "id": "8862d5043239cdcb"
  },
  {
   "cell_type": "code",
   "execution_count": 81,
   "outputs": [
    {
     "name": "stderr",
     "output_type": "stream",
     "text": [
      "Python-dotenv could not parse statement starting at line 3\n"
     ]
    },
    {
     "data": {
      "text/plain": "True"
     },
     "execution_count": 81,
     "metadata": {},
     "output_type": "execute_result"
    }
   ],
   "source": [
    "load_dotenv()"
   ],
   "metadata": {
    "collapsed": false,
    "ExecuteTime": {
     "end_time": "2023-10-10T19:21:44.513700Z",
     "start_time": "2023-10-10T19:21:44.506066Z"
    }
   },
   "id": "c7761ac9122928ed"
  },
  {
   "cell_type": "code",
   "execution_count": 82,
   "outputs": [
    {
     "name": "stdout",
     "output_type": "stream",
     "text": [
      "/Users/ekim/workspace/txb/mock/g-drive/imports/ir/Door Dash/DD Daily Order Details/\n"
     ]
    }
   ],
   "source": [
    "test_path = os.environ.get('DARWIN_DEV_EXCEL_PATH')\n",
    "print(test_path)"
   ],
   "metadata": {
    "collapsed": false,
    "ExecuteTime": {
     "end_time": "2023-10-10T19:21:45.069625Z",
     "start_time": "2023-10-10T19:21:45.066602Z"
    }
   },
   "id": "675800b0b8f90f2f"
  },
  {
   "cell_type": "code",
   "execution_count": 83,
   "outputs": [
    {
     "name": "stdout",
     "output_type": "stream",
     "text": [
      "C:\\Users\\ekima\\workspace\\TXB\\mock\\g-drive\\imports\\ir\\Door Dash\\DD Daily Order Details\\\n"
     ]
    }
   ],
   "source": [
    "test_path2 = os.environ.get('WINDOWS_STAGE_EXCEL_PATH')\n",
    "print(test_path2)"
   ],
   "metadata": {
    "collapsed": false,
    "ExecuteTime": {
     "end_time": "2023-10-10T19:21:45.516491Z",
     "start_time": "2023-10-10T19:21:45.508792Z"
    }
   },
   "id": "26b5504bdd85cf1a"
  },
  {
   "cell_type": "code",
   "execution_count": 84,
   "outputs": [
    {
     "name": "stdout",
     "output_type": "stream",
     "text": [
      "G:\\\\Imports\\\\IR\\\\Door Dash\\\\DD Daily Order Details\\\\\n"
     ]
    }
   ],
   "source": [
    "test_path3 = os.environ.get('WINDOWS_PROD_EXCEL_PATH')\n",
    "print(test_path3)"
   ],
   "metadata": {
    "collapsed": false,
    "ExecuteTime": {
     "end_time": "2023-10-10T19:21:46.207758Z",
     "start_time": "2023-10-10T19:21:46.203695Z"
    }
   },
   "id": "acd9b107a3c19a47"
  },
  {
   "cell_type": "code",
   "execution_count": null,
   "outputs": [],
   "source": [],
   "metadata": {
    "collapsed": false
   },
   "id": "58127d36b6d69cf8"
  }
 ],
 "metadata": {
  "kernelspec": {
   "display_name": "Python 3",
   "language": "python",
   "name": "python3"
  },
  "language_info": {
   "codemirror_mode": {
    "name": "ipython",
    "version": 2
   },
   "file_extension": ".py",
   "mimetype": "text/x-python",
   "name": "python",
   "nbconvert_exporter": "python",
   "pygments_lexer": "ipython2",
   "version": "2.7.6"
  }
 },
 "nbformat": 4,
 "nbformat_minor": 5
}
