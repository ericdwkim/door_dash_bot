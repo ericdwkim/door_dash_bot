{
 "cells": [
  {
   "cell_type": "code",
   "execution_count": 11,
   "outputs": [],
   "source": [
    "import os\n",
    "import yaml\n",
    "import platform\n",
    "\n",
    "class PathHandler:\n",
    "    def __init__(self):\n",
    "        self.os_type = platform.system()  # 'Darwin' for MacOS, 'Windows' for Windows\n",
    "\n",
    "        if self.os_type == 'Darwin':\n",
    "            self.env_type = 'dev'\n",
    "        else:\n",
    "            self.env_type = os.environ.get('ENV_TYPE', 'stage')  # default to 'stage'\n",
    "\n",
    "        # Load from config.yaml\n",
    "        with open('config.yaml', 'r') as f:\n",
    "            self.config = yaml.safe_load(f)[self.env_type]\n",
    "\n",
    "    def set_output_paths(self):\n",
    "        home_dir = self.config['home_dir'].format(username=self.config['username'])\n",
    "        excel_tail_dir = self.config['excel_tail_dir'].format(drive=self.config['drive'])\n",
    "        json_build_tail_dir = self.config['json_build_tail_dir']\n",
    "\n",
    "        self.excel_output_file_path = os.path.join(home_dir, excel_tail_dir)\n",
    "        self.json_build_file_path = os.path.join(home_dir, json_build_tail_dir)\n",
    "        \n",
    "# if __name__ == '__main__':\n",
    "#     parser = argparse.ArgumentParser(description='Set environment type.')\n",
    "#     parser.add_argument('--env', type=str, default='dev',\n",
    "#                         help='an environment type (default: dev)')\n",
    "#     args = parser.parse_args()\n",
    "#     self.env_type = args.env\n"
   ],
   "metadata": {
    "collapsed": false,
    "ExecuteTime": {
     "end_time": "2023-10-10T23:20:20.291419Z",
     "start_time": "2023-10-10T23:20:20.287478Z"
    }
   },
   "id": "aa13a1c2831a4971"
  },
  {
   "cell_type": "code",
   "execution_count": 12,
   "outputs": [
    {
     "ename": "FileNotFoundError",
     "evalue": "[Errno 2] No such file or directory: 'config.yaml'",
     "output_type": "error",
     "traceback": [
      "\u001B[0;31m---------------------------------------------------------------------------\u001B[0m",
      "\u001B[0;31mFileNotFoundError\u001B[0m                         Traceback (most recent call last)",
      "Cell \u001B[0;32mIn[12], line 1\u001B[0m\n\u001B[0;32m----> 1\u001B[0m ph \u001B[38;5;241m=\u001B[39m \u001B[43mPathHandler\u001B[49m\u001B[43m(\u001B[49m\u001B[43m)\u001B[49m\n",
      "Cell \u001B[0;32mIn[11], line 15\u001B[0m, in \u001B[0;36mPathHandler.__init__\u001B[0;34m(self)\u001B[0m\n\u001B[1;32m     12\u001B[0m     \u001B[38;5;28mself\u001B[39m\u001B[38;5;241m.\u001B[39menv_type \u001B[38;5;241m=\u001B[39m os\u001B[38;5;241m.\u001B[39menviron\u001B[38;5;241m.\u001B[39mget(\u001B[38;5;124m'\u001B[39m\u001B[38;5;124mENV_TYPE\u001B[39m\u001B[38;5;124m'\u001B[39m, \u001B[38;5;124m'\u001B[39m\u001B[38;5;124mstage\u001B[39m\u001B[38;5;124m'\u001B[39m)  \u001B[38;5;66;03m# default to 'stage'\u001B[39;00m\n\u001B[1;32m     14\u001B[0m \u001B[38;5;66;03m# Load from config.yaml\u001B[39;00m\n\u001B[0;32m---> 15\u001B[0m \u001B[38;5;28;01mwith\u001B[39;00m \u001B[38;5;28;43mopen\u001B[39;49m\u001B[43m(\u001B[49m\u001B[38;5;124;43m'\u001B[39;49m\u001B[38;5;124;43mconfig.yaml\u001B[39;49m\u001B[38;5;124;43m'\u001B[39;49m\u001B[43m,\u001B[49m\u001B[43m \u001B[49m\u001B[38;5;124;43m'\u001B[39;49m\u001B[38;5;124;43mr\u001B[39;49m\u001B[38;5;124;43m'\u001B[39;49m\u001B[43m)\u001B[49m \u001B[38;5;28;01mas\u001B[39;00m f:\n\u001B[1;32m     16\u001B[0m     \u001B[38;5;28mself\u001B[39m\u001B[38;5;241m.\u001B[39mconfig \u001B[38;5;241m=\u001B[39m yaml\u001B[38;5;241m.\u001B[39msafe_load(f)[\u001B[38;5;28mself\u001B[39m\u001B[38;5;241m.\u001B[39menv_type]\n",
      "File \u001B[0;32m~/opt/anaconda3/envs/bots/lib/python3.10/site-packages/IPython/core/interactiveshell.py:284\u001B[0m, in \u001B[0;36m_modified_open\u001B[0;34m(file, *args, **kwargs)\u001B[0m\n\u001B[1;32m    277\u001B[0m \u001B[38;5;28;01mif\u001B[39;00m file \u001B[38;5;129;01min\u001B[39;00m {\u001B[38;5;241m0\u001B[39m, \u001B[38;5;241m1\u001B[39m, \u001B[38;5;241m2\u001B[39m}:\n\u001B[1;32m    278\u001B[0m     \u001B[38;5;28;01mraise\u001B[39;00m \u001B[38;5;167;01mValueError\u001B[39;00m(\n\u001B[1;32m    279\u001B[0m         \u001B[38;5;124mf\u001B[39m\u001B[38;5;124m\"\u001B[39m\u001B[38;5;124mIPython won\u001B[39m\u001B[38;5;124m'\u001B[39m\u001B[38;5;124mt let you open fd=\u001B[39m\u001B[38;5;132;01m{\u001B[39;00mfile\u001B[38;5;132;01m}\u001B[39;00m\u001B[38;5;124m by default \u001B[39m\u001B[38;5;124m\"\u001B[39m\n\u001B[1;32m    280\u001B[0m         \u001B[38;5;124m\"\u001B[39m\u001B[38;5;124mas it is likely to crash IPython. If you know what you are doing, \u001B[39m\u001B[38;5;124m\"\u001B[39m\n\u001B[1;32m    281\u001B[0m         \u001B[38;5;124m\"\u001B[39m\u001B[38;5;124myou can use builtins\u001B[39m\u001B[38;5;124m'\u001B[39m\u001B[38;5;124m open.\u001B[39m\u001B[38;5;124m\"\u001B[39m\n\u001B[1;32m    282\u001B[0m     )\n\u001B[0;32m--> 284\u001B[0m \u001B[38;5;28;01mreturn\u001B[39;00m \u001B[43mio_open\u001B[49m\u001B[43m(\u001B[49m\u001B[43mfile\u001B[49m\u001B[43m,\u001B[49m\u001B[43m \u001B[49m\u001B[38;5;241;43m*\u001B[39;49m\u001B[43margs\u001B[49m\u001B[43m,\u001B[49m\u001B[43m \u001B[49m\u001B[38;5;241;43m*\u001B[39;49m\u001B[38;5;241;43m*\u001B[39;49m\u001B[43mkwargs\u001B[49m\u001B[43m)\u001B[49m\n",
      "\u001B[0;31mFileNotFoundError\u001B[0m: [Errno 2] No such file or directory: 'config.yaml'"
     ]
    }
   ],
   "source": [
    "ph = PathHandler()"
   ],
   "metadata": {
    "collapsed": false,
    "ExecuteTime": {
     "end_time": "2023-10-10T23:20:22.305829Z",
     "start_time": "2023-10-10T23:20:22.279120Z"
    }
   },
   "id": "1448a303aabc38c"
  },
  {
   "cell_type": "code",
   "execution_count": 21,
   "outputs": [
    {
     "name": "stdout",
     "output_type": "stream",
     "text": [
      "{'home_dir': '/Users/{username}/workspace/', 'username': 'ekim', 'excel_tail_dir': 'txb/mock/g-drive/Imports/IR/Door Dash/DD Daily Order Details/', 'workspace_type_json': 'personal', 'json_build_tail_dir': 'dd-bot/dev/build'}\n"
     ]
    }
   ],
   "source": [
    "with open('/Users/ekim/workspace/personal/dd-bot/src/app/config.yaml', 'r') as f:\n",
    "    config = yaml.safe_load(f)['dev']\n",
    "    print(config)"
   ],
   "metadata": {
    "collapsed": false,
    "ExecuteTime": {
     "end_time": "2023-10-10T23:27:27.067162Z",
     "start_time": "2023-10-10T23:27:27.042720Z"
    }
   },
   "id": "254086297c8c54b7"
  },
  {
   "cell_type": "code",
   "execution_count": 17,
   "outputs": [
    {
     "name": "stdout",
     "output_type": "stream",
     "text": [
      "/Users/ekim/workspace/personal/dd-bot\n"
     ]
    }
   ],
   "source": [
    "print(os.getcwd())"
   ],
   "metadata": {
    "collapsed": false,
    "ExecuteTime": {
     "end_time": "2023-10-10T23:26:21.953513Z",
     "start_time": "2023-10-10T23:26:21.938857Z"
    }
   },
   "id": "fb4113fcfadb456a"
  },
  {
   "cell_type": "code",
   "execution_count": null,
   "outputs": [],
   "source": [],
   "metadata": {
    "collapsed": false
   },
   "id": "613c32eb3ee6d10a"
  }
 ],
 "metadata": {
  "kernelspec": {
   "display_name": "Python 3",
   "language": "python",
   "name": "python3"
  },
  "language_info": {
   "codemirror_mode": {
    "name": "ipython",
    "version": 2
   },
   "file_extension": ".py",
   "mimetype": "text/x-python",
   "name": "python",
   "nbconvert_exporter": "python",
   "pygments_lexer": "ipython2",
   "version": "2.7.6"
  }
 },
 "nbformat": 4,
 "nbformat_minor": 5
}
