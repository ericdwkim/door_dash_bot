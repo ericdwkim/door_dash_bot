{
 "cells": [
  {
   "cell_type": "code",
   "execution_count": 2,
   "id": "initial_id",
   "metadata": {
    "collapsed": true,
    "ExecuteTime": {
     "end_time": "2023-10-10T21:34:31.394718Z",
     "start_time": "2023-10-10T21:34:31.382068Z"
    }
   },
   "outputs": [
    {
     "data": {
      "text/plain": "True"
     },
     "execution_count": 2,
     "metadata": {},
     "output_type": "execute_result"
    }
   ],
   "source": [
    "import os\n",
    "from dotenv import load_dotenv\n",
    "load_dotenv()"
   ]
  },
  {
   "cell_type": "code",
   "execution_count": 3,
   "outputs": [],
   "source": [
    "    # def set_paths_for_darwin(self):\n",
    "    #     dev_excel_output_base_path = os.environ.get('DARWIN_DEV_EXCEL_PATH')\n",
    "    #     print(f'Using basepath: {dev_excel_output_base_path}')\n",
    "    #     if dev_excel_output_base_path is None:\n",
    "    #         raise EnvironmentError(\"DARWIN_DEV_EXCEL_PATH environment variable is not set.\")\n",
    "    #         \n",
    "    #     self.excel_output_file_path = os.path.join(dev_excel_output_base_path, self.excel_file_name)\n",
    "    #     print(f\"repr(self.excel_output_file_path is {repr(self.excel_output_file_path)}\\n\")\n",
    "    #     print(f'\\nUsing OS \"{self.os_type}\"\\nSetting final Excel output filepath to: \"{self.excel_output_file_path}\"\\n')\n",
    "    #     \n",
    "    #     self.json_build_file_path = os.environ.get('DARWIN_DEV_JSON_BUILDS_PATH')\n",
    "    #     if self.json_build_file_path is None:\n",
    "    #         raise EnvironmentError(\"DARWIN_DEV_JSON_BUILDS_PATH environment variable is not set.\")\n",
    "    #         \n",
    "    #     print(f'Setting JSON CSV builds to: \"{self.json_build_file_path}\"\\n')\n",
    "    # \n",
    "    # \n",
    "    # def set_paths_for_windows(self):\n",
    "    #     stage_excel_output_base_path = os.environ.get('WINDOWS_STAGE_EXCEL_PATH')\n",
    "    #     print(f'Using basepath: {stage_excel_output_base_path}')\n",
    "    #     if stage_excel_output_base_path is None:\n",
    "    #         raise EnvironmentError(\"WINDOWS_STAGE_EXCEL_PATH environment variable is not set.\")\n",
    "    #         \n",
    "    #     # self.excel_output_file_path = os.path.join(stage_excel_output_base_path, self.excel_file_name)\n",
    "    #     self.excel_output_file_path =  os.path.normpath(stage_excel_output_base_path, self.excel_file_name)\n",
    "    #     print(f\"repr(self.excel_output_file_path is {repr(self.excel_output_file_path)}\\n\")\n",
    "    # \n",
    "    #     print(f'\\nUsing OS: \"{self.os_type}\"\\nSetting final Excel output filepath to: \"{self.excel_output_file_path}\"\\n')\n",
    "    #     \n",
    "    #     self.json_build_file_path = os.environ.get('WINDOWS_STAGE_JSON_BUILDS_PATH')\n",
    "    #     if self.json_build_file_path is None:\n",
    "    #         raise EnvironmentError(\"WINDOWS_STAGE_JSON_BUILDS_PATH environment variable is not set.\")\n",
    "    #         \n",
    "    #     print(f'Setting JSON CSV builds to: \"{self.json_build_file_path}\"\\n')\n",
    "    # \n",
    "    # \n",
    "    # def set_output_paths(self):\n",
    "    #     try:\n",
    "    #         if self.os_type != 'Darwin':\n",
    "    #             print(f'Not using Mac OS. Defaulting to STAGE env variables for filepaths....\\n')\n",
    "    #             self.set_paths_for_windows()\n",
    "    #         else:\n",
    "    #             self.set_paths_for_darwin()\n",
    "    # \n",
    "    #     except EnvironmentError as e:\n",
    "    #         print(f\"Error: {e}\")\n",
    "    # \n",
    "    #     "
   ],
   "metadata": {
    "collapsed": false,
    "ExecuteTime": {
     "end_time": "2023-10-10T21:34:34.782441Z",
     "start_time": "2023-10-10T21:34:34.778706Z"
    }
   },
   "id": "6cc0c504bb01daa8"
  },
  {
   "cell_type": "code",
   "execution_count": 8,
   "outputs": [
    {
     "name": "stdout",
     "output_type": "stream",
     "text": [
      "/Users/ekim/workspace/txb/mock/g-drive/imports/ir/Door Dash/DD Daily Order Details/\n"
     ]
    }
   ],
   "source": [
    "DARWIN_DEV_EXCEL_OUTPUT_BASE_PATH = os.environ.get('DARWIN_DEV_EXCEL_OUTPUT_BASE_PATH')\n",
    "print(DARWIN_DEV_EXCEL_OUTPUT_BASE_PATH)"
   ],
   "metadata": {
    "collapsed": false,
    "ExecuteTime": {
     "end_time": "2023-10-10T21:35:38.119514Z",
     "start_time": "2023-10-10T21:35:38.114435Z"
    }
   },
   "id": "ab9026a621497cf0"
  },
  {
   "cell_type": "code",
   "execution_count": 9,
   "outputs": [],
   "source": [
    "asdf =  os.path.normpath(DARWIN_DEV_EXCEL_OUTPUT_BASE_PATH)"
   ],
   "metadata": {
    "collapsed": false,
    "ExecuteTime": {
     "end_time": "2023-10-10T21:36:03.159011Z",
     "start_time": "2023-10-10T21:36:03.152543Z"
    }
   },
   "id": "421c21c0b3cde171"
  },
  {
   "cell_type": "code",
   "execution_count": 10,
   "outputs": [
    {
     "data": {
      "text/plain": "'/Users/ekim/workspace/txb/mock/g-drive/imports/ir/Door Dash/DD Daily Order Details'"
     },
     "execution_count": 10,
     "metadata": {},
     "output_type": "execute_result"
    }
   ],
   "source": [
    "asdf"
   ],
   "metadata": {
    "collapsed": false,
    "ExecuteTime": {
     "end_time": "2023-10-10T21:36:05.287337Z",
     "start_time": "2023-10-10T21:36:05.277093Z"
    }
   },
   "id": "a5c9f3bc9cfd30de"
  },
  {
   "cell_type": "code",
   "execution_count": null,
   "outputs": [],
   "source": [],
   "metadata": {
    "collapsed": false
   },
   "id": "24bd0ce30868d3e7"
  }
 ],
 "metadata": {
  "kernelspec": {
   "display_name": "Python 3",
   "language": "python",
   "name": "python3"
  },
  "language_info": {
   "codemirror_mode": {
    "name": "ipython",
    "version": 2
   },
   "file_extension": ".py",
   "mimetype": "text/x-python",
   "name": "python",
   "nbconvert_exporter": "python",
   "pygments_lexer": "ipython2",
   "version": "2.7.6"
  }
 },
 "nbformat": 4,
 "nbformat_minor": 5
}
